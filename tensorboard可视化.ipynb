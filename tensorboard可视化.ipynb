{
  "nbformat": 4,
  "nbformat_minor": 0,
  "metadata": {
    "colab": {
      "name": "tensorboard可视化",
      "provenance": [],
      "collapsed_sections": [],
      "machine_shape": "hm",
      "authorship_tag": "ABX9TyMmEIgO4olveS4h9kCjRbFV",
      "include_colab_link": true
    },
    "kernelspec": {
      "name": "python3",
      "display_name": "Python 3"
    },
    "accelerator": "GPU"
  },
  "cells": [
    {
      "cell_type": "markdown",
      "metadata": {
        "id": "view-in-github",
        "colab_type": "text"
      },
      "source": [
        "<a href=\"https://colab.research.google.com/github/sunyingjian/study-tensorflow/blob/master/tensorboard%E5%8F%AF%E8%A7%86%E5%8C%96.ipynb\" target=\"_parent\"><img src=\"https://colab.research.google.com/assets/colab-badge.svg\" alt=\"Open In Colab\"/></a>"
      ]
    },
    {
      "cell_type": "code",
      "metadata": {
        "id": "pW-pozZ_Jd1_",
        "colab_type": "code",
        "outputId": "f7ea1d27-fc95-401d-921a-d4eb2c04086d",
        "colab": {
          "base_uri": "https://localhost:8080/",
          "height": 35
        }
      },
      "source": [
        "#标准开场,引入tf2.0\n",
        "%tensorflow_version 2.x\n",
        "import tensorflow as tf\n",
        "print('tensorflow:',format(tf.__version__))\n",
        "import numpy as np\n",
        "from tensorflow import keras\n",
        "import glob\n",
        "from tensorflow.keras import layers\n",
        "import matplotlib.pyplot as plt\n",
        "%matplotlib inline"
      ],
      "execution_count": 1,
      "outputs": [
        {
          "output_type": "stream",
          "text": [
            "tensorflow: 2.2.0-rc2\n"
          ],
          "name": "stdout"
        }
      ]
    },
    {
      "cell_type": "code",
      "metadata": {
        "id": "KFGUtVggHVQ1",
        "colab_type": "code",
        "colab": {}
      },
      "source": [
        "import datetime"
      ],
      "execution_count": 0,
      "outputs": []
    },
    {
      "cell_type": "code",
      "metadata": {
        "id": "7ej_tgvzeGiS",
        "colab_type": "code",
        "colab": {}
      },
      "source": [
        "#引入minist数据集\n",
        "(train_image,train_label),(test_image,test_label)=tf.keras.datasets.mnist.load_data()"
      ],
      "execution_count": 0,
      "outputs": []
    },
    {
      "cell_type": "code",
      "metadata": {
        "id": "UeooLI63eah1",
        "colab_type": "code",
        "outputId": "dd03918e-b078-4640-d1af-6ac85a171b3d",
        "colab": {
          "base_uri": "https://localhost:8080/",
          "height": 35
        }
      },
      "source": [
        "#给图像增加维度\n",
        "train_image=tf.expand_dims(train_image,-1)\n",
        "train_image.shape"
      ],
      "execution_count": 4,
      "outputs": [
        {
          "output_type": "execute_result",
          "data": {
            "text/plain": [
              "TensorShape([60000, 28, 28, 1])"
            ]
          },
          "metadata": {
            "tags": []
          },
          "execution_count": 4
        }
      ]
    },
    {
      "cell_type": "code",
      "metadata": {
        "id": "Ghb6l3hpfR5p",
        "colab_type": "code",
        "colab": {}
      },
      "source": [
        "#test图像增加维度\n",
        "test_image=tf.expand_dims(test_image,-1)"
      ],
      "execution_count": 0,
      "outputs": []
    },
    {
      "cell_type": "code",
      "metadata": {
        "id": "8XAo-r-FNz7t",
        "colab_type": "code",
        "colab": {}
      },
      "source": [
        "#预处理，改变数据类型\n",
        "train_image=tf.cast(train_image/255,tf.float32)\n",
        "test_image=tf.cast(test_image/255,tf.float32)"
      ],
      "execution_count": 0,
      "outputs": []
    },
    {
      "cell_type": "code",
      "metadata": {
        "id": "KnGU8AJoPL74",
        "colab_type": "code",
        "colab": {}
      },
      "source": [
        "#预处理，转换label的数据类型\n",
        "train_label=tf.cast(train_label,tf.int64)\n",
        "test_label=tf.cast(test_label,tf.int64)"
      ],
      "execution_count": 0,
      "outputs": []
    },
    {
      "cell_type": "code",
      "metadata": {
        "id": "Nn56FKlEexgv",
        "colab_type": "code",
        "colab": {}
      },
      "source": [
        "#把它作为tf.data加载进来,建立dataset\n",
        "dataset=tf.data.Dataset.from_tensor_slices((train_image,train_label))"
      ],
      "execution_count": 0,
      "outputs": []
    },
    {
      "cell_type": "code",
      "metadata": {
        "id": "0IyLgIH7P2Ro",
        "colab_type": "code",
        "outputId": "4d9d0016-0016-404e-a10a-90679f3d50c3",
        "colab": {
          "base_uri": "https://localhost:8080/",
          "height": 35
        }
      },
      "source": [
        "dataset"
      ],
      "execution_count": 9,
      "outputs": [
        {
          "output_type": "execute_result",
          "data": {
            "text/plain": [
              "<TensorSliceDataset shapes: ((28, 28, 1), ()), types: (tf.float32, tf.int64)>"
            ]
          },
          "metadata": {
            "tags": []
          },
          "execution_count": 9
        }
      ]
    },
    {
      "cell_type": "code",
      "metadata": {
        "id": "IWCIbKsdf9Cr",
        "colab_type": "code",
        "colab": {}
      },
      "source": [
        "test_dataset=tf.data.Dataset.from_tensor_slices((test_image,test_label))"
      ],
      "execution_count": 0,
      "outputs": []
    },
    {
      "cell_type": "code",
      "metadata": {
        "id": "St8fuVmyRHmF",
        "colab_type": "code",
        "colab": {}
      },
      "source": [
        "#对数据进行乱序，这里对10000个数据进行乱序混淆\n",
        "#批次的大小,用batch\n",
        "dataset=dataset.repeat().shuffle(10000).batch(32)\n",
        "#这里没有设置repeat\n",
        "test_dataset=test_dataset.batch(32)"
      ],
      "execution_count": 0,
      "outputs": []
    },
    {
      "cell_type": "code",
      "metadata": {
        "id": "pjsCuyt2R5bO",
        "colab_type": "code",
        "colab": {}
      },
      "source": [
        "#建立模型，进行自定义训练,把整个网络写在list里\n",
        "#这里input_shape如何让添加任意形状的图片呢，我们可以这样写参数(none,none,1)\n",
        "model=tf.keras.Sequential([tf.keras.layers.Conv2D(16,[3,3],activation='relu',input_shape=(28,28,1)),\n",
        "                           tf.keras.layers.Conv2D(32,[3,3],activation='relu'),\n",
        "                           tf.keras.layers.GlobalAveragePooling2D(),\n",
        "                           tf.keras.layers.Dense(10)\n",
        "                           ])\n",
        "#这里最后一层我没有写激活函数所以我们再后面的lossfunction里有写from_logitc=ture"
      ],
      "execution_count": 0,
      "outputs": []
    },
    {
      "cell_type": "code",
      "metadata": {
        "id": "E0HznOzPAFEh",
        "colab_type": "code",
        "colab": {}
      },
      "source": [
        "model.compile(optimizer='adam',\n",
        "              loss='sparse_categorical_crossentropy',\n",
        "              metrics=['accuracy'])"
      ],
      "execution_count": 0,
      "outputs": []
    },
    {
      "cell_type": "markdown",
      "metadata": {
        "id": "F2DGGMl3A35U",
        "colab_type": "text"
      },
      "source": [
        "##调用tensorboard"
      ]
    },
    {
      "cell_type": "markdown",
      "metadata": {
        "id": "qH--Wve1CvNu",
        "colab_type": "text"
      },
      "source": [
        "###区分不同时间所记录的tensorboard的记录值"
      ]
    },
    {
      "cell_type": "code",
      "metadata": {
        "id": "XZ5scgD-C-K_",
        "colab_type": "code",
        "colab": {}
      },
      "source": [
        "import os\n",
        "log_dir=os.path.join('logs',datetime.datetime.now().strftime('%Y%m%d-%H%M%S'))\n",
        "#为了实现对不同时间的log文件的记录"
      ],
      "execution_count": 0,
      "outputs": []
    },
    {
      "cell_type": "code",
      "metadata": {
        "id": "CltYCP1CA3pE",
        "colab_type": "code",
        "colab": {}
      },
      "source": [
        "tensorboard_callback=tf.keras.callbacks.TensorBoard(log_dir,\n",
        "                                                    histogram_freq=1)"
      ],
      "execution_count": 0,
      "outputs": []
    },
    {
      "cell_type": "markdown",
      "metadata": {
        "id": "LvttkpbHDvXs",
        "colab_type": "text"
      },
      "source": [
        "###使用回调函数"
      ]
    },
    {
      "cell_type": "code",
      "metadata": {
        "id": "_q6vwf9ADun-",
        "colab_type": "code",
        "colab": {
          "base_uri": "https://localhost:8080/",
          "height": 207
        },
        "outputId": "7d8e8bc8-e436-4dd9-b60b-bcfbed426ccd"
      },
      "source": [
        "model.fit(dataset,\n",
        "          epochs=5,\n",
        "          steps_per_epoch=60000//128,\n",
        "          validation_data=test_dataset,\n",
        "          validation_steps=10000//128,\n",
        "          callbacks=[tensorboard_callback])"
      ],
      "execution_count": 27,
      "outputs": [
        {
          "output_type": "stream",
          "text": [
            "Epoch 1/5\n",
            "468/468 [==============================] - 2s 4ms/step - loss: 2.3026 - accuracy: 0.0903 - val_loss: 2.3026 - val_accuracy: 0.0990\n",
            "Epoch 2/5\n",
            "468/468 [==============================] - 2s 4ms/step - loss: 2.3026 - accuracy: 0.0931 - val_loss: 2.3026 - val_accuracy: 0.0990\n",
            "Epoch 3/5\n",
            "468/468 [==============================] - 2s 4ms/step - loss: 2.3026 - accuracy: 0.0929 - val_loss: 2.3026 - val_accuracy: 0.0990\n",
            "Epoch 4/5\n",
            "468/468 [==============================] - 2s 4ms/step - loss: 2.3026 - accuracy: 0.0966 - val_loss: 2.3026 - val_accuracy: 0.0990\n",
            "Epoch 5/5\n",
            "468/468 [==============================] - 2s 4ms/step - loss: 2.3026 - accuracy: 0.0945 - val_loss: 2.3026 - val_accuracy: 0.0990\n"
          ],
          "name": "stdout"
        },
        {
          "output_type": "execute_result",
          "data": {
            "text/plain": [
              "<tensorflow.python.keras.callbacks.History at 0x7fd9e039fc88>"
            ]
          },
          "metadata": {
            "tags": []
          },
          "execution_count": 27
        }
      ]
    }
  ]
}