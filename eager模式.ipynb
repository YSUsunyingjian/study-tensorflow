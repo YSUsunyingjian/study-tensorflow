{
  "nbformat": 4,
  "nbformat_minor": 0,
  "metadata": {
    "colab": {
      "name": "eager模式.ipynb",
      "provenance": [],
      "authorship_tag": "ABX9TyOMh/Aim0KyDPVwW0gauT3U",
      "include_colab_link": true
    },
    "kernelspec": {
      "name": "python3",
      "display_name": "Python 3"
    },
    "accelerator": "GPU"
  },
  "cells": [
    {
      "cell_type": "markdown",
      "metadata": {
        "id": "view-in-github",
        "colab_type": "text"
      },
      "source": [
        "<a href=\"https://colab.research.google.com/github/sunyingjian/study-tensorflow/blob/master/eager%E6%A8%A1%E5%BC%8F.ipynb\" target=\"_parent\"><img src=\"https://colab.research.google.com/assets/colab-badge.svg\" alt=\"Open In Colab\"/></a>"
      ]
    },
    {
      "cell_type": "code",
      "metadata": {
        "id": "C0h1eAxF2s5D",
        "colab_type": "code",
        "outputId": "6101d969-bba1-4263-fb19-e13d705d4cda",
        "colab": {
          "base_uri": "https://localhost:8080/",
          "height": 52
        }
      },
      "source": [
        "#引入Google drive文件\n",
        "import os\n",
        "from google.colab import drive\n",
        "drive.mount('/content/drive')\n",
        "path = \"/content/drive/My Drive/dataset\"\n",
        "os.chdir(path)\n",
        "os.listdir(path)"
      ],
      "execution_count": 12,
      "outputs": [
        {
          "output_type": "stream",
          "text": [
            "Drive already mounted at /content/drive; to attempt to forcibly remount, call drive.mount(\"/content/drive\", force_remount=True).\n"
          ],
          "name": "stdout"
        },
        {
          "output_type": "execute_result",
          "data": {
            "text/plain": [
              "['2_class', 'dc_2000']"
            ]
          },
          "metadata": {
            "tags": []
          },
          "execution_count": 12
        }
      ]
    },
    {
      "cell_type": "code",
      "metadata": {
        "id": "_6idziTR00kB",
        "colab_type": "code",
        "outputId": "eb4b7cd3-186f-4749-cdbd-895fde6a1a0a",
        "colab": {
          "base_uri": "https://localhost:8080/",
          "height": 52
        }
      },
      "source": [
        "#标准开场\n",
        "%tensorflow_version 2.x\n",
        "import tensorflow as tf\n",
        "print('tensorflow:',format(tf.__version__))\n",
        "tf.config.list_physical_devices('GPU')\n",
        "tf.test.is_gpu_available()\n",
        "import numpy as np\n",
        "from tensorflow import keras\n",
        "import glob\n",
        "from tensorflow.keras import layers\n",
        "import matplotlib.pyplot as plt\n",
        "%matplotlib inline\n",
        "tf.executing_eagerly()#判断是否处于eager模式"
      ],
      "execution_count": 13,
      "outputs": [
        {
          "output_type": "stream",
          "text": [
            "tensorflow: 2.1.0\n"
          ],
          "name": "stdout"
        },
        {
          "output_type": "execute_result",
          "data": {
            "text/plain": [
              "True"
            ]
          },
          "metadata": {
            "tags": []
          },
          "execution_count": 13
        }
      ]
    },
    {
      "cell_type": "code",
      "metadata": {
        "id": "8Ci2WeTG1TPz",
        "colab_type": "code",
        "outputId": "b1811092-c517-4ed7-e32a-15a2b862e1fc",
        "colab": {
          "base_uri": "https://localhost:8080/",
          "height": 52
        }
      },
      "source": [
        "#这里定义了一个x的向量\n",
        "#我们用numpy中矩阵乘法运算\n",
        "x=[[2,]]\n",
        "m=tf.matmul(x,x)\n",
        "print(m)\n",
        "m.numpy()"
      ],
      "execution_count": 14,
      "outputs": [
        {
          "output_type": "stream",
          "text": [
            "tf.Tensor([[4]], shape=(1, 1), dtype=int32)\n"
          ],
          "name": "stdout"
        },
        {
          "output_type": "execute_result",
          "data": {
            "text/plain": [
              "array([[4]], dtype=int32)"
            ]
          },
          "metadata": {
            "tags": []
          },
          "execution_count": 14
        }
      ]
    },
    {
      "cell_type": "code",
      "metadata": {
        "id": "8tf9JroS2f8o",
        "colab_type": "code",
        "outputId": "82d5e862-b353-47c6-a463-1db3c52919f9",
        "colab": {
          "base_uri": "https://localhost:8080/",
          "height": 190
        }
      },
      "source": [
        "#用python控制流实现tf运算\n",
        "num=tf.convert_to_tensor(10)\n",
        "#上面就是把一个值转换成一个向量对象\n",
        "num\n",
        "#输出这些值\n",
        "#这样的化下面输出的就是num中的对应的numpy的值\n",
        "for i in range(num.numpy()):\n",
        "  i=tf.constant(i)\n",
        "  if int(i%2)==0:\n",
        "#这里直接转换成了python对象\n",
        "    print('偶数')\n",
        "  else:\n",
        "    print('奇数')"
      ],
      "execution_count": 15,
      "outputs": [
        {
          "output_type": "stream",
          "text": [
            "偶数\n",
            "奇数\n",
            "偶数\n",
            "奇数\n",
            "偶数\n",
            "奇数\n",
            "偶数\n",
            "奇数\n",
            "偶数\n",
            "奇数\n"
          ],
          "name": "stdout"
        }
      ]
    },
    {
      "cell_type": "code",
      "metadata": {
        "id": "Lky6FLf04iqG",
        "colab_type": "code",
        "outputId": "7797e336-abd6-4eef-9385-ba0d8358f5ff",
        "colab": {
          "base_uri": "https://localhost:8080/",
          "height": 35
        }
      },
      "source": [
        "#测试numpy中array\n",
        "d=np.array([[5,6],[7,8]])\n",
        "d\n",
        "g=tf.convert_to_tensor(10)\n",
        "g\n",
        "g.numpy()"
      ],
      "execution_count": 16,
      "outputs": [
        {
          "output_type": "execute_result",
          "data": {
            "text/plain": [
              "10"
            ]
          },
          "metadata": {
            "tags": []
          },
          "execution_count": 16
        }
      ]
    },
    {
      "cell_type": "code",
      "metadata": {
        "id": "bUB-ooVO0caz",
        "colab_type": "code",
        "colab": {
          "base_uri": "https://localhost:8080/",
          "height": 35
        },
        "outputId": "e62dc314-87a0-454f-de84-62614b0a4fd5"
      },
      "source": [
        "#创建变量\n",
        "v=tf.Variable(0.0)\n",
        "v=v+1\n",
        "v.numpy()"
      ],
      "execution_count": 17,
      "outputs": [
        {
          "output_type": "execute_result",
          "data": {
            "text/plain": [
              "1.0"
            ]
          },
          "metadata": {
            "tags": []
          },
          "execution_count": 17
        }
      ]
    },
    {
      "cell_type": "code",
      "metadata": {
        "id": "twybK-iC1VDl",
        "colab_type": "code",
        "colab": {
          "base_uri": "https://localhost:8080/",
          "height": 35
        },
        "outputId": "d9a6507f-60fc-4665-f9ee-1ff7dc64f6fd"
      },
      "source": [
        "v.shape"
      ],
      "execution_count": 18,
      "outputs": [
        {
          "output_type": "execute_result",
          "data": {
            "text/plain": [
              "TensorShape([])"
            ]
          },
          "metadata": {
            "tags": []
          },
          "execution_count": 18
        }
      ]
    },
    {
      "cell_type": "code",
      "metadata": {
        "id": "cC6Qp8GYDNHk",
        "colab_type": "code",
        "colab": {}
      },
      "source": [
        "w=tf.Variable([[1.0]])\n",
        "with tf.GradientTape() as t:\n",
        "  #这里就是在这个通过记录一个过程来求导\n",
        "  #这个gradient这个函数会自动追踪这个变化\n",
        "  loss=w*w"
      ],
      "execution_count": 0,
      "outputs": []
    },
    {
      "cell_type": "code",
      "metadata": {
        "id": "GDpp_VfHEKRF",
        "colab_type": "code",
        "colab": {
          "base_uri": "https://localhost:8080/",
          "height": 35
        },
        "outputId": "768d1cba-9be6-4ff2-c2ec-9be53dff8878"
      },
      "source": [
        "grad = t.gradient(loss,w)\n",
        "grad"
      ],
      "execution_count": 20,
      "outputs": [
        {
          "output_type": "execute_result",
          "data": {
            "text/plain": [
              "<tf.Tensor: shape=(1, 1), dtype=float32, numpy=array([[2.]], dtype=float32)>"
            ]
          },
          "metadata": {
            "tags": []
          },
          "execution_count": 20
        }
      ]
    },
    {
      "cell_type": "markdown",
      "metadata": {
        "id": "jzm4bHEMGaLc",
        "colab_type": "text"
      },
      "source": [
        "#常量求微分"
      ]
    },
    {
      "cell_type": "code",
      "metadata": {
        "id": "bfo6xbJ9GZag",
        "colab_type": "code",
        "colab": {}
      },
      "source": [
        "a=tf.constant(3.0)\n",
        "with tf.GradientTape() as t:\n",
        "  #因为他这里是一个常量所以添加一步\n",
        "  t.watch(a)\n",
        "  loss=a*a"
      ],
      "execution_count": 0,
      "outputs": []
    },
    {
      "cell_type": "code",
      "metadata": {
        "id": "BBalqPoPHBC6",
        "colab_type": "code",
        "colab": {
          "base_uri": "https://localhost:8080/",
          "height": 35
        },
        "outputId": "afb1bd56-a50d-4b2e-be4d-5dafd7098019"
      },
      "source": [
        "d_loss_dw=t.gradient(loss,a)\n",
        "grad"
      ],
      "execution_count": 26,
      "outputs": [
        {
          "output_type": "execute_result",
          "data": {
            "text/plain": [
              "<tf.Tensor: shape=(1, 1), dtype=float32, numpy=array([[2.]], dtype=float32)>"
            ]
          },
          "metadata": {
            "tags": []
          },
          "execution_count": 26
        }
      ]
    }
  ]
}