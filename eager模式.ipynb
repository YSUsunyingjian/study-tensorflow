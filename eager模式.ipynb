{
  "nbformat": 4,
  "nbformat_minor": 0,
  "metadata": {
    "colab": {
      "name": "eager模式.ipynb",
      "provenance": [],
      "authorship_tag": "ABX9TyO1C7G1jUnXs7O6xrTXFamt",
      "include_colab_link": true
    },
    "kernelspec": {
      "name": "python3",
      "display_name": "Python 3"
    },
    "accelerator": "GPU"
  },
  "cells": [
    {
      "cell_type": "markdown",
      "metadata": {
        "id": "view-in-github",
        "colab_type": "text"
      },
      "source": [
        "<a href=\"https://colab.research.google.com/github/sunyingjian/study-tensorflow/blob/master/eager%E6%A8%A1%E5%BC%8F.ipynb\" target=\"_parent\"><img src=\"https://colab.research.google.com/assets/colab-badge.svg\" alt=\"Open In Colab\"/></a>"
      ]
    },
    {
      "cell_type": "code",
      "metadata": {
        "id": "C0h1eAxF2s5D",
        "colab_type": "code",
        "outputId": "7cf7ab66-2b6c-475c-92d6-a18f87cd950e",
        "colab": {
          "base_uri": "https://localhost:8080/",
          "height": 141
        }
      },
      "source": [
        "#引入Google drive文件\n",
        "import os\n",
        "from google.colab import drive\n",
        "drive.mount('/content/drive')\n",
        "path = \"/content/drive/My Drive/dataset\"\n",
        "os.chdir(path)\n",
        "os.listdir(path)"
      ],
      "execution_count": 1,
      "outputs": [
        {
          "output_type": "stream",
          "text": [
            "Go to this URL in a browser: https://accounts.google.com/o/oauth2/auth?client_id=947318989803-6bn6qk8qdgf4n4g3pfee6491hc0brc4i.apps.googleusercontent.com&redirect_uri=urn%3aietf%3awg%3aoauth%3a2.0%3aoob&response_type=code&scope=email%20https%3a%2f%2fwww.googleapis.com%2fauth%2fdocs.test%20https%3a%2f%2fwww.googleapis.com%2fauth%2fdrive%20https%3a%2f%2fwww.googleapis.com%2fauth%2fdrive.photos.readonly%20https%3a%2f%2fwww.googleapis.com%2fauth%2fpeopleapi.readonly\n",
            "\n",
            "Enter your authorization code:\n",
            "··········\n",
            "Mounted at /content/drive\n"
          ],
          "name": "stdout"
        },
        {
          "output_type": "execute_result",
          "data": {
            "text/plain": [
              "['2_class', 'dc_2000']"
            ]
          },
          "metadata": {
            "tags": []
          },
          "execution_count": 1
        }
      ]
    },
    {
      "cell_type": "code",
      "metadata": {
        "id": "_6idziTR00kB",
        "colab_type": "code",
        "outputId": "9dbd4fd5-57e2-45a0-a825-566b93e5dcc8",
        "colab": {
          "base_uri": "https://localhost:8080/",
          "height": 141
        }
      },
      "source": [
        "#标准开场\n",
        "%tensorflow_version 2.x\n",
        "import tensorflow as tf\n",
        "print('tensorflow:',format(tf.__version__))\n",
        "tf.config.list_physical_devices('GPU')\n",
        "tf.test.is_gpu_available()\n",
        "import numpy as np\n",
        "from tensorflow import keras\n",
        "import glob\n",
        "from tensorflow.keras import layers\n",
        "import matplotlib.pyplot as plt\n",
        "%matplotlib inline\n",
        "tf.executing_eagerly()#判断是否处于eager模式"
      ],
      "execution_count": 5,
      "outputs": [
        {
          "output_type": "stream",
          "text": [
            "TensorFlow 2.x selected.\n",
            "tensorflow: 2.1.0\n",
            "WARNING:tensorflow:From <ipython-input-5-aae37f9d17cd>:5: is_gpu_available (from tensorflow.python.framework.test_util) is deprecated and will be removed in a future version.\n",
            "Instructions for updating:\n",
            "Use `tf.config.list_physical_devices('GPU')` instead.\n"
          ],
          "name": "stdout"
        },
        {
          "output_type": "execute_result",
          "data": {
            "text/plain": [
              "True"
            ]
          },
          "metadata": {
            "tags": []
          },
          "execution_count": 5
        }
      ]
    },
    {
      "cell_type": "code",
      "metadata": {
        "id": "8Ci2WeTG1TPz",
        "colab_type": "code",
        "colab": {
          "base_uri": "https://localhost:8080/",
          "height": 52
        },
        "outputId": "c78ce2b0-3892-41f2-e426-af0f9845f451"
      },
      "source": [
        "#这里定义了一个x的向量\n",
        "#我们用numpy中矩阵乘法运算\n",
        "x=[[2,]]\n",
        "m=tf.matmul(x,x)\n",
        "print(m)\n",
        "m.numpy()"
      ],
      "execution_count": 8,
      "outputs": [
        {
          "output_type": "stream",
          "text": [
            "tf.Tensor([[4]], shape=(1, 1), dtype=int32)\n"
          ],
          "name": "stdout"
        },
        {
          "output_type": "execute_result",
          "data": {
            "text/plain": [
              "array([[4]], dtype=int32)"
            ]
          },
          "metadata": {
            "tags": []
          },
          "execution_count": 8
        }
      ]
    },
    {
      "cell_type": "code",
      "metadata": {
        "id": "8tf9JroS2f8o",
        "colab_type": "code",
        "colab": {
          "base_uri": "https://localhost:8080/",
          "height": 190
        },
        "outputId": "4909761d-05a8-4ecd-efdb-805196bddc7f"
      },
      "source": [
        "#用python控制流实现tf运算\n",
        "num=tf.convert_to_tensor(10)\n",
        "#上面就是把一个值转换成一个向量对象\n",
        "num\n",
        "#输出这些值\n",
        "#这样的化下面输出的就是num中的对应的numpy的值\n",
        "for i in range(num.numpy()):\n",
        "  i=tf.constant(i)\n",
        "  if int(i%2)==0:\n",
        "    print('偶数')\n",
        "  else:\n",
        "    print('奇数')"
      ],
      "execution_count": 19,
      "outputs": [
        {
          "output_type": "stream",
          "text": [
            "偶数\n",
            "奇数\n",
            "偶数\n",
            "奇数\n",
            "偶数\n",
            "奇数\n",
            "偶数\n",
            "奇数\n",
            "偶数\n",
            "奇数\n"
          ],
          "name": "stdout"
        }
      ]
    }
  ]
}