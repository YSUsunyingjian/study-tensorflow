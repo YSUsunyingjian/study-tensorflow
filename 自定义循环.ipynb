{
  "nbformat": 4,
  "nbformat_minor": 0,
  "metadata": {
    "colab": {
      "name": "自定义循环.ipynb",
      "provenance": [],
      "authorship_tag": "ABX9TyPj9iuiR5w8VWmUMR3UgjgO",
      "include_colab_link": true
    },
    "kernelspec": {
      "name": "python3",
      "display_name": "Python 3"
    },
    "accelerator": "GPU"
  },
  "cells": [
    {
      "cell_type": "markdown",
      "metadata": {
        "id": "view-in-github",
        "colab_type": "text"
      },
      "source": [
        "<a href=\"https://colab.research.google.com/github/sunyingjian/study-tensorflow/blob/master/%E8%87%AA%E5%AE%9A%E4%B9%89%E5%BE%AA%E7%8E%AF.ipynb\" target=\"_parent\"><img src=\"https://colab.research.google.com/assets/colab-badge.svg\" alt=\"Open In Colab\"/></a>"
      ]
    },
    {
      "cell_type": "code",
      "metadata": {
        "id": "pW-pozZ_Jd1_",
        "colab_type": "code",
        "outputId": "93cafbaf-8b06-4c77-d38d-e1af81922573",
        "colab": {
          "base_uri": "https://localhost:8080/",
          "height": 124
        }
      },
      "source": [
        "#标准开场\n",
        "%tensorflow_version 2.x\n",
        "import tensorflow as tf\n",
        "print('tensorflow:',format(tf.__version__))\n",
        "tf.config.list_physical_devices('GPU')\n",
        "tf.test.is_gpu_available()\n",
        "import numpy as np\n",
        "from tensorflow import keras\n",
        "import glob\n",
        "from tensorflow.keras import layers\n",
        "import matplotlib.pyplot as plt\n",
        "%matplotlib inline"
      ],
      "execution_count": 0,
      "outputs": [
        {
          "output_type": "stream",
          "text": [
            "TensorFlow 2.x selected.\n",
            "tensorflow: 2.1.0\n",
            "WARNING:tensorflow:From <ipython-input-1-66c26afaf28d>:5: is_gpu_available (from tensorflow.python.framework.test_util) is deprecated and will be removed in a future version.\n",
            "Instructions for updating:\n",
            "Use `tf.config.list_physical_devices('GPU')` instead.\n"
          ],
          "name": "stdout"
        }
      ]
    },
    {
      "cell_type": "code",
      "metadata": {
        "id": "7ej_tgvzeGiS",
        "colab_type": "code",
        "outputId": "181aaf9c-b52e-48c6-c209-1e3e45ebe809",
        "colab": {
          "base_uri": "https://localhost:8080/",
          "height": 52
        }
      },
      "source": [
        "#引入minist数据集\n",
        "(train_image,train_label),(test_image,test_label)=tf.keras.datasets.mnist.load_data()"
      ],
      "execution_count": 0,
      "outputs": [
        {
          "output_type": "stream",
          "text": [
            "Downloading data from https://storage.googleapis.com/tensorflow/tf-keras-datasets/mnist.npz\n",
            "11493376/11490434 [==============================] - 0s 0us/step\n"
          ],
          "name": "stdout"
        }
      ]
    },
    {
      "cell_type": "code",
      "metadata": {
        "id": "UeooLI63eah1",
        "colab_type": "code",
        "outputId": "81dc233b-e0de-4727-b6d5-53747a43b950",
        "colab": {
          "base_uri": "https://localhost:8080/",
          "height": 35
        }
      },
      "source": [
        "#给图像增加维度\n",
        "train_image=tf.expand_dims(train_image,-1)\n",
        "train_image.shape"
      ],
      "execution_count": 0,
      "outputs": [
        {
          "output_type": "execute_result",
          "data": {
            "text/plain": [
              "TensorShape([60000, 28, 28, 1])"
            ]
          },
          "metadata": {
            "tags": []
          },
          "execution_count": 6
        }
      ]
    },
    {
      "cell_type": "code",
      "metadata": {
        "id": "8XAo-r-FNz7t",
        "colab_type": "code",
        "colab": {}
      },
      "source": [
        "#预处理，改变数据类型\n",
        "train_image=tf.cast(train_image/255,tf.float32)"
      ],
      "execution_count": 0,
      "outputs": []
    },
    {
      "cell_type": "code",
      "metadata": {
        "id": "KnGU8AJoPL74",
        "colab_type": "code",
        "colab": {}
      },
      "source": [
        "#预处理，转换label的数据类型\n",
        "train_label=tf.cast(train_label,tf.int64)"
      ],
      "execution_count": 0,
      "outputs": []
    },
    {
      "cell_type": "code",
      "metadata": {
        "id": "Nn56FKlEexgv",
        "colab_type": "code",
        "colab": {}
      },
      "source": [
        "#把它作为tf.data加载进来,建立dataset\n",
        "dataset=tf.data.Dataset.from_tensor_slices((train_image,train_label))"
      ],
      "execution_count": 0,
      "outputs": []
    },
    {
      "cell_type": "code",
      "metadata": {
        "id": "0IyLgIH7P2Ro",
        "colab_type": "code",
        "outputId": "c579f5b4-b76c-4574-bbd2-547000c2a2d6",
        "colab": {
          "base_uri": "https://localhost:8080/",
          "height": 35
        }
      },
      "source": [
        "dataset"
      ],
      "execution_count": 0,
      "outputs": [
        {
          "output_type": "execute_result",
          "data": {
            "text/plain": [
              "<TensorSliceDataset shapes: ((28, 28, 1), ()), types: (tf.float32, tf.int64)>"
            ]
          },
          "metadata": {
            "tags": []
          },
          "execution_count": 13
        }
      ]
    },
    {
      "cell_type": "code",
      "metadata": {
        "id": "St8fuVmyRHmF",
        "colab_type": "code",
        "colab": {}
      },
      "source": [
        "#对数据进行乱序，这里对10000个数据进行乱序\n",
        "#批次的大小,用batch\n",
        "dataset=dataset.shuffle(10000).batch(32)\n",
        "#这里没有设置repeat"
      ],
      "execution_count": 0,
      "outputs": []
    },
    {
      "cell_type": "code",
      "metadata": {
        "id": "pjsCuyt2R5bO",
        "colab_type": "code",
        "colab": {}
      },
      "source": [
        "#建立模型，进行自定义训练\n",
        "model=tf.keras.Sequential()\n",
        "model.add(tf.keras.layers.Conv2D(16,[3,3],activation='relu',input_shape=(28,28,1)))\n",
        "model.add(tf.keras.layers.Conv2D(32,[3,3],activation='relu'))\n",
        "model.add(tf.keras.layers.GlobalAveragePooling2D())\n",
        "model.add(tf.keras.layers.Dense(10,activation='softmax'))"
      ],
      "execution_count": 0,
      "outputs": []
    },
    {
      "cell_type": "code",
      "metadata": {
        "id": "xloAhGSLY7JO",
        "colab_type": "code",
        "colab": {}
      },
      "source": [
        ""
      ],
      "execution_count": 0,
      "outputs": []
    }
  ]
}