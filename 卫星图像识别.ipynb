{
  "nbformat": 4,
  "nbformat_minor": 0,
  "metadata": {
    "colab": {
      "name": "卫星图像识别.ipynb",
      "provenance": [],
      "collapsed_sections": [
        "xdYAsbYMvOVI",
        "WXJeCQPZvbZ-",
        "_e2ADhm0Gf80",
        "qkf5JAPtKu0A"
      ],
      "authorship_tag": "ABX9TyPi0tZOOVfymWlmjhYwIIeS",
      "include_colab_link": true
    },
    "kernelspec": {
      "name": "python3",
      "display_name": "Python 3"
    },
    "accelerator": "GPU"
  },
  "cells": [
    {
      "cell_type": "markdown",
      "metadata": {
        "id": "view-in-github",
        "colab_type": "text"
      },
      "source": [
        "<a href=\"https://colab.research.google.com/github/sunyingjian/study-tensorflow/blob/master/%E5%8D%AB%E6%98%9F%E5%9B%BE%E5%83%8F%E8%AF%86%E5%88%AB.ipynb\" target=\"_parent\"><img src=\"https://colab.research.google.com/assets/colab-badge.svg\" alt=\"Open In Colab\"/></a>"
      ]
    },
    {
      "cell_type": "code",
      "metadata": {
        "id": "h4qWNsAX3nfg",
        "colab_type": "code",
        "outputId": "60e7a7cd-f819-4125-aef5-4c95564300a1",
        "colab": {
          "base_uri": "https://localhost:8080/",
          "height": 141
        }
      },
      "source": [
        "import os\n",
        "from google.colab import drive\n",
        "drive.mount('/content/drive')\n",
        "path = \"/content/drive/My Drive/dataset\"\n",
        "os.chdir(path)\n",
        "os.listdir(path)"
      ],
      "execution_count": 1,
      "outputs": [
        {
          "output_type": "stream",
          "text": [
            "Go to this URL in a browser: https://accounts.google.com/o/oauth2/auth?client_id=947318989803-6bn6qk8qdgf4n4g3pfee6491hc0brc4i.apps.googleusercontent.com&redirect_uri=urn%3aietf%3awg%3aoauth%3a2.0%3aoob&response_type=code&scope=email%20https%3a%2f%2fwww.googleapis.com%2fauth%2fdocs.test%20https%3a%2f%2fwww.googleapis.com%2fauth%2fdrive%20https%3a%2f%2fwww.googleapis.com%2fauth%2fdrive.photos.readonly%20https%3a%2f%2fwww.googleapis.com%2fauth%2fpeopleapi.readonly\n",
            "\n",
            "Enter your authorization code:\n",
            "··········\n",
            "Mounted at /content/drive\n"
          ],
          "name": "stdout"
        },
        {
          "output_type": "execute_result",
          "data": {
            "text/plain": [
              "['2_class']"
            ]
          },
          "metadata": {
            "tags": []
          },
          "execution_count": 1
        }
      ]
    },
    {
      "cell_type": "code",
      "metadata": {
        "id": "lT1IAsLn41u-",
        "colab_type": "code",
        "outputId": "65566a87-83fc-4547-e02f-33e209b3730d",
        "colab": {
          "base_uri": "https://localhost:8080/",
          "height": 141
        }
      },
      "source": [
        "%tensorflow_version 2.x\n",
        "import tensorflow as tf\n",
        "print('tensorflow:',format(tf.__version__))\n",
        "tf.config.list_physical_devices('GPU')\n",
        "tf.test.is_gpu_available()\n",
        "import numpy as np\n",
        "from tensorflow import keras\n",
        "from keras import layers\n",
        "import matplotlib.pyplot as plt\n",
        "%matplotlib inline\n",
        "import pathlib"
      ],
      "execution_count": 2,
      "outputs": [
        {
          "output_type": "stream",
          "text": [
            "TensorFlow 2.x selected.\n",
            "tensorflow: 2.1.0\n",
            "WARNING:tensorflow:From <ipython-input-2-4af11a6597de>:5: is_gpu_available (from tensorflow.python.framework.test_util) is deprecated and will be removed in a future version.\n",
            "Instructions for updating:\n",
            "Use `tf.config.list_physical_devices('GPU')` instead.\n"
          ],
          "name": "stdout"
        },
        {
          "output_type": "stream",
          "text": [
            "Using TensorFlow backend.\n"
          ],
          "name": "stderr"
        }
      ]
    },
    {
      "cell_type": "code",
      "metadata": {
        "id": "VNDxqHEa5afE",
        "colab_type": "code",
        "colab": {}
      },
      "source": [
        "data_dir='/content/drive/My Drive/dataset/2_class'"
      ],
      "execution_count": 0,
      "outputs": []
    },
    {
      "cell_type": "code",
      "metadata": {
        "id": "9R19Tmoj72H_",
        "colab_type": "code",
        "colab": {}
      },
      "source": [
        "data_root=pathlib.Path(data_dir)"
      ],
      "execution_count": 0,
      "outputs": []
    },
    {
      "cell_type": "code",
      "metadata": {
        "id": "-TDdxSPJ9ujv",
        "colab_type": "code",
        "outputId": "6480918c-9137-444e-e3e8-a144c477acef",
        "colab": {
          "base_uri": "https://localhost:8080/",
          "height": 52
        }
      },
      "source": [
        "for item in data_root.iterdir():\n",
        "  print(item)"
      ],
      "execution_count": 5,
      "outputs": [
        {
          "output_type": "stream",
          "text": [
            "/content/drive/My Drive/dataset/2_class/airplane\n",
            "/content/drive/My Drive/dataset/2_class/lake\n"
          ],
          "name": "stdout"
        }
      ]
    },
    {
      "cell_type": "code",
      "metadata": {
        "id": "7wH3-FTg-l5O",
        "colab_type": "code",
        "colab": {}
      },
      "source": [
        "all_image_path=list(data_root.glob('*/*'))"
      ],
      "execution_count": 0,
      "outputs": []
    },
    {
      "cell_type": "code",
      "metadata": {
        "id": "4A8StwguX68J",
        "colab_type": "code",
        "outputId": "cf87409d-7fab-467b-b827-c200963f81a4",
        "colab": {
          "base_uri": "https://localhost:8080/",
          "height": 35
        }
      },
      "source": [
        "len(all_image_path)"
      ],
      "execution_count": 7,
      "outputs": [
        {
          "output_type": "execute_result",
          "data": {
            "text/plain": [
              "1400"
            ]
          },
          "metadata": {
            "tags": []
          },
          "execution_count": 7
        }
      ]
    },
    {
      "cell_type": "code",
      "metadata": {
        "id": "yrv1wjMAYs0c",
        "colab_type": "code",
        "outputId": "59b07551-090e-4876-d29c-546756c9bd13",
        "colab": {
          "base_uri": "https://localhost:8080/",
          "height": 52
        }
      },
      "source": [
        "all_image_path=[str(path) for path in all_image_path]\n",
        "all_image_path[10:12]"
      ],
      "execution_count": 8,
      "outputs": [
        {
          "output_type": "execute_result",
          "data": {
            "text/plain": [
              "['/content/drive/My Drive/dataset/2_class/airplane/airplane_012.jpg',\n",
              " '/content/drive/My Drive/dataset/2_class/airplane/airplane_013.jpg']"
            ]
          },
          "metadata": {
            "tags": []
          },
          "execution_count": 8
        }
      ]
    },
    {
      "cell_type": "code",
      "metadata": {
        "id": "mnz8ik1J218l",
        "colab_type": "code",
        "colab": {}
      },
      "source": [
        "import random\n",
        "random.shuffle(all_image_path)"
      ],
      "execution_count": 0,
      "outputs": []
    },
    {
      "cell_type": "code",
      "metadata": {
        "id": "Gha8G8MO3ie5",
        "colab_type": "code",
        "colab": {}
      },
      "source": [
        "image_count=len(all_image_path)"
      ],
      "execution_count": 0,
      "outputs": []
    },
    {
      "cell_type": "code",
      "metadata": {
        "id": "VOWgai8f9Et6",
        "colab_type": "code",
        "outputId": "1196161d-e5f8-464a-d61f-18a6edcc26eb",
        "colab": {
          "base_uri": "https://localhost:8080/",
          "height": 35
        }
      },
      "source": [
        "label_names=sorted(item.name for item in data_root.glob('*/'))\n",
        "label_names"
      ],
      "execution_count": 11,
      "outputs": [
        {
          "output_type": "execute_result",
          "data": {
            "text/plain": [
              "['airplane', 'lake']"
            ]
          },
          "metadata": {
            "tags": []
          },
          "execution_count": 11
        }
      ]
    },
    {
      "cell_type": "code",
      "metadata": {
        "id": "ph9UuLhl-Zqt",
        "colab_type": "code",
        "outputId": "3bc7397f-e8a0-4a60-96d3-5c4ce66a2799",
        "colab": {
          "base_uri": "https://localhost:8080/",
          "height": 35
        }
      },
      "source": [
        "label_to_index=dict((name,index) for index,name in enumerate(label_names))\n",
        "label_to_index"
      ],
      "execution_count": 12,
      "outputs": [
        {
          "output_type": "execute_result",
          "data": {
            "text/plain": [
              "{'airplane': 0, 'lake': 1}"
            ]
          },
          "metadata": {
            "tags": []
          },
          "execution_count": 12
        }
      ]
    },
    {
      "cell_type": "code",
      "metadata": {
        "id": "OESFOKgk7AKb",
        "colab_type": "code",
        "outputId": "1fa1613b-a3a6-43a7-b765-084df5b73041",
        "colab": {
          "base_uri": "https://localhost:8080/",
          "height": 35
        }
      },
      "source": [
        "#获取路径来实现对图片做标签,通过下面的代码生成一个pathlib对象,那么他的上一层目录就剩他的label\n",
        "pathlib.Path('/content/drive/My Drive/dataset/2_class/airplane/airplane_012.jpg').parent.name"
      ],
      "execution_count": 13,
      "outputs": [
        {
          "output_type": "execute_result",
          "data": {
            "text/plain": [
              "'airplane'"
            ]
          },
          "metadata": {
            "tags": []
          },
          "execution_count": 13
        }
      ]
    },
    {
      "cell_type": "code",
      "metadata": {
        "colab_type": "code",
        "id": "1w5fz3FW-GBP",
        "colab": {}
      },
      "source": [
        "#通过推导式 labe_to_index得到分组的编号\n",
        "all_image_labe=[label_to_index[pathlib.Path(p).parent.name]for p in all_image_path]"
      ],
      "execution_count": 0,
      "outputs": []
    },
    {
      "cell_type": "code",
      "metadata": {
        "id": "3MEGI7hgHz7a",
        "colab_type": "code",
        "outputId": "f452335c-5333-4117-aab0-f4ef9a2d7553",
        "colab": {
          "base_uri": "https://localhost:8080/",
          "height": 35
        }
      },
      "source": [
        "all_image_labe[:5]"
      ],
      "execution_count": 15,
      "outputs": [
        {
          "output_type": "execute_result",
          "data": {
            "text/plain": [
              "[0, 0, 1, 1, 0]"
            ]
          },
          "metadata": {
            "tags": []
          },
          "execution_count": 15
        }
      ]
    },
    {
      "cell_type": "code",
      "metadata": {
        "id": "ujJ0N5ZqH4zu",
        "colab_type": "code",
        "outputId": "65c58c93-946c-4916-fcd7-7b1aad9fd976",
        "colab": {
          "base_uri": "https://localhost:8080/",
          "height": 104
        }
      },
      "source": [
        "all_image_path[:5]"
      ],
      "execution_count": 16,
      "outputs": [
        {
          "output_type": "execute_result",
          "data": {
            "text/plain": [
              "['/content/drive/My Drive/dataset/2_class/airplane/airplane_617.jpg',\n",
              " '/content/drive/My Drive/dataset/2_class/airplane/airplane_090.jpg',\n",
              " '/content/drive/My Drive/dataset/2_class/lake/lake_553.jpg',\n",
              " '/content/drive/My Drive/dataset/2_class/lake/lake_412.jpg',\n",
              " '/content/drive/My Drive/dataset/2_class/airplane/airplane_535.jpg']"
            ]
          },
          "metadata": {
            "tags": []
          },
          "execution_count": 16
        }
      ]
    },
    {
      "cell_type": "code",
      "metadata": {
        "id": "whLsm65JIR1E",
        "colab_type": "code",
        "colab": {}
      },
      "source": [
        "import IPython.display as display\n",
        "index_to_label=dict((v,k) for k,v in label_to_index.items())\n",
        "#这样我们就可以通过这个字典获取到 "
      ],
      "execution_count": 0,
      "outputs": []
    },
    {
      "cell_type": "markdown",
      "metadata": {
        "id": "arMNvCgnxQB8",
        "colab_type": "text"
      },
      "source": [
        "#真正的代码从下面开始"
      ]
    },
    {
      "cell_type": "code",
      "metadata": {
        "id": "sdyM80fAQlF0",
        "colab_type": "code",
        "outputId": "b050a8b9-31f5-48a4-dcce-9a5479ffffd5",
        "colab": {
          "base_uri": "https://localhost:8080/",
          "height": 888
        }
      },
      "source": [
        "for n in range(3):\n",
        "  image_index=random.choice(range(len(all_image_path)))\n",
        "  display.display(display.Image(all_image_path[image_index]))\n",
        "  print(index_to_label[all_image_labe[image_index]])\n",
        "  print()"
      ],
      "execution_count": 18,
      "outputs": [
        {
          "output_type": "display_data",
          "data": {
            "image/jpeg": "[encoded data removed]",
            "text/plain": [
              "<IPython.core.display.Image object>"
            ]
          },
          "metadata": {
            "tags": []
          }
        },
        {
          "output_type": "stream",
          "text": [
            "airplane\n",
            "\n"
          ],
          "name": "stdout"
        },
        {
          "output_type": "display_data",
          "data": {
            "image/jpeg": "[encoded data removed]",
            "text/plain": [
              "<IPython.core.display.Image object>"
            ]
          },
          "metadata": {
            "tags": []
          }
        },
        {
          "output_type": "stream",
          "text": [
            "airplane\n",
            "\n"
          ],
          "name": "stdout"
        },
        {
          "output_type": "display_data",
          "data": {
            "image/jpeg": "[encoded data removed]",
            "text/plain": [
              "<IPython.core.display.Image object>"
            ]
          },
          "metadata": {
            "tags": []
          }
        },
        {
          "output_type": "stream",
          "text": [
            "airplane\n",
            "\n"
          ],
          "name": "stdout"
        }
      ]
    },
    {
      "cell_type": "markdown",
      "metadata": {
        "id": "RI8WcVKRu2eS",
        "colab_type": "text"
      },
      "source": [
        "#单张图片的处理过程\n",
        "##读取图片"
      ]
    },
    {
      "cell_type": "code",
      "metadata": {
        "id": "Y3vqjrexTvT0",
        "colab_type": "code",
        "outputId": "4862f6fe-0685-4c33-919d-fcc40a7c06e4",
        "colab": {
          "base_uri": "https://localhost:8080/",
          "height": 55
        }
      },
      "source": [
        "#根据路径，读取图片\n",
        "img_path=all_image_path[0]\n",
        "img_path\n",
        "img_raw=tf.io.read_file(img_path)#读取图片\n",
        "img_raw"
      ],
      "execution_count": 19,
      "outputs": [
        {
          "output_type": "execute_result",
          "data": {
            "text/plain": [
              "<tf.Tensor: shape=(), dtype=string, numpy=b'\\xff\\xd8\\xff\\xe0\\x00\\x10JFIF\\x00\\x01\\x01\\x00\\x00\\x01\\x00\\x01\\x00\\x00\\xff\\xdb\\x00C\\x00\\x08\\x06\\x06\\x07\\x06\\x05\\x08\\x07\\x07\\x07\\t\\t\\x08\\n\\x0c\\x14\\r\\x0c\\x0b\\x0b\\x0c\\x19\\x12\\x13\\x0f\\x14\\x1d\\x1a\\x1f\\x1e\\x1d\\x1a\\x1c\\x1c $.\\' \",#\\x1c\\x1c(7),01444\\x1f\\'9=82<.342\\xff\\xdb\\x00C\\x01\\t\\t\\t\\x0c\\x0b\\x0c\\x18\\r\\r\\x182!\\x1c!22222222222222222222222222222222222222222222222222\\xff\\xc0\\x00\\x11\\x08\\x01\\x00\\x01\\x00\\x03\\x01\"\\x00\\x02\\x11\\x01\\x03\\x11\\x01\\xff\\xc4\\x00\\x1f\\x00\\x00\\x01\\x05\\x01\\x01\\x01\\x01\\x01\\x01\\x00\\x00\\x00\\x00\\x00\\x00\\x00\\x00\\x01\\x02\\x03\\x04\\x05\\x06\\x07\\x08\\t\\n\\x0b\\xff\\xc4\\x00\\xb5\\x10\\x00\\x02\\x01\\x03\\x03\\x02\\x04\\x03\\x05\\x05\\x04\\x04\\x00\\x00\\x01}\\x01\\x02\\x03\\x00\\x04\\x11\\x05\\x12!1A\\x06\\x13Qa\\x07\"q\\x142\\x81\\x91\\xa1\\x08#B\\xb1\\xc1\\x15R\\xd1\\xf0$3br\\x82\\t\\n\\x16\\x17\\x18\\x19\\x1a%&\\'()*456789:CDEFGHIJSTUVWXYZcdefghijstuvwxyz\\x83\\x84\\x85\\x86\\x87\\x88\\x89\\x8a\\x92\\x93\\x94\\x95\\x96\\x97\\x98\\x99\\x9a\\xa2\\xa3\\xa4\\xa5\\xa6\\xa7\\xa8\\xa9\\xaa\\xb2\\xb3\\xb4\\xb5\\xb6\\xb7\\xb8\\xb9\\xba\\xc2\\xc3\\xc4\\xc5\\xc6\\xc7\\xc8\\xc9\\xca\\xd2\\xd3\\xd4\\xd5\\xd6\\xd7\\xd8\\xd9\\xda\\xe1\\xe2\\xe3\\xe4\\xe5\\xe6\\xe7\\xe8\\xe9\\xea\\xf1\\xf2\\xf3\\xf4\\xf5\\xf6\\xf7\\xf8\\xf9\\xfa\\xff\\xc4\\x00\\x1f\\x01\\x00\\x03\\x01\\x01\\x01\\x01\\x01\\x01\\x01\\x01\\x01\\x00\\x00\\x00\\x00\\x00\\x00\\x01\\x02\\x03\\x04\\x05\\x06\\x07\\x08\\t\\n\\x0b\\xff\\xc4\\x00\\xb5\\x11\\x00\\x02\\x01\\x02\\x04\\x04\\x03\\x04\\x07\\x05\\x04\\x04\\x00\\x01\\x02w\\x00\\x01\\x02\\x03\\x11\\x04\\x05!1\\x06\\x12AQ\\x07aq\\x13\"2\\x81\\x08\\x14B\\x91\\xa1\\xb1\\xc1\\t#3R\\xf0\\x15br\\xd1\\n\\x16$4\\xe1%\\xf1\\x17\\x18\\x19\\x1a&\\'()*56789:CDEFGHIJSTUVWXYZcdefghijstuvwxyz\\x82\\x83\\x84\\x85\\x86\\x87\\x88\\x89\\x8a\\x92\\x93\\x94\\x95\\x96\\x97\\x98\\x99\\x9a\\xa2\\xa3\\xa4\\xa5\\xa6\\xa7\\xa8\\xa9\\xaa\\xb2\\xb3\\xb4\\xb5\\xb6\\xb7\\xb8\\xb9\\xba\\xc2\\xc3\\xc4\\xc5\\xc6\\xc7\\xc8\\xc9\\xca\\xd2\\xd3\\xd4\\xd5\\xd6\\xd7\\xd8\\xd9\\xda\\xe2\\xe3\\xe4\\xe5\\xe6\\xe7\\xe8\\xe9\\xea\\xf2\\xf3\\xf4\\xf5\\xf6\\xf7\\xf8\\xf9\\xfa\\xff\\xda\\x00\\x0c\\x03\\x01\\x00\\x02\\x11\\x03\\x11\\x00?\\x00\\xa44\\xf9\\xefu=\\xf1\\x81\\xb6<+g\\xb6y\\xae\\x8b1\\xe9\\xf1\"\\x04`\\xa5\\xd5B\\xa7bx\\xcdpQ\\xdf\\xeb6\\xf2J\\xff\\x00g\\xff\\x00Xw\\x12\\xa7\\xa9\\xab\\x90jz\\xa4\\xe5D\\xc9*\\xed;\\xb2\\xd8\\xeb\\xdb\\x02\\x8b\\x17b\\xaf\\x8bb1x\\xb1\\x8092\\xc6\\xa7\\xf1\\xe9\\xfd+=t\\xc9\\xe5\\xb3u\\x8d\\xb60\\xe0g\\xbdn\\xb1\\x8e\\xe6\\xe9\\xae\\xefa\\x9c\\xce\\x18\\x80\\xc5\\t\\xf9GN\\x95a.\\xac\\xf3\\x81 _f\\x04U$C8\\xe94\\xdb\\x88O\\x90\\xa8\\xcf\\x1b)\\\\\\x81\\xcei\\xcb\\xa7\\xb5\\xb4\\x18\\x8f1\\xbe\\xd2\\xa0\\xd7l\\xab\\x04\\x8d\\xf2\\xb4g\\xe8j\\x1b\\x8b\\x18&\\x84\\xa1@\\x0f]\\xc3\\xb5\\x16\\x03\\x85\\xb1\\xb5/}\\xf6i\\x19~`X\\xb1\\x1f\\xa9\\xcd_\\x9fL\\x9e0\\xc28\\x99\\xb6\\xf1\\xf2\\x0e\\xbf\\x8dZ\\xd2-VmN\\xe8\\x9d\\xa68\\xf2\\x83q\\xea;\\xd7X/f\\xb0\\x96\\xde\\xddc\\x88\\xc7(\\xc0\\x0e\\xb8\\xc61\\xde\\xa1\\x94pF\\xc6\\xe6\\x0bO6H\\x9b\\x19\\xc6\\xe29\\xa5\\x8a\\xf0\\xacA\\xc6\\xe2\\x0f`+\\xab\\xf1A7+\\xe4F\\x14g\\r\\x859\\x03\\xb5s7z\\x14\\x96\\xacRYv0@6\\xe7\\xb9\\x19\\x1d>\\xb4\\xac\\x84\\x8a,%\\x8a-\\xe2W\\x90\\x06\\xc8\\\\\\xf1\\xcf8\\xa5[\\x8f\\x95\\x988VV\\xc9&\\xa0\\x8a\\xdar|\\xb7WR\\x83j\\xe0u\\x14\\xb2\\xa1H\\xb6\\x06\\x19\\x18\\x18a\\xfa\\xd3\\xb0\\xec\\xd9\\xa1\\x1d\\xfb0\\x8d\\x889\\xe8k\\xa2\\xd3\\xae\\xd6P\\x13\\xb9\\xe3\\x15\\xc4\\x19\\xa4\\x13\\xc7\\x87P7`\\x80\\ru\\x1aJ<O\\x1c\\x92\\x1c\\x90\\xc0\\x9cz\\x03E\\xac6\\x9d\\xce\\x86\\xee\\x06\\xb6\\x95\\xe2\\x93\\x1b\\x94\\xe0\\xf3U\\xd20\\x07Lg\\xbdI{y\\xf6\\xab\\x99%\\xcf\\x0c\\xd9\\xa8Q\\xcb\\nW\\xb9V\\xd0\\x99P\\x01\\xc5;\\x81\\xc9\\xaa\\x8a\\xb2\\xbc\\x8d\\x92Tv\\xa9\\xc2\\x95\\x18\\x19\\'\\xde\\x81\\x0e$\\x1a\\x89\\xe498\\xcd\\x07r\\xb6H\\x19\\xedT5\\x0b\\xcb\\x88\\x11v.C6\\x0e\\x06qE\\xc0\\x95\\xd4\\x9eUp{q\\\\u\\xfbJ\\x97R\\xf9\\xc8\\xe2f~\\x0e;WYn\\xd2:\\x02N+?Y\\xd3\\xa5\\x99E\\xcc9yQH\\x08FA\\x15Q`s/\\xcfC\\xc1\\xa6\\x8f\\x98d\\xe3\\x14\\xe8Q\\xf6\\x98\\xccD2\\x93\\x9c\\x0e\\x05\\x1b\\x186\\xce\\x98\\x19\\xf65D\\xb4(\\x0c\\x08 \\xf2+cJ\\x91\\xdc\\x94\\xea\\x08\\xe75\\x9d\\x04L\\xd2\\x8f\\x97\\xafJ\\xe9\\xac4\\xf5\\x8a0v\\x9d\\xc7\\xaez\\xd4\\xb1\\xc7s\\x1a\\xfbDuq%\\x90.\\x1b%\\x83`\\x1f\\xc2\\xb3\\x9c<s\\xf9N\\x85\\x08\\x18!\\x8f\\xf2\\xae\\xec[\\x8fJd\\x9au\\xbc\\xca|\\xc8\\x95\\xb3\\xea9\\xa11\\xb5s\\x88\\xf2\\xe4\\x0f\\xfd\\xe1\\x8ep:T\\xc66D,\\xd1\\xb8^\\xbb\\x80\\xae\\xd6\\xcbC\\xb7Ir\\xb6\\xe4\\xa9\\xe3\\xa6s\\xf8V\\xfc\\x9e\\x19\"\\r\\xf2,V\\xeb\\xb7\\xe5I~\\xf1\\xff\\x00\\x80\\xf5\\xa6\\x95\\xc8j\\xc8\\xf3[\\x0bf\\x96Dr\\x08Q\\xcf5\\xd0Gs\\n7\\x96\\n\\x92\\xbdq]\\x11\\xb3\\xb4\\x82\\xc5\\xed\\xa5Egu$M\\x1a\\xe4\\x8e+\\xceQ\\xe4I\\xe5\\x90\\xb1\\xff\\x00\\x1a\\xb9S\\xb2\\xb9\\x9cg\\xa9\\xde\\x7fe\\xcff\\x0b5\\xdd\\xbc\\xf1\\xe3!\\xa3|\\x9f\\xa6+8\\xddN\\x1c\\xe6\\xda^:\\x10\\xb9\\xab\\xabcu\\x19\\x1b\\xe2i\\x06\\x03#\\xa9\\xc0\\xc1\\x1e\\xfdj\\xdd\\xad\\xb3\\xc38f\\x12 <dv\\xcdb\\xdb\\xb9\\xd2\\x92\\xb1N\\t\\xa4\\x9d\\xa3V\\x0e\\x81\\xd8.X\\x1c\\x0fz\\xd7M\\x19\\xe67b\\x0b\\x8b9\\xd2\\xd9\\x03\\xb9Y@\\x04c<\\x06\\xc1=\\xfbT\\x92\\x86\\x80\\xa4\"\\xe2I\\x92V\\xc1\\x121\\xc0>\\xbc\\xd2<K\\x1aJ\\xd3|\\xc4\\x02}\\x00\\x146gc/\\xec\\xb6\\xf2\\xf0\\xf6\\xa8Or\\x17\\x15\\x1c\\xfai*~\\xcf,\\xb17\\xfb\\xc4\\x8f\\xc8\\xd4^\\x1e\\xbd\\x97Q\\xd5.<\\xdd\\xa2(\\x81\\xda\\xaa1\\xde\\xb7\\xee\\xa6\\xb4\\xb3S-\\xd1`\\xa4\\x80\\xa5FpNi\\\\\\xad\\x0eEtk\\xcbiK[]DN\\xed\\xd8\\x91;\\xfdj\\xc36\\xb2\\xee\\xa9:Z\\xc8\\xa3\\x8c\\xe7\\x15\\xbdmq\\x1c\\x96V\\xd2\\xb5\\xb3N\\xf39\\xc9\\x8dxQ\\x9e+Y\\xedl\\x9a0|\\xa2\\x81\\x8f]\\xdd(\\x15\\xce\\x03R\\xb5\\x92\\xde\\xdeI\\xc3\\x08\\xcfL\\x03\\x9f\\xca\\xb3\\xa0\\x92k\\xc6\\xcc\\x99f\\x0c\\x1b=k\\xb2\\xbb\\x86\\x13\\x11\\xf3\\x10\\x14\\'\\xbfj\\xcb\\x8a\\x18]\\\\BQ\\x81\\x93;\\x95N@\\xc1\\xf9}?\\xfdT&W)\\x94b`\\xfb\\x88a\\x8e\\xa4\\x8f\\xebXZ\\x99\\xcd\\xcc[N\\x17\\x9e\\x9cWc6\\x9cdR\\x8cN\\x0fA\\xebY\\xb7Z\\x143bI]\\xd0/\\x18^kD$r\\x86\\\\\\xdd\\xc3\\x93\\x9f\\x9cg\\x9a\\xea,\\xee\\x8c\\xb3p\\xbf #\\'\\xa7\\xd6\\xb0n-N\\x9f~\\xc1A\\xd9\\x9e\\t\\x1d\\x05O\\x14\\xd2/!\\xce\\x0f\\xf7M)\\r\\xbdN\\xb1\\n\\x1e\\x02\\xa1\\x1e\\xa4\\xd5\\x95\\x11\\x802G\\x1e\\x86\\xb8V\\xd4%\\xb7\\xba\\x08\\x0bm\\xe4\\xe7<f\\x95\\xb5y\\x8b\\x162\\xb1$\\xf4\\xa8\\xb09\\x1d\\xf2\\x18\\xce@\\xc5.\\xd3\\xd4b\\xb9\\x0b\\x1di\\xd0\\x13)\\xc8\\xcf\\xadn\\xc1\\xa9G:\\r\\x84\\xd5\"nh\\x18\\xc9\\xe74\\xc7\\xb7W\\x1b_\\xa51$~\\xb8\\xc8\\xa7\\x96rxSSr\\x94[\\x11m\"\\x8c|\\x8a\\x05+B\\xa5\\x08\\xc7\\x04b\\x9a\\xc6L|\\xa3\\xf5\\xaa\\x17\\xda\\x98\\xb3\\x1b]\\x90\\xc9\\x8c\\x85\\xdd\\xce)\\xdcVh\\x8d\\xbc?dI+\\xbcd\\xe7\\x86\\xe9M\\xff\\x00\\x84r\\xd1\\xd0+;\\x9cu9\\xc6j\\x13\\xaf\\xc4W!O\\xe1S\\xd9\\xeb0M(B\\xa5\\x7f\\xda4\\xee\\x1a\\x16!\\xd2\\xadm\\x80\\xda\\x84\\x9fV9\\xab\\xe9\\x1flqZ\\x16\\x9am\\xd5\\xc2\\tLb\\xde.\\x0e\\xf9\\xf2\\xb9\\xcf\\xa0\\xea\\x7f\\n\\xd7\\x87O\\xb3\\xb7s\\x947R\\x7fzA\\xb5\\x07\\xfc\\x04\\x1e\\x7f\\x13E\\x9b\\x13\\x9cbcZ\\xe9\\x93]\\xff\\x00\\xaa\\x8d\\x9f\\x07\\xe6a\\xd0}OAZ\\xb0\\xe8\\xb6\\xb6\\xf972\\x89\\x1b\\xfb\\x91\\x00F}\\xd8\\xf0?\\x0c\\xd6\\x83H\\xce\\x9b\\t\\x01;\"\\x80\\x17\\xf2\\x14\\xcc\\x01\\xcf\\xf9\\x15\\xa4a\\xdc\\xcaU\\xbb\\x12\\xa5\\xc0\\xb6\\x8fm\\xa4Il\\xb8\\x00\\x94\\xe5\\x8f\\xd4\\x9ek\\x97\\xd6\\xf5\\x95!\\xed!\\x94\\x89\\x0f\\x0c\\xf5sU\\xd4\\x19\\x00\\x82\\xd8\\x8d\\xecp\\xcd\\x8f\\xbb\\\\\\xec\\xec\\xab)\\x86\\xe4\\x05g<I\\x8e\\x18Sv[\\x13\\x14\\xe5\\xab64+\\xb8\\xda\\xd9lo\\xd1\\xa4\\x8dG\\xc9:\\xf5Oc\\xfd\\xe1\\xfa\\xd7-\\xe2}\\x10iW\\xc94\\'6\\xf3\\xf2\\x8c\\x07\\xca\\xdfC\\xeb\\xed\\xd6\\xac]j\\xf3iv\\xef\\x04AN\\xc90\\x84\\xf3\\x95\"\\xb1.\\xb5\\x8b\\xb9b\\xf2\\xdegh\\xcbn\\xc1\\xfb\\xa5\\xbe\\x94\\xb9\\xdd\\xb5+\\x91#\\xab\\x83\\xc6\\xfa\\xad\\xa4Q\\xdb\\xdfh\\xf1K\\x14`*\\x80\\xc5x\\x1e\\xf5\\xad\\x0f\\x8e\\xbc=qj\\x16\\xf3L\\xd4-\\xa7\\xff\\x00\\xa6l\\x92&?\\x1c\\x1e\\x95\\x8c\\x9a\\xbc7\\x17\\x0fo\\x16\\xd7e\\x19=\\xc6)\\xedc\\xe6\\xdby\\xcdl\\xac\\x85\\x88!O9\\xc7j\\xc6\\xe7K\\xa4\\xda\\xd0\\xd6\\x8fR\\xd1\\xf5{\\xb4\\xb6\\xb5\\x96W\\x84\\x13!\\x13F\\x14\\xe0\\x0e\\x9dOz\\xb1\\xae\\x94M6\\xe1\\xd4\\xf1\\xe5\\x90\\x0f\\xe1\\x8a\\xe5\\xa0\\xd1me\\x8f\\xcc{f\\x8d\\xf3\\xc6OJ\\xa9y\\xa2\\xdf6\\xf8\\xe0\\xb9a\\x03\\x0c\\x08\\xdd\\xcd5\\xa9\\x1c\\xad\\x1a\\x1e\\n\\x8c%\\xb5\\xcc\\x87\\x07y\\x18\\xfc+oQ\\xbc\\x8a\\x1b+\\xa8\\x98+>\\xd3\\xfc<\\x8e+\\x8c\\x82\\xd7^\\xb1\\x8b\\xca\\x80\\x95\\x8c\\x1e\\x8aA\\x15b][^A\"\\xcdl\\x92o]\\xa4\\x98\\x81\\xa6\\xe2\\x1eGc\\xa4yP\\xd9[\\xe3r\\xbf\\x94\\x03\\xa9\\x04\\x0c\\xe3\\xaeid\\xd4\\x16\\xf2V\\x86(\\xdc\\xb2\\x12\\xa4\\xfd\\x075\\xcci\\x9e!\\xd6$\"6\\xb5Y\\x90`|\\xc3h_\\xca\\xb5\\xecc\\x90L\\xf2\\xbe\\x10\\xb1\\'\\ns\\x82}\\xe9\\xa4\\x96\\xe4\\xb4\\xcc\\xbf\\x12\\xdcy\\x10m\\x94\\x06\\x8eE\\xda\\xbe\\xcd\\x9e\\xb5S\\xc3\\x97B\\x18pd*\\x81s\\x83\\xd3&\\xaex\\xae\\xd6I\\xec\\xd0\\xc4\\x1c\\x94?uEfx\\x7fP\\xb4\\xd2\\x99\\xd3QY\\xd7\\xe5>^\\xc4\\x1ds\\xdf4\\x95\\xacS\\xb9\\xd0\\x9b\\x9f0/\\x93.\\xe0:\\x91\\xce*&\\xba\\x98\\xce\\x91\\x90\\xa4\\x13\\x8eV\\xb14\\xeb\\xfbhb\\x904\\xa3-#1\\xdd\\xbb\\xa7\\xe4kAu\\x08g\\xbb\\xf3U\\xd4\\xack\\xd8\\xf1\\xc7\\xa5;\\x91gr\\x96\\xac\\xbeU\\xb5\\xc4\\xb0\\xc6\\x18\\xbb\\x9e\\x0f<\\x0e+\\x9f\\x0b\\x14`yX\\x00\\xf3\\x8a\\xe8\\r\\xe7\\x9e\\x823\\x8f\\xbc{\\xf5\\xaef\\xea\\xd4\\xc3\\xa8\\xb8I\\x14\\xc6\\xa78\\x1cu\\xa9\\xdc\\xd3d2\\xe90K\\x03\\xd7\\xa5T\\xc9\\xe7\\x8e{\\xf1S93a\\x9fr\\x05<\\x00\\x7f\\x9d\\x023\\xbb$\\x02\\t\\xe3=H\\xabD\\x02\\xecx\\xfc\\xb3\\xc6\\xee\\xfe\\x95\\xa1\\xa5<\\x81\\xca\\xb6U\\x14\\xe0V[\\xa4O&\\xcf\\xe2S\\xc0<\\x11\\xfe58\\x92EV\\x01\\xbd\\xba\\xd2\\xb0$v1]\\xb0@\\x14\\x86\\x02\\x95\\xf5?-~fQ\\\\\\x8a]\\xcf\\x1a\\xed\\x04\\x8cpi\\xa6Fb\\xc7q\\xc3\\x0eFir\\x96\\xa6\\xd1\\xd0_\\xeb\\xedm\\x17\\xc87;\\x1c\\x0c\\x0e\\x07\\xb9\\xaeu\\xee\\x1awif\\x90\\xbb\\x9e\\xec{z\\nH\\xe4\\x0e1\\x922\\x08\\r\\xb75\\x1cAJ\\x04u\\xef\\xd0\\xf6\\xa1+\\x13)\\xb6!n2\\xbd\\xb3\\xc1\\xab\\x9a]\\xec\\x96wq\\xdcF\\xe5\\x1dH!\\x87cP(P\\xf9\\xda@=\\xcdF@\\xf3\\x18 \\xe8i\\xa7\\xa9\\x9b\\xd8\\xf5\\xdd\\x1fU\\x87P\\x89O\\x98\\x0c\\xa7\\x96\\xe7\\x9c\\xfb\\xfb\\xd6\\xd0\\x03\\x8a\\xf2\\xdf\\x0c\\xb5\\xc2\\xdfG\\xe5\\xf2s\\xd0\\xfaW\\xa8F@Q\\x9fJ\\xda&\\x12Z\\x92}\\xd1\\xebX\\xba\\xae\\xaaB\\xbc\\x16\\xd8\\'\\x07sg\\xa7\\xd2\\xa6\\xbe\\xbe\\xdc\\x1a([\\xb7,\\rdH<\\xa4\\xc1\\x18\\xdd\\xd5\\xf1\\xcdL\\xa4\\\\ Q\\x86w\\xda\\xd8Vd\\xdb\\xf3\\xe3\\xa8\\xf7\\xcdO1\\xb7\\x92\\xd5\\xb78\\x92<eC}\\xec\\xff\\x00J\\x88\\xa8{\\x95h\\xcb+\\x1e8\\xee*\\t\\x99\\x04\\xbf*\\x90}3Rn\\xb4254Sns\\xf7s\\x90\\x07$\\x1f\\xebX\\xaar\\xd9\\xdd\\x91\\x8e@\\xeck\\xa6\\x92\\t]\\xb3\\x8e3\\xd0\\xf7\\xac\\x8dR\\xda;c\\x91\\x01_0\\xfc\\xce:rzP\\x0c\\xb7\\xe1x\\x0873\\x95\\xeb\\x80\\rv\\x84\\xf9ze\\xa4c\\xabns\\xf8\\x9c\\x7f!X\\x91h:\\x96\\x9b\\x12B\\xb0\\x99\\x10>\\xe2\\xd1\\xbe7~b\\xaf\\x1b\\xb2\\xae\\x895\\xa5\\xc4$\\x00\\xa3+\\x91\\xf9\\x8a\\xceH\\xed\\x85Uk\\x17,\\xd3\\xcd\\x9eO\\x9b\\x901\\x8a\\x8bS+i$c\\x19\\xc8$\\xa8<\\xd5\\xd8\\xed,\\xfe\\xcc\\xad\\x13\\x85\\x94\\xb1$\\xac\\x83$\\xfd:\\xd6F\\xa53,\\xf2\\xaa\\x92\\xd8A\\x1a\\x93\\xcf\\'\\xadT\"\\x9bG%Y^\\xec\\xd3\\xd3\\xae.,\\xfc\\xb9\\xe1r\\xaf\\xb4\\xed\\xc8\\xce3\\xf5\\xa8\\x9cHN[\\x07\\x9c\\x93\\xde\\x95d\\xd8\\x80\\x0cp(ix\\xe7\\x15\\xe8\\xc6\\x84Z<\\xf7ZH\\xaf#\\xc5\\x07\\xfa\\xe9\\x02!<\\x13V\\xa3\\xb7\\x90\\xa0\\x92=\\xcc\\x8d\\xc8\\xc7z\\xe6\\xfcG\\'\\x98\\xf6p\\x8e\\xad&q]Z\\xb9EH\\x978U\\nH\\xae*\\xf4\\xd4\\x1d\\x91\\xd5JnJ\\xe4e\\xee~e\\xd9\\xfaU9\"<\\xf9\\xa8\\xa4\\xff\\x00\\xb4\\x99\\xab\\xe9*\\xa5\\xc8\\\\\\xf2x$\\x9a\\xb8\\x9bJ\\x92H8\\xed\\\\\\xebCk\\x98\\x90D\\x8d\\x1b\\xac~B\\x06\\xf9YK\\x05,:\\xf4?Z\\xa7\\xa8Z\\x9btxY\\x02\\xb8\\x90+\\x04\\x1d\\xf3\\xed],\\xeb\\x1cK\\xb8\\xc6\\xad\\xcf\\xa5d\\xebR\\xdb\\xda\\xacR8\\xc6X\\x92\\x07?\\xe7\\xad;\\x8a\\xe6<\\x16\\xd1\\xc74\\xab\\x18\\xc1# \\xb0\\xef\\\\e\\xcc\\xb2\\xad\\xdc\\xd1\\xb8%\\xd9\\xb1\\xbb\\x1c\\xd7N5%\\x12H\\xea\\n\\xee\\xe9\\x91YQ[\\x03|\\xf2H\\xfb\\xd5\\xb3\\xd7\\xd7\\xd6\\x9cGs#\\x85>H\\x07p\\x1c\\xe6\\x9cT0\\x06>\\x18\\x1fJ\\xd0},\\x99\\xcc\\xb1I\\x8d\\xdc\\x95<\\xe6\\x91\\xb4\\xdb\\x86ubP\\xa89\\xe3 \\xd5\\x8a\\xc6m\\xcc[\\xd9\\x1c\\xe48\\xe3 sK\\x1cx\\x01\\x1b,@\\xc9lu\\xabs\\xd8\\xdc)8\\xf9\\x81<\\x11R\\x8d5\\xccL\\x16@\\xac\\xca:\\xf3\\x8a\\x02\\xc6R\\x16\\x91Y\\x8b\\xe7\\'\\xd3\\x18\\xa9\\t>\\xb8\\xcdK%\\xa4\\xaa\\x9b^?\\xde)\\xec:\\x8fZ\\x85cv%\\x8a\\x92\\xbd\\xd4z\\xd0!&\\x0e\\xa8\\x0cx\\xc8\\xc6s\\xe9O\\xdc\\x18/\\x03y\\xce*E\\xb7\\x90\\x1c2\\xe5H\\xe8j\\xad\\x84&k\\x87f\\x81\\x94\\xc6\\xc7n\\x1b\\x81\\xedGA\\x16\\xe3V\\x00\\xa9\\x1b\\xb9\\xc05\\xd0\\xe8\\xde\\x1c\\xfbz\\x89\\x1f\\xe4\\\\\\xe3 sY\\xbat\\x0c.bP\\x15\\xb1 $7\\x01\\xb9\\xce\\x0f\\xd6\\xbd\\x07O\\xd4\\xa1\\xba\\x9e@\\xb0-\\xbc\\xaa\\xc4\\x9b`0\\x00\\xcfQ\\xedDL\\xe4\\xeeX\\xd2\\xb4H4\\xd8\\xb0\\xa3/\\xdd\\x8d>\\xe6\\xf69\\x1d\\xadc\\x90\\xab\\x91\\xf7\\x80\\xaa\\xda\\x86\\xa9\\xb21\\x1cD\\x1c\\xf0\\xe4\\x1eW\\xda\\xb2\\xe3\\x87k+I\\xccm\\xce3\\xc8\\xabr\\xd3AF\\x1a\\xeaZ\\xd8bfV\\x07v~\\xf62\\r\\'\\x9b\\xbdYq\\x8fQ\\xef\\xebR\\xe8\\x8c\\x97\\xba\\xac\\xf6n\\xc6[p\\x9b\\x94\\x93\\xces\\xcdt\\xab\\xa3\\xd9\\xe0\\x9f,\\x9f\\xa95\\xcf*\\x967H\\xe2\\xd9^%\\'\\x91\\xef\\x8a\\xa8aPC\\x12\\xcc\\x0f\\x00b\\xbd\\x154\\xbbE\\x1f\\xea\\x14\\xfdE<i\\xb6|\\x7f\\xa3\\xc7\\xc7N*}\\xb2\\x0b\\x1ex\\xaaH\\xfb\\xbc\\x0e\\x99\\xaaW\\x08\\x83b\\xce\\xacc\\xdd\\x86u\\\\\\xed\\xafQ66\\xbf\\xf3\\xc2>?\\xd9\\xa0Y\\xdb\\x01\\x8f\\xb3\\xc5\\xff\\x00|\\n^\\xd4f=\\x9e\\xa0.&\\x93\\x1e`\\xda\\xe1[ `\\xfd*\\xfc\\xd6\\xf0\\xcf2\\xab\\x85\\xc9\\xe3&\\x89\\xf4[[X\\xe6\\x95s\\xbaF\\xc8U\\'\\x93\\xf4\\xa6Z\\xc5\\x04Q)\\\\d\\x8e\\xa4\\xff\\x00*\\xd9\\x99\\xc5\\xd8\\x8a\\xff\\x00N\\xb30\\x96\\xfb2g \\x02\\x179\\xae+Y\\xb3[)\\xa0\\x8a\\xd4\\xbcrI\\'\\xca\\x0f#\\xaf\\xff\\x00\\xaa\\xbb\\x9b\\x89\\x7fz\\x88[\\xe5n\\x8b\\x8e\\x95\\xc1]\\xdc\\xbd\\xe7\\x89\\xc2\\x97\\r\\x1d\\xb6H\\x1d:sM6\\x82\\xd76\\xc6\\x8f\\x7f\\xe4\\xa9[\\x95\\x0f\\xdc<|\\x1f\\xca\\xa4\\x1a6\\xa2a\\xdc^\\xdd\\x98\\x0e\\x80\\x91Z\\xfa4\\xeb5\\xa8I\\xe4U\\xd80X\\xb6\\xee\\xd5fk\\x98\\x16\\x07h\\xe4I\\x02rB\\x9c\\x90*\\xd5y\\xa2](\\x9eo\\xab\\xd9\\xde[\\xeb\\x16\\xf3]B1\\x19\\xc8Dq\\x93\\x8f\\xadm\\xd9j\\xcc\\xd1\\x97:m\\xe9N\\xcc\\x88\\x1c~\\x95\\x7fV\\xd3%\\xd4\\xe4I\\xfc\\x97\\x1bWh\\xe7\\xa8?\\x85hX\\xd9\\xdci\\xf6q\\xc0\\x82#\\x10<\\x93\\x90ED\\xe4\\xe6\\xee\\xcb\\x8aQG&\\xba\\x8cV\\xb7\\xb73K\\x15\\xd2\\xc5#\\x02\\x9edd`\\xd5\\xfbmb\\xd2I\\x887P)\\'\\x82_\\x07\\x1e\\xf9\\xae\\x89\\xe0\\x9a\\xe3\\xe4\\x90+\\xc5\\x9c\\x8d\\xcb\\xde\\xb8\\xdf\\x17Z\\xc1\\x03@$\\x86%\\x939\\xf9Gj\\x9b\\x15s\\xa57\\xd6\\xb2\\xa9)q\\x13\\x1cda\\xc1\\xae[\\xc4we\\xae\\xa0\\x88\\xe0\\x81\\x1eI\\x1e\\xb5\\xc9\\xcd\"Z\\xdc,\\x81\\x97\\x04r\\x16\\x9f\\x1d\\xd0\\xb8\\\\\\xab\\xee\\xc7A\\xde\\x8b\\x12\\xd9a\\x89W*O\\r\\xceMF\\xd7\\n\\x19N\\xe2\\x08\\xecz\\xd43\\xcb\\x84\\xe0\\xe7\\x03#\\x15E\\xc9p2~oZq@\\x91\\xd0A!\\x94\\x009\\xfcj\\xe7\\x94H\\xce\\xd1X\\xday,y#\\x02\\xb6\\xa3\\x9fjc\\x8cU\\x14\\x86\\xf9,~R\\xa3\\xf3\\xa4\\x10\\xe3\\x03*=iL\\x80\\xf0\\x08\\xdchh\\\\\\xf5\\x03\\xa7\\xad!\\x987\\x92\\xc9\\xf6\\xd9N\\xef\\x99N\\xd1\\x8fAMIRg%\\x06}x\\xef]H\\x86\\xc2[b\\x97QFJ\\xaf\\r\\xd0\\xd7=ak\\x19\\xd4\\n\\xa8;YI\\x03\\xb8\\xe6\\x85\\xa8\\xe5\\r.J\\xf14\\xb6\\xed\\x1c|HW*OJ\\xa7igwj\\x869\"\\n\\x07=G5\\xd3\\xacH\\x928\\xc7\\x03\\x18\\xa4\\xb9\\x89|\\xbd\\xc0\\xf1\\x9e=\\xaa\\xacg\\xd0\\xc0\\xb4\\xb8R\\x03\\xa9\\xceOB+\\xa1\\xd2\\xb5\\xb4\\x9bR\\xfb$\\xd6\\xe2G\\x8f\\x84\\x93\\x1c\\x8f\\xaf\\xb5s\\xff\\x00fx\\x9b\\xcd\\x8b\\x05\\t;\\x95~\\xbdi4)\\x9a\\xdf^\\xdcAfc\\x83\\x9fCIh(\\xc2\\xec\\xec\\xde(]\\x9d\\x11Y\\xb7{\\xe0\\xe6\\x9e?q\\x16\\xd6G\\xda{\\x16\\xce)\\x82\\xda@\\xc1\\xbc\\xc01R<\\x12\\xb9\\xc8\\x93\\xe5\\x1c\\xf4\\xac\\xdc\\x8e\\x85OBm\\n\\x11\\x07\\x88b\\x91\\x00\\x08\\xe8\\xcaq\\xd8\\xf5\\xae\\xec\\x0ek\\x86\\xb3Y-\\xb5kI1\\x94ipH\\xe83]\\xea\\x00G?\\x9ds\\xd4\\xdc\\x86\\xad\\xa0\\x82\\x83\\xdb\\x15&\\xd0:R0\\xc0\\x15\\x92\\x11\\x17Z1Rb\\x9bL.y\\xb5\\x8f\\x8em\\x92\\x15\\xff\\x00E\\x96<\\x8e\\x08m\\xc3\\xf2\\xad\\x04\\xf1\\x86\\x90n\\x12\\x13#\\xc4\\xa0`4\\x8b\\xb5s\\x8f^k\\xcbL\\x847\\xcb\\xdf\\x9e\\xb4\\xa9r\\xc1\\xb9\\xc9\\xef\\x83\\xda\\xbb\\x9a\"\\xe7\\xae\\x8f\\x10i2\\xdb\\xc94Wq3\\xc6\\xa7h,2k\\x8e\\xd0\\\\M{sq!Uf\\'\\xe5\\xf3\\x02\\x9e\\xb5\\x89\\xa7\\xb5\\xbd\\xdc\\x8b\\x14\\xeb\\x85f\\xe5\\x81\\xc1\\xfc+bo\\x0bD\\xe0\\xb5\\xbd\\xd1C\\xe8\\xdc\\xe7\\xf1\\xa4\\\\N\\xdfM\\x02@Q7\\xedS\\x92w\\xee\\xc9\\xf4\\xadd\\x8a0r\"\\x00\\xe3\\x04\\xe3\\xady\\xad\\xa6\\x83\\xa9\\xd9\\x06\\xfb6\\xa8\\xd0\\x92y\\xd8H\\xcd:d\\xf14Rd]M)\\xfe\\xf8~\\xb56ch\\xf4\\xd5u\\xfb\\xa4\\xe7\\x1cb\\xba}\\x17J\\xb5\\xbd\\xd3[\\xed\\x11\\x07\\x0e\\xfd\\xba\\x81\\xc5x\\xb5\\xa6\\xb5\\xe2H\"S$^~\\xd2y\\x90\\xe4\\x9f\\xaf5\\xb1e\\xf1S\\xc4\\x1aJ\\x18\\xda\\xce\\x03\\x18<+!\\xe3\\x9fZq\\xd3s9E\\xf4=\\x80xWN\\xc3.\\xd92F>\\xff\\x00\\x00W\\x8bx\\xf6{M?\\xc4\\x12\\xd8\\x88\\x8c\\xc63\\xf2\\xef\\xe7o\\xf8\\xf6\\xae\\xe3N\\xf8\\xba\\x970\\xa9\\xb8\\xd2\\'\\r\\xc6\\xe9##g\\xeb\\xda\\xbc\\x8b\\xc5\\x1a\\xd1\\xd5<SytP\\x80\\xf21E=q\\xda\\xafq$\\xcc{\\xd1\\r\\xce]\\xa0]\\xc0\\xe4\\x14\\xe2\\xa1_)\\xa4\\x0e\\x10\\xa9\\x1dy\\xc5\\x12I\\xc2\\x96\\x05U\\x8eH\\x1d\\xa9\\x801W`\\xa1\\x82\\x9c\\xe3\\xb9\\xa6\\x17\\x1b:\\x15\\xe8p:\\x9f\\xa5F\\xa3/\\x93\\xd0\\x0e\\xe3\\x8a\\x9f\\xe4e\\xc4\\x83\\x04\\x8c05<v\\xd0\\xb1Ob1\\x8fJ.4\\xc9\\xec\\xa0\\x90\\xf4S\\x86\\xfb\\xa7\\xb1\\xad\\x98m]\\x95\\xf7\\x0c\\x15\\\\\\x81\\x8e\\xa6\\x9dk\\xf2*\\x18\\xb0\\x00\\x18\\xc1\\x15v6\\x98\\xab\\x05\\xd83S\\xcc\\xcd\\x122\\xfc\\x99\\x03d)\\xcf\\xd2\\xacG$\\xe1v\\x98\\xf2{\\x9a\\xbc\\x15\\xb3\\xf3\\x15\\xc9\\xebO\\x8a\\x16h\\xfeC\\xdf\\xf3\\xa5vR\\x82eT\\xb3I\\xdf;I\\x03\\x19\\xe6\\xab\\xbe\\x91y\\x06\\xb4\\xf7q@\\x1e&<\\x00\\xc3\\xbdh\\xa4\\xa2\\xc9n\\x1aBCcq\\xcfB=\\xaa\\xe5\\xae\\xa7\\x84\\xb6\\xbcXREe$\\xa3r\\xa6\\x92e7\\xa1b\\xef\\xc1\\xba\\xb5\\xad\\xa4\\x97\\x85`dE\\xdc@\\x93\\x90?*\\xe4\\xc5\\xf7\\x9c\\x84\\x05\\xc9\\xcfC]\\xfc\\x9e6\\xbf\\x9a\\x12\\x9eLAH\\xc1\\x00\\x11\\xfdk\\x97x`\\x9a\\xe2I\\r\\xba+HIm\\xb9\\xeb\\xf9\\xd3R\\xb9\\x85\\x99\\xca\\xde\\xc94Q\\xb6\\xc4\\\\)\\xc9\\xd8\\xc7\\x8f\\xf3\\x9a\\xa9\\xa6\\xdd\\x98\\xf5$\\x9d\\xb7d\\x9e\\xa3\\xadt~$\\xd1\\xa0\\xb2\\xd3l\\xe5\\xb6\\xdc\\x8d9\"@\\x18\\x9c\\x9c\\xe2\\xb9P\\x8bk{\\xc1\\xc8\\x07\\x8c\\xd5\\xadP\\xd3\\xb3=B\\t#x|\\xcd\\xae\\xca@e \\x8e~\\xa2\\x9e\\x80M\\x16\\xf0\\x08\\xc7\\x06\\xb9\\xeb\\x0b\\xb9\\x1a\\x10$t\\n\\x8c0K\\xf3\\xcf\\xb5j\\xa4\\x8e\\xda[y\\x07{g\\xef\\x03\\x9a\\xc5\\xadM\\x94\\x82[\\x96\\x84C\\xe5}\\xd5\\x91X\\x96>\\xe35\\xe8Q1 \\x10\\xbcc\\xaek\\xcbK]\\x0bR&\\x82P\\x85p\\xaczf\\xbd3O\\x90\\xcbe\\x04\\x99\\xe1\\x91H\\xfc\\xab*\\x88\\xcd\\xbb\\xb2\\xde\\xe3\\x8e\\x94\\xc2\\xc5\\x87\"\\x9f\\xf5\\xa6\\xd6(B\\x92i\\xa4`T\\x80\\x02\\xb4\\xc6\\x14\\xc4|\\xd9\\xbcg*I\\xf45*H\\xa3;\\xbb\\xd5hN\\xf0Q\\x94\\x86\\x07\\x9e1S\\x05\\xde\\xe0\\x0f\\xa0\\x1e\\xa6\\xbd\\x06gbH\\x8by\\x87\\x07\\x03<c\\x8cV\\xfd\\xad\\xf7\\x92\\x85\\xeeay#A\\x9d\\xc1\\xf1\\x8a\\xc8\\xb3\\xb6<\\xb9<\\xf4\\xabz\\x84\\xbeU\\x81A\\xc1s\\x8f\\xebR\\x973)>S\\xa6\\xd2\\xb5{k\\xe9R\\x1bH\\xe5P\\x06\\\\\\xbfo\\xa5n.\\xe0\\xbc\\xd7+\\xe0\\xe8\\x95#\\x96V\\x18\\xc8\\xc05\\xd6\\xe4\\x1c\\xe1\\x86+\\xd1\\xa7\\x87\\x8b\\x8e\\xa7%J\\xedKA\\xbb\\x8bgp\\xc8\\xa7E\\x1csH\\xca\\xe5#\\x00gs\\xf44m\\x07\\xa56D-\\x19\\x1e\\xd4\\xa7\\x84\\x8d\\xb4\\x1cqRn\\xccK\\xbbh\\x84\\x91\\x86\\x95\\\\\\x00YV\\'\\xca\\xd7\\x9ej\\xb1\\xcb\\r\\xf3O$\\x0cc$\\x95\\xfaWY\\xf6C\\x192\\x14dUl\\xb1\\'\\x1f(\\xac\\xbdgT\\x8e\\xec\\x15\\x81c\\xd9\\x8e\\xbc\\xe75\\xc2\\xe2\\xe2\\xec\\xce\\xb5$\\xd5\\xceU\\xaecvX\\xf7.\\x1ct=\\x8d,\\xd2,>X1\\x9d\\x87\\xa9\\x1d\\x85Y\\x96\\xda\\x0b\\x80\\xeaUU\\xc7|u4\\xb1BZ\\x13\\x1b\\x8c\\x82\\xb8\\xfc(\\xba\\x12\\xb1\\x08\\x0f5\\xec\\x16\\xd1\\xa8\\xdc\\xcaN\\xf23\\xc5j\\xc5\\xa5\\\\\\x892c+\\x8e\\xfb\\xba\\xd6}\\x81\\xdb\\xab\\xdb\\xb9p#RQ{\\xd7m\\x0cdG\\x92\\xe2B{\\x81\\x8a\\xceF\\xb1\\x82fl)\\x88\\x96\\xae[p}\\xb1U\\xd7;EMo\\x9f4\\x8c\\xd0\\x16\\xb1l.W8\\xa6\\xda\\x92#8\\'\\x82r)\\xea\\xc5F\\r\\x16\\xd1\\xee\\x12`\\xf7\\xe3\\xebI\\x97\\x03+[\\xbe\\x92\\xce\\x13\\x88\\xb7,\\xaaT\\x9c\\xfd\\xde\\xb5oA\\xfd\\xee\\x83\\t\\'\\x95$\\x0f\\xa5f^\\xb3K\\x0bI+\\xf1\\x92\\xa1\\x08\\xc6>\\xb5s\\xc3\\xec\\xa9\\xa4\\xb4{\\xd4\\x15\\x90\\x8f\\xd2\\x8e\\x84\\xcaWf\\x83!Q\\xc1\\x18\\xfa\\xd4a\\xb0\\xf88\\xfc\\xe9X\\xb3\\x8e\\x06F{\\n\\x8d\\xa3>a$:\\xa8\\xef\\xb4\\xd2\\xe5b\\xb9\\x0e\\xb5\\x01\\x9bMwy2\\xab\\x8c\\x00zs\\\\\\x95\\xe5\\xba\\xc0\\xd1\\xca\\xaeJ\\xb3\\x00s\\xcdu\\x92\\xb4r\\xdaJ\\x85\\xf2\\x8e\\xa7o\\xb9\\xaeJ\\xf1\\xc9\\x83k)\\x188\\x03=*\\xe2C\\xdc\\xf4\\x1d&\\xda\\xce\\xfb\\xec\\x91,Q\\x16\\x9c\\xaa *9j\\xd8\\xbe\\xd3\\x9bCU\\x8c*m=\\nW%\\xa5<r[Z\\x15\\x90\\xa1]\\xbeYV\\xc1\\x0f\\xed\\xef\\x9a\\xedu\\x9b-]!Iu\\x19\\x0c\\x84q\\x9c\\x8e>\\xb8\\xa5$k\\x1dL[\\x8b\\xa2\\xf6\\xcc\\xacw/\\xb8\\xce+\\xab\\xf0\\xf4\\xe2\\xe3D\\xb4\\x90\\x1f\\xe0\\xdb\\xf9\\x1cW\\x14s\\xb4\\x8fz\\xea<(\\xfb\\xf4\\x96Uv\"9Y@\\xacg\\xaa&J\\xcc\\xe8pI\\xebK\\xb7\\xd4\\xd4aGr\\x7f:\\x08P{\\xfeu\\x89$\\x98\\x00t\\xa6\\x1e\\xbdi6\\xaf<u\\xf5\\xa0\\x85\\xec(B>l\\x8fI\\xba\\x82F1H\\xb3+\\x01\\xf7\\x9b\\x06\\xb4c\\xb4\\xf2\\xf64\\xa0\\x16<\\x91\\xe8}\\xaaX\\xf3\\xbb\\xa88\\x1c\\n\\x93\\xe6~X`c\\xf0\\xae\\xeb\\x99\\xea>\\x15e#o\\xcc\\x0fPj\\xbe\\xb6\\x08{e#\\x03\\x93\\x8a\\xb3\\x03\\xc7\\x0c\\x84\\xca\\xf8\\xe9\\xc5\\\\\\x8e\\xda\\xdbS\\x93\\xf7\\xbc\\xed\\x18\\\\\\x13\\x9a\"\\xf9]\\xc7k\\x9az\\x03\\xdb\\xc1\\xa6\\xa2\\x99\\x11\\\\\\x9c\\x91\\x91[JA\\x1cW3k\\xe1[y\\xc9q4\\xb1\\xafl\\x1a\\xbc\\xbe\\x15\\xb8\\x8c\\xe6\\rJQ\\xc7\\x01\\xab\\xb2\\x18\\xc8\\xa5fa,,\\xa5\\xaa6\\x81\\xf44oe=N+\\x04\\xe9Z\\xf490\\xdd$\\x81}O_\\xce\\xa3\\xf3<C\\x0c\\xbb^\\xd9\\x19{\\x9c\\x8c\\x0f\\xc6\\xb7X\\xb83/\\xaa\\xc9\\x1b\\x97Y\\xb8\\xb7\\x92\\x12\\xdc:\\x91\\x9a\\xe0\\xae\\xed\\x9a\\xde\\xf2[X\\xdc<]\\t\\x06\\xb6\\xf5\\x1dq\\xe3\\xb71G\"\\x8b\\x86\\xf9IQ\\xc0\\xf5\\xeb\\xde\\xb9\\xf6t}\\xaa\\x8cO\\xcb\\x93\\x9e\\xb5\\xc9^jOC\\xaa\\x9cyU\\x99\\x0c27\\xda\\x1c\\xb6\\x0f\\xcd\\x8cc\\x9cV\\xbaBd\\x84\\x05\\x03\\xe8Mc+\\xb0|\\x91\\xcf\\xadmX\\\\\\x87*\\xac\\t\\'\\x81\\xcds\\x15\\x1d\\xca\\xd0\\xdb\\xff\\x00\\xa7\\xc0\\xee\\x8b\\x95\\x97\\x0c\\x00\\xecp\\x05vJ\\xc9\\x1a\\x80\\xa3\\x81\\xdb\\xbdq\\xf7D[j\\xc9\\x95$\\x8d\\xa5Nzs\\xfa\\xd7Wiu\\x1d\\xc2\\x06O\\xc4Q4t\\xc0\\xa7\\x93\\xf3\\x0fsRA\\xfe\\xb4S\\x08\\xcb>\\x07\\xf1\\x1f\\xe7O\\x81\\x1deS\\xdb5$\\xb7\\xa9h\\xe4\\xd4\\xb6\\x87\\x99\\x07L`\\xd4rgq\\xf9z\\x1a-\\\\y\\xaf\\x9c\\x00G4=\\x8a\\x8e\\xe6o\\x89\\x0crY$d\\x11\\xbeA\\x86Q\\xd3\\x15>\\x8a\\x10Y\\xaa#\\x12T\\xf5?AS\\xea\\xb6\\xa2\\xe6\\xc4\\xc6\\x8c\\x00la\\xc7o\\xa5P\\xf0\\xb9o*x\\x18\\xe7\\xcb<\\x1cs\\xe9B\\xd8$\\x93f\\xf6\\xe6\\x1c\\x06\\xe0u\\xa8\\xae\\x9ax\\xa0y\\x11\\xba\\x0e\\xfc\\xe6\\xa6\\xf9\\x8ezP\\xcb\\xe6D\\xd1?\\xcc\\xa7\\xa8\\xa5\\xcc\\xc7\\xc8\\x929\\xd7\\xdd\\x15\\xbb#.\\x078=6\\xf7\\xae{P\\x91\\x8a)\\x11\\x95\\xec[\\xdb\\xde\\xba\\xbdv\\xc4\\x9b-\\xf03\\x16\\x04e{\\x91X\\x16v\\xd1\\xdf\\\\%\\xbc\\x8e@\\x91\\x82n\\x1d\\xb3ZE\\xf51\\x92\\xb35te\\x8e]6%\\x07\\x1c\\xe0\\xf3\\xd0\\xf5\\xeb]T\\xda\\xd6\\xa3x\\xa9mw;<(\\x02\\xa98\\xc9>\\xe4u\\xacD\\xf0\\xbc\\x96\\x01\\xd2)\\xe7\\xf2\\x87$\\xab\\x01\\x9a\\x9dt\\xa8]s\\xf6\\xcb\\x86\\'\\xa0\\x12T\\xbdJR\\xb1$\\xf1\\xb2\\x10\\xea\\t\\xe7\\xb5t^\\x15\\x95LWH\\xbc\\x01&v\\xe3\\xb9\\xac\\x18t\\xbbh0L\\xb7\\x126z\\xb3\\x13\\x8a\\xd0\\xf0\\xa80j\\xba\\x92\\x1d\\xfb\\\\\\xab\\x82\\xc2\\xb2\\x9e\\xc1\\'s\\xb2^iv\\x8ab\\x91\\x80sA9\\xac\\x19\"\\x9e\\x0f\\x14f\\x9b\\xb8\\xfaQL,x4\\x7f\\xeb\\xb3\\x801\\xd6\\xac$\\xe0\\xa3\\x06\\x04dm\\x18\\xaa\\x8av\\xb0\\xcb\\x80\\xedS\\x16\\x11D\\xa4\\x95\\'\\xb9=k\\xb0\\x84\\xee\\x8c\\x95i\\x12LL\\xc4\\xber7\\xf7\\x15\\xd2\\xf8r\\xdc\\xbd\\xc0f\\xcf\\x96T\\xe7\\xde\\xa8-\\xcc/\\x9d\\xd1#l\\xe8H\\x1f\\x95h\\xd8\\xeb\"%\\x01c\\xc0\\xe8\\x00\\x18\\xc5)\\x15\\x1b\\\\\\xed#\\x8e(\\x95U\\x06\\x17\\xd2\\xa6\\x07x\\xe2\\xb9{=jin\\xb0\\xca|\\xa2p8\\xad\\xc6\\x92I# \\x11\\x1a\\xf7c\\xd6\\xb0w\\xb9\\xd0\\xac\\\\\\x07\\t\\xc9\\x1e\\x95\\x8f\\xab\\\\Fm\\xde8\\xe5U~\\x99\\x07\\x9c\\xfab\\xaf\\x19\\xd5`\\xd9\\x1c\\x82Y\\x00\\xc0+\\xd7\\xf1\\xaeR\\xf2\\xd4\\xbe\\xaa\\x1aId\\xdf\\x90s\\x8c\\x0f\\xa5\\x11\\xbd\\xc5#\\x9e\\x96\\xc7\\x0e\\xc2r\\xc2R\\xc3\\x8c\\xf3L\\x94\\x04p\\x17\\xa0\\x18\\xe0\\xd7G\\xe28b\\x96hgI<\\xb9\\x94lp{\\x8cV\\x05\\xbd\\x95\\xc0\\x91m\\xca\\x16f\\xfb\\x8d\\x8c\\x0f\\xce\\xbaS\\xb9\\x84\\x91\\x02a\\xdb\\x03\\xf1\\xcdt:=\\x8a0\\x12\\xb7Px\\xaa\\x16Zt\\xb7\\x17EDa\\x14\\x1c\\x16n\\ru\\x16\\x90\\x08-\\xc2m\\x1d?:D\\xc5js\\xfa\\x9c!\\xf5\\x88w\\x12\\x06q\\x9f\\xa5h\\xc54\\xe70\\x996\\x8cpUEU\\xd6\\x10\\x1b\\xdbV\\x1dw\\x11V\\xe3\\x8d\\x95\\x89 q\\xc7\\x15]\\r\\x13hr\\xc4W\\x85\\x91\\xaaE\\x8d\\xb7\\x8621\\xc7\\xa5\\x1b\\x88=*U4\\x9a\\x06=\\xe3~\\x9ek\\xfeu\\x8bw%\\xcc\\x17\\x83l\\x8cc#\\xa15\\xbe\\xc7 UV\\xb6I\\x9dC\\xa8#4\\xad\\xa0\\x8a\\xb6\\xa1\\xe6R\\x1eV\\x8f(B\\xb6\\t\\xe6\\x8f\\x0cB\\xf6\\xd7r\\xfd\\xa6\\xday|\\xce\\x17j\\x9c\\x93\\x9e\\xf5\\xbal<\\xb4U)\\xb7+\\xc7\\xd2\\xb4l\\xa5\\xb7\\xbfT\\xb5\\xb9(\\x97\\x03\\x11\\x89\\x0bm\\n\\x14q\\x8c\\xfbqB\\xd85E4\\xd5,%W)\\xa7\\xdc\\x1d\\x9f{\\xe5\\x00\\xfeY\\xa8\\x9f^\\xb4\\x8b\\xa6\\x976\\xd1\\xdd\\x80\\x15J\\xce6\\x83Q\\xd4m\\xc3\\x96\\xdb/\\x07\\xaeF:\\xd6W\\x88Q\\xe3\\x10\\xc8\\x1d\\x80l\\x823\\xf4\\xa4\\xb7)\\xad\\x0e\\xa0\\xde\\x1b\\xb8\\x18\\xc7\\xa4|\\x8c\\xbf+\\x1cs\\\\zi\\xb7\\x9am\\xc2\\xcd=\\xbf\\x96\\xad2\\x90w\\x0e9\\xae\\xc3Fw\\x93I\\xb5-\\x8f\\x95v\\x9f^\\xb5%\\xd6\\xd1=\\xb3\\xe0\\x91\\xe6\\xe0\\x8e\\xb9\\xc8\\xc5V\\xc6e\\xa3\\xa9\\xd9\\x1cfL\\x86\\xe9\\xcfZ\\xd9\\xb1\\x86\\xdaK8\\xa6Hc\\xf9\\x94\\x1c\\x85\\xeb\\\\\\x88\\xb3\\x11\\xc74;\\x08\\x003&p\\xc0w\\xfeu\\xd2xjR\\xfa\\x05\\xae\\xe0\\x01\\t\\xb7\\xf5\\xac&Q\\xa8\"L\\xfd\\xd1\\xf9T\\xa24\\r\\x90\\xa3\\x9fjj\\x9axa\\xefX\\xb6\\x08p\\x03\\x18\\xa0qM$\\x1fZ\\x01\\xe3\\x80h\\x18\\xa4\\xf1\\x9aZi<S\\x86Oj\\x00\\xf9\\xe5\\xac\\xfc\\xc6\\x124\\x84\\xba\\xb0\\xc6z\\x11R\\xdd\\xc4\\xd7\\x1f\\xba\\x8d\\x88=\\xa9\\xec\\x18\\xe3f6\\xe7\\xa5Ayzla\\x04\\xa9gv\\xc2\\x8fJ\\xecG:e\\xdd*\\xc5\\x04o\\xe7\\x9d\\xb8\\xe8\\xf9\\xefJ\\x8b\\x05\\xaeZID\\xbb\\xdb\\x85\\r\\xc8\\xe7\\xd2\\xa9E;\\xcbjD\\xc7i\\x93\\x90W\\xb5Ux\\x92\\xd5\\x84\\x8c]\\xd3\\x8eA\\xc9_\\xad;6l\\xb6:\\xbb\\rR\\xdd$bT*t\\xdd[77\"k6P\\xe0n\\x19\\x06\\xb8%f^I<\\xf4\\xabp^\\xbep[\\x03\\xd2\\xa1\\xc4jv:\\x9d0\\xfd\\x81\\x1d\\xaeg\\xfb\\xc7\\x82O&\\xb2\\xb5+\\x89\\xefeamp\\x1a5<\\x03\\xc1\\x1fCX\\xb7\\xbfh\\xb9\\xbd\\x8eEo\\xdcF9\\x1b\\x8f>\\xf5f\\x06e+\\xe5\\x93\\x8c`T\\xf2\\xb1J\\xa1\\xd3\\xc3g\\x14\\x961\\x0b\\x80\\x1d\\x94\\x86b{\\xd3%\\x84I\\x04\\x825\\x1bc\\\\\\x8eq\\xb7\\xbek\\x18\\xea\\xce\\xd2y{\\xca\\x85!H\\xa7\\xb5\\xe4\\xe2\"\\xa5\\xdb\\xcbo\\x94\\x81T\\x90\\xf9\\xael\\xd9.\\xc4\\x8c\\x1c\\x9d\\xaa*\\xfb\\x7f\\x0f\\x1cb\\xb2,\\xe6b@ \\x83\\xd3\\xa5j1\\xc2\\x03\\xdb\\x15HF\\x1e\\xb8\\x16?\\xb3H\\x0f\\xcce\\xe7\\xe9Wm\\x99\\xa4\\x8aVbJ\\x8c~uWX\\xb7{\\x88\\x15\\xa3B\\xcc\\xad\\xd8r\\x05E>\\xae-\\xed\\x85\\x95\\xbc\\x7f\\xbc\\'\\xf7\\x84\\x9eV\\x9d\\xc2\\xe5\\xc9\\x19\\xd0e#y03\\xf2\\xe2\\x9a\\x92\\xdc\\xba\\xef[7#\\xfd\\xe1Y\\x7fnu]\\xbb\\xcf=9\\xabi\\xaa\\xcb\\x04;U\\x8e[\\xa6\\x07CJ\\xe3\\xe6F\\x89\\xb8\\xb8\\n\\x9b\\xadJ\\x829,\\xe2\\x88.\"\\xde\\x1ei\\x924\\x07\\x9c\\x1c\\xb7\\xe0+\\x12\\xea\\xfe\\xe6{f\\xc4\\xc1Kr\\xd9\\x1f\\xca\\xb2\\xdd\\x98\\x85eq\\xbb9\\xcezz\\xd3Bm\\x1d\\x8c\\x1a\\xd2\\xcb;F\\xc5\\xf0~m\\xccsWc\\xbf\\x80HA\\xda7t\\xc8\\x15\\xc6Z\\xdc\\xbcn\\x1d\\x80%zg\\xbdY}B%\\t\\xb8\\x12\\xec~\\xe8\\x1d)X.v\\x1b\\xe2\\x12\\xfd\\xa3\\xcc\\xda\\xc4a\\x9cw\\xaes\\xc43\\xab\\xdb\\x00\\x186\\x1f\\x82\\x0f\\xb5@\\xf7&\\xea\\x1d\\x91\\x03\\x1b\\x0e\\xde\\xb5\\x1d\\xfc\\xd2\\xbe\\x90\\xb0\\xb4i\\x98\\xdbv\\xf1\\xf7\\x8d5\\xb9W\\xd2\\xc7M\\xe1\\xd6yt1\\xb0\\xaew\\x1a\\xbfv\\x1c[\\x89\\x19y\\x8d\\xd5\\xb8\\xed\\x82+/\\xc1sy\\xbad\\xc8\\x18nV\\xe9[:\\x89Ce*7\\r\\xb4\\xe0\\xfa\\x9aOrK2\\x85\\x113\\xbbq\\xb4\\xe0\\xfa\\xd4\\xbe\\x13m\\xda>\\xc1\\x83\\xb2F\\x19\\x1f\\x9dd\\xd8]\\xac\\x9b\\x03:\\xe1Gr*M\\x03T\\x8fL[\\xe4\\x9d[\\r9e\\xda\\xa4\\xf1Q8\\xe8\\x07a\\xf7F{\\xd2\\x8c\\xd7;/\\x8b\\xf4\\xe4l3\\xb8o\\xee\\x91\\xcdB\\xde9\\xd3@\\xc6$?B+\\x0eF3\\xaa\\x14\\xbcW7e\\xe2\\x98\\xb5\\x19\\x1e;[wvD\\xdeA`\\x0e?\\xadR\\xb9\\xf1\\xa7\\x94\\xed\\x1a\\xd9\\xb8q\\xd9\\x8f\\xf8\\n|\\x8c\\x0e\\xc0\\x90\\x05\\x01\\x80\\xae\\x1f\\xfe\\x13\\x89\\x89\\x1bl\\xfa\\x8e2\\rX_\\x12j\\xd2(1\\xe9\\xc5\\x81\\xe8v\\x7f\\xf5\\xe8T\\xd86y\\x88y\\xa1\\x00\\xfd\\x9d\\xdcd\\x93\\xb7\\x9cU=Fi%h\\x88\\x88\\xc5\\x81\\xc38\\xadhI\\x9aeX\\xcbq\\xc1\\xdb\\xcejmGHyZ\\x01\\x10$\\xe7\\xe6l\\xf0\\x05u\\xa38\\xc4\\xccDCo\\xb0\\x92\\x10\\x8f\\xbc\\rU[X\\xec\\xf1\\xe6.\\xf0\\xe0\\xfc\\xe0\\x92kq\\xb4\\x99Df%\\xd8A\\xc6Oz\\x91t`P\\x99%\\xe7\\x18\\xc0\\x1cU\\x16c\\xb4D.\\xe4+\\x85\\x19\\x00\\x9aj\\xb2\\xbane\\xda3\\xc8\\xc6s]-\\xae\\x9d\\x12\\xdc*\\x8bp\\xca\\xab\\xcb\\xb3p+N\\xe3B\\xb3\\x8eC\"*\\xb6\\xe5\\x1f(^\\xfe\\xb4\\x95\\xba\\x89\\xae\\xc77kc$\\xa8\\x86>N9\\xa7\\xdeh\\xf3\\xa8\\x8aE\\x93\\xcb\\xdarW\\x1dky\\x8cv*6\\x86\\\\\\xf6P)\\xeeM\\xd2\\x03\\x8c/oZ\\xb6\\xe2\\xd6\\x84\\xa4\\xfa\\x9c\\xc4v\\xb3\\xb4\\xa7\\x8f\\x94\\x8e\\x98\\xab\\xbfe\\x94\\xa8\\xfd\\xdb\\xe0\\x1a\\xd7\\x8e\\xd9#\\xe4\\x02O\\xbdK\\x1f\\x11lv\\xdcs\\xc6\\x05fYJ\\xca\\t\"\\xc398\\'\\xf8\\x8eMl\\x80\\x1e\\x10:T\\n\\xab\\xb8dw\\xad\\x08U6\\xf2\\x07\\xe5R\"\\xa5\\xba\\xa0\\x90/S\\x8c\\x93Yz\\xaf\\x86|\\xcb\\xb5\\xbc\\x81\\x87\\xef:\\xa6z\\x9fZ\\xdb`\\x16~\\x00\\xa7\\xdf;.\\x98\\xac\\x8e\\x03)\\x1d\\x0fJ\\x10\\xce\\x1a]\"\\xfe\\t\\xcbO\\x1a\\x95\\xe3\\x9fOj\\xa9x\\xd3\\xc5:\\x04R\\xc8\\x0fn\\xd5\\xd0\\xddOsp\\xb8\\x92b\\xc3\\xae*\\xb8\\x88\\x9e\\x9cf\\xae\\xc2\\xb1\\x8d%\\xc2E\\x1b\\x16\\xdd\\x91\\xdb\\x1c\\x1al-\\x1c\\x84\\x9d\\xd8\\x07\\xa7\\x1d\\xeb\\xa1{E\\x916\\x90\\xa4\\xe3\\x9alV\\x01\\x87*\\x9ct\\xe2\\x8b!X\\xcc\\x8e\\xdb\\x81\\xb8\\xe3\\xde\\x92[\\x0b\\x86\\x94<`:\\x9e8==\\xebxY\\xfa\\xb0?\\x85O\\x15\\xba\\xa1\\x19\\xc5\\x16\\x19\\x99g\\xa7\\xba\\xed2\\x02\\x8d\\x8e\\x95bm5\\xb9\"F9\\x18\\xe4V\\xc4p\\xe7\\x01FMK\\xe5g \\xf4\\x1dF*XX\\xe7lt\\x92\\x8a\\xee\\x0b\"\\x03\\x82U\\xc8\\x04\\xfe\\x15o\\xecV\\xe26c\\xb9\\xbb\\x8d\\xccy\\xab\\xa9l\\xe2wT8\\x04zT\\x12+\\xc4\\xa2-\\xac\\xd29\\xda\\xa8:\\x93Hfy\\x82\\x10\\xa0\\xac!\\x9c\\xf0\\x8a9,}\\x05mA\\xe1\\xa6\\xd1\\xf4\\xf5{\\xc9\\x14\\\\\\xce\\xa0\\x98\\xf3\\xd0}}j\\xf5\\x85\\x82h\\xb1\\x0b\\x9b\\xb1\\xe6^\\xb0\\xf9\\x13\\x83\\xe5\\xff\\x00\\x9fZ\\xa7q<\\xd3\\xcd\\xe6M\\xbc\\xb3t=@\\xa6\\xd8\\x0c\\x16V\\x86`\\xce\\x81\\xb3\\xd4\\xb0\\xc9\\xa2{\\x0b\\x0f$\\x8f)r3\\xf3m\\xc5XH\\xc0\\xea\\xc7=\\xe9^\\x15\\x97\\x869\\x1e\\x94\\x80\\xe7l\\x85\\xee\\x87s%\\xdd\\x99\\x0eq\\x85\\xe7\\xb1>\\x9d\\xeb\\xa7\\xb2\\xbf\\xd3\\xfcK\\x07\\x94\\xf2-\\xa6\\xa6:\\xa9\\xe8\\xf8\\xaa\\xbffU?{\\x8fJ\\xa5\\x7f\\xa4E;\\t\\xa0\\x7f*\\xe0r\\xac8\\xa2\\xe0Msd\\xf6\\xf3\\xf9w\\x110u\\xf5\\x15\\xb5\\xa5_\\xc7\\x1d\\xb2\\xc31\\xc0\\x1d\\x0ezVn\\x9b\\xe2E\\x9d\\x7f\\xb3<B\\x98e\\x01c\\xb9\\xc7 \\xfb\\xd5\\xcb\\xcd(\\xd9a\\xcf\\xcf\\x13r\\xae9\\x14\\t\\x98V\\xb6\\x11[\\xc4U\\x00\\xcdH\\xd9\\x03\\x00\\x90s\\xd8S\\x91\\x8d!\\\\\\xf6?\\x85;\\x14V\\x923\\x92Fy\\xf4\\xedQ\\x08\\xdf9\\xc9\\xab\\xa22\\t\\xc0?\\x89\\xa96\\x13\\xc6\\xdaW\\xb0\\xca\\x0b\\xb93\\xc9\\xab\\x87Ps\\x18\\x8c\\xa7\\xcd\\xd3#\\xa5\\r\\x01 \\xe1iDEWn\\xdc\\x1e\\xfcQq\\x15Y\\xc9\\xfe\\x1c\\xfe5f\\x06$`\\xae(1\\xae\\x00\\xdb\\x83\\xebV\"\\x8d\\x80\\x07o\\x07\\xbdWA\\re\\xe0b\\xab.\\xe0\\xfc\\xa9\\xc5_+\\xeb\\xc5@S\\xe6\\xc0\\xa4\\x04\\x88\\xa1\\x95\\\\\\x0c}jfV\\xc0\\x03\\xee\\x9fJ!\\x81\\x9a\\'l\\xf0\\x83\\'\\xde\\xa4\\\\m\\xe0\\xd4\\x81ZP\\x13\\x0c\\x19\\x89\\xe9\\xcdUv\\x91\\xce\\xd2\\xdf)\\xed\\x8a\\xbb0\\xdc8\\xfeU\\x1a\\xc5#\\x8c\\x1c\\x829\\x07\\x14\\xd3\\x02\\x93D\\xa0\\xfbS\\x04H\\x0f\\xdd\\xad\\x15\\x84\\x95\\xe8\\x7f*F\\xb6\\xe3\\xa1\\x1f\\x85Rb)\\x95\\x07\\x18\\x02\\x9a\\xf1\\xb3\\x0c\\x83\\x83\\xedV\\xcd\\xa98\\xc5\\'\\xd8\\xa5\\xdb\\xc09>\\xb46\\x04q#a3\\xf8\\xd3\\xb9\\x04\\xe0\\x83V\\xd2\\xd5\\xc4a\\x88\\xa6\\xb5\\xbc\\x8c\\xc1T\\x81\\x8e\\xb4\\xb9\\x80}\\x9c\\xaf\\x14\\xea\\n\\xf0\\xdc\\x1e*+\\xb7\\x99&\\x93\\x12\\x11\\x93\\xf9\\xd5\\x94I\\xb7\\x8cm\\xe3\\xbdCp\\xb2\\x99R\\x15C%\\xc4\\xe7\\x11\\xa2\\xf3\\xb8\\xd2\\xb8\\x14\\x94\\xcb\\xbdc\\x8ft\\x93Hv\\xa2\\x03\\xd4\\xd6\\xd8\\xb5\\x83A\\x84\\\\O\\x8b\\x8dI\\xf8(yX\\xc5Z\\x16\\x96\\xfe\\x19\\xb39\\xc4\\xfa\\xbc\\xc0\\xe4\\x8eB\\x0ct\\x15\\xce\\xb9\\xb9\\x96F\\x96}\\xed#rN;\\xd0\\x1a\\x92\\xc9w5\\xc4\\xcc\\xf2\\x9c\\xb1\\xefFr\\xc0\\x9a\\x8db\\x95\\x86Lm\\xecMH\\x12U\\xc01\\x9az\\x01\"m2\\r\\xe5\\x88\\xef\\x8a\\x90\\xed\\x04\\x91\\x92>\\xb5\\x14K!ll\\xc7\\xd6\\xa71>?\\x87\\x1e\\xe6\\x8b\\xa0\"\\xf3\\x03v4\\x9c\\x11\\xc0\\xc5H\\xd18\\xfe\\xe8\\xfa\\x9aE\\x88\\xb0\\xe5\\xd4~4]\\x02*]\\xd9Ew\\x16\\xc9\\x17\\xa7F\\xc7\"\\x99\\xa7k7z\\x0b}\\x92\\xfdZ\\xefN~\\x00nv\\x8foJ\\xb6\\xd1\\x10\\x7f\\xd6.=\\xa8{?9\\n\\xbb\\xa1C\\xd4\\x11\\x9a\\x1b@N\\xdav\\x08\\xc3\\x00\\x07`)~\\xc4\\x08\\xfb\\xdcU\\xe22zS\\x80\\xe3\\x85\\xac\\xf9\\x8b)\\x0b\\x18\\xc0$1\\xfc\\x05:;EU?19\\xf5\\xab\\x83\\x8eq\\x9aL\\x128\\x14\\xae\\x05?\\xb3\\xaa\\xb1\\xdb\\xdb\\xa5J\\xb6\\xc8\\xecK\\x0c\\x9a\\x94\\xa3\\x7fv\\x97\\x0c\\x1b\\x8e8\\xa2\\xe2+\\xb5\\xacc\\x1f\\'>\\xf4\\x92E\\xfb\\x8c\\x01\\xd0\\xf4\\xabA\\t\\xefQ\\xca\\x87i\\x1b\\x87\\x14\\\\\\x08#\\x8dJd\\xa8\\xcd.\\xd3\\xd0 \\xc7\\xd2\\xa4\\x8c\\x00\\x9fxg\\xebK\\x95\\xcf\\xfa\\xc1UqXdhpA\\x18\\xcd+@\\xc0\\x8e\\x07\\xe5R\\xe0c!\\xa9I\\x04\\x0c5M\\xc6@bl\\x0e\\x94\\x8c\\xbbW>\\x9d*l\\xa9\\xc79\\xa4;\\n\\xe0\\xa94\\\\\\n\\xf9$\\xf4\\xa1\\xc7LU\\x85\\t\\x926\\x9a\\tP~\\xef\\xebN\\xe0\\xd1]T\\x8fBjq\\x18\\xc6sH\\xce\\xa0\\x10\\x13?\\x8d9e\\x0c\\xbft\\x0c{\\xd1v+\\x0c\\xc6r\\x08\\xe2\\xa3\\x08C\\xe7\\x1cT\\xc5\\x87\\xf7E l\\x7f\\x08\\xa2\\xe3\\x18\\xacx\\xc52\\x0b3\\x16\\xab\\x06\\xa4\\x81\\x9eD\\xc8\\xda\\xccq\\xd3\\xb5XS\\xb9A\\x00u\\xa9W \\x11\\xd3\\x07\\xa5+\\x85\\x88^\\x01$\\xc6f-\\xbc\\xfb\\xe7\\x14y\\x08\\xb9,\\xed\\x9f\\xadK\\x9f\\x91\\x87zf\\xd6\\xcd\\x17\\x1d\\x91\\x1f\\xd9\\xe2a\\x9eO\\xe3J-\\xa1 nL\\x9fsR\\x91\\x80}\\x054s\\x8eh\\x01\\x82\\xde\\x14\\xce\\x10S\\xfc\\x98\\xb0>A\\xf9S\\x9f&\\x91zS\\x10\\xa9\\x1ce\\xb9A\\xf9R\\x95A\\x9c(\\xe3\\xda\\x84l0\\xa5s\\x83\\xcd\\x01a\\n\\x8d\\xa3\\n\\x07\\xe1H\\x9fJs\\x03\\xe5\\xe5i\\x13\\x93\\xc8\\xc0\\xa0\\x04\\xde\\xc7\\xbf\\xe9J\\xae\\xfe\\xa4SC\\x03\\xc9\\xea)w\\xa99\\x06\\xa6\\xc04\\xbb\\xb1\\xe4\\x9aR\\x1b\\x19\\xc9\\xa4\\xed\\xc0\\xa6y\\x9b~C\\xd4\\xd3\\xb0\\xc9\\x01s\\x90\\r\\x05O\\xad \\xc9\\xce*X\\xb2OJ\\x04D\\t\\x07\\xbd6Ns\\xcdL\\xdfx\\xfc\\xb8\\xa8\\xe4\\x8d\\xbc\\xb6a\\xda\\x80+r28\\xa5S\\xf3\\x0c\\x9ar\\xe4&\\x0e2i\\xdf\\x88\\xa6\\x03\\x8b\\x00\\xa7\\x06\\x9a_\\x80I\\xfd)\\x08\"\\x8e\\xbc\\x13\\x8a,\\x03\\x86\\xd0A\\x06\\x8c\\x90s\\xce(\\x08\\x00\\xfb\\xdcb\\xaciv\\xa7T\\xbe\\x9a\\xca\\x17\\x02d\\x8fz\\xabp\\x1f\\x1e\\x94\\xd2\\xb87a\\xfa}\\x9b_\\xdf\\x0bT`\\xae\\xeaJ\\xe7\\xb9\\x03;~\\xa7\\x06\\xaa\\xc8<\\xb2U\\x94\\xef\\x07\\x0c=\\rt\\x16\\xba\\x1e\\xa7h\\xf6\\xba\\x84q\\xef\\x89%WR\\x0eI\\xc1\\xeb\\x8a\\xbd\\xe2\\xcf\\x0eL\\x9a\\x80\\xbd\\xb6\\x88\\xbcS\\x9d\\xcc\\xaa3\\xb5\\x88\\xe6\\xaf\\x94\\xcf\\x98\\xe3\\x19\\xc7LqN\\x84\\x80\\xdct\\xab\\xd2\\xe8\\xf7pF\\x8d%\\xb3\\x8d\\xf9\\xc0\\xdax\\xac\\xe9ch\\xe6#\\xee\\xe0\\xe3\\x15-\\x16\\x9d\\xcbl\\xe8\\xbcm\\xfd*9\\x0f\\x98\\xbf(\\xc5\\x0e\\xc0\\xe0\\x0e\\xb4\\xbc\\x801PS\\x11Tyl\\xb4\\xf8\\xb7\\x10\\xe0d\\xd3\\x01 7\\x19\\xa9\\xed\\xce7R`\\x86\\x10y\\xa6\\xed+\\xcdK ,sQ\\xb7 s@\\r\\xc9\\xc9\\xc5 \\x18 \\xd3\\xb1\\xc8\\xc5&0i\\x80\\xfcph\\\\`\\xe7\\xad)\\x04}(\\x00\\x92i\\x88\\x17\\xef\\nW\\x14g\\x06\\x97?6OJ\\x06(\\x1f\\xbb\\xa8\\xfb\\xf3O\\xdc\\x08 TT\\x00\\xc5\\xe7\\xad)\\xc8\\xe9N\\x07\\xda\\x93\\x7f\\xcd\\xd2\\x90\\n[\\xe4\\xe9L\\xf7\\x02\\x8c\\xf6\\xcd7v\\xd3\\xc9\\xa0\\x07#c9\\xe2\\x9c\\xb3\\x80q\\x93\\xf9Tr88\\xc1\\xcf\\xb0\\xa4@\\x1b\\xaeh\\x02\\xc7\\x9a0\\x0b\\ni\\x94\\x10Tg\\x9a\\x88\\x821\\xd6\\x802O\\x19\\xa6 `C\\x1e1L/\\xf2\\x93R\\xbf$b\\x98S#4\\x00\\xd0\\xc4\\x8a\\x01\\x00v4\\xf0\\x9fJB\\xbc\\xf6\\xa0\\x04V\\x04\\x01V\\xb4)\\x92\\xcb\\xc4cP\\x91\\xd9E\\xb4\\x0c\\xc8\\xb8?;\\x9e\\x8b\\xc7\\xd7\\xf4\\xaaDu\\xc1\\xa5\\x8c\\x9c\\x9c\\xb5R\\x13G]\\x0f\\x8d\\xafF\\x96\\xb0,;.\\x80\\xff\\x00Z\\xa4\\x10y\\xce1\\xf8\\xd6\\xbf\\x8a\\xb5\\xeb\\xbd)\\xe2\\xb5\\xb4\\xb9a9]\\xd23\\x00q\\xf8t\\xae.\\xc2Xa\\xbe\\xb7i\\x88\\xf2\\x95\\xc37\\xbe\\x0ej=N\\xf9\\xf5\\x0b\\xf9\\xae\\xa4bL\\x8cO\\xd2\\xab\\x98\\xcf\\x94\\xb97\\x88\\xb5;\\x95U\\x9a\\xf9\\xe4\\nA\\xe4\\x01\\x83\\xf8Vd\\xcd\\xe6\\xb1vff\\'95\\x11\\xe0g4\\x9b\\x88\\x1dx\\xa8n\\xe6\\x89X\\x99G<\\xf5\\xf5\\xa06\\x0f\\'\\xa59H\\xda9\\xa6\\xb8\\x18\\'\\x8aE\\x0f\\x1f6y\\xedN\\x83\\xef0\\'\\xb5E\\x1bd\\xf0E,r\\xe5\\xf1\\xedH\\x13,\\xb1\\x1985\\x11?&;\\xe6\\x80\\xc4\\xb54\\x93\\x9e\\xb4\\x86\\x04\\x11\\x8aP\\xbf74\\x99bzT\\xca\\x84\\x9c\\x11\\xd7\\xa5TQ2v-\\xda\\xd8\\x19\\xed.n\\x0b\\x85\\x8e\\x05\\x07\\'\\xb9=\\x05U\\\\\\x07\\xc5u\\x97\\xbas\\xe9~\\x0f\\xb7\\xb6#7\\x17S\\x02\\xe3\\x1c\\x93\\x8e\\x05sP\\xe9\\x97O\\xa9Ajb\\x91f\\x9d\\xb6\\xa8e?\\x89\\xfa\\n\\xb7\\x1e\\xc4)\\x15\\xd9z\\xd0y\\xe3\\x15-\\xdc\"\\xde\\xe6H\\x8b\\x86(\\xc5I\\x1d\\xea\\x10\\x0e3Y\\xd8\\xb4\\xee*/\\\\Td\\x00N*d<\\x9a\\x89\\xfe\\xfd\\x00\\x866\\x01\\x14\\xc4\\xe4\\xfbT.\\xce9\\'\\x8aP\\x0e\\x01\\x07\\xf5\\xa0\\t\\x8e\\x06A\\xa6\\x1e\\x87 Tg\\'\\xa9\\xc9\\xcd#\\xbe\\x1b\\x04P4\\x10\\x8c9\\xab\\t\\xb3\\x7f^=\\xaa\\x15\\x1b\\xb8\\\\\\x03R\\x05\\xd8\\xddh\\xb06Z1\\xc6\\xc0a\\xb1Q:\"\\xfd\\xde\\xb4\\xc2H^\\x0f\\xe7H_=x\\xc51\\n\\xa5{\\x9a1\\xc9=\\xa9\\n\\xf7\\x04\\xf3H\\x0b\\x0e\\r\\x00\\x86d\\x96\\xc6)\\xca\\xac~\\xf0\\xa0\\r\\xa0\\x91\\xd6\\x903\\x90z\\xd01\\x1e\"\\x0fn}\\xe9\\x81N{S\\xb2\\xfc\\x02\\t\\xa1\\xd78\\xa6!T\\x10{R\\xbf\\xce\\xa7\\x801J\\xb1\\x9c\\xe74<m\\x83\\xc8\\xa4\\x03\\x1c\\xfc\\xb4\\x85\\xb2\\xbf\\xfdj\\x91c\\xf9y\"\\x9a@\\x19\\xe4P\\x02\\x8e@\\xe35\"\\xf2\\x84RG\\xf7E8\\xf48\\xa0d|+\\x81\\xefB.e\\x02\\x9d\\xb7\\x90i\\xe9\\xf2J\\x0bu=)\\x08qB\\xbe\\xd4\\xd2>oSRK\\xca\\x82;\\xd4!\\xb9\\xc5\\x03,As\\x1cN\\x04\\xb6\\x8d(\\xde>dq\\xca\\xf7\\xe2\\xbahu\\xcd\\x02\\x16Y\\x0e\\x91(e \\xee$\\x1d\\xbc\\xf5\\x18\\xaeP\\x91\\x91\\x8e\\xb4\\xf6v\\x1f\\x8dZ\\x95\\x88\\x94nzf\\xb9\\x7f\\x04Ze\\xae\\xa3-\\x9cwq\\tQ\\x91\\x91\\xb7\\x15\\xcf\\xf1\\x0e+3R\\xf1n\\x96\\x9a\\x9d\\x902\\x96YO\\x94\\xcec\\x1f\\xbb\\xdd\\xc7_\\xe7Y\\x1e\\x1f\\xd4\\xbc\\xebi\\xf4+\\x8c\\x18\\xa7Rm\\xce~\\xeb\\xf5\\xdb\\xfe\\x15\\xcf\\xdd\\xc1\\xb8\\xb2J3\\x83\\x83\\x91\\xd7\\x15m\\xe8g\\xcb\\xa9kU\\x81\\xad5\\x19\\xa2s\\xb8\\xee,\\x1b\\xfb\\xc0\\xf3\\x9a\\xaa\\x08\\xc7\\xdd\\xa8\\x99\\x99\\x88\\xdc\\xc4\\xe0c\\x9ar\\xf2\\xb5\\x8b\\xd4\\xd5\\x0fV\\xf4\\xc5!\\n\\xc7\\xe6\\x1f\\x88\\xa6\\x8e)h\\xb0\\xcf\\xff\\xd9'>"
            ]
          },
          "metadata": {
            "tags": []
          },
          "execution_count": 19
        }
      ]
    },
    {
      "cell_type": "markdown",
      "metadata": {
        "id": "xdYAsbYMvOVI",
        "colab_type": "text"
      },
      "source": [
        "##解码图片"
      ]
    },
    {
      "cell_type": "code",
      "metadata": {
        "id": "5Hd96jiuWE4f",
        "colab_type": "code",
        "outputId": "8613f824-021e-4c06-a794-12ebb3ff5984",
        "colab": {
          "base_uri": "https://localhost:8080/",
          "height": 0
        }
      },
      "source": [
        "#解码图片\n",
        "image_tensor=tf.image.decode_jpeg(img_raw,channels=3)\n",
        "image_tensor=tf.image.resize(image_tensor,[256,256])\n",
        "image_tensor"
      ],
      "execution_count": 20,
      "outputs": [
        {
          "output_type": "execute_result",
          "data": {
            "text/plain": [
              "<tf.Tensor: shape=(256, 256, 3), dtype=float32, numpy=\n",
              "array([[[129., 128., 124.],\n",
              "        [119., 118., 114.],\n",
              "        [125., 124., 120.],\n",
              "        ...,\n",
              "        [104.,  96.,  94.],\n",
              "        [108.,  96.,  96.],\n",
              "        [109.,  97.,  97.]],\n",
              "\n",
              "       [[130., 129., 125.],\n",
              "        [119., 118., 114.],\n",
              "        [120., 119., 115.],\n",
              "        ...,\n",
              "        [107.,  99.,  97.],\n",
              "        [110., 100.,  99.],\n",
              "        [113., 101., 101.]],\n",
              "\n",
              "       [[133., 129., 126.],\n",
              "        [123., 119., 116.],\n",
              "        [115., 111., 108.],\n",
              "        ...,\n",
              "        [107.,  99.,  97.],\n",
              "        [111., 101., 100.],\n",
              "        [114., 104., 103.]],\n",
              "\n",
              "       ...,\n",
              "\n",
              "       [[137., 131., 119.],\n",
              "        [137., 131., 119.],\n",
              "        [136., 130., 118.],\n",
              "        ...,\n",
              "        [149., 142., 132.],\n",
              "        [149., 142., 132.],\n",
              "        [149., 142., 132.]],\n",
              "\n",
              "       [[138., 132., 120.],\n",
              "        [139., 133., 121.],\n",
              "        [139., 133., 121.],\n",
              "        ...,\n",
              "        [149., 142., 132.],\n",
              "        [149., 142., 132.],\n",
              "        [149., 142., 132.]],\n",
              "\n",
              "       [[139., 133., 121.],\n",
              "        [140., 134., 122.],\n",
              "        [141., 135., 123.],\n",
              "        ...,\n",
              "        [149., 142., 132.],\n",
              "        [149., 142., 132.],\n",
              "        [149., 142., 132.]]], dtype=float32)>"
            ]
          },
          "metadata": {
            "tags": []
          },
          "execution_count": 20
        }
      ]
    },
    {
      "cell_type": "markdown",
      "metadata": {
        "id": "WXJeCQPZvbZ-",
        "colab_type": "text"
      },
      "source": [
        "##转换数据类型"
      ]
    },
    {
      "cell_type": "code",
      "metadata": {
        "id": "B3_FWmCYMIeJ",
        "colab_type": "code",
        "outputId": "75d6122a-634c-42d3-df4a-15d97f1c66b7",
        "colab": {
          "base_uri": "https://localhost:8080/",
          "height": 0
        }
      },
      "source": [
        "image_tensor=tf.cast(image_tensor,tf.float32)#转换数据类型\n",
        "#图片标准化处理\n",
        "image_tensor=image_tensor/255\n",
        "#我们查看下这个图片,看到底是不是范围是0-1\n",
        "image_tensor.numpy().max()\n",
        "image_tensor.numpy().min()"
      ],
      "execution_count": 21,
      "outputs": [
        {
          "output_type": "execute_result",
          "data": {
            "text/plain": [
              "0.0"
            ]
          },
          "metadata": {
            "tags": []
          },
          "execution_count": 21
        }
      ]
    },
    {
      "cell_type": "markdown",
      "metadata": {
        "id": "dnqJhV0FqNFI",
        "colab_type": "text"
      },
      "source": [
        "以上呢，是对单一图片的整个处理方式：\n",
        "\n",
        "1. 读取这张图片\n",
        "\n",
        "2. 对图片进行解码\n",
        "\n",
        "3. 转换图片数据类型与标准化\n",
        "\n",
        "\n",
        "接下来，我们写一个函数来对整个图片数据集进行处理："
      ]
    },
    {
      "cell_type": "code",
      "metadata": {
        "id": "LIkc5HEFsLK1",
        "colab_type": "code",
        "colab": {}
      },
      "source": [
        "def load_preprosess_image(image_path):\n",
        "  img_raw=tf.io.read_file(img_path)#读取路径\n",
        "  image_tensor=tf.image.decode_jpeg(img_raw,channels=3)#解码图片,3代表解析的是彩色图片\n",
        "  image_tensor=tf.image.resize(image_tensor,size=[256,256])#图片可能会变形,告诉tensorflow大小是256×256\n",
        "  image_tensor=tf.cast(image_tensor,tf.float32)#转换数据类型\n",
        "  image_tensor=image_tensor/255#标准化操作\n",
        "  return image_tensor #返回处理结果"
      ],
      "execution_count": 0,
      "outputs": []
    },
    {
      "cell_type": "code",
      "metadata": {
        "id": "vYf9NXnQwWkS",
        "colab_type": "code",
        "outputId": "ed19bcda-3c18-4928-848b-6a958a2342d4",
        "colab": {
          "base_uri": "https://localhost:8080/",
          "height": 0
        }
      },
      "source": [
        "image_path_test=all_image_path[100]\n",
        "plt.imshow(load_preprosess_image(image_path_test))#调用并画出来"
      ],
      "execution_count": 23,
      "outputs": [
        {
          "output_type": "execute_result",
          "data": {
            "text/plain": [
              "<matplotlib.image.AxesImage at 0x7f1b60458ac8>"
            ]
          },
          "metadata": {
            "tags": []
          },
          "execution_count": 23
        },
        {
          "output_type": "display_data",
          "data": {
            "image/png": "[encoded data removed]",
            "text/plain": [
              "<Figure size 432x288 with 1 Axes>"
            ]
          },
          "metadata": {
            "tags": []
          }
        }
      ]
    },
    {
      "cell_type": "markdown",
      "metadata": {
        "id": "_e2ADhm0Gf80",
        "colab_type": "text"
      },
      "source": [
        "##构造tf.data"
      ]
    },
    {
      "cell_type": "code",
      "metadata": {
        "id": "rsrExK5eGezs",
        "colab_type": "code",
        "outputId": "9914ea61-5516-4598-9cf4-18d847600ffc",
        "colab": {
          "base_uri": "https://localhost:8080/",
          "height": 0
        }
      },
      "source": [
        "path_ds=tf.data.Dataset.from_tensor_slices(all_image_path)\n",
        "image_dataset=path_ds.map(load_preprosess_image)#建造数据集\n",
        "image_dataset"
      ],
      "execution_count": 24,
      "outputs": [
        {
          "output_type": "execute_result",
          "data": {
            "text/plain": [
              "<MapDataset shapes: (256, 256, 3), types: tf.float32>"
            ]
          },
          "metadata": {
            "tags": []
          },
          "execution_count": 24
        }
      ]
    },
    {
      "cell_type": "code",
      "metadata": {
        "id": "VVUV_8hxrUE6",
        "colab_type": "code",
        "colab": {}
      },
      "source": [
        "#对image_dataset的类型进行转换，我们知道他的图片格式是256×256×3\n",
        "#为什么他没有显示出来呢"
      ],
      "execution_count": 0,
      "outputs": []
    },
    {
      "cell_type": "markdown",
      "metadata": {
        "id": "qkf5JAPtKu0A",
        "colab_type": "text"
      },
      "source": [
        "##构造label"
      ]
    },
    {
      "cell_type": "code",
      "metadata": {
        "id": "xfSzCt9uKtqV",
        "colab_type": "code",
        "colab": {}
      },
      "source": [
        "label_dataset=tf.data.Dataset.from_tensor_slices(all_image_labe)"
      ],
      "execution_count": 0,
      "outputs": []
    },
    {
      "cell_type": "markdown",
      "metadata": {
        "id": "om-Dcsp-MUdM",
        "colab_type": "text"
      },
      "source": [
        "##测试下标签"
      ]
    },
    {
      "cell_type": "code",
      "metadata": {
        "id": "agAgBJ5kMY-b",
        "colab_type": "code",
        "outputId": "206322a7-af62-41a9-b8e5-c49ecb30d749",
        "colab": {
          "base_uri": "https://localhost:8080/",
          "height": 1000
        }
      },
      "source": [
        "for label in label_dataset:\n",
        "  print(label)"
      ],
      "execution_count": 27,
      "outputs": [
        {
          "output_type": "stream",
          "text": [
            "tf.Tensor(0, shape=(), dtype=int32)\n",
            "tf.Tensor(0, shape=(), dtype=int32)\n",
            "tf.Tensor(1, shape=(), dtype=int32)\n",
            "tf.Tensor(1, shape=(), dtype=int32)\n",
            "tf.Tensor(0, shape=(), dtype=int32)\n",
            "tf.Tensor(0, shape=(), dtype=int32)\n",
            "tf.Tensor(0, shape=(), dtype=int32)\n",
            "tf.Tensor(1, shape=(), dtype=int32)\n",
            "tf.Tensor(0, shape=(), dtype=int32)\n",
            "tf.Tensor(0, shape=(), dtype=int32)\n",
            "tf.Tensor(1, shape=(), dtype=int32)\n",
            "tf.Tensor(1, shape=(), dtype=int32)\n",
            "tf.Tensor(1, shape=(), dtype=int32)\n",
            "tf.Tensor(1, shape=(), dtype=int32)\n",
            "tf.Tensor(1, shape=(), dtype=int32)\n",
            "tf.Tensor(1, shape=(), dtype=int32)\n",
            "tf.Tensor(0, shape=(), dtype=int32)\n",
            "tf.Tensor(0, shape=(), dtype=int32)\n",
            "tf.Tensor(1, shape=(), dtype=int32)\n",
            "tf.Tensor(0, shape=(), dtype=int32)\n",
            "tf.Tensor(0, shape=(), dtype=int32)\n",
            "tf.Tensor(1, shape=(), dtype=int32)\n",
            "tf.Tensor(0, shape=(), dtype=int32)\n",
            "tf.Tensor(0, shape=(), dtype=int32)\n",
            "tf.Tensor(1, shape=(), dtype=int32)\n",
            "tf.Tensor(1, shape=(), dtype=int32)\n",
            "tf.Tensor(1, shape=(), dtype=int32)\n",
            "tf.Tensor(0, shape=(), dtype=int32)\n",
            "tf.Tensor(0, shape=(), dtype=int32)\n",
            "tf.Tensor(1, shape=(), dtype=int32)\n",
            "tf.Tensor(0, shape=(), dtype=int32)\n",
            "tf.Tensor(0, shape=(), dtype=int32)\n",
            "tf.Tensor(0, shape=(), dtype=int32)\n",
            "tf.Tensor(1, shape=(), dtype=int32)\n",
            "tf.Tensor(1, shape=(), dtype=int32)\n",
            "tf.Tensor(0, shape=(), dtype=int32)\n",
            "tf.Tensor(1, shape=(), dtype=int32)\n",
            "tf.Tensor(1, shape=(), dtype=int32)\n",
            "tf.Tensor(1, shape=(), dtype=int32)\n",
            "tf.Tensor(0, shape=(), dtype=int32)\n",
            "tf.Tensor(1, shape=(), dtype=int32)\n",
            "tf.Tensor(0, shape=(), dtype=int32)\n",
            "tf.Tensor(1, shape=(), dtype=int32)\n",
            "tf.Tensor(1, shape=(), dtype=int32)\n",
            "tf.Tensor(1, shape=(), dtype=int32)\n",
            "tf.Tensor(0, shape=(), dtype=int32)\n",
            "tf.Tensor(0, shape=(), dtype=int32)\n",
            "tf.Tensor(1, shape=(), dtype=int32)\n",
            "tf.Tensor(1, shape=(), dtype=int32)\n",
            "tf.Tensor(0, shape=(), dtype=int32)\n",
            "tf.Tensor(0, shape=(), dtype=int32)\n",
            "tf.Tensor(0, shape=(), dtype=int32)\n",
            "tf.Tensor(1, shape=(), dtype=int32)\n",
            "tf.Tensor(1, shape=(), dtype=int32)\n",
            "tf.Tensor(1, shape=(), dtype=int32)\n",
            "tf.Tensor(1, shape=(), dtype=int32)\n",
            "tf.Tensor(1, shape=(), dtype=int32)\n",
            "tf.Tensor(1, shape=(), dtype=int32)\n",
            "tf.Tensor(0, shape=(), dtype=int32)\n",
            "tf.Tensor(1, shape=(), dtype=int32)\n",
            "tf.Tensor(0, shape=(), dtype=int32)\n",
            "tf.Tensor(0, shape=(), dtype=int32)\n",
            "tf.Tensor(0, shape=(), dtype=int32)\n",
            "tf.Tensor(1, shape=(), dtype=int32)\n",
            "tf.Tensor(1, shape=(), dtype=int32)\n",
            "tf.Tensor(1, shape=(), dtype=int32)\n",
            "tf.Tensor(1, shape=(), dtype=int32)\n",
            "tf.Tensor(1, shape=(), dtype=int32)\n",
            "tf.Tensor(0, shape=(), dtype=int32)\n",
            "tf.Tensor(1, shape=(), dtype=int32)\n",
            "tf.Tensor(1, shape=(), dtype=int32)\n",
            "tf.Tensor(1, shape=(), dtype=int32)\n",
            "tf.Tensor(0, shape=(), dtype=int32)\n",
            "tf.Tensor(0, shape=(), dtype=int32)\n",
            "tf.Tensor(0, shape=(), dtype=int32)\n",
            "tf.Tensor(1, shape=(), dtype=int32)\n",
            "tf.Tensor(0, shape=(), dtype=int32)\n",
            "tf.Tensor(1, shape=(), dtype=int32)\n",
            "tf.Tensor(0, shape=(), dtype=int32)\n",
            "tf.Tensor(1, shape=(), dtype=int32)\n",
            "tf.Tensor(0, shape=(), dtype=int32)\n",
            "tf.Tensor(0, shape=(), dtype=int32)\n",
            "tf.Tensor(0, shape=(), dtype=int32)\n",
            "tf.Tensor(1, shape=(), dtype=int32)\n",
            "tf.Tensor(1, shape=(), dtype=int32)\n",
            "tf.Tensor(0, shape=(), dtype=int32)\n",
            "tf.Tensor(1, shape=(), dtype=int32)\n",
            "tf.Tensor(1, shape=(), dtype=int32)\n",
            "tf.Tensor(0, shape=(), dtype=int32)\n",
            "tf.Tensor(0, shape=(), dtype=int32)\n",
            "tf.Tensor(0, shape=(), dtype=int32)\n",
            "tf.Tensor(0, shape=(), dtype=int32)\n",
            "tf.Tensor(0, shape=(), dtype=int32)\n",
            "tf.Tensor(0, shape=(), dtype=int32)\n",
            "tf.Tensor(1, shape=(), dtype=int32)\n",
            "tf.Tensor(1, shape=(), dtype=int32)\n",
            "tf.Tensor(1, shape=(), dtype=int32)\n",
            "tf.Tensor(0, shape=(), dtype=int32)\n",
            "tf.Tensor(0, shape=(), dtype=int32)\n",
            "tf.Tensor(1, shape=(), dtype=int32)\n",
            "tf.Tensor(1, shape=(), dtype=int32)\n",
            "tf.Tensor(1, shape=(), dtype=int32)\n",
            "tf.Tensor(1, shape=(), dtype=int32)\n",
            "tf.Tensor(0, shape=(), dtype=int32)\n",
            "tf.Tensor(0, shape=(), dtype=int32)\n",
            "tf.Tensor(1, shape=(), dtype=int32)\n",
            "tf.Tensor(1, shape=(), dtype=int32)\n",
            "tf.Tensor(0, shape=(), dtype=int32)\n",
            "tf.Tensor(0, shape=(), dtype=int32)\n",
            "tf.Tensor(1, shape=(), dtype=int32)\n",
            "tf.Tensor(1, shape=(), dtype=int32)\n",
            "tf.Tensor(0, shape=(), dtype=int32)\n",
            "tf.Tensor(1, shape=(), dtype=int32)\n",
            "tf.Tensor(1, shape=(), dtype=int32)\n",
            "tf.Tensor(1, shape=(), dtype=int32)\n",
            "tf.Tensor(0, shape=(), dtype=int32)\n",
            "tf.Tensor(1, shape=(), dtype=int32)\n",
            "tf.Tensor(1, shape=(), dtype=int32)\n",
            "tf.Tensor(0, shape=(), dtype=int32)\n",
            "tf.Tensor(1, shape=(), dtype=int32)\n",
            "tf.Tensor(1, shape=(), dtype=int32)\n",
            "tf.Tensor(0, shape=(), dtype=int32)\n",
            "tf.Tensor(0, shape=(), dtype=int32)\n",
            "tf.Tensor(0, shape=(), dtype=int32)\n",
            "tf.Tensor(1, shape=(), dtype=int32)\n",
            "tf.Tensor(0, shape=(), dtype=int32)\n",
            "tf.Tensor(0, shape=(), dtype=int32)\n",
            "tf.Tensor(1, shape=(), dtype=int32)\n",
            "tf.Tensor(1, shape=(), dtype=int32)\n",
            "tf.Tensor(1, shape=(), dtype=int32)\n",
            "tf.Tensor(1, shape=(), dtype=int32)\n",
            "tf.Tensor(0, shape=(), dtype=int32)\n",
            "tf.Tensor(1, shape=(), dtype=int32)\n",
            "tf.Tensor(0, shape=(), dtype=int32)\n",
            "tf.Tensor(1, shape=(), dtype=int32)\n",
            "tf.Tensor(0, shape=(), dtype=int32)\n",
            "tf.Tensor(0, shape=(), dtype=int32)\n",
            "tf.Tensor(0, shape=(), dtype=int32)\n",
            "tf.Tensor(0, shape=(), dtype=int32)\n",
            "tf.Tensor(1, shape=(), dtype=int32)\n",
            "tf.Tensor(0, shape=(), dtype=int32)\n",
            "tf.Tensor(0, shape=(), dtype=int32)\n",
            "tf.Tensor(1, shape=(), dtype=int32)\n",
            "tf.Tensor(0, shape=(), dtype=int32)\n",
            "tf.Tensor(1, shape=(), dtype=int32)\n",
            "tf.Tensor(0, shape=(), dtype=int32)\n",
            "tf.Tensor(1, shape=(), dtype=int32)\n",
            "tf.Tensor(0, shape=(), dtype=int32)\n",
            "tf.Tensor(1, shape=(), dtype=int32)\n",
            "tf.Tensor(0, shape=(), dtype=int32)\n",
            "tf.Tensor(0, shape=(), dtype=int32)\n",
            "tf.Tensor(0, shape=(), dtype=int32)\n",
            "tf.Tensor(1, shape=(), dtype=int32)\n",
            "tf.Tensor(1, shape=(), dtype=int32)\n",
            "tf.Tensor(0, shape=(), dtype=int32)\n",
            "tf.Tensor(1, shape=(), dtype=int32)\n",
            "tf.Tensor(0, shape=(), dtype=int32)\n",
            "tf.Tensor(1, shape=(), dtype=int32)\n",
            "tf.Tensor(0, shape=(), dtype=int32)\n",
            "tf.Tensor(0, shape=(), dtype=int32)\n",
            "tf.Tensor(0, shape=(), dtype=int32)\n",
            "tf.Tensor(0, shape=(), dtype=int32)\n",
            "tf.Tensor(0, shape=(), dtype=int32)\n",
            "tf.Tensor(0, shape=(), dtype=int32)\n",
            "tf.Tensor(0, shape=(), dtype=int32)\n",
            "tf.Tensor(1, shape=(), dtype=int32)\n",
            "tf.Tensor(0, shape=(), dtype=int32)\n",
            "tf.Tensor(1, shape=(), dtype=int32)\n",
            "tf.Tensor(0, shape=(), dtype=int32)\n",
            "tf.Tensor(0, shape=(), dtype=int32)\n",
            "tf.Tensor(1, shape=(), dtype=int32)\n",
            "tf.Tensor(1, shape=(), dtype=int32)\n",
            "tf.Tensor(1, shape=(), dtype=int32)\n",
            "tf.Tensor(0, shape=(), dtype=int32)\n",
            "tf.Tensor(1, shape=(), dtype=int32)\n",
            "tf.Tensor(0, shape=(), dtype=int32)\n",
            "tf.Tensor(1, shape=(), dtype=int32)\n",
            "tf.Tensor(0, shape=(), dtype=int32)\n",
            "tf.Tensor(1, shape=(), dtype=int32)\n",
            "tf.Tensor(0, shape=(), dtype=int32)\n",
            "tf.Tensor(0, shape=(), dtype=int32)\n",
            "tf.Tensor(0, shape=(), dtype=int32)\n",
            "tf.Tensor(1, shape=(), dtype=int32)\n",
            "tf.Tensor(0, shape=(), dtype=int32)\n",
            "tf.Tensor(0, shape=(), dtype=int32)\n",
            "tf.Tensor(0, shape=(), dtype=int32)\n",
            "tf.Tensor(1, shape=(), dtype=int32)\n",
            "tf.Tensor(0, shape=(), dtype=int32)\n",
            "tf.Tensor(1, shape=(), dtype=int32)\n",
            "tf.Tensor(0, shape=(), dtype=int32)\n",
            "tf.Tensor(1, shape=(), dtype=int32)\n",
            "tf.Tensor(0, shape=(), dtype=int32)\n",
            "tf.Tensor(1, shape=(), dtype=int32)\n",
            "tf.Tensor(0, shape=(), dtype=int32)\n",
            "tf.Tensor(1, shape=(), dtype=int32)\n",
            "tf.Tensor(1, shape=(), dtype=int32)\n",
            "tf.Tensor(1, shape=(), dtype=int32)\n",
            "tf.Tensor(0, shape=(), dtype=int32)\n",
            "tf.Tensor(1, shape=(), dtype=int32)\n",
            "tf.Tensor(0, shape=(), dtype=int32)\n",
            "tf.Tensor(0, shape=(), dtype=int32)\n",
            "tf.Tensor(0, shape=(), dtype=int32)\n",
            "tf.Tensor(0, shape=(), dtype=int32)\n",
            "tf.Tensor(1, shape=(), dtype=int32)\n",
            "tf.Tensor(0, shape=(), dtype=int32)\n",
            "tf.Tensor(0, shape=(), dtype=int32)\n",
            "tf.Tensor(0, shape=(), dtype=int32)\n",
            "tf.Tensor(1, shape=(), dtype=int32)\n",
            "tf.Tensor(0, shape=(), dtype=int32)\n",
            "tf.Tensor(1, shape=(), dtype=int32)\n",
            "tf.Tensor(0, shape=(), dtype=int32)\n",
            "tf.Tensor(0, shape=(), dtype=int32)\n",
            "tf.Tensor(0, shape=(), dtype=int32)\n",
            "tf.Tensor(0, shape=(), dtype=int32)\n",
            "tf.Tensor(1, shape=(), dtype=int32)\n",
            "tf.Tensor(0, shape=(), dtype=int32)\n",
            "tf.Tensor(1, shape=(), dtype=int32)\n",
            "tf.Tensor(0, shape=(), dtype=int32)\n",
            "tf.Tensor(0, shape=(), dtype=int32)\n",
            "tf.Tensor(1, shape=(), dtype=int32)\n",
            "tf.Tensor(0, shape=(), dtype=int32)\n",
            "tf.Tensor(0, shape=(), dtype=int32)\n",
            "tf.Tensor(1, shape=(), dtype=int32)\n",
            "tf.Tensor(1, shape=(), dtype=int32)\n",
            "tf.Tensor(0, shape=(), dtype=int32)\n",
            "tf.Tensor(0, shape=(), dtype=int32)\n",
            "tf.Tensor(0, shape=(), dtype=int32)\n",
            "tf.Tensor(0, shape=(), dtype=int32)\n",
            "tf.Tensor(1, shape=(), dtype=int32)\n",
            "tf.Tensor(0, shape=(), dtype=int32)\n",
            "tf.Tensor(0, shape=(), dtype=int32)\n",
            "tf.Tensor(0, shape=(), dtype=int32)\n",
            "tf.Tensor(0, shape=(), dtype=int32)\n",
            "tf.Tensor(1, shape=(), dtype=int32)\n",
            "tf.Tensor(1, shape=(), dtype=int32)\n",
            "tf.Tensor(1, shape=(), dtype=int32)\n",
            "tf.Tensor(0, shape=(), dtype=int32)\n",
            "tf.Tensor(1, shape=(), dtype=int32)\n",
            "tf.Tensor(1, shape=(), dtype=int32)\n",
            "tf.Tensor(0, shape=(), dtype=int32)\n",
            "tf.Tensor(0, shape=(), dtype=int32)\n",
            "tf.Tensor(1, shape=(), dtype=int32)\n",
            "tf.Tensor(1, shape=(), dtype=int32)\n",
            "tf.Tensor(0, shape=(), dtype=int32)\n",
            "tf.Tensor(1, shape=(), dtype=int32)\n",
            "tf.Tensor(0, shape=(), dtype=int32)\n",
            "tf.Tensor(0, shape=(), dtype=int32)\n",
            "tf.Tensor(0, shape=(), dtype=int32)\n",
            "tf.Tensor(0, shape=(), dtype=int32)\n",
            "tf.Tensor(0, shape=(), dtype=int32)\n",
            "tf.Tensor(1, shape=(), dtype=int32)\n",
            "tf.Tensor(1, shape=(), dtype=int32)\n",
            "tf.Tensor(1, shape=(), dtype=int32)\n",
            "tf.Tensor(0, shape=(), dtype=int32)\n",
            "tf.Tensor(0, shape=(), dtype=int32)\n",
            "tf.Tensor(1, shape=(), dtype=int32)\n",
            "tf.Tensor(1, shape=(), dtype=int32)\n",
            "tf.Tensor(0, shape=(), dtype=int32)\n",
            "tf.Tensor(1, shape=(), dtype=int32)\n",
            "tf.Tensor(0, shape=(), dtype=int32)\n",
            "tf.Tensor(1, shape=(), dtype=int32)\n",
            "tf.Tensor(0, shape=(), dtype=int32)\n",
            "tf.Tensor(1, shape=(), dtype=int32)\n",
            "tf.Tensor(0, shape=(), dtype=int32)\n",
            "tf.Tensor(1, shape=(), dtype=int32)\n",
            "tf.Tensor(0, shape=(), dtype=int32)\n",
            "tf.Tensor(0, shape=(), dtype=int32)\n",
            "tf.Tensor(1, shape=(), dtype=int32)\n",
            "tf.Tensor(1, shape=(), dtype=int32)\n",
            "tf.Tensor(0, shape=(), dtype=int32)\n",
            "tf.Tensor(1, shape=(), dtype=int32)\n",
            "tf.Tensor(1, shape=(), dtype=int32)\n",
            "tf.Tensor(0, shape=(), dtype=int32)\n",
            "tf.Tensor(1, shape=(), dtype=int32)\n",
            "tf.Tensor(0, shape=(), dtype=int32)\n",
            "tf.Tensor(0, shape=(), dtype=int32)\n",
            "tf.Tensor(1, shape=(), dtype=int32)\n",
            "tf.Tensor(1, shape=(), dtype=int32)\n",
            "tf.Tensor(0, shape=(), dtype=int32)\n",
            "tf.Tensor(1, shape=(), dtype=int32)\n",
            "tf.Tensor(1, shape=(), dtype=int32)\n",
            "tf.Tensor(0, shape=(), dtype=int32)\n",
            "tf.Tensor(0, shape=(), dtype=int32)\n",
            "tf.Tensor(1, shape=(), dtype=int32)\n",
            "tf.Tensor(1, shape=(), dtype=int32)\n",
            "tf.Tensor(0, shape=(), dtype=int32)\n",
            "tf.Tensor(1, shape=(), dtype=int32)\n",
            "tf.Tensor(0, shape=(), dtype=int32)\n",
            "tf.Tensor(0, shape=(), dtype=int32)\n",
            "tf.Tensor(0, shape=(), dtype=int32)\n",
            "tf.Tensor(0, shape=(), dtype=int32)\n",
            "tf.Tensor(1, shape=(), dtype=int32)\n",
            "tf.Tensor(0, shape=(), dtype=int32)\n",
            "tf.Tensor(0, shape=(), dtype=int32)\n",
            "tf.Tensor(0, shape=(), dtype=int32)\n",
            "tf.Tensor(0, shape=(), dtype=int32)\n",
            "tf.Tensor(1, shape=(), dtype=int32)\n",
            "tf.Tensor(0, shape=(), dtype=int32)\n",
            "tf.Tensor(0, shape=(), dtype=int32)\n",
            "tf.Tensor(1, shape=(), dtype=int32)\n",
            "tf.Tensor(0, shape=(), dtype=int32)\n",
            "tf.Tensor(0, shape=(), dtype=int32)\n",
            "tf.Tensor(0, shape=(), dtype=int32)\n",
            "tf.Tensor(1, shape=(), dtype=int32)\n",
            "tf.Tensor(1, shape=(), dtype=int32)\n",
            "tf.Tensor(0, shape=(), dtype=int32)\n",
            "tf.Tensor(1, shape=(), dtype=int32)\n",
            "tf.Tensor(1, shape=(), dtype=int32)\n",
            "tf.Tensor(0, shape=(), dtype=int32)\n",
            "tf.Tensor(1, shape=(), dtype=int32)\n",
            "tf.Tensor(0, shape=(), dtype=int32)\n",
            "tf.Tensor(0, shape=(), dtype=int32)\n",
            "tf.Tensor(0, shape=(), dtype=int32)\n",
            "tf.Tensor(0, shape=(), dtype=int32)\n",
            "tf.Tensor(1, shape=(), dtype=int32)\n",
            "tf.Tensor(0, shape=(), dtype=int32)\n",
            "tf.Tensor(0, shape=(), dtype=int32)\n",
            "tf.Tensor(1, shape=(), dtype=int32)\n",
            "tf.Tensor(1, shape=(), dtype=int32)\n",
            "tf.Tensor(1, shape=(), dtype=int32)\n",
            "tf.Tensor(1, shape=(), dtype=int32)\n",
            "tf.Tensor(0, shape=(), dtype=int32)\n",
            "tf.Tensor(1, shape=(), dtype=int32)\n",
            "tf.Tensor(1, shape=(), dtype=int32)\n",
            "tf.Tensor(0, shape=(), dtype=int32)\n",
            "tf.Tensor(1, shape=(), dtype=int32)\n",
            "tf.Tensor(0, shape=(), dtype=int32)\n",
            "tf.Tensor(1, shape=(), dtype=int32)\n",
            "tf.Tensor(1, shape=(), dtype=int32)\n",
            "tf.Tensor(0, shape=(), dtype=int32)\n",
            "tf.Tensor(1, shape=(), dtype=int32)\n",
            "tf.Tensor(0, shape=(), dtype=int32)\n",
            "tf.Tensor(1, shape=(), dtype=int32)\n",
            "tf.Tensor(0, shape=(), dtype=int32)\n",
            "tf.Tensor(0, shape=(), dtype=int32)\n",
            "tf.Tensor(1, shape=(), dtype=int32)\n",
            "tf.Tensor(0, shape=(), dtype=int32)\n",
            "tf.Tensor(0, shape=(), dtype=int32)\n",
            "tf.Tensor(0, shape=(), dtype=int32)\n",
            "tf.Tensor(0, shape=(), dtype=int32)\n",
            "tf.Tensor(1, shape=(), dtype=int32)\n",
            "tf.Tensor(1, shape=(), dtype=int32)\n",
            "tf.Tensor(0, shape=(), dtype=int32)\n",
            "tf.Tensor(1, shape=(), dtype=int32)\n",
            "tf.Tensor(1, shape=(), dtype=int32)\n",
            "tf.Tensor(1, shape=(), dtype=int32)\n",
            "tf.Tensor(1, shape=(), dtype=int32)\n",
            "tf.Tensor(1, shape=(), dtype=int32)\n",
            "tf.Tensor(0, shape=(), dtype=int32)\n",
            "tf.Tensor(0, shape=(), dtype=int32)\n",
            "tf.Tensor(0, shape=(), dtype=int32)\n",
            "tf.Tensor(0, shape=(), dtype=int32)\n",
            "tf.Tensor(1, shape=(), dtype=int32)\n",
            "tf.Tensor(0, shape=(), dtype=int32)\n",
            "tf.Tensor(0, shape=(), dtype=int32)\n",
            "tf.Tensor(1, shape=(), dtype=int32)\n",
            "tf.Tensor(0, shape=(), dtype=int32)\n",
            "tf.Tensor(1, shape=(), dtype=int32)\n",
            "tf.Tensor(0, shape=(), dtype=int32)\n",
            "tf.Tensor(0, shape=(), dtype=int32)\n",
            "tf.Tensor(0, shape=(), dtype=int32)\n",
            "tf.Tensor(0, shape=(), dtype=int32)\n",
            "tf.Tensor(1, shape=(), dtype=int32)\n",
            "tf.Tensor(1, shape=(), dtype=int32)\n",
            "tf.Tensor(1, shape=(), dtype=int32)\n",
            "tf.Tensor(0, shape=(), dtype=int32)\n",
            "tf.Tensor(1, shape=(), dtype=int32)\n",
            "tf.Tensor(0, shape=(), dtype=int32)\n",
            "tf.Tensor(1, shape=(), dtype=int32)\n",
            "tf.Tensor(1, shape=(), dtype=int32)\n",
            "tf.Tensor(1, shape=(), dtype=int32)\n",
            "tf.Tensor(1, shape=(), dtype=int32)\n",
            "tf.Tensor(1, shape=(), dtype=int32)\n",
            "tf.Tensor(1, shape=(), dtype=int32)\n",
            "tf.Tensor(1, shape=(), dtype=int32)\n",
            "tf.Tensor(0, shape=(), dtype=int32)\n",
            "tf.Tensor(1, shape=(), dtype=int32)\n",
            "tf.Tensor(0, shape=(), dtype=int32)\n",
            "tf.Tensor(0, shape=(), dtype=int32)\n",
            "tf.Tensor(0, shape=(), dtype=int32)\n",
            "tf.Tensor(0, shape=(), dtype=int32)\n",
            "tf.Tensor(1, shape=(), dtype=int32)\n",
            "tf.Tensor(0, shape=(), dtype=int32)\n",
            "tf.Tensor(0, shape=(), dtype=int32)\n",
            "tf.Tensor(0, shape=(), dtype=int32)\n",
            "tf.Tensor(1, shape=(), dtype=int32)\n",
            "tf.Tensor(1, shape=(), dtype=int32)\n",
            "tf.Tensor(1, shape=(), dtype=int32)\n",
            "tf.Tensor(1, shape=(), dtype=int32)\n",
            "tf.Tensor(1, shape=(), dtype=int32)\n",
            "tf.Tensor(0, shape=(), dtype=int32)\n",
            "tf.Tensor(1, shape=(), dtype=int32)\n",
            "tf.Tensor(0, shape=(), dtype=int32)\n",
            "tf.Tensor(1, shape=(), dtype=int32)\n",
            "tf.Tensor(0, shape=(), dtype=int32)\n",
            "tf.Tensor(0, shape=(), dtype=int32)\n",
            "tf.Tensor(1, shape=(), dtype=int32)\n",
            "tf.Tensor(0, shape=(), dtype=int32)\n",
            "tf.Tensor(1, shape=(), dtype=int32)\n",
            "tf.Tensor(1, shape=(), dtype=int32)\n",
            "tf.Tensor(1, shape=(), dtype=int32)\n",
            "tf.Tensor(0, shape=(), dtype=int32)\n",
            "tf.Tensor(0, shape=(), dtype=int32)\n",
            "tf.Tensor(0, shape=(), dtype=int32)\n",
            "tf.Tensor(0, shape=(), dtype=int32)\n",
            "tf.Tensor(1, shape=(), dtype=int32)\n",
            "tf.Tensor(0, shape=(), dtype=int32)\n",
            "tf.Tensor(1, shape=(), dtype=int32)\n",
            "tf.Tensor(0, shape=(), dtype=int32)\n",
            "tf.Tensor(1, shape=(), dtype=int32)\n",
            "tf.Tensor(0, shape=(), dtype=int32)\n",
            "tf.Tensor(1, shape=(), dtype=int32)\n",
            "tf.Tensor(0, shape=(), dtype=int32)\n",
            "tf.Tensor(0, shape=(), dtype=int32)\n",
            "tf.Tensor(0, shape=(), dtype=int32)\n",
            "tf.Tensor(1, shape=(), dtype=int32)\n",
            "tf.Tensor(0, shape=(), dtype=int32)\n",
            "tf.Tensor(0, shape=(), dtype=int32)\n",
            "tf.Tensor(0, shape=(), dtype=int32)\n",
            "tf.Tensor(0, shape=(), dtype=int32)\n",
            "tf.Tensor(1, shape=(), dtype=int32)\n",
            "tf.Tensor(0, shape=(), dtype=int32)\n",
            "tf.Tensor(1, shape=(), dtype=int32)\n",
            "tf.Tensor(0, shape=(), dtype=int32)\n",
            "tf.Tensor(0, shape=(), dtype=int32)\n",
            "tf.Tensor(0, shape=(), dtype=int32)\n",
            "tf.Tensor(1, shape=(), dtype=int32)\n",
            "tf.Tensor(0, shape=(), dtype=int32)\n",
            "tf.Tensor(1, shape=(), dtype=int32)\n",
            "tf.Tensor(0, shape=(), dtype=int32)\n",
            "tf.Tensor(1, shape=(), dtype=int32)\n",
            "tf.Tensor(0, shape=(), dtype=int32)\n",
            "tf.Tensor(1, shape=(), dtype=int32)\n",
            "tf.Tensor(1, shape=(), dtype=int32)\n",
            "tf.Tensor(1, shape=(), dtype=int32)\n",
            "tf.Tensor(0, shape=(), dtype=int32)\n",
            "tf.Tensor(1, shape=(), dtype=int32)\n",
            "tf.Tensor(1, shape=(), dtype=int32)\n",
            "tf.Tensor(1, shape=(), dtype=int32)\n",
            "tf.Tensor(0, shape=(), dtype=int32)\n",
            "tf.Tensor(0, shape=(), dtype=int32)\n",
            "tf.Tensor(1, shape=(), dtype=int32)\n",
            "tf.Tensor(1, shape=(), dtype=int32)\n",
            "tf.Tensor(1, shape=(), dtype=int32)\n",
            "tf.Tensor(1, shape=(), dtype=int32)\n",
            "tf.Tensor(0, shape=(), dtype=int32)\n",
            "tf.Tensor(1, shape=(), dtype=int32)\n",
            "tf.Tensor(1, shape=(), dtype=int32)\n",
            "tf.Tensor(1, shape=(), dtype=int32)\n",
            "tf.Tensor(0, shape=(), dtype=int32)\n",
            "tf.Tensor(1, shape=(), dtype=int32)\n",
            "tf.Tensor(0, shape=(), dtype=int32)\n",
            "tf.Tensor(0, shape=(), dtype=int32)\n",
            "tf.Tensor(1, shape=(), dtype=int32)\n",
            "tf.Tensor(1, shape=(), dtype=int32)\n",
            "tf.Tensor(1, shape=(), dtype=int32)\n",
            "tf.Tensor(1, shape=(), dtype=int32)\n",
            "tf.Tensor(0, shape=(), dtype=int32)\n",
            "tf.Tensor(1, shape=(), dtype=int32)\n",
            "tf.Tensor(0, shape=(), dtype=int32)\n",
            "tf.Tensor(1, shape=(), dtype=int32)\n",
            "tf.Tensor(0, shape=(), dtype=int32)\n",
            "tf.Tensor(1, shape=(), dtype=int32)\n",
            "tf.Tensor(0, shape=(), dtype=int32)\n",
            "tf.Tensor(1, shape=(), dtype=int32)\n",
            "tf.Tensor(1, shape=(), dtype=int32)\n",
            "tf.Tensor(1, shape=(), dtype=int32)\n",
            "tf.Tensor(0, shape=(), dtype=int32)\n",
            "tf.Tensor(1, shape=(), dtype=int32)\n",
            "tf.Tensor(0, shape=(), dtype=int32)\n",
            "tf.Tensor(1, shape=(), dtype=int32)\n",
            "tf.Tensor(1, shape=(), dtype=int32)\n",
            "tf.Tensor(1, shape=(), dtype=int32)\n",
            "tf.Tensor(1, shape=(), dtype=int32)\n",
            "tf.Tensor(1, shape=(), dtype=int32)\n",
            "tf.Tensor(0, shape=(), dtype=int32)\n",
            "tf.Tensor(0, shape=(), dtype=int32)\n",
            "tf.Tensor(0, shape=(), dtype=int32)\n",
            "tf.Tensor(1, shape=(), dtype=int32)\n",
            "tf.Tensor(0, shape=(), dtype=int32)\n",
            "tf.Tensor(1, shape=(), dtype=int32)\n",
            "tf.Tensor(0, shape=(), dtype=int32)\n",
            "tf.Tensor(0, shape=(), dtype=int32)\n",
            "tf.Tensor(1, shape=(), dtype=int32)\n",
            "tf.Tensor(1, shape=(), dtype=int32)\n",
            "tf.Tensor(0, shape=(), dtype=int32)\n",
            "tf.Tensor(1, shape=(), dtype=int32)\n",
            "tf.Tensor(1, shape=(), dtype=int32)\n",
            "tf.Tensor(1, shape=(), dtype=int32)\n",
            "tf.Tensor(0, shape=(), dtype=int32)\n",
            "tf.Tensor(0, shape=(), dtype=int32)\n",
            "tf.Tensor(0, shape=(), dtype=int32)\n",
            "tf.Tensor(0, shape=(), dtype=int32)\n",
            "tf.Tensor(0, shape=(), dtype=int32)\n",
            "tf.Tensor(0, shape=(), dtype=int32)\n",
            "tf.Tensor(0, shape=(), dtype=int32)\n",
            "tf.Tensor(1, shape=(), dtype=int32)\n",
            "tf.Tensor(0, shape=(), dtype=int32)\n",
            "tf.Tensor(1, shape=(), dtype=int32)\n",
            "tf.Tensor(1, shape=(), dtype=int32)\n",
            "tf.Tensor(0, shape=(), dtype=int32)\n",
            "tf.Tensor(1, shape=(), dtype=int32)\n",
            "tf.Tensor(1, shape=(), dtype=int32)\n",
            "tf.Tensor(0, shape=(), dtype=int32)\n",
            "tf.Tensor(0, shape=(), dtype=int32)\n",
            "tf.Tensor(1, shape=(), dtype=int32)\n",
            "tf.Tensor(0, shape=(), dtype=int32)\n",
            "tf.Tensor(0, shape=(), dtype=int32)\n",
            "tf.Tensor(1, shape=(), dtype=int32)\n",
            "tf.Tensor(1, shape=(), dtype=int32)\n",
            "tf.Tensor(0, shape=(), dtype=int32)\n",
            "tf.Tensor(1, shape=(), dtype=int32)\n",
            "tf.Tensor(1, shape=(), dtype=int32)\n",
            "tf.Tensor(0, shape=(), dtype=int32)\n",
            "tf.Tensor(0, shape=(), dtype=int32)\n",
            "tf.Tensor(1, shape=(), dtype=int32)\n",
            "tf.Tensor(0, shape=(), dtype=int32)\n",
            "tf.Tensor(1, shape=(), dtype=int32)\n",
            "tf.Tensor(0, shape=(), dtype=int32)\n",
            "tf.Tensor(0, shape=(), dtype=int32)\n",
            "tf.Tensor(1, shape=(), dtype=int32)\n",
            "tf.Tensor(0, shape=(), dtype=int32)\n",
            "tf.Tensor(0, shape=(), dtype=int32)\n",
            "tf.Tensor(1, shape=(), dtype=int32)\n",
            "tf.Tensor(0, shape=(), dtype=int32)\n",
            "tf.Tensor(0, shape=(), dtype=int32)\n",
            "tf.Tensor(0, shape=(), dtype=int32)\n",
            "tf.Tensor(0, shape=(), dtype=int32)\n",
            "tf.Tensor(0, shape=(), dtype=int32)\n",
            "tf.Tensor(0, shape=(), dtype=int32)\n",
            "tf.Tensor(1, shape=(), dtype=int32)\n",
            "tf.Tensor(0, shape=(), dtype=int32)\n",
            "tf.Tensor(0, shape=(), dtype=int32)\n",
            "tf.Tensor(0, shape=(), dtype=int32)\n",
            "tf.Tensor(1, shape=(), dtype=int32)\n",
            "tf.Tensor(0, shape=(), dtype=int32)\n",
            "tf.Tensor(1, shape=(), dtype=int32)\n",
            "tf.Tensor(1, shape=(), dtype=int32)\n",
            "tf.Tensor(1, shape=(), dtype=int32)\n",
            "tf.Tensor(1, shape=(), dtype=int32)\n",
            "tf.Tensor(0, shape=(), dtype=int32)\n",
            "tf.Tensor(0, shape=(), dtype=int32)\n",
            "tf.Tensor(0, shape=(), dtype=int32)\n",
            "tf.Tensor(0, shape=(), dtype=int32)\n",
            "tf.Tensor(1, shape=(), dtype=int32)\n",
            "tf.Tensor(1, shape=(), dtype=int32)\n",
            "tf.Tensor(1, shape=(), dtype=int32)\n",
            "tf.Tensor(0, shape=(), dtype=int32)\n",
            "tf.Tensor(1, shape=(), dtype=int32)\n",
            "tf.Tensor(1, shape=(), dtype=int32)\n",
            "tf.Tensor(0, shape=(), dtype=int32)\n",
            "tf.Tensor(1, shape=(), dtype=int32)\n",
            "tf.Tensor(1, shape=(), dtype=int32)\n",
            "tf.Tensor(1, shape=(), dtype=int32)\n",
            "tf.Tensor(1, shape=(), dtype=int32)\n",
            "tf.Tensor(1, shape=(), dtype=int32)\n",
            "tf.Tensor(1, shape=(), dtype=int32)\n",
            "tf.Tensor(1, shape=(), dtype=int32)\n",
            "tf.Tensor(0, shape=(), dtype=int32)\n",
            "tf.Tensor(1, shape=(), dtype=int32)\n",
            "tf.Tensor(0, shape=(), dtype=int32)\n",
            "tf.Tensor(1, shape=(), dtype=int32)\n",
            "tf.Tensor(0, shape=(), dtype=int32)\n",
            "tf.Tensor(0, shape=(), dtype=int32)\n",
            "tf.Tensor(0, shape=(), dtype=int32)\n",
            "tf.Tensor(0, shape=(), dtype=int32)\n",
            "tf.Tensor(1, shape=(), dtype=int32)\n",
            "tf.Tensor(1, shape=(), dtype=int32)\n",
            "tf.Tensor(0, shape=(), dtype=int32)\n",
            "tf.Tensor(1, shape=(), dtype=int32)\n",
            "tf.Tensor(1, shape=(), dtype=int32)\n",
            "tf.Tensor(0, shape=(), dtype=int32)\n",
            "tf.Tensor(0, shape=(), dtype=int32)\n",
            "tf.Tensor(1, shape=(), dtype=int32)\n",
            "tf.Tensor(0, shape=(), dtype=int32)\n",
            "tf.Tensor(1, shape=(), dtype=int32)\n",
            "tf.Tensor(0, shape=(), dtype=int32)\n",
            "tf.Tensor(0, shape=(), dtype=int32)\n",
            "tf.Tensor(0, shape=(), dtype=int32)\n",
            "tf.Tensor(0, shape=(), dtype=int32)\n",
            "tf.Tensor(1, shape=(), dtype=int32)\n",
            "tf.Tensor(1, shape=(), dtype=int32)\n",
            "tf.Tensor(0, shape=(), dtype=int32)\n",
            "tf.Tensor(1, shape=(), dtype=int32)\n",
            "tf.Tensor(1, shape=(), dtype=int32)\n",
            "tf.Tensor(0, shape=(), dtype=int32)\n",
            "tf.Tensor(0, shape=(), dtype=int32)\n",
            "tf.Tensor(0, shape=(), dtype=int32)\n",
            "tf.Tensor(1, shape=(), dtype=int32)\n",
            "tf.Tensor(1, shape=(), dtype=int32)\n",
            "tf.Tensor(1, shape=(), dtype=int32)\n",
            "tf.Tensor(0, shape=(), dtype=int32)\n",
            "tf.Tensor(1, shape=(), dtype=int32)\n",
            "tf.Tensor(1, shape=(), dtype=int32)\n",
            "tf.Tensor(0, shape=(), dtype=int32)\n",
            "tf.Tensor(0, shape=(), dtype=int32)\n",
            "tf.Tensor(1, shape=(), dtype=int32)\n",
            "tf.Tensor(1, shape=(), dtype=int32)\n",
            "tf.Tensor(0, shape=(), dtype=int32)\n",
            "tf.Tensor(1, shape=(), dtype=int32)\n",
            "tf.Tensor(1, shape=(), dtype=int32)\n",
            "tf.Tensor(0, shape=(), dtype=int32)\n",
            "tf.Tensor(0, shape=(), dtype=int32)\n",
            "tf.Tensor(0, shape=(), dtype=int32)\n",
            "tf.Tensor(0, shape=(), dtype=int32)\n",
            "tf.Tensor(1, shape=(), dtype=int32)\n",
            "tf.Tensor(1, shape=(), dtype=int32)\n",
            "tf.Tensor(1, shape=(), dtype=int32)\n",
            "tf.Tensor(1, shape=(), dtype=int32)\n",
            "tf.Tensor(0, shape=(), dtype=int32)\n",
            "tf.Tensor(0, shape=(), dtype=int32)\n",
            "tf.Tensor(0, shape=(), dtype=int32)\n",
            "tf.Tensor(0, shape=(), dtype=int32)\n",
            "tf.Tensor(0, shape=(), dtype=int32)\n",
            "tf.Tensor(1, shape=(), dtype=int32)\n",
            "tf.Tensor(0, shape=(), dtype=int32)\n",
            "tf.Tensor(1, shape=(), dtype=int32)\n",
            "tf.Tensor(0, shape=(), dtype=int32)\n",
            "tf.Tensor(0, shape=(), dtype=int32)\n",
            "tf.Tensor(0, shape=(), dtype=int32)\n",
            "tf.Tensor(0, shape=(), dtype=int32)\n",
            "tf.Tensor(0, shape=(), dtype=int32)\n",
            "tf.Tensor(0, shape=(), dtype=int32)\n",
            "tf.Tensor(1, shape=(), dtype=int32)\n",
            "tf.Tensor(1, shape=(), dtype=int32)\n",
            "tf.Tensor(0, shape=(), dtype=int32)\n",
            "tf.Tensor(0, shape=(), dtype=int32)\n",
            "tf.Tensor(0, shape=(), dtype=int32)\n",
            "tf.Tensor(1, shape=(), dtype=int32)\n",
            "tf.Tensor(1, shape=(), dtype=int32)\n",
            "tf.Tensor(0, shape=(), dtype=int32)\n",
            "tf.Tensor(1, shape=(), dtype=int32)\n",
            "tf.Tensor(1, shape=(), dtype=int32)\n",
            "tf.Tensor(0, shape=(), dtype=int32)\n",
            "tf.Tensor(0, shape=(), dtype=int32)\n",
            "tf.Tensor(1, shape=(), dtype=int32)\n",
            "tf.Tensor(0, shape=(), dtype=int32)\n",
            "tf.Tensor(0, shape=(), dtype=int32)\n",
            "tf.Tensor(1, shape=(), dtype=int32)\n",
            "tf.Tensor(1, shape=(), dtype=int32)\n",
            "tf.Tensor(0, shape=(), dtype=int32)\n",
            "tf.Tensor(0, shape=(), dtype=int32)\n",
            "tf.Tensor(1, shape=(), dtype=int32)\n",
            "tf.Tensor(1, shape=(), dtype=int32)\n",
            "tf.Tensor(1, shape=(), dtype=int32)\n",
            "tf.Tensor(1, shape=(), dtype=int32)\n",
            "tf.Tensor(1, shape=(), dtype=int32)\n",
            "tf.Tensor(0, shape=(), dtype=int32)\n",
            "tf.Tensor(0, shape=(), dtype=int32)\n",
            "tf.Tensor(0, shape=(), dtype=int32)\n",
            "tf.Tensor(1, shape=(), dtype=int32)\n",
            "tf.Tensor(0, shape=(), dtype=int32)\n",
            "tf.Tensor(1, shape=(), dtype=int32)\n",
            "tf.Tensor(0, shape=(), dtype=int32)\n",
            "tf.Tensor(0, shape=(), dtype=int32)\n",
            "tf.Tensor(0, shape=(), dtype=int32)\n",
            "tf.Tensor(0, shape=(), dtype=int32)\n",
            "tf.Tensor(1, shape=(), dtype=int32)\n",
            "tf.Tensor(0, shape=(), dtype=int32)\n",
            "tf.Tensor(0, shape=(), dtype=int32)\n",
            "tf.Tensor(1, shape=(), dtype=int32)\n",
            "tf.Tensor(1, shape=(), dtype=int32)\n",
            "tf.Tensor(0, shape=(), dtype=int32)\n",
            "tf.Tensor(0, shape=(), dtype=int32)\n",
            "tf.Tensor(0, shape=(), dtype=int32)\n",
            "tf.Tensor(0, shape=(), dtype=int32)\n",
            "tf.Tensor(0, shape=(), dtype=int32)\n",
            "tf.Tensor(1, shape=(), dtype=int32)\n",
            "tf.Tensor(1, shape=(), dtype=int32)\n",
            "tf.Tensor(1, shape=(), dtype=int32)\n",
            "tf.Tensor(1, shape=(), dtype=int32)\n",
            "tf.Tensor(1, shape=(), dtype=int32)\n",
            "tf.Tensor(1, shape=(), dtype=int32)\n",
            "tf.Tensor(0, shape=(), dtype=int32)\n",
            "tf.Tensor(0, shape=(), dtype=int32)\n",
            "tf.Tensor(0, shape=(), dtype=int32)\n",
            "tf.Tensor(0, shape=(), dtype=int32)\n",
            "tf.Tensor(1, shape=(), dtype=int32)\n",
            "tf.Tensor(0, shape=(), dtype=int32)\n",
            "tf.Tensor(0, shape=(), dtype=int32)\n",
            "tf.Tensor(0, shape=(), dtype=int32)\n",
            "tf.Tensor(0, shape=(), dtype=int32)\n",
            "tf.Tensor(0, shape=(), dtype=int32)\n",
            "tf.Tensor(1, shape=(), dtype=int32)\n",
            "tf.Tensor(0, shape=(), dtype=int32)\n",
            "tf.Tensor(1, shape=(), dtype=int32)\n",
            "tf.Tensor(1, shape=(), dtype=int32)\n",
            "tf.Tensor(0, shape=(), dtype=int32)\n",
            "tf.Tensor(0, shape=(), dtype=int32)\n",
            "tf.Tensor(1, shape=(), dtype=int32)\n",
            "tf.Tensor(0, shape=(), dtype=int32)\n",
            "tf.Tensor(0, shape=(), dtype=int32)\n",
            "tf.Tensor(1, shape=(), dtype=int32)\n",
            "tf.Tensor(0, shape=(), dtype=int32)\n",
            "tf.Tensor(0, shape=(), dtype=int32)\n",
            "tf.Tensor(0, shape=(), dtype=int32)\n",
            "tf.Tensor(1, shape=(), dtype=int32)\n",
            "tf.Tensor(1, shape=(), dtype=int32)\n",
            "tf.Tensor(1, shape=(), dtype=int32)\n",
            "tf.Tensor(1, shape=(), dtype=int32)\n",
            "tf.Tensor(1, shape=(), dtype=int32)\n",
            "tf.Tensor(1, shape=(), dtype=int32)\n",
            "tf.Tensor(0, shape=(), dtype=int32)\n",
            "tf.Tensor(0, shape=(), dtype=int32)\n",
            "tf.Tensor(0, shape=(), dtype=int32)\n",
            "tf.Tensor(0, shape=(), dtype=int32)\n",
            "tf.Tensor(0, shape=(), dtype=int32)\n",
            "tf.Tensor(1, shape=(), dtype=int32)\n",
            "tf.Tensor(0, shape=(), dtype=int32)\n",
            "tf.Tensor(0, shape=(), dtype=int32)\n",
            "tf.Tensor(1, shape=(), dtype=int32)\n",
            "tf.Tensor(0, shape=(), dtype=int32)\n",
            "tf.Tensor(1, shape=(), dtype=int32)\n",
            "tf.Tensor(1, shape=(), dtype=int32)\n",
            "tf.Tensor(1, shape=(), dtype=int32)\n",
            "tf.Tensor(1, shape=(), dtype=int32)\n",
            "tf.Tensor(0, shape=(), dtype=int32)\n",
            "tf.Tensor(0, shape=(), dtype=int32)\n",
            "tf.Tensor(1, shape=(), dtype=int32)\n",
            "tf.Tensor(1, shape=(), dtype=int32)\n",
            "tf.Tensor(0, shape=(), dtype=int32)\n",
            "tf.Tensor(0, shape=(), dtype=int32)\n",
            "tf.Tensor(1, shape=(), dtype=int32)\n",
            "tf.Tensor(0, shape=(), dtype=int32)\n",
            "tf.Tensor(0, shape=(), dtype=int32)\n",
            "tf.Tensor(1, shape=(), dtype=int32)\n",
            "tf.Tensor(0, shape=(), dtype=int32)\n",
            "tf.Tensor(1, shape=(), dtype=int32)\n",
            "tf.Tensor(0, shape=(), dtype=int32)\n",
            "tf.Tensor(1, shape=(), dtype=int32)\n",
            "tf.Tensor(1, shape=(), dtype=int32)\n",
            "tf.Tensor(1, shape=(), dtype=int32)\n",
            "tf.Tensor(0, shape=(), dtype=int32)\n",
            "tf.Tensor(0, shape=(), dtype=int32)\n",
            "tf.Tensor(0, shape=(), dtype=int32)\n",
            "tf.Tensor(0, shape=(), dtype=int32)\n",
            "tf.Tensor(0, shape=(), dtype=int32)\n",
            "tf.Tensor(1, shape=(), dtype=int32)\n",
            "tf.Tensor(0, shape=(), dtype=int32)\n",
            "tf.Tensor(0, shape=(), dtype=int32)\n",
            "tf.Tensor(0, shape=(), dtype=int32)\n",
            "tf.Tensor(0, shape=(), dtype=int32)\n",
            "tf.Tensor(1, shape=(), dtype=int32)\n",
            "tf.Tensor(1, shape=(), dtype=int32)\n",
            "tf.Tensor(1, shape=(), dtype=int32)\n",
            "tf.Tensor(1, shape=(), dtype=int32)\n",
            "tf.Tensor(1, shape=(), dtype=int32)\n",
            "tf.Tensor(0, shape=(), dtype=int32)\n",
            "tf.Tensor(0, shape=(), dtype=int32)\n",
            "tf.Tensor(1, shape=(), dtype=int32)\n",
            "tf.Tensor(1, shape=(), dtype=int32)\n",
            "tf.Tensor(1, shape=(), dtype=int32)\n",
            "tf.Tensor(0, shape=(), dtype=int32)\n",
            "tf.Tensor(0, shape=(), dtype=int32)\n",
            "tf.Tensor(1, shape=(), dtype=int32)\n",
            "tf.Tensor(1, shape=(), dtype=int32)\n",
            "tf.Tensor(1, shape=(), dtype=int32)\n",
            "tf.Tensor(0, shape=(), dtype=int32)\n",
            "tf.Tensor(1, shape=(), dtype=int32)\n",
            "tf.Tensor(1, shape=(), dtype=int32)\n",
            "tf.Tensor(1, shape=(), dtype=int32)\n",
            "tf.Tensor(0, shape=(), dtype=int32)\n",
            "tf.Tensor(1, shape=(), dtype=int32)\n",
            "tf.Tensor(1, shape=(), dtype=int32)\n",
            "tf.Tensor(0, shape=(), dtype=int32)\n",
            "tf.Tensor(1, shape=(), dtype=int32)\n",
            "tf.Tensor(1, shape=(), dtype=int32)\n",
            "tf.Tensor(0, shape=(), dtype=int32)\n",
            "tf.Tensor(1, shape=(), dtype=int32)\n",
            "tf.Tensor(1, shape=(), dtype=int32)\n",
            "tf.Tensor(1, shape=(), dtype=int32)\n",
            "tf.Tensor(0, shape=(), dtype=int32)\n",
            "tf.Tensor(1, shape=(), dtype=int32)\n",
            "tf.Tensor(0, shape=(), dtype=int32)\n",
            "tf.Tensor(1, shape=(), dtype=int32)\n",
            "tf.Tensor(1, shape=(), dtype=int32)\n",
            "tf.Tensor(0, shape=(), dtype=int32)\n",
            "tf.Tensor(0, shape=(), dtype=int32)\n",
            "tf.Tensor(1, shape=(), dtype=int32)\n",
            "tf.Tensor(1, shape=(), dtype=int32)\n",
            "tf.Tensor(0, shape=(), dtype=int32)\n",
            "tf.Tensor(0, shape=(), dtype=int32)\n",
            "tf.Tensor(1, shape=(), dtype=int32)\n",
            "tf.Tensor(1, shape=(), dtype=int32)\n",
            "tf.Tensor(0, shape=(), dtype=int32)\n",
            "tf.Tensor(0, shape=(), dtype=int32)\n",
            "tf.Tensor(0, shape=(), dtype=int32)\n",
            "tf.Tensor(0, shape=(), dtype=int32)\n",
            "tf.Tensor(1, shape=(), dtype=int32)\n",
            "tf.Tensor(1, shape=(), dtype=int32)\n",
            "tf.Tensor(1, shape=(), dtype=int32)\n",
            "tf.Tensor(0, shape=(), dtype=int32)\n",
            "tf.Tensor(0, shape=(), dtype=int32)\n",
            "tf.Tensor(0, shape=(), dtype=int32)\n",
            "tf.Tensor(1, shape=(), dtype=int32)\n",
            "tf.Tensor(1, shape=(), dtype=int32)\n",
            "tf.Tensor(0, shape=(), dtype=int32)\n",
            "tf.Tensor(1, shape=(), dtype=int32)\n",
            "tf.Tensor(1, shape=(), dtype=int32)\n",
            "tf.Tensor(1, shape=(), dtype=int32)\n",
            "tf.Tensor(1, shape=(), dtype=int32)\n",
            "tf.Tensor(0, shape=(), dtype=int32)\n",
            "tf.Tensor(1, shape=(), dtype=int32)\n",
            "tf.Tensor(0, shape=(), dtype=int32)\n",
            "tf.Tensor(1, shape=(), dtype=int32)\n",
            "tf.Tensor(1, shape=(), dtype=int32)\n",
            "tf.Tensor(1, shape=(), dtype=int32)\n",
            "tf.Tensor(1, shape=(), dtype=int32)\n",
            "tf.Tensor(0, shape=(), dtype=int32)\n",
            "tf.Tensor(0, shape=(), dtype=int32)\n",
            "tf.Tensor(1, shape=(), dtype=int32)\n",
            "tf.Tensor(0, shape=(), dtype=int32)\n",
            "tf.Tensor(1, shape=(), dtype=int32)\n",
            "tf.Tensor(1, shape=(), dtype=int32)\n",
            "tf.Tensor(1, shape=(), dtype=int32)\n",
            "tf.Tensor(1, shape=(), dtype=int32)\n",
            "tf.Tensor(1, shape=(), dtype=int32)\n",
            "tf.Tensor(0, shape=(), dtype=int32)\n",
            "tf.Tensor(0, shape=(), dtype=int32)\n",
            "tf.Tensor(1, shape=(), dtype=int32)\n",
            "tf.Tensor(1, shape=(), dtype=int32)\n",
            "tf.Tensor(0, shape=(), dtype=int32)\n",
            "tf.Tensor(1, shape=(), dtype=int32)\n",
            "tf.Tensor(1, shape=(), dtype=int32)\n",
            "tf.Tensor(0, shape=(), dtype=int32)\n",
            "tf.Tensor(0, shape=(), dtype=int32)\n",
            "tf.Tensor(0, shape=(), dtype=int32)\n",
            "tf.Tensor(1, shape=(), dtype=int32)\n",
            "tf.Tensor(0, shape=(), dtype=int32)\n",
            "tf.Tensor(0, shape=(), dtype=int32)\n",
            "tf.Tensor(1, shape=(), dtype=int32)\n",
            "tf.Tensor(0, shape=(), dtype=int32)\n",
            "tf.Tensor(1, shape=(), dtype=int32)\n",
            "tf.Tensor(0, shape=(), dtype=int32)\n",
            "tf.Tensor(0, shape=(), dtype=int32)\n",
            "tf.Tensor(1, shape=(), dtype=int32)\n",
            "tf.Tensor(0, shape=(), dtype=int32)\n",
            "tf.Tensor(0, shape=(), dtype=int32)\n",
            "tf.Tensor(1, shape=(), dtype=int32)\n",
            "tf.Tensor(0, shape=(), dtype=int32)\n",
            "tf.Tensor(0, shape=(), dtype=int32)\n",
            "tf.Tensor(0, shape=(), dtype=int32)\n",
            "tf.Tensor(0, shape=(), dtype=int32)\n",
            "tf.Tensor(0, shape=(), dtype=int32)\n",
            "tf.Tensor(0, shape=(), dtype=int32)\n",
            "tf.Tensor(1, shape=(), dtype=int32)\n",
            "tf.Tensor(0, shape=(), dtype=int32)\n",
            "tf.Tensor(1, shape=(), dtype=int32)\n",
            "tf.Tensor(1, shape=(), dtype=int32)\n",
            "tf.Tensor(1, shape=(), dtype=int32)\n",
            "tf.Tensor(0, shape=(), dtype=int32)\n",
            "tf.Tensor(0, shape=(), dtype=int32)\n",
            "tf.Tensor(0, shape=(), dtype=int32)\n",
            "tf.Tensor(1, shape=(), dtype=int32)\n",
            "tf.Tensor(1, shape=(), dtype=int32)\n",
            "tf.Tensor(1, shape=(), dtype=int32)\n",
            "tf.Tensor(0, shape=(), dtype=int32)\n",
            "tf.Tensor(0, shape=(), dtype=int32)\n",
            "tf.Tensor(1, shape=(), dtype=int32)\n",
            "tf.Tensor(0, shape=(), dtype=int32)\n",
            "tf.Tensor(1, shape=(), dtype=int32)\n",
            "tf.Tensor(1, shape=(), dtype=int32)\n",
            "tf.Tensor(1, shape=(), dtype=int32)\n",
            "tf.Tensor(0, shape=(), dtype=int32)\n",
            "tf.Tensor(0, shape=(), dtype=int32)\n",
            "tf.Tensor(1, shape=(), dtype=int32)\n",
            "tf.Tensor(1, shape=(), dtype=int32)\n",
            "tf.Tensor(0, shape=(), dtype=int32)\n",
            "tf.Tensor(0, shape=(), dtype=int32)\n",
            "tf.Tensor(0, shape=(), dtype=int32)\n",
            "tf.Tensor(1, shape=(), dtype=int32)\n",
            "tf.Tensor(0, shape=(), dtype=int32)\n",
            "tf.Tensor(0, shape=(), dtype=int32)\n",
            "tf.Tensor(0, shape=(), dtype=int32)\n",
            "tf.Tensor(1, shape=(), dtype=int32)\n",
            "tf.Tensor(1, shape=(), dtype=int32)\n",
            "tf.Tensor(1, shape=(), dtype=int32)\n",
            "tf.Tensor(0, shape=(), dtype=int32)\n",
            "tf.Tensor(1, shape=(), dtype=int32)\n",
            "tf.Tensor(1, shape=(), dtype=int32)\n",
            "tf.Tensor(1, shape=(), dtype=int32)\n",
            "tf.Tensor(0, shape=(), dtype=int32)\n",
            "tf.Tensor(0, shape=(), dtype=int32)\n",
            "tf.Tensor(0, shape=(), dtype=int32)\n",
            "tf.Tensor(1, shape=(), dtype=int32)\n",
            "tf.Tensor(1, shape=(), dtype=int32)\n",
            "tf.Tensor(1, shape=(), dtype=int32)\n",
            "tf.Tensor(1, shape=(), dtype=int32)\n",
            "tf.Tensor(1, shape=(), dtype=int32)\n",
            "tf.Tensor(0, shape=(), dtype=int32)\n",
            "tf.Tensor(1, shape=(), dtype=int32)\n",
            "tf.Tensor(0, shape=(), dtype=int32)\n",
            "tf.Tensor(0, shape=(), dtype=int32)\n",
            "tf.Tensor(0, shape=(), dtype=int32)\n",
            "tf.Tensor(0, shape=(), dtype=int32)\n",
            "tf.Tensor(0, shape=(), dtype=int32)\n",
            "tf.Tensor(0, shape=(), dtype=int32)\n",
            "tf.Tensor(0, shape=(), dtype=int32)\n",
            "tf.Tensor(1, shape=(), dtype=int32)\n",
            "tf.Tensor(0, shape=(), dtype=int32)\n",
            "tf.Tensor(0, shape=(), dtype=int32)\n",
            "tf.Tensor(1, shape=(), dtype=int32)\n",
            "tf.Tensor(1, shape=(), dtype=int32)\n",
            "tf.Tensor(0, shape=(), dtype=int32)\n",
            "tf.Tensor(0, shape=(), dtype=int32)\n",
            "tf.Tensor(1, shape=(), dtype=int32)\n",
            "tf.Tensor(1, shape=(), dtype=int32)\n",
            "tf.Tensor(0, shape=(), dtype=int32)\n",
            "tf.Tensor(0, shape=(), dtype=int32)\n",
            "tf.Tensor(1, shape=(), dtype=int32)\n",
            "tf.Tensor(1, shape=(), dtype=int32)\n",
            "tf.Tensor(0, shape=(), dtype=int32)\n",
            "tf.Tensor(1, shape=(), dtype=int32)\n",
            "tf.Tensor(0, shape=(), dtype=int32)\n",
            "tf.Tensor(1, shape=(), dtype=int32)\n",
            "tf.Tensor(1, shape=(), dtype=int32)\n",
            "tf.Tensor(0, shape=(), dtype=int32)\n",
            "tf.Tensor(0, shape=(), dtype=int32)\n",
            "tf.Tensor(1, shape=(), dtype=int32)\n",
            "tf.Tensor(1, shape=(), dtype=int32)\n",
            "tf.Tensor(0, shape=(), dtype=int32)\n",
            "tf.Tensor(1, shape=(), dtype=int32)\n",
            "tf.Tensor(0, shape=(), dtype=int32)\n",
            "tf.Tensor(1, shape=(), dtype=int32)\n",
            "tf.Tensor(0, shape=(), dtype=int32)\n",
            "tf.Tensor(1, shape=(), dtype=int32)\n",
            "tf.Tensor(1, shape=(), dtype=int32)\n",
            "tf.Tensor(1, shape=(), dtype=int32)\n",
            "tf.Tensor(0, shape=(), dtype=int32)\n",
            "tf.Tensor(1, shape=(), dtype=int32)\n",
            "tf.Tensor(0, shape=(), dtype=int32)\n",
            "tf.Tensor(0, shape=(), dtype=int32)\n",
            "tf.Tensor(1, shape=(), dtype=int32)\n",
            "tf.Tensor(1, shape=(), dtype=int32)\n",
            "tf.Tensor(1, shape=(), dtype=int32)\n",
            "tf.Tensor(0, shape=(), dtype=int32)\n",
            "tf.Tensor(0, shape=(), dtype=int32)\n",
            "tf.Tensor(1, shape=(), dtype=int32)\n",
            "tf.Tensor(1, shape=(), dtype=int32)\n",
            "tf.Tensor(1, shape=(), dtype=int32)\n",
            "tf.Tensor(1, shape=(), dtype=int32)\n",
            "tf.Tensor(1, shape=(), dtype=int32)\n",
            "tf.Tensor(0, shape=(), dtype=int32)\n",
            "tf.Tensor(0, shape=(), dtype=int32)\n",
            "tf.Tensor(1, shape=(), dtype=int32)\n",
            "tf.Tensor(0, shape=(), dtype=int32)\n",
            "tf.Tensor(1, shape=(), dtype=int32)\n",
            "tf.Tensor(1, shape=(), dtype=int32)\n",
            "tf.Tensor(0, shape=(), dtype=int32)\n",
            "tf.Tensor(1, shape=(), dtype=int32)\n",
            "tf.Tensor(0, shape=(), dtype=int32)\n",
            "tf.Tensor(1, shape=(), dtype=int32)\n",
            "tf.Tensor(0, shape=(), dtype=int32)\n",
            "tf.Tensor(1, shape=(), dtype=int32)\n",
            "tf.Tensor(1, shape=(), dtype=int32)\n",
            "tf.Tensor(0, shape=(), dtype=int32)\n",
            "tf.Tensor(0, shape=(), dtype=int32)\n",
            "tf.Tensor(0, shape=(), dtype=int32)\n",
            "tf.Tensor(0, shape=(), dtype=int32)\n",
            "tf.Tensor(1, shape=(), dtype=int32)\n",
            "tf.Tensor(0, shape=(), dtype=int32)\n",
            "tf.Tensor(1, shape=(), dtype=int32)\n",
            "tf.Tensor(1, shape=(), dtype=int32)\n",
            "tf.Tensor(1, shape=(), dtype=int32)\n",
            "tf.Tensor(0, shape=(), dtype=int32)\n",
            "tf.Tensor(1, shape=(), dtype=int32)\n",
            "tf.Tensor(1, shape=(), dtype=int32)\n",
            "tf.Tensor(0, shape=(), dtype=int32)\n",
            "tf.Tensor(0, shape=(), dtype=int32)\n",
            "tf.Tensor(0, shape=(), dtype=int32)\n",
            "tf.Tensor(0, shape=(), dtype=int32)\n",
            "tf.Tensor(0, shape=(), dtype=int32)\n",
            "tf.Tensor(0, shape=(), dtype=int32)\n",
            "tf.Tensor(1, shape=(), dtype=int32)\n",
            "tf.Tensor(0, shape=(), dtype=int32)\n",
            "tf.Tensor(0, shape=(), dtype=int32)\n",
            "tf.Tensor(0, shape=(), dtype=int32)\n",
            "tf.Tensor(0, shape=(), dtype=int32)\n",
            "tf.Tensor(0, shape=(), dtype=int32)\n",
            "tf.Tensor(1, shape=(), dtype=int32)\n",
            "tf.Tensor(0, shape=(), dtype=int32)\n",
            "tf.Tensor(1, shape=(), dtype=int32)\n",
            "tf.Tensor(0, shape=(), dtype=int32)\n",
            "tf.Tensor(1, shape=(), dtype=int32)\n",
            "tf.Tensor(0, shape=(), dtype=int32)\n",
            "tf.Tensor(1, shape=(), dtype=int32)\n",
            "tf.Tensor(1, shape=(), dtype=int32)\n",
            "tf.Tensor(0, shape=(), dtype=int32)\n",
            "tf.Tensor(1, shape=(), dtype=int32)\n",
            "tf.Tensor(1, shape=(), dtype=int32)\n",
            "tf.Tensor(1, shape=(), dtype=int32)\n",
            "tf.Tensor(1, shape=(), dtype=int32)\n",
            "tf.Tensor(0, shape=(), dtype=int32)\n",
            "tf.Tensor(0, shape=(), dtype=int32)\n",
            "tf.Tensor(1, shape=(), dtype=int32)\n",
            "tf.Tensor(1, shape=(), dtype=int32)\n",
            "tf.Tensor(0, shape=(), dtype=int32)\n",
            "tf.Tensor(1, shape=(), dtype=int32)\n",
            "tf.Tensor(0, shape=(), dtype=int32)\n",
            "tf.Tensor(1, shape=(), dtype=int32)\n",
            "tf.Tensor(0, shape=(), dtype=int32)\n",
            "tf.Tensor(0, shape=(), dtype=int32)\n",
            "tf.Tensor(0, shape=(), dtype=int32)\n",
            "tf.Tensor(1, shape=(), dtype=int32)\n",
            "tf.Tensor(1, shape=(), dtype=int32)\n",
            "tf.Tensor(1, shape=(), dtype=int32)\n",
            "tf.Tensor(0, shape=(), dtype=int32)\n",
            "tf.Tensor(1, shape=(), dtype=int32)\n",
            "tf.Tensor(0, shape=(), dtype=int32)\n",
            "tf.Tensor(0, shape=(), dtype=int32)\n",
            "tf.Tensor(1, shape=(), dtype=int32)\n",
            "tf.Tensor(1, shape=(), dtype=int32)\n",
            "tf.Tensor(1, shape=(), dtype=int32)\n",
            "tf.Tensor(1, shape=(), dtype=int32)\n",
            "tf.Tensor(0, shape=(), dtype=int32)\n",
            "tf.Tensor(0, shape=(), dtype=int32)\n",
            "tf.Tensor(0, shape=(), dtype=int32)\n",
            "tf.Tensor(0, shape=(), dtype=int32)\n",
            "tf.Tensor(1, shape=(), dtype=int32)\n",
            "tf.Tensor(0, shape=(), dtype=int32)\n",
            "tf.Tensor(1, shape=(), dtype=int32)\n",
            "tf.Tensor(1, shape=(), dtype=int32)\n",
            "tf.Tensor(0, shape=(), dtype=int32)\n",
            "tf.Tensor(1, shape=(), dtype=int32)\n",
            "tf.Tensor(1, shape=(), dtype=int32)\n",
            "tf.Tensor(0, shape=(), dtype=int32)\n",
            "tf.Tensor(0, shape=(), dtype=int32)\n",
            "tf.Tensor(1, shape=(), dtype=int32)\n",
            "tf.Tensor(1, shape=(), dtype=int32)\n",
            "tf.Tensor(0, shape=(), dtype=int32)\n",
            "tf.Tensor(0, shape=(), dtype=int32)\n",
            "tf.Tensor(1, shape=(), dtype=int32)\n",
            "tf.Tensor(0, shape=(), dtype=int32)\n",
            "tf.Tensor(1, shape=(), dtype=int32)\n",
            "tf.Tensor(0, shape=(), dtype=int32)\n",
            "tf.Tensor(0, shape=(), dtype=int32)\n",
            "tf.Tensor(0, shape=(), dtype=int32)\n",
            "tf.Tensor(1, shape=(), dtype=int32)\n",
            "tf.Tensor(1, shape=(), dtype=int32)\n",
            "tf.Tensor(0, shape=(), dtype=int32)\n",
            "tf.Tensor(1, shape=(), dtype=int32)\n",
            "tf.Tensor(1, shape=(), dtype=int32)\n",
            "tf.Tensor(1, shape=(), dtype=int32)\n",
            "tf.Tensor(1, shape=(), dtype=int32)\n",
            "tf.Tensor(1, shape=(), dtype=int32)\n",
            "tf.Tensor(0, shape=(), dtype=int32)\n",
            "tf.Tensor(1, shape=(), dtype=int32)\n",
            "tf.Tensor(1, shape=(), dtype=int32)\n",
            "tf.Tensor(0, shape=(), dtype=int32)\n",
            "tf.Tensor(0, shape=(), dtype=int32)\n",
            "tf.Tensor(1, shape=(), dtype=int32)\n",
            "tf.Tensor(0, shape=(), dtype=int32)\n",
            "tf.Tensor(0, shape=(), dtype=int32)\n",
            "tf.Tensor(1, shape=(), dtype=int32)\n",
            "tf.Tensor(1, shape=(), dtype=int32)\n",
            "tf.Tensor(1, shape=(), dtype=int32)\n",
            "tf.Tensor(0, shape=(), dtype=int32)\n",
            "tf.Tensor(0, shape=(), dtype=int32)\n",
            "tf.Tensor(1, shape=(), dtype=int32)\n",
            "tf.Tensor(1, shape=(), dtype=int32)\n",
            "tf.Tensor(1, shape=(), dtype=int32)\n",
            "tf.Tensor(1, shape=(), dtype=int32)\n",
            "tf.Tensor(1, shape=(), dtype=int32)\n",
            "tf.Tensor(1, shape=(), dtype=int32)\n",
            "tf.Tensor(0, shape=(), dtype=int32)\n",
            "tf.Tensor(1, shape=(), dtype=int32)\n",
            "tf.Tensor(0, shape=(), dtype=int32)\n",
            "tf.Tensor(1, shape=(), dtype=int32)\n",
            "tf.Tensor(0, shape=(), dtype=int32)\n",
            "tf.Tensor(0, shape=(), dtype=int32)\n",
            "tf.Tensor(0, shape=(), dtype=int32)\n",
            "tf.Tensor(1, shape=(), dtype=int32)\n",
            "tf.Tensor(0, shape=(), dtype=int32)\n",
            "tf.Tensor(0, shape=(), dtype=int32)\n",
            "tf.Tensor(1, shape=(), dtype=int32)\n",
            "tf.Tensor(1, shape=(), dtype=int32)\n",
            "tf.Tensor(1, shape=(), dtype=int32)\n",
            "tf.Tensor(0, shape=(), dtype=int32)\n",
            "tf.Tensor(1, shape=(), dtype=int32)\n",
            "tf.Tensor(1, shape=(), dtype=int32)\n",
            "tf.Tensor(0, shape=(), dtype=int32)\n",
            "tf.Tensor(1, shape=(), dtype=int32)\n",
            "tf.Tensor(0, shape=(), dtype=int32)\n",
            "tf.Tensor(0, shape=(), dtype=int32)\n",
            "tf.Tensor(1, shape=(), dtype=int32)\n",
            "tf.Tensor(1, shape=(), dtype=int32)\n",
            "tf.Tensor(0, shape=(), dtype=int32)\n",
            "tf.Tensor(1, shape=(), dtype=int32)\n",
            "tf.Tensor(0, shape=(), dtype=int32)\n",
            "tf.Tensor(0, shape=(), dtype=int32)\n",
            "tf.Tensor(1, shape=(), dtype=int32)\n",
            "tf.Tensor(0, shape=(), dtype=int32)\n",
            "tf.Tensor(1, shape=(), dtype=int32)\n",
            "tf.Tensor(1, shape=(), dtype=int32)\n",
            "tf.Tensor(1, shape=(), dtype=int32)\n",
            "tf.Tensor(1, shape=(), dtype=int32)\n",
            "tf.Tensor(0, shape=(), dtype=int32)\n",
            "tf.Tensor(0, shape=(), dtype=int32)\n",
            "tf.Tensor(1, shape=(), dtype=int32)\n",
            "tf.Tensor(1, shape=(), dtype=int32)\n",
            "tf.Tensor(0, shape=(), dtype=int32)\n",
            "tf.Tensor(1, shape=(), dtype=int32)\n",
            "tf.Tensor(1, shape=(), dtype=int32)\n",
            "tf.Tensor(1, shape=(), dtype=int32)\n",
            "tf.Tensor(1, shape=(), dtype=int32)\n",
            "tf.Tensor(0, shape=(), dtype=int32)\n",
            "tf.Tensor(1, shape=(), dtype=int32)\n",
            "tf.Tensor(0, shape=(), dtype=int32)\n",
            "tf.Tensor(1, shape=(), dtype=int32)\n",
            "tf.Tensor(1, shape=(), dtype=int32)\n",
            "tf.Tensor(1, shape=(), dtype=int32)\n",
            "tf.Tensor(1, shape=(), dtype=int32)\n",
            "tf.Tensor(1, shape=(), dtype=int32)\n",
            "tf.Tensor(0, shape=(), dtype=int32)\n",
            "tf.Tensor(0, shape=(), dtype=int32)\n",
            "tf.Tensor(0, shape=(), dtype=int32)\n",
            "tf.Tensor(1, shape=(), dtype=int32)\n",
            "tf.Tensor(0, shape=(), dtype=int32)\n",
            "tf.Tensor(0, shape=(), dtype=int32)\n",
            "tf.Tensor(1, shape=(), dtype=int32)\n",
            "tf.Tensor(0, shape=(), dtype=int32)\n",
            "tf.Tensor(1, shape=(), dtype=int32)\n",
            "tf.Tensor(1, shape=(), dtype=int32)\n",
            "tf.Tensor(1, shape=(), dtype=int32)\n",
            "tf.Tensor(0, shape=(), dtype=int32)\n",
            "tf.Tensor(0, shape=(), dtype=int32)\n",
            "tf.Tensor(0, shape=(), dtype=int32)\n",
            "tf.Tensor(1, shape=(), dtype=int32)\n",
            "tf.Tensor(1, shape=(), dtype=int32)\n",
            "tf.Tensor(1, shape=(), dtype=int32)\n",
            "tf.Tensor(1, shape=(), dtype=int32)\n",
            "tf.Tensor(1, shape=(), dtype=int32)\n",
            "tf.Tensor(0, shape=(), dtype=int32)\n",
            "tf.Tensor(1, shape=(), dtype=int32)\n",
            "tf.Tensor(1, shape=(), dtype=int32)\n",
            "tf.Tensor(1, shape=(), dtype=int32)\n",
            "tf.Tensor(1, shape=(), dtype=int32)\n",
            "tf.Tensor(0, shape=(), dtype=int32)\n",
            "tf.Tensor(1, shape=(), dtype=int32)\n",
            "tf.Tensor(0, shape=(), dtype=int32)\n",
            "tf.Tensor(1, shape=(), dtype=int32)\n",
            "tf.Tensor(0, shape=(), dtype=int32)\n",
            "tf.Tensor(1, shape=(), dtype=int32)\n",
            "tf.Tensor(1, shape=(), dtype=int32)\n",
            "tf.Tensor(0, shape=(), dtype=int32)\n",
            "tf.Tensor(1, shape=(), dtype=int32)\n",
            "tf.Tensor(1, shape=(), dtype=int32)\n",
            "tf.Tensor(1, shape=(), dtype=int32)\n",
            "tf.Tensor(1, shape=(), dtype=int32)\n",
            "tf.Tensor(0, shape=(), dtype=int32)\n",
            "tf.Tensor(1, shape=(), dtype=int32)\n",
            "tf.Tensor(1, shape=(), dtype=int32)\n",
            "tf.Tensor(0, shape=(), dtype=int32)\n",
            "tf.Tensor(0, shape=(), dtype=int32)\n",
            "tf.Tensor(1, shape=(), dtype=int32)\n",
            "tf.Tensor(1, shape=(), dtype=int32)\n",
            "tf.Tensor(0, shape=(), dtype=int32)\n",
            "tf.Tensor(1, shape=(), dtype=int32)\n",
            "tf.Tensor(0, shape=(), dtype=int32)\n",
            "tf.Tensor(1, shape=(), dtype=int32)\n",
            "tf.Tensor(0, shape=(), dtype=int32)\n",
            "tf.Tensor(0, shape=(), dtype=int32)\n",
            "tf.Tensor(1, shape=(), dtype=int32)\n",
            "tf.Tensor(1, shape=(), dtype=int32)\n",
            "tf.Tensor(0, shape=(), dtype=int32)\n",
            "tf.Tensor(0, shape=(), dtype=int32)\n",
            "tf.Tensor(1, shape=(), dtype=int32)\n",
            "tf.Tensor(1, shape=(), dtype=int32)\n",
            "tf.Tensor(0, shape=(), dtype=int32)\n",
            "tf.Tensor(0, shape=(), dtype=int32)\n",
            "tf.Tensor(0, shape=(), dtype=int32)\n",
            "tf.Tensor(0, shape=(), dtype=int32)\n",
            "tf.Tensor(0, shape=(), dtype=int32)\n",
            "tf.Tensor(1, shape=(), dtype=int32)\n",
            "tf.Tensor(1, shape=(), dtype=int32)\n",
            "tf.Tensor(0, shape=(), dtype=int32)\n",
            "tf.Tensor(1, shape=(), dtype=int32)\n",
            "tf.Tensor(0, shape=(), dtype=int32)\n",
            "tf.Tensor(1, shape=(), dtype=int32)\n",
            "tf.Tensor(1, shape=(), dtype=int32)\n",
            "tf.Tensor(0, shape=(), dtype=int32)\n",
            "tf.Tensor(1, shape=(), dtype=int32)\n",
            "tf.Tensor(1, shape=(), dtype=int32)\n",
            "tf.Tensor(0, shape=(), dtype=int32)\n",
            "tf.Tensor(0, shape=(), dtype=int32)\n",
            "tf.Tensor(1, shape=(), dtype=int32)\n",
            "tf.Tensor(1, shape=(), dtype=int32)\n",
            "tf.Tensor(0, shape=(), dtype=int32)\n",
            "tf.Tensor(0, shape=(), dtype=int32)\n",
            "tf.Tensor(1, shape=(), dtype=int32)\n",
            "tf.Tensor(0, shape=(), dtype=int32)\n",
            "tf.Tensor(0, shape=(), dtype=int32)\n",
            "tf.Tensor(1, shape=(), dtype=int32)\n",
            "tf.Tensor(1, shape=(), dtype=int32)\n",
            "tf.Tensor(1, shape=(), dtype=int32)\n",
            "tf.Tensor(1, shape=(), dtype=int32)\n",
            "tf.Tensor(1, shape=(), dtype=int32)\n",
            "tf.Tensor(1, shape=(), dtype=int32)\n",
            "tf.Tensor(0, shape=(), dtype=int32)\n",
            "tf.Tensor(1, shape=(), dtype=int32)\n",
            "tf.Tensor(1, shape=(), dtype=int32)\n",
            "tf.Tensor(1, shape=(), dtype=int32)\n",
            "tf.Tensor(1, shape=(), dtype=int32)\n",
            "tf.Tensor(0, shape=(), dtype=int32)\n",
            "tf.Tensor(0, shape=(), dtype=int32)\n",
            "tf.Tensor(1, shape=(), dtype=int32)\n",
            "tf.Tensor(1, shape=(), dtype=int32)\n",
            "tf.Tensor(0, shape=(), dtype=int32)\n",
            "tf.Tensor(0, shape=(), dtype=int32)\n",
            "tf.Tensor(0, shape=(), dtype=int32)\n",
            "tf.Tensor(1, shape=(), dtype=int32)\n",
            "tf.Tensor(1, shape=(), dtype=int32)\n",
            "tf.Tensor(0, shape=(), dtype=int32)\n",
            "tf.Tensor(1, shape=(), dtype=int32)\n",
            "tf.Tensor(0, shape=(), dtype=int32)\n",
            "tf.Tensor(0, shape=(), dtype=int32)\n",
            "tf.Tensor(1, shape=(), dtype=int32)\n",
            "tf.Tensor(1, shape=(), dtype=int32)\n",
            "tf.Tensor(0, shape=(), dtype=int32)\n",
            "tf.Tensor(1, shape=(), dtype=int32)\n",
            "tf.Tensor(1, shape=(), dtype=int32)\n",
            "tf.Tensor(1, shape=(), dtype=int32)\n",
            "tf.Tensor(1, shape=(), dtype=int32)\n",
            "tf.Tensor(1, shape=(), dtype=int32)\n",
            "tf.Tensor(1, shape=(), dtype=int32)\n",
            "tf.Tensor(0, shape=(), dtype=int32)\n",
            "tf.Tensor(0, shape=(), dtype=int32)\n",
            "tf.Tensor(0, shape=(), dtype=int32)\n",
            "tf.Tensor(1, shape=(), dtype=int32)\n",
            "tf.Tensor(0, shape=(), dtype=int32)\n",
            "tf.Tensor(1, shape=(), dtype=int32)\n",
            "tf.Tensor(1, shape=(), dtype=int32)\n",
            "tf.Tensor(0, shape=(), dtype=int32)\n",
            "tf.Tensor(0, shape=(), dtype=int32)\n",
            "tf.Tensor(0, shape=(), dtype=int32)\n",
            "tf.Tensor(0, shape=(), dtype=int32)\n",
            "tf.Tensor(0, shape=(), dtype=int32)\n",
            "tf.Tensor(1, shape=(), dtype=int32)\n",
            "tf.Tensor(1, shape=(), dtype=int32)\n",
            "tf.Tensor(1, shape=(), dtype=int32)\n",
            "tf.Tensor(0, shape=(), dtype=int32)\n",
            "tf.Tensor(0, shape=(), dtype=int32)\n",
            "tf.Tensor(1, shape=(), dtype=int32)\n",
            "tf.Tensor(1, shape=(), dtype=int32)\n",
            "tf.Tensor(1, shape=(), dtype=int32)\n",
            "tf.Tensor(1, shape=(), dtype=int32)\n",
            "tf.Tensor(1, shape=(), dtype=int32)\n",
            "tf.Tensor(0, shape=(), dtype=int32)\n",
            "tf.Tensor(1, shape=(), dtype=int32)\n",
            "tf.Tensor(1, shape=(), dtype=int32)\n",
            "tf.Tensor(1, shape=(), dtype=int32)\n",
            "tf.Tensor(1, shape=(), dtype=int32)\n",
            "tf.Tensor(0, shape=(), dtype=int32)\n",
            "tf.Tensor(0, shape=(), dtype=int32)\n",
            "tf.Tensor(1, shape=(), dtype=int32)\n",
            "tf.Tensor(1, shape=(), dtype=int32)\n",
            "tf.Tensor(1, shape=(), dtype=int32)\n",
            "tf.Tensor(0, shape=(), dtype=int32)\n",
            "tf.Tensor(0, shape=(), dtype=int32)\n",
            "tf.Tensor(0, shape=(), dtype=int32)\n",
            "tf.Tensor(0, shape=(), dtype=int32)\n",
            "tf.Tensor(1, shape=(), dtype=int32)\n",
            "tf.Tensor(0, shape=(), dtype=int32)\n",
            "tf.Tensor(1, shape=(), dtype=int32)\n",
            "tf.Tensor(0, shape=(), dtype=int32)\n",
            "tf.Tensor(1, shape=(), dtype=int32)\n",
            "tf.Tensor(1, shape=(), dtype=int32)\n",
            "tf.Tensor(0, shape=(), dtype=int32)\n",
            "tf.Tensor(0, shape=(), dtype=int32)\n",
            "tf.Tensor(1, shape=(), dtype=int32)\n",
            "tf.Tensor(1, shape=(), dtype=int32)\n",
            "tf.Tensor(0, shape=(), dtype=int32)\n",
            "tf.Tensor(1, shape=(), dtype=int32)\n",
            "tf.Tensor(1, shape=(), dtype=int32)\n",
            "tf.Tensor(0, shape=(), dtype=int32)\n",
            "tf.Tensor(0, shape=(), dtype=int32)\n",
            "tf.Tensor(1, shape=(), dtype=int32)\n",
            "tf.Tensor(0, shape=(), dtype=int32)\n",
            "tf.Tensor(1, shape=(), dtype=int32)\n",
            "tf.Tensor(0, shape=(), dtype=int32)\n",
            "tf.Tensor(1, shape=(), dtype=int32)\n",
            "tf.Tensor(0, shape=(), dtype=int32)\n",
            "tf.Tensor(0, shape=(), dtype=int32)\n",
            "tf.Tensor(1, shape=(), dtype=int32)\n",
            "tf.Tensor(0, shape=(), dtype=int32)\n",
            "tf.Tensor(1, shape=(), dtype=int32)\n",
            "tf.Tensor(0, shape=(), dtype=int32)\n",
            "tf.Tensor(0, shape=(), dtype=int32)\n",
            "tf.Tensor(0, shape=(), dtype=int32)\n",
            "tf.Tensor(0, shape=(), dtype=int32)\n",
            "tf.Tensor(0, shape=(), dtype=int32)\n",
            "tf.Tensor(1, shape=(), dtype=int32)\n",
            "tf.Tensor(0, shape=(), dtype=int32)\n",
            "tf.Tensor(0, shape=(), dtype=int32)\n",
            "tf.Tensor(1, shape=(), dtype=int32)\n",
            "tf.Tensor(0, shape=(), dtype=int32)\n",
            "tf.Tensor(0, shape=(), dtype=int32)\n",
            "tf.Tensor(1, shape=(), dtype=int32)\n",
            "tf.Tensor(0, shape=(), dtype=int32)\n",
            "tf.Tensor(0, shape=(), dtype=int32)\n",
            "tf.Tensor(0, shape=(), dtype=int32)\n",
            "tf.Tensor(1, shape=(), dtype=int32)\n",
            "tf.Tensor(1, shape=(), dtype=int32)\n",
            "tf.Tensor(0, shape=(), dtype=int32)\n",
            "tf.Tensor(1, shape=(), dtype=int32)\n",
            "tf.Tensor(1, shape=(), dtype=int32)\n",
            "tf.Tensor(0, shape=(), dtype=int32)\n",
            "tf.Tensor(1, shape=(), dtype=int32)\n",
            "tf.Tensor(0, shape=(), dtype=int32)\n",
            "tf.Tensor(1, shape=(), dtype=int32)\n",
            "tf.Tensor(0, shape=(), dtype=int32)\n",
            "tf.Tensor(1, shape=(), dtype=int32)\n",
            "tf.Tensor(0, shape=(), dtype=int32)\n",
            "tf.Tensor(0, shape=(), dtype=int32)\n",
            "tf.Tensor(0, shape=(), dtype=int32)\n",
            "tf.Tensor(0, shape=(), dtype=int32)\n",
            "tf.Tensor(1, shape=(), dtype=int32)\n",
            "tf.Tensor(0, shape=(), dtype=int32)\n",
            "tf.Tensor(0, shape=(), dtype=int32)\n",
            "tf.Tensor(0, shape=(), dtype=int32)\n",
            "tf.Tensor(1, shape=(), dtype=int32)\n",
            "tf.Tensor(1, shape=(), dtype=int32)\n",
            "tf.Tensor(1, shape=(), dtype=int32)\n",
            "tf.Tensor(1, shape=(), dtype=int32)\n",
            "tf.Tensor(1, shape=(), dtype=int32)\n",
            "tf.Tensor(0, shape=(), dtype=int32)\n",
            "tf.Tensor(0, shape=(), dtype=int32)\n",
            "tf.Tensor(0, shape=(), dtype=int32)\n",
            "tf.Tensor(1, shape=(), dtype=int32)\n",
            "tf.Tensor(0, shape=(), dtype=int32)\n",
            "tf.Tensor(1, shape=(), dtype=int32)\n",
            "tf.Tensor(0, shape=(), dtype=int32)\n",
            "tf.Tensor(0, shape=(), dtype=int32)\n",
            "tf.Tensor(1, shape=(), dtype=int32)\n",
            "tf.Tensor(1, shape=(), dtype=int32)\n",
            "tf.Tensor(1, shape=(), dtype=int32)\n",
            "tf.Tensor(0, shape=(), dtype=int32)\n",
            "tf.Tensor(1, shape=(), dtype=int32)\n",
            "tf.Tensor(0, shape=(), dtype=int32)\n",
            "tf.Tensor(0, shape=(), dtype=int32)\n",
            "tf.Tensor(0, shape=(), dtype=int32)\n",
            "tf.Tensor(1, shape=(), dtype=int32)\n",
            "tf.Tensor(1, shape=(), dtype=int32)\n",
            "tf.Tensor(0, shape=(), dtype=int32)\n",
            "tf.Tensor(0, shape=(), dtype=int32)\n",
            "tf.Tensor(0, shape=(), dtype=int32)\n",
            "tf.Tensor(0, shape=(), dtype=int32)\n",
            "tf.Tensor(1, shape=(), dtype=int32)\n",
            "tf.Tensor(0, shape=(), dtype=int32)\n",
            "tf.Tensor(1, shape=(), dtype=int32)\n",
            "tf.Tensor(0, shape=(), dtype=int32)\n",
            "tf.Tensor(0, shape=(), dtype=int32)\n",
            "tf.Tensor(1, shape=(), dtype=int32)\n",
            "tf.Tensor(0, shape=(), dtype=int32)\n",
            "tf.Tensor(0, shape=(), dtype=int32)\n",
            "tf.Tensor(0, shape=(), dtype=int32)\n",
            "tf.Tensor(1, shape=(), dtype=int32)\n",
            "tf.Tensor(0, shape=(), dtype=int32)\n",
            "tf.Tensor(0, shape=(), dtype=int32)\n",
            "tf.Tensor(1, shape=(), dtype=int32)\n",
            "tf.Tensor(1, shape=(), dtype=int32)\n",
            "tf.Tensor(1, shape=(), dtype=int32)\n",
            "tf.Tensor(0, shape=(), dtype=int32)\n",
            "tf.Tensor(0, shape=(), dtype=int32)\n",
            "tf.Tensor(0, shape=(), dtype=int32)\n",
            "tf.Tensor(1, shape=(), dtype=int32)\n",
            "tf.Tensor(1, shape=(), dtype=int32)\n",
            "tf.Tensor(1, shape=(), dtype=int32)\n",
            "tf.Tensor(1, shape=(), dtype=int32)\n",
            "tf.Tensor(0, shape=(), dtype=int32)\n",
            "tf.Tensor(1, shape=(), dtype=int32)\n",
            "tf.Tensor(1, shape=(), dtype=int32)\n",
            "tf.Tensor(0, shape=(), dtype=int32)\n",
            "tf.Tensor(0, shape=(), dtype=int32)\n",
            "tf.Tensor(1, shape=(), dtype=int32)\n",
            "tf.Tensor(1, shape=(), dtype=int32)\n",
            "tf.Tensor(0, shape=(), dtype=int32)\n",
            "tf.Tensor(1, shape=(), dtype=int32)\n",
            "tf.Tensor(1, shape=(), dtype=int32)\n",
            "tf.Tensor(1, shape=(), dtype=int32)\n",
            "tf.Tensor(0, shape=(), dtype=int32)\n",
            "tf.Tensor(1, shape=(), dtype=int32)\n",
            "tf.Tensor(1, shape=(), dtype=int32)\n",
            "tf.Tensor(1, shape=(), dtype=int32)\n",
            "tf.Tensor(0, shape=(), dtype=int32)\n",
            "tf.Tensor(1, shape=(), dtype=int32)\n",
            "tf.Tensor(1, shape=(), dtype=int32)\n",
            "tf.Tensor(1, shape=(), dtype=int32)\n",
            "tf.Tensor(1, shape=(), dtype=int32)\n",
            "tf.Tensor(1, shape=(), dtype=int32)\n",
            "tf.Tensor(1, shape=(), dtype=int32)\n",
            "tf.Tensor(0, shape=(), dtype=int32)\n",
            "tf.Tensor(0, shape=(), dtype=int32)\n",
            "tf.Tensor(0, shape=(), dtype=int32)\n",
            "tf.Tensor(0, shape=(), dtype=int32)\n",
            "tf.Tensor(0, shape=(), dtype=int32)\n",
            "tf.Tensor(0, shape=(), dtype=int32)\n",
            "tf.Tensor(0, shape=(), dtype=int32)\n",
            "tf.Tensor(1, shape=(), dtype=int32)\n",
            "tf.Tensor(1, shape=(), dtype=int32)\n"
          ],
          "name": "stdout"
        }
      ]
    },
    {
      "cell_type": "code",
      "metadata": {
        "id": "HqmuDjIyTcMD",
        "colab_type": "code",
        "outputId": "1ce0c56a-49d5-4995-cfe0-3848f20063d0",
        "colab": {
          "base_uri": "https://localhost:8080/",
          "height": 35
        }
      },
      "source": [
        "#合并数据\n",
        "dataset=tf.data.Dataset.zip((image_dataset,label_dataset))\n",
        "#我们是以元组的形式进行zip的\n",
        "dataset"
      ],
      "execution_count": 28,
      "outputs": [
        {
          "output_type": "execute_result",
          "data": {
            "text/plain": [
              "<ZipDataset shapes: ((256, 256, 3), ()), types: (tf.float32, tf.int32)>"
            ]
          },
          "metadata": {
            "tags": []
          },
          "execution_count": 28
        }
      ]
    },
    {
      "cell_type": "code",
      "metadata": {
        "id": "BwszhCt0zcYT",
        "colab_type": "code",
        "colab": {}
      },
      "source": [
        "#划分train与test数据\n",
        "test_count=int(image_count*0.2)\n",
        "#必须是个整数所以我们加int\n",
        "train_count=image_count-test_count"
      ],
      "execution_count": 0,
      "outputs": []
    },
    {
      "cell_type": "code",
      "metadata": {
        "id": "sAzEf9v2gJVi",
        "colab_type": "code",
        "colab": {}
      },
      "source": [
        "train_dataset=dataset.skip(test_count)\n",
        "#skip就是掠过的意思\n",
        "#得到train_dataset的个数\n",
        "test_dataset=dataset.take(test_count)\n",
        "#take就是取的意思"
      ],
      "execution_count": 0,
      "outputs": []
    },
    {
      "cell_type": "code",
      "metadata": {
        "id": "C4k1Oxrplqov",
        "colab_type": "code",
        "outputId": "c9a161c9-45f3-4b43-e8e1-38166f7466fc",
        "colab": {
          "base_uri": "https://localhost:8080/",
          "height": 35
        }
      },
      "source": [
        "BATCH_SIZE=32\n",
        "train_dataset=train_dataset.shuffle(buffer_size=train_count)\n",
        "train_dataset=train_dataset.batch(BATCH_SIZE)\n",
        "train_dataset"
      ],
      "execution_count": 31,
      "outputs": [
        {
          "output_type": "execute_result",
          "data": {
            "text/plain": [
              "<BatchDataset shapes: ((None, 256, 256, 3), (None,)), types: (tf.float32, tf.int32)>"
            ]
          },
          "metadata": {
            "tags": []
          },
          "execution_count": 31
        }
      ]
    },
    {
      "cell_type": "code",
      "metadata": {
        "id": "sz4fflzkoewM",
        "colab_type": "code",
        "colab": {}
      },
      "source": [
        "model=tf.keras.Sequential()\n",
        "model.add(tf.keras.layers.Conv2D(64,(3,3),\n",
        "                 input_shape=(256,256,3),\n",
        "                 activation='relu'))\n",
        "model.add(tf.keras.layers.Conv2D(64,(3,3),activation='relu'))\n",
        "model.add(tf.keras.layers.MaxPooling2D())\n",
        "model.add(tf.keras.layers.Dropout(0.3))\n",
        "model.add(tf.keras.layers.Conv2D(128,(3,3),activation='relu'))\n",
        "model.add(tf.keras.layers.Conv2D(128,(3,3),activation='relu'))\n",
        "model.add(tf.keras.layers.MaxPooling2D())\n",
        "model.add(tf.keras.layers.Dropout(0.3))\n",
        "model.add(tf.keras.layers.Conv2D(256,(3,3),activation='relu'))\n",
        "model.add(tf.keras.layers.Conv2D(256,(3,3),activation='relu'))\n",
        "model.add(tf.keras.layers.MaxPooling2D())\n",
        "model.add(tf.keras.layers.Dropout(0.3))\n",
        "model.add(tf.keras.layers.Conv2D(512,(3,3),activation='relu'))\n",
        "model.add(tf.keras.layers.Conv2D(512,(3,3),activation='relu'))\n",
        "model.add(tf.keras.layers.MaxPooling2D())\n",
        "model.add(tf.keras.layers.Dropout(0.3))\n",
        "model.add(tf.keras.layers.Conv2D(1024,(3,3),activation='relu'))\n",
        "model.add(tf.keras.layers.GlobalAveragePooling2D())\n",
        "model.add(tf.keras.layers.Dense(1024,activation='relu'))\n",
        "model.add(tf.keras.layers.Dense(256,activation='relu'))\n",
        "model.add(tf.keras.layers.Dense(10,activation='softmax'))"
      ],
      "execution_count": 0,
      "outputs": []
    },
    {
      "cell_type": "code",
      "metadata": {
        "id": "mmgx92t7wtWR",
        "colab_type": "code",
        "outputId": "0ca36420-b5ef-4ea0-f030-462007c291fe",
        "colab": {
          "base_uri": "https://localhost:8080/",
          "height": 881
        }
      },
      "source": [
        "model.summary()"
      ],
      "execution_count": 33,
      "outputs": [
        {
          "output_type": "stream",
          "text": [
            "Model: \"sequential\"\n",
            "_________________________________________________________________\n",
            "Layer (type)                 Output Shape              Param #   \n",
            "=================================================================\n",
            "conv2d (Conv2D)              (None, 254, 254, 64)      1792      \n",
            "_________________________________________________________________\n",
            "conv2d_1 (Conv2D)            (None, 252, 252, 64)      36928     \n",
            "_________________________________________________________________\n",
            "max_pooling2d (MaxPooling2D) (None, 126, 126, 64)      0         \n",
            "_________________________________________________________________\n",
            "dropout (Dropout)            (None, 126, 126, 64)      0         \n",
            "_________________________________________________________________\n",
            "conv2d_2 (Conv2D)            (None, 124, 124, 128)     73856     \n",
            "_________________________________________________________________\n",
            "conv2d_3 (Conv2D)            (None, 122, 122, 128)     147584    \n",
            "_________________________________________________________________\n",
            "max_pooling2d_1 (MaxPooling2 (None, 61, 61, 128)       0         \n",
            "_________________________________________________________________\n",
            "dropout_1 (Dropout)          (None, 61, 61, 128)       0         \n",
            "_________________________________________________________________\n",
            "conv2d_4 (Conv2D)            (None, 59, 59, 256)       295168    \n",
            "_________________________________________________________________\n",
            "conv2d_5 (Conv2D)            (None, 57, 57, 256)       590080    \n",
            "_________________________________________________________________\n",
            "max_pooling2d_2 (MaxPooling2 (None, 28, 28, 256)       0         \n",
            "_________________________________________________________________\n",
            "dropout_2 (Dropout)          (None, 28, 28, 256)       0         \n",
            "_________________________________________________________________\n",
            "conv2d_6 (Conv2D)            (None, 26, 26, 512)       1180160   \n",
            "_________________________________________________________________\n",
            "conv2d_7 (Conv2D)            (None, 24, 24, 512)       2359808   \n",
            "_________________________________________________________________\n",
            "max_pooling2d_3 (MaxPooling2 (None, 12, 12, 512)       0         \n",
            "_________________________________________________________________\n",
            "dropout_3 (Dropout)          (None, 12, 12, 512)       0         \n",
            "_________________________________________________________________\n",
            "conv2d_8 (Conv2D)            (None, 10, 10, 1024)      4719616   \n",
            "_________________________________________________________________\n",
            "global_average_pooling2d (Gl (None, 1024)              0         \n",
            "_________________________________________________________________\n",
            "dense (Dense)                (None, 1024)              1049600   \n",
            "_________________________________________________________________\n",
            "dense_1 (Dense)              (None, 256)               262400    \n",
            "_________________________________________________________________\n",
            "dense_2 (Dense)              (None, 10)                2570      \n",
            "=================================================================\n",
            "Total params: 10,719,562\n",
            "Trainable params: 10,719,562\n",
            "Non-trainable params: 0\n",
            "_________________________________________________________________\n"
          ],
          "name": "stdout"
        }
      ]
    },
    {
      "cell_type": "code",
      "metadata": {
        "id": "_VhogvaUycnl",
        "colab_type": "code",
        "colab": {}
      },
      "source": [
        "#编译模型\n",
        "model.compile(optimizer='adam',\n",
        "                          loss='sparse_categorical_crossentropy',\n",
        "                          metrics=['acc'] )"
      ],
      "execution_count": 0,
      "outputs": []
    },
    {
      "cell_type": "markdown",
      "metadata": {
        "id": "DdMyh0DezW8U",
        "colab_type": "text"
      },
      "source": [
        "##确定epoch的数量\n",
        "\n",
        "所以我们要告诉他一个batch是多少步所以要这么算，\n",
        "这样告诉模型我们训练要多少个epoch"
      ]
    },
    {
      "cell_type": "code",
      "metadata": {
        "id": "FJhTVtGvzbfW",
        "colab_type": "code",
        "colab": {}
      },
      "source": [
        "steps_per_epoch=train_count//BATCH_SIZE\n",
        "validation_steps=test_count//BATCH_SIZE"
      ],
      "execution_count": 0,
      "outputs": []
    },
    {
      "cell_type": "markdown",
      "metadata": {
        "id": "uC4YMg7czzBX",
        "colab_type": "text"
      },
      "source": [
        "##运行模型"
      ]
    },
    {
      "cell_type": "code",
      "metadata": {
        "id": "oJ7sBdP_zyMy",
        "colab_type": "code",
        "outputId": "59a45f44-412b-414a-b2e3-639907fb5aab",
        "colab": {
          "base_uri": "https://localhost:8080/",
          "height": 439
        }
      },
      "source": [
        "history=model.fit(train_dataset,epochs=30,steps_per_epoch=steps_per_epoch)"
      ],
      "execution_count": 36,
      "outputs": [
        {
          "output_type": "stream",
          "text": [
            "Train for 35 steps\n",
            "Epoch 1/30\n",
            "35/35 [==============================] - 43s 1s/step - loss: 1.0038 - acc: 0.4812\n",
            "Epoch 2/30\n",
            "WARNING:tensorflow:Your input ran out of data; interrupting training. Make sure that your dataset or generator can generate at least `steps_per_epoch * epochs` batches (in this case, 1050 batches). You may need to use the repeat() function when building your dataset.\n",
            " 0/35 [..............................] - ETA: 0s"
          ],
          "name": "stdout"
        },
        {
          "output_type": "error",
          "ename": "ValueError",
          "evalue": "ignored",
          "traceback": [
            "\u001b[0;31m---------------------------------------------------------------------------\u001b[0m",
            "\u001b[0;31mValueError\u001b[0m                                Traceback (most recent call last)",
            "\u001b[0;32m<ipython-input-36-14c09fb1de33>\u001b[0m in \u001b[0;36m<module>\u001b[0;34m()\u001b[0m\n\u001b[0;32m----> 1\u001b[0;31m \u001b[0mhistory\u001b[0m\u001b[0;34m=\u001b[0m\u001b[0mmodel\u001b[0m\u001b[0;34m.\u001b[0m\u001b[0mfit\u001b[0m\u001b[0;34m(\u001b[0m\u001b[0mtrain_dataset\u001b[0m\u001b[0;34m,\u001b[0m\u001b[0mepochs\u001b[0m\u001b[0;34m=\u001b[0m\u001b[0;36m30\u001b[0m\u001b[0;34m,\u001b[0m\u001b[0msteps_per_epoch\u001b[0m\u001b[0;34m=\u001b[0m\u001b[0msteps_per_epoch\u001b[0m\u001b[0;34m)\u001b[0m\u001b[0;34m\u001b[0m\u001b[0;34m\u001b[0m\u001b[0m\n\u001b[0m",
            "\u001b[0;32m/tensorflow-2.1.0/python3.6/tensorflow_core/python/keras/engine/training.py\u001b[0m in \u001b[0;36mfit\u001b[0;34m(self, x, y, batch_size, epochs, verbose, callbacks, validation_split, validation_data, shuffle, class_weight, sample_weight, initial_epoch, steps_per_epoch, validation_steps, validation_freq, max_queue_size, workers, use_multiprocessing, **kwargs)\u001b[0m\n\u001b[1;32m    817\u001b[0m         \u001b[0mmax_queue_size\u001b[0m\u001b[0;34m=\u001b[0m\u001b[0mmax_queue_size\u001b[0m\u001b[0;34m,\u001b[0m\u001b[0;34m\u001b[0m\u001b[0;34m\u001b[0m\u001b[0m\n\u001b[1;32m    818\u001b[0m         \u001b[0mworkers\u001b[0m\u001b[0;34m=\u001b[0m\u001b[0mworkers\u001b[0m\u001b[0;34m,\u001b[0m\u001b[0;34m\u001b[0m\u001b[0;34m\u001b[0m\u001b[0m\n\u001b[0;32m--> 819\u001b[0;31m         use_multiprocessing=use_multiprocessing)\n\u001b[0m\u001b[1;32m    820\u001b[0m \u001b[0;34m\u001b[0m\u001b[0m\n\u001b[1;32m    821\u001b[0m   def evaluate(self,\n",
            "\u001b[0;32m/tensorflow-2.1.0/python3.6/tensorflow_core/python/keras/engine/training_v2.py\u001b[0m in \u001b[0;36mfit\u001b[0;34m(self, model, x, y, batch_size, epochs, verbose, callbacks, validation_split, validation_data, shuffle, class_weight, sample_weight, initial_epoch, steps_per_epoch, validation_steps, validation_freq, max_queue_size, workers, use_multiprocessing, **kwargs)\u001b[0m\n\u001b[1;32m    340\u001b[0m                 \u001b[0mmode\u001b[0m\u001b[0;34m=\u001b[0m\u001b[0mModeKeys\u001b[0m\u001b[0;34m.\u001b[0m\u001b[0mTRAIN\u001b[0m\u001b[0;34m,\u001b[0m\u001b[0;34m\u001b[0m\u001b[0;34m\u001b[0m\u001b[0m\n\u001b[1;32m    341\u001b[0m                 \u001b[0mtraining_context\u001b[0m\u001b[0;34m=\u001b[0m\u001b[0mtraining_context\u001b[0m\u001b[0;34m,\u001b[0m\u001b[0;34m\u001b[0m\u001b[0;34m\u001b[0m\u001b[0m\n\u001b[0;32m--> 342\u001b[0;31m                 total_epochs=epochs)\n\u001b[0m\u001b[1;32m    343\u001b[0m             \u001b[0mcbks\u001b[0m\u001b[0;34m.\u001b[0m\u001b[0mmake_logs\u001b[0m\u001b[0;34m(\u001b[0m\u001b[0mmodel\u001b[0m\u001b[0;34m,\u001b[0m \u001b[0mepoch_logs\u001b[0m\u001b[0;34m,\u001b[0m \u001b[0mtraining_result\u001b[0m\u001b[0;34m,\u001b[0m \u001b[0mModeKeys\u001b[0m\u001b[0;34m.\u001b[0m\u001b[0mTRAIN\u001b[0m\u001b[0;34m)\u001b[0m\u001b[0;34m\u001b[0m\u001b[0;34m\u001b[0m\u001b[0m\n\u001b[1;32m    344\u001b[0m \u001b[0;34m\u001b[0m\u001b[0m\n",
            "\u001b[0;32m/tensorflow-2.1.0/python3.6/tensorflow_core/python/keras/engine/training_v2.py\u001b[0m in \u001b[0;36mrun_one_epoch\u001b[0;34m(model, iterator, execution_function, dataset_size, batch_size, strategy, steps_per_epoch, num_samples, mode, training_context, total_epochs)\u001b[0m\n\u001b[1;32m    185\u001b[0m \u001b[0;34m\u001b[0m\u001b[0m\n\u001b[1;32m    186\u001b[0m   \u001b[0;31m# End of an epoch.\u001b[0m\u001b[0;34m\u001b[0m\u001b[0;34m\u001b[0m\u001b[0;34m\u001b[0m\u001b[0m\n\u001b[0;32m--> 187\u001b[0;31m   \u001b[0maggregator\u001b[0m\u001b[0;34m.\u001b[0m\u001b[0mfinalize\u001b[0m\u001b[0;34m(\u001b[0m\u001b[0;34m)\u001b[0m\u001b[0;34m\u001b[0m\u001b[0;34m\u001b[0m\u001b[0m\n\u001b[0m\u001b[1;32m    188\u001b[0m   \u001b[0;32mreturn\u001b[0m \u001b[0maggregator\u001b[0m\u001b[0;34m.\u001b[0m\u001b[0mresults\u001b[0m\u001b[0;34m\u001b[0m\u001b[0;34m\u001b[0m\u001b[0m\n\u001b[1;32m    189\u001b[0m \u001b[0;34m\u001b[0m\u001b[0m\n",
            "\u001b[0;32m/tensorflow-2.1.0/python3.6/tensorflow_core/python/keras/engine/training_utils.py\u001b[0m in \u001b[0;36mfinalize\u001b[0;34m(self)\u001b[0m\n\u001b[1;32m    142\u001b[0m   \u001b[0;32mdef\u001b[0m \u001b[0mfinalize\u001b[0m\u001b[0;34m(\u001b[0m\u001b[0mself\u001b[0m\u001b[0;34m)\u001b[0m\u001b[0;34m:\u001b[0m\u001b[0;34m\u001b[0m\u001b[0;34m\u001b[0m\u001b[0m\n\u001b[1;32m    143\u001b[0m     \u001b[0;32mif\u001b[0m \u001b[0;32mnot\u001b[0m \u001b[0mself\u001b[0m\u001b[0;34m.\u001b[0m\u001b[0mresults\u001b[0m\u001b[0;34m:\u001b[0m\u001b[0;34m\u001b[0m\u001b[0;34m\u001b[0m\u001b[0m\n\u001b[0;32m--> 144\u001b[0;31m       \u001b[0;32mraise\u001b[0m \u001b[0mValueError\u001b[0m\u001b[0;34m(\u001b[0m\u001b[0;34m'Empty training data.'\u001b[0m\u001b[0;34m)\u001b[0m\u001b[0;34m\u001b[0m\u001b[0;34m\u001b[0m\u001b[0m\n\u001b[0m\u001b[1;32m    145\u001b[0m     \u001b[0mself\u001b[0m\u001b[0;34m.\u001b[0m\u001b[0mresults\u001b[0m\u001b[0;34m[\u001b[0m\u001b[0;36m0\u001b[0m\u001b[0;34m]\u001b[0m \u001b[0;34m/=\u001b[0m \u001b[0;34m(\u001b[0m\u001b[0mself\u001b[0m\u001b[0;34m.\u001b[0m\u001b[0mnum_samples\u001b[0m \u001b[0;32mor\u001b[0m \u001b[0mself\u001b[0m\u001b[0;34m.\u001b[0m\u001b[0msteps\u001b[0m\u001b[0;34m)\u001b[0m\u001b[0;34m\u001b[0m\u001b[0;34m\u001b[0m\u001b[0m\n\u001b[1;32m    146\u001b[0m \u001b[0;34m\u001b[0m\u001b[0m\n",
            "\u001b[0;31mValueError\u001b[0m: Empty training data."
          ]
        }
      ]
    }
  ]
}