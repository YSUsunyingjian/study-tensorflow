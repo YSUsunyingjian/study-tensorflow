{
  "nbformat": 4,
  "nbformat_minor": 0,
  "metadata": {
    "colab": {
      "name": "卫星图像识别.ipynb",
      "provenance": [],
      "authorship_tag": "ABX9TyMKwoIOyaMgzE7BXfUJXaN9",
      "include_colab_link": true
    },
    "kernelspec": {
      "name": "python3",
      "display_name": "Python 3"
    },
    "accelerator": "GPU"
  },
  "cells": [
    {
      "cell_type": "markdown",
      "metadata": {
        "id": "view-in-github",
        "colab_type": "text"
      },
      "source": [
        "<a href=\"https://colab.research.google.com/github/sunyingjian/study-tensorflow/blob/master/%E5%8D%AB%E6%98%9F%E5%9B%BE%E5%83%8F%E8%AF%86%E5%88%AB.ipynb\" target=\"_parent\"><img src=\"https://colab.research.google.com/assets/colab-badge.svg\" alt=\"Open In Colab\"/></a>"
      ]
    },
    {
      "cell_type": "code",
      "metadata": {
        "id": "h4qWNsAX3nfg",
        "colab_type": "code",
        "outputId": "1f733de1-f386-40b7-a20d-d14a4a4fa7e2",
        "colab": {
          "base_uri": "https://localhost:8080/",
          "height": 52
        }
      },
      "source": [
        "import os\n",
        "from google.colab import drive\n",
        "drive.mount('/content/drive')\n",
        "path = \"/content/drive/My Drive/dataset\"\n",
        "os.chdir(path)\n",
        "os.listdir(path)"
      ],
      "execution_count": 56,
      "outputs": [
        {
          "output_type": "stream",
          "text": [
            "Drive already mounted at /content/drive; to attempt to forcibly remount, call drive.mount(\"/content/drive\", force_remount=True).\n"
          ],
          "name": "stdout"
        },
        {
          "output_type": "execute_result",
          "data": {
            "text/plain": [
              "['2_class']"
            ]
          },
          "metadata": {
            "tags": []
          },
          "execution_count": 56
        }
      ]
    },
    {
      "cell_type": "code",
      "metadata": {
        "id": "lT1IAsLn41u-",
        "colab_type": "code",
        "outputId": "d545c1a8-6f19-4cf9-9cbd-71f17c3cba36",
        "colab": {
          "base_uri": "https://localhost:8080/",
          "height": 35
        }
      },
      "source": [
        "%tensorflow_version 2.x\n",
        "import tensorflow as tf\n",
        "print('tensorflow:',format(tf.__version__))\n",
        "tf.config.list_physical_devices('GPU')\n",
        "tf.test.is_gpu_available()\n",
        "import numpy as np\n",
        "from tensorflow import keras\n",
        "from keras import layers\n",
        "import matplotlib.pyplot as plt\n",
        "%matplotlib inline\n",
        "import pathlib"
      ],
      "execution_count": 57,
      "outputs": [
        {
          "output_type": "stream",
          "text": [
            "tensorflow: 2.1.0\n"
          ],
          "name": "stdout"
        }
      ]
    },
    {
      "cell_type": "code",
      "metadata": {
        "id": "VNDxqHEa5afE",
        "colab_type": "code",
        "colab": {}
      },
      "source": [
        "data_dir='/content/drive/My Drive/dataset/2_class'"
      ],
      "execution_count": 0,
      "outputs": []
    },
    {
      "cell_type": "code",
      "metadata": {
        "id": "9R19Tmoj72H_",
        "colab_type": "code",
        "colab": {}
      },
      "source": [
        "data_root=pathlib.Path(data_dir)"
      ],
      "execution_count": 0,
      "outputs": []
    },
    {
      "cell_type": "code",
      "metadata": {
        "id": "-TDdxSPJ9ujv",
        "colab_type": "code",
        "outputId": "07b2ea81-c4b2-4c2b-e0bd-308898b4aa7c",
        "colab": {
          "base_uri": "https://localhost:8080/",
          "height": 52
        }
      },
      "source": [
        "for item in data_root.iterdir():\n",
        "  print(item)"
      ],
      "execution_count": 60,
      "outputs": [
        {
          "output_type": "stream",
          "text": [
            "/content/drive/My Drive/dataset/2_class/airplane\n",
            "/content/drive/My Drive/dataset/2_class/lake\n"
          ],
          "name": "stdout"
        }
      ]
    },
    {
      "cell_type": "code",
      "metadata": {
        "id": "7wH3-FTg-l5O",
        "colab_type": "code",
        "colab": {}
      },
      "source": [
        "all_image_path=list(data_root.glob('*/*'))"
      ],
      "execution_count": 0,
      "outputs": []
    },
    {
      "cell_type": "code",
      "metadata": {
        "id": "4A8StwguX68J",
        "colab_type": "code",
        "outputId": "e781fcad-175b-45bf-b358-78315624109a",
        "colab": {
          "base_uri": "https://localhost:8080/",
          "height": 35
        }
      },
      "source": [
        "len(all_image_path)"
      ],
      "execution_count": 62,
      "outputs": [
        {
          "output_type": "execute_result",
          "data": {
            "text/plain": [
              "1400"
            ]
          },
          "metadata": {
            "tags": []
          },
          "execution_count": 62
        }
      ]
    },
    {
      "cell_type": "code",
      "metadata": {
        "id": "yrv1wjMAYs0c",
        "colab_type": "code",
        "outputId": "ecf54652-e0d7-4f69-f70e-bd305bc5cc8a",
        "colab": {
          "base_uri": "https://localhost:8080/",
          "height": 52
        }
      },
      "source": [
        "all_image_path=[str(path) for path in all_image_path]\n",
        "all_image_path[10:12]"
      ],
      "execution_count": 63,
      "outputs": [
        {
          "output_type": "execute_result",
          "data": {
            "text/plain": [
              "['/content/drive/My Drive/dataset/2_class/airplane/airplane_012.jpg',\n",
              " '/content/drive/My Drive/dataset/2_class/airplane/airplane_013.jpg']"
            ]
          },
          "metadata": {
            "tags": []
          },
          "execution_count": 63
        }
      ]
    },
    {
      "cell_type": "code",
      "metadata": {
        "id": "mnz8ik1J218l",
        "colab_type": "code",
        "colab": {}
      },
      "source": [
        "import random\n",
        "random.shuffle(all_image_path)"
      ],
      "execution_count": 0,
      "outputs": []
    },
    {
      "cell_type": "code",
      "metadata": {
        "id": "Gha8G8MO3ie5",
        "colab_type": "code",
        "colab": {}
      },
      "source": [
        "image_count=len(all_image_path)"
      ],
      "execution_count": 0,
      "outputs": []
    },
    {
      "cell_type": "code",
      "metadata": {
        "id": "VOWgai8f9Et6",
        "colab_type": "code",
        "outputId": "ac7a6358-baf8-4c3f-93c3-259ccf06e602",
        "colab": {
          "base_uri": "https://localhost:8080/",
          "height": 35
        }
      },
      "source": [
        "label_names=sorted(item.name for item in data_root.glob('*/'))\n",
        "label_names"
      ],
      "execution_count": 66,
      "outputs": [
        {
          "output_type": "execute_result",
          "data": {
            "text/plain": [
              "['airplane', 'lake']"
            ]
          },
          "metadata": {
            "tags": []
          },
          "execution_count": 66
        }
      ]
    },
    {
      "cell_type": "code",
      "metadata": {
        "id": "ph9UuLhl-Zqt",
        "colab_type": "code",
        "outputId": "e8c22255-8c33-4e49-c7d5-ce219a06bc1e",
        "colab": {
          "base_uri": "https://localhost:8080/",
          "height": 35
        }
      },
      "source": [
        "label_to_index=dict((name,index) for index,name in enumerate(label_names))\n",
        "label_to_index"
      ],
      "execution_count": 67,
      "outputs": [
        {
          "output_type": "execute_result",
          "data": {
            "text/plain": [
              "{'airplane': 0, 'lake': 1}"
            ]
          },
          "metadata": {
            "tags": []
          },
          "execution_count": 67
        }
      ]
    },
    {
      "cell_type": "code",
      "metadata": {
        "id": "OESFOKgk7AKb",
        "colab_type": "code",
        "outputId": "ca60d482-2a55-4dd2-885e-7ffc20c6030f",
        "colab": {
          "base_uri": "https://localhost:8080/",
          "height": 35
        }
      },
      "source": [
        "#获取路径来实现对图片做标签,通过下面的代码生成一个pathlib对象,那么他的上一层目录就剩他的label\n",
        "pathlib.Path('/content/drive/My Drive/dataset/2_class/airplane/airplane_012.jpg').parent.name"
      ],
      "execution_count": 68,
      "outputs": [
        {
          "output_type": "execute_result",
          "data": {
            "text/plain": [
              "'airplane'"
            ]
          },
          "metadata": {
            "tags": []
          },
          "execution_count": 68
        }
      ]
    },
    {
      "cell_type": "code",
      "metadata": {
        "colab_type": "code",
        "id": "1w5fz3FW-GBP",
        "colab": {}
      },
      "source": [
        "#通过推导式 labe_to_index得到分组的编号\n",
        "all_image_labe=[label_to_index[pathlib.Path(p).parent.name]for p in all_image_path]"
      ],
      "execution_count": 0,
      "outputs": []
    },
    {
      "cell_type": "code",
      "metadata": {
        "id": "3MEGI7hgHz7a",
        "colab_type": "code",
        "outputId": "4d8fd16f-5b46-4445-e2a9-e9a9ec3c65c7",
        "colab": {
          "base_uri": "https://localhost:8080/",
          "height": 35
        }
      },
      "source": [
        "all_image_labe[:5]"
      ],
      "execution_count": 70,
      "outputs": [
        {
          "output_type": "execute_result",
          "data": {
            "text/plain": [
              "[0, 0, 1, 1, 1]"
            ]
          },
          "metadata": {
            "tags": []
          },
          "execution_count": 70
        }
      ]
    },
    {
      "cell_type": "code",
      "metadata": {
        "id": "ujJ0N5ZqH4zu",
        "colab_type": "code",
        "outputId": "322c1616-c4b4-48e4-e519-63bcfe00f171",
        "colab": {
          "base_uri": "https://localhost:8080/",
          "height": 104
        }
      },
      "source": [
        "all_image_path[:5]"
      ],
      "execution_count": 71,
      "outputs": [
        {
          "output_type": "execute_result",
          "data": {
            "text/plain": [
              "['/content/drive/My Drive/dataset/2_class/airplane/airplane_409.jpg',\n",
              " '/content/drive/My Drive/dataset/2_class/airplane/airplane_644.jpg',\n",
              " '/content/drive/My Drive/dataset/2_class/lake/lake_110.jpg',\n",
              " '/content/drive/My Drive/dataset/2_class/lake/lake_289.jpg',\n",
              " '/content/drive/My Drive/dataset/2_class/lake/lake_426.jpg']"
            ]
          },
          "metadata": {
            "tags": []
          },
          "execution_count": 71
        }
      ]
    },
    {
      "cell_type": "code",
      "metadata": {
        "id": "whLsm65JIR1E",
        "colab_type": "code",
        "colab": {}
      },
      "source": [
        "import IPython.display as display\n",
        "index_to_label=dict((v,k) for k,v in label_to_index.items())\n",
        "#这样我们就可以通过这个字典获取到 "
      ],
      "execution_count": 0,
      "outputs": []
    },
    {
      "cell_type": "markdown",
      "metadata": {
        "id": "arMNvCgnxQB8",
        "colab_type": "text"
      },
      "source": [
        "#真正的代码从下面开始"
      ]
    },
    {
      "cell_type": "code",
      "metadata": {
        "id": "sdyM80fAQlF0",
        "colab_type": "code",
        "outputId": "74f3a9f4-8ab0-4d38-c3f7-70227a25a62a",
        "colab": {
          "base_uri": "https://localhost:8080/",
          "height": 888
        }
      },
      "source": [
        "for n in range(3):\n",
        "  image_index=random.choice(range(len(all_image_path)))\n",
        "  display.display(display.Image(all_image_path[image_index]))\n",
        "  print(index_to_label[all_image_labe[image_index]])\n",
        "  print()"
      ],
      "execution_count": 73,
      "outputs": [
        {
          "output_type": "display_data",
          "data": {
            "image/jpeg": "[encoded data removed]",
            "text/plain": [
              "<IPython.core.display.Image object>"
            ]
          },
          "metadata": {
            "tags": []
          }
        },
        {
          "output_type": "stream",
          "text": [
            "airplane\n",
            "\n"
          ],
          "name": "stdout"
        },
        {
          "output_type": "display_data",
          "data": {
            "image/jpeg": "[encoded data removed]",
            "text/plain": [
              "<IPython.core.display.Image object>"
            ]
          },
          "metadata": {
            "tags": []
          }
        },
        {
          "output_type": "stream",
          "text": [
            "airplane\n",
            "\n"
          ],
          "name": "stdout"
        },
        {
          "output_type": "display_data",
          "data": {
            "image/jpeg": "[encoded data removed]",
            "text/plain": [
              "<IPython.core.display.Image object>"
            ]
          },
          "metadata": {
            "tags": []
          }
        },
        {
          "output_type": "stream",
          "text": [
            "lake\n",
            "\n"
          ],
          "name": "stdout"
        }
      ]
    },
    {
      "cell_type": "markdown",
      "metadata": {
        "id": "RI8WcVKRu2eS",
        "colab_type": "text"
      },
      "source": [
        "#单张图片的处理过程\n",
        "##读取图片"
      ]
    },
    {
      "cell_type": "code",
      "metadata": {
        "id": "Y3vqjrexTvT0",
        "colab_type": "code",
        "outputId": "eca75e15-a57f-4b82-e183-8f31a3d6ccd9",
        "colab": {
          "base_uri": "https://localhost:8080/",
          "height": 55
        }
      },
      "source": [
        "#根据路径，读取图片\n",
        "img_path=all_image_path[0]\n",
        "img_path\n",
        "img_raw=tf.io.read_file(img_path)#读取图片\n",
        "img_raw"
      ],
      "execution_count": 74,
      "outputs": [
        {
          "output_type": "execute_result",
          "data": {
            "text/plain": [
              "<tf.Tensor: shape=(), dtype=string, numpy=b'\\xff\\xd8\\xff\\xe0\\x00\\x10JFIF\\x00\\x01\\x01\\x00\\x00\\x01\\x00\\x01\\x00\\x00\\xff\\xdb\\x00C\\x00\\x08\\x06\\x06\\x07\\x06\\x05\\x08\\x07\\x07\\x07\\t\\t\\x08\\n\\x0c\\x14\\r\\x0c\\x0b\\x0b\\x0c\\x19\\x12\\x13\\x0f\\x14\\x1d\\x1a\\x1f\\x1e\\x1d\\x1a\\x1c\\x1c $.\\' \",#\\x1c\\x1c(7),01444\\x1f\\'9=82<.342\\xff\\xdb\\x00C\\x01\\t\\t\\t\\x0c\\x0b\\x0c\\x18\\r\\r\\x182!\\x1c!22222222222222222222222222222222222222222222222222\\xff\\xc0\\x00\\x11\\x08\\x01\\x00\\x01\\x00\\x03\\x01\"\\x00\\x02\\x11\\x01\\x03\\x11\\x01\\xff\\xc4\\x00\\x1f\\x00\\x00\\x01\\x05\\x01\\x01\\x01\\x01\\x01\\x01\\x00\\x00\\x00\\x00\\x00\\x00\\x00\\x00\\x01\\x02\\x03\\x04\\x05\\x06\\x07\\x08\\t\\n\\x0b\\xff\\xc4\\x00\\xb5\\x10\\x00\\x02\\x01\\x03\\x03\\x02\\x04\\x03\\x05\\x05\\x04\\x04\\x00\\x00\\x01}\\x01\\x02\\x03\\x00\\x04\\x11\\x05\\x12!1A\\x06\\x13Qa\\x07\"q\\x142\\x81\\x91\\xa1\\x08#B\\xb1\\xc1\\x15R\\xd1\\xf0$3br\\x82\\t\\n\\x16\\x17\\x18\\x19\\x1a%&\\'()*456789:CDEFGHIJSTUVWXYZcdefghijstuvwxyz\\x83\\x84\\x85\\x86\\x87\\x88\\x89\\x8a\\x92\\x93\\x94\\x95\\x96\\x97\\x98\\x99\\x9a\\xa2\\xa3\\xa4\\xa5\\xa6\\xa7\\xa8\\xa9\\xaa\\xb2\\xb3\\xb4\\xb5\\xb6\\xb7\\xb8\\xb9\\xba\\xc2\\xc3\\xc4\\xc5\\xc6\\xc7\\xc8\\xc9\\xca\\xd2\\xd3\\xd4\\xd5\\xd6\\xd7\\xd8\\xd9\\xda\\xe1\\xe2\\xe3\\xe4\\xe5\\xe6\\xe7\\xe8\\xe9\\xea\\xf1\\xf2\\xf3\\xf4\\xf5\\xf6\\xf7\\xf8\\xf9\\xfa\\xff\\xc4\\x00\\x1f\\x01\\x00\\x03\\x01\\x01\\x01\\x01\\x01\\x01\\x01\\x01\\x01\\x00\\x00\\x00\\x00\\x00\\x00\\x01\\x02\\x03\\x04\\x05\\x06\\x07\\x08\\t\\n\\x0b\\xff\\xc4\\x00\\xb5\\x11\\x00\\x02\\x01\\x02\\x04\\x04\\x03\\x04\\x07\\x05\\x04\\x04\\x00\\x01\\x02w\\x00\\x01\\x02\\x03\\x11\\x04\\x05!1\\x06\\x12AQ\\x07aq\\x13\"2\\x81\\x08\\x14B\\x91\\xa1\\xb1\\xc1\\t#3R\\xf0\\x15br\\xd1\\n\\x16$4\\xe1%\\xf1\\x17\\x18\\x19\\x1a&\\'()*56789:CDEFGHIJSTUVWXYZcdefghijstuvwxyz\\x82\\x83\\x84\\x85\\x86\\x87\\x88\\x89\\x8a\\x92\\x93\\x94\\x95\\x96\\x97\\x98\\x99\\x9a\\xa2\\xa3\\xa4\\xa5\\xa6\\xa7\\xa8\\xa9\\xaa\\xb2\\xb3\\xb4\\xb5\\xb6\\xb7\\xb8\\xb9\\xba\\xc2\\xc3\\xc4\\xc5\\xc6\\xc7\\xc8\\xc9\\xca\\xd2\\xd3\\xd4\\xd5\\xd6\\xd7\\xd8\\xd9\\xda\\xe2\\xe3\\xe4\\xe5\\xe6\\xe7\\xe8\\xe9\\xea\\xf2\\xf3\\xf4\\xf5\\xf6\\xf7\\xf8\\xf9\\xfa\\xff\\xda\\x00\\x0c\\x03\\x01\\x00\\x02\\x11\\x03\\x11\\x00?\\x00\\xeeE\\x9d\\xbb@3\\x1a~\\x15\\x00So \\xda\\x00A\\xce\\x05j\\xc3\\xe5\\x98W\\xa9\\xe3\\xa0\\x15\\x14\\x96*C0\\x05M)+\\x91\\x12\\x98\\xbbn\\x9d{\\xf3JZ)\\x11D\\x88\\x0e}E+[\\x0c\\xe0\\xafoJ\\xad,\\x00<Dp3\\xd8\\xd4$\\xcae\\x99\\xac\\xed\\xf6\\x03\\x12yo\\xeb\\x1b\\x15\\xfd\\x07\\x15\\x1c6\\xf71`\\xa5\\xdb\\x12\\xc7\\x9f1\\x03\\x7f,S\\x9a\\x1c\\xf1\\x97\\x04s\\xd4\\xd3\\xd67\\x08\\x08f\\xc6*\\x88*^O:\\xcd\\x0ec\\x0cU\\xf9)\\xc9\\xfb\\xa7\\xb7j|WQ\\x15\\xc4\\xae#\\'\\x80\\x1f\\xe555\\xb1,\\xd2\\xc8\\xc7\\'a\\xc1\\x00dr*_/|lHW\\x04s\\x95\\xabB$\\nV(\\xce\\x0e\\x08\\xe0\\xd4\\x17\\x1c\\x023\\xc9=\\xa9\\x1bO\\x81\\x001F#\\xeeLD\\xa1\\'\\xdf\\x07\\x9a\\x8ah\\xe7UP\\x92.\\x0fg\\x19\\xa6\\x80\\xb5l\\x08\\x88\\xe1A\\xe6\\xa5\\xd80\\x0f\\x07\\x9a\\xa1\\x14\\xb7\\x91DA\\xb7I\\x01\\xff\\x00\\x9er\\x00\\x7f#\\xfe5#\\xdf,Q\\x8f29c\\xc7$\\xba\\x90?\\xef\\xae\\x94\\xc0\\xb14\\x06F\\x07 \\x01\\xde\\xaa\\xc9\\xb9\\x01]\\xd9\\x18\\xdb\\xd7\\xbdO\\x1c\\xad$\\x0b>\\xd7\\xf2\\xe4_\\x9789\\xf7\\xe0\\xd5&\\x91\\xd8\\xba\\x15<\\x1f1\\xc9\\xed\\xcdL\\x9d\\x8a\\x82\\x1b4\\xc9\\x14{\\x86X\\xaf\\x1cTh\\xe4\\x85`>S\\x83\\xcf\\xbd2y!\\xf3\\xc0@\\xc1\\x98n\\xc68\\xa6]J\\xabl\\xee$1\\xb6\\xc3\\x86\\xdb\\x9c\\x1e\\x9d;\\xd6w\\xb9\\xd0\\xadb\\x08,\\x16[\\x8b\\x9b\\xc9\\x03\\x153\\x9f,\\x02p6\\x8d\\xbf\\xcc5C\\xe2\\xed\\xf2\\xda\\xe9\\xbe\\x19\\xb4\\x8e?2\\xef\\xfd2\\xee!\\xf2\\x01\\x02\\x9c*\\x929\\x01\\x9b\\xd2\\xb74DO\\xb1B\\x93\\xca\\x8d\\x1chd\\x9eB0\\x00\\x03,O\\xa7z\\xe7\\xf4\\xa0u\\xddCQ\\xf1\\x1c\\x8d$Mu!Ku\\xd9\\x9cB\\xbc \\xfc}>\\x94\\xd23\\x91\\x03x\\x8bA\\x8bC\\xb3\\xb0:\\xd9\\xd3.\\xed\\xe2\\x11\\xc9\\xe5\\xda\\xb3:\\xb0\\x03*\\xa4\\xe0p\\xd9\\xe7#8\\xa8/|Kh\\xbaB\\xa1\\xf1\\x0c\\x1e \\x12\\xb6\\xdf*\\xebe\\xbb\\xc7\\xe9 }\\xb9\\\\t\\xc6k\\x94\\xf1\\xb7\\x87\\xc6\\x9d\\xa9Gkln\\'\\x96E\\xfbU\\xcf\\xcb\\x95\\x8c\\xc8\\xc4\\xaa\\xf08\\xc0\\xc7Z\\xc4\\xd1 \\x82\\xd7[\\xb4\\x97P\\xb7i`M\\xcd,\\x01\\x0e\\xe9\\x06>\\xee>\\xb8\\xab%#\\xe9?\\x0b\\xf8\\x8bG}\\x0e\\xc6\\x19\\xf5K1w\\xe5\\xe5\\xe3\\xfbR\\xb9RI\\xee8\\xad\\xc3v\\x96\\xed-\\xd5\\xc3\\xa2\\xc2\\x11q\"\\x12\\xc0\\x82x\\xaf\\x9e\\xfc?\\xe0\\xdd3X\\xba\\x9a\\xff\\x00\\xedw\\xf6\\xbal*\\xcd3\\xdc@#\\\\\\xf7\\n\\xe1\\x88\\xe3#\\x83\\xcd}\\x05\\xa7XC\\x05\\xb2\\xc6\\x14<B8\\xd5w\\x0e\\xa0\\x0e)\\r\\xa3@r2\\x0eh\\xe6\\x9c84\\xa7\\x14\\x10\\xd1\\xe6\\x9e0u\\x7f\\x1a\\xc6\\xa4ac\\xb2\\x1c\\xfa\\x92\\xc7\\xfab\\xb9\\xe9$\\x12j\\x00\\x8eUc9\\'\\xd2\\xb5|V\\xdeg\\x8d\\xaf\\x1d\\xb3\\xe5\\xc5\\x02F\\xb8\\xeeq\\x9f\\xebX\\x06Bf\\x93\\x9e\\xb1\\x81\\xfa\\xd4\\xc8i\\x15\\xd1\\xe4Y&\\x0e\\xf9S! \\x1e\\xc0\\x80q\\xfa\\xd6\\x9d\\x94\\xa6(\\xd8\\x0c\\x96a\\xd8g\\x03\\xda\\xb3`\\x83\\xc9\\x129$\\x87m\\xc0\\x11\\xf7F?\\xfa\\xd5b\\xd2\\xfaX\\xcb\\xecE\\x11\\x86\\xe1\\x80\\xcejz\\x14\\x83Z\\xf0\\xdd\\x96\\xaf4Wv(\\xf6\\x97\\xeb\\xcf\\x9c\\x99S\\xc7L\\xd7S\\xa7j\\x9a\\xcd\\xa7\\x82$\\x7f\\x13K\\n\\xa4\\xa5\\xad\\xd2\\xe9\\x1f\\xa2\\x9e\\x14\\xb9<\\x0c\\x9e3\\xf9\\xd5\\x18\\xaeY#,\\xc83\\xd7\\x02\\xb15-g]\\xd6-\\xe4\\xf0\\xfd\\xde\\x9d\\t\\xd1\\x0b\\x02\\xf2\\x06\\xc3\\xb0\\xdd\\x9e\\xb9\\xf5\\xaa\\x8c\\x89j\\xe7\\xae\\xd9\\\\-\\xd5\\xff\\x00\\x9d\\x1b+\\xa7\\xd9\\xd7k+eO$\\xf1Y\\xb7\\xb7qG\\xa2\\xcbq<\\x91\\xdb\\xc7\\x1d\\xf0f\\x91\\xc8EUW\\x04\\x9e}\\x81\\xf7\\xac\\x7f\\x85\\xfac\\xe9zU\\xdc\\x06\\xed\\xee\"\\x12~\\xed]\\xb2Q08\\x1f\\x8ek\\x86\\xd6t\\xd95\\x8dz\\xe6\\xe6\\xfa\\xeeyt\\xe8e&\\xde\\xc8\\x12A#\\xae~\\xa75M\\xa1X\\xf4\\x1f6+k53H\\x91\\xf0\\x00\\xcb\\x01\\xf9UT\\xbeB\\xc5c\\x8eyG\\xf0\\x91\\x13\\x00\\xdfBx\\xa9c\\xb6\\x82\\xd6\\x1f0\\x8f\\xde\\x803+\\x9c\\xb1\\xfcOj\"\\xbc\\x88\\xb9*K\\x9e\\xbc\\x02\\x7f\\x95\\x0c\\x047L0^\\xca\\xe4g\\xbe\\xd0H\\xfa\\x8c\\xe6\\xa0\\xfbU\\xa3\\xc8\\x81\\x99\\xa3`zH\\xa5?\\x9d]k\\xb8\\x89\\xcb\\x89\\x01\\x1f\\xf4\\xcd\\xbf\\xc2\\x9af\\xb6\\xb8\\x05C\\xc6\\xc7\\xba\\x93\\x92?\\n\\x00EP\\xf1\\x97-\\xc08\\x18\\xe6\\xa3\\xb8\\x94\\xc1i#\\x90HDf\\x1f@3NK\\x11\\x04Y\\xb3v\\x8d\\xb3\\xf7?\\x81\\xbf\\x0e\\xdf\\x85U\\xbf\\x98\\xbe\\x9f{\\x14\\x90\\xec\\x98\\xc4AN\\xa1\\xb3\\xc7\\x07\\x1c\\x8av\\x11$\\x08Q$\\xda\\t;@?\\x9dY\\x84\\xe2\\x1eW\\x03<\\xd2\\xc4\\xaa\\x8b.O\\xf7G5\"\\x051\\xe3\\xb6}i\\xa5\\xa0\\x86\\x10q\\xcfL\\xd5[\\xe6\\nc\\x19\\xebW\\x9dT\\xc4\\xca\\t\\x07\\xebT.#9\\x04\\x9c\\xfaw\\xa6\\x80H]Uv\\x90N{\\x8a\\x92FbGp2@\\xa8\\x02\\xb2:`g>\\x9d\\xaa\\xca\\xa1V.\\xfc\\x8c`f\\x81\\x94\\xf4r\\'\\xfbV\\x9ft]\\x9a\\t<\\xd8\\x18\\xb1\\xce\\xc6\\xe4\\x0c\\xfb\\x1d\\xc3\\xf0\\x15`\\xd9\\x83\\x1b\\xe2V;\\xc6\\xd6\\xdc2q\\xe9R\\xdb\\xb2E\\xac\\xc3\\x13@\\xe4\\xcf\\x19U\\x91W!\\x08\\xe4g\\x8e\\x07Z\\xb1v6\\xb7\\x98\\xa0m=~\\xb4\\xac\\x9a\\x12fU\\xca\\xbc`f%\\xda\\x07\\x05O?\\x97\\xff\\x00^\\xaa9\\x8c\\xa7\\xce\\x8c\\x01\\xfe\\xfa\\xf1\\xfe\\x15\\xa4\\xf2\\tH\\x04\\x1e\\x07\\x14Cl\\xf7\\x97\\xd1\\xdb\\'V\\xe3\\x8e\\xc3\\xa9\\xa8q5\\x8c\\x9b0\\xbcE4\\xb6^\\x19\\x8a\\xc2\\xd9\\x82\\xdd\\xeb\\x92\\x8bx\\xc2\\xff\\x00\\x04\\x00\\xfc\\xe7\\x8fj\\xdb\\xd1t\\xf5\\xf3-\\xec \\x8c\\xac\\x08Ux<\\x05\\x00g\\xf4\\x15\\xce\\xbd\\xe2\\xeb\\xfe.\\xbb\\xd5T\\x01if\\x05\\x9d\\x9f<q\\xf7\\x98\\x7f\\x9e\\xf5\\xbb5\\xd9\\xd2|-\\xacj[\\xbfz!\\xf2 \\xc1\\xe7\\xcc~8\\xfd(E\\xb4\\xeds\\x1fL\\xb8\\x8bS\\xd45\\x8dQr\\xe2\\xf2\\xf5\\xfc\\xb2{\\xc7\\x1eQ1\\xed\\x81\\x9f\\xc6\\x9b\\xadZM\\xa9\\xe8\\xf3\\xd9\\xc7\\xf7\\xa4\\xc2\\xa0\\'\\x03\\xaf\\xd0\\xd4\\xfaU\\x88\\xd3\\xec\\xedmW\\x1f\\xb8\\x81c\\xdd\\x8e\\xb8\\x18&\\xad\\xb8\\x00)\\xe4\\xfc\\xfd\\x86{\\x1f\\xf0\\xa3qKKX\\xf2\\xbb\\xaf\\x0bkV\\x93\\x08\\x95\\x19\\x92\\\\+*\\xbf\\r\\xcfB3\\xcfa\\x9fj\\xfakN\\x87\\xec\\xe9\"\\x16\\x04\\x8d\\xa3\\x8e\\xd8P1^t\\xb6:n\\xb3$*\\xe1\\xa4ee\\xfd\\xe4y\\x05N\\xe1\\x8c\\x91\\xef^\\x91d\\x8c\\xa96\\xecg\\xcdl`\\xf6\\xcf\\x14\\x90\\x99g4\\x84\\xf1JE7\\xbd=L\\xeeyF\\xb8Z\\xe3\\xc6Z\\xde\\xe0\\x00\\x1eZ\\xa7=0\\x835\\x81*\\xddD\\xd2\\x8bP\\x86E\\xda\\xb8#<\\x9f\\xf2+f\\xf9\\x98x\\xa3[\\x97nK\\xcd\\x80\\x08\\xe9\\x8e?<\\x01X\\xba\\x9d\\xb0\\x97qvlI\"\\x90\\x01#\\x05A9\\xfd)6R-\\x05\\x00\\x05\\x9dY\\x1c\\xf0\\xeaF\\xd2\\x08\\xc7\\x184\\xa5\\x04k\\xb4m\\xc1\\xe8=*8a\\x8e=5\\xd9\\xee$y\\xd4\\x8c\\x07l\\x96\\xf7\\xa4U\\x0c\\x83t\\xac\\\\v\\x18\\xc6)X\\x11\\xa3m\\xe2[9\\x84zw\\x8al\\xd2\\xceU\\x1e]\\xbe\\xabj\\x84\\xa1^\\xc1\\xfe_\\x94\\xfdx\\xaaW\\xf0\\xad\\xad\\xcb\\xdb,\\xc92\\xa0;d\\x8d\\xb8q\\xd8\\x8f\\xd4~\\x15\\\\\\xa2KnVx\\xc3\\xab\\x0c\\x85=\\xc1\\xf5\\xaa\\x9a~\\x9bg\\xa7\\xa3\\xc5\\x08\\x08\\xaeIB\\t\\xc0\\x19\\xe0\\x0f\\xce\\x93`zo\\xc3\\xfd\\xcb\\xa3\\\\3}\\xd6vop\\x07\\x18\\xfd\\r`\\xe9\\xfaU\\xbe\\xa1\\xa7\\xff\\x00i\\xbe\\xa9\\x14.\\xf3>\\xc8\\x0e\\x0b\\x1f\\x9c\\x80\\x08$c$~\\xb5\\xd1x%Z\\xd7\\xc2s\\x92\\xe0\\xcb\\xbd\\xdb>\\xb5\\xe2r\\xf82\\xe2\\xefP\\xbd\\xbe\\x8e\\xf7c\\xcf+:.9\\xc6\\xec\\x8c\\x1c\\xd5imA&\\xcfhK8p\\x85\\xcf\\x9a\\xc4\\x02\\x19\\x8esN\\x91\\x12\\x02\\xa5x\\xcf|\\xd4\\ri$\\'}\\x93\\xec=\\xd1\\xc9d?A\\x9e?\\n\\x1e\\xe2\\xf1F\\xd9,<\\xd2:\\x98\\\\\\x1c\\x0f\\xa3`\\xd5\\x90H\\xbb\\xb0\\xec[\\x82zg4\\xcb\\xd2\\x86\\x10\\x1c+s\\xc6j\\x05\\xbfT\\xca<\\x17\\x01\\xf3\\x90<\\x96\\xe7\\xf4\\xa8n\\xee\\x9aUU\\x8e\\xd2s\\x93\\xdd6c\\xeb\\x9a\\x10\\x13[y\\xb0\\xa0h\\xdc\\xb8\\xcf\\xfa\\xb6=\\x7f\\x1a\\xca\\xd5\\xb5\\x08\\xee\\xad\\xcc%\\x0f\\xda\\x0c\\x8a\\xb1\\x8cr\\x8cX\\x0c\\xfbu\\xab\\x9boI\\xdad\\x10\\xa7\\xfb\\x07s\\x1f\\xc4\\xf0?*\\xa5q\\x0cQ\\xa2\\xac`y\\xed*s\\x9c\\x92w\\x02r~\\x82\\x9b\\xd0H\\xd0_\\xed\\x11\\tY\\x16\\xdc\\xf4\\xf9\\x830\\x04\\xe3\\xe9R\\xc5=\\xe0!~\\xcd\\x03z\\x14\\x9b\\xfa\\x11R\\x06\\xb8T\\x1b\\xa3\\xf9w\\x1c\\x15#\\xfa\\xd3Q\\x99f\\x18\\x82C\\xcfb(\\x02h^G\\xb8\\x8e+\\xabv\\x8c3m\\xf3\\x12E \\x13\\xd3\\xde\\xabj-<\\x17M\\x03\\xdaK\\x858WB\\xa40\\xeb\\x9e\\xb4\\x9a\\xc4\\x92Ib\\xea#\\x95[\\x04\\xa9\\xdb\\xca\\x91\\xc8?\\x86*\\x1b\\xbf\\x1bxkRx\\xa1]D%\\xca\\x9d\\xaf\\xbe\\x191\\xfc\\xbd{\\xd3[\\x00\\xf1q\\xb4!{{\\x80\\xbe\\xa2\"q\\xf5\\xc5>;\\xfbp2\\xe2`\\xa7\\xb9\\x85\\xf0>\\xbcq[ph\\xb2\\xde\\xc2\\x93\\xdb\\xdf\\xc4\\xd1\\xb0\\xf9O\\x96\\x7f>MM\\x1f\\x86\\xae\\x11\\xb75\\xe26{,e\\x7f\\xad+\\x95c\\x9b\\xbf\\xba\\x80C\\x1c\\xf0<\\x92<2\\x07\\x11\\xc69\\x90\\x8f\\xe1\\xe7\\xd7\\xfa\\xd6\\xec\\x88\\xb2\\xeeP\\x85w\\x8c\\xaa\\xb7Z\\xb1q\\xe1\\xc9\\xee\\x12H\\xfe\\xd0\\xa8\\x1c\\x10Yr\\x08\\xcd^\\x93Jp\\x88c\\x90\\xb3\\x80\\x03\\x13\\xdf\\x8ai\\xa1r\\xb3\\x88\\x8bR\\xb0\\x92)d[\\xfbd\\x9e\\x171=\\xb3\\x9cH\\xac\\x0e\\x08\\xc1\\xaa\\xda\\xd6\\xb4\\xba\\x17\\x87oo\\xe3\\x04\\xdf\\\\/\\x93o\\x18\\xeb\\xf3\\xf5o\\\\\\x01\\x9cV\\xb6\\xb3\\xe0h/u\\x15\\xd5\\x06\\x97k%\\xd8\\xc6\\xf7(\\xa1\\xc9\\x1d\\x0e{\\xff\\x00\\xf5\\xab*\\xf2+\\xcf\\x16O\\xa5\\xda\\xff\\x00b\\xdc\\xc24\\xc5%\\x8c\\xb1\\x85C\\x95\\xda:\\xfex\\x1e\\x95\\x0c\\xb5\\xb1\\x9b\\xa6i\\x02\\xd3H\\xb6\\xb6v\\'g\\xce\\xc4\\x0e\\xa4\\xf2\\x7fRkK\\xc4\\xfeX\\x8f\\xc3\\xda!c\\xbegk\\xf9\\xa3\\x1dN\\xd5\\xf9A\\xfcH\\xfc\\xaaK\\xbb?\\xecF\\xb7\\xbe\\xbb\\xb1xm\\xa3\\x95<\\xe6\\x19\\xe0n\\x1d\\x81\\xe7\\xe9\\xefY\\xf3\\xc9e\\xab\\xf8\\xa7P\\xd6\\xacVO%\"[x_;T\\xff\\x00\\x13du\\x07\\x91\\xf9T\\xda\\xc6\\xaeM\\xd9\\x16\\xed\\xcb\\x97o0\\x15\\\\\\x1e\\xdfJ\\x96{H\\xb5\\x0bF\\xb72H\\xb9\\x04f6\\xdaFF\\x0f5\\x9e\\x8ee\\r\\xb9\\xdd[?\\xc2r\\x0f\\xe1Z\\x16H\\x06O\\x9b\"\\x12=\\x05\\x0b\\xb1\\x12z\\x8d\\xd3<<,\\xf5k3iys\\x14k2\\x93\\x127\\xee\\xd8\\x028#\\x1f\\x8dz]\\xaf\\xfa\\xb6#\\x9c\\xb9\\xfeu\\xc7h\\xcen\\xb5!\\xb6\\xe6\\'T\\x94.\\xd6\\xc0`@\\xcfL\\xd7[\\xa6\\xb8\\x96\\xc2\\x19\\x14`0\\xdd\\xd3\\x15V\\x11o\\x19\\xa6\\xe2\\x9dMn\\x018\\xcf\\x14\\xc9g\\x8e\\xa03j\\xda\\xbb\\x94-\\xbe\\xeeF/\\xe9\\x96<V]\\xe8\\x90\\xca\\x9b\\x1f\\n\\xa1\\xb8+\\x9c\\xd6\\x85\\x94\\xcd\\x1cw\\xae\\x14\\xb0\\x92b\\xe5\\xb3\\x9c\\x9c\\x9c\\xd5\\x0b\\x82\\xccA\\xc7=k9n\\x08\\x8aGO#\\xe5\\xc1f\\xea;\\x8f\\xadZG\\x8a<\\x9d\\xeav\\xa9\\xc8\\xcf\\xdd\\x15P\\xb8\\x920B\\x98\\xf1\\xc7,\\t?\\x85Ey{5\\xbc\\x08\\xd2#39 \\xacK\\x9c\\x0cw\\xa44&\\xa8\\xa1\\x8cj\\xf7/\\x11\\x03\\x82\\xac\\x01\\'\\x8e*\\xd8\\xb4\\xf2m-\\xd0;0E\\x03\\xcc8\\xc9\\xc0\\xa9,n\\x92\\xe2\\xda)][\\xcdq\\xf7Z?~\\xff\\x00\\x95I0\\xf3&}\\xa8\\x11W\\x8f\\x94\\x10\\t\\xe7\\xda\\xa6\\xe34l\\xbcY\\x06\\x93\\xe1\\xadV)fq4g\\xf7H;\\xee\\x03\\x04~\\'\\x06\\xb3\\xac\\xa3xm\\xa2W;\\xa5\\x11\\xf3\\xf5\"\\xb1\\xae\\xf4)\\xef\\xf5%\\xd4\\x12)%\\x8e\\xdb\\xef\\xc6\\x1b\\x0b&\\xdf\\x99A\\x1d\\xf9\\xcf\\xe9[\\xaer>\\xee\\x0e0ET\\x96\\x82N\\xcc\\xec$\\x86x\\x97\\x112\\xb0\\x1d\\x15\\xc9\\xcf\\xe7KmrP\\x9f29\\x14\\xf4\\'\\x19\\x153\\x06#\\n9\\xa21\\xb47\\x04\\x1c\\xd6\\x84\\x91\\xfd\\xaa\\xdc\\xb1\\x1b\\xca\\xfbm \\xd4W3\\xc6\\xea\\x04i#c\\xfd\\x83\\xfdj|\\xfe\\xf3\\x1c\\xf5\\xa6\\xca\\xe46\\x07&\\x88\\xb0eo*\\xe6H\\xb2\\x00\\x8dq\\x9c\\x9eI\\xfe\\x95E\\xed\\xf6\\xc9j\\xab\\xd5\\xa6\\xf9\\x89\\x19\\xe8\\xa4\\xff\\x00J\\xd6w\\xda\\xa0\\x16\\xc0\\xefY\\xf7r\\xed\\x92\\xd3h\\xdd\\xfb\\xc6s\\x8fe#\\xfa\\x8abH\\xbf\\xb5\\x95S\\xe6\\xc8$\\x9aX\\x80\\x12g\\xd6\\x98$-m\\x1exfS\\xcf\\xa7\\'\\xfc)\\xd0\\x9d\\xce\\xaa:\\xd5t\\x15\\x87\\xdcX&\\xa9\\xfe\\x8e\\xf7\\x0fo\\x0e\\xc62H\\x98\\x05Tu\\xe4\\xf1^I\\xa8iV~\"\\xd7e\\xb5\\xf0\\xdc?e\\xd3\\xadp\\xbfh\\x96Ff\\x98\\x93\\xf7\\xb3\\xd7\\xb7\\x03\\xd3\\xeb]\\xff\\x00\\x8cm\\xf5\\x0b\\xcd\\x1d\\xac\\xacHV\\x9d\\xc2\\xca\\xc5\\xf6\\x81\\x1f|\\xfa\\x8e*\\xa6\\x93\\xa6\\xc3\\xa6\\xda\\xc3m\\x00\\xf9P\\xe5\\xd8\\x7f\\x1bw?\\x9d G\\x1b&\\x8f\\xe2\\xcf\\x0f\\xc2e\\xb5\\xd6\\xcaF\\xa7\\x1f%\\xc3q\\xf8b\\xb4l\\xf5\\x1f\\x89\\x90 e\\xbd\\x92~\\xe3{\\xa3q\\x81\\xf45\\xd6j\\x06\\t \\x10\\xcd\\xb7\\x0c\\xc7\\x82A\\'\\xbd>\\xd6@\\xf0\\xe5!\\x95\\xd8\\x1c\\x0e\\x02\\x0f\\xd6\\x82\\xaesqx\\x9f\\xe2tWI\\x1b\\xdb\\x86V!2\\xc1\\x0f\\'\\x81\\xc85\\xe8R\\x7f\\xc2^\\xb2\\x04\\xfe\\xd5\\xd3\\xb29#\\xc8?\\xcf\\xff\\x00\\xadY\\xda=\\x9d\\xcd\\xe6\\xa2\\xb2\\xc9\\x88\\xa2\\x8b\\xe7r\\x9c\\x93\\x8e\\x80\\x13\\xd3\\x9a<c\\xe2YtXR\\x0b(L\\xda\\x9d\\xe9d\\x82,\\xf28\\xe5\\x8f\\xb0\\xa7a6\\xcc\\x1ds\\xe2\\x7f\\x88\\xb4]^]2\\x0bk=BX\\x94y\\xad\\x14o\\x88\\xd8\\xff\\x00\\x0f\\x1d\\xea\\xb4\\x7f\\x1a\\xb5\\x84;n|0\\xd9\\xdaI\\xe5\\x86\\x7f1Qi\\x97h\\xf1\\xc7c\\x0f\\x87.,\\xa6Y\\x0c\\x93^\\x17\\xca\\xc8ps\\x93\\xb8\\xe4\\x93\\xcdk\\xdco\\x16\\xe1\\\\\\x8c\\xe7\\xd2\\x93\\x1af\\\\\\xff\\x00\\x1cd\\xb8\\x85\\xa0\\x93\\xc3.\\xcc\\xc3\\xee;n\\x07\\xf0\\xc75\\x8fy\\xa9x\\x8f\\xc4\\xf1\\xc7g\\x06\\x89k\\xa4\\xe9\\xacK\\x07\\xda\\xd1\\x90:\\x9f|\\xe7\\xf9\\xd7P\\xab\\x17\\xd9\\xc7\\x99\\xc2\\x86\\x0cN8\\xe3\\x9a\\xb9qz%\\x06\\x14R]9e\\xc0\\x05\\x7fZWAs\\x96\\xd0t-V\\xc2m\\xf7w\\xa9\"\\x85\\xdb\\xf2\\xca\\xcd\\x9f\\xcc\\n\\xe8\\xd4\\\\F\\xa7,\\xbct\\x18<\\xd1\\x1c\\x89!}\\x87v8>\\xd4\\xf9\\xa4 (<\\xe7\\x8aVV)\\\\\\xb9\\xa1i\\xd06\\xbbkp\\xf0G\\xe6+\\xb3\\xb4\\xa0`\\xfd\\xd3\\xfdk\\xd0\\xad\\x17e\\xacj:\\x05\\x18\\xae\\'@\\x85\\x8d\\xe6\\xf78E\\x89\\xce\\x01\\xe4\\x9cc\\xf9\\x1a\\xee`\\x1f\\xb8\\x8f\\xfd\\xd1@\\xc6\\xb4{\\xa7I7\\xb8\\xda\\x0f\\xca\\x0f\\x07\\xebD\\xeeV\\t\\x19~\\xf0RG\\xd7\\x15.*\\x8e\\xb0\\xde^\\x8d|\\xfb\\x82\\xed\\xb7\\x90\\xee\\xf4\\xf9O4\\xc9g\\x91\\xe9Q\\x13\\xa34\\x89 *]\\xb8\\xe8v\\xff\\x00\\xfa\\xf3U.\\x81V\\\\\\xe7\\x18\\xc7J\\xb5\\xa7\\x03\\x0e\\x93\\x01R@;\\x98\\x0fl\\x9cUk\\xa3\\x993\\x82x\\xa8\\x95\\xae42\\x08\\xc3\\x12\\xc8\\xb9\\xc0\\xf9\\x87\\xa8\\xf5\\xaa\\xda\\x9f\\x99\\x12G$.\\x80\\x9c\\x82Xv\\xef\\xc7\\xe7S\\xdb\\xbaF\\xe4\\xe4\\xe4\\xf1Vg\\x8a\\x1b\\x9c|\\x88\\xc4.0{\\xd4\\xb64\\x88\\xad\\xa6\\x8ddH\\xa4\\x95c\\x8c(ffC\\xc6\\x07\\'#\\xa5Z\\x95\\x91\\xf6\\x85\\x99Y\\t8+\\xc8>\\xe2\\xb3\\xed\\'T\\xd4\\x1d\\xa0r\\x93\\xc6>Wf-\\xe5\\x9f\\\\t?J\\xb1\\xb9\\xd2L\\xbb\\xb3\\xb1\\x07\\x92\\x00\\x19\\xcfZ,\\x05\\xfb;\\xd8l\\xec.\\xed\\xa7\\x80H\\xf3g\\xca`9\\x04\\x809\\xe3\\xa0\\xc6j\\x8d\\xcc\\xc69!M\\xbb\\xcc\\x8d\\xb4\\x80pq\\x82\\x7f\\xa5> If\\'4\\x8f\\x08\\x9ax\\x98\\xb3~\\xec6\\x14t$\\xe0\\x7f\\x8d\\x0cGy\\x11m\\xc7\\xa0\\xc5?q\\xf4\\xcdd\\xbd\\xe3\\x81\\x88\\xe5\\xe4\\x8f\\xe1l\\xd4\\x06\\xee\\xebw\\x13\\x1f\\xa6+FJ4\\xb2Y\\xfd=\\xe9\\x92>\\xc1\\xf3\\x1c\\xe4\\xf5\\x15L\\\\2\\xeef\\x94`\\x0f\\x98\\xb6\\x00\\x15\\x08\\xbb.\\t\\x8ft\\xb8\\xe4yHH?\\x8fJ\\x91\\x9aR l? c\\x04\\x1a\\xaa\\xd3B\\xba\\x8d\\xb26\\n\\x88\\xdd\\x89\\x03\\xbeW\\x14\\xf1\\xf6\\xeb\\x85\\x0b\\xe5\\xc7\\x08#\\xfeZ\\x9d\\xc7\\xf2\\x1c~\\xb4\\xd5\\xb22\\xeaH\\x93\\xcc\\xce\\x04,p\\xbf \\xe5\\x87\\xa7\\xd2\\x98\\x89\\xaen\\xe2\\x85\\xd01T\\x1bx,\\xd8\\xebPEx\\x1d\\xff\\x00w\\x1c\\xd2\\x9d\\xbcl\\x1b\\x7fS\\x80\\x7f\\n\\x96h-\\xed\\xe6e\\x8e5\\\\\\x01\\x96\\xeex\\xf5\\xa9m\\x8f\\xef\\x18\\xf1\\x82\\xb5b(_-\\xd4\\xea2\\x91\\xc5\\xc0\\x07q\\xf3\\x0f\\xf4\\xa8c\\xb2\\xf3\\x08\\xf3e\\x99\\xd8\\xf6\\r\\xb4~B\\xaf^\\xb9\\x12`/n\\xb4\\xe4\\xf2\\xd9\\x01\\x0b\\x83N\\xc0@\\xb6\\x96\\xf1\"\\xf9q\"\\x93\\xe8*e\\xb6\\x1eVw\\x80\\x0ex\\xc7Jv\\x068Q\\xc7zu\\xa2\\x99\\xa4\\x8d1\\xf2\\xb7S\\x9e8\\xa1\\x08\\xb3=\\xfd\\x8f\\x85\\xfc:\\xf7\\xd78\\x11\\xa8\\xdf\\'#-\\x83\\x85Q\\xf8\\xff\\x00:\\xe4\\xf4\\x08n\\xaf^\\xe7_\\xd4\\x14\\x8dB\\xf1q\\x1a1\\xcf\\x91\\x1exQ\\xef\\xdc\\xd4w\\xd7\\x03\\xc6\\x9a\\xe8;\\xbf\\xe2G\\xa5\\xc9\\xf2(\\x18\\x173\\x0e\\xff\\x00\\xee\\x8e?\\xc9\\xad\\xee6\\x93\\x1f\\t\\xe9@\\xc8\\xfel(\\xe4\\x11U\\xae\\x98\\x05\\x1b\\x8eO\\xb58J\\xcd8\\xc9\\xc2\\x8e\\xb5\\x05\\xeen3\\x1cXf\\xc7\\xae1I\\x8e\\xc5gwu\\xfd\\xd0S\\xb7\\xa0c\\x80O\\xbf\\x07\\xa5=\\x9fS\\n]R\\x07\\x91\\x97t\\x846\\xd0\\xc4c\\x1f\\xc2\\x7f\\xaf@+\\x95\\xb3}H]8\\x8aV\\xdd\\x18\\xc3|\\xcaFx\\xf7>\\xf5\\xb7a\\x7f\\xad\\x19\\xe0G\\x8f|{\\x82\\xb3\\xf9y\\xef\\xd7#\\xda\\xa11\\xb5\\xa1\\xadl_\\xca>f\\xd5\\x97#xNFp*c\\x12\\x19\\x18>\\x1c\\xf6\\x1e\\x87\\xadV-)\\xbb;[\\xef?<c\\xb0\\xff\\x00\\n\\x90\\xeavp^=\\xb3?\\xef\\xc3\\x02\\x14\\x8e[8\\xe9C\\xb1QF\\xfe\\x89\\x01\\x17WH\\xb20\\x1ff=\\xf2\\x01$\\x0e\\x95\\xddF\\xbbbE\\xcep\\x00\\xcdq\\xda\\x14j$\\xbb\\xf9\\xb26\"\\xf5\\xef\\xbb\\x9f\\xe9]\\x90\\xe9L\\x05\\xac\\x7f\\x15H\"\\xf0\\xa6\\xaa\\xe5\\xb6\\x81l\\xf9>\\xd8\\xad\\x8a\\xe7\\xfcl\\xe1<!\\xa8\\x93\\xc8\\xd8\\xab\\x81\\xdf,\\x06?Z\\x00\\xf2\\xfbk\\xe2-m\\xe3\\n\\xbb|\\x90\\xfby\\xc9\\xcf<~uR{\\xf5i\\xe4W\\x81\\x82\\xe4\\x00\\xd9\\x1d{qS\\xdcj\\x17\\x16\\xbaZ\\x99\\xd6%\\x89UP\\x15L\\x8e\\x9dy\\xe9Yq\\xc5mpN\\xa0\\xc69\\x980\\xc1\\x19*\\xe4z\\x0e\\x99\\x15\\x93\\xdce\\xf7\\x83+\\xd0\\x06<\\xd3!R\\xa4\\xa8\\x06\\xb4\\xa5S\\x1cX\\xe3 \\xf2=+:^r@\\xe9\\xe9@\\x12\\x88\\xd4\\xb6\\xf5]\\xaeF\\x0f\\x1di\\x1c\\xef`\\x1c\\x11\\xc7j\\x867%\\xb8\\'>\\xf5h\\x0f\\x949\\\\\\xb5\\x02\\x1fn\\xeaT\\x868\\xcf\\x1c\\xd2\\xbcj\\xb2\\x02\\xb2\\x90=\\x05<F\\x8d\\x18\\xc9\\xc7za\\x88F\\x85\\xfd:\\x13LV5\\xaeF\\xf0]m\\x04@\\x0f\\x99\\xdd\\xf6\\x9f\\xaf\\x15\\x1cV\\xb7\\x06 f\\x9d\\xcey\\xda\\xb8\\\\\\x8f\\xd4\\xe6\\xac\\x9d\\xcc\\xca%\\x03j\\x9c\\xaa\\x8e\\x7f\\x12{\\xd4\\xa1\\xf2\\x08\\xc19\\x15\\xa3%\\x11\\xd9\\xc1l\\x92\\xbb\\xb4{\\x99G\\x0c\\xdf1\\x07\\xeaj\\xf2\\xba\\xed\\x04\\x02=8\\x15\\x04P\\xfc\\xaeO\\x1e\\xb5f(\\x90\\xc2>~\\x994\\xac\\x04\\x86b\\xc3\\xe4\\x7f\\xc0\\xf6\\xa8-\\xc9:\\x94\\xfb\\xe4\\x07\\x10\\xa8\\x1c\\xff\\x00\\xb4\\x7f\\xc0R\\xa9\\x02C\\x83U\\x9c\\x07\\xbc\\x99\\xc7\\xf7\\x10\\x0f\\xc3?\\xe3M \\'\\xbf\\xb6\\x8e\\xe6W\\xdc\\xed\\x80\\xdd\\x15\\xb0x\\xa7\\xd9\\xa9\\x88*);U\\x00\\x199\\xe9TV\\x06h\\x94\\x91\\x93\\xeb\\xeaj\\xe4$\\xc4[ \\xf3T\\xc42\\xec\\x130!\\x81\\xa7F0\\x08\\x18\\xcf\\xd2\\xa2\\x99\\xc9}\\xe0\\x0cT\\xb10n)\\xdcC\\xd5r\\t\\x0cr+\\x9f\\xf1%\\xbe\\xa3\\xa9YG\\xa6\\xd8\\xb2\\xc5\\x14\\xcd\\x99\\xe7b?v\\x83\\xb0\\xef\\x93\\x9a\\xe9 El\\xa8cU\\xccj\\xc4\\x0cu=h\\x02\\xad\\x85\\xa4Z~\\x9b\\x15\\x94\\x08<\\xa8\\xd4\\x0e\\x07S\\xeb\\xf5\\xa1\\x98\\xee*@C\\xe8j\\xecp\\x94,\\t\\xe3\\x18\\xe6\\xabJ\\xa8\\xf3\\xeduI\\x14\\x1e\\x01PA\\xfc\\xe96Z\\x8bcd\\x80B\\xae\\xcaC\\xca\\x08P\\x98\\xe8O\\xaf\\xe0sT\\xae\\x16[e\\xe6&a\\xb4\\x92S\\x04\\xe4\\xd3\\xb4\\xb9\\xa6\\xf2\\xee\\xe6x\\xa3\\x10\\xcbt\\xed\\x13\\x07,\\xdbG\\xca\\x06\\x0fA\\xc1\\xe8{\\xd5\\xbc\\x92\\x99m\\xdf7\\xa7oj\\x84\\xcb\\xe4g-\\x07\\x86n\\xe4_6i\\xe1T#+\\xb5\\x18g\\'\\xb8&\\xba\\x8d\\x1a\\xc5\\xac\\xf4\\xd1\\n\\xa9b\\x18\\x9c\\x8f\\xaf\\xff\\x00\\xaa\\xae\\xc0\\x86V\\x89W\\xe7,@\\xdb\\xebX\\xda\\x9d\\x97\\x89.5\\xa9\\xe4\\xd25U\\xb5\\xb5\\xb6+\\x1c\\x90\\x14S\\x93\\x8c\\x92\\t\\x07\\x1d@\\xa6\\x92D\\xb4\\xee:H\\x1d\\xe6+\\xb7i\\xde\\xc7>\\xb8&\\xabjqZ,\\x8b,\\xea\\x04\\xa1\\xb2\\xa5\\x8b\\xa3\\xb1\\xce2\\x18\\r\\xa4{Q\\xaeY]Y\\xc6\\xd3\\xdbk\\xf3=\\xc9\\x90\\xa2\\xc6\\xf1$\\xbb\\xcb\\x1e\\xbcch\\xfcj=#\\xc2\\x1a\\xbf\\x8a|\\xe5\\xbd\\xd7\\x1e\\xd6\\xe2\\xce4\\x8c\\xc5m\\x9f)w\\x168\\xeb\\xd7\\x03\\'\\xafQI\\xab\\x8d3\\xba\\xf0\\xe5\\xac\\x90%\\xc3<d\\xf9\\x8d\\x11Vc\\x9e:\\xff\\x00S]o|VD\\x11\\x8d#K\\xb3\\xb1vy<\\x84\\nd\\xc6r\\x14u>\\xe6\\xb5\"\\x95e\\x8d]O\\x0c\\xa1\\x80=pi\\x85\\xc9+\\x90\\xf8\\x93v\\xf6^\\x08\\xbb\\x91#\\xde\\xec\\xf1\\xa0L\\xfd\\xe2X\\x7f\\xfa\\xff\\x00\\n\\xeb\\xcd`\\xf8\\xb3G\\x9b[\\xd1E\\x9c\\x04\\x07\\xf3Q\\xc6}\\x8eh\\x03\\x82\\x8f\\xcb\\xb3\\xba\\x89S\\xcci\\xa11)ff;\\xf7s\\xd38\\xe0q\\xf8WA0\\x16\\xed\\x96\\x8e1\\x94$\\x90\\xb8\\x04\\xf1\\xce+\\x16m;\\xc4R\\xdd\\xc9{\\r\\x95\\xb1\\xb67\\x11\\xcb\\xb1I.Ddq\\xec\\t\\x19<\\xf74\\x9a\\x8c>\\'\\xbc\\x96;\\x994\"`D$\\xf9s\\x00Nq\\x83\\x83\\xd7\\xe8\\rC\\xb8\\x14o\\xb2^L\\r\\xbb\\x8f5\\x92\\x0c\\x8e\\xd2\\xe5@\\x01\\xb0\\x00\\x18\\xad\\xdb\\xb8\\xb5\\x18\\xe3O?\\xc3\\xb7\\xcc\\x18\\x80\\xc66\\x19_\\xc0\\x91YWl4\\xfb\\x91\\x1d\\xe5\\xa5\\xc4\\x06P@V\\x04\\xe0\\x81\\xdf\\xf3\\xa9J\\xec\\xbd\\x11]F\\xd6l\\xfa\\xe2\\xa6\\x86B\\tR~R2\\x08\\x194\\xe7k8#\\x0c\\x92\\xee\\xc8\\xc9\\x0b\\xf3s\\xe9\\xc5G\\x05\\xc0\\xd8N\\xe1\\x86\\x18\\x18\\xebCLZ2T\\xbc\\x8d\\xe2V\\x84y\\x8c\\x0e\\x08#\\x04\\x1fB\\r6\\xea\\xf5\\xc2\\xa4\\x0f\\xe5\\x8d\\xc7\\xa1\\xaa\\x81f\\x93F\\xf3\\xa6\\x91\\xa1\\x92K\\x86\\x0cF\\t\\x03\\x928\\xfc\\xaa\\xbc;D\\xaaZ\\x7f7\\xab\\xee~\\xe38\\xcf>\\xf4j\\x16Gf\\x8f\\xe7>\\xc6\\xf9$\\xfe\\xe3\\x0e\\x7f\\xfa\\xff\\x00\\x859D\\x8aq\\xdf=\\x052Y.\\x1a\"\\xae\\x96\\xf8\\x1c\\xe4\\xca@\\'\\xf2\\xc8\\xa6Y\\xcfv\\x01V\\x81J\\xe7\\xe5m\\xd8\\xc8\\xf5\\xadnd[\\x8c\\xcd\\x86\\xe3\\xafjz\\x896\\xaeG_J`\\x9e~\\x7f\\xd1d\\x03\\xfb\\xc1\\x97\\x1f\\xce\\x9d\\x15\\xc9\\xc2\\xf9\\x96\\xd3\\xa9\\xc7,\\x140\\xfd\\t\\xa2\\xe02V\\x91\\x0f\\xca\\x08\\xfc*\\x18%,\\xf7\\x04\\x91\\xb80\\x07?\\xee\\x8f\\xf1\\xab-x\\x83;\\xe2\\x9c\\x02>\\xf1\\x85\\x88\\xfd\\x05e\\x99\\xa2w\\xb8|\\xb0S\\'\\r\\xb0\\xe0\\xfc\\xa3\\x8e\\x94\\xee\\x06\\x8c\\x12\\x9f-I\\x1d\\x00\\xc0\\xa4\\x9e\\xe8\\x99B\\x8c\\x11\\x9c}j$\\xb9\\xb4\\xda\\x99\\xb8\\x8c\\x0c\\xe3!\\xb8\\xa7\\x03j\\xf2+\\tP\\xf3\\xcb\\x06\\x04g\\xf3\\xa6\"@|\\xc22\\xb8\\xc5H\\x8e\\x15\\x8e\\xec\\xf3\\xc0\\xc0\\xaa\\xcb0YJ\\x87B=sR\\xab\\xb3\\xae\\xfc\\x0c\\x03\\xda\\x8b\\xa0\\xdc\\xd1\\x8fhN\\x06sI$J\\xb1\\xe5\\x06\\x0e3\\xd0\\xd3`\\x95\\xda \\x15F=jh\\xee\\x90\\xdeG\\xa7N\\xbb\\x1a\\xe9H\\xb6\\x94t\\xf3\\x00\\xce\\xd3\\xf5\\x1f\\xca\\x95\\xca\\x8a\\xd4\\xa3\\xce\\xec\\x93\\x83\\xe9Yz\\x9d\\xd9\\xb1\\xb6\\x9a\\xe0);A\\x18\\xed\\xd2\\xad\\xde\\xde=\\x9d\\xe8\\x82h\\x97pFf\\x199\\x04c\\x8a\\xcf\\xbb\\x92MB\\x08\\xd1\\x11V7P\\xcc\\xc4\\x8cg\\xb0\\xfc\\xf1Y9#\\xa6,\\xb7k\\x19\\x8e\\xce\\xde6\\xfe\\x18\\xc2\\xe3\\xbe@\\xe4\\xff\\x00\\x8dJ\\x83%\\x94coNh9\\xf9Ww\\xd3\\x9eI\\x14\\xb1F\\xd3J\\xa9\\x18\\x19\\'\\x00S\\xb8\\xd8\\xddcU\\x1e\\x1f\\xf0\\xfd\\xc6\\xaa75\\xc2\\xaf\\x95j\\x8b\\xfcs6@\\xe9\\xe9\\xc9\\xfc+\\x0b\\xc2\\xb6\\xda\\x92\\xf8r\\xe2Y//\\xde\\xef\\xed\\x8b$\\xa22\\x11\\xdc\\xb2\\x80\\xd9\\'\\xf8T\\xb1>\\xfbiu\\x89[Z\\xf1\\x8cVq!};D^\\xf8\\xc4\\x97\\x04\\xf2\\x7f\\x0f\\xe9\\xef\\\\\\xaf\\x8bl5\\x16\\xfe\\xd1\\xd5\\xa1W\\x86\\xd2\\xd1!G+!\\\\\\xb31\\xc7N\\xa7\\x91\\xcf\\xd2\\x9af\\x12M\\x9d\\x91\\xfbe\\x9f\\xdb.o\\xda;w\\x91pg\\x86s\\xb9{\\x12\\xc9\\x82\\x0f<\\xe0\\x1e\\xf5\\xd4|/\\xbb{\\xbd&\\xf9\\x8d\\xecWdL>e\\x8b\\xcbl\\xed\\xe7p\\xc0\\xe7\\xa5|\\xedo\\xaajM\\x16\\xcf\\xb7N\\xd1\\x86\\xc9Vr\\xdc\\x8f\\xadlX\\xf8\\xaf\\xc4\\x96+\\xe5\\xdbj\\xf7j\\x988\\x0e\\xc1\\x80\\xcfS\\xcf4\\xdc\\x90\\xe3M\\x9fO\\\\N\\xcby\\x0cb<\\x1c\\xe7{t<\\x1e*\\xe8,y*3\\\\\\x07\\x80.\\xaf\\xfcQ\\xe0\\xeb;\\xbdV\\xe1\\xae\\x0c\\x92\\xca\\xa5\\x8er@\\xe3\\xf1\\xfe!^\\x82:\\x0cqL\\x9b\\r\\xdc\\xc7 \\xafj\\x89\\xae\\xd69V7\\x8aQ\\xb8\\x13\\xbc.T`g\\x93S\\xd4rn\\x08\\xc5\\x00,\\x01 z\\x9fJ\\x00\\xc5\\xd3.\\xf6\\xf8L\\xdd$\\xaa\\x8ec\\x96o5\\xc1\\n\\xacY\\x8f>\\xc0\\xff\\x00*\\xe0\\xd7\\xc5~\"\\x97sC\\xe2\\r(\\x92HGa\\xf2\\x1fL\\xf0q\\xd3\\xda\\xbd\\n\\x03ii\\xe1X\\xcd\\xeb\\xc6m\\x16\\xdb7\\x0e\\xe7\\xe5 \\x8f\\x98\\x9fc\\x93X\\x10\\xc7\\xe0\\x07\\x91\\xdb\\xcf\\xd3\\x1d_\\x0c\\x11\\x9dv\\xae;\\x8a\\x04V\\xf0\\xff\\x00\\x8a5\\xfb\\xbdF\\xd6\\x1dB}\\x1eKwR^[Y\\x83g\\x1e\\xc0\\x9e\\x7f*\\xe9<\\xf8d\\xf1Dv\\xea\\xe8\\xcemd\\xf3So\\xfbK\\xb7\\xe9\\xd0\\xfe\\x95SH\\xd0\\xbc%k\\xa8\\x89\\xf4\\x98\\xad~\\xd0\\xa3\\x03\\xc9\\x93x\\x03\\x1fS\\xda\\xb4 \\x89\\x7f\\xe1&\\x98\\xaa\\r\\xf1\\xda/\\x98\\xe3\\xbb3\\x1c~\\x8a\\x7f:\\x00\\xba\\xdam\\x8b6\\xe3g\\x01?\\xee\\x0ej\\xb8\\xf0\\xfe\\x8e&iWN\\xb6Y\\x1b\\xa9T\\x03?\\x85h\\xf6\\xefFp2\\x7f\\x9d\\x031\\x9f\\xc2:\\x13\\xb1a\\xa7D\\x84\\x92N\\xce\\x01\\'\\xdb\\xa5V\\x93\\xc0\\x9e\\x1ev\\xdc\\xb6F/h\\xe5`\\x0f\\xe1\\x9cWIE\\x00yp\\x897\\x07b\\\\\\xe3\\xab\\x1c\\xd5\\x82A\\x18\\x18\\x1fJ\\xa7\\xb2n\\xf2c\\x8e\\x8a)\\xc21\\x8c\\xf9\\x92\\x96\\x1d\\xf3J\\xc6e\\xd0\\xff\\x00\\xbb=\\x0f\\xd6\\x95\\x0e\\x1cs\\xc8\\x15\\n\\xc0\\xeb\\x11a7n\\x8c3J\\x93H\\x84\\x19c\\n\\xa3\\xf8\\x95\\xb7\\x0f\\xaf\\xad0\\'\\x93t\\x9bF\\xe6\\xf7\\xaa\\x96\\xee\\xd1\\xc1$\\x89\\x1b7\\xcf!\\x00w\\xc1=\\xbf\\n\\xbe\\x19d\\x01\\x94\\xe4\\x7fx\\x1e*\\xad\\x8e\\xd6\\xb5\\x0b\\x8ce\\xa4\\xc7\\xe2[\\xff\\x00\\xd7@\\x15l\\x19\\xe5\\x88\\xb8\\x89\\x93\\x07n\\xd6\\x185i BHhT\\x91\\xec*\\xd4q \\xf9A\\xe83\\x9e)\\xde^\\x0b\\x10\\xd9\\x15\\x9b\\x99V(\\xa5\\x8d\\xb2\\xb7\\xfc{G\\xcf_\\x90t\\xa5{;Lm\\x8e\\x0f/\\xfd\\xcc\\xaf\\xf2\\xab\\x8f\\x19\\xdf\\x1a\\xe7qn\\x00\\x1e\\xb5\\x1a\\xed\\x05\\xc6z6\\x0f\\x14\\x98\\xd1I\"\\x80I\\x84\\x96T=0\\x920\\xfe\\xb5\\r\\xed\\xb4\\xb2\\xc4\\x93$\\x92\\x99m\\xa4\\x13\\xc6wr\\x19O\\x1f\\x87o\\xc6\\xae\\xad\\x8c\\x8d/\\x9a\\xa5H\\xceq\\x93\\xebWb\\x89\\xfc\\xbf\\x99N\\xe29\\x04\\xd2\\xb9E\\x8dsN\\x87W\\xb6\\xb4\\xd7meo-\\xe1\\x00\\x80\\x06\\n\\xb6\\x0ey\\xfa\\n\\xe6\\xd9USb\\xc8\\x00\\x1c\\x82\\x14s\\xf5\\xae\\xbb\\xc2L\\xadcy\\xa5H\\x87\\xca\\x85\\xce\\xc0\\xdc\\x8f-\\xf2q\\xf9\\xee\\x1fA\\\\\\xfe\\xad\\xa4\\\\[]\\xc9k\\x14M#u\\x88\\x81\\x9c\\x8f\\xf3\\xc5T\\xa3\\xd5\\x15\\x07\\xdc\\xa2\\x03\\x19\\x06H-\\x8c\\x03\\xb7\\xff\\x00\\xafN\\xd4/\\xdfA\\xf0\\xed\\xe6\\xb1\\x84i\\xd8\\xf96\\x81z\\x99Xc?\\x87_\\xc2\\xa1\\x8a\\xd6\\xefz\\xc1,%.\\xb02\\x98#\\x195\\x93\\xa9\\xdc\\'\\x88<X\\xb6\\x11a\\xf4\\xdd\\x14l\\xc8\\xe8\\xd7\\x00\\xf2}\\xf1\\xfd\\x05JV\\xd4\\xd1\\xbb\\xe8\\'\\x85\\xe2\\xdb\\xa3*4dLd-3\\x93\\xcb\\xb9\\xea\\x7f\\xc0\\xd6\\xee\\xa7i\\x0b\\xf8V\\xde\\xdaT\\x89\\xe3\\xbf\\xd4\\x93\\xcf\\xdf\\x92B\"\\x96\\xc8\\x03\\xfd\\xa5Q\\xdf\\xefT~RG\\x81\\xbc)<\\x81\\x9f\\xd2\\xadkR\\x08?\\xe1\\x1d\\xb5e;\\x9de\\x95_<\\x92H\\xcf\\xcb\\xf9~~\\xd4&\\x13VH\\xe4\\xa7\\xf0\\x96\\x82$\\xb8V\\xb3!\\x86v\\x18\\x98\\xa9\\x04g\\xd3\\x8a\\x0f\\x81t\\x87\\xda\\x15\\xe6E\\xe0\\x16\\xdd\\xf9\\xd6\\xcc\\xa1\\x8f\\x98w\\x0c\\xb0=G?\\xe7\\x15-\\xac\\xf7.\\x1c5\\xaf\\x96#|a\\x98|\\xc3\\xb6)1\\'\\xa1\\xd9\\xf8#N\\x8bJ\\xf0\\xde\\x9fe\\x03\\x16\\x89\\x15\\xca\\xb1=\\xf7s\\xfa\\xff\\x00:\\xea\\xeb\\x07\\xc3\\x89\\xb7N\\xb1#\\x84\\xfb8`\\xa7\\x93\\xc9?\\xfdj\\xde\\xad\\x96\\xc6LJ\\xe2> x\\xee\\xdb\\xc1\\xf0$\\x0f\\x05\\xc4\\x93\\xdc\\xc4\\xc5\\x1a%\\x04/nr}H\\xe9]\\xb1\\xaf\\x17\\xf8\\xc7\\xa3_\\xeb\\x9e#\\xd3\\xed\\xecUX\\xc7o\\xb8\\x82\\xf8\\xee\\xc4\\x9ex\\xc0\\x00S$e\\xb7\\xc7?\\rK\\xa5\\xa6\\x95u\\xa3^yi\\x18\\x85\\xa3}\\xa5\\\\\\x01\\x8e\\xdc\\xf6\\xf4\\xa8\\x13\\xc6\\xdf\\x0c\\'\\x07\\xed\\x1a\\x1d\\xc4.I%LY^\\x7f\\xda\\x07=\\xab\\xcce\\xf0\\xa5\\xed\\xa5\\xacw\\xf2[\\x16\\x13gaL\\xb7\\x18\\xe4\\x90?\\xcf5R\\xe3N\\xbbP\\x03\\xdb\\xcd\\x95\\\\\\xe4\\xc6\\xc4\\x11\\xdb\\x91\\xd2\\x99I\\\\\\xf6M\\x1b\\xc7?\\x0c4}O\\xed\\xb6MukpWn\\xd6\\x8d\\x8a\\x1e\\x9d\\xc6\\x7f_J\\xc8\\xf8\\x87\\xf19\\xdfT\\x82\\xeb\\xc2\\xda\\x98\\x11yad)\\x83\\xb8\\xf2y\\x1e\\xdc\\n\\xf2v\\x82E\\'\\xcd\\x81\\xe3\\xda8%\\x0f?J\\xd3\\xf0\\xde\\x8di\\xadk\\x11Cr$X\\xc2\\xb3\\x96\\x8c\\xed8\\x1f\\xfe\\xba4\\x15\\x8d\\xab_\\x8b~6\\xb5\\':\\xbf\\x9b\\x1b\\x81\\xf2\\xc9\\x12\\xb6\\xdf\\xa1\\xc6\\x7fZ\\xb6\\x9f\\x1b\\xbcg\\x14\\x81D\\xd6\\xb2\\xa0\\x1f7\\x99\\x009\\xfcF\\r6\\xef\\xc1zYb!\\xb8\\xb8\\xda8\\xc9#?\\xca\\xab\\xaf\\x80\\xed\\xa4BV\\xf2_\\xae\\xc1\\x91C\\x92\\x03n\\xdf\\xe3\\xc7\\x89\\xc1\\x05\\xed4\\xf9\\x008\\xda\\xc8\\xdc\\xfe \\x8a\\xbf\\x0f\\xc7\\xfd_\\x9d\\xfa-\\xac\\x8c\\x06p\\x1d\\x80\\xfc\\xeb\\x90o\\x02mp\\x91\\xde\\xb1\\x07\\xa3\\x14\\xc7\\xf5\\xa6\\xc5\\xe0[\\xe8\\xd9\\xf6^\\xdb\\x9d\\xcb\\x80\\x0eri]\\x01\\xec[\\x81\\x1cR\\xa2\\x80y<\\x1e\\xb5\\n\\xe0\\xff\\x00\\x10\\xc1\\xf4\\xa9\\xa3\\\\\\x1cr\\x7f\\x1aw3,\\xa8+\\x03\\x11\\xc8\\x02\\x9a\\xac7\\xe4(\\x00T\\xa5\\xb1nx\\xc7\\x15\\x14S\\x05\\r\\xb8\\xaa\\xf6\\xe4\\xd3\\x10\\xf6B\\x07\\x99\\x12\\xe1\\x8f\\xdeRxo\\xf05_M\\x99g\\xb7\\x88\\x00\\x06S8\\'\\xa6EZ\\x96s\\xe59\\x04\"\\x05$\\xb3\\x0c~UCL\\x89J\"\\xb2+\\x11\\x08\\'p\\xce:\\x0f\\xebR\\xc6\\x8dH\\xd1U\\x88(~\\xed)\\xd8\\xaa20\\rSu\\x8e\\x069\\x8a6\\x18\\xce:\\x0e\\xb44\\x18\\xb6@\\xa9\\xe9\\x8c9\\xc0\\xac\\x9a(\\xb11%K\\xc3\\xb7\\xceL\\xb4[\\xbe\\xee\\xe1\\xd3<\\x8a\\xd3\\xbe\\x8d/t\\xbb}V\\x14\\x08\\xb3\\xc6\\xad\"\\x8f\\xe1$s\\x9f\\xa5s\\xb3\\x07\\x8e\\x19\\x0c^w\\xca\\xa4\\xedI2I\\xe3\\xa6k\\x8d\\xd6<Q\\xe2{=\\x19\\xf3\\x1c\\xb6ZT\\xac\\x164\\x9a=\\xaf!<\\x9d\\xbc\\x8d\\xdc\\xf2q\\xc7Z\\xb8\\xab\\xa1\\x9d\\xf4w\\x96{\\x02\\xc7>\\x00\\x1dOJbj\\x96i:F\\xd7DeK\\x17\\xc7\\xc8\\xb8>\\xb5\\xc1\\xf87\\xc7\\xfa\\x0e\\x93\\x0b\\xa5\\xe5\\xb6\\xf9d\\x00<\\x8c\\x8d\\xce3\\xdb\\'\\xd4\\xfe\\x95\\xd9\\x8f\\x89^\\x17\\x90\\xed1A\\xb1\\x87\\x00\\xe5M%\\x14V\\xa7S\\xe1Y\\xa1\\x92k\\xc5\\x82h\\xa5U\\xda7D\\xe1\\x81<\\xf7\\x15{\\xc4V\\xfa\\x9c\\xbaT\\xb2h\\xf3G\\x16\\xa1\\x10\\xdf\\x11\\x91r\\xaf\\x8eJ\\x9fc\\\\\\xcd\\x97\\x8d<8\\xc0-\\xa8\\x860G*\\x92\\x85\\'\\xfcj\\xe8\\xf1\\x8e\\x97\\xb8/\\x990\\xe9\\xf2\\x89\\x01\\'\\xd2\\xb4\\xb179e\\xf1:[&\\xa3s\\xe2\\xf7\\x82\\x0b\\x9b\\xb8\\xc4vf\\x15r\\xab\\x80x\\xc8\\xe8rs\\xfdj\\x97\\x87t\\xf84\\xad*4\\x12\\x19\\x1ec\\xe7\\xcd+\\x1e\\x19\\x88\\xe4\\xe7\\xf0\\xad-Xx\\x0f\\xc4\\x1b~\\xda^I\\x10\\x92\\nK\\x82\\t\\xeb\\xc6j\\xfcG\\xc2H\\x91\\xaa\\xeaS\\x88\\x8a\\x90\\x88\\xcc8\\xa8\\x94[E\\xc6V(\\xad\\xc5\\x9c\\x80O*\\x9cF\\xe4\\x02\\x0er\\x07z\\xb3\\xae\\xda\\xdb\\x0f\\x13[Lo\\x0c\\xc6;`\\xb0\\xabm\"?\\x98\\xee\\x00\\x8e\\xfd?*\\xc6\\xd5u\\x1d\\x16\\xd6\\xe9\\xec\\xac\\xef\\xa3q\"\\x1d\\x98\\xea\\\\\\xff\\x00\\t\\xfa\\xe6\\xb9\\xdf\\x0fX\\xc3\\xa1\\xea\\xb2$\\xb7\\x82f\\xb8\\x8cJ\\x89+`\\x82\\x18\\x8c\\x01\\x93\\x9f\\xbcMg\\xcbdS\\x9b{\\x9dl\\x88\\x81p@\\nq\\xc8\\x1d\\x8dVf\\xbei\\x83\\xbd\\xdc+\\x00|\\xb2$|\\x95\\xc0\\x1dzv\\xcfA\\xd4\\xd4\\xc6\\x7f1\\x00X\\xdb\\x1e\\xb8\\xa8\\xd9\\xd6\\x15\\xde\\xe7\\xe5\\x00\\xe4\\x11\\xd6\\x95\\xc0\\xf4\\xbd\\x15\\x02Z\\xc0\\x00\\xc0[t\\x03?J\\xd4\\xaa:n\\xd0\\x84/h\\xd3\\xff\\x00A\\x15xr+df\\xc4\\xae\\x17Y\\xdb7\\x8f\\xb2\\xc3\"+\"\\x98\\xfds\\xfa\\xe2\\xbb\\xa3^Y\\xe2\\rE\\xed\\xbe \\xdfH\\x92r\\xb6\\xcb\\x18\\x00gj\\xf1\\xc7\\xe2ri\\x88\\x8akh!7\\x12\\xc3\\x04(\\x18\\xf3\\xb0c\\xfc\\x9a\\xad\\x02\\xaf\\x976Wi+\\xfc=MK{\\xa8$\\xb6\\xeb\\xb1N[\\xadf\\xa5\\xcf\\'=3R\\xdb\\x1ac\\x9e\\xde%b|\\xb4]\\xbd8\\x15\\\\\\xc5\\x12M\\xe6B\\x91\\xa9\\xdb\\xb4\\xfc\\xb8\\xe3\\xf0\\xa9.\\'g\\x91\\x80\\x1c\\x9fAMt\\xca6\\x1c{\\x8a\\x8b\\xb1\\x94YG\\xcc3\\x8c\\x12x\\xfa\\xd5\\xb8T\\xf9k\\xf3d\\xfa\\x06\\x1f\\xa8\\xaa\\xcc1\\x9e*\\xd4r\\xc6\"F\\x1bX\\xaf\\\\\\x0e\\x94\\xc0d\\xb6\\xcc\\xc4\\xed\\x01V\\x96\\xde\\x07\\x8c\\x9e@\\xfdi\\xd1jP\\xcf{\\x1d\\xa8h\\x81x\\xfc\\xcf1\\x8e\\x02\\x8c\\xe3\\x9f\\xc6\\xba\\x0b}\\x06y\\xf4\\xb8\\xa4Al7\\x93\\x99\\x1e]\\xa5\\x8f\\xa0\\xe9H\\x07\\x98\\xa3f\\xe0\\x15>\\xa0\\xe2\\x9c\\xb0\\xc8\\xc0bg\\x1c\\xfbT\\xa1@9\\xc5J\\x89\\xc6GJ\\xda\\xc6#\\x0c\\x04\\xa6\\x1aW\\'\\xd3\\xa5Iij\\x80\\xb1\\x0b\\x93\\xeay56\\xd5-\\xd6\\xa6\\xb6!\\x03\\x10:\\xd2\\x033QR\\xb6\\x97/\\x82J\\xa1#\\xd3\\xa59c\\x16\\xb0eO\\xce\\x00\\x04\\xe7\\xad?PR-\\'#?2\\x11\\xf9\\xf1R\\xdd\\xc5\\xb6\\x03\\xc7R\\x07\\x1f\\x8d\\x17\\x19V7\\xdc\\x19\\x89\\xc9>\\xb5^[\\xf90T6\\x008\\x00\\x01S *\\xa7\\xe5\\xc8\\xed\\xcf4\\xf2\\xeaS\\x18#\\x1e\\xbc\\xd2cEH\\xf5\\xb84\\xe0\\xfa\\x86\\xa1\\x99!\\xb7S#\\xaa\\x81\\x97\\xc08\\x03\\xa7S\\x8a\\xe4\\xdaMC\\xc5\\xfa\\xc0\\xf1\\x16\\xb6\\xb1\\xf9\\n\\x08\\xb2\\xb3#+\\x1a\\xf68\\xf5\\xf7\\xef\\xf9W_$\\x16\\x17v\\xdfg\\xb9\\x8a9c\\x04\\x16W^\\xfdG\\xebNx\\xed\\x0c\\r\\x85\\x8c.\\xd1\\x8c\\x0cT\\xdfK\\x15\\xd4\\xe7\\x7f\\xb1\\xb4\\xeb\\xe9Dri\\xf6\\xa4\\xe3;\\xfc\\xbe\\x7f>\\xb5v\\x1f\\x05\\xf8~@\\xdb\\xac\\x13\\xdc\\t\\\\\\x7fZ\\x9a7\\x89%v\\x0e\\x18\\x8f\\x94*d\\x9f\\xd2\\xac\\xc3=\\xdb\\xc8\"\\x82\\x13\\xbd\\xc8\\x0b\\xbd\\x87>\\xd8\\x19\\xa8\\xb5\\xd9\\xa76\\x87M\\xe0o\\x0b\\xe9\\xbaF\\x9dva\\xb4@\\xb3\\xcf\\xb8o&N\\x00\\xc0\\xe5\\xbd\\xf3V<Yot\\xfaQ\\xb0\\xd0\\xf4\\xdbyo\\xa6!\\x03\\xb2\\xa8\\x16\\xeaO/\\xcf\\xf2\\xa9u\\x9df\\xdb\\xc1~\\x1aI\\'>|\\xe0l\\x86%\\xe1\\xa6\\x94\\xf3\\x81\\xd7\\x03?\\x90\\xaf4K\\rx\\xcau\\x86\\xd6\\xaf\\xa2\\xd5.\\x9b|\\xe9\\x03\\x00\\x8b\\x9e\\x8a\\x01\\xec\\x07\\x1dk[\\xd9\\x10a\\xdc\\xfc:\\xb2\\x89\\xe4\\xb7&\\xf3\\xcc\\x89\\x8a\\xc9\\x9d\\xa4\\xee\\xfa\\xe2\\xaa\\x1f\\x87\\xa3\\xe5\\xdb5\\xd2\\xa9 a\\xd9w\\x0f\\xa68\\xae\\xf6\\xc2\\xda\\xea\\xde\\xcc\\xad\\xcd\\xd4\\x97\\x17\\x0cK\\xbc\\xb2cs\\x92s\\x93\\x8e=\\xbf\\n\\'v\\x11  \\x93\\xb8\\x1c\\x8a\\xc9\\xcd\\x94\\x929\\xdd7\\xc2Z^\\x9d1\\x90\\xc4Zu82>X\\xf3\\xfc\\xabil-!\\x90L-c\\x0f\\xd41\\\\\\x90{b\\xb4\\x14\\xa0f\\x93\\xca\\x03v3\\x9a\\x93k\\x18\\xb7\\xb8\\n9\\xff\\x00 w\\xfaP\\x9b\\x06\\x8a\\xcb!\\x1dI\\x19\\xa7\\xae\\xe6$+\\x8c\\x122\\x18v\\xc8\\xa6\\xda\\xce\\xb7\\xeb\\xe6@\\x01\\x00\\x91\\x8c\\x83\\xc7c\\xc5]\\xb5\\x83\\xf7\\xc8$P\\x01p9\\xe3<\\xd2[\\x8d\\xbd\\x0e\\xfa\\xcf\\x00\\xca\\x14\\x0c\\x06\\x03#\\xe9V\\xaa\\xad\\x98P\\x92\\x91\\x9c\\x19[\\x9f^y\\xfdsV\\xabtf\\xc3\\xady\\x16\\xab%\\xbc\\x9e5\\xd6d,\\xcf1e\\\\\\x0e\\x8b\\x81\\x80?\\x10+\\xd7\\x01\\xe4\\x93\\xeb^@\\x9af\\xab\\xabx\\x8f]\\xbd\\xd3\\xac\\xe3\\x9d\"\\xbdh\\x9c3\\x059\\x07\\xb6H\\xe8\\r&\\x047\\x98\\xfb9\\xdd\\x0c\\x99\\x07\\xa8\\xf4\\xaapC,\\xc8^8\\xc0U#qn\\xd9\\xaa\\xf0\\xea\\x13]\\xad\\xd6\\x03\\xc7\\xe4\\\\\\x18\\xa4I\\x17\\xee\\x95\\xea2\\t\\x1e\\x95<i\\xe6G\"\\xbc\\x05\\x8b\\x0f\\x91\\xf7\\x95\\xd8A\\x07\\x91\\x9ex\\xa8\\xd5\\x8c{\\xda\\xbb\\xb2\\xf9?<\\x8f7\\x94\\x00a\\x8c\\xfa\\x1fJ\\x81\\\\\\xcb\\x19\\x1d\\x08$\\x11\\xdc\\x11N\\xd4E\\x91\\x8dE\\xc4R\\xc9$\\x91\\x98\\xd1\\x15\\x83\\x8e\\x7f\\xbc26\\xf4\\xeb\\x8c\\xd3m\\xc4p|\\x90\\xaf\\xdd\\xf9F\\xee\\xdf\\x8d\\x16\\x19]\\x89\\xe7<U\\xd1\\x14p<{\\xc2\\xe6O\\x97\\x1d3C(y\\xf9\\x8c\\x01\\x9c\\x0f\\xc3\\x83\\xfa\\xd5\\xd1g.\\xd9/\\x1a5\\x96\\xda\\xdc\\x80\\xdb\\\\n\\xc9\\xf5\\x1di\\x01\\x85\\x0b\\xdbZ\\xcb$r\\xc2\\xa8\\xc4\\xe1\\\\\\x8c\\x12\\xb9\\xf5\\x1e\\xe0\\x1a\\xd0\\xbe\\x92_\\x18XM\\xe1Y?\\xd0\\xef-\\x14]\\xd9H\\xa3\"a\\xb7,\\xbf^sN\\xbc67\\x13\\x96\\xb6\\x8d\\xa4\\xb7V#q\\x1c\\x13\\x80H\\xe7\\xae:~\\x15O\\xcct\\xb4\\x83U\\xb0$\\xdd\\xd8\\\\y\\xb1\\xb2\\x8f\\xbf\\xfd\\xe5?U\\xc8\\xc5\\x0b@\\xdc\\xec\\x94q\\xd4S\\xd0\\xe0\\x8c\\xd4\\x92\\xc0\\xb1\\x1c\\x07\\xcej0\\x83 \\x93Z\\xb6d\\x916p\\xfc\\x8cU\\x889BO~\\x82\\xaa}\\xa2\\x04\\x7f\\x99\\x86\\x00\\xf5\\xe4\\xfe\\x152^\\x17P\\xb0[K \\xea\\x19\\x97j\\x81\\xf8\\xe0\\xf6\\xa4\\x81\\x91^\\x90\\xd6\\xe5\\x08!Y\\xd1I=\\x81`*M@\\xa0M\\xaa\\xdc\\xee\\xe7\\xf9\\xff\\x00Z\\xce\\xbe\\xfbl\\xb0*H\\xd1\\xc5\\x19\\x912\\x17/\\x8c09\\x04\\xe3\\xd3\\xb8\\xa2[8\\xe4Ugyf}\\xc4|\\xcd\\xc7A\\xfc#\\x8ahL\\x85\\xef#\\x8e]\\xa6P\\\\\\x9eUy?\\x90\\xa1\\xa5\\x96L\\x88be\\xf7\\x90\\xed\\xcf\\xf5\\x1f\\x95M\\x0c(\\x8a6 \\x1c\\x9e\\x82\\x9c\\xed\\xb0\\xe4.\\r;\\x0c\\xab\\xe4\\xccCy\\x93\\x04\\x04\\xf2\\x11\\x7f\\xa9\\xcd3\\xec\\xd1.r\\x8d1\\xce~v\\xdd\\x9f\\xa0<\\n\\xb7\\xd4\\x03\\xd8\\xd2*\\x0f\\xb4\\x03\\xb8\\x0fZ\\\\\\xa3L\\x8a&c.\\xef&E\\x0b\\xd0zV\\xd6\\x88\\xf0\\xd9Gy\\xacjL\"\\xb4\\xb3\\x05\\x8c\\x8e:\\x9cv\\xf5\\xff\\x00\\x12*\\xacA\\x0c\\xa4n\\xf9O\\xadsz\\xa6\\xa1s\\xe2\\xedHiv\\xfb\\xa2\\xf0\\xf6\\x9e\\xff\\x00\\xbe#\\x93q <\\x82~\\xbcc\\xb7>\\xd5+\\xb9M\\x8c\\x17\\xf7>-\\xf1\\x07\\xfc$\\x17\\xf14vq\\x92\\x9at\\x04\\xfd\\xd5\\xee\\xe7\\xdc\\xff\\x00\\x9e\\x82\\xb6\\x8c\\x84\\xe4\\x12G\\x18\\x1e\\xf5bK;q<E\\x00\\x1bA\\x08\\xbd\\x02\\xf1\\xd8~\\x14\\xe4Q#\\x14P\\x0e\\xde\\t5-\\xdfr\\x91LH|\\xbf\\x98\\xf3\\xec(bA\\\\t>\\xddj\\xfa\\xc0d@\\xc0\\xf6\\xefR\\xcf-\\xa6\\x93\\x12K~Y\\xa4\\x90\\xed\\xb7\\xb6\\x88fY\\x9b\\xd0\\x0e\\xc3\\xde\\x92\\xd4.A\\xa7Z\\x0b\\xb7\\x98J\\xe9\\x0cI\\x80ea\\xf2\\xaf\\xf9\\xe3\\xf3\\xad[m\\x1bI\\xba\\n\\x97S\\xfc\\xaf\\x18dY\\x1fc\\xa9\\xe7\\xa8=+\\x8e\\xd7\\xfcZ\\xdaU\\xdbC:C&\\xb6\\xff\\x00-\\xbe\\x9f\\x06Z+?\\xf6\\x98\\x0f\\xbf&;\\xf4\\xfc:e\\xe8\\x1a\\x06\\xb1\\x0f\\x89\\xec\\xbcQ\\xaaGs<\\x82Gi\\xf7\\x1d\\xc0\\xa6\\xd2\\x00+\\xd3#?J\\xb4\\x91-\\x9e\\x9bg\\xe0\\xad\\n\\xc4\\x94\\xb2\\x96X\\xb0\\xa3\\xe4\\x13n\\x00}\\x0fN\\xf4\\xb3hvq\\\\[\\xb4r\\\\\\\\\\x11:\\x93\\x1ce[\\x1d\\xf2s\\xdb\\x8a\\xf1_\\x12\\xc7\\xe2\\x1b\\xdf\\x11\\xde\\xea\\xda=\\xbd\\xecV^yDU\\x93h\\x1d?\\x84\\x1ey\\xcf\\xb5P\\x83Y\\xf1\\xd6\\x89\\xa9\\xc7\\xa9\\xc5\\x1d\\xec\\x9fg\\x04\\xc8\\xb2\\x13\\xb4\\x8cte\\x18\\xe3\\xbd?t5>\\x99\\xb6\\\\\\xc7\\xb9\\x0e\\x03\\x12Fy\\xefS\\x90\\xf8\\xc8a\\xf9W\\xcfv\\x7f\\x1e5\\xcc\\x05}:\\xcc\\x05N\\x00$)#\\xf5\\xfdkQ~>\\xdc\\xed\\x8c>\\x8b\\x19p2\\xe1e \\x03\\x93\\xed\\xe9\\x8a`{q\\x12\\xe0\\xe0\\xae~\\x95WLtk\\'\\x95!\\x89\\x1c\\xb3\\x17X\\x889o|w\\xaf$O\\xda\\x06\\x0c2\\xcd\\xa0\\xca\\x8d\\xd1]&\\x0c?\"\\x06+\\xcac\\xf1\\x06\\xa7mq4\\xdav\\xa7yg\\x1bL\\xd2\\xc6\\xb1\\xc8P\\xe4\\xf58\\x1e\\xf9\\xa6\\x07\\xa3\\xe9 6\\x91\\xaa\\xbba\\x9eK\\xb6\\'\\x1c\\xe4\\x96\\xeb\\x9e\\xf9?\\xca\\xa4\\x8e\\xd2\\x0b\\x84\\xf2\\xe6\\x85\\x1f<\\xe0\\xe7\\xa8\\xf6\\xac\\x9f\\x0f\\xbd\\xc4~\\x1a\\x87u\\xcf\\x98\\xf3Hdh\\xdd2q\\xc7\\x7f\\xce\\xb5\\xe0\\xb8P\\x0e\\xef\\x94\\x0c\\x8a\\xcaO]\\x06\\x84\\x9d\\xa3\\x8d\\x8e\\xd4C!8=\\x89\\xc7Ni\\xc4\\x18\\xd4\\r\\x80\\xe7\\xd7\\xfcE0#\\xcdp9b\\xa0\\xe0\\x03\\xd3=\\xbfJUF\\x91\\x89\\x0b\\x90\\xa3<\\x1a\\x10\\xd8\\xe8\\x19\\xa4\\x92Gd\\xdas\\xc0\\xdd\\x9c\\n\\xbe\\xf7vH\\xc1.$+,3a\\xa27\\r\\x12J\\x98\\xce[\\x00\\x82\\x07\\xbdR\\x8d\\x84K\\x97l{\\x93\\xc6sOi\\x84\\xccB\\x81&\\xec\\x86\\xe3\\x8c\\x1fz\\x04/\\x98\\xf7l\\x05\\xb5\\xa5\\x93F\\x1d\\x84c\\xcciC\\x8c\\xe4eA\\x18\\x00w\\x1dj\\xe5\\xa4 C\\x1c\\x0c\\xd1\\x8e\\x15\\x8aD\\xb8Q\\xc7\\xa7_\\xce\\xa9>\\x9c\\x93\\x92\\xf2\\xa2\\x0c(S\\xb0c t\\xe6\\xb6m\"XV4X\\xc6\\xd2\\xb8\\xc8\\x1dx\\xa1\\xb1\\xc5\\x12\\x01\\xa8<\\xc57\\xa2F\\x17\\x9f0\\xef \\xf5\\x03\\x803\\xf9\\xd3\\x96\\xd4\\x9934\\xd2I\\xed\\x9d\\xbf\\xca\\xad7\\xee\\xd4*\\xa8\\xc2\\x8a\\xac\\xdb\\x8b\\xe7={U32\\xdd\\xaa\\xc2\\x8c\\xfe\\\\h\\x9c\\xf3\\x81W\\xd4\\xaf\\x97\\x80F\\x00\\xac\\xdb|\\x90\\xd9\\xab\\x83\\x02\\x1e\\xbc\\xe2\\x92\\x06R\\xba($\\x83\\xd0\\xcb\\xce{\\x9c\\x13Q+\\xe5K\\xab`\\xeec\\xfc\\xaa\\xbe\\xab)Q\\x00\\x00\\xe3\\x7f\\x1f\\\\\\x1ejkh\\xf1h\\x85\\x979\\x04\\xfe\\xa6\\xa90ht$\\x85\\xe3\\xa7&\\x9b!&<\\xd4\\x88\\xa0E\\xbb\\xa0\\xc61H\\x84m\\x03\\x1d\\xea\\x90\\x88H\\xccj\\x0eI\\xa6\\xc4\\xbem\\xce1\\xcdX\\xda7\\x8e8\\xa7\"~\\xfc2u\\xc5\\x0f`Do\\x18\"D1\\xe5\\x08\\xc1<\\xff\\x00J\\x8e8 \\x8a \\x90[,h2\\x00Q\\x80*\\xea\\xb4\\xa0\\xc8\\xe5\\x17\\xa7L\\xd3\\x15\\xd8\\xc6\\x14\\xa8Pq\\x8f\\x9b5\\x9d\\xd9dB<\\x91\\xb9\\xceG<\\x9e\\x95\\x15\\xd6\\xa3\\x1e\\x9d\\x16\\x16Kf\\x9eWT\\x8e\\'b\\xad\\x92p9\\xe9\\xfav\\xab\\x8c\\xc0\\x12\\x1d\\x008\\xe3\\xde\\xb3\\xc5\\xacw\\xba\\xdd\\x8d\\xbb\\xa0;\\xe7\\x0e\\xf9\\x1d\\x94g\\xf9\\xe2\\xa6\\xe6\\x8a\\r\\xa1|K\\xe3\\x0b_\\x08\\xbczt1&\\xa3\\xaa\\xb4A\\x95\\xd1q\\x1a\\xe4\\x90\\x0e9\\xc9\\xe2\\xb1\\xef\\xee\\xf5=2\\xd2\\xc9b\\xb7i<c\\xaa#K$\\xd2\\r\\xdfg\\x84\\x93\\x8d\\xbd\\x94\\xe0\\x0f\\xcb\\xe9S\\xe8:u\\x96\\xa3\\xe2mO\\xc4\\xf7\\xed\\x88\\xd2\\xe6I\\x12F\\xf9UQ\\t\\x03\\x04\\x9cs\\x8f\\xc8T\\x1aE\\xd4\\xfa\\xc6\\xa5y\\xe2\\x1b\\x90\\xd1\\xdc\\\\\\xbe\\xd8@~b\\x88\\x1c\\x05\\x1f\\x96j\\x9bI\\x02\\x83l\\xbb\\xa6X\\xd9xK@\\x9a\\xc2}R+o\\x11\\\\fT\\x9e\\xe9|\\xd0H\\x00c$\\x1c\\x03X7\\xfao\\xc4y&\\x06\\xf3P\\xdf\\x0c\\x88J\\xc9\\x0c\\xff\\x00\\xbb\\xc7C\\x829\\xfc\\r\\\\\\xd6\\xb4Ko\\x13\\\\\\x97\\xd4\\xdaw\\x96%\\xd8\\x8e$+\\x81\\x9e\\x9e\\xf5\\x8fgk\\xe2\\x9f\\x06\\xdeG6\\x95\\xaa\\xad\\xcd\\xa1q\\x9bYY\\xdf+\\xfe\\xe7q\\xcd8\\xbb\\xa188\\x9d\\'\\x85\\xf4\\x97\\xd1,\\x99\\x1af\\x9av\\xc9\\x94\\x96b\\x01\\xeeq\\xd2\\xa6\\xd4P\\xdd-\\xc4\\x04\\x84\\xfb\\\\M\\x1e\\xef\\xee\\x921\\x9a\\xa7\\xa7\\xfcP\\xd1%\\x17skv3\\xdb]\\x99?wm\\x0cd\\x07\\x1e\\xb9=*=+S\\x8bS\\xd1\\xa1\\xbb\\x86)\\x15C\\x90\\xbei\\xe7\\xe58\\x1f^?Z\\x86\\xac7$\\xd5\\xacq-\\xe0)\\xa7\\x91\\xd9/\\x04J\\xaec\\x02Hp\\x18z\\x8c\\x1e\\x95^_\\x02\\xea\\x11K\"\\x89`e\\x8dC\\x16m\\xc06O@@\\xe4\\xd7\\xa4\\xcb.\\xf4ul\\x8fB\\xdd\\xea\\x08#\\x12\\xba\\xaa\\x9c\\x92H<\\xfbSRdX\\xf3\\x9f\\xf8A5y\\x19\\xb6}\\x98\\xe0\\xf3\\xb9\\xfb{WX\\x9e\\x1a\\xb1\\xb2\\xd1\\xaca\\xbc\\xb6\\x82[\\x84\\x8f\\xf7\\x8c{\\x13\\xef\\xf55\\xa7;\\\\\\xc2\\x15`\\n\\x98l\\xb9o\\xe2^\\xf8\\xf7\\xa5\\xbc\\x88K\\x1e\\xd9X\\xba\\x0ex\\'\\x1ct\\xfdh\\xe7v\\xd0v\\x08-\\x15\\x9e\\xde\\xc6)\\x14!\\xe2(V.W\\xea\\xde\\x84\\xe0s\\xebS\\\\C$\\n\\xd1\\xdeZ\\x86g\\x8dO\\xee\\x98\\r\\x9dy#\\xf2\\xe9Kd\\xc2=R\\x01$\\xf2\\x88\\xa3\\xe4\\xa2\\x90\\x018\\xe0\\x93\\xd6\\xb5\\x1e;9\\xe4\\xb8\\x9e\\xea\\xe7\\xf7\\n\\x99\\x0e[  \\xcf\\x7f\\xc0\\xd1\\xba\\x130\\xe0E\\x8e\\x06d$+\\x12G<\\xf1\\x81L*L\\xa8VW\\x19\\xea\\x01\\xe0\\xd6\\x9e\\xa9o\\x16\\x9f$1[\\xb6\\xe5u.A\\xfe\\x10q\\x8a\\xcb\\xc9\\xf3@\\xf4\\x19\\xa9\\x19lZE+E\\xe6\\x00\\xd8=\\r^1\\xa8F\\xda@\\x03\\xa0\\x03\\x14\\xdd>\\xc6\\xe2\\xf2T6\\xf1\\x17+\\x8e\\x9c\\xe3\\x8e\\xf5\\xba<?\"\\xaf\\xfaD\\xf0\\xdb\\xa9\\xe7\\xe6l\\xb6)\\xa8\\xb6+\\x98\\xf0\\xd9\\xcf-\\x8d\\xc5\\xea\\x80-\\xe0?;3c\\x15=\\x8cR5\\xf7\\xd9\\xca\\x9c\\x95\\x1c\\x10NI\\xc7>\\x9e\\xa2\\xb7c\\x87E\\xb2\\x81\\xad\\xee%\\x92\\xe26`\\xed\\x1e>RGC\\x8e\\xfd*U\\xf1n\\x91m6\\xcb\\x7f\\xb3!9\\x18i\\x009\\xff\\x00=\\xaa\\xd4;\\x8b\\x98\\xcd\\x98\\x101\\xb8\\x1f\\xadRf99\\xe9\\x8a\\xb13\\x1d\\xb9\\xcdU8%\\xb3\\xe9HH\\xb7k\\x83\\x1f\\'\\x19j\\xbeq\\xb4zb\\xa8X\\xa00\\x12NN\\xe3W]O\\x96=q@=\\xcc\\xbb\\xc4\\xc5\\xd4\\x0b\\xc3\\x02\\x18\\xf2:c\\x1f\\xe3V\\xc9\\xdb\\x12\\xaa\\xe0aj\\x06\\x8fv\\xa1\\x11r2\\xb1\\xb7\\x1e\\x99+W\\xbe\\xcc\\xad\\xce\\xe1\\x82\\xa0\\x00{p)\\xad\\x01\\xeaP\\x91\\xd8G\\x80\\xa34\\xc8\\xc4\\xac\\xbc!$\\x0eqW\\r\\x99\\xc0\\x02N\\xbe\\xd4\\xf8\\xe0xT\\x80\\xea\\xd4s\\x05\\x88b\\x8d\\xe4e\\x8d\\x13s\\x1fV\\x03\\x1f\\x9d[\\x96\\xc2\\xe6\\xd5\\x91\\xa6\\x89\\x95[\\xf8\\x97\\x90?\\x11U\\xa7\\xb4\\x96h\\xb6\\t\\xde-\\xddY\\x00\\xcf\\xea+\\x0e;\\xff\\x00\\x16\\xf8V\\xe0\\xcd\\r\\xd1\\xd5t\\xe0\\xdf4\\x0e\\xa0:.y\\xc6?\\xcf\\xb5\\x1c\\xd7\\xd0\\x127\\xdbj+\\xe78>\\xf5\\x18Df\\x1b\\xbe\\xeflv\\xad\\xad\\x17Y\\xf0\\xf7\\x8b\\xe1f\\xb0\\x95\\x92\\xe0\\x0c\\xc9\\tR\\x8e\\x87\\xdc\\x11\\xcf\\xd4Q}\\xa0\\xdc\\xc4\\xb9\\xb6A7\\xb0 \\x1c~5-2\\xd5\\x8c\\x16,e\\xc99\\x18\\xe3\\xda\\xab\\xda/\\xd9e\\xd5\\xb5\\xc7\\x8c\\xff\\x00\\xa2Y\\xb4q|\\xb8\\xcb\\x1ex\\xfc\\xaa\\xfe\\xact\\xad\\x13E{\\xbdJ\\xf3\\xca\\xb9\\xd8Z\\x1b~\\x8e\\xc7\\xb0\\xdb\\xd4\\x9e\\x9f\\x9dQ\\xd6\\x1a\\x0b\\xcf\\x04\\xdcEo\\xaaGk\\'\\x9a\\x9fk\\x8aF\\x00\\xa8\\xc8l(\\xc6s\\xb7\\xa7\\xad%\\x16\\x99\\xa4\\xa4\\xad\\xa1\\xcdj~\"O\\rxM|=\\xa8iF\\xe6\\x0b\\xbba\\xe5\\xc8\\xad\\xb4,\\x87\\xef\\xe4\\xe7\\xb7\\x04z\\xe4\\xf6\\xad\\x8d0yV\\x96\\xd0\\x0btHL\\n\\xf9^\\n\\xb7\\xf7q]\\x06\\x9f\\xe0\\xa5\\xbdKY5 \\x86\\x08X\\xbcJW-\\x8cpy\\xe8G\\xad`\\xf8\\x96\\xff\\x00O\\x87\\\\]\\x1bDH\\xe4\\xc2o\\xbcrKy@2\\x9c\\x83\\xd8\\x90\\x08\\xc0\\xfe\\xf6i\\xb5u\\xa9\\nMl%\\xed\\xe1X\\x8c1D\\\\0)\\xbd\\x13p\\x0czn\\xf6\\xed\\xf8\\x8c\\xf1T\\xec\\xec\\xa5\\x8e\\xe9\\xee\\xaeK\\xb5\\xcc\\x8aH\\x0e\\x01s\\xeb\\xb8\\x8e\\x00\\xe9\\xc0\\xe0~5\\xa1\\x12c\\x98\\xdc\\x18\\xdb\\x01\\xb8\\xe0\\xfb\\x81VQp\\xfc\\xbe\\xe3\\x8eI\\xeajS)G[\\x94.\\xb4[]JH\\xe5\\xbb\\xb5I\\x1a,\\xec\\xdc3\\xf2\\xfaR\\x9b{KtX\\xd1\\x0e\\xd3\\x90\\x15F\\xd0\\x0fs\\xc7\\x7f\\xadh\\xab>\\n \\x1c\\xe7\\x9fJ\\xad(bB\\xb3`dt=h\\xdcm#0\\xda\\x89\\xdc)?t\\xe3\\x9e\\xc2\\x9f\\x04Q\\xc5zS\\x1d\\xb2?\\x97\\xf3\\xa8.n%\\x86\\xe9\\xb7\\x03\\x82q\\x81\\xc6j\\x95\\xdd\\xdc\\xe8\\xc92s\\xb3\\xe4 \\xfb\\xff\\x00\\x91A\\x06\\xbb\\xc4\\xb2\\x1d\\xbc\\x80\\x0eFy\\xac\\xdb\\xc2\\x91;\\xc7\\x87\\x0c@\\xe9\\xcfz\\xbbi#M\\x16\\xf2\\xc35Z\\xf1\\x1eY\\x14!\\xc1\\xc8\\xc9\\xa9\\xb8\\xcc\\xeb\\xe6\\x9bky\\x7f\\xebs\\xf2\\xfa\\xfaT\\xbfi\\x9e\\xdfI\\x8a\\xc0)/u\\x85\\x94\\x1f\\x99<\\xb2y\\xce\\x0f\\xa6j\\xcc\\x900\\x90\\xber\\xdd3U\\xcc\\xcb5\\xcc6\\xea\\xc5\\x02\\xb9$v$/\\xf8\\x7f*\\xd1\\x10\\\\\\x96K\\x99\\xf3=\\xdc\\xfek\\x9f\\xba\\x120\\xa1\\x14\\xf3\\xb7\\xdf\\x1e\\xf5]\\x017\\x18\\x03<pM\\\\a\\x88\\xfe\\xef<w\\xfa\\xd4p\\xe4\\\\\\x9f\\xa7\\x14\\x98\\x15\\xef\\x13\\xc4\\xb2\\xcf\\xb3I\\xbe[;v\\xc0pz\\xb1\\xfc\\xaa\\x1f\\xf8E\\xb5i`\\x0f\\x7f\\xe2;\\xb7l\\x80Dd\\xa8#\\xd3\\xadt0\\x853\\xaf\\x19\\xc0\\xe3=\\xb8\\xa9\\xe5f\\xf2\\xd5J\\x93\\x96\\xeai\\xa90\\xb29h\\xbc\\x15`]>\\xd5w\\x7fr\\x07\\xdc\\x0f/CZ+\\xe0\\xaf\\x0e\\xc5l\\xf1\\x8bR]\\xf3\\x89K6\\xe0}\\x8ek^\\x1c\\xb0PF9\\xa9e\\x04\\x90\\x8a\\t9\\xc7\\x14\\xae\\xcaI\\x12L\\xc3\\x85\\xe6\\xab\\xbf\\x0c\\xd8n\\xb54\\xc7-\\x9cb\\xa0+\\xb8\\x93\\x8c\\xd5\\x10\\x8b\\xf6p3[!G\\xc0$\\xd6\\x93\\x020\\rW\\xb2\\x8f\\x16Q\\xe0\\xe0\\xf2q\\xf8\\xd4\\xceI\\xe82i\\xecI\\x9f1S\\xa8\\xba\\x906\\xf9@\\xe4{\\x93\\xfe\\x06\\xa6\\x91\\x94\\x10Frp8\\x15\\\\\\x82u\\t\\xb7\\xfc\\xbf\\xbb@>\\xbf5_t\\xdb\\xceG\\r\\xe9\\xefI\\x8d\\rwR\\xc1T\\x1e\\x9dqQ\\x02\\x14\\xbb3\\x9e\\xb8\\x15,\\x93yn\\xcc@<t\\xa6\\x89w\\xc5\\xb8\\'z\\x82\\xac\\r.\\ns\\x90\\xc7\\x1dhX\\xd5\\xa5q\\x92G^y\\xa7\\xb9o92\\x9cz\\xd2\\xa1\\x19\\x7f\\x97\\x90})\\x81\\x87\\xa9\\xf8^\\xda\\xfae\\xbc\\xb4v\\xb2\\xbeB\\x08\\x9e\\x0f\\x90\\xb1\\xff\\x00k\\x1d\\x7f\\xfa\\xd5\\xd2\\xf8?[\\xb9\\xde\\xda.\\xb5x\\xb3j\\x91\\x82\\xe9\\'A2z\\x8e\\x07#\\xb8\\xfaU;\\x89\\x16+i&\\xfb+\\xca\\xca2\\x11\\x17\\xe6c\\xedV\\xb4\\x9d\\x06]]\\xad5-J\\xd8\\xd9\\x98\\x19$\\xb7U;fR2p\\xc7\\xb0\\xe4\\x8cw\\x1dj\\xa2;\\x9dM\\xd6\\x9fgzP\\xdd\\xdaA9C\\x942F\\x18\\xa9\\xf5\\x19\\xe8k\\x9e\\xbd\\xf0\\xe7\\x864k\\xb9\\xf5\\xeb\\xbbx\\xd5\\xfe\\xf3\\xb4\\x8evp8\\xe0\\x9cp\\x05k]j\\xf1\\xc79\\xb5\\xb6&\\xe2\\xef\\x9f\\xdd\\xa7\\xf0\\xfb\\xb1\\xec+\\x0b\\xc5~\\x1d\\xfe\\xd6\\xf0\\xe4\\xd1\\xdf\\x17\\x9e\\xe6I#\\n\\x14\\x90\\x13.2\\x17\\x1e\\xdf\\xe4U\\x92p:\\xff\\x00\\xc4mc\\xc5s\\xcb\\xa5xf\\x16\\x82\\xd4\\x92\\xaft\\xc3\\x1cz\\n\\xb1\\xa0\\xe8\\x91\\xe9\\x1a[\\xc4\\\\K<\\xa44\\xf2\\xb7%\\x8f\\xbf\\xf8V\\xea\\xf8~-\\x0f\\xcb\\xb6\\xda\\x911\\x88yh\\x84t\\xef\\xc5E,\\x126[\\xcc\\xc0>\\x82\\xb3\\x93\\xe8Z` \\xf9Tq\\xd3\\xa0\\x15a!\\x11\\xbf1\\xa9\\x00S\"\\xb7t\\x9c\\r\\xc0\\x8cu\\xabj\\xae\\xe7n\\x07\\x1d\\xea\\x07\\xcc\\xd9T\\xaa\\xb2\\x12HR=N+*#\\xe5\\xdd\\x11=\\xcclw|\\xa0\\xb7j\\xda\\x9a\\xdc\\xad\\xa4\\xa5\\x98\\x9c\\xa9\\xac\\xd94kv0\\xcec\\x02P\\x83\\xe6\\x06\\x9a%\\xb3/V\\x8b\\xcc*\\xe8\\xdb\\x82\\x9e6\\xf5\\x15\\x12\\xdb\\x0b\\xbbfD\\x0e\\xa7o<s\\x9a\\xd5\\x9e\\xcc$\\x18\\x19$\\x83\\x8c\\xf6\\xa8-$\\x88\\xc4\\xc8\\xe4d\\xaf\\xe5\\xcd\\x0c\\x11R\\xc6\\xc2X\\xedU\\x81\\x90\\xa9\\xeb\\xb8\\xf4\\xa7H\\xa69pw\\x0e@\\xf6\\xab\\x11H\\xc8\\xd2\\xc2\\x1c\\x9d\\xad\\xc0\\x07\\xb1\\xf5\\xfcsL\\xb8F\\x96xeg\\xf9Fp\\t\\xc6i\\x0e\\xe3Y\\t\\\\\\xf3\\x9c\\xd2\\xa2(\\x8bpE\\r\\x8c\\x06\\xc7Jp\\x8f\\x08\\x03d\\xf7\\xe0\\xd3\\xd51\\x06\\t\\xe1\\xbaUt$\\x86d$0\\x07\\xa0\\x1cT\\x11\\x8f\\xdfg8 w\\xabS\\xa9\\x10\\xeff\\xe5\\xaa;x\\xf7\\x12\\xd9\\xa6\\xd0\"\\xe4$$\\xaa\\xcc26\\xd6\\x83\\xb2<\\x11\\xe1O\\\\\\xd5\\x08\\xb6\\xa1\\x05\\xcf\\xf0\\xfaT\\xfen\\xfd\\xb8\\x0cq\\xc0\\n3\\x9a\\x941\\xe4\\xaa\\xb2pq\\xde\\x98o\\x85\\xa3,\\xee\\x85\\x948\\xf9@\\xed\\x9a\\xda\\xb7\\xf0\\xb6\\xa1s\\x834\\x91\\xdbG\\x8f\\xe2;\\x9f\\xeb\\x81\\xc0\\xfc\\xea\\xb7\\x8a\\xb4k\\x1b-2\\xda\\xd6;\\x97k\\xa9\\xe5T\\x8eVa\\xc1\\xecH\\x1e\\xf4\\xdc^\\xe5\\xd3\\xb3\\x9aOb\\x9c\\xce7s\\x8eM4\\x0c\\x8c\\x8284\\xe9\"L\\x923\\x91\\xcdB\\tPA\\xf6\\xaa27`R\\xb6\\xd1\\x0c\\xf4\\x14\\xa5\\x86N\\x074(cm\\x1f\\x18\\xca\\x8f\\xe5Q\\x00r\\xd8\\xe3\\xebM\\x92S\\xc8\\x92\\xeefa\\x80\\x19G_`\\x7f\\xadY\\x9eLF\\xdb\\x1c\\x97/\\xc5A\\x1cN\\xd3]\\xc83\\x8f;\\x8e{\\x05_\\xeb\\x9at\\x8a\\xc6vP:\\x92h\\xb5\\xc7q\\xf1\\x96\\x95$2?C\\xf4\\xa9\\xe2\\x871`?\\x04\\xd6]\\xcaL\\xd2\\x84L\\x85\\xef\\xeekJ\\x18\\x1b\\xc9@\\xd1\\x9c\\xf7\\xa8j\\xc5&K\\x1bi\\xcfq\\x15\\xbd\\xc6\\xa1\\x15\\xbd\\xcc\\x9fr9\\x08\\xe4{sW\\xa4\\xd0\\xaeaVt+ \\'\\xf8Oj\\xe5\\xb5\\xed\\x13I\\xd4-\\x98\\xdd\\xdbm\\x95G\\xc98%H?^\\xf5\\x99\\xe1\\xfb\\xfd_^\\xbd\\xb6\\xf0\\xa3jW\\x028\\x15\\x9a\\xeaGpI\\x8f?w=s\\x82\\x06\\x0fL\\xf3\\x9cb\\x9cl\\xc1\\x9e\\x85\\x05\\xc6\\x91\\xa4X\\xbd\\xe5\\xf5\\xdc*\\xa8pdw\\xf9A\\x1d\\x87\\xbdp\\xba\\xe7\\xc4}O\\xc4\\x17\\'M\\xf0\\xa5\\xab\\x08s\\xb6k\\xc7\\xe3\\x00\\xfaz}O\\xe4k\\x13R\\xf0\\x83\\xeaZ\\xfd\\xd0\\xba\\xbf\\x95\\xb4\\xf8e1\\xda\\xdbF\\xf9\\x01\\x14\\xed\\x19\\xec:t\\x03\\x9fj\\xea\\xb4\\xab(4\\xc8D\\x16\\x88\\x91F\\x9d\\x14/\\xf3\\xa6\\xe5m\\x10/2\\xb7\\x84l\\xaf<)|/n\\xee\\xa7\\xb9\\x8e\\xf2A\\x1d\\xdb;\\x16\\x0b\\x93\\x85q\\xe9\\x868\\xfa\\x13\\xd3\\x02\\xbb\\xdf\\x15I\\xa9G\\xe1\\xe9\\xdbJ\\x9d \\xbc\\xdc\\x81$u\\xdc\\x00,3\\xc7\\xb8\\xc8\\xfck\\x97\\x9er\\xf6\\xf2C(C\\x14\\x8aA\\x18\\xc7\\x06\\xba=Ba/\\x87-\\xa5\\xdd\\x82\\xed\\x19\\xfa\\x9c\\xff\\x00\\x93N-\\xb4\\x07\\x1ba\\xa4]\\xa5\\xec\\xba\\x8e\\xadw-\\xee\\xa0\\xe8\\x17\\x7f\\xddH\\xc1?uW\\xa68\\x15\\xa6\\xa9\\x18\\x84n$\\x1fLS\\xe4\\x96u\\r\\x9d\\x8eG\\x1dqP\\xc9r\\xe1A(6\\x8fz\\x8b6\\xc2\\xe3\\xf6\\xa1q\\x96\\xc7\\x1dI\\xa16!lK\\xdf\\xd6\\xa2\\x17[\\xdb\\xfdY\\x19\\xf5\\xf4\\xa8.e\\x12\\xa9T\\x1bpy4X\\x11n}\\xa6\\xcc\\x92\\xc4\\x02*\\xbe\\xa7*\\xc0\\xd1\\x0eX\\x11\\xd3\\x19\\xa5\\xb9\\x9a),\\xfc\\xa5\\x1f6\\x009\\x14\\xdd\\xf1JK\\x03\\x80\\xbe\\xa2\\x80)]/\\x9ff\\xc8\\x8c\\xc0\\xa9\\xcf\\xcak\\x15bh\\x1d\\xbc\\xc3\\xb4pNFx\\xff\\x009\\xae\\x84\\xa2\\x8b\\x86\\nr\\x08\\xea:VM\\xfal$\\x96\\xfb\\xdf!\\x1dz\\xf44\\x98\\xd0\\xd7\\x92/\\xb7\\xa0RJ\\xcc0\\xc4\\xf4\\xcfQ\\xfc\\x8f\\xe7L%\\xfe\\xd2\\xac\\xcb\\x14\\x8b\\x9f\\x940\\xe4u\\xe6\\xa5\\x94n\\xb3\\x18}\\xcc\\x9f8\\x03\\x82H9\\x1f\\xc8Ud2<\\xab*\\xcd\\xb9\\x183\\x0c\\x81\\x81\\x93\\xf4\\xa4QiF\\xe8\\xd7\\n\\x02\\xe2\\xae\\xc1n\\xaa\\xd1y\\xa3r\\x91\\xf7sT\\x90\\xb6\\xecmS\\x81Z`\\x17\\x8e\\x12\\x13\\x04\\x0e\\xb9\\xf6\\xab \\x8aX\\xad\\x9e\\x1c\\x18\\xd8\\x01\\x9e\\xff\\x00\\xfdz\\xa6\\xb1A\\xb9v\\x97\\x0b\\x9c\\n\\xd3\\x91~W\\x0c\\xbd\\xbe\\xbd\\xaa6\\x81V\\xda7\\xd9\\x82\\r+\\x8d [H\\x19\\x17t\\xe5[\\x1d\\x1a\\x9f-\\xab\\xc1e-\\xc5\\xb4\\xbb\\xe6\\x8d\\x19\\x92<\\x0c\\xb3\\x01\\xc0\\x1fZ\\x9a\\x18\\xc0\\xe1\\xc1\"\\xaf\\x18\\xc7\\x95\\xf2\\x8a\\x94\\xc6\\xd1\\xe63k\\xfe=\\x8aa<\\xb6\\x12\\xaa\\x0eUE\\xbe\\xf5\\xc7\\xa6\\xe1\\x9a}\\x8f\\x8c\\xd6_\\x12Y\\xdc\\xeb\\x82Kw\\x85r\\xaa\\xb1\\xecD\\x93\\xb3\\x11\\xd4\\xf4<\\xd7\\x7f\\xaa\\xcb{k\\x02\\x1bKd\\x9c\\x81\\x97\\xdc\\xdbq\\x8c\\x7f\\xf5\\xeb\\x92\\x1aT:\\x9d\\xfd\\xcf\\xf6\\x96\\x8d,\\xa9q\\xb6%\\x9a\"\\x0f\\x93\\x8e\\xe3\\xd0\\xe4\\x9f\\xca\\xb4R\\x12:\\x89%\\x00\\x90G\\xe9K\\n\\xa1Q\\xc6~\\xa2\\x9b\\xb1\\xce\\xe2EK\\n\\x95\\x0803\\x9ad\\x1a\\xac\\xc3hA\\xc7\\x15\\x0e\\xdc\\x107sV\\x1dH\\xe7\\xadDp:\\x8f\\xa56\\x89)\\xd9\\xbe`\\x9d\\xf7p\\xd2\\xb8\\xc7\\xd0\\xe3\\xfaR;`\\x87\\x1c\\x16\\x1f\\xfdj[&\\xdbfF\\xdc\\xb1\\x91\\xdb\\xf3s\\x8f\\xd2\\xa3\\xb8tXX\\xcc\\xe1\\x02\\x8c\\xee\\'\\x03\\x1f\\xe7\\xf9U+\\x80\\xf5\\x94F\\xe1\\x98\\xa99\\xef\\xedI>\\xa3 \\xccp\\xa0\\x96^>Px\\x03\\xd4\\x9e\\xd5\\x96\\xe9<\\xe4\\x88\\xc3$M\\xfcl\\x08f\\xf7\\x03\\xb0\\xa9\\xa0-n6 !\\xb9\\xf9s\\xdf\\xd4\\xd6rZ\\x94\\x99v+v\\x05\\xa5\\xbc*\\xe4\\x10\\x7f\\xd9_\\xa0\\xf5\\xf7\\xebY\\xday:\\x1f\\x88\\xa5\\xd7.%X-@ee\\xe8\\x02\\x11\\xd4\\x81\\xd4\\x96\\x0b\\xfesWcy\\xb2\\x19\\xdfs\\x0e\\x9e\\x82\\x9dqc\\x0e\\xab\\x1bZ\\xdc\\x960\\xc8\\x9f0\\x07\\x19\\xa1+\\x0e\\xe3le\\xdf\\xa7\\xda\\xcd\\xe5e\\xe5\\x8cH\\xc0\\x0c\\x12Xd\\x9f\\xcc\\x9a\\xb8\\x1e7b\\xfe_=\\xf8\\xa7-\\xb0\\x89#H\\x8e\\x124\\n\\x83\\xb8\\x14\\xe8\\xe1p\\x8e29\\xa9\\xb061\\x84.cc\\x95\\x00\\xe4\\x0cV\\x83\\\\\\t4(\\x16B\\x07\\x97u\\xb7\\xd3\\x8c\\x13\\xfc\\x8dR\\xf2\\xd8\\x84\\xc8\\x1czU=GPx\\xe7\\xb0\\xd2\\xa1Re\\xba\\x9d\\xa7p\\xbd\\x02\"\\x1e\\xa7\\xdd\\x8a\\n\\xa4\\x04\\xc5bgf\\r\\xc9\\x18 \\x9e\\x944Q\\xbe\\xd4\\xdf\\xc0=*L\\x14\\x80\\xe57\\x13\\xc9\\xa48\\xca\\x8f,\\x8f\\xa5 \\x11m\\xd0H@+\\xd3\\xb54\\xda#\\x03\\x82\\x06M#\\x15\\xf3\\t\\x00\\xf0\\x00\\xe9Q*2\\xc3\\x91\\xbc\\xe4\\xf1\\xc1\\xa5\\xa8\\xc6^[\\xb4a|\\xa0\\x0b\\xb1\\xc1\\xfc\\xba\\xd3a\\xb7\\x114\\x8a\\xf89?\\xd2\\xa6\\x9ca\\xd0n c$\\xd3\\xa2d\\xdap\\xdb\\xb2N\\t\\xf5\\xa1\\x81U\\x89w\\xdb\\x1c\\x8a\\x84z\\x9e\\xd4\\x93[\\x8f$\\x91\\x8d\\xf8\\xces\\xde\\xaa\\xdc\\xacos!*\\xa7\\x9cdT\\xa1\\x14XG\\x828\\xcf\\x1f\\x8d&\\t\\x12B\\xa2H\\x0b\\x1cq\\xed\\xcdW\\xb4\\xb6\\x8b\\xca\\x92\\x12\\xa0\\xb4LGN\\xc4\\xe4~\\x86\\xb3-o\\xc4\\x97\\xaf\\x0cK\\xb9\\x906A;EV\\x86\\xe6\\xfd\\xb5\\x95\\x89\\x8bl,\\xa2M\\xacJ\\xfa\\xe0\\x13\\xd4\\xf5\\xa9\\xbe\\x85$u\\te\\t\\xc8\\xdb\\x82i\\xd1F\\xbf\"\\r\\xc0\\x83\\xd75\\x97-\\xcc\\xd1\\\\0Y\\x18\\x00x\\xab\\xf6\\xb2\\x96\\xb6\\x8e@\\xc7\\x7fsU\\xd0E\\xb9\\xa3U\\x07 \\x9f^j\\xa4\\x844\\n2~\\xf5\\\\\\x92O\\x90\\xe7\\x965Ne\\x06$\\xc1\\xc3g\\xd2\\xa5\\r\\x16-\\xf2X\\xe3\\x1dj\\xfa!\\xdaO\\x1e\\x95F\\xdcm5rI\\x02B\\x08<\\xe6\\x902\\x1b\\x863\\xe2\"G\\'.=\\x87\\xf9\\xc5O\\x04`C\\xf7\\x7f#P[e\\xdc\\xc9\\x80C\\xf0\\x0f\\xb0\\xab!\\xf8 \\x0cSB?\\xff\\xd9'>"
            ]
          },
          "metadata": {
            "tags": []
          },
          "execution_count": 74
        }
      ]
    },
    {
      "cell_type": "markdown",
      "metadata": {
        "id": "xdYAsbYMvOVI",
        "colab_type": "text"
      },
      "source": [
        "##解码图片"
      ]
    },
    {
      "cell_type": "code",
      "metadata": {
        "id": "5Hd96jiuWE4f",
        "colab_type": "code",
        "outputId": "c173883c-2a05-47c4-c7f7-5451400b8fd5",
        "colab": {
          "base_uri": "https://localhost:8080/",
          "height": 881
        }
      },
      "source": [
        "#解码图片\n",
        "image_tensor=tf.image.decode_jpeg(img_raw,channels=3)\n",
        "image_tensor=tf.image.resize(image_tensor,[256,256])\n",
        "image_tensor"
      ],
      "execution_count": 75,
      "outputs": [
        {
          "output_type": "execute_result",
          "data": {
            "text/plain": [
              "<tf.Tensor: shape=(256, 256, 3), dtype=float32, numpy=\n",
              "array([[[140., 154., 155.],\n",
              "        [145., 159., 160.],\n",
              "        [150., 164., 164.],\n",
              "        ...,\n",
              "        [201., 212., 204.],\n",
              "        [146., 157., 149.],\n",
              "        [232., 243., 235.]],\n",
              "\n",
              "       [[162., 176., 177.],\n",
              "        [166., 180., 181.],\n",
              "        [171., 185., 185.],\n",
              "        ...,\n",
              "        [227., 238., 230.],\n",
              "        [155., 166., 158.],\n",
              "        [217., 228., 220.]],\n",
              "\n",
              "       [[175., 189., 189.],\n",
              "        [179., 193., 193.],\n",
              "        [184., 198., 198.],\n",
              "        ...,\n",
              "        [212., 223., 217.],\n",
              "        [115., 126., 118.],\n",
              "        [216., 227., 219.]],\n",
              "\n",
              "       ...,\n",
              "\n",
              "       [[172., 179., 171.],\n",
              "        [169., 176., 168.],\n",
              "        [168., 175., 167.],\n",
              "        ...,\n",
              "        [201., 202., 186.],\n",
              "        [201., 202., 186.],\n",
              "        [200., 201., 185.]],\n",
              "\n",
              "       [[177., 184., 176.],\n",
              "        [175., 182., 174.],\n",
              "        [174., 181., 173.],\n",
              "        ...,\n",
              "        [201., 202., 186.],\n",
              "        [201., 202., 186.],\n",
              "        [200., 201., 185.]],\n",
              "\n",
              "       [[181., 188., 180.],\n",
              "        [179., 186., 178.],\n",
              "        [178., 185., 177.],\n",
              "        ...,\n",
              "        [201., 202., 186.],\n",
              "        [201., 202., 186.],\n",
              "        [200., 201., 185.]]], dtype=float32)>"
            ]
          },
          "metadata": {
            "tags": []
          },
          "execution_count": 75
        }
      ]
    },
    {
      "cell_type": "markdown",
      "metadata": {
        "id": "WXJeCQPZvbZ-",
        "colab_type": "text"
      },
      "source": [
        "##转换数据类型"
      ]
    },
    {
      "cell_type": "code",
      "metadata": {
        "id": "B3_FWmCYMIeJ",
        "colab_type": "code",
        "outputId": "8e27eb78-18aa-4cdc-a1f8-4361032ef72f",
        "colab": {
          "base_uri": "https://localhost:8080/",
          "height": 35
        }
      },
      "source": [
        "image_tensor=tf.cast(image_tensor,tf.float32)#转换数据类型\n",
        "#图片标准化处理\n",
        "image_tensor=image_tensor/255\n",
        "#我们查看下这个图片,看到底是不是范围是0-1\n",
        "image_tensor.numpy().max()\n",
        "image_tensor.numpy().min()"
      ],
      "execution_count": 76,
      "outputs": [
        {
          "output_type": "execute_result",
          "data": {
            "text/plain": [
              "0.0"
            ]
          },
          "metadata": {
            "tags": []
          },
          "execution_count": 76
        }
      ]
    },
    {
      "cell_type": "markdown",
      "metadata": {
        "id": "dnqJhV0FqNFI",
        "colab_type": "text"
      },
      "source": [
        "以上呢，是对单一图片的整个处理方式：\n",
        "\n",
        "1. 读取这张图片\n",
        "\n",
        "2. 对图片进行解码\n",
        "\n",
        "3. 转换图片数据类型与标准化\n",
        "\n",
        "\n",
        "接下来，我们写一个函数来对整个图片数据集进行处理："
      ]
    },
    {
      "cell_type": "code",
      "metadata": {
        "id": "LIkc5HEFsLK1",
        "colab_type": "code",
        "colab": {}
      },
      "source": [
        "def load_preprosess_image(image_path):\n",
        "  img_raw=tf.io.read_file(img_path)#读取路径\n",
        "  image_tensor=tf.image.decode_jpeg(img_raw,channels=3)#解码图片,3代表解析的是彩色图片\n",
        "  #image_tensor=tf.image.resize(image_tensor,256,256)#图片可能会变形,告诉tensorflow大小是256×256\n",
        "  image_tensor=tf.cast(image_tensor,tf.float32)#转换数据类型\n",
        "  image_tensor=image_tensor/255#标准化操作\n",
        "  return image_tensor #返回处理结果"
      ],
      "execution_count": 0,
      "outputs": []
    },
    {
      "cell_type": "code",
      "metadata": {
        "id": "vYf9NXnQwWkS",
        "colab_type": "code",
        "outputId": "903b7ba3-765d-4ab5-8163-9371fb97a11f",
        "colab": {
          "base_uri": "https://localhost:8080/",
          "height": 286
        }
      },
      "source": [
        "image_path_test=all_image_path[100]\n",
        "plt.imshow(load_preprosess_image(image_path_test))#调用并画出来"
      ],
      "execution_count": 78,
      "outputs": [
        {
          "output_type": "execute_result",
          "data": {
            "text/plain": [
              "<matplotlib.image.AxesImage at 0x7f0fc37da198>"
            ]
          },
          "metadata": {
            "tags": []
          },
          "execution_count": 78
        },
        {
          "output_type": "display_data",
          "data": {
            "image/png": "[encoded data removed]",
            "text/plain": [
              "<Figure size 432x288 with 1 Axes>"
            ]
          },
          "metadata": {
            "tags": []
          }
        }
      ]
    },
    {
      "cell_type": "markdown",
      "metadata": {
        "id": "_e2ADhm0Gf80",
        "colab_type": "text"
      },
      "source": [
        "##构造tf.data"
      ]
    },
    {
      "cell_type": "code",
      "metadata": {
        "id": "rsrExK5eGezs",
        "colab_type": "code",
        "outputId": "b3fc8a91-0d71-40b9-8faf-c124e8c0598a",
        "colab": {
          "base_uri": "https://localhost:8080/",
          "height": 35
        }
      },
      "source": [
        "path_ds=tf.data.Dataset.from_tensor_slices(all_image_path)\n",
        "image_dataset=path_ds.map(load_preprosess_image)#建造数据集\n",
        "image_dataset"
      ],
      "execution_count": 79,
      "outputs": [
        {
          "output_type": "execute_result",
          "data": {
            "text/plain": [
              "<MapDataset shapes: (None, None, 3), types: tf.float32>"
            ]
          },
          "metadata": {
            "tags": []
          },
          "execution_count": 79
        }
      ]
    },
    {
      "cell_type": "code",
      "metadata": {
        "id": "VVUV_8hxrUE6",
        "colab_type": "code",
        "colab": {}
      },
      "source": [
        "#对image_dataset的类型进行转换，我们知道他的图片格式是256×256×3\n",
        "#为什么他没有显示出来呢"
      ],
      "execution_count": 0,
      "outputs": []
    },
    {
      "cell_type": "markdown",
      "metadata": {
        "id": "qkf5JAPtKu0A",
        "colab_type": "text"
      },
      "source": [
        "##构造label"
      ]
    },
    {
      "cell_type": "code",
      "metadata": {
        "id": "xfSzCt9uKtqV",
        "colab_type": "code",
        "colab": {}
      },
      "source": [
        "label_dataset=tf.data.Dataset.from_tensor_slices(all_image_labe)"
      ],
      "execution_count": 0,
      "outputs": []
    },
    {
      "cell_type": "markdown",
      "metadata": {
        "id": "om-Dcsp-MUdM",
        "colab_type": "text"
      },
      "source": [
        "##测试下标签"
      ]
    },
    {
      "cell_type": "code",
      "metadata": {
        "id": "agAgBJ5kMY-b",
        "colab_type": "code",
        "outputId": "de2a264a-aae0-4032-8faf-90248a3cbca0",
        "colab": {
          "base_uri": "https://localhost:8080/",
          "height": 1000
        }
      },
      "source": [
        "for label in label_dataset:\n",
        "  print(label)"
      ],
      "execution_count": 82,
      "outputs": [
        {
          "output_type": "stream",
          "text": [
            "tf.Tensor(0, shape=(), dtype=int32)\n",
            "tf.Tensor(0, shape=(), dtype=int32)\n",
            "tf.Tensor(1, shape=(), dtype=int32)\n",
            "tf.Tensor(1, shape=(), dtype=int32)\n",
            "tf.Tensor(1, shape=(), dtype=int32)\n",
            "tf.Tensor(0, shape=(), dtype=int32)\n",
            "tf.Tensor(0, shape=(), dtype=int32)\n",
            "tf.Tensor(1, shape=(), dtype=int32)\n",
            "tf.Tensor(0, shape=(), dtype=int32)\n",
            "tf.Tensor(0, shape=(), dtype=int32)\n",
            "tf.Tensor(1, shape=(), dtype=int32)\n",
            "tf.Tensor(0, shape=(), dtype=int32)\n",
            "tf.Tensor(0, shape=(), dtype=int32)\n",
            "tf.Tensor(1, shape=(), dtype=int32)\n",
            "tf.Tensor(1, shape=(), dtype=int32)\n",
            "tf.Tensor(0, shape=(), dtype=int32)\n",
            "tf.Tensor(0, shape=(), dtype=int32)\n",
            "tf.Tensor(1, shape=(), dtype=int32)\n",
            "tf.Tensor(1, shape=(), dtype=int32)\n",
            "tf.Tensor(1, shape=(), dtype=int32)\n",
            "tf.Tensor(0, shape=(), dtype=int32)\n",
            "tf.Tensor(0, shape=(), dtype=int32)\n",
            "tf.Tensor(1, shape=(), dtype=int32)\n",
            "tf.Tensor(0, shape=(), dtype=int32)\n",
            "tf.Tensor(1, shape=(), dtype=int32)\n",
            "tf.Tensor(0, shape=(), dtype=int32)\n",
            "tf.Tensor(1, shape=(), dtype=int32)\n",
            "tf.Tensor(0, shape=(), dtype=int32)\n",
            "tf.Tensor(0, shape=(), dtype=int32)\n",
            "tf.Tensor(0, shape=(), dtype=int32)\n",
            "tf.Tensor(1, shape=(), dtype=int32)\n",
            "tf.Tensor(1, shape=(), dtype=int32)\n",
            "tf.Tensor(0, shape=(), dtype=int32)\n",
            "tf.Tensor(1, shape=(), dtype=int32)\n",
            "tf.Tensor(0, shape=(), dtype=int32)\n",
            "tf.Tensor(0, shape=(), dtype=int32)\n",
            "tf.Tensor(1, shape=(), dtype=int32)\n",
            "tf.Tensor(1, shape=(), dtype=int32)\n",
            "tf.Tensor(1, shape=(), dtype=int32)\n",
            "tf.Tensor(0, shape=(), dtype=int32)\n",
            "tf.Tensor(0, shape=(), dtype=int32)\n",
            "tf.Tensor(0, shape=(), dtype=int32)\n",
            "tf.Tensor(1, shape=(), dtype=int32)\n",
            "tf.Tensor(1, shape=(), dtype=int32)\n",
            "tf.Tensor(0, shape=(), dtype=int32)\n",
            "tf.Tensor(0, shape=(), dtype=int32)\n",
            "tf.Tensor(0, shape=(), dtype=int32)\n",
            "tf.Tensor(1, shape=(), dtype=int32)\n",
            "tf.Tensor(1, shape=(), dtype=int32)\n",
            "tf.Tensor(0, shape=(), dtype=int32)\n",
            "tf.Tensor(1, shape=(), dtype=int32)\n",
            "tf.Tensor(0, shape=(), dtype=int32)\n",
            "tf.Tensor(1, shape=(), dtype=int32)\n",
            "tf.Tensor(1, shape=(), dtype=int32)\n",
            "tf.Tensor(0, shape=(), dtype=int32)\n",
            "tf.Tensor(1, shape=(), dtype=int32)\n",
            "tf.Tensor(0, shape=(), dtype=int32)\n",
            "tf.Tensor(1, shape=(), dtype=int32)\n",
            "tf.Tensor(1, shape=(), dtype=int32)\n",
            "tf.Tensor(1, shape=(), dtype=int32)\n",
            "tf.Tensor(0, shape=(), dtype=int32)\n",
            "tf.Tensor(1, shape=(), dtype=int32)\n",
            "tf.Tensor(0, shape=(), dtype=int32)\n",
            "tf.Tensor(0, shape=(), dtype=int32)\n",
            "tf.Tensor(1, shape=(), dtype=int32)\n",
            "tf.Tensor(1, shape=(), dtype=int32)\n",
            "tf.Tensor(1, shape=(), dtype=int32)\n",
            "tf.Tensor(1, shape=(), dtype=int32)\n",
            "tf.Tensor(1, shape=(), dtype=int32)\n",
            "tf.Tensor(0, shape=(), dtype=int32)\n",
            "tf.Tensor(0, shape=(), dtype=int32)\n",
            "tf.Tensor(1, shape=(), dtype=int32)\n",
            "tf.Tensor(0, shape=(), dtype=int32)\n",
            "tf.Tensor(1, shape=(), dtype=int32)\n",
            "tf.Tensor(0, shape=(), dtype=int32)\n",
            "tf.Tensor(0, shape=(), dtype=int32)\n",
            "tf.Tensor(1, shape=(), dtype=int32)\n",
            "tf.Tensor(1, shape=(), dtype=int32)\n",
            "tf.Tensor(0, shape=(), dtype=int32)\n",
            "tf.Tensor(0, shape=(), dtype=int32)\n",
            "tf.Tensor(0, shape=(), dtype=int32)\n",
            "tf.Tensor(0, shape=(), dtype=int32)\n",
            "tf.Tensor(1, shape=(), dtype=int32)\n",
            "tf.Tensor(1, shape=(), dtype=int32)\n",
            "tf.Tensor(1, shape=(), dtype=int32)\n",
            "tf.Tensor(1, shape=(), dtype=int32)\n",
            "tf.Tensor(0, shape=(), dtype=int32)\n",
            "tf.Tensor(1, shape=(), dtype=int32)\n",
            "tf.Tensor(0, shape=(), dtype=int32)\n",
            "tf.Tensor(0, shape=(), dtype=int32)\n",
            "tf.Tensor(0, shape=(), dtype=int32)\n",
            "tf.Tensor(1, shape=(), dtype=int32)\n",
            "tf.Tensor(1, shape=(), dtype=int32)\n",
            "tf.Tensor(1, shape=(), dtype=int32)\n",
            "tf.Tensor(1, shape=(), dtype=int32)\n",
            "tf.Tensor(1, shape=(), dtype=int32)\n",
            "tf.Tensor(0, shape=(), dtype=int32)\n",
            "tf.Tensor(0, shape=(), dtype=int32)\n",
            "tf.Tensor(0, shape=(), dtype=int32)\n",
            "tf.Tensor(1, shape=(), dtype=int32)\n",
            "tf.Tensor(1, shape=(), dtype=int32)\n",
            "tf.Tensor(1, shape=(), dtype=int32)\n",
            "tf.Tensor(0, shape=(), dtype=int32)\n",
            "tf.Tensor(1, shape=(), dtype=int32)\n",
            "tf.Tensor(0, shape=(), dtype=int32)\n",
            "tf.Tensor(0, shape=(), dtype=int32)\n",
            "tf.Tensor(0, shape=(), dtype=int32)\n",
            "tf.Tensor(1, shape=(), dtype=int32)\n",
            "tf.Tensor(1, shape=(), dtype=int32)\n",
            "tf.Tensor(0, shape=(), dtype=int32)\n",
            "tf.Tensor(1, shape=(), dtype=int32)\n",
            "tf.Tensor(0, shape=(), dtype=int32)\n",
            "tf.Tensor(1, shape=(), dtype=int32)\n",
            "tf.Tensor(1, shape=(), dtype=int32)\n",
            "tf.Tensor(1, shape=(), dtype=int32)\n",
            "tf.Tensor(1, shape=(), dtype=int32)\n",
            "tf.Tensor(0, shape=(), dtype=int32)\n",
            "tf.Tensor(0, shape=(), dtype=int32)\n",
            "tf.Tensor(0, shape=(), dtype=int32)\n",
            "tf.Tensor(0, shape=(), dtype=int32)\n",
            "tf.Tensor(0, shape=(), dtype=int32)\n",
            "tf.Tensor(0, shape=(), dtype=int32)\n",
            "tf.Tensor(0, shape=(), dtype=int32)\n",
            "tf.Tensor(0, shape=(), dtype=int32)\n",
            "tf.Tensor(1, shape=(), dtype=int32)\n",
            "tf.Tensor(0, shape=(), dtype=int32)\n",
            "tf.Tensor(0, shape=(), dtype=int32)\n",
            "tf.Tensor(1, shape=(), dtype=int32)\n",
            "tf.Tensor(0, shape=(), dtype=int32)\n",
            "tf.Tensor(0, shape=(), dtype=int32)\n",
            "tf.Tensor(1, shape=(), dtype=int32)\n",
            "tf.Tensor(0, shape=(), dtype=int32)\n",
            "tf.Tensor(0, shape=(), dtype=int32)\n",
            "tf.Tensor(1, shape=(), dtype=int32)\n",
            "tf.Tensor(1, shape=(), dtype=int32)\n",
            "tf.Tensor(0, shape=(), dtype=int32)\n",
            "tf.Tensor(1, shape=(), dtype=int32)\n",
            "tf.Tensor(1, shape=(), dtype=int32)\n",
            "tf.Tensor(1, shape=(), dtype=int32)\n",
            "tf.Tensor(0, shape=(), dtype=int32)\n",
            "tf.Tensor(1, shape=(), dtype=int32)\n",
            "tf.Tensor(1, shape=(), dtype=int32)\n",
            "tf.Tensor(0, shape=(), dtype=int32)\n",
            "tf.Tensor(0, shape=(), dtype=int32)\n",
            "tf.Tensor(0, shape=(), dtype=int32)\n",
            "tf.Tensor(0, shape=(), dtype=int32)\n",
            "tf.Tensor(0, shape=(), dtype=int32)\n",
            "tf.Tensor(1, shape=(), dtype=int32)\n",
            "tf.Tensor(0, shape=(), dtype=int32)\n",
            "tf.Tensor(1, shape=(), dtype=int32)\n",
            "tf.Tensor(1, shape=(), dtype=int32)\n",
            "tf.Tensor(1, shape=(), dtype=int32)\n",
            "tf.Tensor(1, shape=(), dtype=int32)\n",
            "tf.Tensor(0, shape=(), dtype=int32)\n",
            "tf.Tensor(1, shape=(), dtype=int32)\n",
            "tf.Tensor(1, shape=(), dtype=int32)\n",
            "tf.Tensor(1, shape=(), dtype=int32)\n",
            "tf.Tensor(1, shape=(), dtype=int32)\n",
            "tf.Tensor(0, shape=(), dtype=int32)\n",
            "tf.Tensor(0, shape=(), dtype=int32)\n",
            "tf.Tensor(1, shape=(), dtype=int32)\n",
            "tf.Tensor(0, shape=(), dtype=int32)\n",
            "tf.Tensor(0, shape=(), dtype=int32)\n",
            "tf.Tensor(1, shape=(), dtype=int32)\n",
            "tf.Tensor(1, shape=(), dtype=int32)\n",
            "tf.Tensor(1, shape=(), dtype=int32)\n",
            "tf.Tensor(1, shape=(), dtype=int32)\n",
            "tf.Tensor(0, shape=(), dtype=int32)\n",
            "tf.Tensor(0, shape=(), dtype=int32)\n",
            "tf.Tensor(1, shape=(), dtype=int32)\n",
            "tf.Tensor(0, shape=(), dtype=int32)\n",
            "tf.Tensor(0, shape=(), dtype=int32)\n",
            "tf.Tensor(1, shape=(), dtype=int32)\n",
            "tf.Tensor(1, shape=(), dtype=int32)\n",
            "tf.Tensor(1, shape=(), dtype=int32)\n",
            "tf.Tensor(0, shape=(), dtype=int32)\n",
            "tf.Tensor(1, shape=(), dtype=int32)\n",
            "tf.Tensor(1, shape=(), dtype=int32)\n",
            "tf.Tensor(0, shape=(), dtype=int32)\n",
            "tf.Tensor(0, shape=(), dtype=int32)\n",
            "tf.Tensor(1, shape=(), dtype=int32)\n",
            "tf.Tensor(0, shape=(), dtype=int32)\n",
            "tf.Tensor(0, shape=(), dtype=int32)\n",
            "tf.Tensor(1, shape=(), dtype=int32)\n",
            "tf.Tensor(0, shape=(), dtype=int32)\n",
            "tf.Tensor(1, shape=(), dtype=int32)\n",
            "tf.Tensor(1, shape=(), dtype=int32)\n",
            "tf.Tensor(1, shape=(), dtype=int32)\n",
            "tf.Tensor(1, shape=(), dtype=int32)\n",
            "tf.Tensor(0, shape=(), dtype=int32)\n",
            "tf.Tensor(1, shape=(), dtype=int32)\n",
            "tf.Tensor(1, shape=(), dtype=int32)\n",
            "tf.Tensor(1, shape=(), dtype=int32)\n",
            "tf.Tensor(0, shape=(), dtype=int32)\n",
            "tf.Tensor(1, shape=(), dtype=int32)\n",
            "tf.Tensor(0, shape=(), dtype=int32)\n",
            "tf.Tensor(1, shape=(), dtype=int32)\n",
            "tf.Tensor(0, shape=(), dtype=int32)\n",
            "tf.Tensor(0, shape=(), dtype=int32)\n",
            "tf.Tensor(1, shape=(), dtype=int32)\n",
            "tf.Tensor(1, shape=(), dtype=int32)\n",
            "tf.Tensor(1, shape=(), dtype=int32)\n",
            "tf.Tensor(0, shape=(), dtype=int32)\n",
            "tf.Tensor(0, shape=(), dtype=int32)\n",
            "tf.Tensor(1, shape=(), dtype=int32)\n",
            "tf.Tensor(0, shape=(), dtype=int32)\n",
            "tf.Tensor(1, shape=(), dtype=int32)\n",
            "tf.Tensor(0, shape=(), dtype=int32)\n",
            "tf.Tensor(1, shape=(), dtype=int32)\n",
            "tf.Tensor(1, shape=(), dtype=int32)\n",
            "tf.Tensor(0, shape=(), dtype=int32)\n",
            "tf.Tensor(1, shape=(), dtype=int32)\n",
            "tf.Tensor(1, shape=(), dtype=int32)\n",
            "tf.Tensor(0, shape=(), dtype=int32)\n",
            "tf.Tensor(1, shape=(), dtype=int32)\n",
            "tf.Tensor(0, shape=(), dtype=int32)\n",
            "tf.Tensor(1, shape=(), dtype=int32)\n",
            "tf.Tensor(0, shape=(), dtype=int32)\n",
            "tf.Tensor(0, shape=(), dtype=int32)\n",
            "tf.Tensor(1, shape=(), dtype=int32)\n",
            "tf.Tensor(1, shape=(), dtype=int32)\n",
            "tf.Tensor(1, shape=(), dtype=int32)\n",
            "tf.Tensor(0, shape=(), dtype=int32)\n",
            "tf.Tensor(0, shape=(), dtype=int32)\n",
            "tf.Tensor(1, shape=(), dtype=int32)\n",
            "tf.Tensor(1, shape=(), dtype=int32)\n",
            "tf.Tensor(0, shape=(), dtype=int32)\n",
            "tf.Tensor(1, shape=(), dtype=int32)\n",
            "tf.Tensor(1, shape=(), dtype=int32)\n",
            "tf.Tensor(0, shape=(), dtype=int32)\n",
            "tf.Tensor(1, shape=(), dtype=int32)\n",
            "tf.Tensor(0, shape=(), dtype=int32)\n",
            "tf.Tensor(1, shape=(), dtype=int32)\n",
            "tf.Tensor(1, shape=(), dtype=int32)\n",
            "tf.Tensor(1, shape=(), dtype=int32)\n",
            "tf.Tensor(1, shape=(), dtype=int32)\n",
            "tf.Tensor(1, shape=(), dtype=int32)\n",
            "tf.Tensor(0, shape=(), dtype=int32)\n",
            "tf.Tensor(1, shape=(), dtype=int32)\n",
            "tf.Tensor(0, shape=(), dtype=int32)\n",
            "tf.Tensor(0, shape=(), dtype=int32)\n",
            "tf.Tensor(1, shape=(), dtype=int32)\n",
            "tf.Tensor(0, shape=(), dtype=int32)\n",
            "tf.Tensor(0, shape=(), dtype=int32)\n",
            "tf.Tensor(0, shape=(), dtype=int32)\n",
            "tf.Tensor(0, shape=(), dtype=int32)\n",
            "tf.Tensor(1, shape=(), dtype=int32)\n",
            "tf.Tensor(0, shape=(), dtype=int32)\n",
            "tf.Tensor(1, shape=(), dtype=int32)\n",
            "tf.Tensor(0, shape=(), dtype=int32)\n",
            "tf.Tensor(0, shape=(), dtype=int32)\n",
            "tf.Tensor(1, shape=(), dtype=int32)\n",
            "tf.Tensor(1, shape=(), dtype=int32)\n",
            "tf.Tensor(0, shape=(), dtype=int32)\n",
            "tf.Tensor(0, shape=(), dtype=int32)\n",
            "tf.Tensor(1, shape=(), dtype=int32)\n",
            "tf.Tensor(1, shape=(), dtype=int32)\n",
            "tf.Tensor(1, shape=(), dtype=int32)\n",
            "tf.Tensor(0, shape=(), dtype=int32)\n",
            "tf.Tensor(1, shape=(), dtype=int32)\n",
            "tf.Tensor(1, shape=(), dtype=int32)\n",
            "tf.Tensor(1, shape=(), dtype=int32)\n",
            "tf.Tensor(1, shape=(), dtype=int32)\n",
            "tf.Tensor(1, shape=(), dtype=int32)\n",
            "tf.Tensor(0, shape=(), dtype=int32)\n",
            "tf.Tensor(1, shape=(), dtype=int32)\n",
            "tf.Tensor(1, shape=(), dtype=int32)\n",
            "tf.Tensor(0, shape=(), dtype=int32)\n",
            "tf.Tensor(1, shape=(), dtype=int32)\n",
            "tf.Tensor(0, shape=(), dtype=int32)\n",
            "tf.Tensor(0, shape=(), dtype=int32)\n",
            "tf.Tensor(1, shape=(), dtype=int32)\n",
            "tf.Tensor(1, shape=(), dtype=int32)\n",
            "tf.Tensor(1, shape=(), dtype=int32)\n",
            "tf.Tensor(1, shape=(), dtype=int32)\n",
            "tf.Tensor(1, shape=(), dtype=int32)\n",
            "tf.Tensor(0, shape=(), dtype=int32)\n",
            "tf.Tensor(1, shape=(), dtype=int32)\n",
            "tf.Tensor(1, shape=(), dtype=int32)\n",
            "tf.Tensor(0, shape=(), dtype=int32)\n",
            "tf.Tensor(0, shape=(), dtype=int32)\n",
            "tf.Tensor(1, shape=(), dtype=int32)\n",
            "tf.Tensor(1, shape=(), dtype=int32)\n",
            "tf.Tensor(0, shape=(), dtype=int32)\n",
            "tf.Tensor(0, shape=(), dtype=int32)\n",
            "tf.Tensor(0, shape=(), dtype=int32)\n",
            "tf.Tensor(1, shape=(), dtype=int32)\n",
            "tf.Tensor(1, shape=(), dtype=int32)\n",
            "tf.Tensor(0, shape=(), dtype=int32)\n",
            "tf.Tensor(1, shape=(), dtype=int32)\n",
            "tf.Tensor(0, shape=(), dtype=int32)\n",
            "tf.Tensor(0, shape=(), dtype=int32)\n",
            "tf.Tensor(0, shape=(), dtype=int32)\n",
            "tf.Tensor(0, shape=(), dtype=int32)\n",
            "tf.Tensor(0, shape=(), dtype=int32)\n",
            "tf.Tensor(1, shape=(), dtype=int32)\n",
            "tf.Tensor(0, shape=(), dtype=int32)\n",
            "tf.Tensor(0, shape=(), dtype=int32)\n",
            "tf.Tensor(1, shape=(), dtype=int32)\n",
            "tf.Tensor(0, shape=(), dtype=int32)\n",
            "tf.Tensor(0, shape=(), dtype=int32)\n",
            "tf.Tensor(1, shape=(), dtype=int32)\n",
            "tf.Tensor(1, shape=(), dtype=int32)\n",
            "tf.Tensor(1, shape=(), dtype=int32)\n",
            "tf.Tensor(1, shape=(), dtype=int32)\n",
            "tf.Tensor(0, shape=(), dtype=int32)\n",
            "tf.Tensor(1, shape=(), dtype=int32)\n",
            "tf.Tensor(0, shape=(), dtype=int32)\n",
            "tf.Tensor(1, shape=(), dtype=int32)\n",
            "tf.Tensor(0, shape=(), dtype=int32)\n",
            "tf.Tensor(0, shape=(), dtype=int32)\n",
            "tf.Tensor(1, shape=(), dtype=int32)\n",
            "tf.Tensor(0, shape=(), dtype=int32)\n",
            "tf.Tensor(0, shape=(), dtype=int32)\n",
            "tf.Tensor(1, shape=(), dtype=int32)\n",
            "tf.Tensor(1, shape=(), dtype=int32)\n",
            "tf.Tensor(0, shape=(), dtype=int32)\n",
            "tf.Tensor(0, shape=(), dtype=int32)\n",
            "tf.Tensor(1, shape=(), dtype=int32)\n",
            "tf.Tensor(0, shape=(), dtype=int32)\n",
            "tf.Tensor(1, shape=(), dtype=int32)\n",
            "tf.Tensor(1, shape=(), dtype=int32)\n",
            "tf.Tensor(1, shape=(), dtype=int32)\n",
            "tf.Tensor(1, shape=(), dtype=int32)\n",
            "tf.Tensor(1, shape=(), dtype=int32)\n",
            "tf.Tensor(1, shape=(), dtype=int32)\n",
            "tf.Tensor(1, shape=(), dtype=int32)\n",
            "tf.Tensor(1, shape=(), dtype=int32)\n",
            "tf.Tensor(0, shape=(), dtype=int32)\n",
            "tf.Tensor(0, shape=(), dtype=int32)\n",
            "tf.Tensor(1, shape=(), dtype=int32)\n",
            "tf.Tensor(0, shape=(), dtype=int32)\n",
            "tf.Tensor(0, shape=(), dtype=int32)\n",
            "tf.Tensor(0, shape=(), dtype=int32)\n",
            "tf.Tensor(0, shape=(), dtype=int32)\n",
            "tf.Tensor(1, shape=(), dtype=int32)\n",
            "tf.Tensor(1, shape=(), dtype=int32)\n",
            "tf.Tensor(0, shape=(), dtype=int32)\n",
            "tf.Tensor(0, shape=(), dtype=int32)\n",
            "tf.Tensor(0, shape=(), dtype=int32)\n",
            "tf.Tensor(0, shape=(), dtype=int32)\n",
            "tf.Tensor(1, shape=(), dtype=int32)\n",
            "tf.Tensor(1, shape=(), dtype=int32)\n",
            "tf.Tensor(0, shape=(), dtype=int32)\n",
            "tf.Tensor(1, shape=(), dtype=int32)\n",
            "tf.Tensor(1, shape=(), dtype=int32)\n",
            "tf.Tensor(0, shape=(), dtype=int32)\n",
            "tf.Tensor(0, shape=(), dtype=int32)\n",
            "tf.Tensor(0, shape=(), dtype=int32)\n",
            "tf.Tensor(1, shape=(), dtype=int32)\n",
            "tf.Tensor(0, shape=(), dtype=int32)\n",
            "tf.Tensor(0, shape=(), dtype=int32)\n",
            "tf.Tensor(1, shape=(), dtype=int32)\n",
            "tf.Tensor(1, shape=(), dtype=int32)\n",
            "tf.Tensor(1, shape=(), dtype=int32)\n",
            "tf.Tensor(0, shape=(), dtype=int32)\n",
            "tf.Tensor(0, shape=(), dtype=int32)\n",
            "tf.Tensor(0, shape=(), dtype=int32)\n",
            "tf.Tensor(0, shape=(), dtype=int32)\n",
            "tf.Tensor(0, shape=(), dtype=int32)\n",
            "tf.Tensor(1, shape=(), dtype=int32)\n",
            "tf.Tensor(1, shape=(), dtype=int32)\n",
            "tf.Tensor(1, shape=(), dtype=int32)\n",
            "tf.Tensor(1, shape=(), dtype=int32)\n",
            "tf.Tensor(1, shape=(), dtype=int32)\n",
            "tf.Tensor(0, shape=(), dtype=int32)\n",
            "tf.Tensor(0, shape=(), dtype=int32)\n",
            "tf.Tensor(1, shape=(), dtype=int32)\n",
            "tf.Tensor(1, shape=(), dtype=int32)\n",
            "tf.Tensor(0, shape=(), dtype=int32)\n",
            "tf.Tensor(1, shape=(), dtype=int32)\n",
            "tf.Tensor(1, shape=(), dtype=int32)\n",
            "tf.Tensor(0, shape=(), dtype=int32)\n",
            "tf.Tensor(0, shape=(), dtype=int32)\n",
            "tf.Tensor(1, shape=(), dtype=int32)\n",
            "tf.Tensor(1, shape=(), dtype=int32)\n",
            "tf.Tensor(1, shape=(), dtype=int32)\n",
            "tf.Tensor(0, shape=(), dtype=int32)\n",
            "tf.Tensor(1, shape=(), dtype=int32)\n",
            "tf.Tensor(0, shape=(), dtype=int32)\n",
            "tf.Tensor(0, shape=(), dtype=int32)\n",
            "tf.Tensor(1, shape=(), dtype=int32)\n",
            "tf.Tensor(0, shape=(), dtype=int32)\n",
            "tf.Tensor(1, shape=(), dtype=int32)\n",
            "tf.Tensor(0, shape=(), dtype=int32)\n",
            "tf.Tensor(1, shape=(), dtype=int32)\n",
            "tf.Tensor(0, shape=(), dtype=int32)\n",
            "tf.Tensor(0, shape=(), dtype=int32)\n",
            "tf.Tensor(0, shape=(), dtype=int32)\n",
            "tf.Tensor(1, shape=(), dtype=int32)\n",
            "tf.Tensor(0, shape=(), dtype=int32)\n",
            "tf.Tensor(1, shape=(), dtype=int32)\n",
            "tf.Tensor(0, shape=(), dtype=int32)\n",
            "tf.Tensor(0, shape=(), dtype=int32)\n",
            "tf.Tensor(1, shape=(), dtype=int32)\n",
            "tf.Tensor(1, shape=(), dtype=int32)\n",
            "tf.Tensor(0, shape=(), dtype=int32)\n",
            "tf.Tensor(1, shape=(), dtype=int32)\n",
            "tf.Tensor(1, shape=(), dtype=int32)\n",
            "tf.Tensor(1, shape=(), dtype=int32)\n",
            "tf.Tensor(1, shape=(), dtype=int32)\n",
            "tf.Tensor(1, shape=(), dtype=int32)\n",
            "tf.Tensor(1, shape=(), dtype=int32)\n",
            "tf.Tensor(0, shape=(), dtype=int32)\n",
            "tf.Tensor(0, shape=(), dtype=int32)\n",
            "tf.Tensor(0, shape=(), dtype=int32)\n",
            "tf.Tensor(1, shape=(), dtype=int32)\n",
            "tf.Tensor(1, shape=(), dtype=int32)\n",
            "tf.Tensor(0, shape=(), dtype=int32)\n",
            "tf.Tensor(1, shape=(), dtype=int32)\n",
            "tf.Tensor(1, shape=(), dtype=int32)\n",
            "tf.Tensor(1, shape=(), dtype=int32)\n",
            "tf.Tensor(1, shape=(), dtype=int32)\n",
            "tf.Tensor(1, shape=(), dtype=int32)\n",
            "tf.Tensor(0, shape=(), dtype=int32)\n",
            "tf.Tensor(0, shape=(), dtype=int32)\n",
            "tf.Tensor(1, shape=(), dtype=int32)\n",
            "tf.Tensor(0, shape=(), dtype=int32)\n",
            "tf.Tensor(1, shape=(), dtype=int32)\n",
            "tf.Tensor(0, shape=(), dtype=int32)\n",
            "tf.Tensor(1, shape=(), dtype=int32)\n",
            "tf.Tensor(1, shape=(), dtype=int32)\n",
            "tf.Tensor(1, shape=(), dtype=int32)\n",
            "tf.Tensor(0, shape=(), dtype=int32)\n",
            "tf.Tensor(1, shape=(), dtype=int32)\n",
            "tf.Tensor(0, shape=(), dtype=int32)\n",
            "tf.Tensor(1, shape=(), dtype=int32)\n",
            "tf.Tensor(1, shape=(), dtype=int32)\n",
            "tf.Tensor(0, shape=(), dtype=int32)\n",
            "tf.Tensor(1, shape=(), dtype=int32)\n",
            "tf.Tensor(0, shape=(), dtype=int32)\n",
            "tf.Tensor(1, shape=(), dtype=int32)\n",
            "tf.Tensor(1, shape=(), dtype=int32)\n",
            "tf.Tensor(0, shape=(), dtype=int32)\n",
            "tf.Tensor(1, shape=(), dtype=int32)\n",
            "tf.Tensor(0, shape=(), dtype=int32)\n",
            "tf.Tensor(1, shape=(), dtype=int32)\n",
            "tf.Tensor(0, shape=(), dtype=int32)\n",
            "tf.Tensor(1, shape=(), dtype=int32)\n",
            "tf.Tensor(1, shape=(), dtype=int32)\n",
            "tf.Tensor(0, shape=(), dtype=int32)\n",
            "tf.Tensor(0, shape=(), dtype=int32)\n",
            "tf.Tensor(0, shape=(), dtype=int32)\n",
            "tf.Tensor(1, shape=(), dtype=int32)\n",
            "tf.Tensor(0, shape=(), dtype=int32)\n",
            "tf.Tensor(0, shape=(), dtype=int32)\n",
            "tf.Tensor(0, shape=(), dtype=int32)\n",
            "tf.Tensor(1, shape=(), dtype=int32)\n",
            "tf.Tensor(1, shape=(), dtype=int32)\n",
            "tf.Tensor(1, shape=(), dtype=int32)\n",
            "tf.Tensor(1, shape=(), dtype=int32)\n",
            "tf.Tensor(0, shape=(), dtype=int32)\n",
            "tf.Tensor(1, shape=(), dtype=int32)\n",
            "tf.Tensor(0, shape=(), dtype=int32)\n",
            "tf.Tensor(1, shape=(), dtype=int32)\n",
            "tf.Tensor(1, shape=(), dtype=int32)\n",
            "tf.Tensor(1, shape=(), dtype=int32)\n",
            "tf.Tensor(0, shape=(), dtype=int32)\n",
            "tf.Tensor(0, shape=(), dtype=int32)\n",
            "tf.Tensor(0, shape=(), dtype=int32)\n",
            "tf.Tensor(1, shape=(), dtype=int32)\n",
            "tf.Tensor(0, shape=(), dtype=int32)\n",
            "tf.Tensor(0, shape=(), dtype=int32)\n",
            "tf.Tensor(1, shape=(), dtype=int32)\n",
            "tf.Tensor(1, shape=(), dtype=int32)\n",
            "tf.Tensor(0, shape=(), dtype=int32)\n",
            "tf.Tensor(1, shape=(), dtype=int32)\n",
            "tf.Tensor(1, shape=(), dtype=int32)\n",
            "tf.Tensor(1, shape=(), dtype=int32)\n",
            "tf.Tensor(0, shape=(), dtype=int32)\n",
            "tf.Tensor(1, shape=(), dtype=int32)\n",
            "tf.Tensor(1, shape=(), dtype=int32)\n",
            "tf.Tensor(1, shape=(), dtype=int32)\n",
            "tf.Tensor(0, shape=(), dtype=int32)\n",
            "tf.Tensor(0, shape=(), dtype=int32)\n",
            "tf.Tensor(1, shape=(), dtype=int32)\n",
            "tf.Tensor(1, shape=(), dtype=int32)\n",
            "tf.Tensor(0, shape=(), dtype=int32)\n",
            "tf.Tensor(0, shape=(), dtype=int32)\n",
            "tf.Tensor(1, shape=(), dtype=int32)\n",
            "tf.Tensor(1, shape=(), dtype=int32)\n",
            "tf.Tensor(1, shape=(), dtype=int32)\n",
            "tf.Tensor(0, shape=(), dtype=int32)\n",
            "tf.Tensor(1, shape=(), dtype=int32)\n",
            "tf.Tensor(1, shape=(), dtype=int32)\n",
            "tf.Tensor(0, shape=(), dtype=int32)\n",
            "tf.Tensor(1, shape=(), dtype=int32)\n",
            "tf.Tensor(0, shape=(), dtype=int32)\n",
            "tf.Tensor(0, shape=(), dtype=int32)\n",
            "tf.Tensor(1, shape=(), dtype=int32)\n",
            "tf.Tensor(1, shape=(), dtype=int32)\n",
            "tf.Tensor(1, shape=(), dtype=int32)\n",
            "tf.Tensor(1, shape=(), dtype=int32)\n",
            "tf.Tensor(1, shape=(), dtype=int32)\n",
            "tf.Tensor(1, shape=(), dtype=int32)\n",
            "tf.Tensor(1, shape=(), dtype=int32)\n",
            "tf.Tensor(0, shape=(), dtype=int32)\n",
            "tf.Tensor(1, shape=(), dtype=int32)\n",
            "tf.Tensor(0, shape=(), dtype=int32)\n",
            "tf.Tensor(0, shape=(), dtype=int32)\n",
            "tf.Tensor(0, shape=(), dtype=int32)\n",
            "tf.Tensor(0, shape=(), dtype=int32)\n",
            "tf.Tensor(1, shape=(), dtype=int32)\n",
            "tf.Tensor(0, shape=(), dtype=int32)\n",
            "tf.Tensor(0, shape=(), dtype=int32)\n",
            "tf.Tensor(1, shape=(), dtype=int32)\n",
            "tf.Tensor(1, shape=(), dtype=int32)\n",
            "tf.Tensor(0, shape=(), dtype=int32)\n",
            "tf.Tensor(0, shape=(), dtype=int32)\n",
            "tf.Tensor(1, shape=(), dtype=int32)\n",
            "tf.Tensor(1, shape=(), dtype=int32)\n",
            "tf.Tensor(1, shape=(), dtype=int32)\n",
            "tf.Tensor(1, shape=(), dtype=int32)\n",
            "tf.Tensor(1, shape=(), dtype=int32)\n",
            "tf.Tensor(1, shape=(), dtype=int32)\n",
            "tf.Tensor(0, shape=(), dtype=int32)\n",
            "tf.Tensor(1, shape=(), dtype=int32)\n",
            "tf.Tensor(0, shape=(), dtype=int32)\n",
            "tf.Tensor(1, shape=(), dtype=int32)\n",
            "tf.Tensor(1, shape=(), dtype=int32)\n",
            "tf.Tensor(1, shape=(), dtype=int32)\n",
            "tf.Tensor(0, shape=(), dtype=int32)\n",
            "tf.Tensor(0, shape=(), dtype=int32)\n",
            "tf.Tensor(0, shape=(), dtype=int32)\n",
            "tf.Tensor(0, shape=(), dtype=int32)\n",
            "tf.Tensor(1, shape=(), dtype=int32)\n",
            "tf.Tensor(0, shape=(), dtype=int32)\n",
            "tf.Tensor(1, shape=(), dtype=int32)\n",
            "tf.Tensor(1, shape=(), dtype=int32)\n",
            "tf.Tensor(1, shape=(), dtype=int32)\n",
            "tf.Tensor(1, shape=(), dtype=int32)\n",
            "tf.Tensor(0, shape=(), dtype=int32)\n",
            "tf.Tensor(1, shape=(), dtype=int32)\n",
            "tf.Tensor(0, shape=(), dtype=int32)\n",
            "tf.Tensor(1, shape=(), dtype=int32)\n",
            "tf.Tensor(1, shape=(), dtype=int32)\n",
            "tf.Tensor(1, shape=(), dtype=int32)\n",
            "tf.Tensor(0, shape=(), dtype=int32)\n",
            "tf.Tensor(1, shape=(), dtype=int32)\n",
            "tf.Tensor(0, shape=(), dtype=int32)\n",
            "tf.Tensor(1, shape=(), dtype=int32)\n",
            "tf.Tensor(1, shape=(), dtype=int32)\n",
            "tf.Tensor(0, shape=(), dtype=int32)\n",
            "tf.Tensor(0, shape=(), dtype=int32)\n",
            "tf.Tensor(0, shape=(), dtype=int32)\n",
            "tf.Tensor(1, shape=(), dtype=int32)\n",
            "tf.Tensor(0, shape=(), dtype=int32)\n",
            "tf.Tensor(1, shape=(), dtype=int32)\n",
            "tf.Tensor(0, shape=(), dtype=int32)\n",
            "tf.Tensor(1, shape=(), dtype=int32)\n",
            "tf.Tensor(1, shape=(), dtype=int32)\n",
            "tf.Tensor(0, shape=(), dtype=int32)\n",
            "tf.Tensor(0, shape=(), dtype=int32)\n",
            "tf.Tensor(1, shape=(), dtype=int32)\n",
            "tf.Tensor(1, shape=(), dtype=int32)\n",
            "tf.Tensor(1, shape=(), dtype=int32)\n",
            "tf.Tensor(1, shape=(), dtype=int32)\n",
            "tf.Tensor(0, shape=(), dtype=int32)\n",
            "tf.Tensor(1, shape=(), dtype=int32)\n",
            "tf.Tensor(0, shape=(), dtype=int32)\n",
            "tf.Tensor(0, shape=(), dtype=int32)\n",
            "tf.Tensor(0, shape=(), dtype=int32)\n",
            "tf.Tensor(1, shape=(), dtype=int32)\n",
            "tf.Tensor(0, shape=(), dtype=int32)\n",
            "tf.Tensor(0, shape=(), dtype=int32)\n",
            "tf.Tensor(0, shape=(), dtype=int32)\n",
            "tf.Tensor(0, shape=(), dtype=int32)\n",
            "tf.Tensor(0, shape=(), dtype=int32)\n",
            "tf.Tensor(0, shape=(), dtype=int32)\n",
            "tf.Tensor(0, shape=(), dtype=int32)\n",
            "tf.Tensor(1, shape=(), dtype=int32)\n",
            "tf.Tensor(0, shape=(), dtype=int32)\n",
            "tf.Tensor(1, shape=(), dtype=int32)\n",
            "tf.Tensor(1, shape=(), dtype=int32)\n",
            "tf.Tensor(0, shape=(), dtype=int32)\n",
            "tf.Tensor(0, shape=(), dtype=int32)\n",
            "tf.Tensor(0, shape=(), dtype=int32)\n",
            "tf.Tensor(1, shape=(), dtype=int32)\n",
            "tf.Tensor(1, shape=(), dtype=int32)\n",
            "tf.Tensor(1, shape=(), dtype=int32)\n",
            "tf.Tensor(1, shape=(), dtype=int32)\n",
            "tf.Tensor(1, shape=(), dtype=int32)\n",
            "tf.Tensor(1, shape=(), dtype=int32)\n",
            "tf.Tensor(0, shape=(), dtype=int32)\n",
            "tf.Tensor(1, shape=(), dtype=int32)\n",
            "tf.Tensor(0, shape=(), dtype=int32)\n",
            "tf.Tensor(0, shape=(), dtype=int32)\n",
            "tf.Tensor(1, shape=(), dtype=int32)\n",
            "tf.Tensor(0, shape=(), dtype=int32)\n",
            "tf.Tensor(1, shape=(), dtype=int32)\n",
            "tf.Tensor(0, shape=(), dtype=int32)\n",
            "tf.Tensor(1, shape=(), dtype=int32)\n",
            "tf.Tensor(1, shape=(), dtype=int32)\n",
            "tf.Tensor(1, shape=(), dtype=int32)\n",
            "tf.Tensor(0, shape=(), dtype=int32)\n",
            "tf.Tensor(0, shape=(), dtype=int32)\n",
            "tf.Tensor(0, shape=(), dtype=int32)\n",
            "tf.Tensor(0, shape=(), dtype=int32)\n",
            "tf.Tensor(1, shape=(), dtype=int32)\n",
            "tf.Tensor(0, shape=(), dtype=int32)\n",
            "tf.Tensor(1, shape=(), dtype=int32)\n",
            "tf.Tensor(1, shape=(), dtype=int32)\n",
            "tf.Tensor(1, shape=(), dtype=int32)\n",
            "tf.Tensor(1, shape=(), dtype=int32)\n",
            "tf.Tensor(0, shape=(), dtype=int32)\n",
            "tf.Tensor(1, shape=(), dtype=int32)\n",
            "tf.Tensor(0, shape=(), dtype=int32)\n",
            "tf.Tensor(1, shape=(), dtype=int32)\n",
            "tf.Tensor(1, shape=(), dtype=int32)\n",
            "tf.Tensor(1, shape=(), dtype=int32)\n",
            "tf.Tensor(1, shape=(), dtype=int32)\n",
            "tf.Tensor(1, shape=(), dtype=int32)\n",
            "tf.Tensor(1, shape=(), dtype=int32)\n",
            "tf.Tensor(1, shape=(), dtype=int32)\n",
            "tf.Tensor(1, shape=(), dtype=int32)\n",
            "tf.Tensor(0, shape=(), dtype=int32)\n",
            "tf.Tensor(0, shape=(), dtype=int32)\n",
            "tf.Tensor(1, shape=(), dtype=int32)\n",
            "tf.Tensor(1, shape=(), dtype=int32)\n",
            "tf.Tensor(1, shape=(), dtype=int32)\n",
            "tf.Tensor(0, shape=(), dtype=int32)\n",
            "tf.Tensor(0, shape=(), dtype=int32)\n",
            "tf.Tensor(0, shape=(), dtype=int32)\n",
            "tf.Tensor(0, shape=(), dtype=int32)\n",
            "tf.Tensor(1, shape=(), dtype=int32)\n",
            "tf.Tensor(0, shape=(), dtype=int32)\n",
            "tf.Tensor(0, shape=(), dtype=int32)\n",
            "tf.Tensor(1, shape=(), dtype=int32)\n",
            "tf.Tensor(0, shape=(), dtype=int32)\n",
            "tf.Tensor(0, shape=(), dtype=int32)\n",
            "tf.Tensor(0, shape=(), dtype=int32)\n",
            "tf.Tensor(0, shape=(), dtype=int32)\n",
            "tf.Tensor(0, shape=(), dtype=int32)\n",
            "tf.Tensor(0, shape=(), dtype=int32)\n",
            "tf.Tensor(0, shape=(), dtype=int32)\n",
            "tf.Tensor(0, shape=(), dtype=int32)\n",
            "tf.Tensor(0, shape=(), dtype=int32)\n",
            "tf.Tensor(1, shape=(), dtype=int32)\n",
            "tf.Tensor(0, shape=(), dtype=int32)\n",
            "tf.Tensor(1, shape=(), dtype=int32)\n",
            "tf.Tensor(0, shape=(), dtype=int32)\n",
            "tf.Tensor(1, shape=(), dtype=int32)\n",
            "tf.Tensor(1, shape=(), dtype=int32)\n",
            "tf.Tensor(0, shape=(), dtype=int32)\n",
            "tf.Tensor(1, shape=(), dtype=int32)\n",
            "tf.Tensor(0, shape=(), dtype=int32)\n",
            "tf.Tensor(0, shape=(), dtype=int32)\n",
            "tf.Tensor(1, shape=(), dtype=int32)\n",
            "tf.Tensor(0, shape=(), dtype=int32)\n",
            "tf.Tensor(1, shape=(), dtype=int32)\n",
            "tf.Tensor(1, shape=(), dtype=int32)\n",
            "tf.Tensor(1, shape=(), dtype=int32)\n",
            "tf.Tensor(1, shape=(), dtype=int32)\n",
            "tf.Tensor(1, shape=(), dtype=int32)\n",
            "tf.Tensor(0, shape=(), dtype=int32)\n",
            "tf.Tensor(0, shape=(), dtype=int32)\n",
            "tf.Tensor(1, shape=(), dtype=int32)\n",
            "tf.Tensor(1, shape=(), dtype=int32)\n",
            "tf.Tensor(1, shape=(), dtype=int32)\n",
            "tf.Tensor(1, shape=(), dtype=int32)\n",
            "tf.Tensor(1, shape=(), dtype=int32)\n",
            "tf.Tensor(1, shape=(), dtype=int32)\n",
            "tf.Tensor(1, shape=(), dtype=int32)\n",
            "tf.Tensor(1, shape=(), dtype=int32)\n",
            "tf.Tensor(0, shape=(), dtype=int32)\n",
            "tf.Tensor(1, shape=(), dtype=int32)\n",
            "tf.Tensor(0, shape=(), dtype=int32)\n",
            "tf.Tensor(1, shape=(), dtype=int32)\n",
            "tf.Tensor(0, shape=(), dtype=int32)\n",
            "tf.Tensor(0, shape=(), dtype=int32)\n",
            "tf.Tensor(0, shape=(), dtype=int32)\n",
            "tf.Tensor(0, shape=(), dtype=int32)\n",
            "tf.Tensor(0, shape=(), dtype=int32)\n",
            "tf.Tensor(0, shape=(), dtype=int32)\n",
            "tf.Tensor(1, shape=(), dtype=int32)\n",
            "tf.Tensor(0, shape=(), dtype=int32)\n",
            "tf.Tensor(0, shape=(), dtype=int32)\n",
            "tf.Tensor(1, shape=(), dtype=int32)\n",
            "tf.Tensor(0, shape=(), dtype=int32)\n",
            "tf.Tensor(1, shape=(), dtype=int32)\n",
            "tf.Tensor(1, shape=(), dtype=int32)\n",
            "tf.Tensor(0, shape=(), dtype=int32)\n",
            "tf.Tensor(1, shape=(), dtype=int32)\n",
            "tf.Tensor(1, shape=(), dtype=int32)\n",
            "tf.Tensor(0, shape=(), dtype=int32)\n",
            "tf.Tensor(0, shape=(), dtype=int32)\n",
            "tf.Tensor(0, shape=(), dtype=int32)\n",
            "tf.Tensor(0, shape=(), dtype=int32)\n",
            "tf.Tensor(0, shape=(), dtype=int32)\n",
            "tf.Tensor(0, shape=(), dtype=int32)\n",
            "tf.Tensor(1, shape=(), dtype=int32)\n",
            "tf.Tensor(1, shape=(), dtype=int32)\n",
            "tf.Tensor(0, shape=(), dtype=int32)\n",
            "tf.Tensor(0, shape=(), dtype=int32)\n",
            "tf.Tensor(1, shape=(), dtype=int32)\n",
            "tf.Tensor(0, shape=(), dtype=int32)\n",
            "tf.Tensor(1, shape=(), dtype=int32)\n",
            "tf.Tensor(1, shape=(), dtype=int32)\n",
            "tf.Tensor(0, shape=(), dtype=int32)\n",
            "tf.Tensor(0, shape=(), dtype=int32)\n",
            "tf.Tensor(1, shape=(), dtype=int32)\n",
            "tf.Tensor(1, shape=(), dtype=int32)\n",
            "tf.Tensor(0, shape=(), dtype=int32)\n",
            "tf.Tensor(1, shape=(), dtype=int32)\n",
            "tf.Tensor(1, shape=(), dtype=int32)\n",
            "tf.Tensor(1, shape=(), dtype=int32)\n",
            "tf.Tensor(0, shape=(), dtype=int32)\n",
            "tf.Tensor(0, shape=(), dtype=int32)\n",
            "tf.Tensor(0, shape=(), dtype=int32)\n",
            "tf.Tensor(1, shape=(), dtype=int32)\n",
            "tf.Tensor(0, shape=(), dtype=int32)\n",
            "tf.Tensor(0, shape=(), dtype=int32)\n",
            "tf.Tensor(1, shape=(), dtype=int32)\n",
            "tf.Tensor(0, shape=(), dtype=int32)\n",
            "tf.Tensor(0, shape=(), dtype=int32)\n",
            "tf.Tensor(1, shape=(), dtype=int32)\n",
            "tf.Tensor(1, shape=(), dtype=int32)\n",
            "tf.Tensor(1, shape=(), dtype=int32)\n",
            "tf.Tensor(1, shape=(), dtype=int32)\n",
            "tf.Tensor(1, shape=(), dtype=int32)\n",
            "tf.Tensor(1, shape=(), dtype=int32)\n",
            "tf.Tensor(1, shape=(), dtype=int32)\n",
            "tf.Tensor(1, shape=(), dtype=int32)\n",
            "tf.Tensor(1, shape=(), dtype=int32)\n",
            "tf.Tensor(1, shape=(), dtype=int32)\n",
            "tf.Tensor(1, shape=(), dtype=int32)\n",
            "tf.Tensor(0, shape=(), dtype=int32)\n",
            "tf.Tensor(1, shape=(), dtype=int32)\n",
            "tf.Tensor(0, shape=(), dtype=int32)\n",
            "tf.Tensor(0, shape=(), dtype=int32)\n",
            "tf.Tensor(0, shape=(), dtype=int32)\n",
            "tf.Tensor(1, shape=(), dtype=int32)\n",
            "tf.Tensor(0, shape=(), dtype=int32)\n",
            "tf.Tensor(0, shape=(), dtype=int32)\n",
            "tf.Tensor(1, shape=(), dtype=int32)\n",
            "tf.Tensor(0, shape=(), dtype=int32)\n",
            "tf.Tensor(0, shape=(), dtype=int32)\n",
            "tf.Tensor(1, shape=(), dtype=int32)\n",
            "tf.Tensor(0, shape=(), dtype=int32)\n",
            "tf.Tensor(1, shape=(), dtype=int32)\n",
            "tf.Tensor(0, shape=(), dtype=int32)\n",
            "tf.Tensor(0, shape=(), dtype=int32)\n",
            "tf.Tensor(1, shape=(), dtype=int32)\n",
            "tf.Tensor(0, shape=(), dtype=int32)\n",
            "tf.Tensor(1, shape=(), dtype=int32)\n",
            "tf.Tensor(1, shape=(), dtype=int32)\n",
            "tf.Tensor(0, shape=(), dtype=int32)\n",
            "tf.Tensor(1, shape=(), dtype=int32)\n",
            "tf.Tensor(0, shape=(), dtype=int32)\n",
            "tf.Tensor(1, shape=(), dtype=int32)\n",
            "tf.Tensor(0, shape=(), dtype=int32)\n",
            "tf.Tensor(0, shape=(), dtype=int32)\n",
            "tf.Tensor(0, shape=(), dtype=int32)\n",
            "tf.Tensor(1, shape=(), dtype=int32)\n",
            "tf.Tensor(1, shape=(), dtype=int32)\n",
            "tf.Tensor(1, shape=(), dtype=int32)\n",
            "tf.Tensor(1, shape=(), dtype=int32)\n",
            "tf.Tensor(0, shape=(), dtype=int32)\n",
            "tf.Tensor(0, shape=(), dtype=int32)\n",
            "tf.Tensor(1, shape=(), dtype=int32)\n",
            "tf.Tensor(0, shape=(), dtype=int32)\n",
            "tf.Tensor(0, shape=(), dtype=int32)\n",
            "tf.Tensor(1, shape=(), dtype=int32)\n",
            "tf.Tensor(0, shape=(), dtype=int32)\n",
            "tf.Tensor(0, shape=(), dtype=int32)\n",
            "tf.Tensor(1, shape=(), dtype=int32)\n",
            "tf.Tensor(0, shape=(), dtype=int32)\n",
            "tf.Tensor(1, shape=(), dtype=int32)\n",
            "tf.Tensor(0, shape=(), dtype=int32)\n",
            "tf.Tensor(0, shape=(), dtype=int32)\n",
            "tf.Tensor(1, shape=(), dtype=int32)\n",
            "tf.Tensor(1, shape=(), dtype=int32)\n",
            "tf.Tensor(0, shape=(), dtype=int32)\n",
            "tf.Tensor(0, shape=(), dtype=int32)\n",
            "tf.Tensor(0, shape=(), dtype=int32)\n",
            "tf.Tensor(1, shape=(), dtype=int32)\n",
            "tf.Tensor(1, shape=(), dtype=int32)\n",
            "tf.Tensor(0, shape=(), dtype=int32)\n",
            "tf.Tensor(0, shape=(), dtype=int32)\n",
            "tf.Tensor(1, shape=(), dtype=int32)\n",
            "tf.Tensor(1, shape=(), dtype=int32)\n",
            "tf.Tensor(0, shape=(), dtype=int32)\n",
            "tf.Tensor(1, shape=(), dtype=int32)\n",
            "tf.Tensor(0, shape=(), dtype=int32)\n",
            "tf.Tensor(0, shape=(), dtype=int32)\n",
            "tf.Tensor(0, shape=(), dtype=int32)\n",
            "tf.Tensor(1, shape=(), dtype=int32)\n",
            "tf.Tensor(0, shape=(), dtype=int32)\n",
            "tf.Tensor(1, shape=(), dtype=int32)\n",
            "tf.Tensor(1, shape=(), dtype=int32)\n",
            "tf.Tensor(1, shape=(), dtype=int32)\n",
            "tf.Tensor(1, shape=(), dtype=int32)\n",
            "tf.Tensor(0, shape=(), dtype=int32)\n",
            "tf.Tensor(1, shape=(), dtype=int32)\n",
            "tf.Tensor(0, shape=(), dtype=int32)\n",
            "tf.Tensor(0, shape=(), dtype=int32)\n",
            "tf.Tensor(1, shape=(), dtype=int32)\n",
            "tf.Tensor(0, shape=(), dtype=int32)\n",
            "tf.Tensor(0, shape=(), dtype=int32)\n",
            "tf.Tensor(0, shape=(), dtype=int32)\n",
            "tf.Tensor(0, shape=(), dtype=int32)\n",
            "tf.Tensor(1, shape=(), dtype=int32)\n",
            "tf.Tensor(1, shape=(), dtype=int32)\n",
            "tf.Tensor(0, shape=(), dtype=int32)\n",
            "tf.Tensor(0, shape=(), dtype=int32)\n",
            "tf.Tensor(1, shape=(), dtype=int32)\n",
            "tf.Tensor(1, shape=(), dtype=int32)\n",
            "tf.Tensor(0, shape=(), dtype=int32)\n",
            "tf.Tensor(1, shape=(), dtype=int32)\n",
            "tf.Tensor(0, shape=(), dtype=int32)\n",
            "tf.Tensor(0, shape=(), dtype=int32)\n",
            "tf.Tensor(1, shape=(), dtype=int32)\n",
            "tf.Tensor(1, shape=(), dtype=int32)\n",
            "tf.Tensor(0, shape=(), dtype=int32)\n",
            "tf.Tensor(1, shape=(), dtype=int32)\n",
            "tf.Tensor(1, shape=(), dtype=int32)\n",
            "tf.Tensor(1, shape=(), dtype=int32)\n",
            "tf.Tensor(1, shape=(), dtype=int32)\n",
            "tf.Tensor(0, shape=(), dtype=int32)\n",
            "tf.Tensor(1, shape=(), dtype=int32)\n",
            "tf.Tensor(0, shape=(), dtype=int32)\n",
            "tf.Tensor(1, shape=(), dtype=int32)\n",
            "tf.Tensor(0, shape=(), dtype=int32)\n",
            "tf.Tensor(1, shape=(), dtype=int32)\n",
            "tf.Tensor(1, shape=(), dtype=int32)\n",
            "tf.Tensor(1, shape=(), dtype=int32)\n",
            "tf.Tensor(0, shape=(), dtype=int32)\n",
            "tf.Tensor(1, shape=(), dtype=int32)\n",
            "tf.Tensor(0, shape=(), dtype=int32)\n",
            "tf.Tensor(1, shape=(), dtype=int32)\n",
            "tf.Tensor(0, shape=(), dtype=int32)\n",
            "tf.Tensor(0, shape=(), dtype=int32)\n",
            "tf.Tensor(1, shape=(), dtype=int32)\n",
            "tf.Tensor(1, shape=(), dtype=int32)\n",
            "tf.Tensor(1, shape=(), dtype=int32)\n",
            "tf.Tensor(1, shape=(), dtype=int32)\n",
            "tf.Tensor(0, shape=(), dtype=int32)\n",
            "tf.Tensor(0, shape=(), dtype=int32)\n",
            "tf.Tensor(1, shape=(), dtype=int32)\n",
            "tf.Tensor(0, shape=(), dtype=int32)\n",
            "tf.Tensor(1, shape=(), dtype=int32)\n",
            "tf.Tensor(1, shape=(), dtype=int32)\n",
            "tf.Tensor(1, shape=(), dtype=int32)\n",
            "tf.Tensor(1, shape=(), dtype=int32)\n",
            "tf.Tensor(0, shape=(), dtype=int32)\n",
            "tf.Tensor(0, shape=(), dtype=int32)\n",
            "tf.Tensor(1, shape=(), dtype=int32)\n",
            "tf.Tensor(0, shape=(), dtype=int32)\n",
            "tf.Tensor(1, shape=(), dtype=int32)\n",
            "tf.Tensor(0, shape=(), dtype=int32)\n",
            "tf.Tensor(0, shape=(), dtype=int32)\n",
            "tf.Tensor(0, shape=(), dtype=int32)\n",
            "tf.Tensor(1, shape=(), dtype=int32)\n",
            "tf.Tensor(1, shape=(), dtype=int32)\n",
            "tf.Tensor(1, shape=(), dtype=int32)\n",
            "tf.Tensor(1, shape=(), dtype=int32)\n",
            "tf.Tensor(0, shape=(), dtype=int32)\n",
            "tf.Tensor(0, shape=(), dtype=int32)\n",
            "tf.Tensor(0, shape=(), dtype=int32)\n",
            "tf.Tensor(1, shape=(), dtype=int32)\n",
            "tf.Tensor(1, shape=(), dtype=int32)\n",
            "tf.Tensor(1, shape=(), dtype=int32)\n",
            "tf.Tensor(0, shape=(), dtype=int32)\n",
            "tf.Tensor(0, shape=(), dtype=int32)\n",
            "tf.Tensor(1, shape=(), dtype=int32)\n",
            "tf.Tensor(1, shape=(), dtype=int32)\n",
            "tf.Tensor(0, shape=(), dtype=int32)\n",
            "tf.Tensor(1, shape=(), dtype=int32)\n",
            "tf.Tensor(0, shape=(), dtype=int32)\n",
            "tf.Tensor(0, shape=(), dtype=int32)\n",
            "tf.Tensor(0, shape=(), dtype=int32)\n",
            "tf.Tensor(1, shape=(), dtype=int32)\n",
            "tf.Tensor(1, shape=(), dtype=int32)\n",
            "tf.Tensor(1, shape=(), dtype=int32)\n",
            "tf.Tensor(1, shape=(), dtype=int32)\n",
            "tf.Tensor(0, shape=(), dtype=int32)\n",
            "tf.Tensor(0, shape=(), dtype=int32)\n",
            "tf.Tensor(0, shape=(), dtype=int32)\n",
            "tf.Tensor(0, shape=(), dtype=int32)\n",
            "tf.Tensor(1, shape=(), dtype=int32)\n",
            "tf.Tensor(0, shape=(), dtype=int32)\n",
            "tf.Tensor(0, shape=(), dtype=int32)\n",
            "tf.Tensor(1, shape=(), dtype=int32)\n",
            "tf.Tensor(0, shape=(), dtype=int32)\n",
            "tf.Tensor(1, shape=(), dtype=int32)\n",
            "tf.Tensor(1, shape=(), dtype=int32)\n",
            "tf.Tensor(0, shape=(), dtype=int32)\n",
            "tf.Tensor(0, shape=(), dtype=int32)\n",
            "tf.Tensor(1, shape=(), dtype=int32)\n",
            "tf.Tensor(0, shape=(), dtype=int32)\n",
            "tf.Tensor(1, shape=(), dtype=int32)\n",
            "tf.Tensor(1, shape=(), dtype=int32)\n",
            "tf.Tensor(1, shape=(), dtype=int32)\n",
            "tf.Tensor(0, shape=(), dtype=int32)\n",
            "tf.Tensor(0, shape=(), dtype=int32)\n",
            "tf.Tensor(1, shape=(), dtype=int32)\n",
            "tf.Tensor(1, shape=(), dtype=int32)\n",
            "tf.Tensor(1, shape=(), dtype=int32)\n",
            "tf.Tensor(0, shape=(), dtype=int32)\n",
            "tf.Tensor(0, shape=(), dtype=int32)\n",
            "tf.Tensor(0, shape=(), dtype=int32)\n",
            "tf.Tensor(0, shape=(), dtype=int32)\n",
            "tf.Tensor(0, shape=(), dtype=int32)\n",
            "tf.Tensor(0, shape=(), dtype=int32)\n",
            "tf.Tensor(0, shape=(), dtype=int32)\n",
            "tf.Tensor(0, shape=(), dtype=int32)\n",
            "tf.Tensor(0, shape=(), dtype=int32)\n",
            "tf.Tensor(0, shape=(), dtype=int32)\n",
            "tf.Tensor(0, shape=(), dtype=int32)\n",
            "tf.Tensor(0, shape=(), dtype=int32)\n",
            "tf.Tensor(1, shape=(), dtype=int32)\n",
            "tf.Tensor(1, shape=(), dtype=int32)\n",
            "tf.Tensor(1, shape=(), dtype=int32)\n",
            "tf.Tensor(0, shape=(), dtype=int32)\n",
            "tf.Tensor(0, shape=(), dtype=int32)\n",
            "tf.Tensor(0, shape=(), dtype=int32)\n",
            "tf.Tensor(1, shape=(), dtype=int32)\n",
            "tf.Tensor(0, shape=(), dtype=int32)\n",
            "tf.Tensor(1, shape=(), dtype=int32)\n",
            "tf.Tensor(0, shape=(), dtype=int32)\n",
            "tf.Tensor(0, shape=(), dtype=int32)\n",
            "tf.Tensor(1, shape=(), dtype=int32)\n",
            "tf.Tensor(0, shape=(), dtype=int32)\n",
            "tf.Tensor(1, shape=(), dtype=int32)\n",
            "tf.Tensor(1, shape=(), dtype=int32)\n",
            "tf.Tensor(1, shape=(), dtype=int32)\n",
            "tf.Tensor(0, shape=(), dtype=int32)\n",
            "tf.Tensor(0, shape=(), dtype=int32)\n",
            "tf.Tensor(0, shape=(), dtype=int32)\n",
            "tf.Tensor(1, shape=(), dtype=int32)\n",
            "tf.Tensor(0, shape=(), dtype=int32)\n",
            "tf.Tensor(0, shape=(), dtype=int32)\n",
            "tf.Tensor(0, shape=(), dtype=int32)\n",
            "tf.Tensor(0, shape=(), dtype=int32)\n",
            "tf.Tensor(1, shape=(), dtype=int32)\n",
            "tf.Tensor(0, shape=(), dtype=int32)\n",
            "tf.Tensor(0, shape=(), dtype=int32)\n",
            "tf.Tensor(0, shape=(), dtype=int32)\n",
            "tf.Tensor(0, shape=(), dtype=int32)\n",
            "tf.Tensor(0, shape=(), dtype=int32)\n",
            "tf.Tensor(1, shape=(), dtype=int32)\n",
            "tf.Tensor(1, shape=(), dtype=int32)\n",
            "tf.Tensor(1, shape=(), dtype=int32)\n",
            "tf.Tensor(1, shape=(), dtype=int32)\n",
            "tf.Tensor(0, shape=(), dtype=int32)\n",
            "tf.Tensor(1, shape=(), dtype=int32)\n",
            "tf.Tensor(0, shape=(), dtype=int32)\n",
            "tf.Tensor(0, shape=(), dtype=int32)\n",
            "tf.Tensor(0, shape=(), dtype=int32)\n",
            "tf.Tensor(0, shape=(), dtype=int32)\n",
            "tf.Tensor(0, shape=(), dtype=int32)\n",
            "tf.Tensor(0, shape=(), dtype=int32)\n",
            "tf.Tensor(0, shape=(), dtype=int32)\n",
            "tf.Tensor(0, shape=(), dtype=int32)\n",
            "tf.Tensor(0, shape=(), dtype=int32)\n",
            "tf.Tensor(0, shape=(), dtype=int32)\n",
            "tf.Tensor(0, shape=(), dtype=int32)\n",
            "tf.Tensor(0, shape=(), dtype=int32)\n",
            "tf.Tensor(0, shape=(), dtype=int32)\n",
            "tf.Tensor(0, shape=(), dtype=int32)\n",
            "tf.Tensor(0, shape=(), dtype=int32)\n",
            "tf.Tensor(1, shape=(), dtype=int32)\n",
            "tf.Tensor(0, shape=(), dtype=int32)\n",
            "tf.Tensor(1, shape=(), dtype=int32)\n",
            "tf.Tensor(1, shape=(), dtype=int32)\n",
            "tf.Tensor(0, shape=(), dtype=int32)\n",
            "tf.Tensor(0, shape=(), dtype=int32)\n",
            "tf.Tensor(0, shape=(), dtype=int32)\n",
            "tf.Tensor(0, shape=(), dtype=int32)\n",
            "tf.Tensor(0, shape=(), dtype=int32)\n",
            "tf.Tensor(0, shape=(), dtype=int32)\n",
            "tf.Tensor(0, shape=(), dtype=int32)\n",
            "tf.Tensor(0, shape=(), dtype=int32)\n",
            "tf.Tensor(0, shape=(), dtype=int32)\n",
            "tf.Tensor(0, shape=(), dtype=int32)\n",
            "tf.Tensor(1, shape=(), dtype=int32)\n",
            "tf.Tensor(0, shape=(), dtype=int32)\n",
            "tf.Tensor(0, shape=(), dtype=int32)\n",
            "tf.Tensor(1, shape=(), dtype=int32)\n",
            "tf.Tensor(0, shape=(), dtype=int32)\n",
            "tf.Tensor(0, shape=(), dtype=int32)\n",
            "tf.Tensor(0, shape=(), dtype=int32)\n",
            "tf.Tensor(1, shape=(), dtype=int32)\n",
            "tf.Tensor(0, shape=(), dtype=int32)\n",
            "tf.Tensor(0, shape=(), dtype=int32)\n",
            "tf.Tensor(0, shape=(), dtype=int32)\n",
            "tf.Tensor(0, shape=(), dtype=int32)\n",
            "tf.Tensor(0, shape=(), dtype=int32)\n",
            "tf.Tensor(1, shape=(), dtype=int32)\n",
            "tf.Tensor(1, shape=(), dtype=int32)\n",
            "tf.Tensor(0, shape=(), dtype=int32)\n",
            "tf.Tensor(1, shape=(), dtype=int32)\n",
            "tf.Tensor(0, shape=(), dtype=int32)\n",
            "tf.Tensor(0, shape=(), dtype=int32)\n",
            "tf.Tensor(1, shape=(), dtype=int32)\n",
            "tf.Tensor(0, shape=(), dtype=int32)\n",
            "tf.Tensor(1, shape=(), dtype=int32)\n",
            "tf.Tensor(1, shape=(), dtype=int32)\n",
            "tf.Tensor(0, shape=(), dtype=int32)\n",
            "tf.Tensor(1, shape=(), dtype=int32)\n",
            "tf.Tensor(0, shape=(), dtype=int32)\n",
            "tf.Tensor(0, shape=(), dtype=int32)\n",
            "tf.Tensor(1, shape=(), dtype=int32)\n",
            "tf.Tensor(0, shape=(), dtype=int32)\n",
            "tf.Tensor(0, shape=(), dtype=int32)\n",
            "tf.Tensor(1, shape=(), dtype=int32)\n",
            "tf.Tensor(0, shape=(), dtype=int32)\n",
            "tf.Tensor(1, shape=(), dtype=int32)\n",
            "tf.Tensor(0, shape=(), dtype=int32)\n",
            "tf.Tensor(1, shape=(), dtype=int32)\n",
            "tf.Tensor(1, shape=(), dtype=int32)\n",
            "tf.Tensor(1, shape=(), dtype=int32)\n",
            "tf.Tensor(0, shape=(), dtype=int32)\n",
            "tf.Tensor(1, shape=(), dtype=int32)\n",
            "tf.Tensor(1, shape=(), dtype=int32)\n",
            "tf.Tensor(0, shape=(), dtype=int32)\n",
            "tf.Tensor(1, shape=(), dtype=int32)\n",
            "tf.Tensor(0, shape=(), dtype=int32)\n",
            "tf.Tensor(1, shape=(), dtype=int32)\n",
            "tf.Tensor(0, shape=(), dtype=int32)\n",
            "tf.Tensor(1, shape=(), dtype=int32)\n",
            "tf.Tensor(1, shape=(), dtype=int32)\n",
            "tf.Tensor(0, shape=(), dtype=int32)\n",
            "tf.Tensor(1, shape=(), dtype=int32)\n",
            "tf.Tensor(1, shape=(), dtype=int32)\n",
            "tf.Tensor(1, shape=(), dtype=int32)\n",
            "tf.Tensor(1, shape=(), dtype=int32)\n",
            "tf.Tensor(1, shape=(), dtype=int32)\n",
            "tf.Tensor(1, shape=(), dtype=int32)\n",
            "tf.Tensor(0, shape=(), dtype=int32)\n",
            "tf.Tensor(1, shape=(), dtype=int32)\n",
            "tf.Tensor(1, shape=(), dtype=int32)\n",
            "tf.Tensor(0, shape=(), dtype=int32)\n",
            "tf.Tensor(0, shape=(), dtype=int32)\n",
            "tf.Tensor(1, shape=(), dtype=int32)\n",
            "tf.Tensor(0, shape=(), dtype=int32)\n",
            "tf.Tensor(1, shape=(), dtype=int32)\n",
            "tf.Tensor(1, shape=(), dtype=int32)\n",
            "tf.Tensor(1, shape=(), dtype=int32)\n",
            "tf.Tensor(1, shape=(), dtype=int32)\n",
            "tf.Tensor(0, shape=(), dtype=int32)\n",
            "tf.Tensor(0, shape=(), dtype=int32)\n",
            "tf.Tensor(1, shape=(), dtype=int32)\n",
            "tf.Tensor(0, shape=(), dtype=int32)\n",
            "tf.Tensor(0, shape=(), dtype=int32)\n",
            "tf.Tensor(1, shape=(), dtype=int32)\n",
            "tf.Tensor(0, shape=(), dtype=int32)\n",
            "tf.Tensor(1, shape=(), dtype=int32)\n",
            "tf.Tensor(1, shape=(), dtype=int32)\n",
            "tf.Tensor(0, shape=(), dtype=int32)\n",
            "tf.Tensor(0, shape=(), dtype=int32)\n",
            "tf.Tensor(1, shape=(), dtype=int32)\n",
            "tf.Tensor(1, shape=(), dtype=int32)\n",
            "tf.Tensor(0, shape=(), dtype=int32)\n",
            "tf.Tensor(0, shape=(), dtype=int32)\n",
            "tf.Tensor(0, shape=(), dtype=int32)\n",
            "tf.Tensor(0, shape=(), dtype=int32)\n",
            "tf.Tensor(1, shape=(), dtype=int32)\n",
            "tf.Tensor(0, shape=(), dtype=int32)\n",
            "tf.Tensor(1, shape=(), dtype=int32)\n",
            "tf.Tensor(1, shape=(), dtype=int32)\n",
            "tf.Tensor(1, shape=(), dtype=int32)\n",
            "tf.Tensor(1, shape=(), dtype=int32)\n",
            "tf.Tensor(1, shape=(), dtype=int32)\n",
            "tf.Tensor(0, shape=(), dtype=int32)\n",
            "tf.Tensor(0, shape=(), dtype=int32)\n",
            "tf.Tensor(1, shape=(), dtype=int32)\n",
            "tf.Tensor(0, shape=(), dtype=int32)\n",
            "tf.Tensor(1, shape=(), dtype=int32)\n",
            "tf.Tensor(0, shape=(), dtype=int32)\n",
            "tf.Tensor(0, shape=(), dtype=int32)\n",
            "tf.Tensor(1, shape=(), dtype=int32)\n",
            "tf.Tensor(1, shape=(), dtype=int32)\n",
            "tf.Tensor(1, shape=(), dtype=int32)\n",
            "tf.Tensor(1, shape=(), dtype=int32)\n",
            "tf.Tensor(0, shape=(), dtype=int32)\n",
            "tf.Tensor(1, shape=(), dtype=int32)\n",
            "tf.Tensor(0, shape=(), dtype=int32)\n",
            "tf.Tensor(1, shape=(), dtype=int32)\n",
            "tf.Tensor(0, shape=(), dtype=int32)\n",
            "tf.Tensor(1, shape=(), dtype=int32)\n",
            "tf.Tensor(0, shape=(), dtype=int32)\n",
            "tf.Tensor(0, shape=(), dtype=int32)\n",
            "tf.Tensor(0, shape=(), dtype=int32)\n",
            "tf.Tensor(1, shape=(), dtype=int32)\n",
            "tf.Tensor(0, shape=(), dtype=int32)\n",
            "tf.Tensor(1, shape=(), dtype=int32)\n",
            "tf.Tensor(1, shape=(), dtype=int32)\n",
            "tf.Tensor(0, shape=(), dtype=int32)\n",
            "tf.Tensor(1, shape=(), dtype=int32)\n",
            "tf.Tensor(0, shape=(), dtype=int32)\n",
            "tf.Tensor(1, shape=(), dtype=int32)\n",
            "tf.Tensor(0, shape=(), dtype=int32)\n",
            "tf.Tensor(0, shape=(), dtype=int32)\n",
            "tf.Tensor(1, shape=(), dtype=int32)\n",
            "tf.Tensor(1, shape=(), dtype=int32)\n",
            "tf.Tensor(0, shape=(), dtype=int32)\n",
            "tf.Tensor(1, shape=(), dtype=int32)\n",
            "tf.Tensor(0, shape=(), dtype=int32)\n",
            "tf.Tensor(1, shape=(), dtype=int32)\n",
            "tf.Tensor(0, shape=(), dtype=int32)\n",
            "tf.Tensor(0, shape=(), dtype=int32)\n",
            "tf.Tensor(0, shape=(), dtype=int32)\n",
            "tf.Tensor(0, shape=(), dtype=int32)\n",
            "tf.Tensor(0, shape=(), dtype=int32)\n",
            "tf.Tensor(1, shape=(), dtype=int32)\n",
            "tf.Tensor(1, shape=(), dtype=int32)\n",
            "tf.Tensor(1, shape=(), dtype=int32)\n",
            "tf.Tensor(0, shape=(), dtype=int32)\n",
            "tf.Tensor(1, shape=(), dtype=int32)\n",
            "tf.Tensor(1, shape=(), dtype=int32)\n",
            "tf.Tensor(1, shape=(), dtype=int32)\n",
            "tf.Tensor(1, shape=(), dtype=int32)\n",
            "tf.Tensor(1, shape=(), dtype=int32)\n",
            "tf.Tensor(0, shape=(), dtype=int32)\n",
            "tf.Tensor(0, shape=(), dtype=int32)\n",
            "tf.Tensor(1, shape=(), dtype=int32)\n",
            "tf.Tensor(0, shape=(), dtype=int32)\n",
            "tf.Tensor(1, shape=(), dtype=int32)\n",
            "tf.Tensor(0, shape=(), dtype=int32)\n",
            "tf.Tensor(1, shape=(), dtype=int32)\n",
            "tf.Tensor(0, shape=(), dtype=int32)\n",
            "tf.Tensor(0, shape=(), dtype=int32)\n",
            "tf.Tensor(1, shape=(), dtype=int32)\n",
            "tf.Tensor(0, shape=(), dtype=int32)\n",
            "tf.Tensor(1, shape=(), dtype=int32)\n",
            "tf.Tensor(1, shape=(), dtype=int32)\n",
            "tf.Tensor(1, shape=(), dtype=int32)\n",
            "tf.Tensor(1, shape=(), dtype=int32)\n",
            "tf.Tensor(1, shape=(), dtype=int32)\n",
            "tf.Tensor(0, shape=(), dtype=int32)\n",
            "tf.Tensor(0, shape=(), dtype=int32)\n",
            "tf.Tensor(1, shape=(), dtype=int32)\n",
            "tf.Tensor(0, shape=(), dtype=int32)\n",
            "tf.Tensor(0, shape=(), dtype=int32)\n",
            "tf.Tensor(1, shape=(), dtype=int32)\n",
            "tf.Tensor(1, shape=(), dtype=int32)\n",
            "tf.Tensor(1, shape=(), dtype=int32)\n",
            "tf.Tensor(1, shape=(), dtype=int32)\n",
            "tf.Tensor(0, shape=(), dtype=int32)\n",
            "tf.Tensor(1, shape=(), dtype=int32)\n",
            "tf.Tensor(1, shape=(), dtype=int32)\n",
            "tf.Tensor(1, shape=(), dtype=int32)\n",
            "tf.Tensor(0, shape=(), dtype=int32)\n",
            "tf.Tensor(1, shape=(), dtype=int32)\n",
            "tf.Tensor(1, shape=(), dtype=int32)\n",
            "tf.Tensor(0, shape=(), dtype=int32)\n",
            "tf.Tensor(0, shape=(), dtype=int32)\n",
            "tf.Tensor(0, shape=(), dtype=int32)\n",
            "tf.Tensor(1, shape=(), dtype=int32)\n",
            "tf.Tensor(1, shape=(), dtype=int32)\n",
            "tf.Tensor(1, shape=(), dtype=int32)\n",
            "tf.Tensor(0, shape=(), dtype=int32)\n",
            "tf.Tensor(0, shape=(), dtype=int32)\n",
            "tf.Tensor(0, shape=(), dtype=int32)\n",
            "tf.Tensor(1, shape=(), dtype=int32)\n",
            "tf.Tensor(0, shape=(), dtype=int32)\n",
            "tf.Tensor(1, shape=(), dtype=int32)\n",
            "tf.Tensor(1, shape=(), dtype=int32)\n",
            "tf.Tensor(0, shape=(), dtype=int32)\n",
            "tf.Tensor(1, shape=(), dtype=int32)\n",
            "tf.Tensor(1, shape=(), dtype=int32)\n",
            "tf.Tensor(1, shape=(), dtype=int32)\n",
            "tf.Tensor(0, shape=(), dtype=int32)\n",
            "tf.Tensor(0, shape=(), dtype=int32)\n",
            "tf.Tensor(0, shape=(), dtype=int32)\n",
            "tf.Tensor(0, shape=(), dtype=int32)\n",
            "tf.Tensor(1, shape=(), dtype=int32)\n",
            "tf.Tensor(1, shape=(), dtype=int32)\n",
            "tf.Tensor(1, shape=(), dtype=int32)\n",
            "tf.Tensor(1, shape=(), dtype=int32)\n",
            "tf.Tensor(0, shape=(), dtype=int32)\n",
            "tf.Tensor(1, shape=(), dtype=int32)\n",
            "tf.Tensor(0, shape=(), dtype=int32)\n",
            "tf.Tensor(1, shape=(), dtype=int32)\n",
            "tf.Tensor(0, shape=(), dtype=int32)\n",
            "tf.Tensor(0, shape=(), dtype=int32)\n",
            "tf.Tensor(0, shape=(), dtype=int32)\n",
            "tf.Tensor(0, shape=(), dtype=int32)\n",
            "tf.Tensor(0, shape=(), dtype=int32)\n",
            "tf.Tensor(0, shape=(), dtype=int32)\n",
            "tf.Tensor(1, shape=(), dtype=int32)\n",
            "tf.Tensor(1, shape=(), dtype=int32)\n",
            "tf.Tensor(1, shape=(), dtype=int32)\n",
            "tf.Tensor(0, shape=(), dtype=int32)\n",
            "tf.Tensor(0, shape=(), dtype=int32)\n",
            "tf.Tensor(0, shape=(), dtype=int32)\n",
            "tf.Tensor(0, shape=(), dtype=int32)\n",
            "tf.Tensor(0, shape=(), dtype=int32)\n",
            "tf.Tensor(1, shape=(), dtype=int32)\n",
            "tf.Tensor(1, shape=(), dtype=int32)\n",
            "tf.Tensor(1, shape=(), dtype=int32)\n",
            "tf.Tensor(0, shape=(), dtype=int32)\n",
            "tf.Tensor(0, shape=(), dtype=int32)\n",
            "tf.Tensor(1, shape=(), dtype=int32)\n",
            "tf.Tensor(0, shape=(), dtype=int32)\n",
            "tf.Tensor(0, shape=(), dtype=int32)\n",
            "tf.Tensor(0, shape=(), dtype=int32)\n",
            "tf.Tensor(0, shape=(), dtype=int32)\n",
            "tf.Tensor(1, shape=(), dtype=int32)\n",
            "tf.Tensor(0, shape=(), dtype=int32)\n",
            "tf.Tensor(1, shape=(), dtype=int32)\n",
            "tf.Tensor(1, shape=(), dtype=int32)\n",
            "tf.Tensor(0, shape=(), dtype=int32)\n",
            "tf.Tensor(0, shape=(), dtype=int32)\n",
            "tf.Tensor(0, shape=(), dtype=int32)\n",
            "tf.Tensor(0, shape=(), dtype=int32)\n",
            "tf.Tensor(1, shape=(), dtype=int32)\n",
            "tf.Tensor(0, shape=(), dtype=int32)\n",
            "tf.Tensor(0, shape=(), dtype=int32)\n",
            "tf.Tensor(0, shape=(), dtype=int32)\n",
            "tf.Tensor(1, shape=(), dtype=int32)\n",
            "tf.Tensor(0, shape=(), dtype=int32)\n",
            "tf.Tensor(1, shape=(), dtype=int32)\n",
            "tf.Tensor(1, shape=(), dtype=int32)\n",
            "tf.Tensor(0, shape=(), dtype=int32)\n",
            "tf.Tensor(1, shape=(), dtype=int32)\n",
            "tf.Tensor(0, shape=(), dtype=int32)\n",
            "tf.Tensor(1, shape=(), dtype=int32)\n",
            "tf.Tensor(0, shape=(), dtype=int32)\n",
            "tf.Tensor(0, shape=(), dtype=int32)\n",
            "tf.Tensor(0, shape=(), dtype=int32)\n",
            "tf.Tensor(1, shape=(), dtype=int32)\n",
            "tf.Tensor(1, shape=(), dtype=int32)\n",
            "tf.Tensor(1, shape=(), dtype=int32)\n",
            "tf.Tensor(0, shape=(), dtype=int32)\n",
            "tf.Tensor(1, shape=(), dtype=int32)\n",
            "tf.Tensor(0, shape=(), dtype=int32)\n",
            "tf.Tensor(0, shape=(), dtype=int32)\n",
            "tf.Tensor(1, shape=(), dtype=int32)\n",
            "tf.Tensor(1, shape=(), dtype=int32)\n",
            "tf.Tensor(1, shape=(), dtype=int32)\n",
            "tf.Tensor(1, shape=(), dtype=int32)\n",
            "tf.Tensor(0, shape=(), dtype=int32)\n",
            "tf.Tensor(0, shape=(), dtype=int32)\n",
            "tf.Tensor(1, shape=(), dtype=int32)\n",
            "tf.Tensor(1, shape=(), dtype=int32)\n",
            "tf.Tensor(0, shape=(), dtype=int32)\n",
            "tf.Tensor(1, shape=(), dtype=int32)\n",
            "tf.Tensor(1, shape=(), dtype=int32)\n",
            "tf.Tensor(0, shape=(), dtype=int32)\n",
            "tf.Tensor(1, shape=(), dtype=int32)\n",
            "tf.Tensor(1, shape=(), dtype=int32)\n",
            "tf.Tensor(1, shape=(), dtype=int32)\n",
            "tf.Tensor(1, shape=(), dtype=int32)\n",
            "tf.Tensor(0, shape=(), dtype=int32)\n",
            "tf.Tensor(1, shape=(), dtype=int32)\n",
            "tf.Tensor(1, shape=(), dtype=int32)\n",
            "tf.Tensor(1, shape=(), dtype=int32)\n",
            "tf.Tensor(0, shape=(), dtype=int32)\n",
            "tf.Tensor(1, shape=(), dtype=int32)\n",
            "tf.Tensor(0, shape=(), dtype=int32)\n",
            "tf.Tensor(0, shape=(), dtype=int32)\n",
            "tf.Tensor(0, shape=(), dtype=int32)\n",
            "tf.Tensor(1, shape=(), dtype=int32)\n",
            "tf.Tensor(1, shape=(), dtype=int32)\n",
            "tf.Tensor(1, shape=(), dtype=int32)\n",
            "tf.Tensor(0, shape=(), dtype=int32)\n",
            "tf.Tensor(0, shape=(), dtype=int32)\n",
            "tf.Tensor(1, shape=(), dtype=int32)\n",
            "tf.Tensor(0, shape=(), dtype=int32)\n",
            "tf.Tensor(1, shape=(), dtype=int32)\n",
            "tf.Tensor(1, shape=(), dtype=int32)\n",
            "tf.Tensor(0, shape=(), dtype=int32)\n",
            "tf.Tensor(0, shape=(), dtype=int32)\n",
            "tf.Tensor(1, shape=(), dtype=int32)\n",
            "tf.Tensor(0, shape=(), dtype=int32)\n",
            "tf.Tensor(0, shape=(), dtype=int32)\n",
            "tf.Tensor(1, shape=(), dtype=int32)\n",
            "tf.Tensor(0, shape=(), dtype=int32)\n",
            "tf.Tensor(1, shape=(), dtype=int32)\n",
            "tf.Tensor(1, shape=(), dtype=int32)\n",
            "tf.Tensor(1, shape=(), dtype=int32)\n",
            "tf.Tensor(0, shape=(), dtype=int32)\n",
            "tf.Tensor(1, shape=(), dtype=int32)\n",
            "tf.Tensor(1, shape=(), dtype=int32)\n",
            "tf.Tensor(0, shape=(), dtype=int32)\n",
            "tf.Tensor(1, shape=(), dtype=int32)\n",
            "tf.Tensor(0, shape=(), dtype=int32)\n",
            "tf.Tensor(1, shape=(), dtype=int32)\n",
            "tf.Tensor(1, shape=(), dtype=int32)\n",
            "tf.Tensor(0, shape=(), dtype=int32)\n",
            "tf.Tensor(0, shape=(), dtype=int32)\n",
            "tf.Tensor(1, shape=(), dtype=int32)\n",
            "tf.Tensor(1, shape=(), dtype=int32)\n",
            "tf.Tensor(1, shape=(), dtype=int32)\n",
            "tf.Tensor(1, shape=(), dtype=int32)\n",
            "tf.Tensor(0, shape=(), dtype=int32)\n",
            "tf.Tensor(0, shape=(), dtype=int32)\n",
            "tf.Tensor(1, shape=(), dtype=int32)\n",
            "tf.Tensor(0, shape=(), dtype=int32)\n",
            "tf.Tensor(1, shape=(), dtype=int32)\n",
            "tf.Tensor(0, shape=(), dtype=int32)\n",
            "tf.Tensor(0, shape=(), dtype=int32)\n",
            "tf.Tensor(0, shape=(), dtype=int32)\n",
            "tf.Tensor(1, shape=(), dtype=int32)\n",
            "tf.Tensor(1, shape=(), dtype=int32)\n",
            "tf.Tensor(0, shape=(), dtype=int32)\n",
            "tf.Tensor(0, shape=(), dtype=int32)\n",
            "tf.Tensor(0, shape=(), dtype=int32)\n",
            "tf.Tensor(1, shape=(), dtype=int32)\n",
            "tf.Tensor(0, shape=(), dtype=int32)\n",
            "tf.Tensor(1, shape=(), dtype=int32)\n",
            "tf.Tensor(0, shape=(), dtype=int32)\n",
            "tf.Tensor(0, shape=(), dtype=int32)\n",
            "tf.Tensor(1, shape=(), dtype=int32)\n",
            "tf.Tensor(1, shape=(), dtype=int32)\n",
            "tf.Tensor(0, shape=(), dtype=int32)\n",
            "tf.Tensor(1, shape=(), dtype=int32)\n",
            "tf.Tensor(0, shape=(), dtype=int32)\n",
            "tf.Tensor(0, shape=(), dtype=int32)\n",
            "tf.Tensor(1, shape=(), dtype=int32)\n",
            "tf.Tensor(0, shape=(), dtype=int32)\n",
            "tf.Tensor(0, shape=(), dtype=int32)\n",
            "tf.Tensor(0, shape=(), dtype=int32)\n",
            "tf.Tensor(0, shape=(), dtype=int32)\n",
            "tf.Tensor(1, shape=(), dtype=int32)\n",
            "tf.Tensor(1, shape=(), dtype=int32)\n",
            "tf.Tensor(1, shape=(), dtype=int32)\n",
            "tf.Tensor(0, shape=(), dtype=int32)\n",
            "tf.Tensor(0, shape=(), dtype=int32)\n",
            "tf.Tensor(1, shape=(), dtype=int32)\n",
            "tf.Tensor(0, shape=(), dtype=int32)\n",
            "tf.Tensor(0, shape=(), dtype=int32)\n",
            "tf.Tensor(1, shape=(), dtype=int32)\n",
            "tf.Tensor(1, shape=(), dtype=int32)\n",
            "tf.Tensor(1, shape=(), dtype=int32)\n",
            "tf.Tensor(1, shape=(), dtype=int32)\n",
            "tf.Tensor(0, shape=(), dtype=int32)\n",
            "tf.Tensor(0, shape=(), dtype=int32)\n",
            "tf.Tensor(0, shape=(), dtype=int32)\n",
            "tf.Tensor(0, shape=(), dtype=int32)\n",
            "tf.Tensor(0, shape=(), dtype=int32)\n",
            "tf.Tensor(0, shape=(), dtype=int32)\n",
            "tf.Tensor(1, shape=(), dtype=int32)\n",
            "tf.Tensor(1, shape=(), dtype=int32)\n",
            "tf.Tensor(0, shape=(), dtype=int32)\n",
            "tf.Tensor(1, shape=(), dtype=int32)\n",
            "tf.Tensor(0, shape=(), dtype=int32)\n",
            "tf.Tensor(0, shape=(), dtype=int32)\n",
            "tf.Tensor(0, shape=(), dtype=int32)\n",
            "tf.Tensor(1, shape=(), dtype=int32)\n",
            "tf.Tensor(1, shape=(), dtype=int32)\n",
            "tf.Tensor(0, shape=(), dtype=int32)\n",
            "tf.Tensor(1, shape=(), dtype=int32)\n",
            "tf.Tensor(0, shape=(), dtype=int32)\n",
            "tf.Tensor(1, shape=(), dtype=int32)\n",
            "tf.Tensor(1, shape=(), dtype=int32)\n",
            "tf.Tensor(0, shape=(), dtype=int32)\n",
            "tf.Tensor(0, shape=(), dtype=int32)\n",
            "tf.Tensor(0, shape=(), dtype=int32)\n",
            "tf.Tensor(1, shape=(), dtype=int32)\n",
            "tf.Tensor(1, shape=(), dtype=int32)\n",
            "tf.Tensor(1, shape=(), dtype=int32)\n",
            "tf.Tensor(0, shape=(), dtype=int32)\n",
            "tf.Tensor(0, shape=(), dtype=int32)\n",
            "tf.Tensor(0, shape=(), dtype=int32)\n",
            "tf.Tensor(0, shape=(), dtype=int32)\n",
            "tf.Tensor(1, shape=(), dtype=int32)\n",
            "tf.Tensor(0, shape=(), dtype=int32)\n",
            "tf.Tensor(0, shape=(), dtype=int32)\n",
            "tf.Tensor(0, shape=(), dtype=int32)\n",
            "tf.Tensor(0, shape=(), dtype=int32)\n",
            "tf.Tensor(0, shape=(), dtype=int32)\n",
            "tf.Tensor(0, shape=(), dtype=int32)\n",
            "tf.Tensor(1, shape=(), dtype=int32)\n",
            "tf.Tensor(1, shape=(), dtype=int32)\n",
            "tf.Tensor(1, shape=(), dtype=int32)\n",
            "tf.Tensor(0, shape=(), dtype=int32)\n",
            "tf.Tensor(1, shape=(), dtype=int32)\n",
            "tf.Tensor(1, shape=(), dtype=int32)\n",
            "tf.Tensor(0, shape=(), dtype=int32)\n",
            "tf.Tensor(0, shape=(), dtype=int32)\n",
            "tf.Tensor(0, shape=(), dtype=int32)\n",
            "tf.Tensor(0, shape=(), dtype=int32)\n",
            "tf.Tensor(1, shape=(), dtype=int32)\n",
            "tf.Tensor(0, shape=(), dtype=int32)\n",
            "tf.Tensor(0, shape=(), dtype=int32)\n",
            "tf.Tensor(0, shape=(), dtype=int32)\n",
            "tf.Tensor(1, shape=(), dtype=int32)\n",
            "tf.Tensor(0, shape=(), dtype=int32)\n",
            "tf.Tensor(0, shape=(), dtype=int32)\n",
            "tf.Tensor(1, shape=(), dtype=int32)\n",
            "tf.Tensor(0, shape=(), dtype=int32)\n",
            "tf.Tensor(1, shape=(), dtype=int32)\n",
            "tf.Tensor(0, shape=(), dtype=int32)\n",
            "tf.Tensor(0, shape=(), dtype=int32)\n",
            "tf.Tensor(0, shape=(), dtype=int32)\n",
            "tf.Tensor(1, shape=(), dtype=int32)\n",
            "tf.Tensor(1, shape=(), dtype=int32)\n",
            "tf.Tensor(0, shape=(), dtype=int32)\n",
            "tf.Tensor(0, shape=(), dtype=int32)\n",
            "tf.Tensor(1, shape=(), dtype=int32)\n",
            "tf.Tensor(1, shape=(), dtype=int32)\n",
            "tf.Tensor(0, shape=(), dtype=int32)\n",
            "tf.Tensor(0, shape=(), dtype=int32)\n",
            "tf.Tensor(1, shape=(), dtype=int32)\n",
            "tf.Tensor(1, shape=(), dtype=int32)\n",
            "tf.Tensor(0, shape=(), dtype=int32)\n",
            "tf.Tensor(0, shape=(), dtype=int32)\n"
          ],
          "name": "stdout"
        }
      ]
    },
    {
      "cell_type": "code",
      "metadata": {
        "id": "HqmuDjIyTcMD",
        "colab_type": "code",
        "outputId": "34bfebb1-4009-4818-a8e4-87046810e904",
        "colab": {
          "base_uri": "https://localhost:8080/",
          "height": 35
        }
      },
      "source": [
        "#合并数据\n",
        "dataset=tf.data.Dataset.zip((image_dataset,label_dataset))\n",
        "#我们是以元组的形式进行zip的\n",
        "dataset"
      ],
      "execution_count": 83,
      "outputs": [
        {
          "output_type": "execute_result",
          "data": {
            "text/plain": [
              "<ZipDataset shapes: ((None, None, 3), ()), types: (tf.float32, tf.int32)>"
            ]
          },
          "metadata": {
            "tags": []
          },
          "execution_count": 83
        }
      ]
    },
    {
      "cell_type": "code",
      "metadata": {
        "id": "BwszhCt0zcYT",
        "colab_type": "code",
        "colab": {}
      },
      "source": [
        "#划分train与test数据\n",
        "test_count=int(image_count*0.2)\n",
        "#必须是个整数所以我们加int\n",
        "train_count=image_count-test_count"
      ],
      "execution_count": 0,
      "outputs": []
    },
    {
      "cell_type": "code",
      "metadata": {
        "id": "sAzEf9v2gJVi",
        "colab_type": "code",
        "colab": {}
      },
      "source": [
        "train_dataset=dataset.skip(test_count)\n",
        "#skip就是掠过的意思\n",
        "#得到train_dataset的个数\n",
        "test_dataset=dataset.take(test_count)\n",
        "#take就是取的意思"
      ],
      "execution_count": 0,
      "outputs": []
    },
    {
      "cell_type": "code",
      "metadata": {
        "id": "C4k1Oxrplqov",
        "colab_type": "code",
        "colab": {
          "base_uri": "https://localhost:8080/",
          "height": 35
        },
        "outputId": "750d8c71-ea6c-4bcc-9de6-c50ec5495db0"
      },
      "source": [
        "BATCH_SIZE=32\n",
        "train_dataset=train_dataset.shuffle(buffer_size=train_count).batch(BATCH_SIZE)\n",
        "train_dataset=train_dataset.batch(BATCH_SIZE)\n",
        "train_dataset"
      ],
      "execution_count": 92,
      "outputs": [
        {
          "output_type": "execute_result",
          "data": {
            "text/plain": [
              "<BatchDataset shapes: ((None, None, None, None, None, None, 3), (None, None, None, None)), types: (tf.float32, tf.int32)>"
            ]
          },
          "metadata": {
            "tags": []
          },
          "execution_count": 92
        }
      ]
    },
    {
      "cell_type": "code",
      "metadata": {
        "id": "sz4fflzkoewM",
        "colab_type": "code",
        "colab": {
          "base_uri": "https://localhost:8080/",
          "height": 240
        },
        "outputId": "11adc913-05c4-4b8f-cb24-1f0ff216f4bd"
      },
      "source": [
        "model=tf,keras.Sequential()\n",
        "model.add(tf.kears.layers.Conv2D(64,(3,3),\n",
        "                 input_shape=train_dataset,#有问题\n",
        "                 activation='relu'))\n",
        "model.add(tf.kears.layers.Conv2D(64,(3,3),activation='relu'))\n",
        "model.add(tf.kears.layers.MaxPooling2D())\n",
        "model.add(tf.kears.layers.Dropout(0.3))\n",
        "model.add(tf.kears.layers.Conv2D(128,(3,3),activation='relu'))\n",
        "model.add(tf.kears.layers.Conv2D(128,(3,3),activation='relu'))\n",
        "model.add(tf.kears.layers.MaxPooling2D())\n",
        "model.add(tf.kears.layers.Dropout(0.3))\n",
        "model.add(tf.kears.layers.Conv2D(256,(3,3),activation='relu'))\n",
        "model.add(tf.kears.layers.Conv2D(256,(3,3),activation='relu'))\n",
        "model.add(tf.kears.layers.MaxPooling2D())\n",
        "model.add(tf.kears.layers.Dropout(0.3))\n",
        "model.add(tf.kears.layers.Conv2D(512,(3,3),activation='relu'))\n",
        "model.add(tf.kears.layers.Conv2D(512,(3,3),activation='relu'))\n",
        "model.add(tf.kears.layers.MaxPooling2D())\n",
        "model.add(tf.kears.layers.Dropout(0.3))\n",
        "model.add(tf.keras.layers.Conv2D(1024,(3,3),activation='relu'))\n",
        "model.add(tf.keras.layers.GlobalAveragePooling2D())\n",
        "model.add(tf.keras.layers.Dense(1024,activation='relu'))\n",
        "model.add(tf.keras.layers.Dense(256,activation='relu'))\n",
        "model.add(tf.keras.layers.Dense(10,activation='softmax'))"
      ],
      "execution_count": 91,
      "outputs": [
        {
          "output_type": "error",
          "ename": "AttributeError",
          "evalue": "ignored",
          "traceback": [
            "\u001b[0;31m---------------------------------------------------------------------------\u001b[0m",
            "\u001b[0;31mAttributeError\u001b[0m                            Traceback (most recent call last)",
            "\u001b[0;32m<ipython-input-91-1deecaba854f>\u001b[0m in \u001b[0;36m<module>\u001b[0;34m()\u001b[0m\n\u001b[1;32m      1\u001b[0m \u001b[0mmodel\u001b[0m\u001b[0;34m=\u001b[0m\u001b[0mtf\u001b[0m\u001b[0;34m,\u001b[0m\u001b[0mkeras\u001b[0m\u001b[0;34m.\u001b[0m\u001b[0mSequential\u001b[0m\u001b[0;34m(\u001b[0m\u001b[0;34m)\u001b[0m\u001b[0;34m\u001b[0m\u001b[0;34m\u001b[0m\u001b[0m\n\u001b[0;32m----> 2\u001b[0;31m model.add(tf.kears.layers.Conv2D(64,(3,3),\n\u001b[0m\u001b[1;32m      3\u001b[0m                  \u001b[0minput_shape\u001b[0m\u001b[0;34m=\u001b[0m\u001b[0mtrain_dataset\u001b[0m\u001b[0;34m\u001b[0m\u001b[0;34m\u001b[0m\u001b[0m\n\u001b[1;32m      4\u001b[0m                   ,activation='relu'))\n\u001b[1;32m      5\u001b[0m \u001b[0mmodel\u001b[0m\u001b[0;34m.\u001b[0m\u001b[0madd\u001b[0m\u001b[0;34m(\u001b[0m\u001b[0mtf\u001b[0m\u001b[0;34m.\u001b[0m\u001b[0mkears\u001b[0m\u001b[0;34m.\u001b[0m\u001b[0mlayers\u001b[0m\u001b[0;34m.\u001b[0m\u001b[0mConv2D\u001b[0m\u001b[0;34m(\u001b[0m\u001b[0;36m64\u001b[0m\u001b[0;34m,\u001b[0m\u001b[0;34m(\u001b[0m\u001b[0;36m3\u001b[0m\u001b[0;34m,\u001b[0m\u001b[0;36m3\u001b[0m\u001b[0;34m)\u001b[0m\u001b[0;34m,\u001b[0m\u001b[0mactivation\u001b[0m\u001b[0;34m=\u001b[0m\u001b[0;34m'relu'\u001b[0m\u001b[0;34m)\u001b[0m\u001b[0;34m)\u001b[0m\u001b[0;34m\u001b[0m\u001b[0;34m\u001b[0m\u001b[0m\n",
            "\u001b[0;31mAttributeError\u001b[0m: 'tuple' object has no attribute 'add'"
          ]
        }
      ]
    }
  ]
}