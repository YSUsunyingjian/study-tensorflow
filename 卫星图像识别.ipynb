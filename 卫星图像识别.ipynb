{
  "nbformat": 4,
  "nbformat_minor": 0,
  "metadata": {
    "colab": {
      "name": "卫星图像识别.ipynb",
      "provenance": [],
      "authorship_tag": "ABX9TyP+3B+Q1B25sRuNjHAE0BRi",
      "include_colab_link": true
    },
    "kernelspec": {
      "name": "python3",
      "display_name": "Python 3"
    },
    "accelerator": "GPU"
  },
  "cells": [
    {
      "cell_type": "markdown",
      "metadata": {
        "id": "view-in-github",
        "colab_type": "text"
      },
      "source": [
        "<a href=\"https://colab.research.google.com/github/sunyingjian/study-tensorflow/blob/master/%E5%8D%AB%E6%98%9F%E5%9B%BE%E5%83%8F%E8%AF%86%E5%88%AB.ipynb\" target=\"_parent\"><img src=\"https://colab.research.google.com/assets/colab-badge.svg\" alt=\"Open In Colab\"/></a>"
      ]
    },
    {
      "cell_type": "code",
      "metadata": {
        "id": "h4qWNsAX3nfg",
        "colab_type": "code",
        "outputId": "17494b8d-99b1-4b9d-e013-85867f711737",
        "colab": {
          "base_uri": "https://localhost:8080/",
          "height": 52
        }
      },
      "source": [
        "import os\n",
        "from google.colab import drive\n",
        "drive.mount('/content/drive')\n",
        "path = \"/content/drive/My Drive/dataset\"\n",
        "os.chdir(path)\n",
        "os.listdir(path)"
      ],
      "execution_count": 37,
      "outputs": [
        {
          "output_type": "stream",
          "text": [
            "Drive already mounted at /content/drive; to attempt to forcibly remount, call drive.mount(\"/content/drive\", force_remount=True).\n"
          ],
          "name": "stdout"
        },
        {
          "output_type": "execute_result",
          "data": {
            "text/plain": [
              "['2_class']"
            ]
          },
          "metadata": {
            "tags": []
          },
          "execution_count": 37
        }
      ]
    },
    {
      "cell_type": "code",
      "metadata": {
        "id": "lT1IAsLn41u-",
        "colab_type": "code",
        "outputId": "b65d2654-50e4-400c-f9c6-3c4aeac9b0c8",
        "colab": {
          "base_uri": "https://localhost:8080/",
          "height": 35
        }
      },
      "source": [
        "%tensorflow_version 2.x\n",
        "import tensorflow as tf\n",
        "print('tensorflow:',format(tf.__version__))\n",
        "tf.config.list_physical_devices('GPU')\n",
        "tf.test.is_gpu_available()\n",
        "import numpy as np\n",
        "from tensorflow import keras\n",
        "from keras import layers\n",
        "import matplotlib.pyplot as plt\n",
        "%matplotlib inline\n",
        "import pathlib"
      ],
      "execution_count": 38,
      "outputs": [
        {
          "output_type": "stream",
          "text": [
            "tensorflow: 2.1.0\n"
          ],
          "name": "stdout"
        }
      ]
    },
    {
      "cell_type": "code",
      "metadata": {
        "id": "VNDxqHEa5afE",
        "colab_type": "code",
        "colab": {}
      },
      "source": [
        "data_dir='/content/drive/My Drive/dataset/2_class'"
      ],
      "execution_count": 0,
      "outputs": []
    },
    {
      "cell_type": "code",
      "metadata": {
        "id": "9R19Tmoj72H_",
        "colab_type": "code",
        "colab": {}
      },
      "source": [
        "data_root=pathlib.Path(data_dir)"
      ],
      "execution_count": 0,
      "outputs": []
    },
    {
      "cell_type": "code",
      "metadata": {
        "id": "-TDdxSPJ9ujv",
        "colab_type": "code",
        "outputId": "cb53b437-211b-44e8-9282-7bd61e6a424a",
        "colab": {
          "base_uri": "https://localhost:8080/",
          "height": 52
        }
      },
      "source": [
        "for item in data_root.iterdir():\n",
        "  print(item)"
      ],
      "execution_count": 41,
      "outputs": [
        {
          "output_type": "stream",
          "text": [
            "/content/drive/My Drive/dataset/2_class/airplane\n",
            "/content/drive/My Drive/dataset/2_class/lake\n"
          ],
          "name": "stdout"
        }
      ]
    },
    {
      "cell_type": "code",
      "metadata": {
        "id": "7wH3-FTg-l5O",
        "colab_type": "code",
        "colab": {}
      },
      "source": [
        "all_image_path=list(data_root.glob('*/*'))"
      ],
      "execution_count": 0,
      "outputs": []
    },
    {
      "cell_type": "code",
      "metadata": {
        "id": "4A8StwguX68J",
        "colab_type": "code",
        "outputId": "58c81950-e3b0-45c0-f26a-e01132c4207b",
        "colab": {
          "base_uri": "https://localhost:8080/",
          "height": 35
        }
      },
      "source": [
        "len(all_image_path)"
      ],
      "execution_count": 43,
      "outputs": [
        {
          "output_type": "execute_result",
          "data": {
            "text/plain": [
              "1400"
            ]
          },
          "metadata": {
            "tags": []
          },
          "execution_count": 43
        }
      ]
    },
    {
      "cell_type": "code",
      "metadata": {
        "id": "yrv1wjMAYs0c",
        "colab_type": "code",
        "outputId": "8651a375-46cd-4497-f238-f844263f5fac",
        "colab": {
          "base_uri": "https://localhost:8080/",
          "height": 52
        }
      },
      "source": [
        "all_image_path=[str(path) for path in all_image_path]\n",
        "all_image_path[10:12]"
      ],
      "execution_count": 44,
      "outputs": [
        {
          "output_type": "execute_result",
          "data": {
            "text/plain": [
              "['/content/drive/My Drive/dataset/2_class/airplane/airplane_012.jpg',\n",
              " '/content/drive/My Drive/dataset/2_class/airplane/airplane_013.jpg']"
            ]
          },
          "metadata": {
            "tags": []
          },
          "execution_count": 44
        }
      ]
    },
    {
      "cell_type": "code",
      "metadata": {
        "id": "mnz8ik1J218l",
        "colab_type": "code",
        "colab": {}
      },
      "source": [
        "import random\n",
        "random.shuffle(all_image_path)"
      ],
      "execution_count": 0,
      "outputs": []
    },
    {
      "cell_type": "code",
      "metadata": {
        "id": "Gha8G8MO3ie5",
        "colab_type": "code",
        "colab": {}
      },
      "source": [
        "image_count=len(all_image_path)"
      ],
      "execution_count": 0,
      "outputs": []
    },
    {
      "cell_type": "code",
      "metadata": {
        "id": "VOWgai8f9Et6",
        "colab_type": "code",
        "outputId": "4172692a-582e-4cff-bfa8-92294663e850",
        "colab": {
          "base_uri": "https://localhost:8080/",
          "height": 35
        }
      },
      "source": [
        "label_names=sorted(item.name for item in data_root.glob('*/'))\n",
        "label_names"
      ],
      "execution_count": 47,
      "outputs": [
        {
          "output_type": "execute_result",
          "data": {
            "text/plain": [
              "['airplane', 'lake']"
            ]
          },
          "metadata": {
            "tags": []
          },
          "execution_count": 47
        }
      ]
    },
    {
      "cell_type": "code",
      "metadata": {
        "id": "ph9UuLhl-Zqt",
        "colab_type": "code",
        "outputId": "54bc5ee0-2687-4f89-ab91-5e299f13975e",
        "colab": {
          "base_uri": "https://localhost:8080/",
          "height": 35
        }
      },
      "source": [
        "label_to_index=dict((name,index) for index,name in enumerate(label_names))\n",
        "label_to_index"
      ],
      "execution_count": 48,
      "outputs": [
        {
          "output_type": "execute_result",
          "data": {
            "text/plain": [
              "{'airplane': 0, 'lake': 1}"
            ]
          },
          "metadata": {
            "tags": []
          },
          "execution_count": 48
        }
      ]
    },
    {
      "cell_type": "code",
      "metadata": {
        "id": "OESFOKgk7AKb",
        "colab_type": "code",
        "outputId": "f76b1258-78bc-4a2a-eb4b-78a04772a249",
        "colab": {
          "base_uri": "https://localhost:8080/",
          "height": 35
        }
      },
      "source": [
        "#获取路径来实现对图片做标签,通过下面的代码生成一个pathlib对象,那么他的上一层目录就剩他的label\n",
        "pathlib.Path('/content/drive/My Drive/dataset/2_class/airplane/airplane_012.jpg').parent.name"
      ],
      "execution_count": 49,
      "outputs": [
        {
          "output_type": "execute_result",
          "data": {
            "text/plain": [
              "'airplane'"
            ]
          },
          "metadata": {
            "tags": []
          },
          "execution_count": 49
        }
      ]
    },
    {
      "cell_type": "code",
      "metadata": {
        "colab_type": "code",
        "id": "1w5fz3FW-GBP",
        "colab": {}
      },
      "source": [
        "#通过推导式 labe_to_index得到分组的编号\n",
        "all_image_labe=[label_to_index[pathlib.Path(p).parent.name]for p in all_image_path]"
      ],
      "execution_count": 0,
      "outputs": []
    },
    {
      "cell_type": "code",
      "metadata": {
        "id": "3MEGI7hgHz7a",
        "colab_type": "code",
        "outputId": "e1c27829-cbab-44f6-df53-65acd95e135b",
        "colab": {
          "base_uri": "https://localhost:8080/",
          "height": 35
        }
      },
      "source": [
        "all_image_labe[:5]"
      ],
      "execution_count": 51,
      "outputs": [
        {
          "output_type": "execute_result",
          "data": {
            "text/plain": [
              "[1, 0, 1, 1, 1]"
            ]
          },
          "metadata": {
            "tags": []
          },
          "execution_count": 51
        }
      ]
    },
    {
      "cell_type": "code",
      "metadata": {
        "id": "ujJ0N5ZqH4zu",
        "colab_type": "code",
        "outputId": "53f6ee8b-dbd4-42ee-bf1c-b1f6409052e2",
        "colab": {
          "base_uri": "https://localhost:8080/",
          "height": 104
        }
      },
      "source": [
        "all_image_path[:5]"
      ],
      "execution_count": 52,
      "outputs": [
        {
          "output_type": "execute_result",
          "data": {
            "text/plain": [
              "['/content/drive/My Drive/dataset/2_class/lake/lake_009.jpg',\n",
              " '/content/drive/My Drive/dataset/2_class/airplane/airplane_044.jpg',\n",
              " '/content/drive/My Drive/dataset/2_class/lake/lake_286.jpg',\n",
              " '/content/drive/My Drive/dataset/2_class/lake/lake_433.jpg',\n",
              " '/content/drive/My Drive/dataset/2_class/lake/lake_650.jpg']"
            ]
          },
          "metadata": {
            "tags": []
          },
          "execution_count": 52
        }
      ]
    },
    {
      "cell_type": "code",
      "metadata": {
        "id": "whLsm65JIR1E",
        "colab_type": "code",
        "colab": {}
      },
      "source": [
        "import IPython.display as display\n",
        "index_to_label=dict((v,k) for k,v in label_to_index.items())\n",
        "#这样我们就可以通过这个字典获取到 "
      ],
      "execution_count": 0,
      "outputs": []
    },
    {
      "cell_type": "markdown",
      "metadata": {
        "id": "arMNvCgnxQB8",
        "colab_type": "text"
      },
      "source": [
        "#真正的代码从下面开始"
      ]
    },
    {
      "cell_type": "code",
      "metadata": {
        "id": "sdyM80fAQlF0",
        "colab_type": "code",
        "outputId": "67b9cb59-e6da-4956-b54a-d5eb631798e8",
        "colab": {
          "base_uri": "https://localhost:8080/",
          "height": 888
        }
      },
      "source": [
        "for n in range(3):\n",
        "  image_index=random.choice(range(len(all_image_path)))\n",
        "  display.display(display.Image(all_image_path[image_index]))\n",
        "  print(index_to_label[all_image_labe[image_index]])\n",
        "  print()"
      ],
      "execution_count": 54,
      "outputs": [
        {
          "output_type": "display_data",
          "data": {
            "image/jpeg": "[encoded data removed]",
            "text/plain": [
              "<IPython.core.display.Image object>"
            ]
          },
          "metadata": {
            "tags": []
          }
        },
        {
          "output_type": "stream",
          "text": [
            "airplane\n",
            "\n"
          ],
          "name": "stdout"
        },
        {
          "output_type": "display_data",
          "data": {
            "image/jpeg": "[encoded data removed]",
            "text/plain": [
              "<IPython.core.display.Image object>"
            ]
          },
          "metadata": {
            "tags": []
          }
        },
        {
          "output_type": "stream",
          "text": [
            "airplane\n",
            "\n"
          ],
          "name": "stdout"
        },
        {
          "output_type": "display_data",
          "data": {
            "image/jpeg": "[encoded data removed]",
            "text/plain": [
              "<IPython.core.display.Image object>"
            ]
          },
          "metadata": {
            "tags": []
          }
        },
        {
          "output_type": "stream",
          "text": [
            "lake\n",
            "\n"
          ],
          "name": "stdout"
        }
      ]
    },
    {
      "cell_type": "markdown",
      "metadata": {
        "id": "RI8WcVKRu2eS",
        "colab_type": "text"
      },
      "source": [
        "#单张图片的处理过程\n",
        "##读取图片"
      ]
    },
    {
      "cell_type": "code",
      "metadata": {
        "id": "Y3vqjrexTvT0",
        "colab_type": "code",
        "outputId": "25af0683-2782-40c8-d9d1-f1a21706c25a",
        "colab": {
          "base_uri": "https://localhost:8080/",
          "height": 55
        }
      },
      "source": [
        "#根据路径，读取图片\n",
        "img_path=all_image_path[0]\n",
        "img_path\n",
        "img_raw=tf.io.read_file(img_path)#读取图片\n",
        "img_raw"
      ],
      "execution_count": 55,
      "outputs": [
        {
          "output_type": "execute_result",
          "data": {
            "text/plain": [
              "<tf.Tensor: shape=(), dtype=string, numpy=b'\\xff\\xd8\\xff\\xe0\\x00\\x10JFIF\\x00\\x01\\x01\\x00\\x00\\x01\\x00\\x01\\x00\\x00\\xff\\xdb\\x00C\\x00\\x08\\x06\\x06\\x07\\x06\\x05\\x08\\x07\\x07\\x07\\t\\t\\x08\\n\\x0c\\x14\\r\\x0c\\x0b\\x0b\\x0c\\x19\\x12\\x13\\x0f\\x14\\x1d\\x1a\\x1f\\x1e\\x1d\\x1a\\x1c\\x1c $.\\' \",#\\x1c\\x1c(7),01444\\x1f\\'9=82<.342\\xff\\xdb\\x00C\\x01\\t\\t\\t\\x0c\\x0b\\x0c\\x18\\r\\r\\x182!\\x1c!22222222222222222222222222222222222222222222222222\\xff\\xc0\\x00\\x11\\x08\\x01\\x00\\x01\\x00\\x03\\x01\"\\x00\\x02\\x11\\x01\\x03\\x11\\x01\\xff\\xc4\\x00\\x1f\\x00\\x00\\x01\\x05\\x01\\x01\\x01\\x01\\x01\\x01\\x00\\x00\\x00\\x00\\x00\\x00\\x00\\x00\\x01\\x02\\x03\\x04\\x05\\x06\\x07\\x08\\t\\n\\x0b\\xff\\xc4\\x00\\xb5\\x10\\x00\\x02\\x01\\x03\\x03\\x02\\x04\\x03\\x05\\x05\\x04\\x04\\x00\\x00\\x01}\\x01\\x02\\x03\\x00\\x04\\x11\\x05\\x12!1A\\x06\\x13Qa\\x07\"q\\x142\\x81\\x91\\xa1\\x08#B\\xb1\\xc1\\x15R\\xd1\\xf0$3br\\x82\\t\\n\\x16\\x17\\x18\\x19\\x1a%&\\'()*456789:CDEFGHIJSTUVWXYZcdefghijstuvwxyz\\x83\\x84\\x85\\x86\\x87\\x88\\x89\\x8a\\x92\\x93\\x94\\x95\\x96\\x97\\x98\\x99\\x9a\\xa2\\xa3\\xa4\\xa5\\xa6\\xa7\\xa8\\xa9\\xaa\\xb2\\xb3\\xb4\\xb5\\xb6\\xb7\\xb8\\xb9\\xba\\xc2\\xc3\\xc4\\xc5\\xc6\\xc7\\xc8\\xc9\\xca\\xd2\\xd3\\xd4\\xd5\\xd6\\xd7\\xd8\\xd9\\xda\\xe1\\xe2\\xe3\\xe4\\xe5\\xe6\\xe7\\xe8\\xe9\\xea\\xf1\\xf2\\xf3\\xf4\\xf5\\xf6\\xf7\\xf8\\xf9\\xfa\\xff\\xc4\\x00\\x1f\\x01\\x00\\x03\\x01\\x01\\x01\\x01\\x01\\x01\\x01\\x01\\x01\\x00\\x00\\x00\\x00\\x00\\x00\\x01\\x02\\x03\\x04\\x05\\x06\\x07\\x08\\t\\n\\x0b\\xff\\xc4\\x00\\xb5\\x11\\x00\\x02\\x01\\x02\\x04\\x04\\x03\\x04\\x07\\x05\\x04\\x04\\x00\\x01\\x02w\\x00\\x01\\x02\\x03\\x11\\x04\\x05!1\\x06\\x12AQ\\x07aq\\x13\"2\\x81\\x08\\x14B\\x91\\xa1\\xb1\\xc1\\t#3R\\xf0\\x15br\\xd1\\n\\x16$4\\xe1%\\xf1\\x17\\x18\\x19\\x1a&\\'()*56789:CDEFGHIJSTUVWXYZcdefghijstuvwxyz\\x82\\x83\\x84\\x85\\x86\\x87\\x88\\x89\\x8a\\x92\\x93\\x94\\x95\\x96\\x97\\x98\\x99\\x9a\\xa2\\xa3\\xa4\\xa5\\xa6\\xa7\\xa8\\xa9\\xaa\\xb2\\xb3\\xb4\\xb5\\xb6\\xb7\\xb8\\xb9\\xba\\xc2\\xc3\\xc4\\xc5\\xc6\\xc7\\xc8\\xc9\\xca\\xd2\\xd3\\xd4\\xd5\\xd6\\xd7\\xd8\\xd9\\xda\\xe2\\xe3\\xe4\\xe5\\xe6\\xe7\\xe8\\xe9\\xea\\xf2\\xf3\\xf4\\xf5\\xf6\\xf7\\xf8\\xf9\\xfa\\xff\\xda\\x00\\x0c\\x03\\x01\\x00\\x02\\x11\\x03\\x11\\x00?\\x00\\xc2\\x92\\xd25\\x90\\x9c\\r\\xe7\\r\\x9f\\xe9S\\xa4\\x08HlnUr2\\x07o\\xf2*\\xda\\xe9\\xf8_6y\\x06\\xde\\xe3\\xde\\xaa\\xdd\\xbc\\xe6#\\x1cP\\xb0^\\x8a\\xfd;\\xf5\\xaeQXc\\xddFr\\x80\\x16\\x00\\xf68\\xaa\\xf20w\\xc8P\\xa7\\xa0\\xc0\\xe8*\\x1d\\x8c\\xa7\\x04\\x12zd\\xfa\\xd1\\x13\\xb1\\x07?\\x9d2nZ\\xdd\\xf2d\\xf2W\\x8e}\\x08\\xa51\\xa9\\x8dUQ\\x01\\xc8>\\xb8\\x15\\x10uKb\\x08\\xdd\\x920h3\\x04E\\x00\\x80q\\xd6\\x93\\x0b\\x83\\xce\\xc4\\x98\\xc1\\xce?\\x8b\\x15*N\\x124\\xc9\\xcbw\\xedU#\\x91\\x9d$\\x00\\xe7\\x03\\x93\\x8a`\\x05\\x98\\xa8\\xeaFx\\xa1\\n\\xe4\\x93\\xaa\\xbe_%A<\\x81\\xcd>\\xd9\\xd2!\\xba3\\xb8\\x9e0\\xc6\\x91#-\\xf2\\xa0\\xe4\\xd3\\x15<\\xb9\\x14\\xb4[\\x81<\\nh\\x0b\\x13\\xc3\\xf6\\x8b\\x82\\xfb\\x15% c\\x1c\\x8a\\x89r\\x1d\\x95[\\xe5\\x07\\x03\\xde\\xb5%\\x88\\xca\\t\\x89\\xe2\\x8d6\\xfc\\xe4\\x8f\\xd2\\xb3\\xd68cf\\xdcFs\\x91\\x93\\x8acc&\\xdc\\xae\\x00\\x19lqU\\xd9\\x15\\x06wd\\x9eM\\\\\\x9dbA\\xbfq\\xce?L\\xd5p\\x12A\\x9d\\xb8\\xc9\\xe2\\xa4W\\x1c\\x870\\xc8K\\x8f\\x95s\\x80)eG#f\\x19\\xb6\\x8d\\xac})aS\\xf6\\x95\\x07j\\x83\\xf8\\xe6\\x92t\\x92Y\\x18\\xbe\\xe4U\\x00p:\\x1e\\x87\\xf9U\\x03\\x1a\\xa28\\x97,\\xeb\\xbc\\x0e\\x06j=\\xa5\\xa5\\xc8\\xe4\\xf1\\xc5D\\xd1\\x02\\xbcu\\x1d3\\xe9SB1*(\\'\\xa89\\xa4\"\\xc3>den\\x00\\xea}j\\x9c\\x85\\x10ars\\xd6\\xacJ\\xc8\\xf2\\x88\\xc8\\xc9Bs\\xefP\\xb4g\\xcc#\\x03\\xe6\\xe0R\\x1bby\\x9bWsr\\x0e\\x00\\x06\\x80QFW\\xabsMr\\x04\\x8a\\x84d/\\x1fSI \\xc3(\\xc60)\\x8a\\xe4\\x852\\x01\\xf5\\xa9-\\xd7d\\xcb\\xd0\\x02pj2H \\xe7\\x8e\\xd4\\xfd\\xbb\\x990rA\\xa6\\xc2\\xe3\\xee\\x18\\xeeeR~S\\xcd^\\xf0\\xe5\\xec\\x16\\x97\\x0f\\x05\\xda\\x87\\x82~X0\\xfc\\xcdAt\\xab\\xf6\\xc9\\x9cp\\x8er?\\x9dSYvJ\\xb2\\r\\xc3kd\\xed88\\xf4\\xa4\\x9e\\xa5-\\x0fI\\xb8\\x98j\\x9e\\x1c\\x9e\\x1bP\\xf1\\xcbn\\xd8vU\\xc39\\xc1\\xc6\\x07|\\xf1\\x9cW\\x9d\\xca\\x8d\\xa6\\xdd\\xb8u`\\xd0\\xc9\\xca\\x11\\xd7\\xda\\xbb=;T\\x8bX\\xd0\\x9aUI\\xc3[d9\\x89\\xc0r}@\\xc78\\xae1\\xdd\\xaenf\\x91\\x9d\\xceY\\x8e_\\xabc\\xa6})\\x9a6]\\xbd\\xc6\\xa7*O\\x13|\\xd2\\xaf\\xce\\x14}\\xca\\xa3.\\x9d\\xb2\\xe1-\\x91\\xc6B\\x97\\xc8\\xfd3\\xe9L\\x82QjD\\x91\\x9c\\xc9\\x8c\\xfb)\\xab\\xc2\\xc5\\xf6\\xb5\\xd4\\xcc\\xc6M\\xb9%\\x8e:\\xff\\x00J@\\xb5(\\xaa\\xcd\\xe6\\x88\\xc1\\x01\\xdb\\n\\xd9\\xf5\\xcfZ\\xbe4\\xe1g4h\\x18\\x8b\\x8c\\x12\\xd9\\xe7\\xdcU8\\xad\\xe6\\x94\\xb1\\n|\\xd6~\\x17\\xdb\\xd7\\x1f\\x85h\\xdb_\\x95\\xccw0\\xb1m\\xd8\\x12\\x01\\x9d\\xc4\\x01\\xc6hcH\\xd4\\xb8\\x99\\n\\xb4\\x98\\x0e:\\xa8^\\x95\\x97qt\\xb3\\xfc\\x8b!G\\xc7@H\\xabW\\x91\\\\\\x06f\\x1b\\x07\\xcb\\xeb\\x81\\x8a\\xc7i\\x0c\\xbf.\\xd5\\xc0\\xe3\"\\x912`\\xdej\\xf0\\xe4\\xee\\xf5\\'\"\\xa3(\\xcc\\xb8\\x04g\\xb8\\x14\\xf4\\\\d\\x10X\\n\\x9a(\\x81`\\xe5\\xb0\\xbdy\\xa0\\x8b\\\\\\x8cE\\xe5\\xdb\\xf2\\x87\\x04\\xf1Q:\\xae\\x01\\xe7v8\\xab\\xd2\\xa8c\\n\\x0c\\xe0\\x8a\\x86\\xee\\r\\xae\\xe1FUO#\\x14\\r\\xc4d6\\xe7k\\xe66\\xc9\\x1dEC\\xb6H\\xddN\\x08c\\xe9W\\xecWc\\x16\\x0b\\xf7\\xbb\\x93\\xc58\\xc1(\\xb9\\xd8\\xff\\x00\\xbc9\\xceq\\xda\\x98r\\x90\\xb4R\\xab\\xc4UJ\\xee 1\\xf5\\x15\\'\\x94d\\xbd\\x92#\\xc2\\x9eA\\xad4\\x84\\xb8\\x04.\\x00\\xed\\x9a\\x99#\\x8aK\\x86WA\\x902>\\x9e\\xb4\\x14\\xa0T\\x96\\xd2%\\x8e\\x18\\xfc\\xa9\\x8a\\x15,\\xc3#\\'\\x1cg\\x9a\\xc8\\x9a\\x14I\\xbft\\x8e\\x8b\\xea\\xf8\\xcf\\xe9]\\x1d\\xca\\x19/J\\xe0\\xb2\\x88\\xf6\\xaf\\xbf9\\xcf\\xd6\\x83g\\x17\\x95\\x19)\\x96#\\x04\\x029\\xfa\\xd1q\\xf2\\\\\\xc0\\xbd\\x8c\\xf9I\"\\x05\\t\\x8cp)l\"I\\xad\\x95\\xdd\\x01(~bx\\xc7\\xd2\\xb6\\xda\\xddD\\x1b\\x14es\\x9ei\\x8bc\\xe4\\xc2T\\xe3/\\xc8\\xedE\\xc9\\xe43\\xacAk\\xa9\\x0b\\xc6\\xa8\\x80\\x9d\\xad\\x8cU\\xb6\\xb3\\x9a\\xeb`\\xdc\\xf8\\\\\\x92@\\xeb\\x9fZ\\x9e8\\xd5|\\x98DbWW\\xe4t\\xe7\\x1e\\xf5\\xa5a\\x7f\\x1e\\x95w\\xb1d\\xdc\\xeb\\x95\\x94\\x91\\x91\\x9fA\\xedBc\\xb29+\\xbd\\x91\\xcd*0\\xc4\\x80\\x90\\xd4\\xebH\\x11\\xe5\\x01[q\\x038\\x03\\xf4\\xad\\xcb\\xcb;yn\\x1eq\\x10\\x06F\\xdd\\xeb\\xde\\x98\\x96j\"\\xf3\\x91\\x95@\\x07\\xe5\\xeeN\\r\\r\\x8b\\x94\\xc11\\x05\\x9dK\\xa9_Q\\xde\\xa6\\x92\\x03\\x1co&Wo\\x01I\\xeaMh\\xbd\\x82\\xa7\\xccIu\\xce7\\x03\\xc84,M\\x04\\n<\\xb5%\\xd8\\xec={\\x1a\\x03\\x95\\x18\\xeb\\x12\\xf9[\\xd81\\xc1\\xe8\\x07z\\xa7(\\xf9\\xf7\\x0c\\xe4\\xf03[\\xd7B8\\xad\\xa3\\xc2\\x10\\xf8\\xdc}2j\\x91\\xb7d\\x803\\xaf\\xcd\\x8c\\x92N1A.&v\\xe2y\\x19\\xe9\\x921N\\x8d\\x99X7\\xbe\\x08\\xa5\\x9c\\xed\\x1bJ\\xee\\x03\\xb8\\xa5\\x04\\xb1!W#i4\\xc9J\\xc5\\xab\\x96\\x0c\\xe3\\x92Wh\\xe9\\xe9\\x8a\\x81\\xc7UP\\xb8#\\xa7z\\xbbu\\x12\\xac\\x16\\x83\\x03xM\\xadT<\\x92\\x92n\\xcf\\x19\\xa4\\x0c\\xb1\\xa7\\xea\\xd7Z4\\xee\\xd0(\\xdaT\\xa8VRG5In\\x7f\\xd6\\xab(\\xdaFN3\\x9a\\xb52\\t\"9<\\x83\\xc5A\\r\\xb8\\x0es\\xc6\\xe0G4!\\xdfA\\x82u\\xb8 \\x81\\xb2!\\x8d\\xc5~\\xf61\\x8c\\xd6\\xdd\\xc6\\xcbYp\\xb3\\xbc\\xc4\\xc6\\x08\\xc9\\xc8SXo\\xe5\\xc5h\\xe8\\x8b\\x96\\xfe,u\\xabbX\\'\\xb5\\x8e2\\xce\\x83\\xb8\\xf5\\xf6\\xa6R\\x95\\x8bb\\xf6Y\\xae\\xc6\\xc3\\x1cd}\\xe6\\xf5\\xfa\\xfaU\\xab\\xbb\\xd0#x \\x8d\\x12y$\\\\HpB\\x8c\\x1eq\\xf8\\xd6ZB\\xe4\\x85\\x8f\\x90Nx\\xec*Y\\x92G\\x94\\x14\\x925\\xd9\\xfcNG>\\xd4\\x14\\x99\\xa7qq=\\xba\\x1f4.O\\xf0\\xfa{\\xd5(\\xd9&b\\x1a%R\\x7f\\x89{\\xd5\\xc9\\x1e[\\x871\\xdc\\x05\\xd9\\x9d\\xc7\\x03\\x9cU\\t9\\x90\\x12\\x02\\xe7\\xee\\x81R\\xb6)\\xa2\\xec\\x16\\xb1/\\x1f;6}8\\xab\\x0fk\\x1a\\xb0\\\\\\x9ey\\xe2\\xab[^}\\x9d@|\\x9fa\\xd6\\xad\\xa4\\xf0\\xca\\xc6V\\xe1Ts\\x8a\\x10+\\x10\\xcdj\\x8f2\\x80\\xc7\\xe5\\x1cf\\x9b%\\x8b\\xc8\\xecc9\\x07\\x92\\x01\\xab/\\x1d\\xab\\x91\"3mpy=\\xa9\\x12]\\xa8v\\xb0\\xda8\\x04\\x1aA\\xb9^+R\\x9bX\\x85Q\\x9ekA\"\\x06m\\x99\\x04\\x95\\xc8\\xa8\\xa2\\xf3\\x9dC\\x86\\x8fh\\xe8\\x0f\\xf3\\xa5\\x11\\xe4#$\\xb9*rE;h2\\xc4x\\xb7Gr\\x01\\x03\\xa5$r\\xda%\\xcb4\\xbb\\x9eS\\x18$.1\\xc9\\xf5\\xcf^\\xb4\\xd9\\x1a+\\x8bw\\x86C\\xe5\\x87^\\x9f\\xd6\\xb9\\xab;qmu\\xe5,\\xdb\\xc36\\x17i\\xe3\\xfc\\xf3E\\x89\\x94\\xaco\\xfd\\xa4\\xef8\\x0cr\\xd9\\x18\\xeb\\xf8\\xd4\\xb0HN\\xe5\\x8d\\x97\\xcca\\xd0\\xe3\\x8a\\xad\\x14\\xab\\r\\xd6\\x10\\x8f,\\x0c\\x12z\\x9ek\\x1fU\\xd4|\\x8dxO\\x14\\x81R5\\x00\\xa2\\x8e\\xb4(\\xf3\\t\\xcdE]\\x9d!\\x8c4\\x85I\\xce\\xd1\\xcf\\xd6\\xa1i\\xcb\\xab\\xc6\\x17+\\x19\\xc2\\x13\\xc1>\\xb9\\xa8\\xac\\xef\\xe1\\xba\\x89\\x9c0\\xdd\\x8c\\xf5\\xe4\\x9a}\\xc1\\x87h\\x1e[\\x00\\x00bCu\\xcd\\'\\x1bh>d\\xd5\\xd1V\\xe2\\xe6|\\xb6\\x1b\\xcb\\x00\\x06\\'\\x00\\x9a\\xadoq\\xe6\\xf9\\x8b+\\xa8g \\x86\\xc7J\\xb5\\xe4\\xc7\\x1c\\x85\\xee!\\x96H\\x88\\x042\\x9f\\xd2\\xa3H!\\x97Q\\x99\\x12#\\x14o\\x8f/\\x7fc\\xf8U\"I\\xe1\\xb8H\\xfc\\xcb\\x8b\\x80\\xd9\\x8d\\x0e\\xe4\\xf5\\xf7\\x14\\xfb\\xcb\\x9c*K\\x03~\\xed\\x97z\\xe0d\\x8e)o\\xa3\\xb6\\xb7\\x92)RO3p) #\\x81\\xefQGw\\x15\\x92G\\x08\\x8cJ\\x0e\\x02\\xe0\\xfd\\xdc\\xf5\\xc8\\xa1\\xab\\x8e\\xe1gy\\x04zZMs8vV\\x11`.\\x0e\\xec\\x12?\\x1fz\\xb5<\\n\\xb7+\\xe5\\xc7\\x80\\xbc\\x93\\x9ey\\xff\\x00\\xf5VV\\xa3sf\\xb7\\n\\xb2*\\xace\\xc3\\x00\\xa3\\x01Os\\x83\\xcekIf[\\x96w\\x85\\x83+p1\\xf4\\xc5+1\\xa6>{%f\\xc0c\\xb4\\x0c\\xf3\\xde\\xb3/\\xe1b\\x1b\\xe6\\xc2\\x8e\\x95\\xb3\\x1f\\x98\\xd1\\x85F\\xc2m\\xc6H\\xa8&\\x83\\xac`\\x03\\x9c\\x1d\\xc7\\xbd+\\xd8n\\xd6\\xb1\\xce\\x8bux\\x01\\xdaI\\x07\\xa8\\xa8\\x15$\\x05\\x9fk\\r\\xc4\\x0c\\x9a\\xd3v\\t\\x0b\\x98\\xc7V\\xda\\x0e:c\\xad\\x04|\\x98*s\\xd4\\xd5\\xa6gb\\x9c\\x86C,\\x8f#\\xb3\\x0c\\x0cq\\xd3\\xad,\\x07\\xe5\\xdb\\xb7\\xeb\\x9ae\\xe2\\\\,*c\\x0e\\x1d\\x89\\x03#<b\\xa6\\xb4F\\xf2\\xa3\\xf3\\xb7o\\x03\\x91H\\nw;\\x95\\xd4\\xa88\\xa9a\\xfd\\xe1Y9\\xc2\\x9c\\x90*I#\\x0f/\\xef\\x18$ \\xf5=\\xaa\\tnPH\\xd1E\\x90\\xab\\xdcw\\xf7\\xa4\\xc8\\x92\\x1bw\\n\\xb1%~R\\xc79\\xf4\\xaah\\x85X\\x95/\\x8e\\x84\\xfa\\xd5\\xf1\\x87#=1\\x9ei\\xdeZ(\\xde\\xff\\x00(\\xec)\\x82*\\x15\\xb8l\\x94`\\xaa\\xbd\\x00\\xefVm\\xacE\\xc4\\xc2/5Q\\xc8\\xf9C7SPI;\\x99\\x8e\\xc6\\xda\\x9fN\\xb5j\\xd9\\xe7\\x86U\\x96&\\n\\xe8s\\x9ct\\xa6Z:\\xdb\\xe8\\xad\\xc9\\xcb\\x0cn\\'\\x90:\\xd7?}\\x03(\\xdc\\xeaC\\x1e\\xe3\\xa6+t\\xbc\\xd6\\xd6n\\xac\\xc0\\x8d\\xdc\\x16\\x07\\xf3\\xce8\\xa8 \\xbb\\x8d\\xe7h\\xe5@\\xa5\\xf8\\xe7\\x91\\xfeM&j\\xcck{gp\\x1f<\\x0e0jE\\xb7\\xc6w\\xb7\\xcaMo\\x08#\\x89\\x99\\x10G\\xc9\\xceA\\xcd1\\xa0W\\x89\\x84\\x91.\\xecaON=\\xbbPM\\x8c\\xe0\\x92\\x18\\xb2\\xbc\\xa7\\xa9\\xebDeZEPC\\'Lc\\x18>\\xb5fh<\\x9b\\x7f(8\\x0cW\\x85=j\\xbc0\\x92\\xcb\\x8e\\t\\xe0\\xfaR\\xb0\\xd1`\\x88\\xe1\\xb6iY\\x99B\\x8c6\\xee\\xff\\x00J\\xcf\\x93_\\xb7P\\xbb-\\x9b\\x0b\\xd0\\xfa\\xd1\\xacJ\\xebh\\x913\\xe7s\\x9f\\xc8\\x7f\\xfa\\xeb\\x98\\xba\\x9c+\\x1c\\x1c\\xe0`We\\x1a\\nQ\\xbb8\\xebb\\\\%\\xcalj:\\xf1\\x96\\x01\\x1d\\xbal\\xcfV=~\\x95\\x85\\x1bH\\xb2+\\xf9\\x8c\\x19s\\xb7\\x9a\\x80\\xcf\\xb8d\\xfeTy\\xa6\\xb5T\\xd29%ZM\\x97\\xfe\\xdf1V\\xf3$fc\\xd4\\xe6\\xaay\\xf9r[$\\x9a\\xaed\\xc9\\xc55\\xcf\\xa5h\\x92[\\x19I\\xb9\\x1av\\xb7f\\t\\x96T=8\\xdb]=\\x9e\\xbb\\x05\\xccf9\\x93\\x1f\\xc2>\\x95\\xc3\\xa4\\x85@\\xab\\x11\\xccW\\x04\\x1a\\xc6\\xad\\x05=M\\xa9b%\\r\\x0e\\xdeI\\x8b\\xdb\\xaa\\x86\\x1eJ\\x9c\\xd4M\\xac\\xdaC8@\\x85\\xa4\\xcf\\xde<\\n\\xe5\\x8d\\xdc\\xa6 \\x82B\\x00\\xaa\\xdb\\x98\\xb1.\\xec\\xe4\\xfa\\x9e\\x95\\x82\\xc3>\\xe7G\\xd6\\xd5\\x8e\\x8a\\xe6\\xf1\\xee\\xef\\x02\\xc3/\\xcb&ALt\\xab\\xdab\\xc7\\x18x\\'`J\\xaf\\x19=\\xeb\\x98\\xb6\\x98A(\\x97w\\xce:\\x1fJ\\xd3\\x1a\\xdc\\x8a3\\x84-\\xdc\\x91C\\xa1.\\x83X\\x98\\xf53\\xb5K\\xb9m5\\x80\\xb7\\x08\\xbb_\\x86\\xce\\x0f\\x1d\\x8dt\\x9a`xl\\xd0\\xc7\\x9d\\xad\\x9d\\xa4{\\xd7#\\xa8\\x11yv\\xd7S\\xfc\\xeex\\xe7\\xa7\\x1d+{\\xc37\\x99\\rd\\xceN\\xd1\\xb9\\t=\\xaa\\xa5E\\xf2\\xdcq\\xc4E\\xce\\xc7S\\x0c\\xd1\\xac^Y\\xca\\xbf$s\\xc50J\\xcf)BT\\x1f\\xe1jx\\xb4\\x96\\xe7\\x1eH\\x02%\\xfb\\xc4\\xf5\\xaa\\xf3\\xa1\\x82R\\xecF\\x07\\xca\\x06k\\x89\\xc5&u\\xb8\\xad\\xc8\\xf5\\x0b\\x063\\x89\\xa2\\x1f\\xba\\x03\\x8eG^\\xe4\\xfb\\xd2\\r1\\x8d\\xb9\\x9d\\xc8\\xdb\\xfa\\x9a\\x96\\'{\\x89\\x04m\\x95\\x8c\\x1c\\x8ez\\xd5\\xbb\\xa6\\xd9\"F\\x0f\\xcb\\x1e\\x00\\x1f\\xedU\\xa43\\x9a\\xbb3\\x06\\x08U\\x94F8\\xc5E\\x1d\\xe3\\xa0e;\\x98\\xb1\\xe1\\xb1[z\\x95\\xbc\\xb3\\xfe\\xf1\\x00\\x04\\xf55s\\xc3\\xda\\x0c\\x17\\xd7!.\\xb3\\xe5\\x93\\xb4\\x01\\xd45;\\xa4.F\\xd9\\xcb\\\\G\\xe6\\x8eX\\xbflv\\xaa\\xef\\x03G\\x82\\xc0\\x8e\\xc7\\xd8WM\\xabi)\\xa4\\xea\\rj\\xce:\\xe5;\\x83YR\\xa1(Y\\xc9\\xcf\\x1dh\\xdfbe\\x1b=H-\\xe12r\\x07\\xc88&\\xa3\\xb9\\x8b\\xcc8\\r\\xc1\\x1ft\\x1a\\x04\\xa5\\xb2\\x0628\\x1c\\xd5\\'y\\x15\\xdb\\x12rx\\x03\\x14\\x12\\xecI\\x04H\\x0f\\xef3\\xb8U\\xa9\\x03\\xad\\xbc\\x9b\\x07\\x0c0\\rg\\xc6\\'2\\x17 \\x95\\xef\\xebV#\\xb8\\x1b\\n\\xf3\\x929\\x06\\x98\\xba\\x1d(\\xd4&\\x862\\xec\\xfelDa\\xa3l\\x10G\\xd2\\xa2B\\x9eZ]i\\xec\\xa00\\xc4\\x91J\\xd8+\\xe8V\\xaaY\\x8d\\xd2\\x97W\\x00&A\\x07\\xa1\\xf6\\xa8\\x9bN[\\x97\\x96\\x0c\\xb2\\x87\\xf7\\xe2\\x8fSB\\xc5\\xd3\\xdc\\x19\\x93\\xccFBW\\x00\\x8e\\xde\\xf4\\xbfk\\x924U\\x92W;1\\xb4\\xfdj\\xe6\\x97f\\x90\\x13o#\\r\\x83\\x1b$c\\x96B;{\\x8a\\x8fZ\\xb1\\x96\\xd6\\xe9&\\x8bk\\xdb\\xcb\\xc1 gi\\xfa\\x7f\\x8d \\xd5j2\\xf8\\xe3\\xcb\\x95v\\xb30\\xdcq\\xdb\\xb75\\x11\\x99\\xe0W\\x92\\x13\\xb9\\x80;W\\xd6\\xa3\\xbc\\x86\\xed#\\x8d\\xe3Vt\\xc6>P\\x07\\x15I\\x19\\xd6NN\\xd2:\\x02i\\x8a\\xecv\\xad\\xbc<\\n\\xc5\\x8ec\\xe0\\x9cu\\xcd`O\\x19\\xdcs\\xd6\\xba\\xe6D\\xbf\\xb5\\x08\\xe1U\\xe3\\x1b\\x97\\x07\\xaf\\xb5s\\x97\\x11\\xecb\\x1b\\x83]\\xd8y\\xae[\\x1ef->k\\x99\\x850):v\\xa9\\x8e9\\xa4 \\x1a\\xd9\\x9c\\xf1 +\\x93J\\x17\\x03\\x9a^\\x86\\x8c\\xd25J\\xe3H\\xc1\\xa7+qH\\xc7\\x8a\\x16\\x818\\x8f-\\xc57q\\xcfZ\\t\\xa4\\xc8\\xa0,;w\\xa9\\xa7\\x86\\x18\\xe4\\xd4Y\\x14c4\\x12\\xe3q\\xcd&\\xee*[IZ\\xda\\xea+\\x88\\x98\\x89#l\\xaf\\xff\\x00^\\xab\\x95\\xc5(\\xc8\\xa6\\xb5\\xdcV\\xb6\\xa8\\xf5\\x0b\\x1dR9-\\xa3\\xbc\\x88eJ`\\xa7\\xa3{\\xd3d\\x9d\\xa6LH\\xaa\\xdb\\x8eI\\x1d\\xbd\\xab\\x8b\\xd0\\xf5/\\xb2\\xcc\\xd0\\xcb\\xfe\\xa2^\\x1b\\xd8\\xfa\\xd7O\\x04\\xca%0\\xae\\x07\\xa9=>\\xb9\\xaf:\\xbd\\x17\\x17\\xa1\\xeaQ\\xad\\xed\\x15\\x9b6-\\xa3\\xb7xc\\'\\x8d\\x87\\'\\xfc(\\xb8\\x8f8s\\xcb\\x16;\\xb3M\\x82x\"@q\\x95\\\\s\\xd8\\xfb\\xd4\\xe7\\xca\\x9f,\\x1f\\n\\x0f\\xcc3X\\xf4:\\x92\\xeeT\\x9e\\xdc\\xdcD\\x89\\x1b\\x95$\\xe0c\\xb9\\xcfJ\\xb9\\xa7j\\xab\\xa6\\xbc\\x80@\\xc7\\xe6 \\x1e\\xbbG\\xaei\\xb3[\\xac\\x88\\xd6\\xea6\\xee\\x1dER\\x9a\\xdeH\\xe4\\x8a1\\xf3&:\\x0f\\xe7E\\xaeV\\xcfBK\\x89\\xd7P\\xbd\\x92R\\x06\\xc3\\xca\\x93\\xc9\\xac}P\\x08\\x91\\x99\\x14z\\xfa\\n\\xd2Ga&\\xdd\\x80\\x01\\xd7mW\\xd5\\xed\\x9ax\\x8a\\xaf#\\x1f\\xadRV\\x14\\xb5G\"n\\x15\\x81\\x05H>\\xa0\\xd3\\xd7\\xe7\\xf9s\\x8c\\xf7\\xaa\\xed\\t\\x8eP\\x92\\x0c\\x11\\xefWb\\x1b\\x80<g\\xd2\\x99\\xcb\\xd4\\x89\\xd9\\x91\\x02\\xe7\\x0cN*7,X\\x86P}1\\xde\\xa6~FH\\xcf=i\\x80\\x0f0\\x1eN\\x0fJC\\xb9\\xb9m\\x00Hv\\xb0\\xc6y\\xfa\\x1atBGI7\\xcc\\x0e\\x1b\\xe5\\xedM\\x9a\\xf5\\xe4\\x95\\x89P\\xa3\\xaa\\x129\\xc7\\xd2\\xa5\\x8eVb\\x84\\x90\\xfe\\x98P)\\x1a\\xa2\\xed\\xb2\\xb1Uo0\\xf9\\xc3\\x8d\\xac:\\xd5\\xc0\\xcc\\xeb!\\x94|\\xa7\\x03i\\x1dk0\"\\t\\x0c\\xbb\\x99\\xb2\\xe3>\\xd5x\\x12\\xe3j\\x922~Q\\x8c\\xd0W@h\\xc8pVQ\\xe5\\x8f\\xbc\\xab\\xd0VM\\xfe\\x9d\\x12+K\\x18\\xde_?)={\\xf3Z-\\xa7\\xa0\\xbe\\\\\\xcd$r2\\xe7h\\xcf\\xcc)\\x1e\\xeb\\xecs\\x0bgH\\xcbo\\\\\\xb3\\x0e0;\\x9a\\x10\\xbdL\\x0bV\\xb8\\x17\\n\\xc5\\x0e\\x08\\xe1@\\xe3\\x15\\xad%\\x85\\x95\\xc6\\xdf9q)\\x1fw\\xadE=\\xfd\\xc1y\\x02C\\xe5\\xa2\\x93\\x87a\\x96\\xfc*{\\x1bCq2\\xce\\\\0a\\xc9\\x07\\x1c\\xd5\\xa6\\xe3\\xaafR\\x8cg\\xa5\\x8es[\\xd3WO\\xb8\\xd8\\xbfp\\x80T\\x8fz\\xc55\\xe8\\x1a\\xc5\\x9a\\xdc\\x9f+fH\\\\\\xf1\\xda\\xb9\\x1b\\xdd-\\xad\\xe03\\x10B+`\\xfb\\xd7m*\\xbc\\xca\\xcc\\xf3j\\xd1q\\x96\\x9b\\x19l\\xb89\\xa6\\x91\\x91\\x9as\\x10\\x00\\x07\\xad4\\x1e1Z\\tl&3@\\x18\\xa7Q@\\xec4\\xf4\\xa4\\xc7\\xb5;\\x14\\xe0\\xa3\\xad\\x000\\x0ezS\\xa9\\xdbi\\xa7\\x83@\\x07zR\\x07Zny\\xa5=*\\x90\\x98\\xf8\\xb8>\\xd5\\xd1\\xc7p\\x97\\xba+\\xdb+m\\xbc\\x8f\\xfd_8\\x07\\x8a\\xe6\\x01#\\x9c\\xf3SC+!\\x18<g9\\xefS8\\xf3!B|\\x92\\xb9~=@\\xc8R\\x0b\\x9b\\xb6\\x81C\\x80\\xcc\\x07A\\x9c\\x1f\\xcb5\\xbd\\xa6j3\\xc1p\\xacU\\xae\\xa0\\x92M\\x91\\xc8\\x83\\xd0g\\x9f\\xc2\\xb0]N\\xa94ld\"l\\x05a\\x90\\x04\\x8b\\x9eG\\xb1\\xaf]\\xf0m\\xbe\\x9d\\xa7i\\xf7W76\\xcb\\xe6\\xae]\\xc1\\x19 \\x05$\\x9c}\\x00\\x1c{W\\x9dUr=OR\\x83\\xe7WF}\\xbbG:\\x12G\\xccy \\xf6\\xa9\\x1e\\xdbw\\xcf\\x829\\xe9\\xedZ\\xfe\"\\xbb\\xd3\\xa1\\xf0\\xdc\\x9a\\x85\\xbd\\xac~a\\x03\\xc8\\x1ft\\xb6Md\\xe9\\x1a\\xad\\xa6\\xa2\\x81A\\xf2\\xdf\\x1fp\\x9c\\x90}+%v\\xb9\\x8e\\xb6\\xd2|\\xafs6\\xe5a\\xb4\\xc9/\\x86o\\xf9g\\x8eMTyT\\xa0\\xc9\\x1c\\x83\\xc1\\xabZ\\xdcN\\xe5\\xca\\x9e\\x8d\\x90\\x00\\xe75\\x8b\\x1d\\xa4\\x8c\\x0e\\xf7;\\x8f\\xe4*\\xd6\\xd7%\\xbdl`\\xea\\xaa\\x12\\xe8\\xb8\\xc0RzRD\\xc5\\x02\\x908n\\t\\xf4\\xab7\\xf0/\\x9f\\xb5\\x98g\\xbeNsP\\x84\\xf9\\xb6(\\xca\\xf6\\xa0\\xe6\\x92\\xd4c+\\x8c\\xa1=\\rIo\\x08\\x96U\\xc9*\\x06I?J\\x90D\\xac\\xa4\\xb7\\x0e;T\\xb1\\x80\\xacA\\x00)SA)0g\\x91\\x06\\n\\x001\\xdcdU\\x94\\x95\\xe1`\\xe60T\\x8e\\x07f\\xa8b\\xb9;6\\xac\\x80\\xae8\\xf44E*\\xb3\\x11\"\\x92I\\xc0\\xdb\\xd2\\x91\\xa1v\\xe3T\\x86\\x08\\xa1\\x8db\\xf9d;\\x8b\\xafc\\xe9H\\xba\\xdc~Q\\xf20\\xd3\\xb2\\xee\\xf4\\x02\\xa9\\xdf\\x18\\x93N\\x91\\x84\\x83\\xcc\\x88\\xee\\xe9\\x8c\\xfd+\\x9c\\x8d\\x9e\\xe1\\xd9A;\\xd8ar>\\xe8\\xab\\x84\\x1c\\xf6&uT7:\\x0b\\x8d_T\\x17\\xa7PT$G\\x1e\\x069\\x18\\xc6zT\\xf6\\xd7w\\x1a\\x8c\\x1fj\\x106\\x1c\\xfc\\xc7\\x1d*\\x8c\"Xl\\xbc\\xa3!,z\\xd7I\\xa3I\\nY\\x98^t*pJ\\xf4\\xaa\\x9d)C\\xa14\\xabB\\xa7S%\\x7f\\xd1\\xa2A\\xc0\\xe4\\x92\\x0f|\\xd5\\xcby\\x1e \\x1a\\x12\\xc3\\'\\x95#\\x81W/\\xb4\\xc8\\xeeb\\xf3l\\xc8\\x1fS\\xd2\\xab\\xc4\\xfe\\\\\\r\\x19`\\xce1\\xcdE\\x9b5\\xb2\\x8fR\\xdd\\xb1\\xf9\\xd6gq\\x9e\\x84f\\xaax\\xb8\\xc44H\\x84j7\\x19\\x06H\\xf4\\xac{\\xeb\\xd0\\x8f\\xfb\\xb78\\x04\\xf2+\\x1a\\xea\\xf6i\\xc0\\x12HX\\x03\\xc6kzt]\\xd39\\xaa\\xd6\\x8d\\x9aE\\x12K7&\\x90pqJ\\xde\\xb4\\x8ay\\xae\\xc6q!\\xd4R\\x91\\x9a\\x00\\xa4P\\x80S\\x81\\xa0\\nB1N\\xc2\\x14\\x9ai\\xe9\\x9a\\\\R\\x1a,\\x03G\\xde\\xa7\\x1a)i\\xa1\\r\\xc5(;M)\\xe9Q\\x9eM2Z%\\x8eb$\\x07$\\x11^\\xa5\\xf0\\xf7^\\x96x\\xde\\x02\\xa2I\\x10a\\x93\\x19\\xdc\\x95\\xe5\\x07\\xa5lxgR};_\\xb7\\x90\\xca\\xf1\\xc2\\xcd\\xb6M\\xa7\\x19\\x06\\xb0\\xafO\\x9e:\\x1bak:s]\\x8fB\\xf8\\xa8V\\r\\x06\\xdeH\\x14\\x063l;z(\\xc1\\xaf\\x1f\\xd3\\xb5\\x1b\\xcbK\\xf8f\\x8eF\\x0c\\x8f\\xbb9\\xeb^\\xfd\\xa9ig\\xc4>\\x1c\\x96\\xd6wR\\xcd\\xf3#\\x95\\x19\\xcflW\\x81\\xdfY\\xdci\\x9a\\x8c\\x96\\xf2+&\\xc6\\xc6\\xd6\\xf5\\xf6\\xacpr\\x8c\\xa0\\xe1\\xd4\\xee\\xc5\\xc5\\xc6|\\xfd\\x0f]\\xb5\\x9a-kK\\x82\\xe86\\xd6\\x94\\x006\\x8ewg\\xa7\\xe7Z\\xed\\xa6\\xc4\\xd6\\xdbb]\\x89\\x82\\xa7=H\\x1e\\xa6\\xb9/\\x01\\x99\\xe6\\xd2\\x11d\\x05R9>P{\\x8a\\xeb\\xa3i\\x0bH\\xa0\\x92\\x8b\\xfc5\\xcdR\\x1c\\xb2\\xb2:\\xa9>h\\xa6p\\xde \\xd3\\x96\\xd2s\\x95\\xcbc\\x80+\\x16\\xdeq\\xbdQ\\xb1\\xb8u\\x1e\\x95\\xe8\\x1e\"\\x84\\xdd\\xd9\\x89R\\x00\\n\\x0c15\\xe7\\x0e\\xadk8w\\x8f\\xafaB\\xd8\\xca\\xa2\\xb34\\xcb+\\xe0\\xe3\\x0e:{\\xd3\\x1ay\\x10\\x1d\\x91\\xa9\\xc1\\xe4\\x9fJ\\x829\\x00bK\\x0fj\\xb3\\x1a$\\xad\\xf36?\\xad\\x08\\xce\\xf7\"0\\x86M\\xa8\\xc1\\\\u\\xc7jlw\\x01]cf\\xf9\\xbdE\\\\\\xb9\\x8c\\x86|\\x10\\x1czV_\\x96\\xd1 \\nA\\xeeM\\x05\\xb2k\\xd8\\x8b.\\xf1\\xf3\\x068a\\x8d\\xdb}\\xc7\\xa5YuHTm\\x03\\xee\\xf5\\xc7\\xb5$3\\x08\\xfe]\\xcc\\xcd\\xdc\\x8e?\\n\\xb2\\xd0,\\xc9\\xf2pG\\'\\x1d\\xab\\xab\\x0f5\\x17fq\\xe2\\xe8\\xcaQ\\xd0\\xcf\\xf3H<\\xf3O\\xf3T\\x8f\\xe1\\xfc\\x06*+\\xa8Z6\\xc7\\xb7\\x15XHGz\\xebvz\\x9ety\\xa3\\xa1\\xa4\\x97\\xbeX*N\\x17\\xd4\\x1e*\\xac\\xf7\\x0e\\x8f\\xf2?\\x04g\\x8e\\xe2\\xaa\\x97\\xdc\\x01\\xc74;\\xff\\x00*\\xc7\\x91#ok)+61\\xe4\\xde=\\xaa\\xac\\x9e\\xb5)\\x7f^\\x95\\x0c\\x87\\x8a\\xd1\\t!\\x87\\xa55FM\\x0ciW\\xa6i\\x96.1F{QE\\x00*\\x8av)\\xb9\\xa5\\x14\\x0c\\r!\\xe6\\x94\\xf3ILB\\x1e)GJ\\\\Q\\x83\\xe9@\\x98\\x87\\xa50\\x8e\\xf4\\xf3\\xc50\\xfa\\xd3BlBA\\xa9!\\x04?\\x00\\xe3\\x1d@\\xefLH\\xcb\\x1e\\xf5\\xd7x\\x7f\\xc0\\xfa\\xa6\\xb3\\x08\\xb8\\x8b\\xcb\\x82\\x1e\\xd2\\xccv\\xf3JM-\\xc5\\x14\\xe4\\xf4;\\xcf\\x0f\\xdc=\\xdd\\x8d\\x94\\xd1\\\\mi#\\x04\\x003\\x96\\x1c\\x11P\\xf8\\xa7\\xc0\\x91x\\x89\\xe3\\xbaF[k\\xc5?89\\xda\\xfc\\xf7\\xef[\\x1e\\x1e\\xd0\\xdbG\\xb4[\\x07\\xb9\\x8e\\xe0\\x0f\\x9a9W\\x9f\\x9b<\\x81\\xf9\\xd6\\xb1\\x9dK\\x14\\xc9\\x0e\\xa7\\r\\x91\\xde\\xbci\\xb9S\\x9d\\xe2{\\xf0Q\\xa9N\\xd28[\\r3P\\xf0\\xf5\\xa3\\x1b\\xc8\\x93\\xca\\xdc\\x15Z6\\xc8\\xc0\\x03\\xaf\\xe3W\\xe0\\xd5a\\xb8S\"\\x9c6~`\\x05u\\xdf\\xbb\\x92?.X\\xd6H\\xcff\\xe9To\\xb4\\x9b\\x1b\\xc8\\xa4\\x8a\\xde\\x08\\xe3\\xb8U\\xcayK\\xd4\\xe3\\xbdJ\\xab}\\x19n\\x9d\\x96\\x868\\xdbq\\x03\\xc6y\\x0e9\\x1e\\xb5\\xe7\\x1e(\\xb6h/\\x81\\x07\\n\\xa7\\x01Tp?\\x1a\\xee\\x94\\xcb\\x14d1*\\xe8v\\xb05\\x97\\xab\\xe9\\xe2x$,\\xa3\\x03\\xe6^{\\xd6\\x89\\x99N7G\\x0e\\xac\\x8f\\x1f\\x18\\xc8\\xeb\\x8a|n\\xcd\\xf2\\xa6G\\x1c\\x8a\\xa6\\x14\\xa5\\xd4\\x8aI,\\x0e1\\xda\\xac\\xc54L\\x0ez\\xfbw\\xad\\x0eV\\x8d\\x834R.A#\\x1dN)\\x0c)2\\xef o\\x1d\\x08\\xfe\\xb4\\xc5H\\xb6\\xfe\\xf0\\x9d\\xe4\\xe0\\x0c\\xe2\\x82V\\x0c\\xa20^y\\x04\\xfe\\x95\\x08\\xde\\xda\\x10\\xca\\xb8\\xc2\\xb2\\x85#\\xb0\\xefK\\r\\xc9\\x86\"\\x8a\\xc4\\x16\\xe3\\x83\\xda\\xa2\\xb9\\xbd\\x01B\\xfd\\xe3\\xbb\\x1bim\\xd7\\xcd\\x0e\\x80mb2\\t\\xa0\\x9fR\\xcc\\xcc\\xb7p\\x06\\xc6$N\\x08\\x1d\\xc5eH\\x85I\\xe0\\xd5\\xf6\\x8ahc\\xdf\\x10f#\\x8c\\n\\x96/*p\\x16h\\x9f \\xfd\\xe4\\\\\\x13]T\\xab$\\xac\\xd9\\xc1_\\x0e\\xe6\\xef\\x13$\\x11\\xd4\\x82>\\xa2\\x98\\xc4\\x12krm>\\'\\x8d\\x8c\\x00\\xe5FJ\\xbfZ\\xc4\\x9a-\\xacy\\xad\\xe3%=\\x8eyA\\xd3\\xdd\\x15\\xcf^i\\x8c\\x01\\xcf\\x14\\xe2)\\xa4U\\x8d\\x11\\x90\\x0fj(=h\\xa60\\xa2\\x93\\x06\\x97\\xa5\\x08\\x07*\\x96m\\xa3\\xa9\\xa0\\x82\\x84\\xab\\x0c\\x11H8!\\xb3\\x8c\\x1a$vv,\\xc7\\x93B\\x1fAA\\xcd!\\xa6S\\x81\\xaa$\\x90}i\\xdc\\x8e\\xb5\\x16qJ\\x1c\\xd2\\x13$\\xc0c\\xcd=m\\xf7\\x1e:\\xd4j\\xfc\\xf3Wm\\xa4L\\x8c\\xd0\\xef\\xd0\\x97\\xb9\\xb9\\xe1o\\x0f\\x9b\\xbb\\xd5\\x96d\\xccHx\\x1e\\xa7\\x15\\xb1\\xe3\\xc6\\xd4L\\x96\\xd1\\x00\\xc2\\xc0(\\xd8\\x14aCzVf\\x9d\\xe2\\x98\\xf4\\x8bm\\x9eA\\x91\\xc3\\x06\\x1b{\\xfdj\\xdd\\xa7\\x8f$\\x9e\\xe2h\\xef\\xad\\x12[YN|\\x969\\x00s\\xeb\\\\\\xfe\\xf75\\xd9\\xd3\\xcdMC\\x95=NZ+\\x9b\\xbbh\\xd9\\xad\\xee\\xa6\\x8f\\xbe\\x10\\x91\\x9cW\\xb9Y<W\\xfa%\\x8d\\xfc\\x7f3\\xcb\\x02\\x96\\xda\\x7f\\x88\\x0e\\xfe\\xf5\\xc6\\xf8z\\xcb\\xc3\\x1a\\x8e\\xa5\"\\xac\\x06=\\xc4\\x14\\x8ec\\x9d\\xbe\\xc2\\xbaK\\x8d{K\\xf0\\xf6\\xb5\\xfd\\x92\\xfej\\x80\\xa3$/\\xc8=+,JU4H\\xd7\\x05\\'\\r[5\"\\x0e\\xdbC)R}i\\x97\\x9a\\xac\\x1aNM\\xee\\xd5l\\x85\\x8dc?3\\x8e?\\xc7\\x9a\\xe6\\xbcA\\xf1\\x1bJ\\xd0\\xe5keF\\x9a\\xf1~m\\xa7;Fy\\x035\\xcc\\xdd\\xfcP\\xd3\\xdfY\\xb2\\x99\\xac\\x9ah\\x99@\\x949\\xff\\x00Vs\\x9e?\\x10?!\\\\_W\\x9e\\xec\\xf5=\\xb57\\xa5\\xce\\xaa\\xfe\\tV\\xe5\\xaeDeRbH\\x06\\xaa\\xddBe\\xb6 \\x9f\\xcb\\xae;\\xd3\\xef\\xbcg\\xa5\\xea\\x96\\xfab\\xdbI\\xcc\\xb3m`O1\\xf1\\xde\\x966\\x8a_\\x9e9U\\xb71\\x00\\x8e\\xf8\\xab\\xe5\\x92Wd\\xfbHM\\xd93\\x83\\xf1\\x06\\x9c\\xf6\\xd2\\x99 \\x8db\\x87\\x19\\x05\\x9b\\xe6\\x7f`+\\x9f\\x8d\\x95]\\x1d>\\xef\\xf7Ez~\\xbd\\xa4\\xda^\\xdb\\x86\\x9a X\\x0f\\x91\\xb2x\\xff\\x00\\n\\xe0\\x7f\\xb3\\x1b\\xed\\xa25\\x1f\"\\xff\\x00\\x16:\\x9fj\\xa8\\xcbC\\t\\xc2\\xc7E.\\x9d5\\xbc&\\xf4[\\x9c.2\\x92\\x0f\\x94s\\x80\\x7f\\xcf\\xa5P\\x82M\\x8a\\xf2=\\xb2\\xc96N\\\\\\xf0\\xbf\\x87z\\xde\\xd6\\xd2\\xfbS\\xb1[\\x89&\\xda$\\xc9\\x11\\xc4\\xf8\\xc0\\xf5j\\xc3K\\x13\\x1cQ\\xa7\\x98\\xd2\\x00I\\xc9rA\\xfc\\xeaQm\\x0c{\\x99\\xa5,\\xa68K\\x90\\t\\x03\\x91\\xf9\\xd4\\xd1\\x80\\xaa\\x15\\x95C\\xb0\\xdc\\x14\\'o\\xc6\\x9c\\x1a8#8 \\x8fe\\xef\\xf5\\xac\\xf3|\\xf2NUT\\xbf\\x1bY\\xf1\\xc7\\xd2\\x99\\x0c\\xd1VE`\\xd1!\\x8d\\x88\\xeb\\x81\\xf9\\xd0\"i\\x19T31\\xeb\\x901P\\xa3\\xb1\\xda\\xb9\\\\t<\\xf3S\\x18]H19\\xc9\\x184\\x84\\x85T\\x0b\\xe6\\x1c\\xf3\\x83\\xd6\\xb9\\xfb\\x91\\x96\\xdd[\\x17\\x92\\xc9o\\x11\\\\\\x0f\\x9f\\xbf\\xa5b9,H\\xae\\xec:\\xb2\\xb9\\xc3\\x8awd\\x18\\xa6m\\x195!R\\xbdj<\\x1c\\xd7A\\xca\\x88\\x98`\\xf4\\xa8\\xdb;\\xaa\\xcb\\xaf5\\x1b\\x01H\\xd2\\xe3\\x03\\x1cQ\\xd5\\xa8\\xc6;\\xd2\\x81\\x83\\x9a\\x02\\xe3OJJRy\\xa4&\\x98\\x82\\x8c\\xe0\\xd3sA94\\xd0\\x12\\x0ei\\xc0b\\xa2\\x04\\x9axc@\\x0e\\'\\x14\\x07#\\xa5 \\xf9\\xba\\xd0F\\x054&H\\xb3\\x959##\\xd2\\x92Y\\xd4\\xbeU6\\xd4\\'\"\\x90\\x9c\\xf1B!\\xc5\\x17V\\xf2e\\xc3E3#\\x0e\\x84U\\x88u\\xab\\xd4\\xbb\\x17\\x13\\xce\\xd2\\xb8\\xc7\\xcd\\'=+ \\xf1M\\xde}H\\x14=\\x85f\\xb6:_\\x18\\xc4\\x97\\xf2\\xc1\\xacE\\n\\xaa\\\\\\xa0\\xf3\\x02\\xe7\\x89\\x07o\\xca\\xb9\\t\\x04\\x9c\\r\\xb8U\\xe8Mo\\xd8\\xdf\\xc7-\\xa1\\xd3n\\xd8\\xac\\x0e\\xc1\\x83\\xff\\x00u\\x87z\\x8a\\xf3K0!\\xdcr\\xa3\\x0409\\x04}jb\\xed\\xa1\\xbb\\x95\\xec\\xccQ<\\x910py\\x075\\xdfx+]-+Z8%\\x1f\\xee\\x82~\\xebu\\xae\\n\\xe27\\r\\xcf\\xe1\\xefZ>\\x1eY\\x9bU\\x85b\\x8c\\xbc\\x99\\xce\\xd0q\\xc0\\xeb\\xfaQQsGSh\\xbdSG\\xb2J\\xce\\xe38\\x1b\\x08\\xe4\\n\\xcf\\xb9\\xb7IncX\\xe3`\\x8a\\xb9l\\xf03\\xef\\xefN\\xf0\\x8c\\x97>&\\xb0\\x92D\\xc4[\\x1d\\xd7s\\x1e8?\\xfdz\\xeflla\\xb1\\xd3$\\x8eM\\x920\\x1f;\\xb7Rk\\xc7\\x94\\xb9]\\x8fZ\\xd7W<\\xc9\\xefn\\x1dZ\\'\\x99!g\\xe0\\xe0\\x021\\xf4\\xedY\\xb7\\xd3\\xc2#\\xfb:\\x16\\x11\\x81\\x86u\\x1c\\x93P\\xcd\\x11\\x93\\xfd!\\xd6UQ\\xd0\\x03\\xc37e\\xa7\\xc7k\\x1c1\\x89\\xef$U\\x8b\\xb4hz\\xff\\x00\\xf5\\xea\\xec\\x91\\x9e\\xac\\xaa\\xd1b \\xb8`00T`\\x1fz\\x8eY6/\\x90\\xaa\"\\\\\\x91\\x809\\xabO+]2l\\x0f\\x15\\xbex$~\\x95\\x0e\\xa1j-\\x99\\t\\x01\\x89\\x19-\\x9e\\xb4\\x13b\\x90\\xb6\\x99B\\xb4\\x12\\x10Q\\xb2\\t9\\xcdl\\xdb\\xc8\\xe8\\x81\\xa6\\xda\\x1f\\xb9\\x0b\\xd6\\xb3\\xdeCol\\xbeR\\xfe\\xfaA\\x81\\xce@\\xf7\\xaa^e\\xdaJZi[p\\xe8{\\x11L\\x97\\xa1\\xa1\\xab\\x966\\xc8\\xf0\\x9fv\\x06\\xb2\\xe1Ie\\x00\\x98\\xf6\\x0fRz\\xd6\\x84W\"b7(\\n}\\xbf\\xa5N\"\\x88\\xe0\\xac`{\\x1a\\xd2\\x13qV1\\x9d57s8Z\\x9c\\xed,3QMg$Dn\\x18\\xf7\\xad\\xad\\x80c\\xe5\\xc7\\xa5,\\xb6\\xab<,Kd\\x81\\xc0\\x07\\xa5\\\\k\\xca\\xfa\\x91,,Z\\xd0\\xe6]{T\\x07\\x86\\xc5]\\x966\\x0e\\xc0\\x820j\\xbb!\\xec9\\xae\\xd8\\xfb\\xcbC\\x85\\xefb3\\x83\\xde\\x98A\\x15\\'\\x1e\\x94\\xd6oJN\\xe8Z\\x11\\xf2M#p)\\xc4w\\xa4a\\xde\\x99I\\xa1\\xb8&\\x8c\\x11\\xda\\x95rN\\x00\\xa7a\\x83sT\\x03TS\\xd4f\\x80\\t=*@\\xa4q\\x8aB\\xb8\\x83\\xa5\\x04dR\\x80A\\xa5e\\xf4\\xa6\\x17\"a\\x9an2j^E\\x1c\\x1e\\x94\\xae$E\\xb6\\xa3d\\xe6\\xac\\x11L+L,C\\x82\\x07\\x1djX.\\xe6\\x8d<\\xa2\\xc5\\xe3#\\x05\\x18\\xf1LaQ\\xf584\\xd2L5=k\\xc3z\\x06\\x8b\\xe2\\xaf\\x0b@%\\x81\\x12\\xe6\\xdf\\xf7r4`\\x06\\xe3\\xa1\\xfcj\\xfb|:\\xb3\\xd3\\xe2i\\xacd\\x98\\xcex\\x19\\xea\\x05p\\xfe\\x02\\xf1*h:\\xe6\\xdb\\x93\\x8bY\\xd4#\\x9fC\\xd8\\xd7\\xb8\\t\\xa3\\xba\\x8a9\\xadH\\x969\\x00l\\x86\\xe2\\xbc\\xaa\\xeet\\xa5\\xa6\\xcc\\xf6p\\xae\\x15a\\xae\\xe8\\xc0\\xf0\\xbd\\x94\\xbaD-\\xa7\\xfd\\x9f\\xcbF\\xcb\\xa9\\xdaq\\xf8\\x9a\\xde\\xb9\\x8f\\xcd\\xb5\\x916\\x17u\\x04\\x8eq\\x9c\\xf3T&\\xbe0\\xde\\xc7o\\xf6W\\x9dY\\xf6\\x99#<\\xc7\\xee}\\xabI\\xf7#\\xab\\x00H\\xc8\\xdc\\x07\\xa6k\\x8aRw\\xb9\\xd5\\x15\\xa5\\x8f)X\\x7f\\xe2_\\x1a2\\x1e:\\x92z\\x1fj\\xad-\\x87\\x9f\\'\\x98\\xad\\xca\\x80\\x88\\x8c2\\xa3\\xdc\\xd6\\xed\\xdd\\x88Gu\\x81\\xf9Q\\xc8\\xf4n\\xf8\\xa8&\\xb2k\\x8b\\x10\\xd0\\xba\\xf9\\x839 \\xf7\\x15\\xd2\\x8cY\\x98\\xea-\\xe2\\xf2\\xd7\\xe6d\\x19\\x18\\xe8\\t\\x1d=\\xaa\\x94\\xd0O\\xfd\\x9c#\\x9c\\x87\\x9f;\\xc2w\\xfc*\\xdc3\\x9bi@)\\xe61\\xfb\\xd9\\xe3\\xf5\\xa7]\\xdc\\xd9=\\xca\\xddM\\x12\\xac\\xe7\\n\\x0b\\x0cd{\\x1ad\\x9c\\xf3\\x86\\x063 \\xc1\\x03#\\x9e\\xd4\\xa3\\xf7p\\r\\xd9f\\xdd\\xc8=\\xbd+\\xa8\\xb8\\xd2a\\xbf\\x84\\xbd\\xb1\\x18\\xdb\\x80;\\xe6\\xb0g\\xb2\\x92\\xdaVG\\x04\\x1c\\x0e\\xbd\\xf3\\x9a5\\x11Z]\\xcc\\xa0\\xa1\\xc3wld\\xfeTC<\\x86E\\t\\xc3\\x0e\\x0e\\xeej\\xcc\\x90\\x95\"(\\xc0\\x18\\x18\\'\\xd7=j\\x9cHVv\\xdb\\xf7J\\x9c\\xb9\\xf4\\xa6\\x99/sL\\xb0\\x91N\\x0f\\x03\\xad5\\\\\\xc0K\\x1e\\x16\\xab\\xc5:\\xbbyk\\x91\\x8e\\x01\\xa9Q\\xb6\\x1f\\x98\\x92OoZ\\x91\\x91Mjn\\xa5.\\x8c\\x80\\xb0\\xc8S\\xde\\xa8Me,-\\x89\\x13\\xbfQ\\xcdl\\xc8@\\xc3\\x05\\xe4\\x8e}\\xa8\\x89\\xfd$\\xc7\\xb5o\\n\\xee(\\xe7\\x9e\\x1e\\x13w9\\xe6\\x88\\x03\\xc89\\xee\\x08\\xa8Z.x\\xe9]R\\xc3\\x0c\\xccL\\xb1+\\x009&\\xaa\\xcf\\xa3\\xa3\\xa9{y\\x02\\xaf\\x18\\xdeG5\\xbcq\\t\\xees\\xcf\\x0b%\\xb39\\xc3\\x1f\\xb54\\xc2X\\xd6\\xa3i\\xb7D\\xb3\\x04\\x04/R\\rI\\x0e\\x95u)\\x03\\xca*;\\xb1\\xc6\\x00\\xad]H\\xa3\\x0fg7\\xd0\\xcaX\\x089\\xa9\\x049\\x19\\xe6\\xba\\x08\\xb4\\xdbH\\x8b$\\xd2\\xb3\\xb68*p3R\\x0b\\x1b0\\xe0yr?<\\x8d\\xc2\\xa7\\xeb\\x104\\xfa\\xa4\\xd9\\xcf\\xa5\\xb9c\\x84Fc\\xec)\\xdeA\\xc9\\xeb\\xc7^:W_\\x1d\\xeaC\\x1b\\xc3mo\\x0c`\\x8c7\\xca\\x18\\x9f\\xc4\\xd3\\x15\\xe3WS-\\xb4\\x12\\x0fM\\x98\\xcf\\xd6\\xa1\\xe2\\x15\\xcbX6rF\\x02~\\xef9\\xe9L1\\xe0\\x9a\\xec\\xaenf\\x9a\\xd9\\x91d\\x8dUXb5\\x8cp\\x08 \\x8f\\xd4~U\\x91\\x16\\x934\\xd3,k\\x81\\xb9\\xb0\\t\\xfa\\xd6\\xb0\\xad\\x16D\\xa8J.\\xc9\\x18EF2j0\\xbc\\x9c\\xe3\\xf0\\xad\\xfdCF\\x82\\xc2f\\x8ak\\xbf\\x9c}\\xe0\\x8b\\x91\\x9a\\xc6e\\n\\xec\\x17\\x05{\\x1cb\\xad;\\xa2\\x1a\\xd4\\x87`4\\x851R\\xe6\\x9a{\\xe6\\x98X\\xac\\xc3\\x9a\\x84\\xaf\\xcfV\\x08\\xc9\\xa8\\xca|\\xf4\\xc5a\\xe9\\x19c\\x81\\xcdzg\\x82\\xaf\\x1e\\xcf\\xc3\\xd2\\xcbuzm\\xe1Iv\\xc7\\xf3t\\xe3\\xf9W\\x9dB\\x9b\\xbf\\x1a\\xed\\xd7M\\x8b\\xfb*\\xc1\\x89\\xdf\\xfb\\xb3!^\\xc01?\\xae1XbZ\\xe4W:0\\xa9\\xf3\\xdd\\x16N\\xb15\\x85\\xec\\xf3E}\\xf6\\xa9\\x8b\\x12\\xb3)\\xc6A\\xe9\\x91\\xdf\\x8cq^\\x8f\\xe1\\xa9\\xaeu\\r\\x0e\\xde\\xea\\xe2Q+8\\xce\\xfd\\x98\\xfc+\\xc9\\xdd\"va\\x19\\x07j\\xf0\\xbd\\xeb\\xa6\\xf0\\xb7\\x8b\\xe4\\xd2\\x11,n\\xa3\\xf3,\\xcb|\\xa4\\x9c\\x18\\xfds\\xf9\\xd7\\x9bR\\x17WG\\xa7\\x19;\\x9aWA-\\xae\\x9e1\\x10\\x0b+\\x021\\xd4\\xfdk6\\x08\\x0c\"UM\\xdb\\xbc\\xd2y\\xe88<WK/\\xd9\\xafY\\x1a5\\xc9p\\x01\\xcf5G\\\\\\xb4\\x10\\xdbA$a\\t\\x90\\xe3\\xe5\\x18\\'\\xf1\\xa12\\x9a9\\rR\\xc2\\xe2\\x18\\x85\\xc8\\xc6\\xd2q\\xb8\\x0e\\x83\\xd6\\xb3\\xa3\\x02A ;\\x89\\xc6\\x14\\x8fZ\\xecE\\x8c\\xb7\\xe8\\xb1e\\x920\\xbc\\xee\\xe9\\x9f\\xf3\\x9a\\x82\\xe7\\xc3\\x06;\\xa46\\'\\xcd\\x00d\\xaf<\\x13\\xe9\\xf8U\\xdd-\\x08\\xe5\\xeaqq\\xb4\\xb63*A<\\xc93\\xb8\\xdb\\x12\\x90A\\xecI\\xc8\\xfa\\xfe\\x15\\xb3\\xe5\\xcd;\\xc7\\x1d\\xd0\\x8eB\\xe7\\x86\\xc9\\r\\x8e\\xf4\\xdb\\x9d$\\xc5r\\xaf6\\xd4?xc\\xa8\\x02\\xb3\\xa5\\xd4\\x8d\\xa8+3+\\xcf:\\x80\\x10\\xe7\\x11\\x8e\\xb8\\xfa\\xe3\\x19\\xebM!y\\x1aq\\xda\\x19f\\x98\\xa2\\xa1F!U\\x93\\xa2\\x8e\\x87\\x1e\\xf8&\\xb1\\xf5[\\x98\\x91%h`\\t\\x10o.2\\x0eY\\xcfO\\xca\\xb54\\xe5\\x9a\\xe5\\x07\\xdb\\xa5Bd\\xdb\\xb6 8\\xc62?\\x0cU=Q\\xe1\\x8e\\xfe8c+p\\xeb\\xc9\\xc2\\xe1\\x10r0\\x07\\xd0\\xf5\\xcfjB\\xb1\\x91\\x11-\\xb1\\xf3\\xf3\\x11\\x8c\\x0e\\x05J[\\xec\\xfeZ\\xca\\xd9\\x9a\\\\\\x90\\x07S\\xcf\\xe9\\xc7\\xf2\\xa9cD\\xb72:(wA\\x9c09S\\xf4\\xe9T\\xa4\\x8d\\x84\\xb8\\\\\\x99\\x1c|\\xcd\\xdf\\'\\xfaQ\\xa0\\x99v\\x07\\x7f+.\\xdb\\x8bs\\x93R*\\x82s\\x9a\\x89\\x02!TW\\x0f\\x8f\\x98\\xe3\\xa0\\xe7\\xa5=\\x90\\xa4;\\xb0~n?:D\\x93\\xe7p g\\x07\\xf5\\xa7(\\x06&\\x8d\\xd3p\\xcf\\x198\\xc5@\\xac\\xca\\xc0t\\xc5H\\xce\\x02\\xf3\\x82qC\\xb8\\xee\\x89l\\xdbk\\x94+\\x84\\'\\xe6$\\xf55\\xa8\\xd1\\xc6\\x1f\\x0c\\x15\\xb8\\xebX\\x98\\xe0a\\xbf*hi\\xa3S\\x82\\xcc\\t\\xeej^\\xa1{\\x1bMi\\x0c\\xc0\\x15UP9\\x02\\xa1\\x9a\\xda(\\xe4\\x88\\xb9\\n\\x18\\xf5\\'\\x1cUqp\\xc3\\xcb\\x99\\x1d\\x83\\x01\\xf7OLSn.\\x84\\xdb\\xb7nb\\xcd\\x95\\xc9\\xe0\\n5\\x15\\xc5\\x11E-\\xcb\\x95;Glt\\xa9>\\xc9)\\n\\x03\\x1e\\xa4\\xf3\\xedY\\xcfxP\\x86\\x00\\x83\\x9e@\\xe9Vb\\xd5\\xd5\\xa0\\x04\\xe5YOZvar\\xfa\\xda\\xb2\\x16ge^0\\x03q\\x9adw+\\x04\\xf0\\xe7\\x82\\x08$g\\xdf\\xadf\\xb6\\xb0\\xb2\\xaa1m\\xdb\\x00\\x18=zv\\xa9m\\xef\\xedn\\x9b\\x97Va\\xc7\\xbdR\\xba\\xd4wM\\x145%\\x95\\xa6\\x91\\xdc\\xe4\\xe4\\xfc\\xc7\\xbf\\xbde\\xed$\\xf5\\xae\\xbaX\\xa1\\xba\\x85al\\x10N\\x03\\x01\\xca\\xd66\\xa7\\xa4Oc;\"/\\x99\\x1a\\xf1\\xbdN\\x7fJ\\xf4)\\xd7\\x8bV<\\xf9\\xe1\\xe5\\x17s \\xa9\\x06\\x91\\xb9\\x18\\xa9\\x80\\x0cq\\xd0\\x8e\\xb9\\x18\\xa8\\xe4P\\ri{\\xecf\\xbc\\xc8q\\xedL#-\\x81\\xd6\\xa4f\\xc7\\x14\\xc5\\xc6\\xe0j\\x92\\x13,\\xdb\\xc6\\\\\\xaa\\x8e\\xa4\\xe2\\xbb\\xf9vD\\xdeC\\x0c\\xf9h\\xb1\\xb0\\xf4 \\x00\\x7f\\x95s~\\x17\\xb5I\\xf5x\\x1elyQ\\x9f2A\\xec+z777\\x13\\xdd\\x82\\x19fc\\'\\xe0I\\xaeLS\\xd9\\x1d\\xb8H\\xdbR\\xa4\\x91\\xc4\\'c\\xb7\\xe4\"\\xab\\xbd\\xc2D\\xbb\\x9b\\x04\\x83\\xd3\\xda\\xac\\xcf\\x93!\\x1c\\xe3\\x9a\\xce\\x9e\\xd0J\\x873\\x80\\xc5HU\\x02\\xb9Q\\xd5.\\xe7\\xae\\xf8v\\xd2U\\x01\\xe4\\x03\\xe7\\x00\\x80F\\n\\xf3Rk\\x1a\\x1e\\xfd\"\\xdaD\\xc8x\\xdc\\xc8\\x06r0y\\xc0\\xaaK\\xaf\\xcdl\\xe8\\xd7\\x11\\xedW\\x009\\xc7~\\xf8\\xad\\xe3\\xa9E\\x7f\\xa5&\\n\\xc6\\xdc\\xc8\\x00\\xee0@\\xfe\\x95\\x8d\\xcd\\x8e~\\xde+\\x9b\\xb7X\\xca\\xaa\\xc6\\x06W\\x1cd\\xf7\\xcd_y\\xbe\\xc0\\x9eHPx\\xfb\\xc7\\xbf\\xa5$\\x12\\xc9\\xe6\\xb4k\\x10\\xd8W\\xccV\\xf6\\xaa\\xc6G\\x95\\xday\\x15[h\\xf9FsT\\xf5\\r\\x8c\\xbd{O2\\xdaIq\\x00\\x05\\xdb\\xe5\\xf9\\x87A\\x8eq\\xef\\\\d\\xb61\\xda\\xa2\\x96\\x81\\x9ar\\x01]\\xe3\\xa7\\xa15\\xe8\\xb1\\\\<\\xf1\\x8b{\\x88\\xf8\\';\\xbbg\\xb5cx\\x9e\\xd5\\x1eH\\xe4\\x8c\\xe3*\\n\\x908\\'\\xbd8\\xdcS9k8.\\x9a$y\\xbc\\xb7\\x91\\xe4(\\xdb\\x8e\\x00\\x18\\xc7\\x00\\x0e\\xc0{U\\x84\\xb3\\x8a7k\\x98\"\\x92\\xe609\\xf2\\xd3\\x1bGn?\\nGY\\x8cq\\xc7${\\x957\\t\\x14\\xf0\\x18{\\xfdzS-\\xe5Y\\xa6\\x1f\\xbc\\x91w\\x12\\xf3\\x10v\\xfc\\xe4\\x8e\\x9e\\xd8\\xed\\xda\\xa9\\xa6fU\\xbeH\\xe5\\x81\\x9a\\xdc\\xf9nX\\xb4\\x8a\\xe3\\x07=G_\\xe5X\\xb6\\xe3\\xcetEl1\\xc8c\\x8a\\xea5\\r\\x16i\\xe4\\x8ey\\x13\\x16\\xe8I\\x00\\x9c\\x06\\xe9\\xd8z\\xfb\\xe7\\xadP\\xfe\\xcf\\xf2m\\x8a\\xc5+,\\xec1\\x84N\\t\\xef\\x83\\xfdi&;\\x19\\xbeTp\\xcf\\xb2IF\\xe69\\xc2\\x9c\\x93\\xf8P\\xf7\\xc8\\xf2|\\xa4\\xf9C\\xe5^1\\x91\\xeb\\xfc\\xeai\\xf4\\xbb\\x90\\xf3\\xc6\\x15\\x10\\xb1\\n\\x180\\x07\\xa79\\xaa\\x93X\\xcdk2A/P\\t%Fx\\xe3\\xa1\\xfc\\xe9\\xe8CD\\xc5\\xdb\\xcc%Ac\\x9c\\xd2\\xcd1FEu\\xfb\\xc3\\'\\xd8TQ\\xc8a\\x0e\\xdc\"\\xaf\\x04g<\\xe3\\x80=j3+1gw\\xdf\\x9cR&\\xc5\\xc0\\xea9\\xcf\\xb6)\\xcf1\\x07\\x05y\\x1e\\x9d\\xaa\\xa42o\\x91\\x9c\\xba*g\\x1f1\\xab1\\xa1 \\xb1 !\\xe8;\\x9a\\x00\\x902m^\\x99\"\\x98\\x00\\xdcA\\x1c\\x0fZ\\x88\\xab\\tA\\x00\\xec\\x1c\\x1c\\xff\\x00\\x9fzy\\x97\\x0b\\xceCg\\x83@\\xae\\xc2\\xe3\\x04)\\xfe\\x95\\x14\\x96\\x912\\x07o\\x94\\x9e8<\\x1f\\xc2\\x9e\\\\9\\x19\\x19`9\\x03\\xa55\\xe4\\x01@BK\\x1e\\xa4\\x7f*\\x10\\x15\\xda\\xd6\\'`\\xaa>P{\\xf3J4\\x85\\x88\\xeeF\\xc4\\xa4\\xe5X\\x1e1\\xe8h\\x8eg2\\xe1S\\x00\\x0c\\x9a\\xb4\\xb9\\x90d\\x86\\x1e\\xe4\\xf1N\\xec\\x11]/\\xe7\\xb0\\xdb\\xf6\\x95wQ\\xfcJ8\\xff\\x00?Z\\xd6\\xb5\\xd4Q\\x88\\x99\\x00\\xdcFHc\\xfe\\x15Q<\\xb2\\xbe[\\xe0\\xf6\\xe6\\xb3\\xaet\\xf9\\x95\\xd8\\xda\\xb1Q\\xdcv?J\\x13\\x1b\\xb9\\xb1v!\\xbd\\x97{\\xc5\\x82z\\xed\\xaa\\xf2h\\xb1\\xca\\x01B\\xc0\\x908\\xac\\xd8\\xaf\\xae\\xad\\x86\\xcb\\x8e[?;v\\x03\\xdb\\xde\\xaeA\\xab,\\xc3\\x04\\xe3\\x9c\\x0c\\x1a\\xb5Rq\\xd9\\x90\\xe1\\tn\\x8a\\x8f\\xa4N\\xacp\\x01\\x14\\xc5\\xd3gf\\n!b\\x7f\\xd9\\x19\\xadT\\xd4b\\xc0m\\xe5\\x94c\\'\\xf1\\xc5^\\x86K{\\xa1\\xb6E\\x04v\\xcdj\\xb13[\\x99\\xbc4^\\xa8\\xcd\\xb5\\x00\\xc2t\\x90^;\\x8b\\x86\\x1et\\xab\\xff\\x00,\\xd7<\\xf1\\xf4\\xab\\xd7\\xcf.\\x97yj``l\\x99D;\\x0f,\\x08\\x1d\\x7f\\xc6\\x85\\xb0\\x82\\x02E\\x93\\xb0\\x19\\xdd\\xb3\\x1djK\\xa9\\xc4\\x8f\\x1aKn\\xc8Tu\\x1c\\x8f\\xade)\\xf3\\xbb\\xb3jp\\xe4V%s\\xbd\\x94o\\xe0\\x8e\\x9e\\x9fZ\\x81\\xe3\\xe9\\x81\\x90\\xa7\\x8cQ\\xe7y\\xaeq\\xc8\\'\\xe9RG\\xb9X\\x11\\xf7?\\x88T3]\\xcfCPo,eF\\x7f7.HFQ\\x85\\xc7\\xa1\\xc6q\\x9c\\x8a\\xa4\\xc2H\\x8f\\x97\\x92\\xb8\\x1f\\xea\\xcbf\\xac\\\\\\xeaR\\x85\\x11\\xdbE\\x16\\xd9\\x06%|\\x10P\\x81\\x91\\x8e}j\\x18\\x90\\xa3a\\xbf{\\'\\x19=\\xf1X\\xeal\\x89\\xac\\xb5\\x19c\\x9aEvfG\\n\\x81\\x98r\\x07z\\x9c\\xb9h\\x1aH\\xd4\\x15\\'\\n\\x17\\xb9\\xe9Q^E\\xe5N<\\xa6e`\\t\\xc9\\x1c\\x1f\\xadf\\xb4\\xd7\\x96H\\x12B\\xa5\\x0b\\xe44y\\xe0U\\\\L\\xe8n#\\n\\xaa\\xaa\\xf8r0I=\\x08\\xa7>\\x9fmsm\\x04/\\xff\\x00,\\xd0\\x16c\\xdc\\xf7\\xac!s\\xbex\\xe43,\\xc1\\x89s\\x82@>\\xd8\\xf5\\xadW\\xba)l\\xc3r\\x96\\x90\\x1f\\x94\\x7f\\x0f\\xb5\\x02Eq\\xa4Y\\xdc\\xd9I\\x12#\\x12@\\xc3u\\xe6\\xb9\\xc1\\xa3H.^&9\\t\\xd0\\xb7\\xe3]S\\\\\\x8d?O1\\xc4\\xc0\\xdc0\\x0c\\x9e\\xdf\\xe7\\x06\\x99\\xaayL^8\\xf0e$\\xe7\\x1c\\x9aw\\x0b#&\\xe5!\\x80>\\xf9\\x0f\\x96\\xb1m<\\xe7\\x9c\\xf5\\x15\\x95j\\xb2\\xcf+\\x15\\x8c\\x9d\\x88\\xc8\\x8a;\\x83\\xce~\\xb9\\xc7\\xe5[\\xf6\\xb1DvE<?(<\\x8f\\xa0\\xefW\\x13K\\x8aw\\x95\\xa0\\xc2mf\\x00\\xe7\\x03\\xdb\\xf1\\xa2\\xe0\\xe2r\\xad\\xa6Cp\\xf2\\xb0$\\xb4\\x8e\\x11K\\x0c\\x8c\\x0c\\xe6\\xb3o4\\xec \\x1eh`\\xc7%\\x00\\xc0P?\\xfdU\\xd8\\\\\\xd8}\\x96d\\xb7^\\x17\\xefn\\' \\x92j\\x83Y\\xcby\\xe7\\xeex\\xd1\\xa3\\xdcw\\x11\\xdb=~\\xbc\\x9a\\xa5b\\\\N%bB\\xb9\\xf2\\xcaK\\xb9\\x8cj\\x06x\\x03\\xaf\\xa7\\xb75\\x14\\x90\\x97\\xbb\\x90\\xb2\\x05\\x8dH@B\\xf0\\xc7\\xbf\\xf2\\xfdk\\xab],$1\\xa4M\\x1f\\x07\\x1f/\\x04\\x8e\\xa7\\xbf\\xb5e\\xc9mw\\r\\x8c\\xa8\\x84&\\xe3\\x90\\x88\\x06}2\\x7f\\x0ei\\x90\\xd1\\xce\\xa2G,\\xec\\xa8\\x89\\xb52X\\x9f^\\xd5\\xa7\\x13\\xa3e[fPv#\\xf9Sm\\xf4i-\\xe0c,j\\x9b\\xf3\\x8cK\\xcf\\x03\\xb8\\xc7\\xb1\\xa8\\xf5#$\\x16\\x86%1\\xa9\\x90\\xf2\\xd2\\x1d\\xaa\\xaa\\x00\\xeas\\xebCD\\xdbAf\\x9a6\\x05\\x11\\xf7\\x009 pO\\xb5Bf\\x18\\xe1\\x0bz\\x10*\\x95\\x9cr\\\\\\x86\\xf2^3\\x1aq\\x95\\'n\\x7f\\x1a\\x98F\\xea\\x00uB\\xc3\\xb7_\\xe7J\\xc2\\x15a\\xdd)f\\xde0p\\x17\\x18\\xad(\"\\x8d\\x80\\xc0\\x03\\x03$\\x9e\\xc2\\xb2m\\xee\\xed\\xa4w\\x8d\\x8c\\xad8;\\x7fr\\x98\\x07\\xff\\x00\\xd5\\xc5nC\\x1ay@+)$`\\xfc\\xfbH\\xf6\\xc14\\x0c\\xce\\x9d\\xbc\\xf0\\x16\\x18B\\xa7V\\x90\\xf0O\\xff\\x00Z\\x9bn\\x11q\\xf22\\x9e\\xdd\\xf3W\\xe6\\xb4p\\xb2\\x8d\\xaap~v\\xf4\\xe3\\xa0\\xfa\\n\\xa7\\xa8I\\x1d\\xa9\\x8d\\x16\\x15\\xce3\\xf7\\xf1\\x8f|b\\x80\\xb1`\\xe1\\x90\\x02\\xacy\\xf4\\xe0R$\\x98;Xu\\x19\\rU\\xa3>r\\x19U\\x99\\x95{\\x93\\xfex\\xa9bx\\xdc\\x80I\\xe7\\xf2\\xa4\\x05k\\x8bm\\xd2\\x02\\xcc\\xcc\\x99\\xc9\\xfa\\xd3\\x7f\\xb2Q\\xc2\\xec\\x91A#o^\\x875~U\\xd8\\xe5\\x14g\\xbe{RGj\\xea\\xfex\\xc6\\xc5\\x18H\\xfb}O\\xebM6\\x16L\\xc4:5\\xf4\\x8a\\xcd\\x11*\\x89\\xd0t\\xc6z\\x1a\\x82\\xdeK\\xe8\\x8a\\x80\\xb2\\x05\\x8c\\x12I\\xef\\xff\\x00\\xd6\\xae\\xae\\ra\\xbc\\xc3\\x04\\xf0\\xeeU\\x05d\\x95p\\t>\\xd4\\xb3j\\x9ay\\x82D[VV\\xda\\x10g\\x04\\xf1\\x9a\\xbear\\x99V\\xda\\x88\\xde\\x15\\x88\\x0cF\\t\\xf4\\x03\\xa9\\xadH%Y\\x81q\\xcc}\\x88=k\\x9c\\xd4m\\x0c\\xb8\\xfb*\\x80\\x0f\\xf0\\x93\\x82{\\xf5\\xa6\\xda>\\xa3d\\xd1G\"D\\xa8\\xdd\\x11\\x0eN=\\x05&\\xbb\\x02gJ\"\\xc4\\xa0\\xa3c>\\xa3\\xadZ\\x8dG\\x92\\xc8\\xce\\xc3\\'\\x07\\x04\\xff\\x00*\\x86\\x1d\\xd71d\\x9f.D\\x1f\\x97\\xd6\\x9c\\x11\\xa3O9\\xb2\\xe8p\\\\\\x03\\xf7}\\xe9\\x1a\\x1d\\xd5\\xcd\\x8aIn\\xb2\\xe4\\xa9\\xdd\\xbbv\\xef\\xc8Ux\\xee\\xa2\\x94In\\x98\\x8e\\xe0\\x8eN:\\x03\\xdf5\\x1c\\xd7&\\xee$\\x1b\\x8a\\xc1\\xc79\\xc0\\x1e\\xd5\\x0cv\\x10\\xca\\xc1RRF\\x06H=\\x7f\\xfa\\xd5\\x9a6d\\xb6\\xd0\\\\\\xd9\\xca\\xc6i\\xfc\\xf4$\\x85\\xc3n\\xe9\\xebIv~\\xdc\\xe8\\xaa\\x8c\\x9bz\\x8c\\xd4\\xf3\\xdb\\xfd\\x99<\\xe8\\xa3WA\\xd4c\\x865\\x1e\\x9a\\xa6\\xfde\\xb8\\'\\xcb@q\\xe5\\xa8\\xeb\\xc0\\xef\\xe9\\xc5\\x0c[\\x95\\xe4\\xb2\\xf2YT\\x7f\\x10\\xe0\\x81\\xd3\\xf1\\xa7\\xb3M\\x12\\x91\\x80\\xd8\\x1d3Z\\x96\\xaa.`\\x9d$o-b\\x04\\xeeQ\\x9cVf\\xf9.\\xac$\\x91\\x13\\x94r\\x17\\xdc\\x7f\\x9c\\xd4\\xea6\\x88e\\xb8yH\\xde6\\x91\\xf7\\x18\\x1a\\xd6\\x82\\xe1\\x1d\\xd2U\\x88\\xb1\\x8cc\\xafS\\xea\\x7fO\\xca\\xb2a\\x82[\\xb8<\\xd1\\xb4K\\x17-\\x1fr;\\xe3\\xf5\\xfc\\xaa\\x9c7fgv\\x8cK\\x1e\\xd2A\\nH\\xaaD\\x9dl\\xf2\\x0b\\x80\\xc0\\'\\xdf\\xf9\\x83{\\xfaV47R\\xa5\\xe4\\xb30p\\x84l1\\x03\\x80\\n\\x8e3U\\xe2\\xd6\\xa4\\xb1GS1(~^A%j\\x7f\\xb5\\xd8\\xca\\x80\\xa4\\xec\\xec\\xe7{\\x96\\x1fw\\xa8\\xa0w4\\x8b=\\xcc\\xd6\\xecb\\x03\\x96\\xf97\\xe7\\xe8j+\\xcb[\\x8bh\\\\ \\xc4\\x92!\\x1bG\\xe7PY^\\xa2J\\xa1\\x80 \\x1c#zV\\xc3\\xde\\xc5s4\\x82s\\x90\\xa3\\x04\\xe39\\xf6\\xa7q\\x1c\\xfd\\x94\\x13\\xad\\x82Mr\\xbf18\\'\\xfb\\xa2\\xa0\\xb8\\xb7Y\\x84\\xa26p\\xbc\\xe2@p?:\\xd8\\xb5\"\\xea\\xde\\xe2)P\\x14/\\xc2\\xe3\\x05MT&\\xd29\\x0e\\x9f\\x14\\xcc\\x19\\x14\\xbe\\xe7^\\x07\\xa0\\xfdM;\\x85\\x8c\\tt\\xa9\\x12&\\x90\\x87c\"\\xed.\\xccI>\\xc3\\xdb\\xff\\x00\\xad\\\\\\x9d\\xe4\\xb3K6\\xd4\\x85$bp\\x03&@\\x1dk\\xd1l\\xe3\\x97p+*\\xec^~a\\x9a\\xa3u\\xa5Y\\xc9<\\x84\\xef\\x8aNY\\x89\\xe8x5I\\xa2%\\x1e\\xc7!ko8\\t\\x10E\\\\\\xf2\\xdbT\\x8c\\x93\\xfeE28\\xd2tD|\\x16\\xc7\\x19\\xe0\\x95\\xc7Z\\xea\\xa5\\xb3\\xb5\\xb7\\xf2\\x0e\\xf6\\'\\x80\\xdcu\\xaa\\xe9eh\\xb3\\x99\\xfeff\\xe0\\x001\\x8cp\\x05;\\x93\\xca\\xcc\\xe8tV\\x94awF\\xac\\x00\\xfd\\xd0\\xc7\\x1e\\x95\\xa1k\\xa7E\\x01\\x8e+\\x89\\x17*F\\x01\\x19j\\x98\\x89RG\\x88\\xbb\\xe5\\xc6\\xe1\\xce=\\xb1S[\\xe9\\xb9P\\xf8o\\xb5n\\x02=\\xcd\\x85\\xeb\\xde\\xa5\\x94\\xa2V+\\x1c1\\xedB\\xd2\\x17nW\\x1e\\xbd\\xba\\x01Ywzg\\x9ds-\\xd3\\xc4\\x19\\xd9\\x88\\x07o+\\x8a\\xe8.!\\x9a\\'\\x90\\xf0pxa\\xcf#\\xbf\\xebU#\\xbb(\\xa7;ZL\\xed$\\xf6\\xcd\\x01c\\x0e\\xea\\xd5g\\xb4\\xf2\\x901e\\x19`\\x9c\\x12\\xc4\\x9f\\xe83Y\\xf0\\xda\\xc9\\x119`\\xdc\\x8d\\xd8\\x1d}\\x85v\\xf6\\xd1$M\\xb1c%\\xd9\\x81-\\x9e;\\x0f\\xf1\\xaaS<\\x12_\\xc9\\xb1YN\\xd27\\x13\\xfa\\xfdi\\\\\\x9eS\\x12+\\xc0\\xf3\\x08\\xa4P\\xad\\xfd\\xd1\\xdf\\x9c\\xe0\\xe3\\xa5N\\xb9\\xb8\\xb8YWxRr\\xa0\\xf1\\xfaV\\xa2Am\\x1a\\x92\\xd1.\\xd3\\x8c\\x06\\xeahA\\x01\\xba;\\xb1\\x1aF\\xc5q\\x8e\\xdd(\\x1d\\x8cWBFZ.\\x0f\\xaf\\xb5Wh\\xcbnd\\x8fh\\xe3<\\x13\\xc5u\\x8fan\\xf3\\xbc~f\\x14.0z\\xe2\\xb3\\x9e\\xc62\\xc4F\\xd9\\x18\\nH\\xff\\x00>\\xf4&\\x0e&=\\xad\\xb1\\x94\\x85G\\x04\\x8eq\\xdcT\\xd2\\xd8D\\x91\\xb1l\\xb9\\xeaF3\\xfa\\x9a\\x9e\\xe2\\xd28g\\\\8I8`A\\xa8\\xe6\\xb8\\x96\\x07\\x8d\\xe3\\n\\x1d\\x0f\\xcd\\xcf\\xafzw&\\xc5x|\\xc8#1\\x85\\x11d\\xe7\\xd4\\x9f\\xadi[6\\xe8\\xd9d\\xc6OF\\xecMM\\x15\\xf7\\xdb@V\\x829\\x1f\\xa6q\\x8c}*\\xa5\\xfd\\xac\\xa92\\xecg\\x07\\x9e=>\\xb4\\r\\x1f\\xff\\xd9'>"
            ]
          },
          "metadata": {
            "tags": []
          },
          "execution_count": 55
        }
      ]
    },
    {
      "cell_type": "markdown",
      "metadata": {
        "id": "xdYAsbYMvOVI",
        "colab_type": "text"
      },
      "source": [
        "##解码图片"
      ]
    },
    {
      "cell_type": "code",
      "metadata": {
        "id": "5Hd96jiuWE4f",
        "colab_type": "code",
        "outputId": "46097c16-5bcc-47c7-8724-413b835e9d10",
        "colab": {
          "base_uri": "https://localhost:8080/",
          "height": 0
        }
      },
      "source": [
        "#解码图片\n",
        "image_tensor=tf.image.decode_jpeg(img_raw,channels=3)\n",
        "image_tensor=tf.image.resize(image_tensor,[256,256])\n",
        "image_tensor"
      ],
      "execution_count": 56,
      "outputs": [
        {
          "output_type": "execute_result",
          "data": {
            "text/plain": [
              "<tf.Tensor: shape=(256, 256, 3), dtype=float32, numpy=\n",
              "array([[[ 92., 102.,  75.],\n",
              "        [ 84.,  94.,  67.],\n",
              "        [ 67.,  77.,  50.],\n",
              "        ...,\n",
              "        [101., 101.,  77.],\n",
              "        [100., 100.,  76.],\n",
              "        [127., 127., 103.]],\n",
              "\n",
              "       [[ 98., 108.,  81.],\n",
              "        [ 86.,  96.,  69.],\n",
              "        [ 74.,  84.,  57.],\n",
              "        ...,\n",
              "        [100., 100.,  76.],\n",
              "        [104., 104.,  80.],\n",
              "        [122., 122.,  98.]],\n",
              "\n",
              "       [[102., 112.,  85.],\n",
              "        [ 90., 100.,  73.],\n",
              "        [ 84.,  94.,  67.],\n",
              "        ...,\n",
              "        [ 94.,  94.,  70.],\n",
              "        [100., 100.,  76.],\n",
              "        [102., 102.,  78.]],\n",
              "\n",
              "       ...,\n",
              "\n",
              "       [[160., 145., 116.],\n",
              "        [179., 164., 135.],\n",
              "        [177., 161., 135.],\n",
              "        ...,\n",
              "        [ 95.,  95.,  71.],\n",
              "        [105., 105.,  81.],\n",
              "        [110., 110.,  86.]],\n",
              "\n",
              "       [[147., 132., 103.],\n",
              "        [164., 149., 120.],\n",
              "        [170., 154., 128.],\n",
              "        ...,\n",
              "        [103., 103.,  79.],\n",
              "        [114., 114.,  90.],\n",
              "        [117., 117.,  93.]],\n",
              "\n",
              "       [[144., 129., 100.],\n",
              "        [155., 140., 111.],\n",
              "        [169., 153., 127.],\n",
              "        ...,\n",
              "        [124., 124., 100.],\n",
              "        [127., 127., 103.],\n",
              "        [118., 118.,  94.]]], dtype=float32)>"
            ]
          },
          "metadata": {
            "tags": []
          },
          "execution_count": 56
        }
      ]
    },
    {
      "cell_type": "markdown",
      "metadata": {
        "id": "WXJeCQPZvbZ-",
        "colab_type": "text"
      },
      "source": [
        "##转换数据类型"
      ]
    },
    {
      "cell_type": "code",
      "metadata": {
        "id": "B3_FWmCYMIeJ",
        "colab_type": "code",
        "outputId": "1b4b98d1-8628-467f-84ac-d2e46c74f9f5",
        "colab": {
          "base_uri": "https://localhost:8080/",
          "height": 0
        }
      },
      "source": [
        "image_tensor=tf.cast(image_tensor,tf.float32)#转换数据类型\n",
        "#图片标准化处理\n",
        "image_tensor=image_tensor/255\n",
        "#我们查看下这个图片,看到底是不是范围是0-1\n",
        "image_tensor.numpy().max()\n",
        "image_tensor.numpy().min()"
      ],
      "execution_count": 57,
      "outputs": [
        {
          "output_type": "execute_result",
          "data": {
            "text/plain": [
              "0.0"
            ]
          },
          "metadata": {
            "tags": []
          },
          "execution_count": 57
        }
      ]
    },
    {
      "cell_type": "markdown",
      "metadata": {
        "id": "dnqJhV0FqNFI",
        "colab_type": "text"
      },
      "source": [
        "以上呢，是对单一图片的整个处理方式：\n",
        "\n",
        "1. 读取这张图片\n",
        "\n",
        "2. 对图片进行解码\n",
        "\n",
        "3. 转换图片数据类型与标准化\n",
        "\n",
        "\n",
        "接下来，我们写一个函数来对整个图片数据集进行处理："
      ]
    },
    {
      "cell_type": "code",
      "metadata": {
        "id": "LIkc5HEFsLK1",
        "colab_type": "code",
        "colab": {}
      },
      "source": [
        "def load_preprosess_image(image_path):\n",
        "  img_raw=tf.io.read_file(img_path)#读取路径\n",
        "  image_tensor=tf.image.decode_jpeg(img_raw,channels=3)#解码图片,3代表解析的是彩色图片\n",
        "  image_tensor=tf.image.resize(image_tensor,size=[256,256])#图片可能会变形,告诉tensorflow大小是256×256\n",
        "  image_tensor=tf.cast(image_tensor,tf.float32)#转换数据类型\n",
        "  image_tensor=image_tensor/255#标准化操作\n",
        "  return image_tensor #返回处理结果"
      ],
      "execution_count": 0,
      "outputs": []
    },
    {
      "cell_type": "code",
      "metadata": {
        "id": "vYf9NXnQwWkS",
        "colab_type": "code",
        "outputId": "7263a404-ccbb-4e64-8c67-9b5e377fee3e",
        "colab": {
          "base_uri": "https://localhost:8080/",
          "height": 0
        }
      },
      "source": [
        "image_path_test=all_image_path[100]\n",
        "plt.imshow(load_preprosess_image(image_path_test))#调用并画出来"
      ],
      "execution_count": 59,
      "outputs": [
        {
          "output_type": "execute_result",
          "data": {
            "text/plain": [
              "<matplotlib.image.AxesImage at 0x7f21beb6e978>"
            ]
          },
          "metadata": {
            "tags": []
          },
          "execution_count": 59
        },
        {
          "output_type": "display_data",
          "data": {
            "image/png": "[encoded data removed]",
            "text/plain": [
              "<Figure size 432x288 with 1 Axes>"
            ]
          },
          "metadata": {
            "tags": []
          }
        }
      ]
    },
    {
      "cell_type": "markdown",
      "metadata": {
        "id": "_e2ADhm0Gf80",
        "colab_type": "text"
      },
      "source": [
        "##构造tf.data"
      ]
    },
    {
      "cell_type": "code",
      "metadata": {
        "id": "rsrExK5eGezs",
        "colab_type": "code",
        "outputId": "e42ffdd5-0346-494f-b4e4-7b28586f7430",
        "colab": {
          "base_uri": "https://localhost:8080/",
          "height": 0
        }
      },
      "source": [
        "path_ds=tf.data.Dataset.from_tensor_slices(all_image_path)\n",
        "image_dataset=path_ds.map(load_preprosess_image)#建造数据集\n",
        "image_dataset"
      ],
      "execution_count": 60,
      "outputs": [
        {
          "output_type": "execute_result",
          "data": {
            "text/plain": [
              "<MapDataset shapes: (256, 256, 3), types: tf.float32>"
            ]
          },
          "metadata": {
            "tags": []
          },
          "execution_count": 60
        }
      ]
    },
    {
      "cell_type": "code",
      "metadata": {
        "id": "VVUV_8hxrUE6",
        "colab_type": "code",
        "colab": {}
      },
      "source": [
        "#对image_dataset的类型进行转换，我们知道他的图片格式是256×256×3\n",
        "#为什么他没有显示出来呢"
      ],
      "execution_count": 0,
      "outputs": []
    },
    {
      "cell_type": "markdown",
      "metadata": {
        "id": "qkf5JAPtKu0A",
        "colab_type": "text"
      },
      "source": [
        "##构造label"
      ]
    },
    {
      "cell_type": "code",
      "metadata": {
        "id": "xfSzCt9uKtqV",
        "colab_type": "code",
        "colab": {}
      },
      "source": [
        "label_dataset=tf.data.Dataset.from_tensor_slices(all_image_labe)"
      ],
      "execution_count": 0,
      "outputs": []
    },
    {
      "cell_type": "markdown",
      "metadata": {
        "id": "om-Dcsp-MUdM",
        "colab_type": "text"
      },
      "source": [
        "##测试下标签"
      ]
    },
    {
      "cell_type": "code",
      "metadata": {
        "id": "agAgBJ5kMY-b",
        "colab_type": "code",
        "outputId": "f8b86a90-35b2-4a8d-95e3-1fd84d1c830b",
        "colab": {
          "base_uri": "https://localhost:8080/",
          "height": 1000
        }
      },
      "source": [
        "for label in label_dataset:\n",
        "  print(label)"
      ],
      "execution_count": 63,
      "outputs": [
        {
          "output_type": "stream",
          "text": [
            "tf.Tensor(1, shape=(), dtype=int32)\n",
            "tf.Tensor(0, shape=(), dtype=int32)\n",
            "tf.Tensor(1, shape=(), dtype=int32)\n",
            "tf.Tensor(1, shape=(), dtype=int32)\n",
            "tf.Tensor(1, shape=(), dtype=int32)\n",
            "tf.Tensor(0, shape=(), dtype=int32)\n",
            "tf.Tensor(0, shape=(), dtype=int32)\n",
            "tf.Tensor(1, shape=(), dtype=int32)\n",
            "tf.Tensor(1, shape=(), dtype=int32)\n",
            "tf.Tensor(1, shape=(), dtype=int32)\n",
            "tf.Tensor(0, shape=(), dtype=int32)\n",
            "tf.Tensor(1, shape=(), dtype=int32)\n",
            "tf.Tensor(0, shape=(), dtype=int32)\n",
            "tf.Tensor(1, shape=(), dtype=int32)\n",
            "tf.Tensor(1, shape=(), dtype=int32)\n",
            "tf.Tensor(0, shape=(), dtype=int32)\n",
            "tf.Tensor(1, shape=(), dtype=int32)\n",
            "tf.Tensor(0, shape=(), dtype=int32)\n",
            "tf.Tensor(1, shape=(), dtype=int32)\n",
            "tf.Tensor(0, shape=(), dtype=int32)\n",
            "tf.Tensor(1, shape=(), dtype=int32)\n",
            "tf.Tensor(0, shape=(), dtype=int32)\n",
            "tf.Tensor(1, shape=(), dtype=int32)\n",
            "tf.Tensor(0, shape=(), dtype=int32)\n",
            "tf.Tensor(1, shape=(), dtype=int32)\n",
            "tf.Tensor(0, shape=(), dtype=int32)\n",
            "tf.Tensor(0, shape=(), dtype=int32)\n",
            "tf.Tensor(0, shape=(), dtype=int32)\n",
            "tf.Tensor(0, shape=(), dtype=int32)\n",
            "tf.Tensor(1, shape=(), dtype=int32)\n",
            "tf.Tensor(0, shape=(), dtype=int32)\n",
            "tf.Tensor(1, shape=(), dtype=int32)\n",
            "tf.Tensor(0, shape=(), dtype=int32)\n",
            "tf.Tensor(0, shape=(), dtype=int32)\n",
            "tf.Tensor(1, shape=(), dtype=int32)\n",
            "tf.Tensor(0, shape=(), dtype=int32)\n",
            "tf.Tensor(0, shape=(), dtype=int32)\n",
            "tf.Tensor(1, shape=(), dtype=int32)\n",
            "tf.Tensor(0, shape=(), dtype=int32)\n",
            "tf.Tensor(1, shape=(), dtype=int32)\n",
            "tf.Tensor(1, shape=(), dtype=int32)\n",
            "tf.Tensor(0, shape=(), dtype=int32)\n",
            "tf.Tensor(0, shape=(), dtype=int32)\n",
            "tf.Tensor(1, shape=(), dtype=int32)\n",
            "tf.Tensor(0, shape=(), dtype=int32)\n",
            "tf.Tensor(1, shape=(), dtype=int32)\n",
            "tf.Tensor(0, shape=(), dtype=int32)\n",
            "tf.Tensor(0, shape=(), dtype=int32)\n",
            "tf.Tensor(0, shape=(), dtype=int32)\n",
            "tf.Tensor(0, shape=(), dtype=int32)\n",
            "tf.Tensor(0, shape=(), dtype=int32)\n",
            "tf.Tensor(1, shape=(), dtype=int32)\n",
            "tf.Tensor(1, shape=(), dtype=int32)\n",
            "tf.Tensor(1, shape=(), dtype=int32)\n",
            "tf.Tensor(0, shape=(), dtype=int32)\n",
            "tf.Tensor(1, shape=(), dtype=int32)\n",
            "tf.Tensor(0, shape=(), dtype=int32)\n",
            "tf.Tensor(1, shape=(), dtype=int32)\n",
            "tf.Tensor(1, shape=(), dtype=int32)\n",
            "tf.Tensor(0, shape=(), dtype=int32)\n",
            "tf.Tensor(0, shape=(), dtype=int32)\n",
            "tf.Tensor(0, shape=(), dtype=int32)\n",
            "tf.Tensor(0, shape=(), dtype=int32)\n",
            "tf.Tensor(0, shape=(), dtype=int32)\n",
            "tf.Tensor(1, shape=(), dtype=int32)\n",
            "tf.Tensor(1, shape=(), dtype=int32)\n",
            "tf.Tensor(0, shape=(), dtype=int32)\n",
            "tf.Tensor(0, shape=(), dtype=int32)\n",
            "tf.Tensor(0, shape=(), dtype=int32)\n",
            "tf.Tensor(0, shape=(), dtype=int32)\n",
            "tf.Tensor(1, shape=(), dtype=int32)\n",
            "tf.Tensor(1, shape=(), dtype=int32)\n",
            "tf.Tensor(0, shape=(), dtype=int32)\n",
            "tf.Tensor(0, shape=(), dtype=int32)\n",
            "tf.Tensor(0, shape=(), dtype=int32)\n",
            "tf.Tensor(0, shape=(), dtype=int32)\n",
            "tf.Tensor(1, shape=(), dtype=int32)\n",
            "tf.Tensor(1, shape=(), dtype=int32)\n",
            "tf.Tensor(1, shape=(), dtype=int32)\n",
            "tf.Tensor(0, shape=(), dtype=int32)\n",
            "tf.Tensor(0, shape=(), dtype=int32)\n",
            "tf.Tensor(1, shape=(), dtype=int32)\n",
            "tf.Tensor(0, shape=(), dtype=int32)\n",
            "tf.Tensor(1, shape=(), dtype=int32)\n",
            "tf.Tensor(0, shape=(), dtype=int32)\n",
            "tf.Tensor(0, shape=(), dtype=int32)\n",
            "tf.Tensor(0, shape=(), dtype=int32)\n",
            "tf.Tensor(0, shape=(), dtype=int32)\n",
            "tf.Tensor(0, shape=(), dtype=int32)\n",
            "tf.Tensor(0, shape=(), dtype=int32)\n",
            "tf.Tensor(1, shape=(), dtype=int32)\n",
            "tf.Tensor(0, shape=(), dtype=int32)\n",
            "tf.Tensor(1, shape=(), dtype=int32)\n",
            "tf.Tensor(0, shape=(), dtype=int32)\n",
            "tf.Tensor(0, shape=(), dtype=int32)\n",
            "tf.Tensor(1, shape=(), dtype=int32)\n",
            "tf.Tensor(0, shape=(), dtype=int32)\n",
            "tf.Tensor(1, shape=(), dtype=int32)\n",
            "tf.Tensor(1, shape=(), dtype=int32)\n",
            "tf.Tensor(0, shape=(), dtype=int32)\n",
            "tf.Tensor(1, shape=(), dtype=int32)\n",
            "tf.Tensor(0, shape=(), dtype=int32)\n",
            "tf.Tensor(1, shape=(), dtype=int32)\n",
            "tf.Tensor(1, shape=(), dtype=int32)\n",
            "tf.Tensor(0, shape=(), dtype=int32)\n",
            "tf.Tensor(0, shape=(), dtype=int32)\n",
            "tf.Tensor(1, shape=(), dtype=int32)\n",
            "tf.Tensor(0, shape=(), dtype=int32)\n",
            "tf.Tensor(1, shape=(), dtype=int32)\n",
            "tf.Tensor(0, shape=(), dtype=int32)\n",
            "tf.Tensor(0, shape=(), dtype=int32)\n",
            "tf.Tensor(1, shape=(), dtype=int32)\n",
            "tf.Tensor(1, shape=(), dtype=int32)\n",
            "tf.Tensor(0, shape=(), dtype=int32)\n",
            "tf.Tensor(1, shape=(), dtype=int32)\n",
            "tf.Tensor(1, shape=(), dtype=int32)\n",
            "tf.Tensor(0, shape=(), dtype=int32)\n",
            "tf.Tensor(1, shape=(), dtype=int32)\n",
            "tf.Tensor(1, shape=(), dtype=int32)\n",
            "tf.Tensor(1, shape=(), dtype=int32)\n",
            "tf.Tensor(0, shape=(), dtype=int32)\n",
            "tf.Tensor(0, shape=(), dtype=int32)\n",
            "tf.Tensor(1, shape=(), dtype=int32)\n",
            "tf.Tensor(0, shape=(), dtype=int32)\n",
            "tf.Tensor(0, shape=(), dtype=int32)\n",
            "tf.Tensor(1, shape=(), dtype=int32)\n",
            "tf.Tensor(0, shape=(), dtype=int32)\n",
            "tf.Tensor(1, shape=(), dtype=int32)\n",
            "tf.Tensor(0, shape=(), dtype=int32)\n",
            "tf.Tensor(0, shape=(), dtype=int32)\n",
            "tf.Tensor(0, shape=(), dtype=int32)\n",
            "tf.Tensor(0, shape=(), dtype=int32)\n",
            "tf.Tensor(1, shape=(), dtype=int32)\n",
            "tf.Tensor(1, shape=(), dtype=int32)\n",
            "tf.Tensor(1, shape=(), dtype=int32)\n",
            "tf.Tensor(0, shape=(), dtype=int32)\n",
            "tf.Tensor(1, shape=(), dtype=int32)\n",
            "tf.Tensor(1, shape=(), dtype=int32)\n",
            "tf.Tensor(0, shape=(), dtype=int32)\n",
            "tf.Tensor(1, shape=(), dtype=int32)\n",
            "tf.Tensor(1, shape=(), dtype=int32)\n",
            "tf.Tensor(1, shape=(), dtype=int32)\n",
            "tf.Tensor(0, shape=(), dtype=int32)\n",
            "tf.Tensor(0, shape=(), dtype=int32)\n",
            "tf.Tensor(1, shape=(), dtype=int32)\n",
            "tf.Tensor(1, shape=(), dtype=int32)\n",
            "tf.Tensor(0, shape=(), dtype=int32)\n",
            "tf.Tensor(0, shape=(), dtype=int32)\n",
            "tf.Tensor(0, shape=(), dtype=int32)\n",
            "tf.Tensor(1, shape=(), dtype=int32)\n",
            "tf.Tensor(1, shape=(), dtype=int32)\n",
            "tf.Tensor(1, shape=(), dtype=int32)\n",
            "tf.Tensor(1, shape=(), dtype=int32)\n",
            "tf.Tensor(0, shape=(), dtype=int32)\n",
            "tf.Tensor(1, shape=(), dtype=int32)\n",
            "tf.Tensor(1, shape=(), dtype=int32)\n",
            "tf.Tensor(1, shape=(), dtype=int32)\n",
            "tf.Tensor(1, shape=(), dtype=int32)\n",
            "tf.Tensor(1, shape=(), dtype=int32)\n",
            "tf.Tensor(1, shape=(), dtype=int32)\n",
            "tf.Tensor(0, shape=(), dtype=int32)\n",
            "tf.Tensor(0, shape=(), dtype=int32)\n",
            "tf.Tensor(0, shape=(), dtype=int32)\n",
            "tf.Tensor(1, shape=(), dtype=int32)\n",
            "tf.Tensor(0, shape=(), dtype=int32)\n",
            "tf.Tensor(0, shape=(), dtype=int32)\n",
            "tf.Tensor(0, shape=(), dtype=int32)\n",
            "tf.Tensor(0, shape=(), dtype=int32)\n",
            "tf.Tensor(0, shape=(), dtype=int32)\n",
            "tf.Tensor(1, shape=(), dtype=int32)\n",
            "tf.Tensor(0, shape=(), dtype=int32)\n",
            "tf.Tensor(0, shape=(), dtype=int32)\n",
            "tf.Tensor(0, shape=(), dtype=int32)\n",
            "tf.Tensor(0, shape=(), dtype=int32)\n",
            "tf.Tensor(0, shape=(), dtype=int32)\n",
            "tf.Tensor(1, shape=(), dtype=int32)\n",
            "tf.Tensor(0, shape=(), dtype=int32)\n",
            "tf.Tensor(1, shape=(), dtype=int32)\n",
            "tf.Tensor(1, shape=(), dtype=int32)\n",
            "tf.Tensor(0, shape=(), dtype=int32)\n",
            "tf.Tensor(1, shape=(), dtype=int32)\n",
            "tf.Tensor(0, shape=(), dtype=int32)\n",
            "tf.Tensor(0, shape=(), dtype=int32)\n",
            "tf.Tensor(1, shape=(), dtype=int32)\n",
            "tf.Tensor(1, shape=(), dtype=int32)\n",
            "tf.Tensor(1, shape=(), dtype=int32)\n",
            "tf.Tensor(1, shape=(), dtype=int32)\n",
            "tf.Tensor(1, shape=(), dtype=int32)\n",
            "tf.Tensor(0, shape=(), dtype=int32)\n",
            "tf.Tensor(1, shape=(), dtype=int32)\n",
            "tf.Tensor(0, shape=(), dtype=int32)\n",
            "tf.Tensor(0, shape=(), dtype=int32)\n",
            "tf.Tensor(1, shape=(), dtype=int32)\n",
            "tf.Tensor(1, shape=(), dtype=int32)\n",
            "tf.Tensor(0, shape=(), dtype=int32)\n",
            "tf.Tensor(0, shape=(), dtype=int32)\n",
            "tf.Tensor(1, shape=(), dtype=int32)\n",
            "tf.Tensor(0, shape=(), dtype=int32)\n",
            "tf.Tensor(1, shape=(), dtype=int32)\n",
            "tf.Tensor(0, shape=(), dtype=int32)\n",
            "tf.Tensor(1, shape=(), dtype=int32)\n",
            "tf.Tensor(1, shape=(), dtype=int32)\n",
            "tf.Tensor(1, shape=(), dtype=int32)\n",
            "tf.Tensor(1, shape=(), dtype=int32)\n",
            "tf.Tensor(0, shape=(), dtype=int32)\n",
            "tf.Tensor(0, shape=(), dtype=int32)\n",
            "tf.Tensor(0, shape=(), dtype=int32)\n",
            "tf.Tensor(1, shape=(), dtype=int32)\n",
            "tf.Tensor(0, shape=(), dtype=int32)\n",
            "tf.Tensor(1, shape=(), dtype=int32)\n",
            "tf.Tensor(1, shape=(), dtype=int32)\n",
            "tf.Tensor(0, shape=(), dtype=int32)\n",
            "tf.Tensor(1, shape=(), dtype=int32)\n",
            "tf.Tensor(1, shape=(), dtype=int32)\n",
            "tf.Tensor(1, shape=(), dtype=int32)\n",
            "tf.Tensor(0, shape=(), dtype=int32)\n",
            "tf.Tensor(1, shape=(), dtype=int32)\n",
            "tf.Tensor(1, shape=(), dtype=int32)\n",
            "tf.Tensor(1, shape=(), dtype=int32)\n",
            "tf.Tensor(1, shape=(), dtype=int32)\n",
            "tf.Tensor(0, shape=(), dtype=int32)\n",
            "tf.Tensor(1, shape=(), dtype=int32)\n",
            "tf.Tensor(1, shape=(), dtype=int32)\n",
            "tf.Tensor(1, shape=(), dtype=int32)\n",
            "tf.Tensor(0, shape=(), dtype=int32)\n",
            "tf.Tensor(0, shape=(), dtype=int32)\n",
            "tf.Tensor(1, shape=(), dtype=int32)\n",
            "tf.Tensor(1, shape=(), dtype=int32)\n",
            "tf.Tensor(0, shape=(), dtype=int32)\n",
            "tf.Tensor(0, shape=(), dtype=int32)\n",
            "tf.Tensor(1, shape=(), dtype=int32)\n",
            "tf.Tensor(1, shape=(), dtype=int32)\n",
            "tf.Tensor(0, shape=(), dtype=int32)\n",
            "tf.Tensor(1, shape=(), dtype=int32)\n",
            "tf.Tensor(0, shape=(), dtype=int32)\n",
            "tf.Tensor(1, shape=(), dtype=int32)\n",
            "tf.Tensor(0, shape=(), dtype=int32)\n",
            "tf.Tensor(0, shape=(), dtype=int32)\n",
            "tf.Tensor(1, shape=(), dtype=int32)\n",
            "tf.Tensor(1, shape=(), dtype=int32)\n",
            "tf.Tensor(1, shape=(), dtype=int32)\n",
            "tf.Tensor(0, shape=(), dtype=int32)\n",
            "tf.Tensor(1, shape=(), dtype=int32)\n",
            "tf.Tensor(0, shape=(), dtype=int32)\n",
            "tf.Tensor(0, shape=(), dtype=int32)\n",
            "tf.Tensor(1, shape=(), dtype=int32)\n",
            "tf.Tensor(1, shape=(), dtype=int32)\n",
            "tf.Tensor(0, shape=(), dtype=int32)\n",
            "tf.Tensor(0, shape=(), dtype=int32)\n",
            "tf.Tensor(0, shape=(), dtype=int32)\n",
            "tf.Tensor(0, shape=(), dtype=int32)\n",
            "tf.Tensor(1, shape=(), dtype=int32)\n",
            "tf.Tensor(0, shape=(), dtype=int32)\n",
            "tf.Tensor(1, shape=(), dtype=int32)\n",
            "tf.Tensor(1, shape=(), dtype=int32)\n",
            "tf.Tensor(0, shape=(), dtype=int32)\n",
            "tf.Tensor(0, shape=(), dtype=int32)\n",
            "tf.Tensor(1, shape=(), dtype=int32)\n",
            "tf.Tensor(1, shape=(), dtype=int32)\n",
            "tf.Tensor(0, shape=(), dtype=int32)\n",
            "tf.Tensor(0, shape=(), dtype=int32)\n",
            "tf.Tensor(1, shape=(), dtype=int32)\n",
            "tf.Tensor(1, shape=(), dtype=int32)\n",
            "tf.Tensor(0, shape=(), dtype=int32)\n",
            "tf.Tensor(0, shape=(), dtype=int32)\n",
            "tf.Tensor(0, shape=(), dtype=int32)\n",
            "tf.Tensor(1, shape=(), dtype=int32)\n",
            "tf.Tensor(1, shape=(), dtype=int32)\n",
            "tf.Tensor(0, shape=(), dtype=int32)\n",
            "tf.Tensor(0, shape=(), dtype=int32)\n",
            "tf.Tensor(0, shape=(), dtype=int32)\n",
            "tf.Tensor(1, shape=(), dtype=int32)\n",
            "tf.Tensor(1, shape=(), dtype=int32)\n",
            "tf.Tensor(1, shape=(), dtype=int32)\n",
            "tf.Tensor(1, shape=(), dtype=int32)\n",
            "tf.Tensor(0, shape=(), dtype=int32)\n",
            "tf.Tensor(1, shape=(), dtype=int32)\n",
            "tf.Tensor(1, shape=(), dtype=int32)\n",
            "tf.Tensor(1, shape=(), dtype=int32)\n",
            "tf.Tensor(0, shape=(), dtype=int32)\n",
            "tf.Tensor(1, shape=(), dtype=int32)\n",
            "tf.Tensor(1, shape=(), dtype=int32)\n",
            "tf.Tensor(1, shape=(), dtype=int32)\n",
            "tf.Tensor(1, shape=(), dtype=int32)\n",
            "tf.Tensor(0, shape=(), dtype=int32)\n",
            "tf.Tensor(1, shape=(), dtype=int32)\n",
            "tf.Tensor(1, shape=(), dtype=int32)\n",
            "tf.Tensor(0, shape=(), dtype=int32)\n",
            "tf.Tensor(0, shape=(), dtype=int32)\n",
            "tf.Tensor(1, shape=(), dtype=int32)\n",
            "tf.Tensor(0, shape=(), dtype=int32)\n",
            "tf.Tensor(0, shape=(), dtype=int32)\n",
            "tf.Tensor(1, shape=(), dtype=int32)\n",
            "tf.Tensor(0, shape=(), dtype=int32)\n",
            "tf.Tensor(1, shape=(), dtype=int32)\n",
            "tf.Tensor(1, shape=(), dtype=int32)\n",
            "tf.Tensor(0, shape=(), dtype=int32)\n",
            "tf.Tensor(1, shape=(), dtype=int32)\n",
            "tf.Tensor(0, shape=(), dtype=int32)\n",
            "tf.Tensor(0, shape=(), dtype=int32)\n",
            "tf.Tensor(0, shape=(), dtype=int32)\n",
            "tf.Tensor(1, shape=(), dtype=int32)\n",
            "tf.Tensor(0, shape=(), dtype=int32)\n",
            "tf.Tensor(0, shape=(), dtype=int32)\n",
            "tf.Tensor(1, shape=(), dtype=int32)\n",
            "tf.Tensor(1, shape=(), dtype=int32)\n",
            "tf.Tensor(0, shape=(), dtype=int32)\n",
            "tf.Tensor(1, shape=(), dtype=int32)\n",
            "tf.Tensor(0, shape=(), dtype=int32)\n",
            "tf.Tensor(1, shape=(), dtype=int32)\n",
            "tf.Tensor(0, shape=(), dtype=int32)\n",
            "tf.Tensor(0, shape=(), dtype=int32)\n",
            "tf.Tensor(0, shape=(), dtype=int32)\n",
            "tf.Tensor(0, shape=(), dtype=int32)\n",
            "tf.Tensor(1, shape=(), dtype=int32)\n",
            "tf.Tensor(1, shape=(), dtype=int32)\n",
            "tf.Tensor(1, shape=(), dtype=int32)\n",
            "tf.Tensor(1, shape=(), dtype=int32)\n",
            "tf.Tensor(0, shape=(), dtype=int32)\n",
            "tf.Tensor(1, shape=(), dtype=int32)\n",
            "tf.Tensor(1, shape=(), dtype=int32)\n",
            "tf.Tensor(0, shape=(), dtype=int32)\n",
            "tf.Tensor(1, shape=(), dtype=int32)\n",
            "tf.Tensor(1, shape=(), dtype=int32)\n",
            "tf.Tensor(1, shape=(), dtype=int32)\n",
            "tf.Tensor(0, shape=(), dtype=int32)\n",
            "tf.Tensor(0, shape=(), dtype=int32)\n",
            "tf.Tensor(1, shape=(), dtype=int32)\n",
            "tf.Tensor(0, shape=(), dtype=int32)\n",
            "tf.Tensor(0, shape=(), dtype=int32)\n",
            "tf.Tensor(0, shape=(), dtype=int32)\n",
            "tf.Tensor(1, shape=(), dtype=int32)\n",
            "tf.Tensor(1, shape=(), dtype=int32)\n",
            "tf.Tensor(1, shape=(), dtype=int32)\n",
            "tf.Tensor(1, shape=(), dtype=int32)\n",
            "tf.Tensor(1, shape=(), dtype=int32)\n",
            "tf.Tensor(0, shape=(), dtype=int32)\n",
            "tf.Tensor(1, shape=(), dtype=int32)\n",
            "tf.Tensor(0, shape=(), dtype=int32)\n",
            "tf.Tensor(1, shape=(), dtype=int32)\n",
            "tf.Tensor(1, shape=(), dtype=int32)\n",
            "tf.Tensor(1, shape=(), dtype=int32)\n",
            "tf.Tensor(0, shape=(), dtype=int32)\n",
            "tf.Tensor(1, shape=(), dtype=int32)\n",
            "tf.Tensor(0, shape=(), dtype=int32)\n",
            "tf.Tensor(1, shape=(), dtype=int32)\n",
            "tf.Tensor(1, shape=(), dtype=int32)\n",
            "tf.Tensor(1, shape=(), dtype=int32)\n",
            "tf.Tensor(0, shape=(), dtype=int32)\n",
            "tf.Tensor(0, shape=(), dtype=int32)\n",
            "tf.Tensor(0, shape=(), dtype=int32)\n",
            "tf.Tensor(0, shape=(), dtype=int32)\n",
            "tf.Tensor(0, shape=(), dtype=int32)\n",
            "tf.Tensor(0, shape=(), dtype=int32)\n",
            "tf.Tensor(1, shape=(), dtype=int32)\n",
            "tf.Tensor(0, shape=(), dtype=int32)\n",
            "tf.Tensor(0, shape=(), dtype=int32)\n",
            "tf.Tensor(0, shape=(), dtype=int32)\n",
            "tf.Tensor(0, shape=(), dtype=int32)\n",
            "tf.Tensor(0, shape=(), dtype=int32)\n",
            "tf.Tensor(0, shape=(), dtype=int32)\n",
            "tf.Tensor(0, shape=(), dtype=int32)\n",
            "tf.Tensor(0, shape=(), dtype=int32)\n",
            "tf.Tensor(0, shape=(), dtype=int32)\n",
            "tf.Tensor(1, shape=(), dtype=int32)\n",
            "tf.Tensor(1, shape=(), dtype=int32)\n",
            "tf.Tensor(0, shape=(), dtype=int32)\n",
            "tf.Tensor(0, shape=(), dtype=int32)\n",
            "tf.Tensor(1, shape=(), dtype=int32)\n",
            "tf.Tensor(0, shape=(), dtype=int32)\n",
            "tf.Tensor(1, shape=(), dtype=int32)\n",
            "tf.Tensor(1, shape=(), dtype=int32)\n",
            "tf.Tensor(0, shape=(), dtype=int32)\n",
            "tf.Tensor(0, shape=(), dtype=int32)\n",
            "tf.Tensor(1, shape=(), dtype=int32)\n",
            "tf.Tensor(1, shape=(), dtype=int32)\n",
            "tf.Tensor(1, shape=(), dtype=int32)\n",
            "tf.Tensor(1, shape=(), dtype=int32)\n",
            "tf.Tensor(1, shape=(), dtype=int32)\n",
            "tf.Tensor(0, shape=(), dtype=int32)\n",
            "tf.Tensor(1, shape=(), dtype=int32)\n",
            "tf.Tensor(1, shape=(), dtype=int32)\n",
            "tf.Tensor(1, shape=(), dtype=int32)\n",
            "tf.Tensor(0, shape=(), dtype=int32)\n",
            "tf.Tensor(1, shape=(), dtype=int32)\n",
            "tf.Tensor(1, shape=(), dtype=int32)\n",
            "tf.Tensor(1, shape=(), dtype=int32)\n",
            "tf.Tensor(1, shape=(), dtype=int32)\n",
            "tf.Tensor(0, shape=(), dtype=int32)\n",
            "tf.Tensor(0, shape=(), dtype=int32)\n",
            "tf.Tensor(1, shape=(), dtype=int32)\n",
            "tf.Tensor(0, shape=(), dtype=int32)\n",
            "tf.Tensor(0, shape=(), dtype=int32)\n",
            "tf.Tensor(1, shape=(), dtype=int32)\n",
            "tf.Tensor(1, shape=(), dtype=int32)\n",
            "tf.Tensor(1, shape=(), dtype=int32)\n",
            "tf.Tensor(0, shape=(), dtype=int32)\n",
            "tf.Tensor(0, shape=(), dtype=int32)\n",
            "tf.Tensor(0, shape=(), dtype=int32)\n",
            "tf.Tensor(1, shape=(), dtype=int32)\n",
            "tf.Tensor(0, shape=(), dtype=int32)\n",
            "tf.Tensor(0, shape=(), dtype=int32)\n",
            "tf.Tensor(1, shape=(), dtype=int32)\n",
            "tf.Tensor(0, shape=(), dtype=int32)\n",
            "tf.Tensor(0, shape=(), dtype=int32)\n",
            "tf.Tensor(1, shape=(), dtype=int32)\n",
            "tf.Tensor(0, shape=(), dtype=int32)\n",
            "tf.Tensor(1, shape=(), dtype=int32)\n",
            "tf.Tensor(0, shape=(), dtype=int32)\n",
            "tf.Tensor(1, shape=(), dtype=int32)\n",
            "tf.Tensor(0, shape=(), dtype=int32)\n",
            "tf.Tensor(0, shape=(), dtype=int32)\n",
            "tf.Tensor(1, shape=(), dtype=int32)\n",
            "tf.Tensor(1, shape=(), dtype=int32)\n",
            "tf.Tensor(1, shape=(), dtype=int32)\n",
            "tf.Tensor(0, shape=(), dtype=int32)\n",
            "tf.Tensor(0, shape=(), dtype=int32)\n",
            "tf.Tensor(0, shape=(), dtype=int32)\n",
            "tf.Tensor(0, shape=(), dtype=int32)\n",
            "tf.Tensor(0, shape=(), dtype=int32)\n",
            "tf.Tensor(0, shape=(), dtype=int32)\n",
            "tf.Tensor(0, shape=(), dtype=int32)\n",
            "tf.Tensor(0, shape=(), dtype=int32)\n",
            "tf.Tensor(0, shape=(), dtype=int32)\n",
            "tf.Tensor(0, shape=(), dtype=int32)\n",
            "tf.Tensor(1, shape=(), dtype=int32)\n",
            "tf.Tensor(0, shape=(), dtype=int32)\n",
            "tf.Tensor(0, shape=(), dtype=int32)\n",
            "tf.Tensor(1, shape=(), dtype=int32)\n",
            "tf.Tensor(1, shape=(), dtype=int32)\n",
            "tf.Tensor(1, shape=(), dtype=int32)\n",
            "tf.Tensor(1, shape=(), dtype=int32)\n",
            "tf.Tensor(0, shape=(), dtype=int32)\n",
            "tf.Tensor(1, shape=(), dtype=int32)\n",
            "tf.Tensor(1, shape=(), dtype=int32)\n",
            "tf.Tensor(0, shape=(), dtype=int32)\n",
            "tf.Tensor(1, shape=(), dtype=int32)\n",
            "tf.Tensor(1, shape=(), dtype=int32)\n",
            "tf.Tensor(1, shape=(), dtype=int32)\n",
            "tf.Tensor(0, shape=(), dtype=int32)\n",
            "tf.Tensor(1, shape=(), dtype=int32)\n",
            "tf.Tensor(1, shape=(), dtype=int32)\n",
            "tf.Tensor(1, shape=(), dtype=int32)\n",
            "tf.Tensor(0, shape=(), dtype=int32)\n",
            "tf.Tensor(0, shape=(), dtype=int32)\n",
            "tf.Tensor(1, shape=(), dtype=int32)\n",
            "tf.Tensor(0, shape=(), dtype=int32)\n",
            "tf.Tensor(0, shape=(), dtype=int32)\n",
            "tf.Tensor(0, shape=(), dtype=int32)\n",
            "tf.Tensor(0, shape=(), dtype=int32)\n",
            "tf.Tensor(0, shape=(), dtype=int32)\n",
            "tf.Tensor(1, shape=(), dtype=int32)\n",
            "tf.Tensor(0, shape=(), dtype=int32)\n",
            "tf.Tensor(0, shape=(), dtype=int32)\n",
            "tf.Tensor(1, shape=(), dtype=int32)\n",
            "tf.Tensor(0, shape=(), dtype=int32)\n",
            "tf.Tensor(0, shape=(), dtype=int32)\n",
            "tf.Tensor(0, shape=(), dtype=int32)\n",
            "tf.Tensor(1, shape=(), dtype=int32)\n",
            "tf.Tensor(1, shape=(), dtype=int32)\n",
            "tf.Tensor(0, shape=(), dtype=int32)\n",
            "tf.Tensor(1, shape=(), dtype=int32)\n",
            "tf.Tensor(0, shape=(), dtype=int32)\n",
            "tf.Tensor(0, shape=(), dtype=int32)\n",
            "tf.Tensor(0, shape=(), dtype=int32)\n",
            "tf.Tensor(0, shape=(), dtype=int32)\n",
            "tf.Tensor(1, shape=(), dtype=int32)\n",
            "tf.Tensor(1, shape=(), dtype=int32)\n",
            "tf.Tensor(1, shape=(), dtype=int32)\n",
            "tf.Tensor(0, shape=(), dtype=int32)\n",
            "tf.Tensor(1, shape=(), dtype=int32)\n",
            "tf.Tensor(0, shape=(), dtype=int32)\n",
            "tf.Tensor(1, shape=(), dtype=int32)\n",
            "tf.Tensor(0, shape=(), dtype=int32)\n",
            "tf.Tensor(1, shape=(), dtype=int32)\n",
            "tf.Tensor(1, shape=(), dtype=int32)\n",
            "tf.Tensor(0, shape=(), dtype=int32)\n",
            "tf.Tensor(0, shape=(), dtype=int32)\n",
            "tf.Tensor(1, shape=(), dtype=int32)\n",
            "tf.Tensor(1, shape=(), dtype=int32)\n",
            "tf.Tensor(0, shape=(), dtype=int32)\n",
            "tf.Tensor(1, shape=(), dtype=int32)\n",
            "tf.Tensor(1, shape=(), dtype=int32)\n",
            "tf.Tensor(1, shape=(), dtype=int32)\n",
            "tf.Tensor(1, shape=(), dtype=int32)\n",
            "tf.Tensor(1, shape=(), dtype=int32)\n",
            "tf.Tensor(1, shape=(), dtype=int32)\n",
            "tf.Tensor(0, shape=(), dtype=int32)\n",
            "tf.Tensor(0, shape=(), dtype=int32)\n",
            "tf.Tensor(1, shape=(), dtype=int32)\n",
            "tf.Tensor(1, shape=(), dtype=int32)\n",
            "tf.Tensor(0, shape=(), dtype=int32)\n",
            "tf.Tensor(0, shape=(), dtype=int32)\n",
            "tf.Tensor(0, shape=(), dtype=int32)\n",
            "tf.Tensor(1, shape=(), dtype=int32)\n",
            "tf.Tensor(0, shape=(), dtype=int32)\n",
            "tf.Tensor(0, shape=(), dtype=int32)\n",
            "tf.Tensor(1, shape=(), dtype=int32)\n",
            "tf.Tensor(0, shape=(), dtype=int32)\n",
            "tf.Tensor(1, shape=(), dtype=int32)\n",
            "tf.Tensor(0, shape=(), dtype=int32)\n",
            "tf.Tensor(0, shape=(), dtype=int32)\n",
            "tf.Tensor(0, shape=(), dtype=int32)\n",
            "tf.Tensor(1, shape=(), dtype=int32)\n",
            "tf.Tensor(1, shape=(), dtype=int32)\n",
            "tf.Tensor(0, shape=(), dtype=int32)\n",
            "tf.Tensor(0, shape=(), dtype=int32)\n",
            "tf.Tensor(1, shape=(), dtype=int32)\n",
            "tf.Tensor(0, shape=(), dtype=int32)\n",
            "tf.Tensor(1, shape=(), dtype=int32)\n",
            "tf.Tensor(0, shape=(), dtype=int32)\n",
            "tf.Tensor(1, shape=(), dtype=int32)\n",
            "tf.Tensor(0, shape=(), dtype=int32)\n",
            "tf.Tensor(1, shape=(), dtype=int32)\n",
            "tf.Tensor(1, shape=(), dtype=int32)\n",
            "tf.Tensor(0, shape=(), dtype=int32)\n",
            "tf.Tensor(1, shape=(), dtype=int32)\n",
            "tf.Tensor(1, shape=(), dtype=int32)\n",
            "tf.Tensor(0, shape=(), dtype=int32)\n",
            "tf.Tensor(1, shape=(), dtype=int32)\n",
            "tf.Tensor(0, shape=(), dtype=int32)\n",
            "tf.Tensor(1, shape=(), dtype=int32)\n",
            "tf.Tensor(1, shape=(), dtype=int32)\n",
            "tf.Tensor(1, shape=(), dtype=int32)\n",
            "tf.Tensor(1, shape=(), dtype=int32)\n",
            "tf.Tensor(0, shape=(), dtype=int32)\n",
            "tf.Tensor(0, shape=(), dtype=int32)\n",
            "tf.Tensor(1, shape=(), dtype=int32)\n",
            "tf.Tensor(0, shape=(), dtype=int32)\n",
            "tf.Tensor(0, shape=(), dtype=int32)\n",
            "tf.Tensor(1, shape=(), dtype=int32)\n",
            "tf.Tensor(0, shape=(), dtype=int32)\n",
            "tf.Tensor(1, shape=(), dtype=int32)\n",
            "tf.Tensor(0, shape=(), dtype=int32)\n",
            "tf.Tensor(1, shape=(), dtype=int32)\n",
            "tf.Tensor(0, shape=(), dtype=int32)\n",
            "tf.Tensor(1, shape=(), dtype=int32)\n",
            "tf.Tensor(1, shape=(), dtype=int32)\n",
            "tf.Tensor(0, shape=(), dtype=int32)\n",
            "tf.Tensor(1, shape=(), dtype=int32)\n",
            "tf.Tensor(0, shape=(), dtype=int32)\n",
            "tf.Tensor(1, shape=(), dtype=int32)\n",
            "tf.Tensor(1, shape=(), dtype=int32)\n",
            "tf.Tensor(1, shape=(), dtype=int32)\n",
            "tf.Tensor(0, shape=(), dtype=int32)\n",
            "tf.Tensor(1, shape=(), dtype=int32)\n",
            "tf.Tensor(1, shape=(), dtype=int32)\n",
            "tf.Tensor(1, shape=(), dtype=int32)\n",
            "tf.Tensor(0, shape=(), dtype=int32)\n",
            "tf.Tensor(1, shape=(), dtype=int32)\n",
            "tf.Tensor(1, shape=(), dtype=int32)\n",
            "tf.Tensor(0, shape=(), dtype=int32)\n",
            "tf.Tensor(1, shape=(), dtype=int32)\n",
            "tf.Tensor(0, shape=(), dtype=int32)\n",
            "tf.Tensor(0, shape=(), dtype=int32)\n",
            "tf.Tensor(1, shape=(), dtype=int32)\n",
            "tf.Tensor(0, shape=(), dtype=int32)\n",
            "tf.Tensor(1, shape=(), dtype=int32)\n",
            "tf.Tensor(1, shape=(), dtype=int32)\n",
            "tf.Tensor(1, shape=(), dtype=int32)\n",
            "tf.Tensor(0, shape=(), dtype=int32)\n",
            "tf.Tensor(0, shape=(), dtype=int32)\n",
            "tf.Tensor(1, shape=(), dtype=int32)\n",
            "tf.Tensor(1, shape=(), dtype=int32)\n",
            "tf.Tensor(1, shape=(), dtype=int32)\n",
            "tf.Tensor(0, shape=(), dtype=int32)\n",
            "tf.Tensor(1, shape=(), dtype=int32)\n",
            "tf.Tensor(1, shape=(), dtype=int32)\n",
            "tf.Tensor(0, shape=(), dtype=int32)\n",
            "tf.Tensor(0, shape=(), dtype=int32)\n",
            "tf.Tensor(1, shape=(), dtype=int32)\n",
            "tf.Tensor(0, shape=(), dtype=int32)\n",
            "tf.Tensor(1, shape=(), dtype=int32)\n",
            "tf.Tensor(1, shape=(), dtype=int32)\n",
            "tf.Tensor(0, shape=(), dtype=int32)\n",
            "tf.Tensor(1, shape=(), dtype=int32)\n",
            "tf.Tensor(1, shape=(), dtype=int32)\n",
            "tf.Tensor(0, shape=(), dtype=int32)\n",
            "tf.Tensor(1, shape=(), dtype=int32)\n",
            "tf.Tensor(0, shape=(), dtype=int32)\n",
            "tf.Tensor(1, shape=(), dtype=int32)\n",
            "tf.Tensor(1, shape=(), dtype=int32)\n",
            "tf.Tensor(1, shape=(), dtype=int32)\n",
            "tf.Tensor(1, shape=(), dtype=int32)\n",
            "tf.Tensor(0, shape=(), dtype=int32)\n",
            "tf.Tensor(1, shape=(), dtype=int32)\n",
            "tf.Tensor(1, shape=(), dtype=int32)\n",
            "tf.Tensor(0, shape=(), dtype=int32)\n",
            "tf.Tensor(1, shape=(), dtype=int32)\n",
            "tf.Tensor(1, shape=(), dtype=int32)\n",
            "tf.Tensor(1, shape=(), dtype=int32)\n",
            "tf.Tensor(0, shape=(), dtype=int32)\n",
            "tf.Tensor(1, shape=(), dtype=int32)\n",
            "tf.Tensor(1, shape=(), dtype=int32)\n",
            "tf.Tensor(1, shape=(), dtype=int32)\n",
            "tf.Tensor(0, shape=(), dtype=int32)\n",
            "tf.Tensor(0, shape=(), dtype=int32)\n",
            "tf.Tensor(1, shape=(), dtype=int32)\n",
            "tf.Tensor(0, shape=(), dtype=int32)\n",
            "tf.Tensor(0, shape=(), dtype=int32)\n",
            "tf.Tensor(0, shape=(), dtype=int32)\n",
            "tf.Tensor(1, shape=(), dtype=int32)\n",
            "tf.Tensor(1, shape=(), dtype=int32)\n",
            "tf.Tensor(1, shape=(), dtype=int32)\n",
            "tf.Tensor(1, shape=(), dtype=int32)\n",
            "tf.Tensor(0, shape=(), dtype=int32)\n",
            "tf.Tensor(1, shape=(), dtype=int32)\n",
            "tf.Tensor(0, shape=(), dtype=int32)\n",
            "tf.Tensor(0, shape=(), dtype=int32)\n",
            "tf.Tensor(1, shape=(), dtype=int32)\n",
            "tf.Tensor(0, shape=(), dtype=int32)\n",
            "tf.Tensor(0, shape=(), dtype=int32)\n",
            "tf.Tensor(1, shape=(), dtype=int32)\n",
            "tf.Tensor(0, shape=(), dtype=int32)\n",
            "tf.Tensor(1, shape=(), dtype=int32)\n",
            "tf.Tensor(1, shape=(), dtype=int32)\n",
            "tf.Tensor(0, shape=(), dtype=int32)\n",
            "tf.Tensor(0, shape=(), dtype=int32)\n",
            "tf.Tensor(1, shape=(), dtype=int32)\n",
            "tf.Tensor(1, shape=(), dtype=int32)\n",
            "tf.Tensor(0, shape=(), dtype=int32)\n",
            "tf.Tensor(1, shape=(), dtype=int32)\n",
            "tf.Tensor(0, shape=(), dtype=int32)\n",
            "tf.Tensor(0, shape=(), dtype=int32)\n",
            "tf.Tensor(0, shape=(), dtype=int32)\n",
            "tf.Tensor(1, shape=(), dtype=int32)\n",
            "tf.Tensor(1, shape=(), dtype=int32)\n",
            "tf.Tensor(1, shape=(), dtype=int32)\n",
            "tf.Tensor(0, shape=(), dtype=int32)\n",
            "tf.Tensor(1, shape=(), dtype=int32)\n",
            "tf.Tensor(1, shape=(), dtype=int32)\n",
            "tf.Tensor(1, shape=(), dtype=int32)\n",
            "tf.Tensor(0, shape=(), dtype=int32)\n",
            "tf.Tensor(0, shape=(), dtype=int32)\n",
            "tf.Tensor(1, shape=(), dtype=int32)\n",
            "tf.Tensor(1, shape=(), dtype=int32)\n",
            "tf.Tensor(0, shape=(), dtype=int32)\n",
            "tf.Tensor(1, shape=(), dtype=int32)\n",
            "tf.Tensor(0, shape=(), dtype=int32)\n",
            "tf.Tensor(1, shape=(), dtype=int32)\n",
            "tf.Tensor(0, shape=(), dtype=int32)\n",
            "tf.Tensor(1, shape=(), dtype=int32)\n",
            "tf.Tensor(0, shape=(), dtype=int32)\n",
            "tf.Tensor(0, shape=(), dtype=int32)\n",
            "tf.Tensor(1, shape=(), dtype=int32)\n",
            "tf.Tensor(1, shape=(), dtype=int32)\n",
            "tf.Tensor(0, shape=(), dtype=int32)\n",
            "tf.Tensor(1, shape=(), dtype=int32)\n",
            "tf.Tensor(1, shape=(), dtype=int32)\n",
            "tf.Tensor(1, shape=(), dtype=int32)\n",
            "tf.Tensor(1, shape=(), dtype=int32)\n",
            "tf.Tensor(1, shape=(), dtype=int32)\n",
            "tf.Tensor(1, shape=(), dtype=int32)\n",
            "tf.Tensor(1, shape=(), dtype=int32)\n",
            "tf.Tensor(1, shape=(), dtype=int32)\n",
            "tf.Tensor(1, shape=(), dtype=int32)\n",
            "tf.Tensor(1, shape=(), dtype=int32)\n",
            "tf.Tensor(0, shape=(), dtype=int32)\n",
            "tf.Tensor(1, shape=(), dtype=int32)\n",
            "tf.Tensor(0, shape=(), dtype=int32)\n",
            "tf.Tensor(1, shape=(), dtype=int32)\n",
            "tf.Tensor(0, shape=(), dtype=int32)\n",
            "tf.Tensor(0, shape=(), dtype=int32)\n",
            "tf.Tensor(0, shape=(), dtype=int32)\n",
            "tf.Tensor(0, shape=(), dtype=int32)\n",
            "tf.Tensor(1, shape=(), dtype=int32)\n",
            "tf.Tensor(1, shape=(), dtype=int32)\n",
            "tf.Tensor(0, shape=(), dtype=int32)\n",
            "tf.Tensor(0, shape=(), dtype=int32)\n",
            "tf.Tensor(0, shape=(), dtype=int32)\n",
            "tf.Tensor(0, shape=(), dtype=int32)\n",
            "tf.Tensor(1, shape=(), dtype=int32)\n",
            "tf.Tensor(0, shape=(), dtype=int32)\n",
            "tf.Tensor(1, shape=(), dtype=int32)\n",
            "tf.Tensor(0, shape=(), dtype=int32)\n",
            "tf.Tensor(0, shape=(), dtype=int32)\n",
            "tf.Tensor(1, shape=(), dtype=int32)\n",
            "tf.Tensor(0, shape=(), dtype=int32)\n",
            "tf.Tensor(1, shape=(), dtype=int32)\n",
            "tf.Tensor(0, shape=(), dtype=int32)\n",
            "tf.Tensor(1, shape=(), dtype=int32)\n",
            "tf.Tensor(0, shape=(), dtype=int32)\n",
            "tf.Tensor(0, shape=(), dtype=int32)\n",
            "tf.Tensor(1, shape=(), dtype=int32)\n",
            "tf.Tensor(1, shape=(), dtype=int32)\n",
            "tf.Tensor(0, shape=(), dtype=int32)\n",
            "tf.Tensor(0, shape=(), dtype=int32)\n",
            "tf.Tensor(0, shape=(), dtype=int32)\n",
            "tf.Tensor(1, shape=(), dtype=int32)\n",
            "tf.Tensor(1, shape=(), dtype=int32)\n",
            "tf.Tensor(1, shape=(), dtype=int32)\n",
            "tf.Tensor(1, shape=(), dtype=int32)\n",
            "tf.Tensor(1, shape=(), dtype=int32)\n",
            "tf.Tensor(1, shape=(), dtype=int32)\n",
            "tf.Tensor(1, shape=(), dtype=int32)\n",
            "tf.Tensor(0, shape=(), dtype=int32)\n",
            "tf.Tensor(0, shape=(), dtype=int32)\n",
            "tf.Tensor(0, shape=(), dtype=int32)\n",
            "tf.Tensor(0, shape=(), dtype=int32)\n",
            "tf.Tensor(1, shape=(), dtype=int32)\n",
            "tf.Tensor(1, shape=(), dtype=int32)\n",
            "tf.Tensor(1, shape=(), dtype=int32)\n",
            "tf.Tensor(0, shape=(), dtype=int32)\n",
            "tf.Tensor(1, shape=(), dtype=int32)\n",
            "tf.Tensor(0, shape=(), dtype=int32)\n",
            "tf.Tensor(0, shape=(), dtype=int32)\n",
            "tf.Tensor(0, shape=(), dtype=int32)\n",
            "tf.Tensor(1, shape=(), dtype=int32)\n",
            "tf.Tensor(1, shape=(), dtype=int32)\n",
            "tf.Tensor(1, shape=(), dtype=int32)\n",
            "tf.Tensor(1, shape=(), dtype=int32)\n",
            "tf.Tensor(0, shape=(), dtype=int32)\n",
            "tf.Tensor(0, shape=(), dtype=int32)\n",
            "tf.Tensor(0, shape=(), dtype=int32)\n",
            "tf.Tensor(0, shape=(), dtype=int32)\n",
            "tf.Tensor(0, shape=(), dtype=int32)\n",
            "tf.Tensor(0, shape=(), dtype=int32)\n",
            "tf.Tensor(0, shape=(), dtype=int32)\n",
            "tf.Tensor(0, shape=(), dtype=int32)\n",
            "tf.Tensor(1, shape=(), dtype=int32)\n",
            "tf.Tensor(0, shape=(), dtype=int32)\n",
            "tf.Tensor(0, shape=(), dtype=int32)\n",
            "tf.Tensor(0, shape=(), dtype=int32)\n",
            "tf.Tensor(0, shape=(), dtype=int32)\n",
            "tf.Tensor(0, shape=(), dtype=int32)\n",
            "tf.Tensor(0, shape=(), dtype=int32)\n",
            "tf.Tensor(1, shape=(), dtype=int32)\n",
            "tf.Tensor(1, shape=(), dtype=int32)\n",
            "tf.Tensor(0, shape=(), dtype=int32)\n",
            "tf.Tensor(1, shape=(), dtype=int32)\n",
            "tf.Tensor(0, shape=(), dtype=int32)\n",
            "tf.Tensor(1, shape=(), dtype=int32)\n",
            "tf.Tensor(1, shape=(), dtype=int32)\n",
            "tf.Tensor(0, shape=(), dtype=int32)\n",
            "tf.Tensor(0, shape=(), dtype=int32)\n",
            "tf.Tensor(1, shape=(), dtype=int32)\n",
            "tf.Tensor(0, shape=(), dtype=int32)\n",
            "tf.Tensor(1, shape=(), dtype=int32)\n",
            "tf.Tensor(0, shape=(), dtype=int32)\n",
            "tf.Tensor(1, shape=(), dtype=int32)\n",
            "tf.Tensor(1, shape=(), dtype=int32)\n",
            "tf.Tensor(1, shape=(), dtype=int32)\n",
            "tf.Tensor(1, shape=(), dtype=int32)\n",
            "tf.Tensor(1, shape=(), dtype=int32)\n",
            "tf.Tensor(1, shape=(), dtype=int32)\n",
            "tf.Tensor(1, shape=(), dtype=int32)\n",
            "tf.Tensor(0, shape=(), dtype=int32)\n",
            "tf.Tensor(0, shape=(), dtype=int32)\n",
            "tf.Tensor(0, shape=(), dtype=int32)\n",
            "tf.Tensor(0, shape=(), dtype=int32)\n",
            "tf.Tensor(1, shape=(), dtype=int32)\n",
            "tf.Tensor(1, shape=(), dtype=int32)\n",
            "tf.Tensor(0, shape=(), dtype=int32)\n",
            "tf.Tensor(1, shape=(), dtype=int32)\n",
            "tf.Tensor(1, shape=(), dtype=int32)\n",
            "tf.Tensor(1, shape=(), dtype=int32)\n",
            "tf.Tensor(0, shape=(), dtype=int32)\n",
            "tf.Tensor(1, shape=(), dtype=int32)\n",
            "tf.Tensor(0, shape=(), dtype=int32)\n",
            "tf.Tensor(0, shape=(), dtype=int32)\n",
            "tf.Tensor(0, shape=(), dtype=int32)\n",
            "tf.Tensor(1, shape=(), dtype=int32)\n",
            "tf.Tensor(0, shape=(), dtype=int32)\n",
            "tf.Tensor(1, shape=(), dtype=int32)\n",
            "tf.Tensor(0, shape=(), dtype=int32)\n",
            "tf.Tensor(1, shape=(), dtype=int32)\n",
            "tf.Tensor(0, shape=(), dtype=int32)\n",
            "tf.Tensor(0, shape=(), dtype=int32)\n",
            "tf.Tensor(0, shape=(), dtype=int32)\n",
            "tf.Tensor(0, shape=(), dtype=int32)\n",
            "tf.Tensor(1, shape=(), dtype=int32)\n",
            "tf.Tensor(0, shape=(), dtype=int32)\n",
            "tf.Tensor(0, shape=(), dtype=int32)\n",
            "tf.Tensor(0, shape=(), dtype=int32)\n",
            "tf.Tensor(0, shape=(), dtype=int32)\n",
            "tf.Tensor(0, shape=(), dtype=int32)\n",
            "tf.Tensor(1, shape=(), dtype=int32)\n",
            "tf.Tensor(0, shape=(), dtype=int32)\n",
            "tf.Tensor(0, shape=(), dtype=int32)\n",
            "tf.Tensor(0, shape=(), dtype=int32)\n",
            "tf.Tensor(0, shape=(), dtype=int32)\n",
            "tf.Tensor(1, shape=(), dtype=int32)\n",
            "tf.Tensor(1, shape=(), dtype=int32)\n",
            "tf.Tensor(0, shape=(), dtype=int32)\n",
            "tf.Tensor(0, shape=(), dtype=int32)\n",
            "tf.Tensor(0, shape=(), dtype=int32)\n",
            "tf.Tensor(0, shape=(), dtype=int32)\n",
            "tf.Tensor(0, shape=(), dtype=int32)\n",
            "tf.Tensor(0, shape=(), dtype=int32)\n",
            "tf.Tensor(1, shape=(), dtype=int32)\n",
            "tf.Tensor(0, shape=(), dtype=int32)\n",
            "tf.Tensor(1, shape=(), dtype=int32)\n",
            "tf.Tensor(0, shape=(), dtype=int32)\n",
            "tf.Tensor(1, shape=(), dtype=int32)\n",
            "tf.Tensor(0, shape=(), dtype=int32)\n",
            "tf.Tensor(0, shape=(), dtype=int32)\n",
            "tf.Tensor(1, shape=(), dtype=int32)\n",
            "tf.Tensor(0, shape=(), dtype=int32)\n",
            "tf.Tensor(0, shape=(), dtype=int32)\n",
            "tf.Tensor(0, shape=(), dtype=int32)\n",
            "tf.Tensor(0, shape=(), dtype=int32)\n",
            "tf.Tensor(0, shape=(), dtype=int32)\n",
            "tf.Tensor(0, shape=(), dtype=int32)\n",
            "tf.Tensor(1, shape=(), dtype=int32)\n",
            "tf.Tensor(1, shape=(), dtype=int32)\n",
            "tf.Tensor(1, shape=(), dtype=int32)\n",
            "tf.Tensor(1, shape=(), dtype=int32)\n",
            "tf.Tensor(1, shape=(), dtype=int32)\n",
            "tf.Tensor(1, shape=(), dtype=int32)\n",
            "tf.Tensor(0, shape=(), dtype=int32)\n",
            "tf.Tensor(0, shape=(), dtype=int32)\n",
            "tf.Tensor(0, shape=(), dtype=int32)\n",
            "tf.Tensor(1, shape=(), dtype=int32)\n",
            "tf.Tensor(0, shape=(), dtype=int32)\n",
            "tf.Tensor(0, shape=(), dtype=int32)\n",
            "tf.Tensor(1, shape=(), dtype=int32)\n",
            "tf.Tensor(1, shape=(), dtype=int32)\n",
            "tf.Tensor(0, shape=(), dtype=int32)\n",
            "tf.Tensor(1, shape=(), dtype=int32)\n",
            "tf.Tensor(1, shape=(), dtype=int32)\n",
            "tf.Tensor(1, shape=(), dtype=int32)\n",
            "tf.Tensor(0, shape=(), dtype=int32)\n",
            "tf.Tensor(1, shape=(), dtype=int32)\n",
            "tf.Tensor(0, shape=(), dtype=int32)\n",
            "tf.Tensor(1, shape=(), dtype=int32)\n",
            "tf.Tensor(0, shape=(), dtype=int32)\n",
            "tf.Tensor(1, shape=(), dtype=int32)\n",
            "tf.Tensor(0, shape=(), dtype=int32)\n",
            "tf.Tensor(1, shape=(), dtype=int32)\n",
            "tf.Tensor(1, shape=(), dtype=int32)\n",
            "tf.Tensor(0, shape=(), dtype=int32)\n",
            "tf.Tensor(0, shape=(), dtype=int32)\n",
            "tf.Tensor(0, shape=(), dtype=int32)\n",
            "tf.Tensor(1, shape=(), dtype=int32)\n",
            "tf.Tensor(1, shape=(), dtype=int32)\n",
            "tf.Tensor(0, shape=(), dtype=int32)\n",
            "tf.Tensor(1, shape=(), dtype=int32)\n",
            "tf.Tensor(1, shape=(), dtype=int32)\n",
            "tf.Tensor(1, shape=(), dtype=int32)\n",
            "tf.Tensor(1, shape=(), dtype=int32)\n",
            "tf.Tensor(0, shape=(), dtype=int32)\n",
            "tf.Tensor(1, shape=(), dtype=int32)\n",
            "tf.Tensor(1, shape=(), dtype=int32)\n",
            "tf.Tensor(1, shape=(), dtype=int32)\n",
            "tf.Tensor(0, shape=(), dtype=int32)\n",
            "tf.Tensor(1, shape=(), dtype=int32)\n",
            "tf.Tensor(0, shape=(), dtype=int32)\n",
            "tf.Tensor(1, shape=(), dtype=int32)\n",
            "tf.Tensor(1, shape=(), dtype=int32)\n",
            "tf.Tensor(0, shape=(), dtype=int32)\n",
            "tf.Tensor(0, shape=(), dtype=int32)\n",
            "tf.Tensor(0, shape=(), dtype=int32)\n",
            "tf.Tensor(1, shape=(), dtype=int32)\n",
            "tf.Tensor(1, shape=(), dtype=int32)\n",
            "tf.Tensor(1, shape=(), dtype=int32)\n",
            "tf.Tensor(1, shape=(), dtype=int32)\n",
            "tf.Tensor(0, shape=(), dtype=int32)\n",
            "tf.Tensor(0, shape=(), dtype=int32)\n",
            "tf.Tensor(0, shape=(), dtype=int32)\n",
            "tf.Tensor(0, shape=(), dtype=int32)\n",
            "tf.Tensor(0, shape=(), dtype=int32)\n",
            "tf.Tensor(1, shape=(), dtype=int32)\n",
            "tf.Tensor(0, shape=(), dtype=int32)\n",
            "tf.Tensor(1, shape=(), dtype=int32)\n",
            "tf.Tensor(1, shape=(), dtype=int32)\n",
            "tf.Tensor(1, shape=(), dtype=int32)\n",
            "tf.Tensor(1, shape=(), dtype=int32)\n",
            "tf.Tensor(1, shape=(), dtype=int32)\n",
            "tf.Tensor(0, shape=(), dtype=int32)\n",
            "tf.Tensor(1, shape=(), dtype=int32)\n",
            "tf.Tensor(0, shape=(), dtype=int32)\n",
            "tf.Tensor(1, shape=(), dtype=int32)\n",
            "tf.Tensor(0, shape=(), dtype=int32)\n",
            "tf.Tensor(1, shape=(), dtype=int32)\n",
            "tf.Tensor(0, shape=(), dtype=int32)\n",
            "tf.Tensor(0, shape=(), dtype=int32)\n",
            "tf.Tensor(0, shape=(), dtype=int32)\n",
            "tf.Tensor(0, shape=(), dtype=int32)\n",
            "tf.Tensor(1, shape=(), dtype=int32)\n",
            "tf.Tensor(1, shape=(), dtype=int32)\n",
            "tf.Tensor(0, shape=(), dtype=int32)\n",
            "tf.Tensor(1, shape=(), dtype=int32)\n",
            "tf.Tensor(0, shape=(), dtype=int32)\n",
            "tf.Tensor(1, shape=(), dtype=int32)\n",
            "tf.Tensor(0, shape=(), dtype=int32)\n",
            "tf.Tensor(1, shape=(), dtype=int32)\n",
            "tf.Tensor(0, shape=(), dtype=int32)\n",
            "tf.Tensor(1, shape=(), dtype=int32)\n",
            "tf.Tensor(1, shape=(), dtype=int32)\n",
            "tf.Tensor(0, shape=(), dtype=int32)\n",
            "tf.Tensor(1, shape=(), dtype=int32)\n",
            "tf.Tensor(0, shape=(), dtype=int32)\n",
            "tf.Tensor(0, shape=(), dtype=int32)\n",
            "tf.Tensor(1, shape=(), dtype=int32)\n",
            "tf.Tensor(0, shape=(), dtype=int32)\n",
            "tf.Tensor(1, shape=(), dtype=int32)\n",
            "tf.Tensor(0, shape=(), dtype=int32)\n",
            "tf.Tensor(1, shape=(), dtype=int32)\n",
            "tf.Tensor(1, shape=(), dtype=int32)\n",
            "tf.Tensor(1, shape=(), dtype=int32)\n",
            "tf.Tensor(1, shape=(), dtype=int32)\n",
            "tf.Tensor(1, shape=(), dtype=int32)\n",
            "tf.Tensor(1, shape=(), dtype=int32)\n",
            "tf.Tensor(0, shape=(), dtype=int32)\n",
            "tf.Tensor(1, shape=(), dtype=int32)\n",
            "tf.Tensor(0, shape=(), dtype=int32)\n",
            "tf.Tensor(1, shape=(), dtype=int32)\n",
            "tf.Tensor(0, shape=(), dtype=int32)\n",
            "tf.Tensor(1, shape=(), dtype=int32)\n",
            "tf.Tensor(1, shape=(), dtype=int32)\n",
            "tf.Tensor(0, shape=(), dtype=int32)\n",
            "tf.Tensor(0, shape=(), dtype=int32)\n",
            "tf.Tensor(0, shape=(), dtype=int32)\n",
            "tf.Tensor(1, shape=(), dtype=int32)\n",
            "tf.Tensor(1, shape=(), dtype=int32)\n",
            "tf.Tensor(0, shape=(), dtype=int32)\n",
            "tf.Tensor(1, shape=(), dtype=int32)\n",
            "tf.Tensor(0, shape=(), dtype=int32)\n",
            "tf.Tensor(0, shape=(), dtype=int32)\n",
            "tf.Tensor(1, shape=(), dtype=int32)\n",
            "tf.Tensor(0, shape=(), dtype=int32)\n",
            "tf.Tensor(0, shape=(), dtype=int32)\n",
            "tf.Tensor(1, shape=(), dtype=int32)\n",
            "tf.Tensor(0, shape=(), dtype=int32)\n",
            "tf.Tensor(0, shape=(), dtype=int32)\n",
            "tf.Tensor(0, shape=(), dtype=int32)\n",
            "tf.Tensor(1, shape=(), dtype=int32)\n",
            "tf.Tensor(1, shape=(), dtype=int32)\n",
            "tf.Tensor(1, shape=(), dtype=int32)\n",
            "tf.Tensor(0, shape=(), dtype=int32)\n",
            "tf.Tensor(1, shape=(), dtype=int32)\n",
            "tf.Tensor(0, shape=(), dtype=int32)\n",
            "tf.Tensor(0, shape=(), dtype=int32)\n",
            "tf.Tensor(1, shape=(), dtype=int32)\n",
            "tf.Tensor(1, shape=(), dtype=int32)\n",
            "tf.Tensor(0, shape=(), dtype=int32)\n",
            "tf.Tensor(1, shape=(), dtype=int32)\n",
            "tf.Tensor(1, shape=(), dtype=int32)\n",
            "tf.Tensor(0, shape=(), dtype=int32)\n",
            "tf.Tensor(0, shape=(), dtype=int32)\n",
            "tf.Tensor(1, shape=(), dtype=int32)\n",
            "tf.Tensor(0, shape=(), dtype=int32)\n",
            "tf.Tensor(0, shape=(), dtype=int32)\n",
            "tf.Tensor(0, shape=(), dtype=int32)\n",
            "tf.Tensor(1, shape=(), dtype=int32)\n",
            "tf.Tensor(0, shape=(), dtype=int32)\n",
            "tf.Tensor(1, shape=(), dtype=int32)\n",
            "tf.Tensor(1, shape=(), dtype=int32)\n",
            "tf.Tensor(1, shape=(), dtype=int32)\n",
            "tf.Tensor(1, shape=(), dtype=int32)\n",
            "tf.Tensor(1, shape=(), dtype=int32)\n",
            "tf.Tensor(0, shape=(), dtype=int32)\n",
            "tf.Tensor(0, shape=(), dtype=int32)\n",
            "tf.Tensor(0, shape=(), dtype=int32)\n",
            "tf.Tensor(1, shape=(), dtype=int32)\n",
            "tf.Tensor(1, shape=(), dtype=int32)\n",
            "tf.Tensor(1, shape=(), dtype=int32)\n",
            "tf.Tensor(1, shape=(), dtype=int32)\n",
            "tf.Tensor(1, shape=(), dtype=int32)\n",
            "tf.Tensor(1, shape=(), dtype=int32)\n",
            "tf.Tensor(0, shape=(), dtype=int32)\n",
            "tf.Tensor(1, shape=(), dtype=int32)\n",
            "tf.Tensor(1, shape=(), dtype=int32)\n",
            "tf.Tensor(0, shape=(), dtype=int32)\n",
            "tf.Tensor(0, shape=(), dtype=int32)\n",
            "tf.Tensor(1, shape=(), dtype=int32)\n",
            "tf.Tensor(0, shape=(), dtype=int32)\n",
            "tf.Tensor(1, shape=(), dtype=int32)\n",
            "tf.Tensor(0, shape=(), dtype=int32)\n",
            "tf.Tensor(0, shape=(), dtype=int32)\n",
            "tf.Tensor(0, shape=(), dtype=int32)\n",
            "tf.Tensor(1, shape=(), dtype=int32)\n",
            "tf.Tensor(0, shape=(), dtype=int32)\n",
            "tf.Tensor(0, shape=(), dtype=int32)\n",
            "tf.Tensor(0, shape=(), dtype=int32)\n",
            "tf.Tensor(0, shape=(), dtype=int32)\n",
            "tf.Tensor(0, shape=(), dtype=int32)\n",
            "tf.Tensor(0, shape=(), dtype=int32)\n",
            "tf.Tensor(0, shape=(), dtype=int32)\n",
            "tf.Tensor(0, shape=(), dtype=int32)\n",
            "tf.Tensor(1, shape=(), dtype=int32)\n",
            "tf.Tensor(0, shape=(), dtype=int32)\n",
            "tf.Tensor(0, shape=(), dtype=int32)\n",
            "tf.Tensor(0, shape=(), dtype=int32)\n",
            "tf.Tensor(1, shape=(), dtype=int32)\n",
            "tf.Tensor(1, shape=(), dtype=int32)\n",
            "tf.Tensor(1, shape=(), dtype=int32)\n",
            "tf.Tensor(0, shape=(), dtype=int32)\n",
            "tf.Tensor(0, shape=(), dtype=int32)\n",
            "tf.Tensor(1, shape=(), dtype=int32)\n",
            "tf.Tensor(0, shape=(), dtype=int32)\n",
            "tf.Tensor(0, shape=(), dtype=int32)\n",
            "tf.Tensor(1, shape=(), dtype=int32)\n",
            "tf.Tensor(0, shape=(), dtype=int32)\n",
            "tf.Tensor(1, shape=(), dtype=int32)\n",
            "tf.Tensor(0, shape=(), dtype=int32)\n",
            "tf.Tensor(1, shape=(), dtype=int32)\n",
            "tf.Tensor(1, shape=(), dtype=int32)\n",
            "tf.Tensor(1, shape=(), dtype=int32)\n",
            "tf.Tensor(1, shape=(), dtype=int32)\n",
            "tf.Tensor(1, shape=(), dtype=int32)\n",
            "tf.Tensor(0, shape=(), dtype=int32)\n",
            "tf.Tensor(0, shape=(), dtype=int32)\n",
            "tf.Tensor(0, shape=(), dtype=int32)\n",
            "tf.Tensor(0, shape=(), dtype=int32)\n",
            "tf.Tensor(1, shape=(), dtype=int32)\n",
            "tf.Tensor(0, shape=(), dtype=int32)\n",
            "tf.Tensor(1, shape=(), dtype=int32)\n",
            "tf.Tensor(0, shape=(), dtype=int32)\n",
            "tf.Tensor(0, shape=(), dtype=int32)\n",
            "tf.Tensor(0, shape=(), dtype=int32)\n",
            "tf.Tensor(0, shape=(), dtype=int32)\n",
            "tf.Tensor(1, shape=(), dtype=int32)\n",
            "tf.Tensor(1, shape=(), dtype=int32)\n",
            "tf.Tensor(1, shape=(), dtype=int32)\n",
            "tf.Tensor(0, shape=(), dtype=int32)\n",
            "tf.Tensor(0, shape=(), dtype=int32)\n",
            "tf.Tensor(1, shape=(), dtype=int32)\n",
            "tf.Tensor(0, shape=(), dtype=int32)\n",
            "tf.Tensor(1, shape=(), dtype=int32)\n",
            "tf.Tensor(0, shape=(), dtype=int32)\n",
            "tf.Tensor(1, shape=(), dtype=int32)\n",
            "tf.Tensor(1, shape=(), dtype=int32)\n",
            "tf.Tensor(1, shape=(), dtype=int32)\n",
            "tf.Tensor(0, shape=(), dtype=int32)\n",
            "tf.Tensor(1, shape=(), dtype=int32)\n",
            "tf.Tensor(0, shape=(), dtype=int32)\n",
            "tf.Tensor(1, shape=(), dtype=int32)\n",
            "tf.Tensor(0, shape=(), dtype=int32)\n",
            "tf.Tensor(1, shape=(), dtype=int32)\n",
            "tf.Tensor(1, shape=(), dtype=int32)\n",
            "tf.Tensor(1, shape=(), dtype=int32)\n",
            "tf.Tensor(1, shape=(), dtype=int32)\n",
            "tf.Tensor(1, shape=(), dtype=int32)\n",
            "tf.Tensor(1, shape=(), dtype=int32)\n",
            "tf.Tensor(1, shape=(), dtype=int32)\n",
            "tf.Tensor(1, shape=(), dtype=int32)\n",
            "tf.Tensor(0, shape=(), dtype=int32)\n",
            "tf.Tensor(0, shape=(), dtype=int32)\n",
            "tf.Tensor(0, shape=(), dtype=int32)\n",
            "tf.Tensor(1, shape=(), dtype=int32)\n",
            "tf.Tensor(1, shape=(), dtype=int32)\n",
            "tf.Tensor(0, shape=(), dtype=int32)\n",
            "tf.Tensor(1, shape=(), dtype=int32)\n",
            "tf.Tensor(1, shape=(), dtype=int32)\n",
            "tf.Tensor(0, shape=(), dtype=int32)\n",
            "tf.Tensor(0, shape=(), dtype=int32)\n",
            "tf.Tensor(1, shape=(), dtype=int32)\n",
            "tf.Tensor(1, shape=(), dtype=int32)\n",
            "tf.Tensor(1, shape=(), dtype=int32)\n",
            "tf.Tensor(1, shape=(), dtype=int32)\n",
            "tf.Tensor(0, shape=(), dtype=int32)\n",
            "tf.Tensor(1, shape=(), dtype=int32)\n",
            "tf.Tensor(1, shape=(), dtype=int32)\n",
            "tf.Tensor(0, shape=(), dtype=int32)\n",
            "tf.Tensor(1, shape=(), dtype=int32)\n",
            "tf.Tensor(0, shape=(), dtype=int32)\n",
            "tf.Tensor(1, shape=(), dtype=int32)\n",
            "tf.Tensor(0, shape=(), dtype=int32)\n",
            "tf.Tensor(0, shape=(), dtype=int32)\n",
            "tf.Tensor(1, shape=(), dtype=int32)\n",
            "tf.Tensor(1, shape=(), dtype=int32)\n",
            "tf.Tensor(0, shape=(), dtype=int32)\n",
            "tf.Tensor(0, shape=(), dtype=int32)\n",
            "tf.Tensor(1, shape=(), dtype=int32)\n",
            "tf.Tensor(0, shape=(), dtype=int32)\n",
            "tf.Tensor(0, shape=(), dtype=int32)\n",
            "tf.Tensor(0, shape=(), dtype=int32)\n",
            "tf.Tensor(0, shape=(), dtype=int32)\n",
            "tf.Tensor(0, shape=(), dtype=int32)\n",
            "tf.Tensor(1, shape=(), dtype=int32)\n",
            "tf.Tensor(1, shape=(), dtype=int32)\n",
            "tf.Tensor(1, shape=(), dtype=int32)\n",
            "tf.Tensor(0, shape=(), dtype=int32)\n",
            "tf.Tensor(0, shape=(), dtype=int32)\n",
            "tf.Tensor(0, shape=(), dtype=int32)\n",
            "tf.Tensor(0, shape=(), dtype=int32)\n",
            "tf.Tensor(1, shape=(), dtype=int32)\n",
            "tf.Tensor(0, shape=(), dtype=int32)\n",
            "tf.Tensor(1, shape=(), dtype=int32)\n",
            "tf.Tensor(0, shape=(), dtype=int32)\n",
            "tf.Tensor(0, shape=(), dtype=int32)\n",
            "tf.Tensor(0, shape=(), dtype=int32)\n",
            "tf.Tensor(0, shape=(), dtype=int32)\n",
            "tf.Tensor(1, shape=(), dtype=int32)\n",
            "tf.Tensor(1, shape=(), dtype=int32)\n",
            "tf.Tensor(1, shape=(), dtype=int32)\n",
            "tf.Tensor(1, shape=(), dtype=int32)\n",
            "tf.Tensor(0, shape=(), dtype=int32)\n",
            "tf.Tensor(1, shape=(), dtype=int32)\n",
            "tf.Tensor(0, shape=(), dtype=int32)\n",
            "tf.Tensor(0, shape=(), dtype=int32)\n",
            "tf.Tensor(1, shape=(), dtype=int32)\n",
            "tf.Tensor(1, shape=(), dtype=int32)\n",
            "tf.Tensor(1, shape=(), dtype=int32)\n",
            "tf.Tensor(0, shape=(), dtype=int32)\n",
            "tf.Tensor(1, shape=(), dtype=int32)\n",
            "tf.Tensor(1, shape=(), dtype=int32)\n",
            "tf.Tensor(0, shape=(), dtype=int32)\n",
            "tf.Tensor(0, shape=(), dtype=int32)\n",
            "tf.Tensor(0, shape=(), dtype=int32)\n",
            "tf.Tensor(0, shape=(), dtype=int32)\n",
            "tf.Tensor(0, shape=(), dtype=int32)\n",
            "tf.Tensor(1, shape=(), dtype=int32)\n",
            "tf.Tensor(0, shape=(), dtype=int32)\n",
            "tf.Tensor(0, shape=(), dtype=int32)\n",
            "tf.Tensor(1, shape=(), dtype=int32)\n",
            "tf.Tensor(0, shape=(), dtype=int32)\n",
            "tf.Tensor(0, shape=(), dtype=int32)\n",
            "tf.Tensor(1, shape=(), dtype=int32)\n",
            "tf.Tensor(1, shape=(), dtype=int32)\n",
            "tf.Tensor(1, shape=(), dtype=int32)\n",
            "tf.Tensor(0, shape=(), dtype=int32)\n",
            "tf.Tensor(1, shape=(), dtype=int32)\n",
            "tf.Tensor(1, shape=(), dtype=int32)\n",
            "tf.Tensor(0, shape=(), dtype=int32)\n",
            "tf.Tensor(0, shape=(), dtype=int32)\n",
            "tf.Tensor(1, shape=(), dtype=int32)\n",
            "tf.Tensor(1, shape=(), dtype=int32)\n",
            "tf.Tensor(0, shape=(), dtype=int32)\n",
            "tf.Tensor(1, shape=(), dtype=int32)\n",
            "tf.Tensor(0, shape=(), dtype=int32)\n",
            "tf.Tensor(0, shape=(), dtype=int32)\n",
            "tf.Tensor(1, shape=(), dtype=int32)\n",
            "tf.Tensor(1, shape=(), dtype=int32)\n",
            "tf.Tensor(1, shape=(), dtype=int32)\n",
            "tf.Tensor(0, shape=(), dtype=int32)\n",
            "tf.Tensor(0, shape=(), dtype=int32)\n",
            "tf.Tensor(1, shape=(), dtype=int32)\n",
            "tf.Tensor(1, shape=(), dtype=int32)\n",
            "tf.Tensor(0, shape=(), dtype=int32)\n",
            "tf.Tensor(1, shape=(), dtype=int32)\n",
            "tf.Tensor(1, shape=(), dtype=int32)\n",
            "tf.Tensor(1, shape=(), dtype=int32)\n",
            "tf.Tensor(1, shape=(), dtype=int32)\n",
            "tf.Tensor(0, shape=(), dtype=int32)\n",
            "tf.Tensor(0, shape=(), dtype=int32)\n",
            "tf.Tensor(0, shape=(), dtype=int32)\n",
            "tf.Tensor(1, shape=(), dtype=int32)\n",
            "tf.Tensor(0, shape=(), dtype=int32)\n",
            "tf.Tensor(1, shape=(), dtype=int32)\n",
            "tf.Tensor(0, shape=(), dtype=int32)\n",
            "tf.Tensor(0, shape=(), dtype=int32)\n",
            "tf.Tensor(0, shape=(), dtype=int32)\n",
            "tf.Tensor(0, shape=(), dtype=int32)\n",
            "tf.Tensor(1, shape=(), dtype=int32)\n",
            "tf.Tensor(0, shape=(), dtype=int32)\n",
            "tf.Tensor(1, shape=(), dtype=int32)\n",
            "tf.Tensor(1, shape=(), dtype=int32)\n",
            "tf.Tensor(1, shape=(), dtype=int32)\n",
            "tf.Tensor(1, shape=(), dtype=int32)\n",
            "tf.Tensor(1, shape=(), dtype=int32)\n",
            "tf.Tensor(0, shape=(), dtype=int32)\n",
            "tf.Tensor(1, shape=(), dtype=int32)\n",
            "tf.Tensor(1, shape=(), dtype=int32)\n",
            "tf.Tensor(1, shape=(), dtype=int32)\n",
            "tf.Tensor(0, shape=(), dtype=int32)\n",
            "tf.Tensor(0, shape=(), dtype=int32)\n",
            "tf.Tensor(0, shape=(), dtype=int32)\n",
            "tf.Tensor(0, shape=(), dtype=int32)\n",
            "tf.Tensor(0, shape=(), dtype=int32)\n",
            "tf.Tensor(1, shape=(), dtype=int32)\n",
            "tf.Tensor(1, shape=(), dtype=int32)\n",
            "tf.Tensor(1, shape=(), dtype=int32)\n",
            "tf.Tensor(1, shape=(), dtype=int32)\n",
            "tf.Tensor(1, shape=(), dtype=int32)\n",
            "tf.Tensor(1, shape=(), dtype=int32)\n",
            "tf.Tensor(1, shape=(), dtype=int32)\n",
            "tf.Tensor(0, shape=(), dtype=int32)\n",
            "tf.Tensor(0, shape=(), dtype=int32)\n",
            "tf.Tensor(1, shape=(), dtype=int32)\n",
            "tf.Tensor(0, shape=(), dtype=int32)\n",
            "tf.Tensor(0, shape=(), dtype=int32)\n",
            "tf.Tensor(1, shape=(), dtype=int32)\n",
            "tf.Tensor(0, shape=(), dtype=int32)\n",
            "tf.Tensor(1, shape=(), dtype=int32)\n",
            "tf.Tensor(1, shape=(), dtype=int32)\n",
            "tf.Tensor(0, shape=(), dtype=int32)\n",
            "tf.Tensor(1, shape=(), dtype=int32)\n",
            "tf.Tensor(0, shape=(), dtype=int32)\n",
            "tf.Tensor(1, shape=(), dtype=int32)\n",
            "tf.Tensor(0, shape=(), dtype=int32)\n",
            "tf.Tensor(1, shape=(), dtype=int32)\n",
            "tf.Tensor(0, shape=(), dtype=int32)\n",
            "tf.Tensor(1, shape=(), dtype=int32)\n",
            "tf.Tensor(1, shape=(), dtype=int32)\n",
            "tf.Tensor(1, shape=(), dtype=int32)\n",
            "tf.Tensor(0, shape=(), dtype=int32)\n",
            "tf.Tensor(1, shape=(), dtype=int32)\n",
            "tf.Tensor(0, shape=(), dtype=int32)\n",
            "tf.Tensor(0, shape=(), dtype=int32)\n",
            "tf.Tensor(0, shape=(), dtype=int32)\n",
            "tf.Tensor(1, shape=(), dtype=int32)\n",
            "tf.Tensor(1, shape=(), dtype=int32)\n",
            "tf.Tensor(0, shape=(), dtype=int32)\n",
            "tf.Tensor(0, shape=(), dtype=int32)\n",
            "tf.Tensor(1, shape=(), dtype=int32)\n",
            "tf.Tensor(1, shape=(), dtype=int32)\n",
            "tf.Tensor(0, shape=(), dtype=int32)\n",
            "tf.Tensor(1, shape=(), dtype=int32)\n",
            "tf.Tensor(0, shape=(), dtype=int32)\n",
            "tf.Tensor(0, shape=(), dtype=int32)\n",
            "tf.Tensor(1, shape=(), dtype=int32)\n",
            "tf.Tensor(1, shape=(), dtype=int32)\n",
            "tf.Tensor(1, shape=(), dtype=int32)\n",
            "tf.Tensor(1, shape=(), dtype=int32)\n",
            "tf.Tensor(1, shape=(), dtype=int32)\n",
            "tf.Tensor(0, shape=(), dtype=int32)\n",
            "tf.Tensor(0, shape=(), dtype=int32)\n",
            "tf.Tensor(0, shape=(), dtype=int32)\n",
            "tf.Tensor(0, shape=(), dtype=int32)\n",
            "tf.Tensor(1, shape=(), dtype=int32)\n",
            "tf.Tensor(1, shape=(), dtype=int32)\n",
            "tf.Tensor(1, shape=(), dtype=int32)\n",
            "tf.Tensor(1, shape=(), dtype=int32)\n",
            "tf.Tensor(1, shape=(), dtype=int32)\n",
            "tf.Tensor(0, shape=(), dtype=int32)\n",
            "tf.Tensor(0, shape=(), dtype=int32)\n",
            "tf.Tensor(1, shape=(), dtype=int32)\n",
            "tf.Tensor(1, shape=(), dtype=int32)\n",
            "tf.Tensor(0, shape=(), dtype=int32)\n",
            "tf.Tensor(0, shape=(), dtype=int32)\n",
            "tf.Tensor(0, shape=(), dtype=int32)\n",
            "tf.Tensor(1, shape=(), dtype=int32)\n",
            "tf.Tensor(1, shape=(), dtype=int32)\n",
            "tf.Tensor(0, shape=(), dtype=int32)\n",
            "tf.Tensor(1, shape=(), dtype=int32)\n",
            "tf.Tensor(0, shape=(), dtype=int32)\n",
            "tf.Tensor(1, shape=(), dtype=int32)\n",
            "tf.Tensor(0, shape=(), dtype=int32)\n",
            "tf.Tensor(0, shape=(), dtype=int32)\n",
            "tf.Tensor(0, shape=(), dtype=int32)\n",
            "tf.Tensor(0, shape=(), dtype=int32)\n",
            "tf.Tensor(1, shape=(), dtype=int32)\n",
            "tf.Tensor(1, shape=(), dtype=int32)\n",
            "tf.Tensor(1, shape=(), dtype=int32)\n",
            "tf.Tensor(0, shape=(), dtype=int32)\n",
            "tf.Tensor(1, shape=(), dtype=int32)\n",
            "tf.Tensor(0, shape=(), dtype=int32)\n",
            "tf.Tensor(1, shape=(), dtype=int32)\n",
            "tf.Tensor(1, shape=(), dtype=int32)\n",
            "tf.Tensor(0, shape=(), dtype=int32)\n",
            "tf.Tensor(0, shape=(), dtype=int32)\n",
            "tf.Tensor(0, shape=(), dtype=int32)\n",
            "tf.Tensor(1, shape=(), dtype=int32)\n",
            "tf.Tensor(0, shape=(), dtype=int32)\n",
            "tf.Tensor(1, shape=(), dtype=int32)\n",
            "tf.Tensor(1, shape=(), dtype=int32)\n",
            "tf.Tensor(1, shape=(), dtype=int32)\n",
            "tf.Tensor(0, shape=(), dtype=int32)\n",
            "tf.Tensor(0, shape=(), dtype=int32)\n",
            "tf.Tensor(0, shape=(), dtype=int32)\n",
            "tf.Tensor(0, shape=(), dtype=int32)\n",
            "tf.Tensor(0, shape=(), dtype=int32)\n",
            "tf.Tensor(1, shape=(), dtype=int32)\n",
            "tf.Tensor(0, shape=(), dtype=int32)\n",
            "tf.Tensor(0, shape=(), dtype=int32)\n",
            "tf.Tensor(1, shape=(), dtype=int32)\n",
            "tf.Tensor(0, shape=(), dtype=int32)\n",
            "tf.Tensor(0, shape=(), dtype=int32)\n",
            "tf.Tensor(0, shape=(), dtype=int32)\n",
            "tf.Tensor(0, shape=(), dtype=int32)\n",
            "tf.Tensor(1, shape=(), dtype=int32)\n",
            "tf.Tensor(1, shape=(), dtype=int32)\n",
            "tf.Tensor(0, shape=(), dtype=int32)\n",
            "tf.Tensor(1, shape=(), dtype=int32)\n",
            "tf.Tensor(0, shape=(), dtype=int32)\n",
            "tf.Tensor(0, shape=(), dtype=int32)\n",
            "tf.Tensor(1, shape=(), dtype=int32)\n",
            "tf.Tensor(0, shape=(), dtype=int32)\n",
            "tf.Tensor(0, shape=(), dtype=int32)\n",
            "tf.Tensor(1, shape=(), dtype=int32)\n",
            "tf.Tensor(0, shape=(), dtype=int32)\n",
            "tf.Tensor(1, shape=(), dtype=int32)\n",
            "tf.Tensor(0, shape=(), dtype=int32)\n",
            "tf.Tensor(1, shape=(), dtype=int32)\n",
            "tf.Tensor(0, shape=(), dtype=int32)\n",
            "tf.Tensor(1, shape=(), dtype=int32)\n",
            "tf.Tensor(0, shape=(), dtype=int32)\n",
            "tf.Tensor(1, shape=(), dtype=int32)\n",
            "tf.Tensor(1, shape=(), dtype=int32)\n",
            "tf.Tensor(0, shape=(), dtype=int32)\n",
            "tf.Tensor(1, shape=(), dtype=int32)\n",
            "tf.Tensor(1, shape=(), dtype=int32)\n",
            "tf.Tensor(0, shape=(), dtype=int32)\n",
            "tf.Tensor(0, shape=(), dtype=int32)\n",
            "tf.Tensor(1, shape=(), dtype=int32)\n",
            "tf.Tensor(0, shape=(), dtype=int32)\n",
            "tf.Tensor(0, shape=(), dtype=int32)\n",
            "tf.Tensor(0, shape=(), dtype=int32)\n",
            "tf.Tensor(1, shape=(), dtype=int32)\n",
            "tf.Tensor(1, shape=(), dtype=int32)\n",
            "tf.Tensor(0, shape=(), dtype=int32)\n",
            "tf.Tensor(0, shape=(), dtype=int32)\n",
            "tf.Tensor(1, shape=(), dtype=int32)\n",
            "tf.Tensor(0, shape=(), dtype=int32)\n",
            "tf.Tensor(1, shape=(), dtype=int32)\n",
            "tf.Tensor(0, shape=(), dtype=int32)\n",
            "tf.Tensor(1, shape=(), dtype=int32)\n",
            "tf.Tensor(0, shape=(), dtype=int32)\n",
            "tf.Tensor(1, shape=(), dtype=int32)\n",
            "tf.Tensor(1, shape=(), dtype=int32)\n",
            "tf.Tensor(1, shape=(), dtype=int32)\n",
            "tf.Tensor(1, shape=(), dtype=int32)\n",
            "tf.Tensor(0, shape=(), dtype=int32)\n",
            "tf.Tensor(0, shape=(), dtype=int32)\n",
            "tf.Tensor(0, shape=(), dtype=int32)\n",
            "tf.Tensor(1, shape=(), dtype=int32)\n",
            "tf.Tensor(1, shape=(), dtype=int32)\n",
            "tf.Tensor(1, shape=(), dtype=int32)\n",
            "tf.Tensor(1, shape=(), dtype=int32)\n",
            "tf.Tensor(0, shape=(), dtype=int32)\n",
            "tf.Tensor(0, shape=(), dtype=int32)\n",
            "tf.Tensor(0, shape=(), dtype=int32)\n",
            "tf.Tensor(0, shape=(), dtype=int32)\n",
            "tf.Tensor(0, shape=(), dtype=int32)\n",
            "tf.Tensor(1, shape=(), dtype=int32)\n",
            "tf.Tensor(1, shape=(), dtype=int32)\n",
            "tf.Tensor(0, shape=(), dtype=int32)\n",
            "tf.Tensor(1, shape=(), dtype=int32)\n",
            "tf.Tensor(0, shape=(), dtype=int32)\n",
            "tf.Tensor(1, shape=(), dtype=int32)\n",
            "tf.Tensor(0, shape=(), dtype=int32)\n",
            "tf.Tensor(0, shape=(), dtype=int32)\n",
            "tf.Tensor(1, shape=(), dtype=int32)\n",
            "tf.Tensor(1, shape=(), dtype=int32)\n",
            "tf.Tensor(1, shape=(), dtype=int32)\n",
            "tf.Tensor(0, shape=(), dtype=int32)\n",
            "tf.Tensor(1, shape=(), dtype=int32)\n",
            "tf.Tensor(0, shape=(), dtype=int32)\n",
            "tf.Tensor(0, shape=(), dtype=int32)\n",
            "tf.Tensor(0, shape=(), dtype=int32)\n",
            "tf.Tensor(0, shape=(), dtype=int32)\n",
            "tf.Tensor(0, shape=(), dtype=int32)\n",
            "tf.Tensor(0, shape=(), dtype=int32)\n",
            "tf.Tensor(1, shape=(), dtype=int32)\n",
            "tf.Tensor(0, shape=(), dtype=int32)\n",
            "tf.Tensor(0, shape=(), dtype=int32)\n",
            "tf.Tensor(1, shape=(), dtype=int32)\n",
            "tf.Tensor(1, shape=(), dtype=int32)\n",
            "tf.Tensor(1, shape=(), dtype=int32)\n",
            "tf.Tensor(0, shape=(), dtype=int32)\n",
            "tf.Tensor(1, shape=(), dtype=int32)\n",
            "tf.Tensor(0, shape=(), dtype=int32)\n",
            "tf.Tensor(1, shape=(), dtype=int32)\n",
            "tf.Tensor(0, shape=(), dtype=int32)\n",
            "tf.Tensor(0, shape=(), dtype=int32)\n",
            "tf.Tensor(0, shape=(), dtype=int32)\n",
            "tf.Tensor(1, shape=(), dtype=int32)\n",
            "tf.Tensor(1, shape=(), dtype=int32)\n",
            "tf.Tensor(0, shape=(), dtype=int32)\n",
            "tf.Tensor(0, shape=(), dtype=int32)\n",
            "tf.Tensor(0, shape=(), dtype=int32)\n",
            "tf.Tensor(1, shape=(), dtype=int32)\n",
            "tf.Tensor(1, shape=(), dtype=int32)\n",
            "tf.Tensor(0, shape=(), dtype=int32)\n",
            "tf.Tensor(0, shape=(), dtype=int32)\n",
            "tf.Tensor(0, shape=(), dtype=int32)\n",
            "tf.Tensor(0, shape=(), dtype=int32)\n",
            "tf.Tensor(0, shape=(), dtype=int32)\n",
            "tf.Tensor(1, shape=(), dtype=int32)\n",
            "tf.Tensor(1, shape=(), dtype=int32)\n",
            "tf.Tensor(1, shape=(), dtype=int32)\n",
            "tf.Tensor(1, shape=(), dtype=int32)\n",
            "tf.Tensor(1, shape=(), dtype=int32)\n",
            "tf.Tensor(0, shape=(), dtype=int32)\n",
            "tf.Tensor(0, shape=(), dtype=int32)\n",
            "tf.Tensor(1, shape=(), dtype=int32)\n",
            "tf.Tensor(0, shape=(), dtype=int32)\n",
            "tf.Tensor(1, shape=(), dtype=int32)\n",
            "tf.Tensor(1, shape=(), dtype=int32)\n",
            "tf.Tensor(0, shape=(), dtype=int32)\n",
            "tf.Tensor(0, shape=(), dtype=int32)\n",
            "tf.Tensor(0, shape=(), dtype=int32)\n",
            "tf.Tensor(0, shape=(), dtype=int32)\n",
            "tf.Tensor(0, shape=(), dtype=int32)\n",
            "tf.Tensor(0, shape=(), dtype=int32)\n",
            "tf.Tensor(0, shape=(), dtype=int32)\n",
            "tf.Tensor(1, shape=(), dtype=int32)\n",
            "tf.Tensor(0, shape=(), dtype=int32)\n",
            "tf.Tensor(0, shape=(), dtype=int32)\n",
            "tf.Tensor(0, shape=(), dtype=int32)\n",
            "tf.Tensor(1, shape=(), dtype=int32)\n",
            "tf.Tensor(1, shape=(), dtype=int32)\n",
            "tf.Tensor(1, shape=(), dtype=int32)\n",
            "tf.Tensor(0, shape=(), dtype=int32)\n",
            "tf.Tensor(1, shape=(), dtype=int32)\n",
            "tf.Tensor(1, shape=(), dtype=int32)\n",
            "tf.Tensor(1, shape=(), dtype=int32)\n",
            "tf.Tensor(1, shape=(), dtype=int32)\n",
            "tf.Tensor(0, shape=(), dtype=int32)\n",
            "tf.Tensor(1, shape=(), dtype=int32)\n",
            "tf.Tensor(1, shape=(), dtype=int32)\n",
            "tf.Tensor(0, shape=(), dtype=int32)\n",
            "tf.Tensor(1, shape=(), dtype=int32)\n",
            "tf.Tensor(0, shape=(), dtype=int32)\n",
            "tf.Tensor(0, shape=(), dtype=int32)\n",
            "tf.Tensor(1, shape=(), dtype=int32)\n",
            "tf.Tensor(1, shape=(), dtype=int32)\n",
            "tf.Tensor(1, shape=(), dtype=int32)\n"
          ],
          "name": "stdout"
        }
      ]
    },
    {
      "cell_type": "code",
      "metadata": {
        "id": "HqmuDjIyTcMD",
        "colab_type": "code",
        "outputId": "796d1750-0059-4bce-de2b-5307fe7c3035",
        "colab": {
          "base_uri": "https://localhost:8080/",
          "height": 35
        }
      },
      "source": [
        "#合并数据\n",
        "dataset=tf.data.Dataset.zip((image_dataset,label_dataset))\n",
        "#我们是以元组的形式进行zip的\n",
        "dataset"
      ],
      "execution_count": 64,
      "outputs": [
        {
          "output_type": "execute_result",
          "data": {
            "text/plain": [
              "<ZipDataset shapes: ((256, 256, 3), ()), types: (tf.float32, tf.int32)>"
            ]
          },
          "metadata": {
            "tags": []
          },
          "execution_count": 64
        }
      ]
    },
    {
      "cell_type": "code",
      "metadata": {
        "id": "BwszhCt0zcYT",
        "colab_type": "code",
        "colab": {}
      },
      "source": [
        "#划分train与test数据\n",
        "test_count=int(image_count*0.2)\n",
        "#必须是个整数所以我们加int\n",
        "train_count=image_count-test_count"
      ],
      "execution_count": 0,
      "outputs": []
    },
    {
      "cell_type": "code",
      "metadata": {
        "id": "sAzEf9v2gJVi",
        "colab_type": "code",
        "colab": {}
      },
      "source": [
        "train_dataset=dataset.skip(test_count)\n",
        "#skip就是掠过的意思\n",
        "#得到train_dataset的个数\n",
        "test_dataset=dataset.take(test_count)\n",
        "#take就是取的意思"
      ],
      "execution_count": 0,
      "outputs": []
    },
    {
      "cell_type": "code",
      "metadata": {
        "id": "C4k1Oxrplqov",
        "colab_type": "code",
        "outputId": "3eb8811b-99ee-44f2-cf91-36041c3cf641",
        "colab": {
          "base_uri": "https://localhost:8080/",
          "height": 35
        }
      },
      "source": [
        "BATCH_SIZE=32\n",
        "train_dataset=train_dataset.shuffle(buffer_size=train_count)\n",
        "train_dataset=train_dataset.batch(BATCH_SIZE)\n",
        "train_dataset"
      ],
      "execution_count": 67,
      "outputs": [
        {
          "output_type": "execute_result",
          "data": {
            "text/plain": [
              "<BatchDataset shapes: ((None, 256, 256, 3), (None,)), types: (tf.float32, tf.int32)>"
            ]
          },
          "metadata": {
            "tags": []
          },
          "execution_count": 67
        }
      ]
    },
    {
      "cell_type": "code",
      "metadata": {
        "id": "sz4fflzkoewM",
        "colab_type": "code",
        "colab": {}
      },
      "source": [
        "model=tf.keras.Sequential()\n",
        "model.add(tf.keras.layers.Conv2D(64,(3,3),\n",
        "                 input_shape=(256,256,3),\n",
        "                 activation='relu'))\n",
        "model.add(tf.keras.layers.Conv2D(64,(3,3),activation='relu'))\n",
        "model.add(tf.keras.layers.MaxPooling2D())\n",
        "model.add(tf.keras.layers.Dropout(0.3))\n",
        "model.add(tf.keras.layers.Conv2D(128,(3,3),activation='relu'))\n",
        "model.add(tf.keras.layers.Conv2D(128,(3,3),activation='relu'))\n",
        "model.add(tf.keras.layers.MaxPooling2D())\n",
        "model.add(tf.keras.layers.Dropout(0.3))\n",
        "model.add(tf.keras.layers.Conv2D(256,(3,3),activation='relu'))\n",
        "model.add(tf.keras.layers.Conv2D(256,(3,3),activation='relu'))\n",
        "model.add(tf.keras.layers.MaxPooling2D())\n",
        "model.add(tf.keras.layers.Dropout(0.3))\n",
        "model.add(tf.keras.layers.Conv2D(512,(3,3),activation='relu'))\n",
        "model.add(tf.keras.layers.Conv2D(512,(3,3),activation='relu'))\n",
        "model.add(tf.keras.layers.MaxPooling2D())\n",
        "model.add(tf.keras.layers.Dropout(0.3))\n",
        "model.add(tf.keras.layers.Conv2D(1024,(3,3),activation='relu'))\n",
        "model.add(tf.keras.layers.GlobalAveragePooling2D())\n",
        "model.add(tf.keras.layers.Dense(1024,activation='relu'))\n",
        "model.add(tf.keras.layers.Dense(256,activation='relu'))\n",
        "model.add(tf.keras.layers.Dense(10,activation='softmax'))"
      ],
      "execution_count": 0,
      "outputs": []
    },
    {
      "cell_type": "code",
      "metadata": {
        "id": "mmgx92t7wtWR",
        "colab_type": "code",
        "outputId": "a18081e2-94a2-4fd0-b74c-2f46eb26df93",
        "colab": {
          "base_uri": "https://localhost:8080/",
          "height": 881
        }
      },
      "source": [
        "model.summary()"
      ],
      "execution_count": 69,
      "outputs": [
        {
          "output_type": "stream",
          "text": [
            "Model: \"sequential_4\"\n",
            "_________________________________________________________________\n",
            "Layer (type)                 Output Shape              Param #   \n",
            "=================================================================\n",
            "conv2d_10 (Conv2D)           (None, 254, 254, 64)      1792      \n",
            "_________________________________________________________________\n",
            "conv2d_11 (Conv2D)           (None, 252, 252, 64)      36928     \n",
            "_________________________________________________________________\n",
            "max_pooling2d_4 (MaxPooling2 (None, 126, 126, 64)      0         \n",
            "_________________________________________________________________\n",
            "dropout_4 (Dropout)          (None, 126, 126, 64)      0         \n",
            "_________________________________________________________________\n",
            "conv2d_12 (Conv2D)           (None, 124, 124, 128)     73856     \n",
            "_________________________________________________________________\n",
            "conv2d_13 (Conv2D)           (None, 122, 122, 128)     147584    \n",
            "_________________________________________________________________\n",
            "max_pooling2d_5 (MaxPooling2 (None, 61, 61, 128)       0         \n",
            "_________________________________________________________________\n",
            "dropout_5 (Dropout)          (None, 61, 61, 128)       0         \n",
            "_________________________________________________________________\n",
            "conv2d_14 (Conv2D)           (None, 59, 59, 256)       295168    \n",
            "_________________________________________________________________\n",
            "conv2d_15 (Conv2D)           (None, 57, 57, 256)       590080    \n",
            "_________________________________________________________________\n",
            "max_pooling2d_6 (MaxPooling2 (None, 28, 28, 256)       0         \n",
            "_________________________________________________________________\n",
            "dropout_6 (Dropout)          (None, 28, 28, 256)       0         \n",
            "_________________________________________________________________\n",
            "conv2d_16 (Conv2D)           (None, 26, 26, 512)       1180160   \n",
            "_________________________________________________________________\n",
            "conv2d_17 (Conv2D)           (None, 24, 24, 512)       2359808   \n",
            "_________________________________________________________________\n",
            "max_pooling2d_7 (MaxPooling2 (None, 12, 12, 512)       0         \n",
            "_________________________________________________________________\n",
            "dropout_7 (Dropout)          (None, 12, 12, 512)       0         \n",
            "_________________________________________________________________\n",
            "conv2d_18 (Conv2D)           (None, 10, 10, 1024)      4719616   \n",
            "_________________________________________________________________\n",
            "global_average_pooling2d_1 ( (None, 1024)              0         \n",
            "_________________________________________________________________\n",
            "dense_3 (Dense)              (None, 1024)              1049600   \n",
            "_________________________________________________________________\n",
            "dense_4 (Dense)              (None, 256)               262400    \n",
            "_________________________________________________________________\n",
            "dense_5 (Dense)              (None, 10)                2570      \n",
            "=================================================================\n",
            "Total params: 10,719,562\n",
            "Trainable params: 10,719,562\n",
            "Non-trainable params: 0\n",
            "_________________________________________________________________\n"
          ],
          "name": "stdout"
        }
      ]
    }
  ]
}