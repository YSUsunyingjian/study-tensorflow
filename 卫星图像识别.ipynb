{
  "nbformat": 4,
  "nbformat_minor": 0,
  "metadata": {
    "colab": {
      "name": "卫星图像识别.ipynb",
      "provenance": [],
      "collapsed_sections": [
        "xdYAsbYMvOVI",
        "WXJeCQPZvbZ-",
        "_e2ADhm0Gf80",
        "qkf5JAPtKu0A"
      ],
      "authorship_tag": "ABX9TyPSZZFLdmoFNrq+9PvYOoQ7",
      "include_colab_link": true
    },
    "kernelspec": {
      "name": "python3",
      "display_name": "Python 3"
    },
    "accelerator": "GPU"
  },
  "cells": [
    {
      "cell_type": "markdown",
      "metadata": {
        "id": "view-in-github",
        "colab_type": "text"
      },
      "source": [
        "<a href=\"https://colab.research.google.com/github/sunyingjian/study-tensorflow/blob/master/%E5%8D%AB%E6%98%9F%E5%9B%BE%E5%83%8F%E8%AF%86%E5%88%AB.ipynb\" target=\"_parent\"><img src=\"https://colab.research.google.com/assets/colab-badge.svg\" alt=\"Open In Colab\"/></a>"
      ]
    },
    {
      "cell_type": "code",
      "metadata": {
        "id": "h4qWNsAX3nfg",
        "colab_type": "code",
        "outputId": "e9c10189-17cf-4add-c7f2-b90a5bc20d89",
        "colab": {
          "base_uri": "https://localhost:8080/",
          "height": 141
        }
      },
      "source": [
        "import os\n",
        "from google.colab import drive\n",
        "drive.mount('/content/drive')\n",
        "path = \"/content/drive/My Drive/dataset\"\n",
        "os.chdir(path)\n",
        "os.listdir(path)"
      ],
      "execution_count": 0,
      "outputs": [
        {
          "output_type": "stream",
          "text": [
            "Go to this URL in a browser: https://accounts.google.com/o/oauth2/auth?client_id=947318989803-6bn6qk8qdgf4n4g3pfee6491hc0brc4i.apps.googleusercontent.com&redirect_uri=urn%3aietf%3awg%3aoauth%3a2.0%3aoob&response_type=code&scope=email%20https%3a%2f%2fwww.googleapis.com%2fauth%2fdocs.test%20https%3a%2f%2fwww.googleapis.com%2fauth%2fdrive%20https%3a%2f%2fwww.googleapis.com%2fauth%2fdrive.photos.readonly%20https%3a%2f%2fwww.googleapis.com%2fauth%2fpeopleapi.readonly\n",
            "\n",
            "Enter your authorization code:\n",
            "··········\n",
            "Mounted at /content/drive\n"
          ],
          "name": "stdout"
        },
        {
          "output_type": "execute_result",
          "data": {
            "text/plain": [
              "['2_class']"
            ]
          },
          "metadata": {
            "tags": []
          },
          "execution_count": 2
        }
      ]
    },
    {
      "cell_type": "code",
      "metadata": {
        "id": "lT1IAsLn41u-",
        "colab_type": "code",
        "outputId": "8f934c0c-2355-4fa8-9dc6-7a5379a32f53",
        "colab": {
          "base_uri": "https://localhost:8080/",
          "height": 141
        }
      },
      "source": [
        "%tensorflow_version 2.x\n",
        "import tensorflow as tf\n",
        "print('tensorflow:',format(tf.__version__))\n",
        "tf.config.list_physical_devices('GPU')\n",
        "tf.test.is_gpu_available()\n",
        "import numpy as np\n",
        "from tensorflow import keras\n",
        "from keras import layers\n",
        "import matplotlib.pyplot as plt\n",
        "%matplotlib inline\n",
        "import pathlib"
      ],
      "execution_count": 0,
      "outputs": [
        {
          "output_type": "stream",
          "text": [
            "TensorFlow 2.x selected.\n",
            "tensorflow: 2.1.0\n",
            "WARNING:tensorflow:From <ipython-input-3-4af11a6597de>:5: is_gpu_available (from tensorflow.python.framework.test_util) is deprecated and will be removed in a future version.\n",
            "Instructions for updating:\n",
            "Use `tf.config.list_physical_devices('GPU')` instead.\n"
          ],
          "name": "stdout"
        },
        {
          "output_type": "stream",
          "text": [
            "Using TensorFlow backend.\n"
          ],
          "name": "stderr"
        }
      ]
    },
    {
      "cell_type": "code",
      "metadata": {
        "id": "VNDxqHEa5afE",
        "colab_type": "code",
        "colab": {}
      },
      "source": [
        "data_dir='/content/drive/My Drive/dataset/2_class'"
      ],
      "execution_count": 0,
      "outputs": []
    },
    {
      "cell_type": "code",
      "metadata": {
        "id": "9R19Tmoj72H_",
        "colab_type": "code",
        "colab": {}
      },
      "source": [
        "data_root=pathlib.Path(data_dir)"
      ],
      "execution_count": 0,
      "outputs": []
    },
    {
      "cell_type": "code",
      "metadata": {
        "id": "-TDdxSPJ9ujv",
        "colab_type": "code",
        "outputId": "f902eb30-54d1-4332-9b9e-6ad0752d8e41",
        "colab": {
          "base_uri": "https://localhost:8080/",
          "height": 52
        }
      },
      "source": [
        "for item in data_root.iterdir():\n",
        "  print(item)"
      ],
      "execution_count": 0,
      "outputs": [
        {
          "output_type": "stream",
          "text": [
            "/content/drive/My Drive/dataset/2_class/airplane\n",
            "/content/drive/My Drive/dataset/2_class/lake\n"
          ],
          "name": "stdout"
        }
      ]
    },
    {
      "cell_type": "code",
      "metadata": {
        "id": "7wH3-FTg-l5O",
        "colab_type": "code",
        "colab": {}
      },
      "source": [
        "all_image_path=list(data_root.glob('*/*'))"
      ],
      "execution_count": 0,
      "outputs": []
    },
    {
      "cell_type": "code",
      "metadata": {
        "id": "4A8StwguX68J",
        "colab_type": "code",
        "outputId": "c71e2124-9869-4b73-8d89-fd8be097efa0",
        "colab": {
          "base_uri": "https://localhost:8080/",
          "height": 35
        }
      },
      "source": [
        "len(all_image_path)"
      ],
      "execution_count": 0,
      "outputs": [
        {
          "output_type": "execute_result",
          "data": {
            "text/plain": [
              "1400"
            ]
          },
          "metadata": {
            "tags": []
          },
          "execution_count": 8
        }
      ]
    },
    {
      "cell_type": "code",
      "metadata": {
        "id": "yrv1wjMAYs0c",
        "colab_type": "code",
        "outputId": "220d6dd8-3f16-47db-9685-c4ffb22eb7db",
        "colab": {
          "base_uri": "https://localhost:8080/",
          "height": 52
        }
      },
      "source": [
        "all_image_path=[str(path) for path in all_image_path]\n",
        "all_image_path[10:12]"
      ],
      "execution_count": 0,
      "outputs": [
        {
          "output_type": "execute_result",
          "data": {
            "text/plain": [
              "['/content/drive/My Drive/dataset/2_class/airplane/airplane_012.jpg',\n",
              " '/content/drive/My Drive/dataset/2_class/airplane/airplane_013.jpg']"
            ]
          },
          "metadata": {
            "tags": []
          },
          "execution_count": 9
        }
      ]
    },
    {
      "cell_type": "code",
      "metadata": {
        "id": "mnz8ik1J218l",
        "colab_type": "code",
        "colab": {}
      },
      "source": [
        "import random\n",
        "random.shuffle(all_image_path)"
      ],
      "execution_count": 0,
      "outputs": []
    },
    {
      "cell_type": "code",
      "metadata": {
        "id": "Gha8G8MO3ie5",
        "colab_type": "code",
        "colab": {}
      },
      "source": [
        "image_count=len(all_image_path)"
      ],
      "execution_count": 0,
      "outputs": []
    },
    {
      "cell_type": "code",
      "metadata": {
        "id": "VOWgai8f9Et6",
        "colab_type": "code",
        "outputId": "4d61b72d-ae13-4377-bb80-a8fab5873bdf",
        "colab": {
          "base_uri": "https://localhost:8080/",
          "height": 35
        }
      },
      "source": [
        "label_names=sorted(item.name for item in data_root.glob('*/'))\n",
        "label_names"
      ],
      "execution_count": 0,
      "outputs": [
        {
          "output_type": "execute_result",
          "data": {
            "text/plain": [
              "['airplane', 'lake']"
            ]
          },
          "metadata": {
            "tags": []
          },
          "execution_count": 12
        }
      ]
    },
    {
      "cell_type": "code",
      "metadata": {
        "id": "ph9UuLhl-Zqt",
        "colab_type": "code",
        "outputId": "4e9b43ae-71d6-4fb2-a4f5-9bcb97613aef",
        "colab": {
          "base_uri": "https://localhost:8080/",
          "height": 35
        }
      },
      "source": [
        "label_to_index=dict((name,index) for index,name in enumerate(label_names))\n",
        "label_to_index"
      ],
      "execution_count": 0,
      "outputs": [
        {
          "output_type": "execute_result",
          "data": {
            "text/plain": [
              "{'airplane': 0, 'lake': 1}"
            ]
          },
          "metadata": {
            "tags": []
          },
          "execution_count": 13
        }
      ]
    },
    {
      "cell_type": "code",
      "metadata": {
        "id": "OESFOKgk7AKb",
        "colab_type": "code",
        "outputId": "73c0735e-8bdf-4864-f380-71b2b3e6d7d4",
        "colab": {
          "base_uri": "https://localhost:8080/",
          "height": 35
        }
      },
      "source": [
        "#获取路径来实现对图片做标签,通过下面的代码生成一个pathlib对象,那么他的上一层目录就剩他的label\n",
        "pathlib.Path('/content/drive/My Drive/dataset/2_class/airplane/airplane_012.jpg').parent.name"
      ],
      "execution_count": 0,
      "outputs": [
        {
          "output_type": "execute_result",
          "data": {
            "text/plain": [
              "'airplane'"
            ]
          },
          "metadata": {
            "tags": []
          },
          "execution_count": 14
        }
      ]
    },
    {
      "cell_type": "code",
      "metadata": {
        "colab_type": "code",
        "id": "1w5fz3FW-GBP",
        "colab": {}
      },
      "source": [
        "#通过推导式 labe_to_index得到分组的编号\n",
        "all_image_labe=[label_to_index[pathlib.Path(p).parent.name]for p in all_image_path]"
      ],
      "execution_count": 0,
      "outputs": []
    },
    {
      "cell_type": "code",
      "metadata": {
        "id": "3MEGI7hgHz7a",
        "colab_type": "code",
        "outputId": "be89a850-72be-4bb3-819e-6dd7f0434ea6",
        "colab": {
          "base_uri": "https://localhost:8080/",
          "height": 35
        }
      },
      "source": [
        "all_image_labe[:5]"
      ],
      "execution_count": 0,
      "outputs": [
        {
          "output_type": "execute_result",
          "data": {
            "text/plain": [
              "[1, 1, 1, 1, 0]"
            ]
          },
          "metadata": {
            "tags": []
          },
          "execution_count": 16
        }
      ]
    },
    {
      "cell_type": "code",
      "metadata": {
        "id": "ujJ0N5ZqH4zu",
        "colab_type": "code",
        "outputId": "a884f284-4e24-4212-8d36-2a7448d5da1c",
        "colab": {
          "base_uri": "https://localhost:8080/",
          "height": 104
        }
      },
      "source": [
        "all_image_path[:5]"
      ],
      "execution_count": 0,
      "outputs": [
        {
          "output_type": "execute_result",
          "data": {
            "text/plain": [
              "['/content/drive/My Drive/dataset/2_class/lake/lake_682.jpg',\n",
              " '/content/drive/My Drive/dataset/2_class/lake/lake_017.jpg',\n",
              " '/content/drive/My Drive/dataset/2_class/lake/lake_224.jpg',\n",
              " '/content/drive/My Drive/dataset/2_class/lake/lake_003.jpg',\n",
              " '/content/drive/My Drive/dataset/2_class/airplane/airplane_040.jpg']"
            ]
          },
          "metadata": {
            "tags": []
          },
          "execution_count": 17
        }
      ]
    },
    {
      "cell_type": "code",
      "metadata": {
        "id": "whLsm65JIR1E",
        "colab_type": "code",
        "colab": {}
      },
      "source": [
        "import IPython.display as display\n",
        "index_to_label=dict((v,k) for k,v in label_to_index.items())\n",
        "#这样我们就可以通过这个字典获取到 "
      ],
      "execution_count": 0,
      "outputs": []
    },
    {
      "cell_type": "markdown",
      "metadata": {
        "id": "arMNvCgnxQB8",
        "colab_type": "text"
      },
      "source": [
        "#真正的代码从下面开始"
      ]
    },
    {
      "cell_type": "code",
      "metadata": {
        "id": "sdyM80fAQlF0",
        "colab_type": "code",
        "outputId": "e4758fc6-e4a3-47ec-f486-412bd0db89e7",
        "colab": {
          "base_uri": "https://localhost:8080/",
          "height": 888
        }
      },
      "source": [
        "for n in range(3):\n",
        "  image_index=random.choice(range(len(all_image_path)))\n",
        "  display.display(display.Image(all_image_path[image_index]))\n",
        "  print(index_to_label[all_image_labe[image_index]])\n",
        "  print()"
      ],
      "execution_count": 0,
      "outputs": [
        {
          "output_type": "display_data",
          "data": {
            "image/jpeg": "[encoded data removed]",
            "text/plain": [
              "<IPython.core.display.Image object>"
            ]
          },
          "metadata": {
            "tags": []
          }
        },
        {
          "output_type": "stream",
          "text": [
            "lake\n",
            "\n"
          ],
          "name": "stdout"
        },
        {
          "output_type": "display_data",
          "data": {
            "image/jpeg": "[encoded data removed]",
            "text/plain": [
              "<IPython.core.display.Image object>"
            ]
          },
          "metadata": {
            "tags": []
          }
        },
        {
          "output_type": "stream",
          "text": [
            "airplane\n",
            "\n"
          ],
          "name": "stdout"
        },
        {
          "output_type": "display_data",
          "data": {
            "image/jpeg": "[encoded data removed]",
            "text/plain": [
              "<IPython.core.display.Image object>"
            ]
          },
          "metadata": {
            "tags": []
          }
        },
        {
          "output_type": "stream",
          "text": [
            "lake\n",
            "\n"
          ],
          "name": "stdout"
        }
      ]
    },
    {
      "cell_type": "markdown",
      "metadata": {
        "id": "RI8WcVKRu2eS",
        "colab_type": "text"
      },
      "source": [
        "#单张图片的处理过程\n",
        "##读取图片"
      ]
    },
    {
      "cell_type": "code",
      "metadata": {
        "id": "Y3vqjrexTvT0",
        "colab_type": "code",
        "outputId": "96bb0f85-3a5c-4354-adb9-01ebde3e2a1f",
        "colab": {
          "base_uri": "https://localhost:8080/",
          "height": 55
        }
      },
      "source": [
        "#根据路径，读取图片\n",
        "img_path=all_image_path[0]\n",
        "img_path\n",
        "img_raw=tf.io.read_file(img_path)#读取图片\n",
        "img_raw"
      ],
      "execution_count": 0,
      "outputs": [
        {
          "output_type": "execute_result",
          "data": {
            "text/plain": [
              "<tf.Tensor: shape=(), dtype=string, numpy=b'\\xff\\xd8\\xff\\xe0\\x00\\x10JFIF\\x00\\x01\\x01\\x00\\x00\\x01\\x00\\x01\\x00\\x00\\xff\\xdb\\x00C\\x00\\x08\\x06\\x06\\x07\\x06\\x05\\x08\\x07\\x07\\x07\\t\\t\\x08\\n\\x0c\\x14\\r\\x0c\\x0b\\x0b\\x0c\\x19\\x12\\x13\\x0f\\x14\\x1d\\x1a\\x1f\\x1e\\x1d\\x1a\\x1c\\x1c $.\\' \",#\\x1c\\x1c(7),01444\\x1f\\'9=82<.342\\xff\\xdb\\x00C\\x01\\t\\t\\t\\x0c\\x0b\\x0c\\x18\\r\\r\\x182!\\x1c!22222222222222222222222222222222222222222222222222\\xff\\xc0\\x00\\x11\\x08\\x01\\x00\\x01\\x00\\x03\\x01\"\\x00\\x02\\x11\\x01\\x03\\x11\\x01\\xff\\xc4\\x00\\x1f\\x00\\x00\\x01\\x05\\x01\\x01\\x01\\x01\\x01\\x01\\x00\\x00\\x00\\x00\\x00\\x00\\x00\\x00\\x01\\x02\\x03\\x04\\x05\\x06\\x07\\x08\\t\\n\\x0b\\xff\\xc4\\x00\\xb5\\x10\\x00\\x02\\x01\\x03\\x03\\x02\\x04\\x03\\x05\\x05\\x04\\x04\\x00\\x00\\x01}\\x01\\x02\\x03\\x00\\x04\\x11\\x05\\x12!1A\\x06\\x13Qa\\x07\"q\\x142\\x81\\x91\\xa1\\x08#B\\xb1\\xc1\\x15R\\xd1\\xf0$3br\\x82\\t\\n\\x16\\x17\\x18\\x19\\x1a%&\\'()*456789:CDEFGHIJSTUVWXYZcdefghijstuvwxyz\\x83\\x84\\x85\\x86\\x87\\x88\\x89\\x8a\\x92\\x93\\x94\\x95\\x96\\x97\\x98\\x99\\x9a\\xa2\\xa3\\xa4\\xa5\\xa6\\xa7\\xa8\\xa9\\xaa\\xb2\\xb3\\xb4\\xb5\\xb6\\xb7\\xb8\\xb9\\xba\\xc2\\xc3\\xc4\\xc5\\xc6\\xc7\\xc8\\xc9\\xca\\xd2\\xd3\\xd4\\xd5\\xd6\\xd7\\xd8\\xd9\\xda\\xe1\\xe2\\xe3\\xe4\\xe5\\xe6\\xe7\\xe8\\xe9\\xea\\xf1\\xf2\\xf3\\xf4\\xf5\\xf6\\xf7\\xf8\\xf9\\xfa\\xff\\xc4\\x00\\x1f\\x01\\x00\\x03\\x01\\x01\\x01\\x01\\x01\\x01\\x01\\x01\\x01\\x00\\x00\\x00\\x00\\x00\\x00\\x01\\x02\\x03\\x04\\x05\\x06\\x07\\x08\\t\\n\\x0b\\xff\\xc4\\x00\\xb5\\x11\\x00\\x02\\x01\\x02\\x04\\x04\\x03\\x04\\x07\\x05\\x04\\x04\\x00\\x01\\x02w\\x00\\x01\\x02\\x03\\x11\\x04\\x05!1\\x06\\x12AQ\\x07aq\\x13\"2\\x81\\x08\\x14B\\x91\\xa1\\xb1\\xc1\\t#3R\\xf0\\x15br\\xd1\\n\\x16$4\\xe1%\\xf1\\x17\\x18\\x19\\x1a&\\'()*56789:CDEFGHIJSTUVWXYZcdefghijstuvwxyz\\x82\\x83\\x84\\x85\\x86\\x87\\x88\\x89\\x8a\\x92\\x93\\x94\\x95\\x96\\x97\\x98\\x99\\x9a\\xa2\\xa3\\xa4\\xa5\\xa6\\xa7\\xa8\\xa9\\xaa\\xb2\\xb3\\xb4\\xb5\\xb6\\xb7\\xb8\\xb9\\xba\\xc2\\xc3\\xc4\\xc5\\xc6\\xc7\\xc8\\xc9\\xca\\xd2\\xd3\\xd4\\xd5\\xd6\\xd7\\xd8\\xd9\\xda\\xe2\\xe3\\xe4\\xe5\\xe6\\xe7\\xe8\\xe9\\xea\\xf2\\xf3\\xf4\\xf5\\xf6\\xf7\\xf8\\xf9\\xfa\\xff\\xda\\x00\\x0c\\x03\\x01\\x00\\x02\\x11\\x03\\x11\\x00?\\x00\\xe0C\\x9d\\x85[\\x81\\x9c\\xd3\\x10\\x16#\\x03\\x9aP\\xb9\\\\\\xa9\\xf9\\xb1\\xde\\x93\\x07\\x92r1X\\x9c\\x82\\x15\\xdd\\x92;SV5\\x19 \\x1e\\xb8\\xa90z\\x03\\x8e)\\xa0\\xe7\\x8fJ\\x06>B\\x85\\x8e\\x061\\xd7=\\xaa<0\\x8c0\\x07\\x14\\x8d\\x90\\xfb\\x88\\xc6{\\xfa\\xd3\\xb7le\\x1b\\xb2\\x01\\xc8\\xe34\\x0c{\\xc9\\xba\\x11\\x19\\x00c\\x93\\x9e8\\xa8Kd\\xf0q\\x8e\\xb5ch\\r\\xe6(\\xdd\\x13\\x0c\\x1fs\\xefU\\xd66C\\x85 \\xad11s\\x8c\\x9fZ\\\\\\x82\\xa3p\\xe7\\xb5&0y\\xa1\\xf8\\xe0T\\x92 \\xea\\x08\\xc9\\xa9\\xc9\\x8fo\\xdd\\xc1\\x06\\xa3Q\\xf2\\x13\\x9cR\\xa1Nw\\x00s\\xde\\x98\\x0b\\x83\\xb1N0ONz\\xd2Fv\\xed\\xe9\\x9c\\xf1VZ\\xe6&H\\x91\\xa2]\\x89\\xc0 \\xf7\\xf54\\xc9<\\x97l\\xaf\\x1c\\xf6\\xa0dN\\xe4\\xb1\\xdd\\x83\\x9fJ<\\xb2\\xdd\\x08\\x18\\xa1\\xa3<\\x91\\xc8\\xa5U`\\xe0\\xecb\\x0fj\\x01\\x02\\x02\\xea\\xd1\\x87\\xda\\xa4\\xd2|\\xf1(\\x91\\x94\\xb2+`c\\xb9=*\\xc3(\\x8c\\xeeC\\x86\\xdb\\xbb\\x1e\\x94\\x97_\\xea\\xed\\x9bq\\x03a%A\\xef\\xb8\\x0c\\x9foJqW*\\xc42\\xc7\\xb2F\\xd8\\xfcv5\\x1b(\\x8d\\x1c\\xc9\\xc6:`g4\\xa1^T+\\x12\\x17r?\\xa5K4\\x89\\x11X\\x13\\'b\\x85\\x95\\xdf\\xa8\\xf6\\xad\\xa1J\\xf1\\xe6\\'\\xa8\\x9b\\xb1\\x18\\x81\\x86UI\\xcf\\xb9\\xab66rM\\x0f\\x12\\xf9p\\x86!B\\x0e\\x7f:\\xab\\x1c2\\xdd\\xc8\\xed\\x02\\xe1s\\xf7\\x9b\\xa5n\\xdbF\\xb6\\xd6\\xca\\x99\\xfb\\xa3\\xf35\\xd3\\x86\\xa1\\xad\\xe4&\\xca\\x12h\\xea\\x11\\x8aN\\xe4\\xf5\\xf9\\x80\\xa9#\\xd3\\xbc\\xd8\\x93\\xedL\\xd2H\\xbcn\\x0cx\\x1d\\x80\\xab\\xe8\\x85\\xceMD/!7B\\xdc\\xb6$=+\\xb7\\xd9At\\x10\\xd8\\xadm\\xec\\xb2\\xc3h\\xc9\\x03,\\xd5(\\x966M\\xc1\\xd4.q\\x9c\\xf7\\xac\\x0b\\xcb\\xa9&\\xbah\\xe4\\'\\xe4c\\xe5\\x80\\x7f\\x0c\\x9ad\\x16W\\x13!\\x11(eV\\xf9\\x81ls\\x81\\xcdG\\xb5I\\xda(GH\\x0e\\xe0pr=i\\x97\\x10Gq\\t\\x8aA\\xd7\\xa1\\xf4>\\xb5\\x1d\\xa4+gj\\x10\\x91\\x81\\xcb15\\x1d\\xd4\\x97)\\xbaT\\x91\\x04G\\x81\\xd2\\xb5\\x94\\x95\\xae\\xc0\\xc9\\x92\\x1f\"\\xe0\\x89AP\\x18|\\xe3\\x85jl/m\\x1d\\xc4)4*c \\xe5\\xc6y\\xe4\\xe0\\xfd*K\\x9b\\xf9\\xa7\\x8b\\xca\\x99Wfy\\xc0\\xc6j\\xbc\\xfb\\x9e\\x18\\xd0c\\x08\\x7fv\\xc3\\xa8\\x1e\\x9e\\xe2\\xbc\\xf5(Fm\\xc4\\xa3U\\xb4\\xfb\\x1b\\xa9w\\xc6\\xea\\x0b/\\xdd\\x8d\\x80\\xc8\\x1d\\xea\\xdaZA\\x14aR%\\x03\\xe9\\x9a\\xe7`\\x0efR\\xb9\\x8d\\x81\\xfb\\xc0\\xe0\\n\\xea\\x95\\xc3\\x80Q\\x94\\xfd\\x0ek\\xb2\\x8c\\xa3-l&s\\xa1\\x8a9\\xf9OJW2\\x93\\x829\\xed\\x9a@O,\\xfc\\x9c\\xd0\\xc4\\x93\\xc9\\xe6\\xbcA\\x81V\\x04\\xe7\\xbd \\x1cc\\x8cw\\xa0\\x83\\x9cn\\xcd \\x18l1\\xc8\\xcd\\x03C\\xb2\\x19\\x88\\xea)\\xf8\\x89P\\xa9\\x8d\\x84\\x84pwqL|\\x02zl\\xedL\\xdd\\xdcd\\x01\\xd2\\x81\\xdcpw\\xf2\\xc4@\\x8d\\xa0\\xe6\\x90\\x06$\\x01\\xc6\\x08\\xa3\\x00\\xb09\\xedG\\x98\\x17\\xafn\\xf4\\x08|\\xff\\x00 \\xe5\\x06\\xee\\xa4\\xd4,\\xb8\\nH\\xe4\\xf3J\\xcd\\x91\\x9cS\\x9dN\\xc1\\xbb9<R\\x10\\xa2U\\xdb\\xb4\\xa7^\\xa6\\x98\\x01\\xc1\\\\df\\x91W9\\x07\\x8a\\t\\xcfj\\x06\\x87\\x84\\xe4q\\xd8\\x9aE\\xf9v\\xee\\x07\\x83K\\x1a\\xfc\\xa4\\x91\\x81\\xf5\\xa6\\x83\\x95\\x1c\\x1e;\\xd3\\x194h\\xcf!Pp\\xb9\\xefR\\x99X9\\x19\\xce1\\xd6\\x9b\\x1clIm\\xc0\\x0c`\\xd42\\x8c\\x1ct\\xc9\\xa1!\\x8a\\xf2\\x19\\xe4B\\xa9\\x99r\\x14\\x01\\xdc\\xfa\\xd6\\xaai\\xa8-\\x9e6l\\xc8\\xca7?\\xbdA\\xa4A\\x97y\\x98p\\xbf*\\x7fZ\\xd5\\xc8POA\\xef^\\xb6\\x1a\\x82\\x8cn\\xc8l\\xa7\\x06\\x9b\\x05\\xbc\\xcb2\\x962\\x01\\x82\\xd9\\xebX\\x85L\\x97\\x9fg\\x7f\\x94\\xbc\\xc5Xc\\x93\\xcf\\x7f\\xc2\\xb6\\xae/\\x11\\xe0e\\xb5\\x9e36>@\\x18g5\\r\\xa6\\x9e\\xed$7w\\x0f\\x99\\x82\\xe0\\x8f~\\xdf\\xce\\xb4\\x94\"\\xec\\xa2\\x05\\xe4D\\x89B\\xa0\\xc2\\x81\\xc0\\xc7J\\\\nj:\\x91N\\x18\\x19\\xef\\x8a\\xdd\\x08x+\\x1a\\x9f\\xa7\\x15O\\xec\\xb1\\x99\\xa3\\xb8\\xdb\\x99\\xbf\\x87\\xda\\xac\\x10\\\\\\x8c\\xf4\\xc5P\\xd4u\\x04\\x8840\\x02e\\x03\\x81\\xb4\\xfe\\x7f\\x95)Y-@\\xad\\xab\\xc6\\x902\\xb2\\xa2\\xa9rK7\\xf9\\xfa\\x9a\\x9fF\\xdcc\\x95\\xf0v\\x920{\\x13\\xd2\\xac\\xdb\\xc8n\\xed\\xa2V\\x8b\\x07n[#8\\xabK\\x1a\\xab\\xa4h\\x00U\\x1b\\x8dB\\xa7\\xef\\xf3\\x00\\xd9#Ibtu\\xdc\\x87\\xa85\\x85=\\xce\\xf6*\\xc4\\x84\\x1c(\\x07\\xa0\\xad\\xe0\\xc1\\x9b\\x03\\x1d+\\n\\xe6\\xd8Gz\\xe1\\xfeH\\xceHf\\xe9\\x8a\\xc3\\x18\\xe4\\xa1\\xee\\x8d\\n\\xa5f-\\x1a\\xec\\'i\\xfa\\x9c\\n\\x8a\\xdc\\t\\xd1\\xa2\\x0b\\xb1\\x94\\xe7st>\\xd4\\xb1A\\x89\\x11\\xe3*U\\xba6x\\xa8\\xd9&\\x13\\xc8\\xab\\xfd\\xc2T\\x8e\\x99\\xaf)+\\x94Z\\x94,\\xd0\\xfe\\xe8)u\\x18!\\x7f\\x88\\xfaUHd\\x92\\tC\\xa3\\x14a\\xfc=\\x01\\xfa\\x8aH\\x99\\xa3\\x84\\x84\\x1d\\xf3\\xcfsJ\\xcb3H\\xcc\\xc0\\x14`\\x0e\\xef\\x7fJ\\xb8T\\x94^\\x8c, o\\x9f8\\xebS\\xac{\\xf73>1\\xda\\x95-\\x8b7b\\xdbs\\x8fJ\\x0c-\\x11 \\x11\\x86\\xeb\\x9a\\xc8\\x94\\x8a\\xecrx<v\\xa5\\xe9\\xefC\\r\\xac\\x14\\xf0}\\xaaq\\x08#\\xef\\xf1\\xc78\\xed@\\xd1\\x19\\x01\\x99QF\\x07\\xbd9\\xa3*\\x00f^8\\xa9\\xe4\\x860\\xdf#n8\\xe0c\\xadV\\x91\\x9c\\x01\\xb9>\\xbcP\\x03\\x06C\\x10GJnW\\x19#?\\x8diZ\\xc5\\x14\\xc1\\x19\\x91\\x80$\\xf4\\x1e\\xdd\\xe9/\\xa2\\xb5U\\xd9\\x14 N9,\\x1b\\x00~\\x14\\\\,Q\\x04\\x08\\xf7(\\xc7\\xb7\\xa5 \\xcb\\x82\\xccy\\xcd9!r\\xc3p;[\\xae9\\xc5&\\xd4\\x8fpbNzS\\x10\\x87r1\\x19\\x14\\xa9\\xc9\\x19\\xc7<\\n%\\xc0U9\\x1c\\xd3P\\xfc\\xeb\\x906\\x8fl\\xd0R&P\\x12]\\xad\\x82:\\x91\\x9e\\xd4\\xc7\\'y\\x00|\\xa7\\xa7\\x15.\\xe4\\x08p\\xad\\x920s\\xc1\\xa8\\xd20\\x08\\x0066\\xe0\\xee<\\xd02H\\xa4\\x922\\xff\\x00w\\x04r\\x08\\xa6\\xb7\\x98\\xf3m\\\\\\x17f\\xc2\\x8fCN\\x0e\\xa1\\x19\\xf8P=\\xfbqSY/\\x91o%\\xf3&@\\x18\\x8c\\x1f\\xe7]\\x18z|\\xf2\\xf2\\x135m\\xad\\xd6\\xda\\xdcF\\xa4\\x90\\xa3\\xbfsP__[\\xdbB\\xe8\\xef\\xf3\\x958\\\\U_\\xed\\xa5[Q\\xbd\\x18\\xceA*\\xab\\xd3\\xd0f\\xb3n^H\\xd44\\xc3t\\xf2\\x9c6=k\\xd1\\x9de\\x15\\xcb\\x12R+C\\x18\\x9e\\xea(m\\xc6\\xd6nY\\x87o\\xcb\\xde\\xba\\xe4\\x18E\\x04\\x92@\\x00\\xd6~\\x97\\xa7\\xa5\\x8c*\\xc5@r95t\\x96s\\xc7\\x0bWJ\\x1c\\xabPb\\xa9\\x04\\xf1\\xd0qR\\x000E1F8\\x1d\\xa9\\xe0\\x13\\xc0\\xeb[\\x08h%\\x82\\x908\\x1dj\\xb5\\xd5\\x94F\\xee\\x1b\\xa1\\xc1\\'\\xe7\\x00}\\xea[\\xbb\\xd8,\\xd9#w!\\x9b\\xa1\\xc1\\xe2\\xa5\\x1b\\x8a\\xc5\\xc8(\\x06A\\xcfZ\\x97ih\\x04\\xa8\\x0cq*\\xe0)#\\xf2\\xa6\\x19\\x02\\x89d\\xdc\\n\\x81\\xcb{\\n\\xab\\x7f}\\xf6vU*X\\xb0<\\x13\\x8c\\n\\xab\\xf6\\xc6\\xbc\\xd2.7\\x80\\n8\\x04\\xa8\\xc0\\xc7\\x152\\xa8\\x96\\x88\\x04\\x9a\\xf2V\\x87z\\xe5#-\\x83\\xfd\\xe2=}\\x85D\\xab\\x03!\\r\\xbd\\xd0\\x1c\\x10d$7\\xebI\\x86\\x00ma\\x8c\\xf7\\xf4\\xa3\\xcbX\\xd9K\\xa6x\\x19\\xf7\\xaf\"u\\xe5\\'\\xb9i\\r\\x94\\x85\\x028\\xd5QW\\xa0\\x14\\x90\\t\\x1c\\x12\\x1cr1\\x8c\\xd3e\\x08\\xa4a\\xf2[\\xd0t\\xa2%\\xc2\\x19\\x07f\\x1d\\xeb\\x9d\\xb0\\x06\\x9e@<\\xa29\\x07\\xbdM\\r\\xd0\\x08\\xeap7t\\x18\\xe9\\xebU\\xa4\\xf9\\x9fp\\x1dMH\\xbbC\\xaf#\\x9e\\t\\xf4\\xa0\\x0b\\xb0\\xa9?3c\\xa6\\x07=\\xa9\\x92\\xc2\\x1c\\xa6O\\xca\\t\\x06\\xa5Rw/\\xcb\\xc0\\x1c\\xd3\\x1aTS\\x8eFI9\\xc5 #xT6\\xf5\\x1c\\x81\\xce9\\xa3;@\\r\\xca\\xfb\\xd4\\xc7\\xa1Q\\xdf\\xbdGq(\\x8a!\\x92>^\\xdf\\x8d\\x00DU\\xf7\\xb603\\xf7@\\xefI$,\\x17;U\\xcb/ \\x8e\\x95hL\\x93Y\\xc4_laG\\xcavq\\xef\\xcdU\\xdf\\xbd6\\x86\\r\\xf3g!\\xa9\\x8d\\x8b\\x05\\xd3\\xda\\xc5\\xe5\\xc3\\xfcD\\x16>\\xb4\\xc9X\\xf9\\x0c\\xdb\\x88f=\\xfa\\xf5\\xa5\\xc2\\x000\\x87\\x83\\xc5E\"\\x86\\x8b\\x01\\x89\\xf5\\xa6M\\xc8\\xd2Y\\x02\\xed\\x0cy\\xa49\\xe8[4\\xb1\\xa37\\x19!:\\xe7\\xf0\\xa6\\x03\\xbd3\\x9e3@\\x89\\xe3\\x8c\\xbc\\x0ev\\xe4\\x01\\xc1\\xa9\\xa0o.V\\xdf\\x18\\xe9\\xd0\\xaf\\x1f\\x852)\\x19\\xa3\\x8e=\\xd89\\xcf\\xe0*\\xe1P\\xae\\x14\\x15b\\xc7\\'\\xf1\\xa4Z\\x1a6\"\\x81\\xb4\\xa9n\\x99&\\x98Q#\\x81\\xc30\\xc9;r\\xc4\\x9ar\\x95-\\xe5ci\\x0crI\\xc5Eu\\x14\\x9ee\\xbaFF\\x19\\xfe\\xf19\\x19\\xaa\\x8cy\\x9d\\x901Q\\xe3Ki \\x8d<\\xd9$e\\xda{d\\x1c\\xff\\x00J\\xd8\\x85\\xe4h\\xdf\\xcc\\x87f\\xd2@\\x04\\x8c\\x11U-\\xec<\\x99\\x92W\\x986\\xcc\\xe1@\\x00f\\x93P\\xd4\"\\x11\\x08#\\x94\\x19$;r\\x0f\\xdd\\xfa\\xd7\\xa9F\\x1e\\xca\\x17\\x91-\\xdd\\x94\\xad\\xd1\\xa4\\x93\\xce\\x95\\x00La@\\x03\\xa6I\\xfc\\xb2qP\\xa7\\xfaV\\xa6\\x8a\\xa1\\x9a4}\\xccH\\xe8j\\xd5\\xdb\\x0b[_\\x94\\xf3\\xb7\\n=\\xc7O\\xd6\\xadi\\xd6\\xe2\\x0b$\\xf9F\\xf6\\xe5\\x8fsX\\xd0\\x8f<\\xf9\\x98\\xde\\x85\\xb7=\\x07\\x14\\xa0r)\\xbdXT\\xa0\\x0e\\x9e\\xb5\\xe9\\x10 \\x1c\\x00\\rI\\x90\\x83\\x9e\\xb8\\xe7\\xd8SB\\x81\\xce:Sf\\x90C\\x0c\\x8d\\xb7sm,@\\xf4\\xa7\\xb2\\xb8\\x18W\\x8e5K\\x93\\xe5&\\xd6\\x88d\\x03\\xdds\\xd6\\xb5 \\x02\\xdfKF\\x97;\\xa3@[\\xe9X\\xfam\\xd0\\xc4\\xf2\\xc5d\\xa0\\x027\\x12\\xfc\\x90z`b\\x95d\\x96C0.BI\\x8d\\xe4\\xf2\\x08\\xeb\\\\n\\xb4`\\xdbcHd\\xff\\x00\\xe9>}\\xd4\\xc4\\xe1\\xf21\\xfd\\xd5\\xf4\\xab\\xe9\\xe5E\\xa5\\x8blbAo\\xb9\\x81\\xef\\xf5\\xaa\\x93\\xcb\\x0cV\\xb3;\\xfc\\xca\\xa0~}\\xa9\\xb1~\\xf2H\\xca\\xb1&U$\\xe4v\\xe3\\xfa\\x0cW=:\\xdb\\xb66\\xac.\\x0b\\x00\\x85NF\\x08\\xc5G,\\xdb~\\xf2\\xf3\\x8c\\x1c\\xf6\\xa9\\xd9\\x8a\\xca\\xce\\x14\\xaeUJ\\xe6\\x9c\\x89\\x07\\x96\\xd3K\\x8d\\xc4\\xe1T\\xf4\\'\\xd6\\xb8\\xe7\\xbd\\xc1\\\\\\x04p\\x88>u\\x1ey\\x1b\\x81\\'\\n3\\xc61\\xeb\\xde\\xa6\\x86\\x08\\xda\\xc3\\xcc\\x8eD\\xfb\\xf8(z\\xf4\\xaa\\x9ek\\xba|\\xecK\\x1c`\\xe2\\xa3\\xda\\xdc\\x94$\\xe4\\xe0\\x8fz\\x8b\\x14\\x9d\\x89$\\x84\\xe0c\\x96\\x07\\xb7j`M\\xd2\\x95\\'f\\rL\\xed4lc\\xcb\\x03\\xdf\\x07\\xadB\\xca\\n`\\xb9\\xdc\\x0fN\\xd4\\xc4\\xd1\\xa3\\xf7\\x1f%\\xba\\xe35\\x19twh>os\\x93\\xd2\\x83\\xb79r\\x00\\xf5<f\\xa6\\x8d\\xa2H\\x1d6\\x86\\xdc2\\x1b=\\xb3P29\\x13\\nJ\\xb089\\xe5\\xaa\\xa4\\x92\\xa1F\\xdf\\x95=\\x08\\x03\\xafz\\xb6\\xd0\\xc4\\xfbO\\x00\\xe0\\xe5\\xbd*\\'\\xb4\\x06@\\xdb\\xc1^;\\xd3\\x11\\x1c\\xa1\\x18\\x18\\x93y\\x8d@\\x1dz\\xf1MD\\xd9\\x10d<\\xed\\xc6\\x0f\\xad\\x1bB!@I\\xe4\\x8c\\xd0\\xb8r\\xa5\\x8e\\x14tjc\\x02\\xf2D\\x89\\x94<\\x8f\\xce\\x98\\xd1\\xb8\\\\\\x95\\xcb1\\xcf\\x06\\x96u$\\x80\\xb2dt\\x02\\x8b`\\xde`\\x0c\\xf9\\x0b\\xd8\\x1ab\\xb1*\\x81\\xf2\\xae\\n\\x822}\\xaaF\\xb7Y-\\xdf\\xe6X\\xddz\\x02:\\xd3\\xe3\\tqs\\xb4H\\x17i\\xdd\\x8f\\xc2\\xaaH\\xc4\\\\lV8\\xc6>n\\xd4\\x05\\x8b\\x10[\\xbc1|\\xc5X\\x93\\xf7\\x80\\xa5`T;\\x86\\xe7\\x07\\xe9Im\\xbc\\xc67\\x96 \\x9a\\xb2\\xdbDy\\xc1\\xeb\\xd3\\xb1\\xa9e\"\\x85\\xbc\\x065i|\\xd0I\\x07\\xad^\\xd3\\xads\\xfb\\xe7\\x1c\\x7f\\x0e\\x7f\\x9dU\\xdaJ\\x88\\xc9\\xc8w\\xe0{V\\x84\\xd7\\x0b\\x1a\\xfd\\x9e!\\xf3\\x11\\x80{\\n\\xee\\xc2\\xa8F\\xf3\\x99/{\\x15\\xee\\x9c\\xde3\\xaa\\x82b^\\x00\\xfe\\xf1\\xeei\\x91Eo\\x0e\\xc5\\xf2\\x95\\x80!\\x80\\xf7\\xf5\\xa9\"\\x0f\\x11d\\xc6c\\xc6\\x07\\xaej\\x131\\x82\\xd0N\\xc3\\x12\\x0e1\\xeek\\x19\\xd4\\x95I\\x0fb\\x08c\\x92\\xfe\\xf5\\x8c\\x98\\xd9\\x1b`\\x81\\xc0\\xcdm\\xf0\\x14\\x0fJ\\xab\\xa7@a\\xb7\\xde\\xff\\x00}\\xce\\xe3Vz\\xf3^\\xb5\\x18r\\xc5\\x12\\xd8\\x0e\\xb4\\xf23\\x83\\x9aE\\xc6\\xef\\xad8\\x90N=+b\\x076\\x11\\x01\\xa4\\x7f)St\\xcc\\xa1\\x08\\xe7u$\\xbc\\x85\\x1e\\x82\\xb3u\\x84, M\\xd8\\xc8\\'$g\\x9f\\xf2\\rL\\xe7\\xcb\\x1b\\x8c\\xa3#\\xa4\\xd7SH\\x06#P\\x16,\\r\\xa7\\x02\\x9f\\x1c\\x8am\\tUe;\\x8f\\xcd\\x9c\\xfau\\xa8\\x92\\x0cF|\\xc6\\xc1>\\xf8\\xa4\\xfd\\xce|\\xb6\\x0cW\\x92\\x18v5\\xe2U\\x9f4\\x8bH\\xb0\\xfag\\xdbm\\x0cP0b\\xc7\\'\\x9e\\xf4\\xc8\\xed\\xe3\\xb2\\xb8\\x90M\\'\\xceIH\\xf6r\\x02\\x8e\\xd5%\\x8e\\xe5\\xb4\\x99\\xe0\\x8d\\xcbd\\x15$\\xfb\\xe6\\xa1\\x94O/\\xefZ2\\xab\\xe8?Z\\x8egk\\x14\\xc4\\x18fdW$\\x13\\x8eMI,M\\x82\\x8b\\x92\\xb1\\x0c\\x92}s\\xda\\x88\\xa2R\\xca\\xdc\\x00z\\x0e\\xb4\\xb7\\x17.\\xe0\\xc4T\\xaeF\\xdd\\xc1\\xbbf\\xa6\\xf7\\x11\\n3\\x1d\\xc0\\x03\\x908\\xa7#\\xb3J\\xaa\\xa8Ic\\xd6\\x96\\x18F\\xd3\\xb9\\xca\\xb6>\\xb5!\\x97m\\xba\\xa7\\x04+\\x10\\x18py\\xf5\\xa0\\x11\\x1c\\xbb\\x8b\\xb6\\xe3\\xb9\\xb3\\x8a\\x8f\\x9d\\xac\\x0b\\x00;\\nII\\xdc\\n\\xe3\\xe6\\xe8\\x01\\xefM\\x01\\x83\\x1d\\xe0\\x9cv\\xc7J\\x07bNg\\x90\\x9c\\xfc\\xa0\\xfc\\xbb\\xbd\\xeaH!\\'\\xe4,8>\\x9cSc\\x8b\\n\\xa8\\x089\\x19\\xe3\\xb5#\\xe1\\x13\\x19\\xf9\\x85+\\x08\\xb7\\xf7\\x81\\x8c\\xfd\\xc1\\xc09\\xe6\\x91\\xa4\\x865\\xda\\xddW\\xb6j\\xbe\\xc2\\xc8\\xb1\\xa3`\\x83\\xb8\\x9c\\xd4\\x97\\x13+y`DC\\x01\\xf30\\x1fx\\x8e\\x9f\\xa5\\x16\\x1d\\x85\\xb3\\x8de\\x99\\xf3m!F\\xc6\\x1cp\\x01\\xff\\x00\\xf5T\\xf3D\\x8c\\xa1r\\xca\\x06@\\xc8\\xf7\\xff\\x00\\x13S\\x1b\\xa9Y\\x13c0?x)\\x1c\\x0e*\\xbc\\xc5\\xc9\\x8d\\xa4\\x04\\x86\\x00\\x16=9\\xc9\\x19\\xa6;hA\\xb0\\t\\x981 \\x8fQ\\xd2\\x9bm\\x18y\\x9b\\x04\\x90O\\\\S\\xd72)\\xdc\\xfb_\\xd7\\x9a\\x97\\xc8tBb\\xc1f\\x1c`\\xe2\\x82l!eI\\xc0 g\\xbe?*d\\xa0\\x82\\xdb1\\x80r\\xc6\\x96\\tT\\xdc\\x05pF\\xd2\\x0b{\\xd4\\x89\\x1c\\x86RH;[<\\xee\\xebH`\\xac\\x17\\xca$\\xfc\\xaf\\xdc\\x1a%c\\xe6b6\\xf6\\x19\\xe2\\x9c\\xa27P\\xaawm\\xea\\x078\\xa7\\xa2\\xae\\xe2W9\\x1e\\xb4\\x82\\xc6\\x83\\xd8\\xc6`\\x88\\xb9e\\xb9X\\xf2\\x9c\\xe78\\xef\\x8fCT\\xca\\xf9S\\x10Tq\\xc1#\\xd74=\\xcc\\x97\\x12\\x11&6\\x81\\x80*6\\xe5r\\xb2u\\xe3\\x1f\\xd6\\x9f3\\xb5\\x86\\xda\\x12V\\x1e`\\xda\\n\\xe4\\x1eG\\xae*!\\x07\\x9fw\\x10s\\x95A\\xb8\\xfb\\x9atM\\x99\\xb1\\x9e\\xdc\\xd5\\x8bU\\x05\\xe5\\x93\\xae[\\x03\\xf0\\xe2\\xba\\xb0\\xb0\\xe6\\x992d\\xe78\\xc6)\\xc8\\xb9\\x19#\\xf3\\xa7\\x81\\xedH\\x1bs\\x10;W\\xb0f/\\x1eg\\x03\\x91@\\xe0\\x96\\xa0|\\xa3\\xdc\\x8aN\\xc0S\\x01\\xc3\\xe6\\xc1\\xac\\xedk,\\xd0\"\\xf5\\x19l\\xfbb\\xb5\\x11s\\xf4\\x1dk\\x1fR\\x97v\\xa8\\x8a\\xa00D!\\x81\\x1cV8\\x87jlh\\xa98D1\\x86$\\xaf\\xde\\xc5!\\x88:\\x16\\x8c\\xfe\\xedG\\xdd\\xcf&\\xa6t\\x89\\x00\\xf9\\x02\\xf3\\xdb\\xb5Vy\\xa3\\x8e6T,X`\\xf285\\xe2\\x1a\\x16\\x9eh\\xa0\\xb5\\x8d\\xa1\\xca3\\x0f\\xba@\"\\xa2\\x92\\xe1\\xe7\\x8f\\x11\\x8c\\x0e\\x87\\x03\\xf9S%\\xb8|.aB\\x19s\\x9fL\\x8azL\\xf1\\x05\\xc0R@\\xf9\\xd7n9\\xa4+\\x91\\xc6\\xb2\\x04\\n\\x8aF\\xc6\\xe7\"\\x9a\\x8a\\xcf!m\\xca{\\x9cs\\x81S\\x1b\\xd9\\xae\\x18\\xc4\\x91\\xe0\\x17\\xc1 r)\\x04.\\xbb\\xe32\\x86P\\xa4\\xb7\\x1d\\x05\\x00\\xc8\\xdd\\xc2eO\\x0c\\xbcnZ\\x10\\x0c\\x1d\\xf9\\xc09\\xe0\\xf5\\xa9^8\\xc3)\\x8c.\\x18\\xf5\\xcfj\\x85\\xc4\\xc9s$L\\xaac<\\x87S\\xda\\x84!\\xce\\xea\\x92a8\\x1e\\xbc\\xe4R\\xa1\\xd9\\xbf2\\x97b{\\xf7\\xa60\\xf3\\x1b9\\x03h\\xe7\\x902)Xy\\xce\\x16\\x08\\xcf>\\xf4\\r2r\\xcc\\x91\\x13\\xc6\\xf3\\xd7\\x15\\x11*\\xc41\\xe1M\\x12\\xc4\\xfb\\x89^OZ#E!H\\xe4\\xf21\\xf8\\xd04H\\xe1 \\xb1uYC\\xca\\xee\\x15T\\x1e\\x83\\xd6\\x98\\xbf\\xbbx\\xc3\\xb6\\x02\\xf2}\\xe9\"\\x8d\\xe4\\xba\\x98\\xb3&Ca9\\xc7\\x141X\\xa2\\xe5\\x14\\xb1\\xe3s\\x7f\\x9f\\xf3\\x9ae\\x1a\\x96\\xfbN%g\\x1f*\\xee\\xe9\\xf8u\\xa8\\xeedca\\xbaB\\xded\\x93n\\xc1\\xfe\\xeflR4\\x8c\\xbay\\xce\\xdd\\xb2\\r\\x8a\\x17\\xd3\\xbej\\x17\\x06q\\x19y2\\xf8\\xfe\"q\\xf8T\\xa0\\xb8\\xc6a\\r\\xb6\\xc5S\\x96?\\xc5\\xeb\\x8cS\\xd1\\xe4h\\x81^\\n\\xb6\\x08=\\xea9\\x15\\xb7\\xbe\\xd2\\x1b\\xd3\\x1d)\\xf0\\xa3*3\\xc8pI\\xe0S%\\x92\\xa4J\\xac\\x01L9\\x1c\\xf3\\x9e\\xf4\\xf8\\xd5\\xd2D9^\\x1b\\xf4\\xa8\\x12\\xc66\\xc1f\\x90\\xb1\\xe8CsR[3\\\\\\\\y\\r\\x14\\x91\\xba\\x0e7\\x0f\\xbc=sHf\\xbc\\xf7V\\xf6\\xae\\xaabH\\xd9\\xbel\\x0e\\xf5By\\x96y\\x17\\xa2\\x8c|\\xbcb\\xb2\\xe5\\xb8{\\xcb\\x8f1\\x8fL(\\xf6\\x02\\xb4\"^\\xa9\\xf7\\xb08\\xa1\\xab\\n\\xf7\"\\x9btn\\x0bgi\\x1d\\r5\\x17\\x0eCt c\\xda\\x9e\\xd2\\x04R\\x10\\xee d\\x06\\xa7>\\xee\\x03\\x159\\x00\\xf0i\\x08T\\x8d\\x04\\xbb\\x87\\xdf\\x00\\x03S\\xd9\\x1f\\xdd1\\x03\\xf8\\x8d6s\\x1a\\x9b\\x7f!\\x95\\xe6~N;\\n\\xb1\\x14~Z\\x05\\x1d\\xab\\xd3\\xc1\\xd3k\\xde&Lyb\\x13\\x03\\xad\\x00\\x04\\x01GR9\\xa5\\n3\\xf4\\xa7(\\xe4\\x93^\\x91\"m\\xcbd\\xfau\\xa5\\xf9s\\xc0\\xe2\\x90\\x9c\\xf0)\\xca\\xb4\\x00\\xc9\\xa6\\x10[\\xbc\\xacp\\x14f\\xb0\\x1aM\\xb0y\\xb8a,\\x87\\xe7\\xddV\\xb5\\xa9C\\xfe\\xe5dPT\\x8f\\x90\\x1c\\x96?\\xd0\\n\\x82+}\\x90\\xe6v>g\\xf0\\xa85\\xe5\\xe3*]\\xf2\\x95\\x14Q,wrI\\xcf\\xad;o\\xce\\x0b\\x13\\x9cr)]\\x1f<\\xa9R\\x06y\\xa5\\xcby\\x8b\\x8c1\\x1d}\\xeb\\x85\\x8d\\x08\\xc5\\x89\\r\\xb8c?\\x90\\xab6\\xf3\\x11z\\x93,\\x83\\xef\\x02P\\x8e\\t\\xa8\\x8cK*\\xb3\\x11\\x8cuZ\\x9a\\x18\\x94\\x82\\x02\\x11\\x81\\x9c\\xe6\\x90\"\\xc1\\x84=\\xd4\\xd2\\xc4\\xca\\x19\\xdbp\\x1f\\xdd\\xe7\\x9a\\x15\\x15bf\\x0e\\x92+\\x03\\xd4\\xe3<\\xd4(\\xd8|.\\xd0\\xe7\\x86\\xcd#J\\x16\\x00\\x86?P=\\x8d!\\x95\\x99\\x8b\\x04\\xc0 \\xa8\\xe7&\\x86,\\x0f4\\xff\\x00-\\x8c{\\xb2\\x14t\\xa1\\xd4\\x19J\\xb1\\xe7\\x8c~T\\xc4G\\x82\\xceU\\x17\\x9a\\xb1i\\xb6/2BTH\\xa4|\\xa7\\xfc\\xfbU\\x8bX\\xe1\\x12\\xba\\x93\\xb7\\x03,\\x18\\xe3\\xf5\\xaa\\x97\\x11\\xa0\\xb9\\x97\\xe6\\xdc\\xa7\\x95 \\xe6\\x80\\xb1b&9X\\xca\\xb6\\x0e2\\xc3\\x195\\x1c\\xb0\\x98%V\\xc1\\nM=\\xa1\\xdd\\xc7C\\xdf\\x15-\\xa8.\\x169Id^:\\x0f\\xebAH\\xa4\\xb22\\xce\\xec\\x87\\xe6\\x03\\x83\\x8fz\\x98\\xa2NQ\\x15\\x0b+\\x7f\\x11\\xecOzVT\\xb6wL1\\xcfN?\\xc2\\x9d\\x1bd\\x02\\xaf\\xb0\"\\x93\\x8e\\xe4\\x7f\\x9f\\xe7@\\xc1\\x8e\\xf9D(\\xff\\x00*\\x0c(\"\\x9a\\xee\\xdb\\x86\\xc3\\x8e\\xc3#8\\xfaS\\xd42\\xc7\\x9d\\xa0`\\x81\\x92y\\xc7zD\\r\\xe6\\x809^\\xbd:P\\x03\";\\xb2ps\\xde\\xac\\xc6\\xab\\xbb\\x8eP\\x8e\\xf5\\x18\\x99\"\\x98/\\x07=\\xa9\\xca\\xee\\xd2\\x15X\\xc2\\xc7\\xfe\\xd1\\xfeT\\x00\\xe1\\x91\"\\x80\\t u\\xabv\\xd7\\x06\\x18\\xe6\\xc0\\xc9u\\xdb\\x93\\xd4}*\"B\\x85\\xc2\\xa8=\\xc8\\xcf5\\x18$2\\x83\\xc8=i\\x01\\x96\\xaa\\xd1H#nX\\x1eqZ\\xca\\xc67\\x05r8\\xcf\\x14\\xb3i\\xcf\\x15\\xd7\\x9d S\\x1b\\x00T\\xe7\\xaf\\x15\\x13\\x86$\\x8e\\xc5N\\x1b=(b\\t`\\xd9\\x99\\xc3\\xc8FGN\\x83\\xf0\\xa1\\x17w\\xcf\\xc1\\'\\xa5D\\x82Ff]\\xc1\\xce:\\x8esV\\xa3\\xc1\\xda\\xbe\\xbc\\x03M-@m\\x92y\\xb7rN\\x06\\x15~P?\\x9diqU,W\\xcbYP\\xa9VY\\x0eA\\xabB\\xbd\\xda:A\\x191G\\x02\\x86m\\xa0\\nni\\xbfx\\xf3[\\x08p\\xcesR)\\xc78\\xa6\\x85\\x18\\xc9\\xe9N\\xa2\\xc0e_@\\xb2NRW\\xdb\\x1c\\xa3v\\xed\\xb9*\\xc0v\\xfa\\xd4\\x11\\xa4k\\xc9R\\xec1\\x82F1S\\xea\\xf2\\xaa\\xf9#p\\xc8$\\xe3\\xf0\\xa8d\\x99]p!w\\x1br3\\xd0\\xd7\\x91\\x8bIOCH\\xecR\\x9aa,\\xa5W\\x90\\xbc\\x0cS\"\\x89\\x8b\\x9e\\xc4d\\xd1\\x01x\\xdd\\x9dS\\x0eG\\xdd\\x1c\\xe2\\x84f.\\x02\\x92[\\x07\\x9a\\xe3\\x01\\xc4;7\\xcaNMZ(c\\x81]\\xc6\\xde\\x99\\xcej\\xb2\\xc7!`\\xe3s\\x01\\xe8*\\xf9\\x94\\x88\\x8e\\x01\\xc7\\x04\\x83\\xeb@\\xd1B\\xda\\x0c\\xdc3\\xbb\\x15\\xdb\\xf3\\x0c\\xf7\\xa9\\xae\\xa3#c\\xe4\\x00y\\xda)L\\xa1\\xa7V=@\\xe0\\x0e\\x82\\x93\\xca3(rrG\\xa5\\x02 \\x98>\\xf58c\\xdf\\x8a\\xb7\\x15\\xbf\\x98<\\xd2\\xa3\\x81\\x91\\xd74\\xc8\\xd6f\\xbc\\n\\xad\\xb8\\xe3\\x80z\\x1a\\xd0\\x08\\x05\\xb1U\\x19\\x93\\x9e\\xbd\\xa9\\\\i\\x15\\x1d\\xe69H\\x80\\xf3\\x18d\\xe4v\\xfcj\\xad\\xc2<K\\x86R\\x0ey=\\xaa\\x7f\\xb35\\xbe\\xd2\\xe4\\x92s\\xb9\\x97\\xb5F\\xcc\\xb7\\x16\\x8a\\x0c\\xa5\\xa6\\r\\xc2\\x93\\xd4P\\x0c\\xb0\\xa5J\\x80I-Q\\xc9\\xc7\\xdc;GsH\\x8c\\xdb\\xf6\\x16\\xc2\\xe3\\x8a\\x94)\\xc1`\\x00A\\xc9\\xf5&\\x81\"\\x11$\\xa2=\\x84\\x90s\\xd7\\x14\\xf5R\\xed\\xf3p\\x19OOL\\xd4\\xd2\\xec\\x00\\x04W<r\\t\\x02\\x9d\\xe5\\xb8\\xb6R\\x15\\xdc\\x82\\xd9 }\\xdfj\\nDM*\\xaa\\xf0\\xa7\\x19\\xcf=\\xe9\\xbb\\xc6\\xf1\\xb4\\x10\\x87\\xf8Ojr\\x82$L\\x90\\xe7\\xba\\x9e2?\\nP\\xeb>\\x1b\\x1b\\x15\\xb2@\\'\\x91\\xd6\\x98\\x02\\x80\\xad\\xc0\\xc15.\\xf5\\xce\\x00\\xcbSP\\xa9\\xe0\\xe7 c\\xafZx#\\x00\\xf3\\xe9\\x81H\\x07*I!\\xc2\\x02O\\xa0\\xa6\\xf0\\xdb\\x82\\xb6H\\xeb\\xcd9~P\\x8e8\\xdd\\x9c\\x13P\\xda\\x86\\xf3&Q\\x822NM &\\x92Bc\\x8f\\xcdi\\x18\\x80@\\xc9\\xe0UY\\xe4\\xd9\\xb4\\xed\\xc5X\\x92@v\\x86\\xe4rsP\\xdc\\x81+E\\x9eNz\\x0fj\\x00-\\xf7\\xdb\\x85\\xc1\\x01\\xbd\\x87Nj\\xdcr`\\x8698\\xe4\\xf1U\\xd4\\x06`\\x0eF})\\xb7\\xb2=\\xbd\\x84\\xcc\\xa3#\\x18\\x07\\xde\\xaa:\\xb0,\\xdbN\\xf7S\\xdcNx\\xde\\xff\\x00\\xc8b\\xad\\x82X\\xf1\\xd2\\xaa\\xd8G\\xb2\\xca%\\xe8H\\xc9\\xab\\x9c\\x01\\x81^\\xf5(\\xda\\t\\x19\\xbd\\xc4\\xed@^i\\xd8\\xe0S\\xbat\\xadI\\x1ar\\x0e)sM\\xc9,y\\xa5\\xa5q\\x98\\x97\\xc2\\xda[\\x82\\xd33\\xbb\\x86!\\x80\\x18\\x08;c\\xdf\\xaf\\xe9SK0VD-\"\\xc6@\\xc1\\x04p)\\xb7h\\xe9|T\\x7f\\xcbNA\\xa8o\\x1e5\\x93\\xe7pJq\\xb3\\x19\\xc9\\xf5\\xaf\\x17\\x11\\x7fh\\xee\\\\^\\x80&\\x85&t@\\x00PH#\\xbf\\xd6\\xaa\\xcavJ@\\x18\\xe7\\xaf\\xd6\\xa4\\xb7\\x9a6\\x9b\\x1eG\\xcc\\xdd\\xf3\\x9c{\\xd4\\xd7V\\xca\\xa8\\xdbA,y\\'\\xd6\\xb9\\xc6\\xca\\xd1\\x1c\\x1d\\x8a\\xec\\xaa\\xe7\\x07\\x1dj{YV\\x114-\\x89\\x17\\x04\\x02MF\\x1e3\\x1a\\xa8R\\x18\\x0eH\\xfa\\xd2Z\\xc8\\xa2A\\x95\\xe0\\xf6=\\xe8\\x02E\\x9a\\x05R\"\\xc8g\\x18\\x04\\x0f\\xba{\\xd3\\x91dD#n\\xf0\\x06p8\\xcd=\\xe3\\x1bS1\\x84\\xc1$\\x91\\xceEH\\xc8e\\xb8\\x91\\xa3dT=Nx\\xa4\\x02\\xda*\\xa6\\xed\\xc0(~F\\xee\\xb5,\\xfer\\xd9\\xb3\\xc7\\x1e\\x01\\xe3w\\x1cUW\\xf2\\xf3\\xb6R\\xdb\\x81\\xe9\\x93\\x8fj\\xb7\\x14\\xe1\\x13\\xcb\\xce\\xe4\\xce\\x02\\xe7\\x00R\\xb0\\xcc\\x93s;Fci\\xb2\\t\\xe7\\x06\\x920\\x80\\xe1\\x95J\\x8eF:\\x9a\\xbb=\\x88\\x91\\x97\\xc8S\\xb8\\xf2\\xc3\\xb5>-5S\\xccG\\x94\\xf9\\x81ClZ\\x05b\\x17VV\\xe0\\x05P\\xa3\\x07\\xd6\\x95%!\\x02m$\\x03\\xd6\\x925\\x90\\xc4c\\x91J\\xe1\\x86\\xdc\\xf7\\xf5\\xa7\\xfd\\x9e\\xe2&f\\xda\\xb2\\x00y\\x00\\xe4~\\x94\\xc5b)^Vb!\\xcf#\\x92M\\x1eM\\xcc\\x96\\xe3u\\xc0h\\x81 \\xa8\\'9\\xa5Y\\x02|\\xbb\\x08=q\\x9c\\x81\\xe9\\x8a\\x94O\\xe6\\xc6\\xb1\\xc9\\x1e\\xd2N\\xe0\\xc0\\xd0;\\x10\\xc7\\xba7\\x01c\\xf9\\x07\\xde\\'\\xabf\\xa7\\xd9\\x94PP/\\\\\\xe2\\x9c\\x8a\\xc7\\x19?+t\\x03\\xb9\\xa9W\\x88\\\\\\x92w\\x0e\\x08#\\xf0\\xa0dY%\\xc6p1\\xdc\\n\\x90\\xa9R3\\xf7z\\x8f\\xa5\\x0c\\x9b\\x00\\xdf\\xc6zg\\xbd#\\x16 \\x1e\\xbd\\xb0)\\x01\\'\\x9b\\xbc\"\\x90\\x02 \\xc2\\x8ct\\x14\\xdd\\xf9\\x95\\x86\\xdd\\xb8\\xee\\x063M\\x88\\xb3\\xc8\\xc4/\\x00t\\xc5#\\x13\\xb9s\\x9c\\xe7\\x14\\x00\\xf2@?w\\xad\\x10\\xf9>l\\xc2U\\xce\\xd4\\xf9N{\\xd3>\\xd1$0H\\x1b\\x18=3\\xd74\\xe8\\x1ftx\\x18\\x12H\\xa4\\r\\xc7\\xa8\\xe9\\x8a\\x00\\x81_\\x12\\xc6\\x07\\x1f\\xedv\\xa2\\xe5\\r\\xc5\\xccv\\x88C)\\xf9\\xe5#\\xd0\\x1e\\x95\"\\x13\\x16\\xff\\x00\\xdd\\xe3\\x1c\\x00GJu\\x8b\\x99/n\\x98\\x80\\x180\\x1f\\x85ua`\\xa5=D\\xcb\\xc8\\xbbF\\xd1\\xd0p*P\\xbd\\xcd\\x11\\x80\\x0eO\\xd6\\x97\\xa9\\xcek\\xda2\\x0c\\xe7\\x9cR3`QI\\xb4P0Q\\xc7\\xb9\\xa5\\xa3\\x1cQ\\x9c\\xd0\\x05\\rP\\x88\\x96\\x19\\x8a\\x83\\xb1\\xbb\\xd6d\\xfeM\\xd2\\x89QJ\\xc9\\x8f\\x98\\x01\\xc5m_[\\x8b\\xab)#=q\\xc5ci\\xd6\\xd3O\\'\\x94\\x11\\xb8\\x041\\x1d\\x06=k\\xcd\\xc6\\xc3\\xde\\xe6*#m_\\xec\\xf7#\\xfd\\xa1\\x8cg\\xf2\\xabow\\xbc\\x10\\xaa\\xcc\\xc3!@9\\x15ZX<\\x9b\\xc2&q\\x80q\\x81\\xd7\\xf0\\xa9c\\xb7[y\\x9fnNO\\x04\\x9a\\xf3\\xd9dMl\\xe4\\x92\\xaaB\\x8c\\x07\\xa2\\x1bo\\xf4\\xb5F\\x93nA$c\\xa0\\xa9\\xa7\\x12G\\x10p\\xc3\\x1b\\xbea\\x9eqOuq\\x1e\\xec|\\xa4\\x81\\x91\\x8c\\xe0R\\xb8\\x12\\x10\\x90\\xc2w>\\xe5\\x03\\x8c\\x8c\\xf1Q\\x88\\xfc\\xd3\\x87\\xc6\\xd2\\xc3\\x18\\xe3p\\xa8\\xa4\\x99\\xf6\\xf9(7+.\\xdcc\\x9cT\\xd3F\\xeb\\xc4|0\\xc0\\x07\\xf2\\xa0\\x07]\\xa8\\x8au\\x00\\xee\\x05s\\x82~\\xe8\\xc5\\x10\\xf9k\\x14m\\xb7\\'\\xd3\\xd6\\x98\\x91\\xc8\\xdb\\x8b>Kps\\xcfj\\x9a8\\x8a\\x90s\\xce\\t\\xc7\\xa6h\\x04X\\x12a\\x99c_\\x93\\xaei\\x92\\xbf\\x96\\xeb&p\\xd89\\x1e\\xd4\\xe8\\x83\\x00\\x101 \\x9c\\xe4\\xfa\\xd6e\\xd0\\x9e[\\xd9C\\x86\\xd8\\xbc!\\x1c\\x02)\\x0cI`X\\xdfn\\x0eq\\x9c\\x11\\x9a\\x8dL\\x88r\\x01]\\xf9\\xe4\\x1e*\\xec\\xb0,\\xa1w1\\x0c\\x07\\x04R\\x1bx\\x02)\\xf3$\\x12\\x10~\\x9dh\\xb9\\x05sw1\\xdb\\xbd\\xb7\\x05\\x18\\'\\x02\\x94H\\\\\\xa8\\xe5\\x88\\xef\\x8c\\xf1R\\xa0\\x84\\x12\\xa60\\xc0\\xf5\\'\\xad?tk\\x19U\\x89z\\xe7#\\xad0%\\x8e6ky&\\n\\xe7a\\x1bP\\x0f\\xd7\\xdb\\xa5>\\xc3\\x0c\\xb2\\xbd\\xc0\\xcd\\xc1\\x1b\\x94n\\xc8\\xc0\\xeeq\\xf5\\xfd*4\\xb8T\\x80\\xe10\\xf9\\xc0\\xc9\\xe0\\xfe\\x14;\\xdc\\xa1C\\x8d\\x80\\xa6\\x14c\\x1ct\\xa0\\xa4\\x12\\xbb\\xc8\\xea\\xec\\xe1\\xdf\\xf4\\xc5&\\xe7p\\xaa:\\x93\\xc0\\xa4\\x08U\\xf0AR=E(\\xc6;v\\xa4\\x03\\xa1i\\xa0f1\\x9f\\x97n\\x1b\\xeb\\xe9H\\x14\\xb6\\xc0\\xc3\\x189\\xddI6\\x06\\xc5\\x0b\\x86\\x1f{>\\xf5\\x0b\\xaes\\x82x\\x1c\\x9e\\x98\\xa0\\t%R.\\x04\\'h@2\\xcc\\xdfL\\xf1R\\xedG\\x85n\\x17w\\r\\xf2\\xed\\x1c\\x1f\\x7f\\xe5U\\x8c\\x8b23`\\xedS\\xb4\\x9c\\xf55u\\xef!\\x16P@\\xb1#\\xb6\\xef\\x9f\\x8e\\x94\\x0c\\xb6\\x91\\xb5\\xcd\\xb6\\x1aH\\xdb\\xcdP\\x03\\x05\\x00\\x8epk*\\xd6)m\\xf5\\x89\\xe3\\x93\\x07\\xe5\\x04c\\xbdj\\xd9Im\\x10*c\\x0c\\xca\\xc7`\\xce:\\x9f\\xd6\\xaa\\xdeC5\\xbf\\x89\\x9d\\xa5#\\x13\\'\\xca\\xa3\\xf8q]XWj\\x88$\\xb4-\\x8a@\\r8\\xf4\\xa4\\xafl\\xc0\\x05-&\\x00\\xa4\\xe7\\xd6\\x90\\x0e\\xa6\\xad.y\\xa5\\xa6\\x01Y7\\xd1Io~\\x93@?\\xd6\\x1e\\x9e\\xadZ\\xe2\\xaajHZ\\xd0\\xba\\x9c20`\\x7f\\x1a\\xca\\xbc\\x14\\xa0TY\\x956\\xe3r\\xce\\x91\\x95\\xc3\\x12\\x07\\xa75h\\x07#s\\xb9p\\xc0r\\x06\\x05Vh\\xa4\\x99\\xdeY$\\n_\\xf55c\\x0f\\x1d\\xbf\\x96\\xb3\\x16\\xd8\\t\\x0b\\x8f\\xa6k\\xc1\\x96\\xe6\\x80\\xe0\\xb28\\x03$\\x8f\\xf0\\xa8\\x04\\xad\\x00\\x05\\xb9$\\x9f\\xa1\\xab\\xfao\\xfaL\\xe27\\x8fhU;\\xd8\\x8e\\x9f\\x8dR\\xbe\\xb7<\\xcd\\x861\\xf4\\xc9\\x1dy\\xebI\\r\\xab\\x08Nd-\\x92\\xa4\\x8e\\xaa:S\\n\\xcc\\xe5H\\x9c\\xb2g\\x80F)\\x8d+\\xb4A\\xb7/m\\xc3\\xbdNdgd\\xf2\\x94\\xed$d\\xe7\\xa5\\x02\\x1e2%\\xcf\\x0b\\x91\\x9e\\xb4y\\x938\\xf9W\\x801\\xb8\\x9e(\\x9a7\\x0c\\xfb\\xa4]\\x84\\xf01V\\x14\\xec\\x00\\x0cc\\x1d(\\x024M\\xaa\\x00vb8\\xe4\\xff\\x00\\x85J\\x1f+\\x8d\\xa0 \\xe3\\xaf9\\xa0I\\xb1[\\x04|\\xdc\\x11\\x9a\\x87\\xcd-+\\x06\\x04/\\x18#\\xbf\\xd6\\x90\\xc1w6X\\xe7\\x03\\xa59\\x99H,\\xff\\x00\\x80\\xf4\\x14\\xa4\\xfc\\xaa>\\xf0\\xa6\\xb6#E=ry\\xa0\\x91\\x83i\\xe5O\\x04dQ\\xb4\\xed\\xfb\\xd8\\xc9\\xebK\\xe5\\xae02\\x01\\xe8)\\x02\\x93\\xb4zP0\\x19(~l\\x90z\\xe2\\x9c\\x15\\x9d@^\\xdd\\xa9\\x1f$`\\xb6\\x00\\xeb\\x8e\\xb4\\xaaJ\\xe3\\xcb$\\x02?:`,m\\xb9\\xb2\\xe4\\x8cw\\xf4\\xa8d\\x8c\\xcb.C\\x11\\x17\\\\\\x0e)\\xee\\x84\\xa6\\x01\\xc1\\xfa\\xd5\\xc9\\xe2[X\\xe3To\\xde2\\x8d\\xe0\\x9c\\xe7\\xe9H\\x11\\x06\\x15\\xdd\\x8bI\\xb4c\\xa9\\xaa\\xdb\\xcbHR.\\x17\\x1c\\xb9\\xe7>\\xd5#\\x82\\xear1\\x9fj|V\\xfeg\\xca?\\x85I\\xa0c\\x10\\x8d\\xdb\\x1e-\\xb1\\xafS\\x9e\\x94\\xd1 \\x8bz\\x8c\\x9c\\x0c\\x8c\\x0c\\xd3\\xc8\\x90\\xc6\\xa9\\x91\\x8c\\xe2\\x9e\\xfb\\xe2_)\\xc2\\xa9\\xc8\\xcd\\x00\\x10I\\xe5\\xbcd\\x92\\xdb\\x80%\\xba\\x1am\\xe4\\xef%\\xd4w+\\x92\\xb1\\xb9\\xdc;\\xe1\\xa9\\xe7h*\\xccF:\\xe5y\\xc5N\\xdfd\\x8e\\xdee\\x13\\x06\\x91\\xd3h]\\xb8\\xe7\\x8a\\xda\\x8b\\xb4\\xd0=\\x8b!\\xb7 #\\xa1\\x19\\xa5\\xa6\\x0c**\\x81\\x8c\\x0cR\\xee\\xafu;\\x98\\x01\\xe6\\x9b\\x8ap\\x14\\xb4\\xc0E8\\xa7\\x06\\xc9\\xa0\\n0\\x01\\xa6\\x02\\xd5}@\\x16\\xd3\\xe6\\x03\\xfb\\xa6\\xacT\\x17\\xdf\\xf1\\xe17\\xa6\\xc3S-\\x98\"\\x8d\\x8c>jJY\\xc9a\\xf3`\\xf4\\x19\\xa9\\xc4kop\\xac\\x1d[\\x1dH\\xfeUZ\\xcaso\\x0c\\x89$\\xaa\\xb9\\xeb\\xc6r)e\\xba\\xb7DUVV\\x0cs\\x903\\x9a\\xf9\\xe9\\xeen\\x99j\\xd6\\xf3l\\xf9\\x97\\x85\\x04\\xb0\\xc7_\\xca\\x99-\\xeb\\xcbg4 \\x02\\xaf\\x82K(\\xc8\\xfaTP\\xbb\\xb4\\xc4\\x95\\n\\x17\\xee\\xe7\\xf3\\xa8\\xcb\\xa2\\x07r\\xc5\\x80`\\x0e;\\x93\\x9a\\x90\\xb8\\xc4 \\x8e\\x8b\\x92=\\x05O\\x93\\x92\\xca\\x06;\\x0cU8\\x91ZO2):\\xb7*j\\xc8 (\\xc9\\xcc\\x8d\\xdb\\xd2\\x98\\x85i$\\x01\\x8a\\x80\\xc7=\\xcd.Y\\x98\\xee\\x07\\xa6y\\x1c\\nhl \\x1b\\x899\\xc7\\'\\xbd+\\x19\\x19z0\\xdc0\\x06\\x7fZ\\x00\\x92$\\x92l\\x00\\x9b\\x82\\x90I\\xce8\\xfcy\\xaaS\\x07\\x13\\x1d\\x8aB\\xee9\\x06\\xb4\\xa3\\xbd\\x00\\x84\\x07b\\x94\\xdaH=\\xf1\\xd75\\x04\\xbf\\xbe\\x95Y\\xb20I\\xeb\\xd7\\x1czP\\x02\\x8d\\xc0\\x11\\xd8\\xfe\\x94\\x1c\\x95\\x00\\x8c\\xe3\\xd2\\xa0Y\\x18\\xaf\\xc9\\xf7{\\xd4\\xab\\xb9\\xdb# ~\\xb4\\x80^\\xed\\xeci\\xf1;A.\\xf5\\n\\xc7\\x07\\x822*4\\xdc\\xc7\\xe5<\\xe7\\xb8\\xa5W;\\xba}sLW\\x15\\xb9\\x1d\\xb3M.~P\\xc7\\x01x\\x18\\xa5\\xe0\\x9d\\xd9\\xe6\\x91\\x8a\\x15#\\x14\\x0c]\\xb98W\\xf9\\x8f\\x02\\xa4\\x9a&\\x12+\\xbb\\x12H\\x19\\xcf\\xe7P\\xa9\\xda\\xc1\\x8e6\\xf6\\xf7\\xab\\x17\\xcd#\\\\\\xa1h\\xf6\\xfc\\xa3\\xbd!\\xa20\\x17%\\xb1\\xbf\\x19\\xc6N9\\xa2Yd+\\xbb\\x05\\x8ev\\xaa\\x8e\\x00\\xa4\\xf9\\x95\\xb8\\x188\\xa1\\x866\\x10\\xc0\\x93\\x92G\\xa5\\x00F0\\xc8\\x15\\xc1W\\xcf\\xcd\\xb4\\xe6\\x87d\\xcf\\xf1\\x1c\\x81\\xc1\\xeciw\\x90\\x03p\\x0e{S&%\\x11U1\\x92w\\xb6q\\x9ab$M\\xa2U\\r\\x9d\\xa0\\xe4\\xe0v\\xa9o\\xcd\\xb41A\\xb01\\x93\\xce\\x04\\xe7\\xd2\\xa21\\xbb?\\xfa\\xb3\\xbc\\xf3\\x80;S.\\x90\\xb40\\xeeC\\xbb+\\xcf\\xe3Z\\xd1\\xf8\\xd0\\xde\\xc6\\xa8\\xc9PH\\xe4\\xd2\\xe2\\x81\\xd0\\nZ\\xf7\\x96\\xc6\\x02R\\xd1E\\x00\\x00sJz\\xd1K\\xedLbb\\xaa\\xea\\x8d\\xb7O\\x90wl\\n\\xb6zU\\r@\\xf9\\x92\\xc3\\x06T\\x1e\\\\\\xe7\\xd0Vu\\xa5\\xcb\\x06\\xc1ng\\xcc\\xb1\\xfd\\x95\\x99\\x94\\x16\\xc6*\\x9d\\xb8A*\\xab!\\x00\\x9e\\x08\\xedW\\xae\\x08\\x9e\\x1c\\x92\\x9c\\'\\x00S\\x11\\x89\\x8e,c\\x03\\x8cW\\x80\\xdd\\xcd\\x0b\\x12\\x12\\xaa\\xae\\x92.\\xd1\\xf9\\xd4\\x17b0\\x81\\x11r\\x1f\\x9e\\r(\\x90\\x07\\xdc#\\xf9Tc\\x04\\xf5\\xa4vV\\x9dX\\xae\\xd5\\'h\\x02\\x92\\x19^(\\xfc\\x93\\xb4g\\x07\\x9ej\\xe4h\\x00\\xc9`\\\\\\xf4&\\x99$\\xc8\\x1bf\\x06\\xf0x#\\xd2\\xa2%\\xcbeA\\x0c9\\xe7\\xf5\\xa0E\\xcd\\xab\\x91\\xda\\xa4b\\xa5c\\n\\x87\\x00u\\xaa\\x8adp\\xa2A\\x8f\\xc2\\xa5iAq\\x1a\\x9e\\x07Z\\x06\\x05B\\xaa\\x9e\\xc3\\x80\\x05Ip\\xf2\\x14M\\xac\\x0b\\x05\\'\\xff\\x00\\xadQ;\\x98\\xb2\\xa3\\x04\\xf1\\x8aG\\x93<q\\xe5\\x9e\\xc2\\x80\\x1c\\xaea\\x88D\\x07\\\\s\\xd8\\x8f\\xad<I\\xb4\\x86^\\x0er*\\x16I\\x04{s\\xf2\\x7fs\\xb5$+\\'\\xca\\x8f\\xc8\\x1d\\xfd)\\x012\\xaf\\xcb\\xc6A\\xebR\\xc5$I*\\xb4\\xa0\\xec=qQ\\xa9\\xf2\\xfeS\\x8d\\xc3<\\xd31\\xbb\\xe9L\\x92Gx\\xd9\\x8e\\xcc\\xed\\xed\\x9a2\\x98\\x1f\\'>\\xb4\\xc5Q\\x9e\\x18d\\nr\\x00[\\x05\\xc0\\xcf\\xafJ\\x06X\\xb3\\x81n\\' \\x90\\xcc\\xa0\\x90\\xa4\\xe3&\\xa4\\xb9\\x81\\x9edq\\x1a\\t\\xa5<\\x84\\xc98\\xed\\xfaU8\\x16H$\\xde\\xb2\\x03\\xb9Hb\\x00<\\x1a`-\\xbfqf9\\x18\\xc9=\\xa8)2y\\xe2\\x92\\x19\\x8a\\xbe3\\x8e\\xb4\\xc0\\x8cT\\x1d\\xa3\\xa7\\x14\\xdf,\\xa9\\xc2\\xd3\\x95\\xb7\\xfc\\xb8\\xc1Q\\x8c\\x81HhG\\xc1x\\x8c98\\xe0\\xae:\\xe6\\x86\\x91^\\xe9\\xcb\\xaa\\x8e0\\xa0\\xf5\\xe3\\xb7\\xe9Vah``\\x06Y\\x95K\\x17\\xc7C\\xdb\\xf5\\xaaWl\\xf2\\xdd\\x95\\x90\\x1c\\xb79\\xf4\\xcfj.\"\\xce\\xf6\\x92\"\\xd1\\x06\\x12\\xaf\\xccO\\xb7\\xf9\\xc5Cuz\\xb2\\xbd\\x92d\\x80\\x1cn\\xc8\\xe0\\xf1\\xc5Kl\\x82YRy\\n\\xc5\\x1a\\x8d\\xa5G\\xf1~5Z{\\x11\\x15\\xab\\xa3\\x13\\xe6\\x03\\x8d\\xc0}\\xd2\\x0f\\x1c\\xd6\\xb4\\xa5\\xcb$\\xc6\\xd6\\x86\\xcf\\x18\\xc0\\xa5\\xaazu\\xdf\\xda \\xc3\\xf1*p\\xc3\\xde\\xaeW\\xbd\\x19)+\\xa3\\x9c(\\xa2\\x8a\\xa0\\nu6\\x96\\x80\\x14\\xf4\\xac\\x1b\\xa9\\xbc\\xdb\\xc2\\xc0q\\xf7A\\xadK\\xb7w\\x1eD oe<\\xe7\\xa0\\xaa0\\xc2\\xaa\\xae\\x1a,\\x903\\x96$W\\x9d\\x8d\\xab\\xa7\"*1\\xbe\\xa4\\x0f\\xb5~\\\\v\\xe2\\x84vC\\xb7an\\xe0\\x8e\\x958\\x8c\\xcb\\x02\\xb2\\x15 \\x9c\\x05=~\\xbfJk\\xaf\\x92|\\xb5\\x93s\\xe7\\xf8O\\x15\\xe6\"\\xca\\xcf\\x01C\\x1bI\\xc2\\x96\\xc0\\x1e\\x82\\xb4\\xfc\\x98\\x8d\\xab\\xc8\\x8aU\\x97\\x90\\xd8\\xebTH&b\\xd9;W\\xee\\x8e\\xa2\\xa4(\\xd9\\x08f8#*\\xbf\\xe3\\xfaS(\\x85\\xad\\xfc\\xce\\x03\\x98\\xca\\xe0\\xee\\xab\\x0fx\\xfe[BXv\\x04\\x84\\xc98\\xebQ\\x0c\\x90U\\xbe\\xe8<`g4\\xa1\\x1eF$\\r\\xa7\\x9e\\xdc\\x9aB\\x1c\\xac\\x98\\xdarOP)\\x19S\\xe5\\xe0\\xaf\\xa6;R*m\\x07s\\x9e\\xb8\\x14\\xb1\\xe3\\xf8GC\\x91@\\ruR\\tR\\xc5\\xbf\\xc2\\xa4\\xb6{w\\x85\\xa3!\\x84\\xd8=*7\\x04\\x03\\xceX\\x9e\\x9e\\x94\\xdd\\xac\\xf2/<\\x11\\xfaP\\x05\\x87\\xc8\\xc9\\xcf^\\xe4SC\\x12\\x90l\\xe8T\\xee\\xf7\\xe6\\xacG\\n\\xf9e\\xee\\x1blx\\xc0\\xe7\\x96>\\xd5\\x01+\\xe6\\x85\\x8dH\\x03\\xe5_z\\x00a\\x19\\xf5\\xdd\\x9e\\xf4\\xe2\\x0e\\x01$~\\x14\\xa5J}\\xf5*}\\xe9\\xa5\\x1c\\xa6\\xf0\\x8d\\xb3\\xfb\\xdd\\xa8$r\\xe1[!\\x81=zR,\\x88\\xec\\xe1X\\xee\\x1c\\x1e8\\xa7E\\x0f\\x99\\x1b\\xe5\\xb0Td{\\xfbR D\\x0c\\xa1F\\x01\\xe4\\xfa\\xd04!S\\xf5\\xa5\\x18\\'\\x8e\\x94\\xe8\\xe706\\xf4@\\xdf\\xefR4\\x85\\xb2\\xe4\\x01\\x93\\x90\\x07j\\n\\x1d\\n\\xb4\\xd2\\x008\\x1d\\xd8\\xf0\\x054|\\xacN{\\xf5\\xcd:+\\xc9c\\x81\\xa2\\xc0(\\xcd\\x9c\\x91\\xc8\\xa6\\xe7 m\\x1c\\x93\\xde\\x90\"kvSr7\\xbe\\xd1\\xc9\\xc9\\xe9\\x8cr)\\xf8\\x89\\xe4@\\xb2\\xa1L\\x13\\x8c\\x0e\\xbc\\xf0}*\\r\\xb0;H\\xad\\x82?\\x84\\x1c\\x8c\\x9f\\xad\\x12\\xddC\\r\\xdcM\\x0cJ\\x80\\x1d\\xae\\x06pq\\xfc\\xa8(\\xd0\\xb7\\xb7\\x86\\xe6\\xea(\\x19\\xe1\\x8a\\xdc+\\x82A$\\x96\\x03\\x8e)\\xd2\\xe9\\xa2\\xdeI\\xad\\xee\"r#p\\xd9F\\xce{\\xf4\\xaa~\\x7f\\x98\\x19\\xca\\xc1\\xf2\\xc9\\x90I\\xc1\\x1cV\\x94wKuy\\x03\\xc1\"\\x8d\\xc9\\xf3\\x97\\xe4\\x9c{\\xd3E\\x14$\\xb5\\xfb\\x1d\\xfd\\xbb)\\xf9fB:w\\x1f\\xfe\\xba\\xb5R\\xeb\\xe8SN\\x8a\\xe4\\xa9Y!pH\\xe8G85\\x02\\xb0\\x91\\x03\\x0e\\x86\\xbd\\x8c\\x1c\\xaf\\x0b\\x1c\\xf3Vc\\xa9qIJz\\xd7a\\x01\\x8cPx\\x07=\\x05-f\\xdf^\\x81\\xfb\\x98\\x8eX\\xf0ML\\xea(F\\xec\\x06\\t<\\xc9\\xe5\\x98\\x93\\xc1\\x01H=\\x00\\xa4\\x94\\x99\\x0eI \\x94\\x03\\x93\\xd6\\xa3rR\\xdd\\xbeL\\x01\\xda\\x9a\\x8aYT\\x96$\\x92\\x00\\x1e\\x82\\xbc\\x1a\\xb3s\\x95\\xcdc\\xb0\\xd1\\xf3d\\x80UG\\'\\x07\\x93\\xf4\\xa6\\xe0lb:t$\\xf64\\xf7&3\\x80rFzRI#tU\\x04\\x8e\\t\\x15\\x99C\\x1ae\\xf9Pd/\\xafz\\xb6\\xc3kg\\x19%pN*\\xb4X\\xf3\\x10.\\xdf|\\xf5\\xab\\x0e\\x02\\x15\\x8cn\\x19\\'\\x9c\\xe7\\'\\x14\\x02\\x1e\\xdb\\x02\\x1c\\x0eH\\x18\\xc7Z\\x87,\\xa3\\xe6\\xce\\xee\\x99\"\\x9c\\x16eT\\x13&\\x14\\x82T\\xfa\\xd3\\x93h\\x047\\xccz\\x83\\x9a\\x00>\\xce\\xeb\\x19m\\xab\\xc7\\xafsQ\\x00C\\x0ct\\xe8i\\x14\\x12\\xa7\\xd8\\x8c\\xe4z\\xd4\\x82/\\x99\\t<s@\\x86\\x8c\\x15R\\t\\xe7\\x83\\x91F\\xc4\\x0f\\xb8g\\x8aWD\\x8c\\xe1\\x81\\xc1\\xe4}i\\xf0\\xc5.2\\xe5q\\xfc\\'\\xbe(\\x01\\x00V\\x81~c\\xbb\\x9c\\x91\\xdc\\xd2l\\n\\x8a\\xccp;b\\x9b\\x95N\\xa4g\\xd0P\\x18\\xf3\\xceFh\\x18\\xa1N\\xfct\\xc7\\'&\\xac\\x19\\xcf\\xd9\\x8c;\\xb7.\\xec\\xfe5\\\\\\x0es\\xc1\\xefJ\\xa7q;\\x88\\x07\\xb5\\x02B\\x8c\\xe4\\x92q\\x9e\\xb4:\\xc6\\x0eP\\xf3\\x9eh\\x07h\\xec}\\xe9\\xacX\\xbe{R\\x00 \\x12\\x06x\\xa7mR\\x9dx\\xa7\"\\x06\\x8c\\xc9\\xc0\\xe7\\xa14\\xc3\\xb5\\x89\\xc1\\xe9\\xd0S\\x10\\x99R\\x81@\\xe6\\x94\\x92H\\xf9s\\xe8\\x05\\x19\\n\\xd9\\x0b\\x9fQOi\\x1d\\x982\\x90\\x83\\xa7\\xcb\\xc5\\x03E\\x9bQ\\xb0\\xc8\\xcc\\x14\\x0c\\x01\\xb7=jY\\xe4-l\\x8b\\x12\\xabHX\\x92\\xe1\\xbbt\\xc5fI#4\\x84\\xaerWi\\xe7\\xadh\\xc0%\\x89\"\\xc8\\x0b\\xb4\\x93\\x81\\xdf\\xa5\"\\xca\\xd3\\x06\\x85W\\xedJK8\\xe8\\xa7\\x1cU\\xdf\\x0f\\xea\\xb6\\xd3\\xc2\\xc8!S\\xe4\\x93\\xb4?ROZ\\xafu9\\x9eC$\\xbb\\xd8\\x8f\\xbc\\x98\\xe7\\x1f\\xe1H\\xdat6\\xd6\\x82\\xee\\x1d\\xd0\\xba0bTu\\x1fZ\\x10\\xcdI\\xa5\\x8ex\\xee\\x12Wo,\\x8c\\x1c\\x9f\\xcb\\x1f\\x9db\\xda]-\\xab\\xbd\\xac\\xc4\\x80\\xa7\\xe4c\\xfcB\\xaf<\\xf1\\xf9%\\xe5\\xb8@\\xe1\\x87\\x0b\\x9eri/R\\xdd\\xad\\x12)#\\xfd\\xd8l\\xb68=k\\xa6\\x85wM\\x935\\xcc9]\\x0f!\\x81\\x1fZ\\x8ak\\xe8!\\x1c\\xb8\\'\\xb0\\x1dk>]>8\\xdc\\xac3JW<|\\xdf\\xce\\x96{{X\\x99\\xb2\\xbe^\\xde9\\xef\\xf5\\xf5\\xae\\xc9c\\x95\\xb4F\\\\\\xa4\\x8f4\\xb7\\x16\\xed\"\\xb0\\x8d7m\\x03\\xb9\\xaa\\x81\\xda6UP\\x19\\xc7#\\x03\\x81R9y\"\\n>X\\xf8\\x1cqRF#X6\\x05\\xcb\\x96\\xfb\\xdd0+\\x8a\\xadyT\\xdc\\x14DU\\x91\\xf3\\xe60\\xdc\\xdc\\x80jK{V\\xb9\\x8eE\\x89\\xdb\\xccF\\r\\xb7nA\\xe7\\xa5@\\xea\\\\\\x8099\\xf5\\xa4Y$\\x86\\xe1B\\x96VV\\xc9\\x00\\xfe\\x95\\x81h\\xb4m\\x9e\\xd5\\t*X\\xb098\\xe83\\x8a\\x94Y\\x15D}\\xc0\\x12\\x0b`\\xe3\\x9cUyn%\\x9dp\\xcd\\xf2\\xee\\xe1y\\xe2\\x9c^_)\\x03\\xe0\\xae8\\xcf\\xa5\\x03\"\\x8d\\x01\\xb9\\xfd\\xda\\x82O$\\xf6\\x07\\xd2\\x9e\\x82L\\x19\\x08\\x19\\xcf;z\\xd4\\xc6\\x15A\\x14\\xf1L\\x189*\\x06y\\x1fZ\\x04{\\x95\\x88a\\xf2\\xf2y\\xa4\\x04\\x13;yQ\\xbb\\xa9ldc\\x1c\\x8alr\\x07\\\\\\x05pO\\xf7\\x96\\x95\\x9c\\xb9#\\x07\\x03\\xa1\\xa3;\\x98\\x8c\\xf1L\\x01U\\xcb\\x96\\xda\\x85\\x14\\x80\\xddsG\\x06N\\xfcq\\x8a\\n4jq\\xca\\xbf\\xbdK\\n\\x86b]H*(\\x10\\xc5I\\t\\x0f1\\xe07\\x1fJ\\xb0>R\\xdb\\xb21\\xedMV\\xe4\\xe4q\\xfc9\\xa6\\x97|\\xe0\\xf2GZC?\\xff\\xd9'>"
            ]
          },
          "metadata": {
            "tags": []
          },
          "execution_count": 20
        }
      ]
    },
    {
      "cell_type": "markdown",
      "metadata": {
        "id": "xdYAsbYMvOVI",
        "colab_type": "text"
      },
      "source": [
        "##解码图片"
      ]
    },
    {
      "cell_type": "code",
      "metadata": {
        "id": "5Hd96jiuWE4f",
        "colab_type": "code",
        "outputId": "69e372b2-d55f-44d0-e77e-9af037f9fd63",
        "colab": {
          "base_uri": "https://localhost:8080/",
          "height": 881
        }
      },
      "source": [
        "#解码图片\n",
        "image_tensor=tf.image.decode_jpeg(img_raw,channels=3)\n",
        "image_tensor=tf.image.resize(image_tensor,[256,256])\n",
        "image_tensor"
      ],
      "execution_count": 0,
      "outputs": [
        {
          "output_type": "execute_result",
          "data": {
            "text/plain": [
              "<tf.Tensor: shape=(256, 256, 3), dtype=float32, numpy=\n",
              "array([[[ 50.,  80.,  56.],\n",
              "        [ 45.,  75.,  51.],\n",
              "        [ 50.,  80.,  56.],\n",
              "        ...,\n",
              "        [ 51.,  76., 116.],\n",
              "        [ 47.,  75., 115.],\n",
              "        [ 46.,  73., 116.]],\n",
              "\n",
              "       [[ 50.,  80.,  56.],\n",
              "        [ 45.,  75.,  51.],\n",
              "        [ 49.,  79.,  55.],\n",
              "        ...,\n",
              "        [ 71.,  96., 137.],\n",
              "        [ 69.,  96., 141.],\n",
              "        [ 69.,  96., 141.]],\n",
              "\n",
              "       [[ 49.,  79.,  55.],\n",
              "        [ 44.,  74.,  50.],\n",
              "        [ 46.,  76.,  52.],\n",
              "        ...,\n",
              "        [ 75.,  98., 148.],\n",
              "        [ 71.,  97., 148.],\n",
              "        [ 70.,  96., 147.]],\n",
              "\n",
              "       ...,\n",
              "\n",
              "       [[ 69.,  88.,  66.],\n",
              "        [ 70.,  89.,  67.],\n",
              "        [ 72.,  91.,  69.],\n",
              "        ...,\n",
              "        [ 69.,  89.,  64.],\n",
              "        [ 69.,  89.,  64.],\n",
              "        [ 69.,  89.,  64.]],\n",
              "\n",
              "       [[ 71.,  90.,  68.],\n",
              "        [ 70.,  89.,  67.],\n",
              "        [ 69.,  88.,  66.],\n",
              "        ...,\n",
              "        [ 73.,  93.,  68.],\n",
              "        [ 72.,  92.,  67.],\n",
              "        [ 70.,  90.,  65.]],\n",
              "\n",
              "       [[ 68.,  87.,  65.],\n",
              "        [ 65.,  84.,  62.],\n",
              "        [ 61.,  80.,  58.],\n",
              "        ...,\n",
              "        [ 77.,  97.,  72.],\n",
              "        [ 76.,  96.,  71.],\n",
              "        [ 73.,  93.,  68.]]], dtype=float32)>"
            ]
          },
          "metadata": {
            "tags": []
          },
          "execution_count": 21
        }
      ]
    },
    {
      "cell_type": "markdown",
      "metadata": {
        "id": "WXJeCQPZvbZ-",
        "colab_type": "text"
      },
      "source": [
        "##转换数据类型"
      ]
    },
    {
      "cell_type": "code",
      "metadata": {
        "id": "B3_FWmCYMIeJ",
        "colab_type": "code",
        "outputId": "05351dd9-4723-4c1e-efc9-9e70c0ac4db3",
        "colab": {
          "base_uri": "https://localhost:8080/"
        }
      },
      "source": [
        "image_tensor=tf.cast(image_tensor,tf.float32)#转换数据类型\n",
        "#图片标准化处理\n",
        "image_tensor=image_tensor/255\n",
        "#我们查看下这个图片,看到底是不是范围是0-1\n",
        "image_tensor.numpy().max()\n",
        "image_tensor.numpy().min()"
      ],
      "execution_count": 0,
      "outputs": [
        {
          "output_type": "execute_result",
          "data": {
            "text/plain": [
              "0.0"
            ]
          },
          "metadata": {
            "tags": []
          },
          "execution_count": 22
        }
      ]
    },
    {
      "cell_type": "markdown",
      "metadata": {
        "id": "dnqJhV0FqNFI",
        "colab_type": "text"
      },
      "source": [
        "以上呢，是对单一图片的整个处理方式：\n",
        "\n",
        "1. 读取这张图片\n",
        "\n",
        "2. 对图片进行解码\n",
        "\n",
        "3. 转换图片数据类型与标准化\n",
        "\n",
        "\n",
        "接下来，我们写一个函数来对整个图片数据集进行处理："
      ]
    },
    {
      "cell_type": "code",
      "metadata": {
        "id": "LIkc5HEFsLK1",
        "colab_type": "code",
        "colab": {}
      },
      "source": [
        "def load_preprosess_image(image_path):\n",
        "  img_raw=tf.io.read_file(img_path)#读取路径\n",
        "  image_tensor=tf.image.decode_jpeg(img_raw,channels=3)#解码图片,3代表解析的是彩色图片\n",
        "  image_tensor=tf.image.resize(image_tensor,size=[256,256])#图片可能会变形,告诉tensorflow大小是256×256\n",
        "  image_tensor=tf.cast(image_tensor,tf.float32)#转换数据类型\n",
        "  image_tensor=image_tensor/255#标准化操作\n",
        "  return image_tensor #返回处理结果"
      ],
      "execution_count": 0,
      "outputs": []
    },
    {
      "cell_type": "code",
      "metadata": {
        "id": "vYf9NXnQwWkS",
        "colab_type": "code",
        "outputId": "53288676-bf1e-4517-d988-79dd8fa9e287",
        "colab": {
          "base_uri": "https://localhost:8080/"
        }
      },
      "source": [
        "image_path_test=all_image_path[100]\n",
        "plt.imshow(load_preprosess_image(image_path_test))#调用并画出来"
      ],
      "execution_count": 0,
      "outputs": [
        {
          "output_type": "execute_result",
          "data": {
            "text/plain": [
              "<matplotlib.image.AxesImage at 0x7f5e803eec88>"
            ]
          },
          "metadata": {
            "tags": []
          },
          "execution_count": 24
        },
        {
          "output_type": "display_data",
          "data": {
            "image/png": "[encoded data removed]",
            "text/plain": [
              "<Figure size 432x288 with 1 Axes>"
            ]
          },
          "metadata": {
            "tags": []
          }
        }
      ]
    },
    {
      "cell_type": "markdown",
      "metadata": {
        "id": "_e2ADhm0Gf80",
        "colab_type": "text"
      },
      "source": [
        "##构造tf.data"
      ]
    },
    {
      "cell_type": "code",
      "metadata": {
        "id": "rsrExK5eGezs",
        "colab_type": "code",
        "outputId": "1797b55f-faf0-4516-c46b-4f20f37c79ee",
        "colab": {
          "base_uri": "https://localhost:8080/"
        }
      },
      "source": [
        "path_ds=tf.data.Dataset.from_tensor_slices(all_image_path)\n",
        "image_dataset=path_ds.map(load_preprosess_image)#建造数据集\n",
        "image_dataset"
      ],
      "execution_count": 0,
      "outputs": [
        {
          "output_type": "execute_result",
          "data": {
            "text/plain": [
              "<MapDataset shapes: (256, 256, 3), types: tf.float32>"
            ]
          },
          "metadata": {
            "tags": []
          },
          "execution_count": 25
        }
      ]
    },
    {
      "cell_type": "code",
      "metadata": {
        "id": "VVUV_8hxrUE6",
        "colab_type": "code",
        "colab": {}
      },
      "source": [
        "#对image_dataset的类型进行转换，我们知道他的图片格式是256×256×3\n",
        "#为什么他没有显示出来呢"
      ],
      "execution_count": 0,
      "outputs": []
    },
    {
      "cell_type": "markdown",
      "metadata": {
        "id": "qkf5JAPtKu0A",
        "colab_type": "text"
      },
      "source": [
        "##构造label"
      ]
    },
    {
      "cell_type": "code",
      "metadata": {
        "id": "xfSzCt9uKtqV",
        "colab_type": "code",
        "colab": {}
      },
      "source": [
        "label_dataset=tf.data.Dataset.from_tensor_slices(all_image_labe)"
      ],
      "execution_count": 0,
      "outputs": []
    },
    {
      "cell_type": "markdown",
      "metadata": {
        "id": "om-Dcsp-MUdM",
        "colab_type": "text"
      },
      "source": [
        "##测试下标签"
      ]
    },
    {
      "cell_type": "code",
      "metadata": {
        "id": "agAgBJ5kMY-b",
        "colab_type": "code",
        "outputId": "e9fcaa74-ffea-4c9b-dbd6-b12cbcedaa09",
        "colab": {
          "base_uri": "https://localhost:8080/",
          "height": 1000
        }
      },
      "source": [
        "for label in label_dataset:\n",
        "  print(label)"
      ],
      "execution_count": 0,
      "outputs": [
        {
          "output_type": "stream",
          "text": [
            "tf.Tensor(1, shape=(), dtype=int32)\n",
            "tf.Tensor(1, shape=(), dtype=int32)\n",
            "tf.Tensor(1, shape=(), dtype=int32)\n",
            "tf.Tensor(1, shape=(), dtype=int32)\n",
            "tf.Tensor(0, shape=(), dtype=int32)\n",
            "tf.Tensor(0, shape=(), dtype=int32)\n",
            "tf.Tensor(1, shape=(), dtype=int32)\n",
            "tf.Tensor(0, shape=(), dtype=int32)\n",
            "tf.Tensor(0, shape=(), dtype=int32)\n",
            "tf.Tensor(0, shape=(), dtype=int32)\n",
            "tf.Tensor(0, shape=(), dtype=int32)\n",
            "tf.Tensor(1, shape=(), dtype=int32)\n",
            "tf.Tensor(1, shape=(), dtype=int32)\n",
            "tf.Tensor(1, shape=(), dtype=int32)\n",
            "tf.Tensor(0, shape=(), dtype=int32)\n",
            "tf.Tensor(0, shape=(), dtype=int32)\n",
            "tf.Tensor(0, shape=(), dtype=int32)\n",
            "tf.Tensor(0, shape=(), dtype=int32)\n",
            "tf.Tensor(1, shape=(), dtype=int32)\n",
            "tf.Tensor(1, shape=(), dtype=int32)\n",
            "tf.Tensor(0, shape=(), dtype=int32)\n",
            "tf.Tensor(1, shape=(), dtype=int32)\n",
            "tf.Tensor(1, shape=(), dtype=int32)\n",
            "tf.Tensor(1, shape=(), dtype=int32)\n",
            "tf.Tensor(0, shape=(), dtype=int32)\n",
            "tf.Tensor(0, shape=(), dtype=int32)\n",
            "tf.Tensor(0, shape=(), dtype=int32)\n",
            "tf.Tensor(0, shape=(), dtype=int32)\n",
            "tf.Tensor(1, shape=(), dtype=int32)\n",
            "tf.Tensor(1, shape=(), dtype=int32)\n",
            "tf.Tensor(1, shape=(), dtype=int32)\n",
            "tf.Tensor(1, shape=(), dtype=int32)\n",
            "tf.Tensor(1, shape=(), dtype=int32)\n",
            "tf.Tensor(0, shape=(), dtype=int32)\n",
            "tf.Tensor(1, shape=(), dtype=int32)\n",
            "tf.Tensor(1, shape=(), dtype=int32)\n",
            "tf.Tensor(1, shape=(), dtype=int32)\n",
            "tf.Tensor(0, shape=(), dtype=int32)\n",
            "tf.Tensor(0, shape=(), dtype=int32)\n",
            "tf.Tensor(1, shape=(), dtype=int32)\n",
            "tf.Tensor(0, shape=(), dtype=int32)\n",
            "tf.Tensor(1, shape=(), dtype=int32)\n",
            "tf.Tensor(1, shape=(), dtype=int32)\n",
            "tf.Tensor(0, shape=(), dtype=int32)\n",
            "tf.Tensor(0, shape=(), dtype=int32)\n",
            "tf.Tensor(0, shape=(), dtype=int32)\n",
            "tf.Tensor(1, shape=(), dtype=int32)\n",
            "tf.Tensor(0, shape=(), dtype=int32)\n",
            "tf.Tensor(1, shape=(), dtype=int32)\n",
            "tf.Tensor(1, shape=(), dtype=int32)\n",
            "tf.Tensor(0, shape=(), dtype=int32)\n",
            "tf.Tensor(1, shape=(), dtype=int32)\n",
            "tf.Tensor(0, shape=(), dtype=int32)\n",
            "tf.Tensor(0, shape=(), dtype=int32)\n",
            "tf.Tensor(1, shape=(), dtype=int32)\n",
            "tf.Tensor(0, shape=(), dtype=int32)\n",
            "tf.Tensor(0, shape=(), dtype=int32)\n",
            "tf.Tensor(1, shape=(), dtype=int32)\n",
            "tf.Tensor(0, shape=(), dtype=int32)\n",
            "tf.Tensor(0, shape=(), dtype=int32)\n",
            "tf.Tensor(0, shape=(), dtype=int32)\n",
            "tf.Tensor(0, shape=(), dtype=int32)\n",
            "tf.Tensor(0, shape=(), dtype=int32)\n",
            "tf.Tensor(0, shape=(), dtype=int32)\n",
            "tf.Tensor(1, shape=(), dtype=int32)\n",
            "tf.Tensor(0, shape=(), dtype=int32)\n",
            "tf.Tensor(1, shape=(), dtype=int32)\n",
            "tf.Tensor(0, shape=(), dtype=int32)\n",
            "tf.Tensor(1, shape=(), dtype=int32)\n",
            "tf.Tensor(1, shape=(), dtype=int32)\n",
            "tf.Tensor(1, shape=(), dtype=int32)\n",
            "tf.Tensor(1, shape=(), dtype=int32)\n",
            "tf.Tensor(1, shape=(), dtype=int32)\n",
            "tf.Tensor(0, shape=(), dtype=int32)\n",
            "tf.Tensor(1, shape=(), dtype=int32)\n",
            "tf.Tensor(0, shape=(), dtype=int32)\n",
            "tf.Tensor(0, shape=(), dtype=int32)\n",
            "tf.Tensor(0, shape=(), dtype=int32)\n",
            "tf.Tensor(0, shape=(), dtype=int32)\n",
            "tf.Tensor(1, shape=(), dtype=int32)\n",
            "tf.Tensor(1, shape=(), dtype=int32)\n",
            "tf.Tensor(1, shape=(), dtype=int32)\n",
            "tf.Tensor(0, shape=(), dtype=int32)\n",
            "tf.Tensor(1, shape=(), dtype=int32)\n",
            "tf.Tensor(0, shape=(), dtype=int32)\n",
            "tf.Tensor(0, shape=(), dtype=int32)\n",
            "tf.Tensor(1, shape=(), dtype=int32)\n",
            "tf.Tensor(0, shape=(), dtype=int32)\n",
            "tf.Tensor(1, shape=(), dtype=int32)\n",
            "tf.Tensor(1, shape=(), dtype=int32)\n",
            "tf.Tensor(0, shape=(), dtype=int32)\n",
            "tf.Tensor(0, shape=(), dtype=int32)\n",
            "tf.Tensor(1, shape=(), dtype=int32)\n",
            "tf.Tensor(0, shape=(), dtype=int32)\n",
            "tf.Tensor(0, shape=(), dtype=int32)\n",
            "tf.Tensor(0, shape=(), dtype=int32)\n",
            "tf.Tensor(0, shape=(), dtype=int32)\n",
            "tf.Tensor(0, shape=(), dtype=int32)\n",
            "tf.Tensor(1, shape=(), dtype=int32)\n",
            "tf.Tensor(0, shape=(), dtype=int32)\n",
            "tf.Tensor(0, shape=(), dtype=int32)\n",
            "tf.Tensor(0, shape=(), dtype=int32)\n",
            "tf.Tensor(1, shape=(), dtype=int32)\n",
            "tf.Tensor(1, shape=(), dtype=int32)\n",
            "tf.Tensor(0, shape=(), dtype=int32)\n",
            "tf.Tensor(1, shape=(), dtype=int32)\n",
            "tf.Tensor(0, shape=(), dtype=int32)\n",
            "tf.Tensor(1, shape=(), dtype=int32)\n",
            "tf.Tensor(0, shape=(), dtype=int32)\n",
            "tf.Tensor(1, shape=(), dtype=int32)\n",
            "tf.Tensor(0, shape=(), dtype=int32)\n",
            "tf.Tensor(0, shape=(), dtype=int32)\n",
            "tf.Tensor(1, shape=(), dtype=int32)\n",
            "tf.Tensor(0, shape=(), dtype=int32)\n",
            "tf.Tensor(1, shape=(), dtype=int32)\n",
            "tf.Tensor(1, shape=(), dtype=int32)\n",
            "tf.Tensor(0, shape=(), dtype=int32)\n",
            "tf.Tensor(1, shape=(), dtype=int32)\n",
            "tf.Tensor(1, shape=(), dtype=int32)\n",
            "tf.Tensor(1, shape=(), dtype=int32)\n",
            "tf.Tensor(1, shape=(), dtype=int32)\n",
            "tf.Tensor(0, shape=(), dtype=int32)\n",
            "tf.Tensor(1, shape=(), dtype=int32)\n",
            "tf.Tensor(1, shape=(), dtype=int32)\n",
            "tf.Tensor(1, shape=(), dtype=int32)\n",
            "tf.Tensor(0, shape=(), dtype=int32)\n",
            "tf.Tensor(0, shape=(), dtype=int32)\n",
            "tf.Tensor(0, shape=(), dtype=int32)\n",
            "tf.Tensor(0, shape=(), dtype=int32)\n",
            "tf.Tensor(1, shape=(), dtype=int32)\n",
            "tf.Tensor(1, shape=(), dtype=int32)\n",
            "tf.Tensor(1, shape=(), dtype=int32)\n",
            "tf.Tensor(1, shape=(), dtype=int32)\n",
            "tf.Tensor(0, shape=(), dtype=int32)\n",
            "tf.Tensor(1, shape=(), dtype=int32)\n",
            "tf.Tensor(0, shape=(), dtype=int32)\n",
            "tf.Tensor(0, shape=(), dtype=int32)\n",
            "tf.Tensor(0, shape=(), dtype=int32)\n",
            "tf.Tensor(1, shape=(), dtype=int32)\n",
            "tf.Tensor(1, shape=(), dtype=int32)\n",
            "tf.Tensor(1, shape=(), dtype=int32)\n",
            "tf.Tensor(0, shape=(), dtype=int32)\n",
            "tf.Tensor(1, shape=(), dtype=int32)\n",
            "tf.Tensor(0, shape=(), dtype=int32)\n",
            "tf.Tensor(0, shape=(), dtype=int32)\n",
            "tf.Tensor(1, shape=(), dtype=int32)\n",
            "tf.Tensor(0, shape=(), dtype=int32)\n",
            "tf.Tensor(0, shape=(), dtype=int32)\n",
            "tf.Tensor(0, shape=(), dtype=int32)\n",
            "tf.Tensor(1, shape=(), dtype=int32)\n",
            "tf.Tensor(0, shape=(), dtype=int32)\n",
            "tf.Tensor(0, shape=(), dtype=int32)\n",
            "tf.Tensor(0, shape=(), dtype=int32)\n",
            "tf.Tensor(1, shape=(), dtype=int32)\n",
            "tf.Tensor(0, shape=(), dtype=int32)\n",
            "tf.Tensor(1, shape=(), dtype=int32)\n",
            "tf.Tensor(1, shape=(), dtype=int32)\n",
            "tf.Tensor(0, shape=(), dtype=int32)\n",
            "tf.Tensor(0, shape=(), dtype=int32)\n",
            "tf.Tensor(0, shape=(), dtype=int32)\n",
            "tf.Tensor(0, shape=(), dtype=int32)\n",
            "tf.Tensor(0, shape=(), dtype=int32)\n",
            "tf.Tensor(1, shape=(), dtype=int32)\n",
            "tf.Tensor(0, shape=(), dtype=int32)\n",
            "tf.Tensor(0, shape=(), dtype=int32)\n",
            "tf.Tensor(0, shape=(), dtype=int32)\n",
            "tf.Tensor(0, shape=(), dtype=int32)\n",
            "tf.Tensor(1, shape=(), dtype=int32)\n",
            "tf.Tensor(1, shape=(), dtype=int32)\n",
            "tf.Tensor(0, shape=(), dtype=int32)\n",
            "tf.Tensor(1, shape=(), dtype=int32)\n",
            "tf.Tensor(1, shape=(), dtype=int32)\n",
            "tf.Tensor(1, shape=(), dtype=int32)\n",
            "tf.Tensor(1, shape=(), dtype=int32)\n",
            "tf.Tensor(0, shape=(), dtype=int32)\n",
            "tf.Tensor(1, shape=(), dtype=int32)\n",
            "tf.Tensor(0, shape=(), dtype=int32)\n",
            "tf.Tensor(0, shape=(), dtype=int32)\n",
            "tf.Tensor(0, shape=(), dtype=int32)\n",
            "tf.Tensor(1, shape=(), dtype=int32)\n",
            "tf.Tensor(1, shape=(), dtype=int32)\n",
            "tf.Tensor(1, shape=(), dtype=int32)\n",
            "tf.Tensor(1, shape=(), dtype=int32)\n",
            "tf.Tensor(1, shape=(), dtype=int32)\n",
            "tf.Tensor(0, shape=(), dtype=int32)\n",
            "tf.Tensor(1, shape=(), dtype=int32)\n",
            "tf.Tensor(0, shape=(), dtype=int32)\n",
            "tf.Tensor(1, shape=(), dtype=int32)\n",
            "tf.Tensor(0, shape=(), dtype=int32)\n",
            "tf.Tensor(1, shape=(), dtype=int32)\n",
            "tf.Tensor(0, shape=(), dtype=int32)\n",
            "tf.Tensor(0, shape=(), dtype=int32)\n",
            "tf.Tensor(1, shape=(), dtype=int32)\n",
            "tf.Tensor(0, shape=(), dtype=int32)\n",
            "tf.Tensor(1, shape=(), dtype=int32)\n",
            "tf.Tensor(0, shape=(), dtype=int32)\n",
            "tf.Tensor(0, shape=(), dtype=int32)\n",
            "tf.Tensor(0, shape=(), dtype=int32)\n",
            "tf.Tensor(1, shape=(), dtype=int32)\n",
            "tf.Tensor(0, shape=(), dtype=int32)\n",
            "tf.Tensor(1, shape=(), dtype=int32)\n",
            "tf.Tensor(1, shape=(), dtype=int32)\n",
            "tf.Tensor(0, shape=(), dtype=int32)\n",
            "tf.Tensor(0, shape=(), dtype=int32)\n",
            "tf.Tensor(1, shape=(), dtype=int32)\n",
            "tf.Tensor(1, shape=(), dtype=int32)\n",
            "tf.Tensor(0, shape=(), dtype=int32)\n",
            "tf.Tensor(1, shape=(), dtype=int32)\n",
            "tf.Tensor(1, shape=(), dtype=int32)\n",
            "tf.Tensor(0, shape=(), dtype=int32)\n",
            "tf.Tensor(0, shape=(), dtype=int32)\n",
            "tf.Tensor(1, shape=(), dtype=int32)\n",
            "tf.Tensor(1, shape=(), dtype=int32)\n",
            "tf.Tensor(0, shape=(), dtype=int32)\n",
            "tf.Tensor(1, shape=(), dtype=int32)\n",
            "tf.Tensor(1, shape=(), dtype=int32)\n",
            "tf.Tensor(0, shape=(), dtype=int32)\n",
            "tf.Tensor(0, shape=(), dtype=int32)\n",
            "tf.Tensor(0, shape=(), dtype=int32)\n",
            "tf.Tensor(1, shape=(), dtype=int32)\n",
            "tf.Tensor(0, shape=(), dtype=int32)\n",
            "tf.Tensor(0, shape=(), dtype=int32)\n",
            "tf.Tensor(0, shape=(), dtype=int32)\n",
            "tf.Tensor(0, shape=(), dtype=int32)\n",
            "tf.Tensor(1, shape=(), dtype=int32)\n",
            "tf.Tensor(1, shape=(), dtype=int32)\n",
            "tf.Tensor(0, shape=(), dtype=int32)\n",
            "tf.Tensor(1, shape=(), dtype=int32)\n",
            "tf.Tensor(0, shape=(), dtype=int32)\n",
            "tf.Tensor(0, shape=(), dtype=int32)\n",
            "tf.Tensor(1, shape=(), dtype=int32)\n",
            "tf.Tensor(1, shape=(), dtype=int32)\n",
            "tf.Tensor(0, shape=(), dtype=int32)\n",
            "tf.Tensor(0, shape=(), dtype=int32)\n",
            "tf.Tensor(0, shape=(), dtype=int32)\n",
            "tf.Tensor(1, shape=(), dtype=int32)\n",
            "tf.Tensor(0, shape=(), dtype=int32)\n",
            "tf.Tensor(0, shape=(), dtype=int32)\n",
            "tf.Tensor(1, shape=(), dtype=int32)\n",
            "tf.Tensor(0, shape=(), dtype=int32)\n",
            "tf.Tensor(0, shape=(), dtype=int32)\n",
            "tf.Tensor(1, shape=(), dtype=int32)\n",
            "tf.Tensor(0, shape=(), dtype=int32)\n",
            "tf.Tensor(0, shape=(), dtype=int32)\n",
            "tf.Tensor(1, shape=(), dtype=int32)\n",
            "tf.Tensor(0, shape=(), dtype=int32)\n",
            "tf.Tensor(0, shape=(), dtype=int32)\n",
            "tf.Tensor(1, shape=(), dtype=int32)\n",
            "tf.Tensor(1, shape=(), dtype=int32)\n",
            "tf.Tensor(0, shape=(), dtype=int32)\n",
            "tf.Tensor(1, shape=(), dtype=int32)\n",
            "tf.Tensor(0, shape=(), dtype=int32)\n",
            "tf.Tensor(0, shape=(), dtype=int32)\n",
            "tf.Tensor(1, shape=(), dtype=int32)\n",
            "tf.Tensor(0, shape=(), dtype=int32)\n",
            "tf.Tensor(1, shape=(), dtype=int32)\n",
            "tf.Tensor(1, shape=(), dtype=int32)\n",
            "tf.Tensor(0, shape=(), dtype=int32)\n",
            "tf.Tensor(1, shape=(), dtype=int32)\n",
            "tf.Tensor(0, shape=(), dtype=int32)\n",
            "tf.Tensor(1, shape=(), dtype=int32)\n",
            "tf.Tensor(0, shape=(), dtype=int32)\n",
            "tf.Tensor(1, shape=(), dtype=int32)\n",
            "tf.Tensor(0, shape=(), dtype=int32)\n",
            "tf.Tensor(1, shape=(), dtype=int32)\n",
            "tf.Tensor(1, shape=(), dtype=int32)\n",
            "tf.Tensor(1, shape=(), dtype=int32)\n",
            "tf.Tensor(0, shape=(), dtype=int32)\n",
            "tf.Tensor(1, shape=(), dtype=int32)\n",
            "tf.Tensor(0, shape=(), dtype=int32)\n",
            "tf.Tensor(0, shape=(), dtype=int32)\n",
            "tf.Tensor(0, shape=(), dtype=int32)\n",
            "tf.Tensor(0, shape=(), dtype=int32)\n",
            "tf.Tensor(0, shape=(), dtype=int32)\n",
            "tf.Tensor(1, shape=(), dtype=int32)\n",
            "tf.Tensor(1, shape=(), dtype=int32)\n",
            "tf.Tensor(0, shape=(), dtype=int32)\n",
            "tf.Tensor(1, shape=(), dtype=int32)\n",
            "tf.Tensor(0, shape=(), dtype=int32)\n",
            "tf.Tensor(1, shape=(), dtype=int32)\n",
            "tf.Tensor(1, shape=(), dtype=int32)\n",
            "tf.Tensor(0, shape=(), dtype=int32)\n",
            "tf.Tensor(1, shape=(), dtype=int32)\n",
            "tf.Tensor(1, shape=(), dtype=int32)\n",
            "tf.Tensor(0, shape=(), dtype=int32)\n",
            "tf.Tensor(0, shape=(), dtype=int32)\n",
            "tf.Tensor(1, shape=(), dtype=int32)\n",
            "tf.Tensor(1, shape=(), dtype=int32)\n",
            "tf.Tensor(0, shape=(), dtype=int32)\n",
            "tf.Tensor(1, shape=(), dtype=int32)\n",
            "tf.Tensor(0, shape=(), dtype=int32)\n",
            "tf.Tensor(1, shape=(), dtype=int32)\n",
            "tf.Tensor(0, shape=(), dtype=int32)\n",
            "tf.Tensor(1, shape=(), dtype=int32)\n",
            "tf.Tensor(1, shape=(), dtype=int32)\n",
            "tf.Tensor(1, shape=(), dtype=int32)\n",
            "tf.Tensor(1, shape=(), dtype=int32)\n",
            "tf.Tensor(1, shape=(), dtype=int32)\n",
            "tf.Tensor(1, shape=(), dtype=int32)\n",
            "tf.Tensor(0, shape=(), dtype=int32)\n",
            "tf.Tensor(1, shape=(), dtype=int32)\n",
            "tf.Tensor(1, shape=(), dtype=int32)\n",
            "tf.Tensor(1, shape=(), dtype=int32)\n",
            "tf.Tensor(0, shape=(), dtype=int32)\n",
            "tf.Tensor(1, shape=(), dtype=int32)\n",
            "tf.Tensor(0, shape=(), dtype=int32)\n",
            "tf.Tensor(0, shape=(), dtype=int32)\n",
            "tf.Tensor(0, shape=(), dtype=int32)\n",
            "tf.Tensor(0, shape=(), dtype=int32)\n",
            "tf.Tensor(0, shape=(), dtype=int32)\n",
            "tf.Tensor(1, shape=(), dtype=int32)\n",
            "tf.Tensor(0, shape=(), dtype=int32)\n",
            "tf.Tensor(0, shape=(), dtype=int32)\n",
            "tf.Tensor(0, shape=(), dtype=int32)\n",
            "tf.Tensor(0, shape=(), dtype=int32)\n",
            "tf.Tensor(0, shape=(), dtype=int32)\n",
            "tf.Tensor(1, shape=(), dtype=int32)\n",
            "tf.Tensor(0, shape=(), dtype=int32)\n",
            "tf.Tensor(0, shape=(), dtype=int32)\n",
            "tf.Tensor(1, shape=(), dtype=int32)\n",
            "tf.Tensor(1, shape=(), dtype=int32)\n",
            "tf.Tensor(1, shape=(), dtype=int32)\n",
            "tf.Tensor(0, shape=(), dtype=int32)\n",
            "tf.Tensor(0, shape=(), dtype=int32)\n",
            "tf.Tensor(0, shape=(), dtype=int32)\n",
            "tf.Tensor(1, shape=(), dtype=int32)\n",
            "tf.Tensor(1, shape=(), dtype=int32)\n",
            "tf.Tensor(0, shape=(), dtype=int32)\n",
            "tf.Tensor(0, shape=(), dtype=int32)\n",
            "tf.Tensor(0, shape=(), dtype=int32)\n",
            "tf.Tensor(1, shape=(), dtype=int32)\n",
            "tf.Tensor(0, shape=(), dtype=int32)\n",
            "tf.Tensor(1, shape=(), dtype=int32)\n",
            "tf.Tensor(1, shape=(), dtype=int32)\n",
            "tf.Tensor(1, shape=(), dtype=int32)\n",
            "tf.Tensor(0, shape=(), dtype=int32)\n",
            "tf.Tensor(1, shape=(), dtype=int32)\n",
            "tf.Tensor(1, shape=(), dtype=int32)\n",
            "tf.Tensor(0, shape=(), dtype=int32)\n",
            "tf.Tensor(1, shape=(), dtype=int32)\n",
            "tf.Tensor(1, shape=(), dtype=int32)\n",
            "tf.Tensor(0, shape=(), dtype=int32)\n",
            "tf.Tensor(1, shape=(), dtype=int32)\n",
            "tf.Tensor(1, shape=(), dtype=int32)\n",
            "tf.Tensor(1, shape=(), dtype=int32)\n",
            "tf.Tensor(0, shape=(), dtype=int32)\n",
            "tf.Tensor(1, shape=(), dtype=int32)\n",
            "tf.Tensor(0, shape=(), dtype=int32)\n",
            "tf.Tensor(1, shape=(), dtype=int32)\n",
            "tf.Tensor(1, shape=(), dtype=int32)\n",
            "tf.Tensor(1, shape=(), dtype=int32)\n",
            "tf.Tensor(0, shape=(), dtype=int32)\n",
            "tf.Tensor(1, shape=(), dtype=int32)\n",
            "tf.Tensor(1, shape=(), dtype=int32)\n",
            "tf.Tensor(1, shape=(), dtype=int32)\n",
            "tf.Tensor(0, shape=(), dtype=int32)\n",
            "tf.Tensor(0, shape=(), dtype=int32)\n",
            "tf.Tensor(1, shape=(), dtype=int32)\n",
            "tf.Tensor(1, shape=(), dtype=int32)\n",
            "tf.Tensor(1, shape=(), dtype=int32)\n",
            "tf.Tensor(1, shape=(), dtype=int32)\n",
            "tf.Tensor(0, shape=(), dtype=int32)\n",
            "tf.Tensor(1, shape=(), dtype=int32)\n",
            "tf.Tensor(0, shape=(), dtype=int32)\n",
            "tf.Tensor(1, shape=(), dtype=int32)\n",
            "tf.Tensor(0, shape=(), dtype=int32)\n",
            "tf.Tensor(1, shape=(), dtype=int32)\n",
            "tf.Tensor(1, shape=(), dtype=int32)\n",
            "tf.Tensor(1, shape=(), dtype=int32)\n",
            "tf.Tensor(0, shape=(), dtype=int32)\n",
            "tf.Tensor(0, shape=(), dtype=int32)\n",
            "tf.Tensor(0, shape=(), dtype=int32)\n",
            "tf.Tensor(1, shape=(), dtype=int32)\n",
            "tf.Tensor(1, shape=(), dtype=int32)\n",
            "tf.Tensor(1, shape=(), dtype=int32)\n",
            "tf.Tensor(1, shape=(), dtype=int32)\n",
            "tf.Tensor(0, shape=(), dtype=int32)\n",
            "tf.Tensor(1, shape=(), dtype=int32)\n",
            "tf.Tensor(1, shape=(), dtype=int32)\n",
            "tf.Tensor(0, shape=(), dtype=int32)\n",
            "tf.Tensor(0, shape=(), dtype=int32)\n",
            "tf.Tensor(0, shape=(), dtype=int32)\n",
            "tf.Tensor(0, shape=(), dtype=int32)\n",
            "tf.Tensor(0, shape=(), dtype=int32)\n",
            "tf.Tensor(1, shape=(), dtype=int32)\n",
            "tf.Tensor(1, shape=(), dtype=int32)\n",
            "tf.Tensor(0, shape=(), dtype=int32)\n",
            "tf.Tensor(1, shape=(), dtype=int32)\n",
            "tf.Tensor(1, shape=(), dtype=int32)\n",
            "tf.Tensor(0, shape=(), dtype=int32)\n",
            "tf.Tensor(0, shape=(), dtype=int32)\n",
            "tf.Tensor(1, shape=(), dtype=int32)\n",
            "tf.Tensor(0, shape=(), dtype=int32)\n",
            "tf.Tensor(1, shape=(), dtype=int32)\n",
            "tf.Tensor(1, shape=(), dtype=int32)\n",
            "tf.Tensor(1, shape=(), dtype=int32)\n",
            "tf.Tensor(1, shape=(), dtype=int32)\n",
            "tf.Tensor(0, shape=(), dtype=int32)\n",
            "tf.Tensor(1, shape=(), dtype=int32)\n",
            "tf.Tensor(0, shape=(), dtype=int32)\n",
            "tf.Tensor(1, shape=(), dtype=int32)\n",
            "tf.Tensor(1, shape=(), dtype=int32)\n",
            "tf.Tensor(0, shape=(), dtype=int32)\n",
            "tf.Tensor(0, shape=(), dtype=int32)\n",
            "tf.Tensor(1, shape=(), dtype=int32)\n",
            "tf.Tensor(0, shape=(), dtype=int32)\n",
            "tf.Tensor(0, shape=(), dtype=int32)\n",
            "tf.Tensor(0, shape=(), dtype=int32)\n",
            "tf.Tensor(0, shape=(), dtype=int32)\n",
            "tf.Tensor(1, shape=(), dtype=int32)\n",
            "tf.Tensor(0, shape=(), dtype=int32)\n",
            "tf.Tensor(1, shape=(), dtype=int32)\n",
            "tf.Tensor(0, shape=(), dtype=int32)\n",
            "tf.Tensor(0, shape=(), dtype=int32)\n",
            "tf.Tensor(0, shape=(), dtype=int32)\n",
            "tf.Tensor(0, shape=(), dtype=int32)\n",
            "tf.Tensor(0, shape=(), dtype=int32)\n",
            "tf.Tensor(1, shape=(), dtype=int32)\n",
            "tf.Tensor(0, shape=(), dtype=int32)\n",
            "tf.Tensor(0, shape=(), dtype=int32)\n",
            "tf.Tensor(0, shape=(), dtype=int32)\n",
            "tf.Tensor(1, shape=(), dtype=int32)\n",
            "tf.Tensor(1, shape=(), dtype=int32)\n",
            "tf.Tensor(0, shape=(), dtype=int32)\n",
            "tf.Tensor(1, shape=(), dtype=int32)\n",
            "tf.Tensor(1, shape=(), dtype=int32)\n",
            "tf.Tensor(0, shape=(), dtype=int32)\n",
            "tf.Tensor(1, shape=(), dtype=int32)\n",
            "tf.Tensor(0, shape=(), dtype=int32)\n",
            "tf.Tensor(0, shape=(), dtype=int32)\n",
            "tf.Tensor(0, shape=(), dtype=int32)\n",
            "tf.Tensor(0, shape=(), dtype=int32)\n",
            "tf.Tensor(1, shape=(), dtype=int32)\n",
            "tf.Tensor(0, shape=(), dtype=int32)\n",
            "tf.Tensor(1, shape=(), dtype=int32)\n",
            "tf.Tensor(0, shape=(), dtype=int32)\n",
            "tf.Tensor(1, shape=(), dtype=int32)\n",
            "tf.Tensor(1, shape=(), dtype=int32)\n",
            "tf.Tensor(1, shape=(), dtype=int32)\n",
            "tf.Tensor(1, shape=(), dtype=int32)\n",
            "tf.Tensor(1, shape=(), dtype=int32)\n",
            "tf.Tensor(0, shape=(), dtype=int32)\n",
            "tf.Tensor(1, shape=(), dtype=int32)\n",
            "tf.Tensor(1, shape=(), dtype=int32)\n",
            "tf.Tensor(1, shape=(), dtype=int32)\n",
            "tf.Tensor(1, shape=(), dtype=int32)\n",
            "tf.Tensor(1, shape=(), dtype=int32)\n",
            "tf.Tensor(1, shape=(), dtype=int32)\n",
            "tf.Tensor(0, shape=(), dtype=int32)\n",
            "tf.Tensor(1, shape=(), dtype=int32)\n",
            "tf.Tensor(0, shape=(), dtype=int32)\n",
            "tf.Tensor(1, shape=(), dtype=int32)\n",
            "tf.Tensor(1, shape=(), dtype=int32)\n",
            "tf.Tensor(1, shape=(), dtype=int32)\n",
            "tf.Tensor(0, shape=(), dtype=int32)\n",
            "tf.Tensor(1, shape=(), dtype=int32)\n",
            "tf.Tensor(1, shape=(), dtype=int32)\n",
            "tf.Tensor(1, shape=(), dtype=int32)\n",
            "tf.Tensor(0, shape=(), dtype=int32)\n",
            "tf.Tensor(0, shape=(), dtype=int32)\n",
            "tf.Tensor(1, shape=(), dtype=int32)\n",
            "tf.Tensor(1, shape=(), dtype=int32)\n",
            "tf.Tensor(1, shape=(), dtype=int32)\n",
            "tf.Tensor(0, shape=(), dtype=int32)\n",
            "tf.Tensor(1, shape=(), dtype=int32)\n",
            "tf.Tensor(1, shape=(), dtype=int32)\n",
            "tf.Tensor(0, shape=(), dtype=int32)\n",
            "tf.Tensor(1, shape=(), dtype=int32)\n",
            "tf.Tensor(0, shape=(), dtype=int32)\n",
            "tf.Tensor(0, shape=(), dtype=int32)\n",
            "tf.Tensor(0, shape=(), dtype=int32)\n",
            "tf.Tensor(0, shape=(), dtype=int32)\n",
            "tf.Tensor(0, shape=(), dtype=int32)\n",
            "tf.Tensor(1, shape=(), dtype=int32)\n",
            "tf.Tensor(0, shape=(), dtype=int32)\n",
            "tf.Tensor(1, shape=(), dtype=int32)\n",
            "tf.Tensor(1, shape=(), dtype=int32)\n",
            "tf.Tensor(1, shape=(), dtype=int32)\n",
            "tf.Tensor(0, shape=(), dtype=int32)\n",
            "tf.Tensor(1, shape=(), dtype=int32)\n",
            "tf.Tensor(0, shape=(), dtype=int32)\n",
            "tf.Tensor(0, shape=(), dtype=int32)\n",
            "tf.Tensor(0, shape=(), dtype=int32)\n",
            "tf.Tensor(1, shape=(), dtype=int32)\n",
            "tf.Tensor(1, shape=(), dtype=int32)\n",
            "tf.Tensor(0, shape=(), dtype=int32)\n",
            "tf.Tensor(0, shape=(), dtype=int32)\n",
            "tf.Tensor(0, shape=(), dtype=int32)\n",
            "tf.Tensor(1, shape=(), dtype=int32)\n",
            "tf.Tensor(1, shape=(), dtype=int32)\n",
            "tf.Tensor(0, shape=(), dtype=int32)\n",
            "tf.Tensor(1, shape=(), dtype=int32)\n",
            "tf.Tensor(0, shape=(), dtype=int32)\n",
            "tf.Tensor(1, shape=(), dtype=int32)\n",
            "tf.Tensor(1, shape=(), dtype=int32)\n",
            "tf.Tensor(0, shape=(), dtype=int32)\n",
            "tf.Tensor(0, shape=(), dtype=int32)\n",
            "tf.Tensor(1, shape=(), dtype=int32)\n",
            "tf.Tensor(1, shape=(), dtype=int32)\n",
            "tf.Tensor(1, shape=(), dtype=int32)\n",
            "tf.Tensor(0, shape=(), dtype=int32)\n",
            "tf.Tensor(1, shape=(), dtype=int32)\n",
            "tf.Tensor(1, shape=(), dtype=int32)\n",
            "tf.Tensor(1, shape=(), dtype=int32)\n",
            "tf.Tensor(0, shape=(), dtype=int32)\n",
            "tf.Tensor(1, shape=(), dtype=int32)\n",
            "tf.Tensor(0, shape=(), dtype=int32)\n",
            "tf.Tensor(0, shape=(), dtype=int32)\n",
            "tf.Tensor(1, shape=(), dtype=int32)\n",
            "tf.Tensor(0, shape=(), dtype=int32)\n",
            "tf.Tensor(0, shape=(), dtype=int32)\n",
            "tf.Tensor(0, shape=(), dtype=int32)\n",
            "tf.Tensor(0, shape=(), dtype=int32)\n",
            "tf.Tensor(0, shape=(), dtype=int32)\n",
            "tf.Tensor(1, shape=(), dtype=int32)\n",
            "tf.Tensor(0, shape=(), dtype=int32)\n",
            "tf.Tensor(0, shape=(), dtype=int32)\n",
            "tf.Tensor(1, shape=(), dtype=int32)\n",
            "tf.Tensor(1, shape=(), dtype=int32)\n",
            "tf.Tensor(1, shape=(), dtype=int32)\n",
            "tf.Tensor(0, shape=(), dtype=int32)\n",
            "tf.Tensor(0, shape=(), dtype=int32)\n",
            "tf.Tensor(1, shape=(), dtype=int32)\n",
            "tf.Tensor(1, shape=(), dtype=int32)\n",
            "tf.Tensor(1, shape=(), dtype=int32)\n",
            "tf.Tensor(1, shape=(), dtype=int32)\n",
            "tf.Tensor(0, shape=(), dtype=int32)\n",
            "tf.Tensor(0, shape=(), dtype=int32)\n",
            "tf.Tensor(1, shape=(), dtype=int32)\n",
            "tf.Tensor(0, shape=(), dtype=int32)\n",
            "tf.Tensor(0, shape=(), dtype=int32)\n",
            "tf.Tensor(1, shape=(), dtype=int32)\n",
            "tf.Tensor(0, shape=(), dtype=int32)\n",
            "tf.Tensor(1, shape=(), dtype=int32)\n",
            "tf.Tensor(0, shape=(), dtype=int32)\n",
            "tf.Tensor(1, shape=(), dtype=int32)\n",
            "tf.Tensor(1, shape=(), dtype=int32)\n",
            "tf.Tensor(0, shape=(), dtype=int32)\n",
            "tf.Tensor(1, shape=(), dtype=int32)\n",
            "tf.Tensor(0, shape=(), dtype=int32)\n",
            "tf.Tensor(1, shape=(), dtype=int32)\n",
            "tf.Tensor(1, shape=(), dtype=int32)\n",
            "tf.Tensor(0, shape=(), dtype=int32)\n",
            "tf.Tensor(1, shape=(), dtype=int32)\n",
            "tf.Tensor(0, shape=(), dtype=int32)\n",
            "tf.Tensor(1, shape=(), dtype=int32)\n",
            "tf.Tensor(1, shape=(), dtype=int32)\n",
            "tf.Tensor(1, shape=(), dtype=int32)\n",
            "tf.Tensor(1, shape=(), dtype=int32)\n",
            "tf.Tensor(0, shape=(), dtype=int32)\n",
            "tf.Tensor(0, shape=(), dtype=int32)\n",
            "tf.Tensor(0, shape=(), dtype=int32)\n",
            "tf.Tensor(1, shape=(), dtype=int32)\n",
            "tf.Tensor(1, shape=(), dtype=int32)\n",
            "tf.Tensor(1, shape=(), dtype=int32)\n",
            "tf.Tensor(0, shape=(), dtype=int32)\n",
            "tf.Tensor(1, shape=(), dtype=int32)\n",
            "tf.Tensor(1, shape=(), dtype=int32)\n",
            "tf.Tensor(1, shape=(), dtype=int32)\n",
            "tf.Tensor(0, shape=(), dtype=int32)\n",
            "tf.Tensor(0, shape=(), dtype=int32)\n",
            "tf.Tensor(0, shape=(), dtype=int32)\n",
            "tf.Tensor(0, shape=(), dtype=int32)\n",
            "tf.Tensor(1, shape=(), dtype=int32)\n",
            "tf.Tensor(1, shape=(), dtype=int32)\n",
            "tf.Tensor(1, shape=(), dtype=int32)\n",
            "tf.Tensor(0, shape=(), dtype=int32)\n",
            "tf.Tensor(0, shape=(), dtype=int32)\n",
            "tf.Tensor(1, shape=(), dtype=int32)\n",
            "tf.Tensor(0, shape=(), dtype=int32)\n",
            "tf.Tensor(1, shape=(), dtype=int32)\n",
            "tf.Tensor(1, shape=(), dtype=int32)\n",
            "tf.Tensor(0, shape=(), dtype=int32)\n",
            "tf.Tensor(0, shape=(), dtype=int32)\n",
            "tf.Tensor(1, shape=(), dtype=int32)\n",
            "tf.Tensor(0, shape=(), dtype=int32)\n",
            "tf.Tensor(0, shape=(), dtype=int32)\n",
            "tf.Tensor(0, shape=(), dtype=int32)\n",
            "tf.Tensor(0, shape=(), dtype=int32)\n",
            "tf.Tensor(1, shape=(), dtype=int32)\n",
            "tf.Tensor(0, shape=(), dtype=int32)\n",
            "tf.Tensor(1, shape=(), dtype=int32)\n",
            "tf.Tensor(0, shape=(), dtype=int32)\n",
            "tf.Tensor(1, shape=(), dtype=int32)\n",
            "tf.Tensor(0, shape=(), dtype=int32)\n",
            "tf.Tensor(0, shape=(), dtype=int32)\n",
            "tf.Tensor(1, shape=(), dtype=int32)\n",
            "tf.Tensor(1, shape=(), dtype=int32)\n",
            "tf.Tensor(1, shape=(), dtype=int32)\n",
            "tf.Tensor(1, shape=(), dtype=int32)\n",
            "tf.Tensor(0, shape=(), dtype=int32)\n",
            "tf.Tensor(1, shape=(), dtype=int32)\n",
            "tf.Tensor(1, shape=(), dtype=int32)\n",
            "tf.Tensor(1, shape=(), dtype=int32)\n",
            "tf.Tensor(1, shape=(), dtype=int32)\n",
            "tf.Tensor(1, shape=(), dtype=int32)\n",
            "tf.Tensor(1, shape=(), dtype=int32)\n",
            "tf.Tensor(1, shape=(), dtype=int32)\n",
            "tf.Tensor(1, shape=(), dtype=int32)\n",
            "tf.Tensor(1, shape=(), dtype=int32)\n",
            "tf.Tensor(0, shape=(), dtype=int32)\n",
            "tf.Tensor(0, shape=(), dtype=int32)\n",
            "tf.Tensor(0, shape=(), dtype=int32)\n",
            "tf.Tensor(1, shape=(), dtype=int32)\n",
            "tf.Tensor(0, shape=(), dtype=int32)\n",
            "tf.Tensor(0, shape=(), dtype=int32)\n",
            "tf.Tensor(1, shape=(), dtype=int32)\n",
            "tf.Tensor(1, shape=(), dtype=int32)\n",
            "tf.Tensor(1, shape=(), dtype=int32)\n",
            "tf.Tensor(0, shape=(), dtype=int32)\n",
            "tf.Tensor(0, shape=(), dtype=int32)\n",
            "tf.Tensor(1, shape=(), dtype=int32)\n",
            "tf.Tensor(0, shape=(), dtype=int32)\n",
            "tf.Tensor(0, shape=(), dtype=int32)\n",
            "tf.Tensor(0, shape=(), dtype=int32)\n",
            "tf.Tensor(1, shape=(), dtype=int32)\n",
            "tf.Tensor(0, shape=(), dtype=int32)\n",
            "tf.Tensor(1, shape=(), dtype=int32)\n",
            "tf.Tensor(0, shape=(), dtype=int32)\n",
            "tf.Tensor(1, shape=(), dtype=int32)\n",
            "tf.Tensor(1, shape=(), dtype=int32)\n",
            "tf.Tensor(0, shape=(), dtype=int32)\n",
            "tf.Tensor(0, shape=(), dtype=int32)\n",
            "tf.Tensor(0, shape=(), dtype=int32)\n",
            "tf.Tensor(0, shape=(), dtype=int32)\n",
            "tf.Tensor(1, shape=(), dtype=int32)\n",
            "tf.Tensor(1, shape=(), dtype=int32)\n",
            "tf.Tensor(1, shape=(), dtype=int32)\n",
            "tf.Tensor(1, shape=(), dtype=int32)\n",
            "tf.Tensor(0, shape=(), dtype=int32)\n",
            "tf.Tensor(0, shape=(), dtype=int32)\n",
            "tf.Tensor(0, shape=(), dtype=int32)\n",
            "tf.Tensor(0, shape=(), dtype=int32)\n",
            "tf.Tensor(0, shape=(), dtype=int32)\n",
            "tf.Tensor(0, shape=(), dtype=int32)\n",
            "tf.Tensor(1, shape=(), dtype=int32)\n",
            "tf.Tensor(1, shape=(), dtype=int32)\n",
            "tf.Tensor(1, shape=(), dtype=int32)\n",
            "tf.Tensor(1, shape=(), dtype=int32)\n",
            "tf.Tensor(0, shape=(), dtype=int32)\n",
            "tf.Tensor(0, shape=(), dtype=int32)\n",
            "tf.Tensor(1, shape=(), dtype=int32)\n",
            "tf.Tensor(1, shape=(), dtype=int32)\n",
            "tf.Tensor(0, shape=(), dtype=int32)\n",
            "tf.Tensor(1, shape=(), dtype=int32)\n",
            "tf.Tensor(1, shape=(), dtype=int32)\n",
            "tf.Tensor(1, shape=(), dtype=int32)\n",
            "tf.Tensor(0, shape=(), dtype=int32)\n",
            "tf.Tensor(1, shape=(), dtype=int32)\n",
            "tf.Tensor(1, shape=(), dtype=int32)\n",
            "tf.Tensor(0, shape=(), dtype=int32)\n",
            "tf.Tensor(0, shape=(), dtype=int32)\n",
            "tf.Tensor(1, shape=(), dtype=int32)\n",
            "tf.Tensor(0, shape=(), dtype=int32)\n",
            "tf.Tensor(1, shape=(), dtype=int32)\n",
            "tf.Tensor(1, shape=(), dtype=int32)\n",
            "tf.Tensor(0, shape=(), dtype=int32)\n",
            "tf.Tensor(0, shape=(), dtype=int32)\n",
            "tf.Tensor(1, shape=(), dtype=int32)\n",
            "tf.Tensor(0, shape=(), dtype=int32)\n",
            "tf.Tensor(0, shape=(), dtype=int32)\n",
            "tf.Tensor(1, shape=(), dtype=int32)\n",
            "tf.Tensor(1, shape=(), dtype=int32)\n",
            "tf.Tensor(0, shape=(), dtype=int32)\n",
            "tf.Tensor(0, shape=(), dtype=int32)\n",
            "tf.Tensor(1, shape=(), dtype=int32)\n",
            "tf.Tensor(0, shape=(), dtype=int32)\n",
            "tf.Tensor(0, shape=(), dtype=int32)\n",
            "tf.Tensor(1, shape=(), dtype=int32)\n",
            "tf.Tensor(1, shape=(), dtype=int32)\n",
            "tf.Tensor(0, shape=(), dtype=int32)\n",
            "tf.Tensor(0, shape=(), dtype=int32)\n",
            "tf.Tensor(1, shape=(), dtype=int32)\n",
            "tf.Tensor(0, shape=(), dtype=int32)\n",
            "tf.Tensor(0, shape=(), dtype=int32)\n",
            "tf.Tensor(1, shape=(), dtype=int32)\n",
            "tf.Tensor(1, shape=(), dtype=int32)\n",
            "tf.Tensor(1, shape=(), dtype=int32)\n",
            "tf.Tensor(0, shape=(), dtype=int32)\n",
            "tf.Tensor(1, shape=(), dtype=int32)\n",
            "tf.Tensor(0, shape=(), dtype=int32)\n",
            "tf.Tensor(1, shape=(), dtype=int32)\n",
            "tf.Tensor(1, shape=(), dtype=int32)\n",
            "tf.Tensor(0, shape=(), dtype=int32)\n",
            "tf.Tensor(0, shape=(), dtype=int32)\n",
            "tf.Tensor(1, shape=(), dtype=int32)\n",
            "tf.Tensor(1, shape=(), dtype=int32)\n",
            "tf.Tensor(0, shape=(), dtype=int32)\n",
            "tf.Tensor(0, shape=(), dtype=int32)\n",
            "tf.Tensor(0, shape=(), dtype=int32)\n",
            "tf.Tensor(0, shape=(), dtype=int32)\n",
            "tf.Tensor(0, shape=(), dtype=int32)\n",
            "tf.Tensor(1, shape=(), dtype=int32)\n",
            "tf.Tensor(0, shape=(), dtype=int32)\n",
            "tf.Tensor(0, shape=(), dtype=int32)\n",
            "tf.Tensor(1, shape=(), dtype=int32)\n",
            "tf.Tensor(0, shape=(), dtype=int32)\n",
            "tf.Tensor(0, shape=(), dtype=int32)\n",
            "tf.Tensor(0, shape=(), dtype=int32)\n",
            "tf.Tensor(1, shape=(), dtype=int32)\n",
            "tf.Tensor(1, shape=(), dtype=int32)\n",
            "tf.Tensor(1, shape=(), dtype=int32)\n",
            "tf.Tensor(0, shape=(), dtype=int32)\n",
            "tf.Tensor(1, shape=(), dtype=int32)\n",
            "tf.Tensor(1, shape=(), dtype=int32)\n",
            "tf.Tensor(0, shape=(), dtype=int32)\n",
            "tf.Tensor(1, shape=(), dtype=int32)\n",
            "tf.Tensor(1, shape=(), dtype=int32)\n",
            "tf.Tensor(0, shape=(), dtype=int32)\n",
            "tf.Tensor(0, shape=(), dtype=int32)\n",
            "tf.Tensor(1, shape=(), dtype=int32)\n",
            "tf.Tensor(0, shape=(), dtype=int32)\n",
            "tf.Tensor(1, shape=(), dtype=int32)\n",
            "tf.Tensor(0, shape=(), dtype=int32)\n",
            "tf.Tensor(1, shape=(), dtype=int32)\n",
            "tf.Tensor(0, shape=(), dtype=int32)\n",
            "tf.Tensor(0, shape=(), dtype=int32)\n",
            "tf.Tensor(1, shape=(), dtype=int32)\n",
            "tf.Tensor(0, shape=(), dtype=int32)\n",
            "tf.Tensor(1, shape=(), dtype=int32)\n",
            "tf.Tensor(1, shape=(), dtype=int32)\n",
            "tf.Tensor(0, shape=(), dtype=int32)\n",
            "tf.Tensor(0, shape=(), dtype=int32)\n",
            "tf.Tensor(0, shape=(), dtype=int32)\n",
            "tf.Tensor(1, shape=(), dtype=int32)\n",
            "tf.Tensor(0, shape=(), dtype=int32)\n",
            "tf.Tensor(1, shape=(), dtype=int32)\n",
            "tf.Tensor(1, shape=(), dtype=int32)\n",
            "tf.Tensor(1, shape=(), dtype=int32)\n",
            "tf.Tensor(0, shape=(), dtype=int32)\n",
            "tf.Tensor(1, shape=(), dtype=int32)\n",
            "tf.Tensor(0, shape=(), dtype=int32)\n",
            "tf.Tensor(1, shape=(), dtype=int32)\n",
            "tf.Tensor(0, shape=(), dtype=int32)\n",
            "tf.Tensor(1, shape=(), dtype=int32)\n",
            "tf.Tensor(1, shape=(), dtype=int32)\n",
            "tf.Tensor(0, shape=(), dtype=int32)\n",
            "tf.Tensor(0, shape=(), dtype=int32)\n",
            "tf.Tensor(1, shape=(), dtype=int32)\n",
            "tf.Tensor(0, shape=(), dtype=int32)\n",
            "tf.Tensor(1, shape=(), dtype=int32)\n",
            "tf.Tensor(0, shape=(), dtype=int32)\n",
            "tf.Tensor(1, shape=(), dtype=int32)\n",
            "tf.Tensor(1, shape=(), dtype=int32)\n",
            "tf.Tensor(0, shape=(), dtype=int32)\n",
            "tf.Tensor(0, shape=(), dtype=int32)\n",
            "tf.Tensor(1, shape=(), dtype=int32)\n",
            "tf.Tensor(1, shape=(), dtype=int32)\n",
            "tf.Tensor(0, shape=(), dtype=int32)\n",
            "tf.Tensor(1, shape=(), dtype=int32)\n",
            "tf.Tensor(1, shape=(), dtype=int32)\n",
            "tf.Tensor(1, shape=(), dtype=int32)\n",
            "tf.Tensor(1, shape=(), dtype=int32)\n",
            "tf.Tensor(1, shape=(), dtype=int32)\n",
            "tf.Tensor(0, shape=(), dtype=int32)\n",
            "tf.Tensor(1, shape=(), dtype=int32)\n",
            "tf.Tensor(0, shape=(), dtype=int32)\n",
            "tf.Tensor(1, shape=(), dtype=int32)\n",
            "tf.Tensor(1, shape=(), dtype=int32)\n",
            "tf.Tensor(0, shape=(), dtype=int32)\n",
            "tf.Tensor(0, shape=(), dtype=int32)\n",
            "tf.Tensor(0, shape=(), dtype=int32)\n",
            "tf.Tensor(0, shape=(), dtype=int32)\n",
            "tf.Tensor(1, shape=(), dtype=int32)\n",
            "tf.Tensor(0, shape=(), dtype=int32)\n",
            "tf.Tensor(0, shape=(), dtype=int32)\n",
            "tf.Tensor(1, shape=(), dtype=int32)\n",
            "tf.Tensor(1, shape=(), dtype=int32)\n",
            "tf.Tensor(0, shape=(), dtype=int32)\n",
            "tf.Tensor(0, shape=(), dtype=int32)\n",
            "tf.Tensor(1, shape=(), dtype=int32)\n",
            "tf.Tensor(0, shape=(), dtype=int32)\n",
            "tf.Tensor(0, shape=(), dtype=int32)\n",
            "tf.Tensor(0, shape=(), dtype=int32)\n",
            "tf.Tensor(1, shape=(), dtype=int32)\n",
            "tf.Tensor(0, shape=(), dtype=int32)\n",
            "tf.Tensor(0, shape=(), dtype=int32)\n",
            "tf.Tensor(1, shape=(), dtype=int32)\n",
            "tf.Tensor(0, shape=(), dtype=int32)\n",
            "tf.Tensor(1, shape=(), dtype=int32)\n",
            "tf.Tensor(0, shape=(), dtype=int32)\n",
            "tf.Tensor(0, shape=(), dtype=int32)\n",
            "tf.Tensor(1, shape=(), dtype=int32)\n",
            "tf.Tensor(1, shape=(), dtype=int32)\n",
            "tf.Tensor(0, shape=(), dtype=int32)\n",
            "tf.Tensor(0, shape=(), dtype=int32)\n",
            "tf.Tensor(0, shape=(), dtype=int32)\n",
            "tf.Tensor(1, shape=(), dtype=int32)\n",
            "tf.Tensor(0, shape=(), dtype=int32)\n",
            "tf.Tensor(1, shape=(), dtype=int32)\n",
            "tf.Tensor(1, shape=(), dtype=int32)\n",
            "tf.Tensor(1, shape=(), dtype=int32)\n",
            "tf.Tensor(1, shape=(), dtype=int32)\n",
            "tf.Tensor(1, shape=(), dtype=int32)\n",
            "tf.Tensor(1, shape=(), dtype=int32)\n",
            "tf.Tensor(1, shape=(), dtype=int32)\n",
            "tf.Tensor(0, shape=(), dtype=int32)\n",
            "tf.Tensor(1, shape=(), dtype=int32)\n",
            "tf.Tensor(1, shape=(), dtype=int32)\n",
            "tf.Tensor(0, shape=(), dtype=int32)\n",
            "tf.Tensor(1, shape=(), dtype=int32)\n",
            "tf.Tensor(0, shape=(), dtype=int32)\n",
            "tf.Tensor(1, shape=(), dtype=int32)\n",
            "tf.Tensor(0, shape=(), dtype=int32)\n",
            "tf.Tensor(1, shape=(), dtype=int32)\n",
            "tf.Tensor(0, shape=(), dtype=int32)\n",
            "tf.Tensor(1, shape=(), dtype=int32)\n",
            "tf.Tensor(0, shape=(), dtype=int32)\n",
            "tf.Tensor(0, shape=(), dtype=int32)\n",
            "tf.Tensor(1, shape=(), dtype=int32)\n",
            "tf.Tensor(0, shape=(), dtype=int32)\n",
            "tf.Tensor(1, shape=(), dtype=int32)\n",
            "tf.Tensor(1, shape=(), dtype=int32)\n",
            "tf.Tensor(1, shape=(), dtype=int32)\n",
            "tf.Tensor(1, shape=(), dtype=int32)\n",
            "tf.Tensor(0, shape=(), dtype=int32)\n",
            "tf.Tensor(0, shape=(), dtype=int32)\n",
            "tf.Tensor(1, shape=(), dtype=int32)\n",
            "tf.Tensor(1, shape=(), dtype=int32)\n",
            "tf.Tensor(0, shape=(), dtype=int32)\n",
            "tf.Tensor(1, shape=(), dtype=int32)\n",
            "tf.Tensor(0, shape=(), dtype=int32)\n",
            "tf.Tensor(1, shape=(), dtype=int32)\n",
            "tf.Tensor(1, shape=(), dtype=int32)\n",
            "tf.Tensor(1, shape=(), dtype=int32)\n",
            "tf.Tensor(0, shape=(), dtype=int32)\n",
            "tf.Tensor(1, shape=(), dtype=int32)\n",
            "tf.Tensor(0, shape=(), dtype=int32)\n",
            "tf.Tensor(1, shape=(), dtype=int32)\n",
            "tf.Tensor(1, shape=(), dtype=int32)\n",
            "tf.Tensor(1, shape=(), dtype=int32)\n",
            "tf.Tensor(1, shape=(), dtype=int32)\n",
            "tf.Tensor(0, shape=(), dtype=int32)\n",
            "tf.Tensor(1, shape=(), dtype=int32)\n",
            "tf.Tensor(0, shape=(), dtype=int32)\n",
            "tf.Tensor(1, shape=(), dtype=int32)\n",
            "tf.Tensor(1, shape=(), dtype=int32)\n",
            "tf.Tensor(0, shape=(), dtype=int32)\n",
            "tf.Tensor(0, shape=(), dtype=int32)\n",
            "tf.Tensor(0, shape=(), dtype=int32)\n",
            "tf.Tensor(1, shape=(), dtype=int32)\n",
            "tf.Tensor(1, shape=(), dtype=int32)\n",
            "tf.Tensor(0, shape=(), dtype=int32)\n",
            "tf.Tensor(1, shape=(), dtype=int32)\n",
            "tf.Tensor(1, shape=(), dtype=int32)\n",
            "tf.Tensor(0, shape=(), dtype=int32)\n",
            "tf.Tensor(1, shape=(), dtype=int32)\n",
            "tf.Tensor(1, shape=(), dtype=int32)\n",
            "tf.Tensor(1, shape=(), dtype=int32)\n",
            "tf.Tensor(1, shape=(), dtype=int32)\n",
            "tf.Tensor(1, shape=(), dtype=int32)\n",
            "tf.Tensor(1, shape=(), dtype=int32)\n",
            "tf.Tensor(1, shape=(), dtype=int32)\n",
            "tf.Tensor(1, shape=(), dtype=int32)\n",
            "tf.Tensor(1, shape=(), dtype=int32)\n",
            "tf.Tensor(0, shape=(), dtype=int32)\n",
            "tf.Tensor(1, shape=(), dtype=int32)\n",
            "tf.Tensor(1, shape=(), dtype=int32)\n",
            "tf.Tensor(1, shape=(), dtype=int32)\n",
            "tf.Tensor(0, shape=(), dtype=int32)\n",
            "tf.Tensor(0, shape=(), dtype=int32)\n",
            "tf.Tensor(0, shape=(), dtype=int32)\n",
            "tf.Tensor(1, shape=(), dtype=int32)\n",
            "tf.Tensor(1, shape=(), dtype=int32)\n",
            "tf.Tensor(1, shape=(), dtype=int32)\n",
            "tf.Tensor(1, shape=(), dtype=int32)\n",
            "tf.Tensor(0, shape=(), dtype=int32)\n",
            "tf.Tensor(1, shape=(), dtype=int32)\n",
            "tf.Tensor(0, shape=(), dtype=int32)\n",
            "tf.Tensor(1, shape=(), dtype=int32)\n",
            "tf.Tensor(0, shape=(), dtype=int32)\n",
            "tf.Tensor(0, shape=(), dtype=int32)\n",
            "tf.Tensor(0, shape=(), dtype=int32)\n",
            "tf.Tensor(0, shape=(), dtype=int32)\n",
            "tf.Tensor(0, shape=(), dtype=int32)\n",
            "tf.Tensor(0, shape=(), dtype=int32)\n",
            "tf.Tensor(1, shape=(), dtype=int32)\n",
            "tf.Tensor(1, shape=(), dtype=int32)\n",
            "tf.Tensor(0, shape=(), dtype=int32)\n",
            "tf.Tensor(0, shape=(), dtype=int32)\n",
            "tf.Tensor(0, shape=(), dtype=int32)\n",
            "tf.Tensor(1, shape=(), dtype=int32)\n",
            "tf.Tensor(1, shape=(), dtype=int32)\n",
            "tf.Tensor(0, shape=(), dtype=int32)\n",
            "tf.Tensor(0, shape=(), dtype=int32)\n",
            "tf.Tensor(0, shape=(), dtype=int32)\n",
            "tf.Tensor(0, shape=(), dtype=int32)\n",
            "tf.Tensor(0, shape=(), dtype=int32)\n",
            "tf.Tensor(0, shape=(), dtype=int32)\n",
            "tf.Tensor(1, shape=(), dtype=int32)\n",
            "tf.Tensor(0, shape=(), dtype=int32)\n",
            "tf.Tensor(1, shape=(), dtype=int32)\n",
            "tf.Tensor(1, shape=(), dtype=int32)\n",
            "tf.Tensor(1, shape=(), dtype=int32)\n",
            "tf.Tensor(1, shape=(), dtype=int32)\n",
            "tf.Tensor(0, shape=(), dtype=int32)\n",
            "tf.Tensor(1, shape=(), dtype=int32)\n",
            "tf.Tensor(1, shape=(), dtype=int32)\n",
            "tf.Tensor(0, shape=(), dtype=int32)\n",
            "tf.Tensor(1, shape=(), dtype=int32)\n",
            "tf.Tensor(0, shape=(), dtype=int32)\n",
            "tf.Tensor(0, shape=(), dtype=int32)\n",
            "tf.Tensor(0, shape=(), dtype=int32)\n",
            "tf.Tensor(0, shape=(), dtype=int32)\n",
            "tf.Tensor(1, shape=(), dtype=int32)\n",
            "tf.Tensor(1, shape=(), dtype=int32)\n",
            "tf.Tensor(0, shape=(), dtype=int32)\n",
            "tf.Tensor(1, shape=(), dtype=int32)\n",
            "tf.Tensor(1, shape=(), dtype=int32)\n",
            "tf.Tensor(1, shape=(), dtype=int32)\n",
            "tf.Tensor(0, shape=(), dtype=int32)\n",
            "tf.Tensor(1, shape=(), dtype=int32)\n",
            "tf.Tensor(0, shape=(), dtype=int32)\n",
            "tf.Tensor(1, shape=(), dtype=int32)\n",
            "tf.Tensor(0, shape=(), dtype=int32)\n",
            "tf.Tensor(0, shape=(), dtype=int32)\n",
            "tf.Tensor(1, shape=(), dtype=int32)\n",
            "tf.Tensor(1, shape=(), dtype=int32)\n",
            "tf.Tensor(1, shape=(), dtype=int32)\n",
            "tf.Tensor(0, shape=(), dtype=int32)\n",
            "tf.Tensor(0, shape=(), dtype=int32)\n",
            "tf.Tensor(1, shape=(), dtype=int32)\n",
            "tf.Tensor(0, shape=(), dtype=int32)\n",
            "tf.Tensor(0, shape=(), dtype=int32)\n",
            "tf.Tensor(1, shape=(), dtype=int32)\n",
            "tf.Tensor(0, shape=(), dtype=int32)\n",
            "tf.Tensor(0, shape=(), dtype=int32)\n",
            "tf.Tensor(0, shape=(), dtype=int32)\n",
            "tf.Tensor(0, shape=(), dtype=int32)\n",
            "tf.Tensor(1, shape=(), dtype=int32)\n",
            "tf.Tensor(0, shape=(), dtype=int32)\n",
            "tf.Tensor(0, shape=(), dtype=int32)\n",
            "tf.Tensor(1, shape=(), dtype=int32)\n",
            "tf.Tensor(0, shape=(), dtype=int32)\n",
            "tf.Tensor(1, shape=(), dtype=int32)\n",
            "tf.Tensor(1, shape=(), dtype=int32)\n",
            "tf.Tensor(1, shape=(), dtype=int32)\n",
            "tf.Tensor(0, shape=(), dtype=int32)\n",
            "tf.Tensor(0, shape=(), dtype=int32)\n",
            "tf.Tensor(0, shape=(), dtype=int32)\n",
            "tf.Tensor(1, shape=(), dtype=int32)\n",
            "tf.Tensor(1, shape=(), dtype=int32)\n",
            "tf.Tensor(0, shape=(), dtype=int32)\n",
            "tf.Tensor(0, shape=(), dtype=int32)\n",
            "tf.Tensor(1, shape=(), dtype=int32)\n",
            "tf.Tensor(0, shape=(), dtype=int32)\n",
            "tf.Tensor(0, shape=(), dtype=int32)\n",
            "tf.Tensor(1, shape=(), dtype=int32)\n",
            "tf.Tensor(0, shape=(), dtype=int32)\n",
            "tf.Tensor(1, shape=(), dtype=int32)\n",
            "tf.Tensor(1, shape=(), dtype=int32)\n",
            "tf.Tensor(0, shape=(), dtype=int32)\n",
            "tf.Tensor(0, shape=(), dtype=int32)\n",
            "tf.Tensor(0, shape=(), dtype=int32)\n",
            "tf.Tensor(1, shape=(), dtype=int32)\n",
            "tf.Tensor(1, shape=(), dtype=int32)\n",
            "tf.Tensor(1, shape=(), dtype=int32)\n",
            "tf.Tensor(0, shape=(), dtype=int32)\n",
            "tf.Tensor(1, shape=(), dtype=int32)\n",
            "tf.Tensor(1, shape=(), dtype=int32)\n",
            "tf.Tensor(0, shape=(), dtype=int32)\n",
            "tf.Tensor(1, shape=(), dtype=int32)\n",
            "tf.Tensor(0, shape=(), dtype=int32)\n",
            "tf.Tensor(1, shape=(), dtype=int32)\n",
            "tf.Tensor(0, shape=(), dtype=int32)\n",
            "tf.Tensor(0, shape=(), dtype=int32)\n",
            "tf.Tensor(1, shape=(), dtype=int32)\n",
            "tf.Tensor(0, shape=(), dtype=int32)\n",
            "tf.Tensor(0, shape=(), dtype=int32)\n",
            "tf.Tensor(0, shape=(), dtype=int32)\n",
            "tf.Tensor(1, shape=(), dtype=int32)\n",
            "tf.Tensor(1, shape=(), dtype=int32)\n",
            "tf.Tensor(1, shape=(), dtype=int32)\n",
            "tf.Tensor(1, shape=(), dtype=int32)\n",
            "tf.Tensor(0, shape=(), dtype=int32)\n",
            "tf.Tensor(0, shape=(), dtype=int32)\n",
            "tf.Tensor(1, shape=(), dtype=int32)\n",
            "tf.Tensor(0, shape=(), dtype=int32)\n",
            "tf.Tensor(0, shape=(), dtype=int32)\n",
            "tf.Tensor(1, shape=(), dtype=int32)\n",
            "tf.Tensor(0, shape=(), dtype=int32)\n",
            "tf.Tensor(1, shape=(), dtype=int32)\n",
            "tf.Tensor(1, shape=(), dtype=int32)\n",
            "tf.Tensor(0, shape=(), dtype=int32)\n",
            "tf.Tensor(0, shape=(), dtype=int32)\n",
            "tf.Tensor(1, shape=(), dtype=int32)\n",
            "tf.Tensor(1, shape=(), dtype=int32)\n",
            "tf.Tensor(1, shape=(), dtype=int32)\n",
            "tf.Tensor(0, shape=(), dtype=int32)\n",
            "tf.Tensor(1, shape=(), dtype=int32)\n",
            "tf.Tensor(1, shape=(), dtype=int32)\n",
            "tf.Tensor(1, shape=(), dtype=int32)\n",
            "tf.Tensor(1, shape=(), dtype=int32)\n",
            "tf.Tensor(1, shape=(), dtype=int32)\n",
            "tf.Tensor(1, shape=(), dtype=int32)\n",
            "tf.Tensor(1, shape=(), dtype=int32)\n",
            "tf.Tensor(1, shape=(), dtype=int32)\n",
            "tf.Tensor(1, shape=(), dtype=int32)\n",
            "tf.Tensor(0, shape=(), dtype=int32)\n",
            "tf.Tensor(0, shape=(), dtype=int32)\n",
            "tf.Tensor(1, shape=(), dtype=int32)\n",
            "tf.Tensor(0, shape=(), dtype=int32)\n",
            "tf.Tensor(0, shape=(), dtype=int32)\n",
            "tf.Tensor(0, shape=(), dtype=int32)\n",
            "tf.Tensor(1, shape=(), dtype=int32)\n",
            "tf.Tensor(0, shape=(), dtype=int32)\n",
            "tf.Tensor(0, shape=(), dtype=int32)\n",
            "tf.Tensor(0, shape=(), dtype=int32)\n",
            "tf.Tensor(0, shape=(), dtype=int32)\n",
            "tf.Tensor(1, shape=(), dtype=int32)\n",
            "tf.Tensor(0, shape=(), dtype=int32)\n",
            "tf.Tensor(1, shape=(), dtype=int32)\n",
            "tf.Tensor(0, shape=(), dtype=int32)\n",
            "tf.Tensor(1, shape=(), dtype=int32)\n",
            "tf.Tensor(1, shape=(), dtype=int32)\n",
            "tf.Tensor(0, shape=(), dtype=int32)\n",
            "tf.Tensor(0, shape=(), dtype=int32)\n",
            "tf.Tensor(1, shape=(), dtype=int32)\n",
            "tf.Tensor(1, shape=(), dtype=int32)\n",
            "tf.Tensor(1, shape=(), dtype=int32)\n",
            "tf.Tensor(1, shape=(), dtype=int32)\n",
            "tf.Tensor(1, shape=(), dtype=int32)\n",
            "tf.Tensor(0, shape=(), dtype=int32)\n",
            "tf.Tensor(1, shape=(), dtype=int32)\n",
            "tf.Tensor(1, shape=(), dtype=int32)\n",
            "tf.Tensor(1, shape=(), dtype=int32)\n",
            "tf.Tensor(1, shape=(), dtype=int32)\n",
            "tf.Tensor(0, shape=(), dtype=int32)\n",
            "tf.Tensor(0, shape=(), dtype=int32)\n",
            "tf.Tensor(1, shape=(), dtype=int32)\n",
            "tf.Tensor(0, shape=(), dtype=int32)\n",
            "tf.Tensor(0, shape=(), dtype=int32)\n",
            "tf.Tensor(1, shape=(), dtype=int32)\n",
            "tf.Tensor(1, shape=(), dtype=int32)\n",
            "tf.Tensor(0, shape=(), dtype=int32)\n",
            "tf.Tensor(0, shape=(), dtype=int32)\n",
            "tf.Tensor(0, shape=(), dtype=int32)\n",
            "tf.Tensor(0, shape=(), dtype=int32)\n",
            "tf.Tensor(0, shape=(), dtype=int32)\n",
            "tf.Tensor(1, shape=(), dtype=int32)\n",
            "tf.Tensor(0, shape=(), dtype=int32)\n",
            "tf.Tensor(0, shape=(), dtype=int32)\n",
            "tf.Tensor(0, shape=(), dtype=int32)\n",
            "tf.Tensor(0, shape=(), dtype=int32)\n",
            "tf.Tensor(0, shape=(), dtype=int32)\n",
            "tf.Tensor(1, shape=(), dtype=int32)\n",
            "tf.Tensor(1, shape=(), dtype=int32)\n",
            "tf.Tensor(1, shape=(), dtype=int32)\n",
            "tf.Tensor(0, shape=(), dtype=int32)\n",
            "tf.Tensor(0, shape=(), dtype=int32)\n",
            "tf.Tensor(0, shape=(), dtype=int32)\n",
            "tf.Tensor(0, shape=(), dtype=int32)\n",
            "tf.Tensor(0, shape=(), dtype=int32)\n",
            "tf.Tensor(0, shape=(), dtype=int32)\n",
            "tf.Tensor(0, shape=(), dtype=int32)\n",
            "tf.Tensor(1, shape=(), dtype=int32)\n",
            "tf.Tensor(1, shape=(), dtype=int32)\n",
            "tf.Tensor(1, shape=(), dtype=int32)\n",
            "tf.Tensor(0, shape=(), dtype=int32)\n",
            "tf.Tensor(1, shape=(), dtype=int32)\n",
            "tf.Tensor(1, shape=(), dtype=int32)\n",
            "tf.Tensor(0, shape=(), dtype=int32)\n",
            "tf.Tensor(1, shape=(), dtype=int32)\n",
            "tf.Tensor(1, shape=(), dtype=int32)\n",
            "tf.Tensor(1, shape=(), dtype=int32)\n",
            "tf.Tensor(1, shape=(), dtype=int32)\n",
            "tf.Tensor(1, shape=(), dtype=int32)\n",
            "tf.Tensor(0, shape=(), dtype=int32)\n",
            "tf.Tensor(0, shape=(), dtype=int32)\n",
            "tf.Tensor(1, shape=(), dtype=int32)\n",
            "tf.Tensor(1, shape=(), dtype=int32)\n",
            "tf.Tensor(1, shape=(), dtype=int32)\n",
            "tf.Tensor(0, shape=(), dtype=int32)\n",
            "tf.Tensor(0, shape=(), dtype=int32)\n",
            "tf.Tensor(0, shape=(), dtype=int32)\n",
            "tf.Tensor(0, shape=(), dtype=int32)\n",
            "tf.Tensor(1, shape=(), dtype=int32)\n",
            "tf.Tensor(1, shape=(), dtype=int32)\n",
            "tf.Tensor(0, shape=(), dtype=int32)\n",
            "tf.Tensor(1, shape=(), dtype=int32)\n",
            "tf.Tensor(0, shape=(), dtype=int32)\n",
            "tf.Tensor(1, shape=(), dtype=int32)\n",
            "tf.Tensor(0, shape=(), dtype=int32)\n",
            "tf.Tensor(0, shape=(), dtype=int32)\n",
            "tf.Tensor(0, shape=(), dtype=int32)\n",
            "tf.Tensor(0, shape=(), dtype=int32)\n",
            "tf.Tensor(0, shape=(), dtype=int32)\n",
            "tf.Tensor(1, shape=(), dtype=int32)\n",
            "tf.Tensor(0, shape=(), dtype=int32)\n",
            "tf.Tensor(1, shape=(), dtype=int32)\n",
            "tf.Tensor(1, shape=(), dtype=int32)\n",
            "tf.Tensor(0, shape=(), dtype=int32)\n",
            "tf.Tensor(0, shape=(), dtype=int32)\n",
            "tf.Tensor(0, shape=(), dtype=int32)\n",
            "tf.Tensor(1, shape=(), dtype=int32)\n",
            "tf.Tensor(1, shape=(), dtype=int32)\n",
            "tf.Tensor(0, shape=(), dtype=int32)\n",
            "tf.Tensor(1, shape=(), dtype=int32)\n",
            "tf.Tensor(1, shape=(), dtype=int32)\n",
            "tf.Tensor(0, shape=(), dtype=int32)\n",
            "tf.Tensor(0, shape=(), dtype=int32)\n",
            "tf.Tensor(1, shape=(), dtype=int32)\n",
            "tf.Tensor(1, shape=(), dtype=int32)\n",
            "tf.Tensor(1, shape=(), dtype=int32)\n",
            "tf.Tensor(1, shape=(), dtype=int32)\n",
            "tf.Tensor(0, shape=(), dtype=int32)\n",
            "tf.Tensor(0, shape=(), dtype=int32)\n",
            "tf.Tensor(1, shape=(), dtype=int32)\n",
            "tf.Tensor(1, shape=(), dtype=int32)\n",
            "tf.Tensor(1, shape=(), dtype=int32)\n",
            "tf.Tensor(0, shape=(), dtype=int32)\n",
            "tf.Tensor(1, shape=(), dtype=int32)\n",
            "tf.Tensor(1, shape=(), dtype=int32)\n",
            "tf.Tensor(1, shape=(), dtype=int32)\n",
            "tf.Tensor(1, shape=(), dtype=int32)\n",
            "tf.Tensor(1, shape=(), dtype=int32)\n",
            "tf.Tensor(1, shape=(), dtype=int32)\n",
            "tf.Tensor(0, shape=(), dtype=int32)\n",
            "tf.Tensor(1, shape=(), dtype=int32)\n",
            "tf.Tensor(0, shape=(), dtype=int32)\n",
            "tf.Tensor(0, shape=(), dtype=int32)\n",
            "tf.Tensor(0, shape=(), dtype=int32)\n",
            "tf.Tensor(0, shape=(), dtype=int32)\n",
            "tf.Tensor(0, shape=(), dtype=int32)\n",
            "tf.Tensor(1, shape=(), dtype=int32)\n",
            "tf.Tensor(0, shape=(), dtype=int32)\n",
            "tf.Tensor(0, shape=(), dtype=int32)\n",
            "tf.Tensor(1, shape=(), dtype=int32)\n",
            "tf.Tensor(0, shape=(), dtype=int32)\n",
            "tf.Tensor(1, shape=(), dtype=int32)\n",
            "tf.Tensor(0, shape=(), dtype=int32)\n",
            "tf.Tensor(1, shape=(), dtype=int32)\n",
            "tf.Tensor(0, shape=(), dtype=int32)\n",
            "tf.Tensor(0, shape=(), dtype=int32)\n",
            "tf.Tensor(1, shape=(), dtype=int32)\n",
            "tf.Tensor(0, shape=(), dtype=int32)\n",
            "tf.Tensor(0, shape=(), dtype=int32)\n",
            "tf.Tensor(1, shape=(), dtype=int32)\n",
            "tf.Tensor(0, shape=(), dtype=int32)\n",
            "tf.Tensor(1, shape=(), dtype=int32)\n",
            "tf.Tensor(1, shape=(), dtype=int32)\n",
            "tf.Tensor(0, shape=(), dtype=int32)\n",
            "tf.Tensor(0, shape=(), dtype=int32)\n",
            "tf.Tensor(1, shape=(), dtype=int32)\n",
            "tf.Tensor(1, shape=(), dtype=int32)\n",
            "tf.Tensor(1, shape=(), dtype=int32)\n",
            "tf.Tensor(0, shape=(), dtype=int32)\n",
            "tf.Tensor(0, shape=(), dtype=int32)\n",
            "tf.Tensor(0, shape=(), dtype=int32)\n",
            "tf.Tensor(0, shape=(), dtype=int32)\n",
            "tf.Tensor(0, shape=(), dtype=int32)\n",
            "tf.Tensor(0, shape=(), dtype=int32)\n",
            "tf.Tensor(0, shape=(), dtype=int32)\n",
            "tf.Tensor(0, shape=(), dtype=int32)\n",
            "tf.Tensor(0, shape=(), dtype=int32)\n",
            "tf.Tensor(0, shape=(), dtype=int32)\n",
            "tf.Tensor(1, shape=(), dtype=int32)\n",
            "tf.Tensor(0, shape=(), dtype=int32)\n",
            "tf.Tensor(1, shape=(), dtype=int32)\n",
            "tf.Tensor(1, shape=(), dtype=int32)\n",
            "tf.Tensor(0, shape=(), dtype=int32)\n",
            "tf.Tensor(0, shape=(), dtype=int32)\n",
            "tf.Tensor(1, shape=(), dtype=int32)\n",
            "tf.Tensor(1, shape=(), dtype=int32)\n",
            "tf.Tensor(1, shape=(), dtype=int32)\n",
            "tf.Tensor(0, shape=(), dtype=int32)\n",
            "tf.Tensor(1, shape=(), dtype=int32)\n",
            "tf.Tensor(0, shape=(), dtype=int32)\n",
            "tf.Tensor(0, shape=(), dtype=int32)\n",
            "tf.Tensor(0, shape=(), dtype=int32)\n",
            "tf.Tensor(1, shape=(), dtype=int32)\n",
            "tf.Tensor(0, shape=(), dtype=int32)\n",
            "tf.Tensor(1, shape=(), dtype=int32)\n",
            "tf.Tensor(1, shape=(), dtype=int32)\n",
            "tf.Tensor(0, shape=(), dtype=int32)\n",
            "tf.Tensor(0, shape=(), dtype=int32)\n",
            "tf.Tensor(0, shape=(), dtype=int32)\n",
            "tf.Tensor(1, shape=(), dtype=int32)\n",
            "tf.Tensor(0, shape=(), dtype=int32)\n",
            "tf.Tensor(1, shape=(), dtype=int32)\n",
            "tf.Tensor(0, shape=(), dtype=int32)\n",
            "tf.Tensor(0, shape=(), dtype=int32)\n",
            "tf.Tensor(0, shape=(), dtype=int32)\n",
            "tf.Tensor(0, shape=(), dtype=int32)\n",
            "tf.Tensor(1, shape=(), dtype=int32)\n",
            "tf.Tensor(1, shape=(), dtype=int32)\n",
            "tf.Tensor(1, shape=(), dtype=int32)\n",
            "tf.Tensor(0, shape=(), dtype=int32)\n",
            "tf.Tensor(1, shape=(), dtype=int32)\n",
            "tf.Tensor(1, shape=(), dtype=int32)\n",
            "tf.Tensor(0, shape=(), dtype=int32)\n",
            "tf.Tensor(1, shape=(), dtype=int32)\n",
            "tf.Tensor(0, shape=(), dtype=int32)\n",
            "tf.Tensor(0, shape=(), dtype=int32)\n",
            "tf.Tensor(0, shape=(), dtype=int32)\n",
            "tf.Tensor(1, shape=(), dtype=int32)\n",
            "tf.Tensor(1, shape=(), dtype=int32)\n",
            "tf.Tensor(0, shape=(), dtype=int32)\n",
            "tf.Tensor(0, shape=(), dtype=int32)\n",
            "tf.Tensor(1, shape=(), dtype=int32)\n",
            "tf.Tensor(0, shape=(), dtype=int32)\n",
            "tf.Tensor(1, shape=(), dtype=int32)\n",
            "tf.Tensor(1, shape=(), dtype=int32)\n",
            "tf.Tensor(1, shape=(), dtype=int32)\n",
            "tf.Tensor(1, shape=(), dtype=int32)\n",
            "tf.Tensor(0, shape=(), dtype=int32)\n",
            "tf.Tensor(1, shape=(), dtype=int32)\n",
            "tf.Tensor(0, shape=(), dtype=int32)\n",
            "tf.Tensor(0, shape=(), dtype=int32)\n",
            "tf.Tensor(1, shape=(), dtype=int32)\n",
            "tf.Tensor(1, shape=(), dtype=int32)\n",
            "tf.Tensor(1, shape=(), dtype=int32)\n",
            "tf.Tensor(0, shape=(), dtype=int32)\n",
            "tf.Tensor(0, shape=(), dtype=int32)\n",
            "tf.Tensor(1, shape=(), dtype=int32)\n",
            "tf.Tensor(0, shape=(), dtype=int32)\n",
            "tf.Tensor(1, shape=(), dtype=int32)\n",
            "tf.Tensor(0, shape=(), dtype=int32)\n",
            "tf.Tensor(1, shape=(), dtype=int32)\n",
            "tf.Tensor(0, shape=(), dtype=int32)\n",
            "tf.Tensor(1, shape=(), dtype=int32)\n",
            "tf.Tensor(1, shape=(), dtype=int32)\n",
            "tf.Tensor(1, shape=(), dtype=int32)\n",
            "tf.Tensor(1, shape=(), dtype=int32)\n",
            "tf.Tensor(1, shape=(), dtype=int32)\n",
            "tf.Tensor(1, shape=(), dtype=int32)\n",
            "tf.Tensor(0, shape=(), dtype=int32)\n",
            "tf.Tensor(1, shape=(), dtype=int32)\n",
            "tf.Tensor(0, shape=(), dtype=int32)\n",
            "tf.Tensor(0, shape=(), dtype=int32)\n",
            "tf.Tensor(0, shape=(), dtype=int32)\n",
            "tf.Tensor(0, shape=(), dtype=int32)\n",
            "tf.Tensor(0, shape=(), dtype=int32)\n",
            "tf.Tensor(1, shape=(), dtype=int32)\n",
            "tf.Tensor(0, shape=(), dtype=int32)\n",
            "tf.Tensor(1, shape=(), dtype=int32)\n",
            "tf.Tensor(0, shape=(), dtype=int32)\n",
            "tf.Tensor(1, shape=(), dtype=int32)\n",
            "tf.Tensor(1, shape=(), dtype=int32)\n",
            "tf.Tensor(1, shape=(), dtype=int32)\n",
            "tf.Tensor(1, shape=(), dtype=int32)\n",
            "tf.Tensor(0, shape=(), dtype=int32)\n",
            "tf.Tensor(0, shape=(), dtype=int32)\n",
            "tf.Tensor(1, shape=(), dtype=int32)\n",
            "tf.Tensor(1, shape=(), dtype=int32)\n",
            "tf.Tensor(0, shape=(), dtype=int32)\n",
            "tf.Tensor(1, shape=(), dtype=int32)\n",
            "tf.Tensor(1, shape=(), dtype=int32)\n",
            "tf.Tensor(0, shape=(), dtype=int32)\n",
            "tf.Tensor(0, shape=(), dtype=int32)\n",
            "tf.Tensor(0, shape=(), dtype=int32)\n",
            "tf.Tensor(1, shape=(), dtype=int32)\n",
            "tf.Tensor(1, shape=(), dtype=int32)\n",
            "tf.Tensor(0, shape=(), dtype=int32)\n",
            "tf.Tensor(1, shape=(), dtype=int32)\n",
            "tf.Tensor(0, shape=(), dtype=int32)\n",
            "tf.Tensor(1, shape=(), dtype=int32)\n",
            "tf.Tensor(1, shape=(), dtype=int32)\n",
            "tf.Tensor(1, shape=(), dtype=int32)\n",
            "tf.Tensor(1, shape=(), dtype=int32)\n",
            "tf.Tensor(0, shape=(), dtype=int32)\n",
            "tf.Tensor(1, shape=(), dtype=int32)\n",
            "tf.Tensor(0, shape=(), dtype=int32)\n",
            "tf.Tensor(0, shape=(), dtype=int32)\n",
            "tf.Tensor(1, shape=(), dtype=int32)\n",
            "tf.Tensor(0, shape=(), dtype=int32)\n",
            "tf.Tensor(1, shape=(), dtype=int32)\n",
            "tf.Tensor(1, shape=(), dtype=int32)\n",
            "tf.Tensor(0, shape=(), dtype=int32)\n",
            "tf.Tensor(0, shape=(), dtype=int32)\n",
            "tf.Tensor(1, shape=(), dtype=int32)\n",
            "tf.Tensor(0, shape=(), dtype=int32)\n",
            "tf.Tensor(1, shape=(), dtype=int32)\n",
            "tf.Tensor(0, shape=(), dtype=int32)\n",
            "tf.Tensor(0, shape=(), dtype=int32)\n",
            "tf.Tensor(1, shape=(), dtype=int32)\n",
            "tf.Tensor(1, shape=(), dtype=int32)\n",
            "tf.Tensor(1, shape=(), dtype=int32)\n",
            "tf.Tensor(0, shape=(), dtype=int32)\n",
            "tf.Tensor(1, shape=(), dtype=int32)\n",
            "tf.Tensor(1, shape=(), dtype=int32)\n",
            "tf.Tensor(0, shape=(), dtype=int32)\n",
            "tf.Tensor(0, shape=(), dtype=int32)\n",
            "tf.Tensor(0, shape=(), dtype=int32)\n",
            "tf.Tensor(0, shape=(), dtype=int32)\n",
            "tf.Tensor(0, shape=(), dtype=int32)\n",
            "tf.Tensor(0, shape=(), dtype=int32)\n",
            "tf.Tensor(1, shape=(), dtype=int32)\n",
            "tf.Tensor(0, shape=(), dtype=int32)\n",
            "tf.Tensor(0, shape=(), dtype=int32)\n",
            "tf.Tensor(0, shape=(), dtype=int32)\n",
            "tf.Tensor(0, shape=(), dtype=int32)\n",
            "tf.Tensor(0, shape=(), dtype=int32)\n",
            "tf.Tensor(1, shape=(), dtype=int32)\n",
            "tf.Tensor(0, shape=(), dtype=int32)\n",
            "tf.Tensor(0, shape=(), dtype=int32)\n",
            "tf.Tensor(1, shape=(), dtype=int32)\n",
            "tf.Tensor(0, shape=(), dtype=int32)\n",
            "tf.Tensor(1, shape=(), dtype=int32)\n",
            "tf.Tensor(0, shape=(), dtype=int32)\n",
            "tf.Tensor(1, shape=(), dtype=int32)\n",
            "tf.Tensor(1, shape=(), dtype=int32)\n",
            "tf.Tensor(0, shape=(), dtype=int32)\n",
            "tf.Tensor(0, shape=(), dtype=int32)\n",
            "tf.Tensor(1, shape=(), dtype=int32)\n",
            "tf.Tensor(0, shape=(), dtype=int32)\n",
            "tf.Tensor(1, shape=(), dtype=int32)\n",
            "tf.Tensor(0, shape=(), dtype=int32)\n",
            "tf.Tensor(0, shape=(), dtype=int32)\n",
            "tf.Tensor(1, shape=(), dtype=int32)\n",
            "tf.Tensor(0, shape=(), dtype=int32)\n",
            "tf.Tensor(1, shape=(), dtype=int32)\n",
            "tf.Tensor(0, shape=(), dtype=int32)\n",
            "tf.Tensor(1, shape=(), dtype=int32)\n",
            "tf.Tensor(1, shape=(), dtype=int32)\n",
            "tf.Tensor(0, shape=(), dtype=int32)\n",
            "tf.Tensor(1, shape=(), dtype=int32)\n",
            "tf.Tensor(0, shape=(), dtype=int32)\n",
            "tf.Tensor(0, shape=(), dtype=int32)\n",
            "tf.Tensor(1, shape=(), dtype=int32)\n",
            "tf.Tensor(0, shape=(), dtype=int32)\n",
            "tf.Tensor(0, shape=(), dtype=int32)\n",
            "tf.Tensor(1, shape=(), dtype=int32)\n",
            "tf.Tensor(1, shape=(), dtype=int32)\n",
            "tf.Tensor(0, shape=(), dtype=int32)\n",
            "tf.Tensor(0, shape=(), dtype=int32)\n",
            "tf.Tensor(0, shape=(), dtype=int32)\n",
            "tf.Tensor(0, shape=(), dtype=int32)\n",
            "tf.Tensor(0, shape=(), dtype=int32)\n",
            "tf.Tensor(1, shape=(), dtype=int32)\n",
            "tf.Tensor(0, shape=(), dtype=int32)\n",
            "tf.Tensor(0, shape=(), dtype=int32)\n",
            "tf.Tensor(1, shape=(), dtype=int32)\n",
            "tf.Tensor(1, shape=(), dtype=int32)\n",
            "tf.Tensor(0, shape=(), dtype=int32)\n",
            "tf.Tensor(0, shape=(), dtype=int32)\n",
            "tf.Tensor(0, shape=(), dtype=int32)\n",
            "tf.Tensor(1, shape=(), dtype=int32)\n",
            "tf.Tensor(0, shape=(), dtype=int32)\n",
            "tf.Tensor(0, shape=(), dtype=int32)\n",
            "tf.Tensor(0, shape=(), dtype=int32)\n",
            "tf.Tensor(0, shape=(), dtype=int32)\n",
            "tf.Tensor(1, shape=(), dtype=int32)\n",
            "tf.Tensor(1, shape=(), dtype=int32)\n",
            "tf.Tensor(0, shape=(), dtype=int32)\n",
            "tf.Tensor(0, shape=(), dtype=int32)\n",
            "tf.Tensor(0, shape=(), dtype=int32)\n",
            "tf.Tensor(1, shape=(), dtype=int32)\n",
            "tf.Tensor(1, shape=(), dtype=int32)\n",
            "tf.Tensor(1, shape=(), dtype=int32)\n",
            "tf.Tensor(0, shape=(), dtype=int32)\n",
            "tf.Tensor(0, shape=(), dtype=int32)\n",
            "tf.Tensor(1, shape=(), dtype=int32)\n",
            "tf.Tensor(1, shape=(), dtype=int32)\n",
            "tf.Tensor(1, shape=(), dtype=int32)\n",
            "tf.Tensor(1, shape=(), dtype=int32)\n",
            "tf.Tensor(0, shape=(), dtype=int32)\n",
            "tf.Tensor(1, shape=(), dtype=int32)\n",
            "tf.Tensor(0, shape=(), dtype=int32)\n",
            "tf.Tensor(1, shape=(), dtype=int32)\n",
            "tf.Tensor(1, shape=(), dtype=int32)\n",
            "tf.Tensor(0, shape=(), dtype=int32)\n",
            "tf.Tensor(0, shape=(), dtype=int32)\n",
            "tf.Tensor(0, shape=(), dtype=int32)\n",
            "tf.Tensor(0, shape=(), dtype=int32)\n",
            "tf.Tensor(0, shape=(), dtype=int32)\n",
            "tf.Tensor(1, shape=(), dtype=int32)\n",
            "tf.Tensor(1, shape=(), dtype=int32)\n",
            "tf.Tensor(1, shape=(), dtype=int32)\n",
            "tf.Tensor(0, shape=(), dtype=int32)\n",
            "tf.Tensor(1, shape=(), dtype=int32)\n",
            "tf.Tensor(0, shape=(), dtype=int32)\n",
            "tf.Tensor(1, shape=(), dtype=int32)\n",
            "tf.Tensor(1, shape=(), dtype=int32)\n",
            "tf.Tensor(0, shape=(), dtype=int32)\n",
            "tf.Tensor(0, shape=(), dtype=int32)\n",
            "tf.Tensor(0, shape=(), dtype=int32)\n",
            "tf.Tensor(1, shape=(), dtype=int32)\n",
            "tf.Tensor(0, shape=(), dtype=int32)\n",
            "tf.Tensor(0, shape=(), dtype=int32)\n",
            "tf.Tensor(1, shape=(), dtype=int32)\n",
            "tf.Tensor(1, shape=(), dtype=int32)\n",
            "tf.Tensor(1, shape=(), dtype=int32)\n",
            "tf.Tensor(1, shape=(), dtype=int32)\n",
            "tf.Tensor(1, shape=(), dtype=int32)\n",
            "tf.Tensor(0, shape=(), dtype=int32)\n",
            "tf.Tensor(0, shape=(), dtype=int32)\n",
            "tf.Tensor(1, shape=(), dtype=int32)\n",
            "tf.Tensor(1, shape=(), dtype=int32)\n",
            "tf.Tensor(1, shape=(), dtype=int32)\n",
            "tf.Tensor(1, shape=(), dtype=int32)\n",
            "tf.Tensor(0, shape=(), dtype=int32)\n",
            "tf.Tensor(0, shape=(), dtype=int32)\n",
            "tf.Tensor(1, shape=(), dtype=int32)\n",
            "tf.Tensor(0, shape=(), dtype=int32)\n",
            "tf.Tensor(1, shape=(), dtype=int32)\n",
            "tf.Tensor(0, shape=(), dtype=int32)\n",
            "tf.Tensor(0, shape=(), dtype=int32)\n",
            "tf.Tensor(0, shape=(), dtype=int32)\n",
            "tf.Tensor(0, shape=(), dtype=int32)\n"
          ],
          "name": "stdout"
        }
      ]
    },
    {
      "cell_type": "code",
      "metadata": {
        "id": "HqmuDjIyTcMD",
        "colab_type": "code",
        "outputId": "493036a8-4f3d-4097-d72e-f14a642ebaa6",
        "colab": {
          "base_uri": "https://localhost:8080/",
          "height": 35
        }
      },
      "source": [
        "#合并数据\n",
        "dataset=tf.data.Dataset.zip((image_dataset,label_dataset))\n",
        "#我们是以元组的形式进行zip的\n",
        "dataset"
      ],
      "execution_count": 0,
      "outputs": [
        {
          "output_type": "execute_result",
          "data": {
            "text/plain": [
              "<ZipDataset shapes: ((256, 256, 3), ()), types: (tf.float32, tf.int32)>"
            ]
          },
          "metadata": {
            "tags": []
          },
          "execution_count": 29
        }
      ]
    },
    {
      "cell_type": "code",
      "metadata": {
        "id": "BwszhCt0zcYT",
        "colab_type": "code",
        "colab": {}
      },
      "source": [
        "#划分train与test数据\n",
        "test_count=int(image_count/5)\n",
        "#必须是个整数所以我们加int\n",
        "train_count=image_count-test_count"
      ],
      "execution_count": 0,
      "outputs": []
    },
    {
      "cell_type": "code",
      "metadata": {
        "id": "sAzEf9v2gJVi",
        "colab_type": "code",
        "colab": {}
      },
      "source": [
        "train_dataset=dataset.skip(test_count)\n",
        "#skip就是掠过的意思\n",
        "#得到train_dataset的个数\n",
        "test_dataset=dataset.take(test_count)\n",
        "#take就是取的意思"
      ],
      "execution_count": 0,
      "outputs": []
    },
    {
      "cell_type": "code",
      "metadata": {
        "id": "C4k1Oxrplqov",
        "colab_type": "code",
        "outputId": "320745ca-d385-479d-8f20-6aa292e396df",
        "colab": {
          "base_uri": "https://localhost:8080/",
          "height": 35
        }
      },
      "source": [
        "BATCH_SIZE=32\n",
        "train_dataset=train_dataset.shuffle(buffer_size=train_count)\n",
        "train_dataset=train_dataset.batch(BATCH_SIZE)\n",
        "train_dataset"
      ],
      "execution_count": 0,
      "outputs": [
        {
          "output_type": "execute_result",
          "data": {
            "text/plain": [
              "<BatchDataset shapes: ((None, 256, 256, 3), (None,)), types: (tf.float32, tf.int32)>"
            ]
          },
          "metadata": {
            "tags": []
          },
          "execution_count": 45
        }
      ]
    },
    {
      "cell_type": "code",
      "metadata": {
        "id": "sz4fflzkoewM",
        "colab_type": "code",
        "colab": {}
      },
      "source": [
        "model=tf.keras.Sequential()\n",
        "model.add(tf.keras.layers.Conv2D(64,(3,3),\n",
        "                 input_shape=(256,256,3),\n",
        "                 activation='relu'))\n",
        "model.add(tf.keras.layers.Conv2D(64,(3,3),activation='relu'))\n",
        "model.add(tf.keras.layers.MaxPooling2D())\n",
        "model.add(tf.keras.layers.Dropout(0.3))\n",
        "model.add(tf.keras.layers.Conv2D(128,(3,3),activation='relu'))\n",
        "model.add(tf.keras.layers.Conv2D(128,(3,3),activation='relu'))\n",
        "model.add(tf.keras.layers.MaxPooling2D())\n",
        "model.add(tf.keras.layers.Dropout(0.3))\n",
        "model.add(tf.keras.layers.Conv2D(256,(3,3),activation='relu'))\n",
        "model.add(tf.keras.layers.Conv2D(256,(3,3),activation='relu'))\n",
        "model.add(tf.keras.layers.MaxPooling2D())\n",
        "model.add(tf.keras.layers.Dropout(0.3))\n",
        "model.add(tf.keras.layers.Conv2D(512,(3,3),activation='relu'))\n",
        "model.add(tf.keras.layers.Conv2D(512,(3,3),activation='relu'))\n",
        "model.add(tf.keras.layers.MaxPooling2D())\n",
        "model.add(tf.keras.layers.Dropout(0.3))\n",
        "model.add(tf.keras.layers.Conv2D(1024,(3,3),activation='relu'))\n",
        "model.add(tf.keras.layers.GlobalAveragePooling2D())\n",
        "model.add(tf.keras.layers.Dense(1024,activation='relu'))\n",
        "model.add(tf.keras.layers.Dense(256,activation='relu'))\n",
        "model.add(tf.keras.layers.Dense(1,activation='sigmoid'))"
      ],
      "execution_count": 0,
      "outputs": []
    },
    {
      "cell_type": "code",
      "metadata": {
        "id": "mmgx92t7wtWR",
        "colab_type": "code",
        "outputId": "575b941b-a551-42cc-9898-50cfe088cc5a",
        "colab": {
          "base_uri": "https://localhost:8080/",
          "height": 881
        }
      },
      "source": [
        "model.summary()"
      ],
      "execution_count": 0,
      "outputs": [
        {
          "output_type": "stream",
          "text": [
            "Model: \"sequential_1\"\n",
            "_________________________________________________________________\n",
            "Layer (type)                 Output Shape              Param #   \n",
            "=================================================================\n",
            "conv2d_9 (Conv2D)            (None, 254, 254, 64)      1792      \n",
            "_________________________________________________________________\n",
            "conv2d_10 (Conv2D)           (None, 252, 252, 64)      36928     \n",
            "_________________________________________________________________\n",
            "max_pooling2d_4 (MaxPooling2 (None, 126, 126, 64)      0         \n",
            "_________________________________________________________________\n",
            "dropout_4 (Dropout)          (None, 126, 126, 64)      0         \n",
            "_________________________________________________________________\n",
            "conv2d_11 (Conv2D)           (None, 124, 124, 128)     73856     \n",
            "_________________________________________________________________\n",
            "conv2d_12 (Conv2D)           (None, 122, 122, 128)     147584    \n",
            "_________________________________________________________________\n",
            "max_pooling2d_5 (MaxPooling2 (None, 61, 61, 128)       0         \n",
            "_________________________________________________________________\n",
            "dropout_5 (Dropout)          (None, 61, 61, 128)       0         \n",
            "_________________________________________________________________\n",
            "conv2d_13 (Conv2D)           (None, 59, 59, 256)       295168    \n",
            "_________________________________________________________________\n",
            "conv2d_14 (Conv2D)           (None, 57, 57, 256)       590080    \n",
            "_________________________________________________________________\n",
            "max_pooling2d_6 (MaxPooling2 (None, 28, 28, 256)       0         \n",
            "_________________________________________________________________\n",
            "dropout_6 (Dropout)          (None, 28, 28, 256)       0         \n",
            "_________________________________________________________________\n",
            "conv2d_15 (Conv2D)           (None, 26, 26, 512)       1180160   \n",
            "_________________________________________________________________\n",
            "conv2d_16 (Conv2D)           (None, 24, 24, 512)       2359808   \n",
            "_________________________________________________________________\n",
            "max_pooling2d_7 (MaxPooling2 (None, 12, 12, 512)       0         \n",
            "_________________________________________________________________\n",
            "dropout_7 (Dropout)          (None, 12, 12, 512)       0         \n",
            "_________________________________________________________________\n",
            "conv2d_17 (Conv2D)           (None, 10, 10, 1024)      4719616   \n",
            "_________________________________________________________________\n",
            "global_average_pooling2d_1 ( (None, 1024)              0         \n",
            "_________________________________________________________________\n",
            "dense_3 (Dense)              (None, 1024)              1049600   \n",
            "_________________________________________________________________\n",
            "dense_4 (Dense)              (None, 256)               262400    \n",
            "_________________________________________________________________\n",
            "dense_5 (Dense)              (None, 1)                 257       \n",
            "=================================================================\n",
            "Total params: 10,717,249\n",
            "Trainable params: 10,717,249\n",
            "Non-trainable params: 0\n",
            "_________________________________________________________________\n"
          ],
          "name": "stdout"
        }
      ]
    },
    {
      "cell_type": "code",
      "metadata": {
        "id": "_VhogvaUycnl",
        "colab_type": "code",
        "colab": {}
      },
      "source": [
        "#编译模型\n",
        "model.compile(optimizer='adam',\n",
        "                          loss='binary_crossentropy',\n",
        "                          metrics=['acc'] )"
      ],
      "execution_count": 0,
      "outputs": []
    },
    {
      "cell_type": "markdown",
      "metadata": {
        "id": "DdMyh0DezW8U",
        "colab_type": "text"
      },
      "source": [
        "##确定epoch的数量\n",
        "\n",
        "所以我们要告诉他一个batch是多少步所以要这么算，\n",
        "这样告诉模型我们训练要多少个epoch"
      ]
    },
    {
      "cell_type": "code",
      "metadata": {
        "id": "FJhTVtGvzbfW",
        "colab_type": "code",
        "outputId": "79556456-66d5-4b59-dab3-4e934b8de99c",
        "colab": {
          "base_uri": "https://localhost:8080/",
          "height": 35
        }
      },
      "source": [
        "steps_per_epoch=train_count//BATCH_SIZE\n",
        "validation_steps=test_count//BATCH_SIZE\n",
        "validation_steps"
      ],
      "execution_count": 0,
      "outputs": [
        {
          "output_type": "execute_result",
          "data": {
            "text/plain": [
              "8"
            ]
          },
          "metadata": {
            "tags": []
          },
          "execution_count": 49
        }
      ]
    },
    {
      "cell_type": "markdown",
      "metadata": {
        "id": "uC4YMg7czzBX",
        "colab_type": "text"
      },
      "source": [
        "##运行模型"
      ]
    },
    {
      "cell_type": "markdown",
      "metadata": {
        "id": "a5XU9ayW5iFo",
        "colab_type": "text"
      },
      "source": [
        "这个地方我使用视频中的代码会报错，所以我没有使用数据集，也没有使用validation"
      ]
    },
    {
      "cell_type": "code",
      "metadata": {
        "id": "oJ7sBdP_zyMy",
        "colab_type": "code",
        "outputId": "2a5bce5e-9bcd-4182-d511-5fbaa9b4d9a0",
        "colab": {
          "base_uri": "https://localhost:8080/",
          "height": 1000
        }
      },
      "source": [
        "history=model.fit(train_dataset,epochs=30\n",
        "                )"
      ],
      "execution_count": 0,
      "outputs": [
        {
          "output_type": "stream",
          "text": [
            "Train for 35 steps\n",
            "Epoch 1/30\n",
            "35/35 [==============================] - 14s 402ms/step - loss: 0.6931 - acc: 0.5071\n",
            "Epoch 2/30\n",
            "35/35 [==============================] - 14s 401ms/step - loss: 0.6932 - acc: 0.5071\n",
            "Epoch 3/30\n",
            "35/35 [==============================] - 14s 402ms/step - loss: 0.6936 - acc: 0.5071\n",
            "Epoch 4/30\n",
            "35/35 [==============================] - 14s 404ms/step - loss: 0.6933 - acc: 0.4911\n",
            "Epoch 5/30\n",
            "35/35 [==============================] - 14s 406ms/step - loss: 0.6933 - acc: 0.5071\n",
            "Epoch 6/30\n",
            "35/35 [==============================] - 14s 412ms/step - loss: 0.6931 - acc: 0.5071\n",
            "Epoch 7/30\n",
            "35/35 [==============================] - 14s 412ms/step - loss: 0.6931 - acc: 0.5071\n",
            "Epoch 8/30\n",
            "35/35 [==============================] - 14s 412ms/step - loss: 0.6933 - acc: 0.5071\n",
            "Epoch 9/30\n",
            "35/35 [==============================] - 14s 413ms/step - loss: 0.6932 - acc: 0.5071\n",
            "Epoch 10/30\n",
            "35/35 [==============================] - 15s 415ms/step - loss: 0.6933 - acc: 0.5071\n",
            "Epoch 11/30\n",
            "35/35 [==============================] - 15s 418ms/step - loss: 0.6932 - acc: 0.5071\n",
            "Epoch 12/30\n",
            "35/35 [==============================] - 15s 419ms/step - loss: 0.6931 - acc: 0.5071\n",
            "Epoch 13/30\n",
            "35/35 [==============================] - 15s 418ms/step - loss: 0.6931 - acc: 0.5071\n",
            "Epoch 14/30\n",
            "35/35 [==============================] - 15s 418ms/step - loss: 0.6932 - acc: 0.5071\n",
            "Epoch 15/30\n",
            "35/35 [==============================] - 15s 418ms/step - loss: 0.6931 - acc: 0.5071\n",
            "Epoch 16/30\n",
            "35/35 [==============================] - 15s 419ms/step - loss: 0.6931 - acc: 0.5071\n",
            "Epoch 17/30\n",
            "35/35 [==============================] - 15s 420ms/step - loss: 0.6932 - acc: 0.5071\n",
            "Epoch 18/30\n",
            "35/35 [==============================] - 15s 420ms/step - loss: 0.6930 - acc: 0.5071\n",
            "Epoch 19/30\n",
            "35/35 [==============================] - 15s 420ms/step - loss: 0.6931 - acc: 0.5071\n",
            "Epoch 20/30\n",
            "35/35 [==============================] - 15s 421ms/step - loss: 0.6931 - acc: 0.5071\n",
            "Epoch 21/30\n",
            "35/35 [==============================] - 15s 421ms/step - loss: 0.6931 - acc: 0.5071\n",
            "Epoch 22/30\n",
            "35/35 [==============================] - 15s 422ms/step - loss: 0.6931 - acc: 0.5071\n",
            "Epoch 23/30\n",
            "35/35 [==============================] - 15s 421ms/step - loss: 0.6932 - acc: 0.5071\n",
            "Epoch 24/30\n",
            "35/35 [==============================] - 15s 422ms/step - loss: 0.6931 - acc: 0.5071\n",
            "Epoch 25/30\n",
            "35/35 [==============================] - 15s 422ms/step - loss: 0.6931 - acc: 0.5071\n",
            "Epoch 26/30\n",
            "35/35 [==============================] - 15s 421ms/step - loss: 0.6931 - acc: 0.5071\n",
            "Epoch 27/30\n",
            "35/35 [==============================] - 15s 421ms/step - loss: 0.6931 - acc: 0.5071\n",
            "Epoch 28/30\n",
            "35/35 [==============================] - 15s 420ms/step - loss: 0.6931 - acc: 0.5071\n",
            "Epoch 29/30\n",
            "35/35 [==============================] - 15s 421ms/step - loss: 0.6931 - acc: 0.5071\n",
            "Epoch 30/30\n",
            "35/35 [==============================] - 15s 420ms/step - loss: 0.6931 - acc: 0.5071\n"
          ],
          "name": "stdout"
        }
      ]
    }
  ]
}