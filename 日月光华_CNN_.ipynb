{
  "nbformat": 4,
  "nbformat_minor": 0,
  "metadata": {
    "colab": {
      "name": "日月光华 CNN .ipynb",
      "provenance": [],
      "authorship_tag": "ABX9TyO6tbrjhOMn60sAI/3b5kTw",
      "include_colab_link": true
    },
    "kernelspec": {
      "name": "python3",
      "display_name": "Python 3"
    },
    "accelerator": "GPU"
  },
  "cells": [
    {
      "cell_type": "markdown",
      "metadata": {
        "id": "view-in-github",
        "colab_type": "text"
      },
      "source": [
        "<a href=\"https://colab.research.google.com/github/sunyingjian/study-tensorflow/blob/master/%E6%97%A5%E6%9C%88%E5%85%89%E5%8D%8E_CNN_.ipynb\" target=\"_parent\"><img src=\"https://colab.research.google.com/assets/colab-badge.svg\" alt=\"Open In Colab\"/></a>"
      ]
    },
    {
      "cell_type": "code",
      "metadata": {
        "id": "o_20XGxTn_nQ",
        "colab_type": "code",
        "outputId": "3a00052b-c8e5-4db7-ba5e-2da73f6853c5",
        "colab": {
          "base_uri": "https://localhost:8080/",
          "height": 35
        }
      },
      "source": [
        "%tensorflow_version 2.x\n",
        "import tensorflow as tf\n",
        "print('tensorflow:',format(tf.__version__))\n",
        "tf.config.list_physical_devices('GPU')\n",
        "tf.test.is_gpu_available()\n",
        "import numpy as np\n",
        "from tensorflow import keras\n",
        "from keras import layers\n",
        "import matplotlib.pyplot as plt\n",
        "%matplotlib inline"
      ],
      "execution_count": 0,
      "outputs": [
        {
          "output_type": "stream",
          "text": [
            "tensorflow: 2.1.0\n"
          ],
          "name": "stdout"
        }
      ]
    },
    {
      "cell_type": "code",
      "metadata": {
        "id": "ad_QlNdtNSez",
        "colab_type": "code",
        "outputId": "9644032b-11b8-4ac2-db0f-0fb02358d525",
        "colab": {
          "base_uri": "https://localhost:8080/",
          "height": 156
        }
      },
      "source": [
        "fashion_mnist=keras.datasets.fashion_mnist\n",
        "(train_images,train_labels),(test_images,test_labels)=fashion_mnist.load_data()"
      ],
      "execution_count": 0,
      "outputs": [
        {
          "output_type": "stream",
          "text": [
            "Downloading data from https://storage.googleapis.com/tensorflow/tf-keras-datasets/train-labels-idx1-ubyte.gz\n",
            "32768/29515 [=================================] - 0s 0us/step\n",
            "Downloading data from https://storage.googleapis.com/tensorflow/tf-keras-datasets/train-images-idx3-ubyte.gz\n",
            "26427392/26421880 [==============================] - 0s 0us/step\n",
            "Downloading data from https://storage.googleapis.com/tensorflow/tf-keras-datasets/t10k-labels-idx1-ubyte.gz\n",
            "8192/5148 [===============================================] - 0s 0us/step\n",
            "Downloading data from https://storage.googleapis.com/tensorflow/tf-keras-datasets/t10k-images-idx3-ubyte.gz\n",
            "4423680/4422102 [==============================] - 0s 0us/step\n"
          ],
          "name": "stdout"
        }
      ]
    },
    {
      "cell_type": "code",
      "metadata": {
        "id": "S6iG0axbMcOZ",
        "colab_type": "code",
        "outputId": "5499c77d-d5d5-4b2e-c1c1-eb136f23a69e",
        "colab": {
          "base_uri": "https://localhost:8080/",
          "height": 35
        }
      },
      "source": [
        "train_images.shape"
      ],
      "execution_count": 0,
      "outputs": [
        {
          "output_type": "execute_result",
          "data": {
            "text/plain": [
              "(60000, 28, 28)"
            ]
          },
          "metadata": {
            "tags": []
          },
          "execution_count": 4
        }
      ]
    },
    {
      "cell_type": "code",
      "metadata": {
        "id": "Esbp2s0EtJ6N",
        "colab_type": "code",
        "colab": {}
      },
      "source": [
        "train_images=np.expand_dims(train_images,-1)\n",
        "test_images=np.expand_dims(test_images,-1)"
      ],
      "execution_count": 0,
      "outputs": []
    },
    {
      "cell_type": "code",
      "metadata": {
        "id": "uIh2HEdctetQ",
        "colab_type": "code",
        "outputId": "de409118-bf52-4596-97c9-28d6eb83e112",
        "colab": {
          "base_uri": "https://localhost:8080/",
          "height": 35
        }
      },
      "source": [
        "train_images.shape"
      ],
      "execution_count": 0,
      "outputs": [
        {
          "output_type": "execute_result",
          "data": {
            "text/plain": [
              "(60000, 28, 28, 1)"
            ]
          },
          "metadata": {
            "tags": []
          },
          "execution_count": 6
        }
      ]
    },
    {
      "cell_type": "code",
      "metadata": {
        "id": "LBwJ4qqPMe8K",
        "colab_type": "code",
        "outputId": "1937019a-1d58-45e6-babf-fe506001c20c",
        "colab": {
          "base_uri": "https://localhost:8080/",
          "height": 35
        }
      },
      "source": [
        "test_images.shape"
      ],
      "execution_count": 0,
      "outputs": [
        {
          "output_type": "execute_result",
          "data": {
            "text/plain": [
              "(10000, 28, 28, 1)"
            ]
          },
          "metadata": {
            "tags": []
          },
          "execution_count": 7
        }
      ]
    },
    {
      "cell_type": "code",
      "metadata": {
        "id": "GwYp8dtHMh42",
        "colab_type": "code",
        "outputId": "1909f335-e9b6-4c81-cb4d-64ba1c8544d5",
        "colab": {
          "base_uri": "https://localhost:8080/",
          "height": 35
        }
      },
      "source": [
        "test_labels"
      ],
      "execution_count": 0,
      "outputs": [
        {
          "output_type": "execute_result",
          "data": {
            "text/plain": [
              "array([9, 2, 1, ..., 8, 1, 5], dtype=uint8)"
            ]
          },
          "metadata": {
            "tags": []
          },
          "execution_count": 8
        }
      ]
    },
    {
      "cell_type": "code",
      "metadata": {
        "id": "2Rgj-wvBzTHN",
        "colab_type": "code",
        "colab": {}
      },
      "source": [
        "model=tf.keras.Sequential()#使用顺序模型\n",
        "model.add(tf.keras.layers.Conv2D(64,(3,3),\n",
        "     input_shape=train_images.shape[1:],\n",
        "     activation='relu',\n",
        "     padding='same'))\n",
        "model.add(tf.keras.layers.Conv2D(64,(3,3),\n",
        "     activation='relu',\n",
        "     padding='same'))\n",
        "model.add(tf.keras.layers.MaxPool2D())\n",
        "model.add(tf.keras.layers.Dropout(0.5))\n",
        "model.add(tf.keras.layers.Conv2D(128,(3,3),activation='relu',\n",
        "                 padding='same'))\n",
        "model.add(tf.keras.layers.Conv2D(128,(3,3),\n",
        "     activation='relu',\n",
        "     padding='same'))\n",
        "model.add(tf.keras.layers.MaxPool2D())\n",
        "model.add(tf.keras.layers.Dropout(0.5))\n",
        "model.add(tf.keras.layers.Conv2D(256,(3,3),\n",
        "     activation='relu',\n",
        "     padding='same'))\n",
        "model.add(tf.keras.layers.Conv2D(256,(3,3),\n",
        "     activation='relu',\n",
        "     padding='same'))\n",
        "model.add(tf.keras.layers.MaxPool2D())\n",
        "model.add(tf.keras.layers.Dropout(0.5))\n",
        "model.add(tf.keras.layers.Conv2D(512,(3,3),\n",
        "     activation='relu',\n",
        "     padding='same'))\n",
        "model.add(tf.keras.layers.Conv2D(512,(3,3),\n",
        "     activation='relu',\n",
        "     padding='same'))\n",
        "model.add(tf.keras.layers.GlobalAveragePooling2D())\n",
        "model.add(tf.keras.layers.Dropout(0.5))\n",
        "model.add(tf.keras.layers.Dense(256,activation='relu'))\n",
        "model.add(tf.keras.layers.Dense(10,activation='softmax'))"
      ],
      "execution_count": 0,
      "outputs": []
    },
    {
      "cell_type": "code",
      "metadata": {
        "id": "4nOggCEj6zlt",
        "colab_type": "code",
        "outputId": "0366144d-21a2-46e9-d6f6-4f0dea57170c",
        "colab": {
          "base_uri": "https://localhost:8080/",
          "height": 783
        }
      },
      "source": [
        "model.summary()"
      ],
      "execution_count": 0,
      "outputs": [
        {
          "output_type": "stream",
          "text": [
            "Model: \"sequential_9\"\n",
            "_________________________________________________________________\n",
            "Layer (type)                 Output Shape              Param #   \n",
            "=================================================================\n",
            "conv2d_46 (Conv2D)           (None, 28, 28, 64)        640       \n",
            "_________________________________________________________________\n",
            "conv2d_47 (Conv2D)           (None, 28, 28, 64)        36928     \n",
            "_________________________________________________________________\n",
            "max_pooling2d_15 (MaxPooling (None, 14, 14, 64)        0         \n",
            "_________________________________________________________________\n",
            "dropout_24 (Dropout)         (None, 14, 14, 64)        0         \n",
            "_________________________________________________________________\n",
            "conv2d_48 (Conv2D)           (None, 14, 14, 128)       73856     \n",
            "_________________________________________________________________\n",
            "conv2d_49 (Conv2D)           (None, 14, 14, 128)       147584    \n",
            "_________________________________________________________________\n",
            "max_pooling2d_16 (MaxPooling (None, 7, 7, 128)         0         \n",
            "_________________________________________________________________\n",
            "dropout_25 (Dropout)         (None, 7, 7, 128)         0         \n",
            "_________________________________________________________________\n",
            "conv2d_50 (Conv2D)           (None, 7, 7, 256)         295168    \n",
            "_________________________________________________________________\n",
            "conv2d_51 (Conv2D)           (None, 7, 7, 256)         590080    \n",
            "_________________________________________________________________\n",
            "max_pooling2d_17 (MaxPooling (None, 3, 3, 256)         0         \n",
            "_________________________________________________________________\n",
            "dropout_26 (Dropout)         (None, 3, 3, 256)         0         \n",
            "_________________________________________________________________\n",
            "conv2d_52 (Conv2D)           (None, 3, 3, 512)         1180160   \n",
            "_________________________________________________________________\n",
            "conv2d_53 (Conv2D)           (None, 3, 3, 512)         2359808   \n",
            "_________________________________________________________________\n",
            "global_average_pooling2d_6 ( (None, 512)               0         \n",
            "_________________________________________________________________\n",
            "dropout_27 (Dropout)         (None, 512)               0         \n",
            "_________________________________________________________________\n",
            "dense_12 (Dense)             (None, 256)               131328    \n",
            "_________________________________________________________________\n",
            "dense_13 (Dense)             (None, 10)                2570      \n",
            "=================================================================\n",
            "Total params: 4,818,122\n",
            "Trainable params: 4,818,122\n",
            "Non-trainable params: 0\n",
            "_________________________________________________________________\n"
          ],
          "name": "stdout"
        }
      ]
    },
    {
      "cell_type": "code",
      "metadata": {
        "id": "dTmAOyRQDvGk",
        "colab_type": "code",
        "colab": {}
      },
      "source": [
        "model.compile(optimizer='adam',\n",
        "       loss='sparse_categorical_crossentropy',\n",
        "       metrics=['acc'])"
      ],
      "execution_count": 0,
      "outputs": []
    },
    {
      "cell_type": "code",
      "metadata": {
        "id": "q_o1Xp4Os1dS",
        "colab_type": "code",
        "outputId": "733e0647-b2f5-4ce9-f20f-ca1cc924d4d1",
        "colab": {
          "base_uri": "https://localhost:8080/",
          "height": 1000
        }
      },
      "source": [
        "history=model.fit(train_images,train_labels,\n",
        "         epochs=30,\n",
        "         validation_data=(test_images,test_labels))"
      ],
      "execution_count": 0,
      "outputs": [
        {
          "output_type": "stream",
          "text": [
            "Train on 60000 samples, validate on 10000 samples\n",
            "Epoch 1/30\n",
            "60000/60000 [==============================] - 38s 637us/sample - loss: 0.8016 - acc: 0.6969 - val_loss: 0.4366 - val_acc: 0.8328\n",
            "Epoch 2/30\n",
            "60000/60000 [==============================] - 37s 624us/sample - loss: 0.4709 - acc: 0.8260 - val_loss: 0.4220 - val_acc: 0.8516\n",
            "Epoch 3/30\n",
            "60000/60000 [==============================] - 38s 626us/sample - loss: 0.4323 - acc: 0.8415 - val_loss: 0.3867 - val_acc: 0.8546\n",
            "Epoch 4/30\n",
            "60000/60000 [==============================] - 38s 628us/sample - loss: 0.4113 - acc: 0.8489 - val_loss: 0.3671 - val_acc: 0.8550\n",
            "Epoch 5/30\n",
            "60000/60000 [==============================] - 38s 628us/sample - loss: 0.3926 - acc: 0.8566 - val_loss: 0.3641 - val_acc: 0.8609\n",
            "Epoch 6/30\n",
            "60000/60000 [==============================] - 38s 626us/sample - loss: 0.3836 - acc: 0.8600 - val_loss: 0.3399 - val_acc: 0.8757\n",
            "Epoch 7/30\n",
            "60000/60000 [==============================] - 38s 627us/sample - loss: 0.3822 - acc: 0.8593 - val_loss: 0.3523 - val_acc: 0.8682\n",
            "Epoch 8/30\n",
            "60000/60000 [==============================] - 38s 628us/sample - loss: 0.3681 - acc: 0.8656 - val_loss: 0.3358 - val_acc: 0.8749\n",
            "Epoch 9/30\n",
            "60000/60000 [==============================] - 38s 627us/sample - loss: 0.3726 - acc: 0.8638 - val_loss: 0.3331 - val_acc: 0.8771\n",
            "Epoch 10/30\n",
            "60000/60000 [==============================] - 38s 628us/sample - loss: 0.3667 - acc: 0.8673 - val_loss: 0.3351 - val_acc: 0.8737\n",
            "Epoch 11/30\n",
            "60000/60000 [==============================] - 38s 627us/sample - loss: 0.3603 - acc: 0.8684 - val_loss: 0.3289 - val_acc: 0.8737\n",
            "Epoch 12/30\n",
            "60000/60000 [==============================] - 38s 628us/sample - loss: 0.3594 - acc: 0.8686 - val_loss: 0.3215 - val_acc: 0.8809\n",
            "Epoch 13/30\n",
            "60000/60000 [==============================] - 38s 631us/sample - loss: 0.3620 - acc: 0.8700 - val_loss: 0.3757 - val_acc: 0.8566\n",
            "Epoch 14/30\n",
            "60000/60000 [==============================] - 38s 629us/sample - loss: 0.3532 - acc: 0.8720 - val_loss: 0.3155 - val_acc: 0.8786\n",
            "Epoch 15/30\n",
            "60000/60000 [==============================] - 38s 626us/sample - loss: 0.3607 - acc: 0.8708 - val_loss: 0.3260 - val_acc: 0.8740\n",
            "Epoch 16/30\n",
            "60000/60000 [==============================] - 38s 628us/sample - loss: 0.3551 - acc: 0.8713 - val_loss: 0.3281 - val_acc: 0.8765\n",
            "Epoch 17/30\n",
            "60000/60000 [==============================] - 38s 628us/sample - loss: 0.3591 - acc: 0.8698 - val_loss: 0.3369 - val_acc: 0.8691\n",
            "Epoch 18/30\n",
            "60000/60000 [==============================] - 38s 629us/sample - loss: 0.3538 - acc: 0.8726 - val_loss: 0.3240 - val_acc: 0.8786\n",
            "Epoch 19/30\n",
            "60000/60000 [==============================] - 38s 629us/sample - loss: 0.3536 - acc: 0.8721 - val_loss: 0.3386 - val_acc: 0.8704\n",
            "Epoch 20/30\n",
            "60000/60000 [==============================] - 38s 627us/sample - loss: 0.3558 - acc: 0.8718 - val_loss: 0.3318 - val_acc: 0.8775\n",
            "Epoch 21/30\n",
            "60000/60000 [==============================] - 38s 628us/sample - loss: 0.3556 - acc: 0.8719 - val_loss: 0.3257 - val_acc: 0.8799\n",
            "Epoch 22/30\n",
            "60000/60000 [==============================] - 38s 633us/sample - loss: 0.3567 - acc: 0.8721 - val_loss: 0.3177 - val_acc: 0.8807\n",
            "Epoch 23/30\n",
            "60000/60000 [==============================] - 38s 629us/sample - loss: 0.3518 - acc: 0.8734 - val_loss: 0.3151 - val_acc: 0.8881\n",
            "Epoch 24/30\n",
            "60000/60000 [==============================] - 38s 628us/sample - loss: 0.3550 - acc: 0.8738 - val_loss: 0.3576 - val_acc: 0.8627\n",
            "Epoch 25/30\n",
            "60000/60000 [==============================] - 38s 630us/sample - loss: 0.3591 - acc: 0.8724 - val_loss: 0.3281 - val_acc: 0.8756\n",
            "Epoch 26/30\n",
            "60000/60000 [==============================] - 38s 627us/sample - loss: 0.3548 - acc: 0.8714 - val_loss: 0.3088 - val_acc: 0.8879\n",
            "Epoch 27/30\n",
            "60000/60000 [==============================] - 38s 628us/sample - loss: 0.3690 - acc: 0.8676 - val_loss: 0.3594 - val_acc: 0.8601\n",
            "Epoch 28/30\n",
            "60000/60000 [==============================] - 38s 628us/sample - loss: 0.3742 - acc: 0.8654 - val_loss: 0.3214 - val_acc: 0.8722\n",
            "Epoch 29/30\n",
            "60000/60000 [==============================] - 38s 630us/sample - loss: 0.3780 - acc: 0.8681 - val_loss: 0.3338 - val_acc: 0.8723\n",
            "Epoch 30/30\n",
            "60000/60000 [==============================] - 38s 632us/sample - loss: 0.3577 - acc: 0.8725 - val_loss: 0.3172 - val_acc: 0.8767\n"
          ],
          "name": "stdout"
        }
      ]
    },
    {
      "cell_type": "code",
      "metadata": {
        "id": "7tdOtV5d7_bk",
        "colab_type": "code",
        "outputId": "ca64423d-c123-429d-c434-5bac385e2140",
        "colab": {
          "base_uri": "https://localhost:8080/",
          "height": 35
        }
      },
      "source": [
        "history.history.keys()"
      ],
      "execution_count": 0,
      "outputs": [
        {
          "output_type": "execute_result",
          "data": {
            "text/plain": [
              "dict_keys(['loss', 'acc', 'val_loss', 'val_acc'])"
            ]
          },
          "metadata": {
            "tags": []
          },
          "execution_count": 43
        }
      ]
    },
    {
      "cell_type": "code",
      "metadata": {
        "id": "kzzvxtNV8SEc",
        "colab_type": "code",
        "outputId": "85e94da2-45e8-4ef8-d801-f19f8bfa4cb2",
        "colab": {
          "base_uri": "https://localhost:8080/",
          "height": 283
        }
      },
      "source": [
        "plt.plot(history.epoch,history.history.get('acc'),label='acc')\n",
        "plt.plot(history.epoch,history.history.get('val_acc'),label='val_acc')"
      ],
      "execution_count": 0,
      "outputs": [
        {
          "output_type": "execute_result",
          "data": {
            "text/plain": [
              "[<matplotlib.lines.Line2D at 0x7f490c272cc0>]"
            ]
          },
          "metadata": {
            "tags": []
          },
          "execution_count": 44
        },
        {
          "output_type": "display_data",
          "data": {
            "image/png": "[encoded data removed]",
            "text/plain": [
              "<Figure size 432x288 with 1 Axes>"
            ]
          },
          "metadata": {
            "tags": []
          }
        }
      ]
    },
    {
      "cell_type": "code",
      "metadata": {
        "id": "ulOM8adwhxqn",
        "colab_type": "code",
        "outputId": "dc4c5409-160f-4154-e6fa-2392b9c1c597",
        "colab": {
          "base_uri": "https://localhost:8080/",
          "height": 283
        }
      },
      "source": [
        "plt.plot(history.epoch,history.history.get('loss'),label='loss')\n",
        "plt.plot(history.epoch,history.history.get('val_loss'),label='val_loss')"
      ],
      "execution_count": 0,
      "outputs": [
        {
          "output_type": "execute_result",
          "data": {
            "text/plain": [
              "[<matplotlib.lines.Line2D at 0x7f48fe764eb8>]"
            ]
          },
          "metadata": {
            "tags": []
          },
          "execution_count": 42
        },
        {
          "output_type": "display_data",
          "data": {
            "image/png": "[encoded data removed]",
            "text/plain": [
              "<Figure size 432x288 with 1 Axes>"
            ]
          },
          "metadata": {
            "tags": []
          }
        }
      ]
    }
  ]
}